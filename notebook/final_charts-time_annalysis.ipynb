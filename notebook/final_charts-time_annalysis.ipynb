{
 "cells": [
  {
   "cell_type": "code",
   "execution_count": 169,
   "metadata": {},
   "outputs": [],
   "source": [
    "import pandas as pd\n",
    "import plotly.express as px\n",
    "from raceplotly.plots import barplot"
   ]
  },
  {
   "cell_type": "code",
   "execution_count": 170,
   "metadata": {},
   "outputs": [],
   "source": [
    "df = pd.read_feather('sample2012.feather').explode('Tags')\n",
    "\n",
    "df = df[(df.CreationDate > \"2018-01-01\") & (df.CreationDate < \"2022-08-30\")]"
   ]
  },
  {
   "cell_type": "code",
   "execution_count": 171,
   "metadata": {},
   "outputs": [],
   "source": [
    "tags = (\n",
    "    df\n",
    "    .groupby([df.CreationDate.dt.to_period(\"M\"), \"Tags\"])\n",
    "    .agg({\"ViewCount\": \"sum\", \"AnswerCount\": \"sum\", \"index\": \"count\",\"CommentCount\": \"sum\"})\n",
    "    .reset_index()\n",
    ")\n",
    "\n",
    "tags = tags.rename(columns={\"index\": \"PostCount\"})"
   ]
  },
  {
   "cell_type": "markdown",
   "metadata": {},
   "source": [
    "# Only baking and bread"
   ]
  },
  {
   "cell_type": "code",
   "execution_count": 172,
   "metadata": {},
   "outputs": [],
   "source": [
    "mylist = ['baking','bread','sourdough']\n",
    "\n",
    "mytags = tags[tags.Tags.isin(mylist)].copy()\n",
    "\n",
    "mytags.CommentCount = mytags.CommentCount.astype(int)"
   ]
  },
  {
   "cell_type": "code",
   "execution_count": 173,
   "metadata": {},
   "outputs": [
    {
     "data": {
      "application/vnd.plotly.v1+json": {
       "config": {
        "plotlyServerURL": "https://plot.ly"
       },
       "data": [
        {
         "hovertemplate": "Tags=baking<br>x=%{x}<br>PostCount=%{y}<br>CommentCount=%{marker.size}<extra></extra>",
         "legendgroup": "baking",
         "marker": {
          "color": "#636efa",
          "size": [
           57,
           22,
           37,
           19,
           28,
           22,
           15,
           27,
           38,
           28,
           39,
           54,
           45,
           41,
           49,
           30,
           47,
           57,
           42,
           35,
           22,
           57,
           39,
           36,
           34,
           68,
           30,
           45,
           65,
           26,
           41,
           29,
           34,
           32,
           42,
           47,
           24,
           30,
           12,
           39,
           43,
           29,
           19,
           10,
           17,
           19,
           9,
           20,
           39,
           12,
           15,
           23,
           18,
           2,
           19,
           16
          ],
          "sizemode": "area",
          "sizeref": 0.2225,
          "symbol": "circle"
         },
         "mode": "markers",
         "name": "baking",
         "orientation": "v",
         "showlegend": true,
         "type": "scatter",
         "x": [
          "2018-01-01T00:00:00",
          "2018-02-01T00:00:00",
          "2018-03-01T00:00:00",
          "2018-04-01T00:00:00",
          "2018-05-01T00:00:00",
          "2018-06-01T00:00:00",
          "2018-07-01T00:00:00",
          "2018-08-01T00:00:00",
          "2018-09-01T00:00:00",
          "2018-10-01T00:00:00",
          "2018-11-01T00:00:00",
          "2018-12-01T00:00:00",
          "2019-01-01T00:00:00",
          "2019-02-01T00:00:00",
          "2019-03-01T00:00:00",
          "2019-04-01T00:00:00",
          "2019-05-01T00:00:00",
          "2019-06-01T00:00:00",
          "2019-07-01T00:00:00",
          "2019-08-01T00:00:00",
          "2019-09-01T00:00:00",
          "2019-10-01T00:00:00",
          "2019-11-01T00:00:00",
          "2019-12-01T00:00:00",
          "2020-01-01T00:00:00",
          "2020-02-01T00:00:00",
          "2020-03-01T00:00:00",
          "2020-04-01T00:00:00",
          "2020-05-01T00:00:00",
          "2020-06-01T00:00:00",
          "2020-07-01T00:00:00",
          "2020-08-01T00:00:00",
          "2020-09-01T00:00:00",
          "2020-10-01T00:00:00",
          "2020-11-01T00:00:00",
          "2020-12-01T00:00:00",
          "2021-01-01T00:00:00",
          "2021-02-01T00:00:00",
          "2021-03-01T00:00:00",
          "2021-04-01T00:00:00",
          "2021-05-01T00:00:00",
          "2021-06-01T00:00:00",
          "2021-07-01T00:00:00",
          "2021-08-01T00:00:00",
          "2021-09-01T00:00:00",
          "2021-10-01T00:00:00",
          "2021-11-01T00:00:00",
          "2021-12-01T00:00:00",
          "2022-01-01T00:00:00",
          "2022-02-01T00:00:00",
          "2022-03-01T00:00:00",
          "2022-04-01T00:00:00",
          "2022-05-01T00:00:00",
          "2022-06-01T00:00:00",
          "2022-07-01T00:00:00",
          "2022-08-01T00:00:00"
         ],
         "xaxis": "x",
         "y": [
          17,
          13,
          19,
          11,
          14,
          8,
          6,
          13,
          15,
          16,
          33,
          31,
          23,
          16,
          21,
          13,
          12,
          17,
          15,
          16,
          14,
          18,
          14,
          14,
          16,
          13,
          12,
          29,
          26,
          15,
          16,
          18,
          13,
          12,
          10,
          21,
          13,
          13,
          6,
          8,
          14,
          10,
          12,
          6,
          9,
          7,
          2,
          5,
          14,
          3,
          3,
          9,
          6,
          3,
          6,
          8
         ],
         "yaxis": "y"
        },
        {
         "hovertemplate": "Tags=bread<br>x=%{x}<br>PostCount=%{y}<br>CommentCount=%{marker.size}<extra></extra>",
         "legendgroup": "bread",
         "marker": {
          "color": "#EF553B",
          "size": [
           7,
           3,
           37,
           30,
           14,
           35,
           21,
           12,
           18,
           6,
           15,
           12,
           37,
           11,
           17,
           24,
           25,
           36,
           35,
           28,
           11,
           39,
           16,
           14,
           11,
           45,
           21,
           38,
           89,
           37,
           28,
           23,
           18,
           6,
           24,
           18,
           24,
           16,
           10,
           12,
           34,
           11,
           7,
           29,
           16,
           15,
           13,
           2,
           32,
           3,
           30,
           18,
           19,
           7
          ],
          "sizemode": "area",
          "sizeref": 0.2225,
          "symbol": "circle"
         },
         "mode": "markers",
         "name": "bread",
         "orientation": "v",
         "showlegend": true,
         "type": "scatter",
         "x": [
          "2018-01-01T00:00:00",
          "2018-02-01T00:00:00",
          "2018-03-01T00:00:00",
          "2018-04-01T00:00:00",
          "2018-05-01T00:00:00",
          "2018-06-01T00:00:00",
          "2018-07-01T00:00:00",
          "2018-08-01T00:00:00",
          "2018-09-01T00:00:00",
          "2018-10-01T00:00:00",
          "2018-11-01T00:00:00",
          "2018-12-01T00:00:00",
          "2019-01-01T00:00:00",
          "2019-02-01T00:00:00",
          "2019-03-01T00:00:00",
          "2019-04-01T00:00:00",
          "2019-05-01T00:00:00",
          "2019-06-01T00:00:00",
          "2019-07-01T00:00:00",
          "2019-08-01T00:00:00",
          "2019-09-01T00:00:00",
          "2019-10-01T00:00:00",
          "2019-11-01T00:00:00",
          "2019-12-01T00:00:00",
          "2020-01-01T00:00:00",
          "2020-02-01T00:00:00",
          "2020-03-01T00:00:00",
          "2020-04-01T00:00:00",
          "2020-05-01T00:00:00",
          "2020-06-01T00:00:00",
          "2020-07-01T00:00:00",
          "2020-08-01T00:00:00",
          "2020-09-01T00:00:00",
          "2020-10-01T00:00:00",
          "2020-11-01T00:00:00",
          "2020-12-01T00:00:00",
          "2021-01-01T00:00:00",
          "2021-02-01T00:00:00",
          "2021-03-01T00:00:00",
          "2021-04-01T00:00:00",
          "2021-05-01T00:00:00",
          "2021-06-01T00:00:00",
          "2021-07-01T00:00:00",
          "2021-08-01T00:00:00",
          "2021-09-01T00:00:00",
          "2021-10-01T00:00:00",
          "2021-11-01T00:00:00",
          "2021-12-01T00:00:00",
          "2022-01-01T00:00:00",
          "2022-02-01T00:00:00",
          "2022-03-01T00:00:00",
          "2022-04-01T00:00:00",
          "2022-05-01T00:00:00",
          "2022-08-01T00:00:00"
         ],
         "xaxis": "x",
         "y": [
          10,
          2,
          18,
          10,
          6,
          10,
          6,
          7,
          9,
          10,
          8,
          11,
          17,
          6,
          8,
          9,
          9,
          12,
          13,
          8,
          5,
          11,
          9,
          8,
          9,
          11,
          11,
          22,
          29,
          14,
          10,
          13,
          5,
          3,
          9,
          6,
          13,
          6,
          2,
          6,
          7,
          4,
          5,
          6,
          5,
          5,
          3,
          2,
          6,
          2,
          4,
          5,
          4,
          3
         ],
         "yaxis": "y"
        },
        {
         "hovertemplate": "Tags=sourdough<br>x=%{x}<br>PostCount=%{y}<br>CommentCount=%{marker.size}<extra></extra>",
         "legendgroup": "sourdough",
         "marker": {
          "color": "#00cc96",
          "size": [
           5,
           1,
           5,
           5,
           5,
           4,
           16,
           4,
           3,
           13,
           9,
           4,
           11,
           7,
           6,
           1,
           7,
           4,
           1,
           1,
           19,
           2,
           23,
           37,
           8,
           4,
           1,
           13,
           9,
           2,
           4,
           8,
           2,
           3,
           7,
           7,
           15,
           0,
           7,
           12,
           3,
           2
          ],
          "sizemode": "area",
          "sizeref": 0.2225,
          "symbol": "circle"
         },
         "mode": "markers",
         "name": "sourdough",
         "orientation": "v",
         "showlegend": true,
         "type": "scatter",
         "x": [
          "2018-01-01T00:00:00",
          "2018-03-01T00:00:00",
          "2018-04-01T00:00:00",
          "2018-05-01T00:00:00",
          "2018-06-01T00:00:00",
          "2018-07-01T00:00:00",
          "2018-08-01T00:00:00",
          "2018-09-01T00:00:00",
          "2018-10-01T00:00:00",
          "2019-01-01T00:00:00",
          "2019-02-01T00:00:00",
          "2019-03-01T00:00:00",
          "2019-05-01T00:00:00",
          "2019-06-01T00:00:00",
          "2019-07-01T00:00:00",
          "2019-08-01T00:00:00",
          "2019-09-01T00:00:00",
          "2019-10-01T00:00:00",
          "2019-11-01T00:00:00",
          "2020-01-01T00:00:00",
          "2020-02-01T00:00:00",
          "2020-03-01T00:00:00",
          "2020-04-01T00:00:00",
          "2020-05-01T00:00:00",
          "2020-06-01T00:00:00",
          "2020-07-01T00:00:00",
          "2020-08-01T00:00:00",
          "2020-09-01T00:00:00",
          "2020-10-01T00:00:00",
          "2020-11-01T00:00:00",
          "2020-12-01T00:00:00",
          "2021-01-01T00:00:00",
          "2021-02-01T00:00:00",
          "2021-04-01T00:00:00",
          "2021-05-01T00:00:00",
          "2021-06-01T00:00:00",
          "2021-07-01T00:00:00",
          "2022-01-01T00:00:00",
          "2022-03-01T00:00:00",
          "2022-04-01T00:00:00",
          "2022-05-01T00:00:00",
          "2022-06-01T00:00:00"
         ],
         "xaxis": "x",
         "y": [
          4,
          4,
          2,
          2,
          1,
          2,
          7,
          2,
          3,
          6,
          4,
          3,
          3,
          5,
          6,
          1,
          2,
          1,
          1,
          1,
          3,
          1,
          15,
          16,
          3,
          3,
          5,
          3,
          3,
          5,
          2,
          4,
          3,
          1,
          1,
          1,
          3,
          1,
          1,
          3,
          1,
          1
         ],
         "yaxis": "y"
        }
       ],
       "layout": {
        "legend": {
         "itemsizing": "constant",
         "title": {
          "text": "Tags"
         },
         "tracegroupgap": 0
        },
        "template": {
         "data": {
          "bar": [
           {
            "error_x": {
             "color": "#2a3f5f"
            },
            "error_y": {
             "color": "#2a3f5f"
            },
            "marker": {
             "line": {
              "color": "#E5ECF6",
              "width": 0.5
             },
             "pattern": {
              "fillmode": "overlay",
              "size": 10,
              "solidity": 0.2
             }
            },
            "type": "bar"
           }
          ],
          "barpolar": [
           {
            "marker": {
             "line": {
              "color": "#E5ECF6",
              "width": 0.5
             },
             "pattern": {
              "fillmode": "overlay",
              "size": 10,
              "solidity": 0.2
             }
            },
            "type": "barpolar"
           }
          ],
          "carpet": [
           {
            "aaxis": {
             "endlinecolor": "#2a3f5f",
             "gridcolor": "white",
             "linecolor": "white",
             "minorgridcolor": "white",
             "startlinecolor": "#2a3f5f"
            },
            "baxis": {
             "endlinecolor": "#2a3f5f",
             "gridcolor": "white",
             "linecolor": "white",
             "minorgridcolor": "white",
             "startlinecolor": "#2a3f5f"
            },
            "type": "carpet"
           }
          ],
          "choropleth": [
           {
            "colorbar": {
             "outlinewidth": 0,
             "ticks": ""
            },
            "type": "choropleth"
           }
          ],
          "contour": [
           {
            "colorbar": {
             "outlinewidth": 0,
             "ticks": ""
            },
            "colorscale": [
             [
              0,
              "#0d0887"
             ],
             [
              0.1111111111111111,
              "#46039f"
             ],
             [
              0.2222222222222222,
              "#7201a8"
             ],
             [
              0.3333333333333333,
              "#9c179e"
             ],
             [
              0.4444444444444444,
              "#bd3786"
             ],
             [
              0.5555555555555556,
              "#d8576b"
             ],
             [
              0.6666666666666666,
              "#ed7953"
             ],
             [
              0.7777777777777778,
              "#fb9f3a"
             ],
             [
              0.8888888888888888,
              "#fdca26"
             ],
             [
              1,
              "#f0f921"
             ]
            ],
            "type": "contour"
           }
          ],
          "contourcarpet": [
           {
            "colorbar": {
             "outlinewidth": 0,
             "ticks": ""
            },
            "type": "contourcarpet"
           }
          ],
          "heatmap": [
           {
            "colorbar": {
             "outlinewidth": 0,
             "ticks": ""
            },
            "colorscale": [
             [
              0,
              "#0d0887"
             ],
             [
              0.1111111111111111,
              "#46039f"
             ],
             [
              0.2222222222222222,
              "#7201a8"
             ],
             [
              0.3333333333333333,
              "#9c179e"
             ],
             [
              0.4444444444444444,
              "#bd3786"
             ],
             [
              0.5555555555555556,
              "#d8576b"
             ],
             [
              0.6666666666666666,
              "#ed7953"
             ],
             [
              0.7777777777777778,
              "#fb9f3a"
             ],
             [
              0.8888888888888888,
              "#fdca26"
             ],
             [
              1,
              "#f0f921"
             ]
            ],
            "type": "heatmap"
           }
          ],
          "heatmapgl": [
           {
            "colorbar": {
             "outlinewidth": 0,
             "ticks": ""
            },
            "colorscale": [
             [
              0,
              "#0d0887"
             ],
             [
              0.1111111111111111,
              "#46039f"
             ],
             [
              0.2222222222222222,
              "#7201a8"
             ],
             [
              0.3333333333333333,
              "#9c179e"
             ],
             [
              0.4444444444444444,
              "#bd3786"
             ],
             [
              0.5555555555555556,
              "#d8576b"
             ],
             [
              0.6666666666666666,
              "#ed7953"
             ],
             [
              0.7777777777777778,
              "#fb9f3a"
             ],
             [
              0.8888888888888888,
              "#fdca26"
             ],
             [
              1,
              "#f0f921"
             ]
            ],
            "type": "heatmapgl"
           }
          ],
          "histogram": [
           {
            "marker": {
             "pattern": {
              "fillmode": "overlay",
              "size": 10,
              "solidity": 0.2
             }
            },
            "type": "histogram"
           }
          ],
          "histogram2d": [
           {
            "colorbar": {
             "outlinewidth": 0,
             "ticks": ""
            },
            "colorscale": [
             [
              0,
              "#0d0887"
             ],
             [
              0.1111111111111111,
              "#46039f"
             ],
             [
              0.2222222222222222,
              "#7201a8"
             ],
             [
              0.3333333333333333,
              "#9c179e"
             ],
             [
              0.4444444444444444,
              "#bd3786"
             ],
             [
              0.5555555555555556,
              "#d8576b"
             ],
             [
              0.6666666666666666,
              "#ed7953"
             ],
             [
              0.7777777777777778,
              "#fb9f3a"
             ],
             [
              0.8888888888888888,
              "#fdca26"
             ],
             [
              1,
              "#f0f921"
             ]
            ],
            "type": "histogram2d"
           }
          ],
          "histogram2dcontour": [
           {
            "colorbar": {
             "outlinewidth": 0,
             "ticks": ""
            },
            "colorscale": [
             [
              0,
              "#0d0887"
             ],
             [
              0.1111111111111111,
              "#46039f"
             ],
             [
              0.2222222222222222,
              "#7201a8"
             ],
             [
              0.3333333333333333,
              "#9c179e"
             ],
             [
              0.4444444444444444,
              "#bd3786"
             ],
             [
              0.5555555555555556,
              "#d8576b"
             ],
             [
              0.6666666666666666,
              "#ed7953"
             ],
             [
              0.7777777777777778,
              "#fb9f3a"
             ],
             [
              0.8888888888888888,
              "#fdca26"
             ],
             [
              1,
              "#f0f921"
             ]
            ],
            "type": "histogram2dcontour"
           }
          ],
          "mesh3d": [
           {
            "colorbar": {
             "outlinewidth": 0,
             "ticks": ""
            },
            "type": "mesh3d"
           }
          ],
          "parcoords": [
           {
            "line": {
             "colorbar": {
              "outlinewidth": 0,
              "ticks": ""
             }
            },
            "type": "parcoords"
           }
          ],
          "pie": [
           {
            "automargin": true,
            "type": "pie"
           }
          ],
          "scatter": [
           {
            "fillpattern": {
             "fillmode": "overlay",
             "size": 10,
             "solidity": 0.2
            },
            "type": "scatter"
           }
          ],
          "scatter3d": [
           {
            "line": {
             "colorbar": {
              "outlinewidth": 0,
              "ticks": ""
             }
            },
            "marker": {
             "colorbar": {
              "outlinewidth": 0,
              "ticks": ""
             }
            },
            "type": "scatter3d"
           }
          ],
          "scattercarpet": [
           {
            "marker": {
             "colorbar": {
              "outlinewidth": 0,
              "ticks": ""
             }
            },
            "type": "scattercarpet"
           }
          ],
          "scattergeo": [
           {
            "marker": {
             "colorbar": {
              "outlinewidth": 0,
              "ticks": ""
             }
            },
            "type": "scattergeo"
           }
          ],
          "scattergl": [
           {
            "marker": {
             "colorbar": {
              "outlinewidth": 0,
              "ticks": ""
             }
            },
            "type": "scattergl"
           }
          ],
          "scattermapbox": [
           {
            "marker": {
             "colorbar": {
              "outlinewidth": 0,
              "ticks": ""
             }
            },
            "type": "scattermapbox"
           }
          ],
          "scatterpolar": [
           {
            "marker": {
             "colorbar": {
              "outlinewidth": 0,
              "ticks": ""
             }
            },
            "type": "scatterpolar"
           }
          ],
          "scatterpolargl": [
           {
            "marker": {
             "colorbar": {
              "outlinewidth": 0,
              "ticks": ""
             }
            },
            "type": "scatterpolargl"
           }
          ],
          "scatterternary": [
           {
            "marker": {
             "colorbar": {
              "outlinewidth": 0,
              "ticks": ""
             }
            },
            "type": "scatterternary"
           }
          ],
          "surface": [
           {
            "colorbar": {
             "outlinewidth": 0,
             "ticks": ""
            },
            "colorscale": [
             [
              0,
              "#0d0887"
             ],
             [
              0.1111111111111111,
              "#46039f"
             ],
             [
              0.2222222222222222,
              "#7201a8"
             ],
             [
              0.3333333333333333,
              "#9c179e"
             ],
             [
              0.4444444444444444,
              "#bd3786"
             ],
             [
              0.5555555555555556,
              "#d8576b"
             ],
             [
              0.6666666666666666,
              "#ed7953"
             ],
             [
              0.7777777777777778,
              "#fb9f3a"
             ],
             [
              0.8888888888888888,
              "#fdca26"
             ],
             [
              1,
              "#f0f921"
             ]
            ],
            "type": "surface"
           }
          ],
          "table": [
           {
            "cells": {
             "fill": {
              "color": "#EBF0F8"
             },
             "line": {
              "color": "white"
             }
            },
            "header": {
             "fill": {
              "color": "#C8D4E3"
             },
             "line": {
              "color": "white"
             }
            },
            "type": "table"
           }
          ]
         },
         "layout": {
          "annotationdefaults": {
           "arrowcolor": "#2a3f5f",
           "arrowhead": 0,
           "arrowwidth": 1
          },
          "autotypenumbers": "strict",
          "coloraxis": {
           "colorbar": {
            "outlinewidth": 0,
            "ticks": ""
           }
          },
          "colorscale": {
           "diverging": [
            [
             0,
             "#8e0152"
            ],
            [
             0.1,
             "#c51b7d"
            ],
            [
             0.2,
             "#de77ae"
            ],
            [
             0.3,
             "#f1b6da"
            ],
            [
             0.4,
             "#fde0ef"
            ],
            [
             0.5,
             "#f7f7f7"
            ],
            [
             0.6,
             "#e6f5d0"
            ],
            [
             0.7,
             "#b8e186"
            ],
            [
             0.8,
             "#7fbc41"
            ],
            [
             0.9,
             "#4d9221"
            ],
            [
             1,
             "#276419"
            ]
           ],
           "sequential": [
            [
             0,
             "#0d0887"
            ],
            [
             0.1111111111111111,
             "#46039f"
            ],
            [
             0.2222222222222222,
             "#7201a8"
            ],
            [
             0.3333333333333333,
             "#9c179e"
            ],
            [
             0.4444444444444444,
             "#bd3786"
            ],
            [
             0.5555555555555556,
             "#d8576b"
            ],
            [
             0.6666666666666666,
             "#ed7953"
            ],
            [
             0.7777777777777778,
             "#fb9f3a"
            ],
            [
             0.8888888888888888,
             "#fdca26"
            ],
            [
             1,
             "#f0f921"
            ]
           ],
           "sequentialminus": [
            [
             0,
             "#0d0887"
            ],
            [
             0.1111111111111111,
             "#46039f"
            ],
            [
             0.2222222222222222,
             "#7201a8"
            ],
            [
             0.3333333333333333,
             "#9c179e"
            ],
            [
             0.4444444444444444,
             "#bd3786"
            ],
            [
             0.5555555555555556,
             "#d8576b"
            ],
            [
             0.6666666666666666,
             "#ed7953"
            ],
            [
             0.7777777777777778,
             "#fb9f3a"
            ],
            [
             0.8888888888888888,
             "#fdca26"
            ],
            [
             1,
             "#f0f921"
            ]
           ]
          },
          "colorway": [
           "#636efa",
           "#EF553B",
           "#00cc96",
           "#ab63fa",
           "#FFA15A",
           "#19d3f3",
           "#FF6692",
           "#B6E880",
           "#FF97FF",
           "#FECB52"
          ],
          "font": {
           "color": "#2a3f5f"
          },
          "geo": {
           "bgcolor": "white",
           "lakecolor": "white",
           "landcolor": "#E5ECF6",
           "showlakes": true,
           "showland": true,
           "subunitcolor": "white"
          },
          "hoverlabel": {
           "align": "left"
          },
          "hovermode": "closest",
          "mapbox": {
           "style": "light"
          },
          "paper_bgcolor": "white",
          "plot_bgcolor": "#E5ECF6",
          "polar": {
           "angularaxis": {
            "gridcolor": "white",
            "linecolor": "white",
            "ticks": ""
           },
           "bgcolor": "#E5ECF6",
           "radialaxis": {
            "gridcolor": "white",
            "linecolor": "white",
            "ticks": ""
           }
          },
          "scene": {
           "xaxis": {
            "backgroundcolor": "#E5ECF6",
            "gridcolor": "white",
            "gridwidth": 2,
            "linecolor": "white",
            "showbackground": true,
            "ticks": "",
            "zerolinecolor": "white"
           },
           "yaxis": {
            "backgroundcolor": "#E5ECF6",
            "gridcolor": "white",
            "gridwidth": 2,
            "linecolor": "white",
            "showbackground": true,
            "ticks": "",
            "zerolinecolor": "white"
           },
           "zaxis": {
            "backgroundcolor": "#E5ECF6",
            "gridcolor": "white",
            "gridwidth": 2,
            "linecolor": "white",
            "showbackground": true,
            "ticks": "",
            "zerolinecolor": "white"
           }
          },
          "shapedefaults": {
           "line": {
            "color": "#2a3f5f"
           }
          },
          "ternary": {
           "aaxis": {
            "gridcolor": "white",
            "linecolor": "white",
            "ticks": ""
           },
           "baxis": {
            "gridcolor": "white",
            "linecolor": "white",
            "ticks": ""
           },
           "bgcolor": "#E5ECF6",
           "caxis": {
            "gridcolor": "white",
            "linecolor": "white",
            "ticks": ""
           }
          },
          "title": {
           "x": 0.05
          },
          "xaxis": {
           "automargin": true,
           "gridcolor": "white",
           "linecolor": "white",
           "ticks": "",
           "title": {
            "standoff": 15
           },
           "zerolinecolor": "white",
           "zerolinewidth": 2
          },
          "yaxis": {
           "automargin": true,
           "gridcolor": "white",
           "linecolor": "white",
           "ticks": "",
           "title": {
            "standoff": 15
           },
           "zerolinecolor": "white",
           "zerolinewidth": 2
          }
         }
        },
        "title": {
         "text": "Post count per month on StackOverflow (size = comment count)"
        },
        "xaxis": {
         "anchor": "y",
         "domain": [
          0,
          1
         ],
         "title": {
          "text": "x"
         }
        },
        "yaxis": {
         "anchor": "x",
         "domain": [
          0,
          1
         ],
         "title": {
          "text": "PostCount"
         }
        }
       }
      }
     },
     "metadata": {},
     "output_type": "display_data"
    }
   ],
   "source": [
    "\n",
    "fig = px.scatter(mytags,\n",
    "           x=mytags.CreationDate.dt.to_timestamp(),\n",
    "           y=\"PostCount\",\n",
    "           color=\"Tags\",\n",
    "           title=\"Post count per month on StackOverflow (size = comment count)\",\n",
    "           #trendline=\"ols\",\n",
    "           size=\"CommentCount\",\n",
    "           )\n",
    "           \n",
    "fig.show()"
   ]
  },
  {
   "cell_type": "code",
   "execution_count": 174,
   "metadata": {},
   "outputs": [],
   "source": [
    "fig.write_html('tags.html')"
   ]
  },
  {
   "cell_type": "markdown",
   "metadata": {},
   "source": [
    "# Pandemic"
   ]
  },
  {
   "cell_type": "code",
   "execution_count": 175,
   "metadata": {},
   "outputs": [
    {
     "data": {
      "text/html": [
       "<div>\n",
       "<style scoped>\n",
       "    .dataframe tbody tr th:only-of-type {\n",
       "        vertical-align: middle;\n",
       "    }\n",
       "\n",
       "    .dataframe tbody tr th {\n",
       "        vertical-align: top;\n",
       "    }\n",
       "\n",
       "    .dataframe thead th {\n",
       "        text-align: right;\n",
       "    }\n",
       "</style>\n",
       "<table border=\"1\" class=\"dataframe\">\n",
       "  <thead>\n",
       "    <tr style=\"text-align: right;\">\n",
       "      <th></th>\n",
       "      <th>Tags</th>\n",
       "      <th>ViewCount</th>\n",
       "      <th>AnswerCount</th>\n",
       "      <th>PostCount</th>\n",
       "      <th>CommentCount</th>\n",
       "    </tr>\n",
       "    <tr>\n",
       "      <th>CreationDate</th>\n",
       "      <th></th>\n",
       "      <th></th>\n",
       "      <th></th>\n",
       "      <th></th>\n",
       "      <th></th>\n",
       "    </tr>\n",
       "  </thead>\n",
       "  <tbody>\n",
       "    <tr>\n",
       "      <th>2018-02</th>\n",
       "      <td>baking</td>\n",
       "      <td>89965</td>\n",
       "      <td>21</td>\n",
       "      <td>13</td>\n",
       "      <td>22</td>\n",
       "    </tr>\n",
       "    <tr>\n",
       "      <th>2018-02</th>\n",
       "      <td>bread</td>\n",
       "      <td>591</td>\n",
       "      <td>3</td>\n",
       "      <td>2</td>\n",
       "      <td>3</td>\n",
       "    </tr>\n",
       "    <tr>\n",
       "      <th>2018-03</th>\n",
       "      <td>baking</td>\n",
       "      <td>25623</td>\n",
       "      <td>24</td>\n",
       "      <td>19</td>\n",
       "      <td>37</td>\n",
       "    </tr>\n",
       "    <tr>\n",
       "      <th>2018-03</th>\n",
       "      <td>bread</td>\n",
       "      <td>18576</td>\n",
       "      <td>24</td>\n",
       "      <td>18</td>\n",
       "      <td>37</td>\n",
       "    </tr>\n",
       "    <tr>\n",
       "      <th>2018-03</th>\n",
       "      <td>sourdough</td>\n",
       "      <td>3543</td>\n",
       "      <td>5</td>\n",
       "      <td>4</td>\n",
       "      <td>1</td>\n",
       "    </tr>\n",
       "    <tr>\n",
       "      <th>...</th>\n",
       "      <td>...</td>\n",
       "      <td>...</td>\n",
       "      <td>...</td>\n",
       "      <td>...</td>\n",
       "      <td>...</td>\n",
       "    </tr>\n",
       "    <tr>\n",
       "      <th>2022-05</th>\n",
       "      <td>bread</td>\n",
       "      <td>4079</td>\n",
       "      <td>8</td>\n",
       "      <td>4</td>\n",
       "      <td>19</td>\n",
       "    </tr>\n",
       "    <tr>\n",
       "      <th>2022-05</th>\n",
       "      <td>sourdough</td>\n",
       "      <td>527</td>\n",
       "      <td>1</td>\n",
       "      <td>1</td>\n",
       "      <td>3</td>\n",
       "    </tr>\n",
       "    <tr>\n",
       "      <th>2022-06</th>\n",
       "      <td>baking</td>\n",
       "      <td>464</td>\n",
       "      <td>4</td>\n",
       "      <td>3</td>\n",
       "      <td>2</td>\n",
       "    </tr>\n",
       "    <tr>\n",
       "      <th>2022-06</th>\n",
       "      <td>sourdough</td>\n",
       "      <td>3850</td>\n",
       "      <td>2</td>\n",
       "      <td>1</td>\n",
       "      <td>2</td>\n",
       "    </tr>\n",
       "    <tr>\n",
       "      <th>2022-07</th>\n",
       "      <td>baking</td>\n",
       "      <td>8491</td>\n",
       "      <td>11</td>\n",
       "      <td>6</td>\n",
       "      <td>19</td>\n",
       "    </tr>\n",
       "  </tbody>\n",
       "</table>\n",
       "<p>147 rows × 5 columns</p>\n",
       "</div>"
      ],
      "text/plain": [
       "                   Tags  ViewCount  AnswerCount  PostCount  CommentCount\n",
       "CreationDate                                                            \n",
       "2018-02          baking      89965           21         13            22\n",
       "2018-02           bread        591            3          2             3\n",
       "2018-03          baking      25623           24         19            37\n",
       "2018-03           bread      18576           24         18            37\n",
       "2018-03       sourdough       3543            5          4             1\n",
       "...                 ...        ...          ...        ...           ...\n",
       "2022-05           bread       4079            8          4            19\n",
       "2022-05       sourdough        527            1          1             3\n",
       "2022-06          baking        464            4          3             2\n",
       "2022-06       sourdough       3850            2          1             2\n",
       "2022-07          baking       8491           11          6            19\n",
       "\n",
       "[147 rows x 5 columns]"
      ]
     },
     "execution_count": 175,
     "metadata": {},
     "output_type": "execute_result"
    }
   ],
   "source": [
    "pandemic = mytags[\n",
    "    (mytags.CreationDate > \"2018-01-01\") & (mytags.CreationDate < \"2022-08-30\")\n",
    "].copy()\n",
    "\n",
    "pandemic.set_index(\"CreationDate\", inplace=True)\n",
    "\n",
    "pandemic"
   ]
  },
  {
   "cell_type": "code",
   "execution_count": 176,
   "metadata": {},
   "outputs": [],
   "source": [
    "rollavg = (\n",
    "    pandemic.groupby([\"Tags\"])\n",
    "    .rolling(3, center=True, min_periods=2)\n",
    "    .mean().reset_index(level=0)\n",
    ")\n"
   ]
  },
  {
   "cell_type": "code",
   "execution_count": 184,
   "metadata": {},
   "outputs": [
    {
     "data": {
      "application/vnd.plotly.v1+json": {
       "config": {
        "plotlyServerURL": "https://plot.ly"
       },
       "data": [
        {
         "hovertemplate": "Tags=baking<br>x=%{x}<br>CommentCount=%{y}<extra></extra>",
         "legendgroup": "baking",
         "line": {
          "color": "#636efa",
          "dash": "solid"
         },
         "marker": {
          "symbol": "circle"
         },
         "mode": "lines",
         "name": "baking",
         "orientation": "v",
         "showlegend": true,
         "type": "scatter",
         "x": [
          "2018-02-01T00:00:00",
          "2018-03-01T00:00:00",
          "2018-04-01T00:00:00",
          "2018-05-01T00:00:00",
          "2018-06-01T00:00:00",
          "2018-07-01T00:00:00",
          "2018-08-01T00:00:00",
          "2018-09-01T00:00:00",
          "2018-10-01T00:00:00",
          "2018-11-01T00:00:00",
          "2018-12-01T00:00:00",
          "2019-01-01T00:00:00",
          "2019-02-01T00:00:00",
          "2019-03-01T00:00:00",
          "2019-04-01T00:00:00",
          "2019-05-01T00:00:00",
          "2019-06-01T00:00:00",
          "2019-07-01T00:00:00",
          "2019-08-01T00:00:00",
          "2019-09-01T00:00:00",
          "2019-10-01T00:00:00",
          "2019-11-01T00:00:00",
          "2019-12-01T00:00:00",
          "2020-01-01T00:00:00",
          "2020-02-01T00:00:00",
          "2020-03-01T00:00:00",
          "2020-04-01T00:00:00",
          "2020-05-01T00:00:00",
          "2020-06-01T00:00:00",
          "2020-07-01T00:00:00",
          "2020-08-01T00:00:00",
          "2020-09-01T00:00:00",
          "2020-10-01T00:00:00",
          "2020-11-01T00:00:00",
          "2020-12-01T00:00:00",
          "2021-01-01T00:00:00",
          "2021-02-01T00:00:00",
          "2021-03-01T00:00:00",
          "2021-04-01T00:00:00",
          "2021-05-01T00:00:00",
          "2021-06-01T00:00:00",
          "2021-07-01T00:00:00",
          "2021-08-01T00:00:00",
          "2021-09-01T00:00:00",
          "2021-10-01T00:00:00",
          "2021-11-01T00:00:00",
          "2021-12-01T00:00:00",
          "2022-01-01T00:00:00",
          "2022-02-01T00:00:00",
          "2022-03-01T00:00:00",
          "2022-04-01T00:00:00",
          "2022-05-01T00:00:00",
          "2022-06-01T00:00:00",
          "2022-07-01T00:00:00"
         ],
         "xaxis": "x",
         "y": [
          29.5,
          26,
          28,
          23,
          21.666666666666668,
          21.333333333333332,
          26.666666666666668,
          31,
          35,
          40.333333333333336,
          46,
          46.666666666666664,
          45,
          40,
          42,
          44.666666666666664,
          48.666666666666664,
          44.666666666666664,
          33,
          38,
          39.333333333333336,
          44,
          36.333333333333336,
          46,
          44,
          47.666666666666664,
          46.666666666666664,
          45.333333333333336,
          44,
          32,
          34.666666666666664,
          31.666666666666668,
          36,
          40.333333333333336,
          37.666666666666664,
          33.666666666666664,
          22,
          27,
          31.333333333333332,
          37,
          30.333333333333332,
          19.333333333333332,
          15.333333333333334,
          15.333333333333334,
          15,
          16,
          22.666666666666668,
          23.666666666666668,
          22,
          16.666666666666668,
          18.666666666666668,
          14.333333333333334,
          13,
          10.5
         ],
         "yaxis": "y"
        },
        {
         "hovertemplate": "Tags=bread<br>x=%{x}<br>CommentCount=%{y}<extra></extra>",
         "legendgroup": "bread",
         "line": {
          "color": "#EF553B",
          "dash": "solid"
         },
         "marker": {
          "symbol": "circle"
         },
         "mode": "lines",
         "name": "bread",
         "orientation": "v",
         "showlegend": true,
         "type": "scatter",
         "x": [
          "2018-02-01T00:00:00",
          "2018-03-01T00:00:00",
          "2018-04-01T00:00:00",
          "2018-05-01T00:00:00",
          "2018-06-01T00:00:00",
          "2018-07-01T00:00:00",
          "2018-08-01T00:00:00",
          "2018-09-01T00:00:00",
          "2018-10-01T00:00:00",
          "2018-11-01T00:00:00",
          "2018-12-01T00:00:00",
          "2019-01-01T00:00:00",
          "2019-02-01T00:00:00",
          "2019-03-01T00:00:00",
          "2019-04-01T00:00:00",
          "2019-05-01T00:00:00",
          "2019-06-01T00:00:00",
          "2019-07-01T00:00:00",
          "2019-08-01T00:00:00",
          "2019-09-01T00:00:00",
          "2019-10-01T00:00:00",
          "2019-11-01T00:00:00",
          "2019-12-01T00:00:00",
          "2020-01-01T00:00:00",
          "2020-02-01T00:00:00",
          "2020-03-01T00:00:00",
          "2020-04-01T00:00:00",
          "2020-05-01T00:00:00",
          "2020-06-01T00:00:00",
          "2020-07-01T00:00:00",
          "2020-08-01T00:00:00",
          "2020-09-01T00:00:00",
          "2020-10-01T00:00:00",
          "2020-11-01T00:00:00",
          "2020-12-01T00:00:00",
          "2021-01-01T00:00:00",
          "2021-02-01T00:00:00",
          "2021-03-01T00:00:00",
          "2021-04-01T00:00:00",
          "2021-05-01T00:00:00",
          "2021-06-01T00:00:00",
          "2021-07-01T00:00:00",
          "2021-08-01T00:00:00",
          "2021-09-01T00:00:00",
          "2021-10-01T00:00:00",
          "2021-11-01T00:00:00",
          "2021-12-01T00:00:00",
          "2022-01-01T00:00:00",
          "2022-02-01T00:00:00",
          "2022-03-01T00:00:00",
          "2022-04-01T00:00:00",
          "2022-05-01T00:00:00"
         ],
         "xaxis": "x",
         "y": [
          20,
          23.333333333333332,
          27,
          26.333333333333332,
          23.333333333333332,
          22.666666666666668,
          17,
          12,
          13,
          11,
          21.333333333333332,
          20,
          21.666666666666668,
          17.333333333333332,
          22,
          28.333333333333332,
          32,
          33,
          24.666666666666668,
          26,
          22,
          23,
          13.666666666666666,
          23.333333333333332,
          25.666666666666668,
          34.666666666666664,
          49.333333333333336,
          54.666666666666664,
          51.333333333333336,
          29.333333333333332,
          23,
          15.666666666666666,
          16,
          16,
          22,
          19.333333333333332,
          16.666666666666668,
          12.666666666666666,
          18.666666666666668,
          19,
          17.333333333333332,
          15.666666666666666,
          17.333333333333332,
          20,
          14.666666666666666,
          10,
          15.666666666666666,
          12.333333333333334,
          21.666666666666668,
          17,
          22.333333333333332,
          18.5
         ],
         "yaxis": "y"
        },
        {
         "hovertemplate": "Tags=sourdough<br>x=%{x}<br>CommentCount=%{y}<extra></extra>",
         "legendgroup": "sourdough",
         "line": {
          "color": "#00cc96",
          "dash": "solid"
         },
         "marker": {
          "symbol": "circle"
         },
         "mode": "lines",
         "name": "sourdough",
         "orientation": "v",
         "showlegend": true,
         "type": "scatter",
         "x": [
          "2018-03-01T00:00:00",
          "2018-04-01T00:00:00",
          "2018-05-01T00:00:00",
          "2018-06-01T00:00:00",
          "2018-07-01T00:00:00",
          "2018-08-01T00:00:00",
          "2018-09-01T00:00:00",
          "2018-10-01T00:00:00",
          "2019-01-01T00:00:00",
          "2019-02-01T00:00:00",
          "2019-03-01T00:00:00",
          "2019-05-01T00:00:00",
          "2019-06-01T00:00:00",
          "2019-07-01T00:00:00",
          "2019-08-01T00:00:00",
          "2019-09-01T00:00:00",
          "2019-10-01T00:00:00",
          "2019-11-01T00:00:00",
          "2020-01-01T00:00:00",
          "2020-02-01T00:00:00",
          "2020-03-01T00:00:00",
          "2020-04-01T00:00:00",
          "2020-05-01T00:00:00",
          "2020-06-01T00:00:00",
          "2020-07-01T00:00:00",
          "2020-08-01T00:00:00",
          "2020-09-01T00:00:00",
          "2020-10-01T00:00:00",
          "2020-11-01T00:00:00",
          "2020-12-01T00:00:00",
          "2021-01-01T00:00:00",
          "2021-02-01T00:00:00",
          "2021-04-01T00:00:00",
          "2021-05-01T00:00:00",
          "2021-06-01T00:00:00",
          "2021-07-01T00:00:00",
          "2022-01-01T00:00:00",
          "2022-03-01T00:00:00",
          "2022-04-01T00:00:00",
          "2022-05-01T00:00:00",
          "2022-06-01T00:00:00"
         ],
         "xaxis": "x",
         "y": [
          3,
          3.6666666666666665,
          5,
          4.666666666666667,
          8.333333333333334,
          8,
          7.666666666666667,
          6.666666666666667,
          8.333333333333334,
          8.666666666666666,
          8,
          7.333333333333333,
          8,
          4.666666666666667,
          4.666666666666667,
          4,
          4,
          2,
          7,
          7.333333333333333,
          14.666666666666666,
          20.666666666666668,
          22.666666666666668,
          16.333333333333332,
          4.333333333333333,
          6,
          7.666666666666667,
          8,
          5,
          4.666666666666667,
          4.666666666666667,
          4.333333333333333,
          4,
          5.666666666666667,
          9.666666666666666,
          7.333333333333333,
          7.333333333333333,
          6.333333333333333,
          7.333333333333333,
          5.666666666666667,
          2.5
         ],
         "yaxis": "y"
        }
       ],
       "layout": {
        "annotations": [
         {
          "align": "right",
          "font": {
           "color": "black",
           "family": "Courier New, monospace",
           "size": 16
          },
          "showarrow": false,
          "text": "COVID-19",
          "x": "2020-03-11",
          "y": 60
         }
        ],
        "legend": {
         "title": {
          "text": "Tags"
         },
         "tracegroupgap": 0
        },
        "shapes": [
         {
          "line": {
           "color": "gray",
           "dash": "dash",
           "width": 2
          },
          "type": "line",
          "x0": "2020-03-11",
          "x1": "2020-03-11",
          "xref": "x",
          "y0": 0,
          "y1": 1,
          "yref": "y domain"
         }
        ],
        "template": {
         "data": {
          "bar": [
           {
            "error_x": {
             "color": "#2a3f5f"
            },
            "error_y": {
             "color": "#2a3f5f"
            },
            "marker": {
             "line": {
              "color": "#E5ECF6",
              "width": 0.5
             },
             "pattern": {
              "fillmode": "overlay",
              "size": 10,
              "solidity": 0.2
             }
            },
            "type": "bar"
           }
          ],
          "barpolar": [
           {
            "marker": {
             "line": {
              "color": "#E5ECF6",
              "width": 0.5
             },
             "pattern": {
              "fillmode": "overlay",
              "size": 10,
              "solidity": 0.2
             }
            },
            "type": "barpolar"
           }
          ],
          "carpet": [
           {
            "aaxis": {
             "endlinecolor": "#2a3f5f",
             "gridcolor": "white",
             "linecolor": "white",
             "minorgridcolor": "white",
             "startlinecolor": "#2a3f5f"
            },
            "baxis": {
             "endlinecolor": "#2a3f5f",
             "gridcolor": "white",
             "linecolor": "white",
             "minorgridcolor": "white",
             "startlinecolor": "#2a3f5f"
            },
            "type": "carpet"
           }
          ],
          "choropleth": [
           {
            "colorbar": {
             "outlinewidth": 0,
             "ticks": ""
            },
            "type": "choropleth"
           }
          ],
          "contour": [
           {
            "colorbar": {
             "outlinewidth": 0,
             "ticks": ""
            },
            "colorscale": [
             [
              0,
              "#0d0887"
             ],
             [
              0.1111111111111111,
              "#46039f"
             ],
             [
              0.2222222222222222,
              "#7201a8"
             ],
             [
              0.3333333333333333,
              "#9c179e"
             ],
             [
              0.4444444444444444,
              "#bd3786"
             ],
             [
              0.5555555555555556,
              "#d8576b"
             ],
             [
              0.6666666666666666,
              "#ed7953"
             ],
             [
              0.7777777777777778,
              "#fb9f3a"
             ],
             [
              0.8888888888888888,
              "#fdca26"
             ],
             [
              1,
              "#f0f921"
             ]
            ],
            "type": "contour"
           }
          ],
          "contourcarpet": [
           {
            "colorbar": {
             "outlinewidth": 0,
             "ticks": ""
            },
            "type": "contourcarpet"
           }
          ],
          "heatmap": [
           {
            "colorbar": {
             "outlinewidth": 0,
             "ticks": ""
            },
            "colorscale": [
             [
              0,
              "#0d0887"
             ],
             [
              0.1111111111111111,
              "#46039f"
             ],
             [
              0.2222222222222222,
              "#7201a8"
             ],
             [
              0.3333333333333333,
              "#9c179e"
             ],
             [
              0.4444444444444444,
              "#bd3786"
             ],
             [
              0.5555555555555556,
              "#d8576b"
             ],
             [
              0.6666666666666666,
              "#ed7953"
             ],
             [
              0.7777777777777778,
              "#fb9f3a"
             ],
             [
              0.8888888888888888,
              "#fdca26"
             ],
             [
              1,
              "#f0f921"
             ]
            ],
            "type": "heatmap"
           }
          ],
          "heatmapgl": [
           {
            "colorbar": {
             "outlinewidth": 0,
             "ticks": ""
            },
            "colorscale": [
             [
              0,
              "#0d0887"
             ],
             [
              0.1111111111111111,
              "#46039f"
             ],
             [
              0.2222222222222222,
              "#7201a8"
             ],
             [
              0.3333333333333333,
              "#9c179e"
             ],
             [
              0.4444444444444444,
              "#bd3786"
             ],
             [
              0.5555555555555556,
              "#d8576b"
             ],
             [
              0.6666666666666666,
              "#ed7953"
             ],
             [
              0.7777777777777778,
              "#fb9f3a"
             ],
             [
              0.8888888888888888,
              "#fdca26"
             ],
             [
              1,
              "#f0f921"
             ]
            ],
            "type": "heatmapgl"
           }
          ],
          "histogram": [
           {
            "marker": {
             "pattern": {
              "fillmode": "overlay",
              "size": 10,
              "solidity": 0.2
             }
            },
            "type": "histogram"
           }
          ],
          "histogram2d": [
           {
            "colorbar": {
             "outlinewidth": 0,
             "ticks": ""
            },
            "colorscale": [
             [
              0,
              "#0d0887"
             ],
             [
              0.1111111111111111,
              "#46039f"
             ],
             [
              0.2222222222222222,
              "#7201a8"
             ],
             [
              0.3333333333333333,
              "#9c179e"
             ],
             [
              0.4444444444444444,
              "#bd3786"
             ],
             [
              0.5555555555555556,
              "#d8576b"
             ],
             [
              0.6666666666666666,
              "#ed7953"
             ],
             [
              0.7777777777777778,
              "#fb9f3a"
             ],
             [
              0.8888888888888888,
              "#fdca26"
             ],
             [
              1,
              "#f0f921"
             ]
            ],
            "type": "histogram2d"
           }
          ],
          "histogram2dcontour": [
           {
            "colorbar": {
             "outlinewidth": 0,
             "ticks": ""
            },
            "colorscale": [
             [
              0,
              "#0d0887"
             ],
             [
              0.1111111111111111,
              "#46039f"
             ],
             [
              0.2222222222222222,
              "#7201a8"
             ],
             [
              0.3333333333333333,
              "#9c179e"
             ],
             [
              0.4444444444444444,
              "#bd3786"
             ],
             [
              0.5555555555555556,
              "#d8576b"
             ],
             [
              0.6666666666666666,
              "#ed7953"
             ],
             [
              0.7777777777777778,
              "#fb9f3a"
             ],
             [
              0.8888888888888888,
              "#fdca26"
             ],
             [
              1,
              "#f0f921"
             ]
            ],
            "type": "histogram2dcontour"
           }
          ],
          "mesh3d": [
           {
            "colorbar": {
             "outlinewidth": 0,
             "ticks": ""
            },
            "type": "mesh3d"
           }
          ],
          "parcoords": [
           {
            "line": {
             "colorbar": {
              "outlinewidth": 0,
              "ticks": ""
             }
            },
            "type": "parcoords"
           }
          ],
          "pie": [
           {
            "automargin": true,
            "type": "pie"
           }
          ],
          "scatter": [
           {
            "fillpattern": {
             "fillmode": "overlay",
             "size": 10,
             "solidity": 0.2
            },
            "type": "scatter"
           }
          ],
          "scatter3d": [
           {
            "line": {
             "colorbar": {
              "outlinewidth": 0,
              "ticks": ""
             }
            },
            "marker": {
             "colorbar": {
              "outlinewidth": 0,
              "ticks": ""
             }
            },
            "type": "scatter3d"
           }
          ],
          "scattercarpet": [
           {
            "marker": {
             "colorbar": {
              "outlinewidth": 0,
              "ticks": ""
             }
            },
            "type": "scattercarpet"
           }
          ],
          "scattergeo": [
           {
            "marker": {
             "colorbar": {
              "outlinewidth": 0,
              "ticks": ""
             }
            },
            "type": "scattergeo"
           }
          ],
          "scattergl": [
           {
            "marker": {
             "colorbar": {
              "outlinewidth": 0,
              "ticks": ""
             }
            },
            "type": "scattergl"
           }
          ],
          "scattermapbox": [
           {
            "marker": {
             "colorbar": {
              "outlinewidth": 0,
              "ticks": ""
             }
            },
            "type": "scattermapbox"
           }
          ],
          "scatterpolar": [
           {
            "marker": {
             "colorbar": {
              "outlinewidth": 0,
              "ticks": ""
             }
            },
            "type": "scatterpolar"
           }
          ],
          "scatterpolargl": [
           {
            "marker": {
             "colorbar": {
              "outlinewidth": 0,
              "ticks": ""
             }
            },
            "type": "scatterpolargl"
           }
          ],
          "scatterternary": [
           {
            "marker": {
             "colorbar": {
              "outlinewidth": 0,
              "ticks": ""
             }
            },
            "type": "scatterternary"
           }
          ],
          "surface": [
           {
            "colorbar": {
             "outlinewidth": 0,
             "ticks": ""
            },
            "colorscale": [
             [
              0,
              "#0d0887"
             ],
             [
              0.1111111111111111,
              "#46039f"
             ],
             [
              0.2222222222222222,
              "#7201a8"
             ],
             [
              0.3333333333333333,
              "#9c179e"
             ],
             [
              0.4444444444444444,
              "#bd3786"
             ],
             [
              0.5555555555555556,
              "#d8576b"
             ],
             [
              0.6666666666666666,
              "#ed7953"
             ],
             [
              0.7777777777777778,
              "#fb9f3a"
             ],
             [
              0.8888888888888888,
              "#fdca26"
             ],
             [
              1,
              "#f0f921"
             ]
            ],
            "type": "surface"
           }
          ],
          "table": [
           {
            "cells": {
             "fill": {
              "color": "#EBF0F8"
             },
             "line": {
              "color": "white"
             }
            },
            "header": {
             "fill": {
              "color": "#C8D4E3"
             },
             "line": {
              "color": "white"
             }
            },
            "type": "table"
           }
          ]
         },
         "layout": {
          "annotationdefaults": {
           "arrowcolor": "#2a3f5f",
           "arrowhead": 0,
           "arrowwidth": 1
          },
          "autotypenumbers": "strict",
          "coloraxis": {
           "colorbar": {
            "outlinewidth": 0,
            "ticks": ""
           }
          },
          "colorscale": {
           "diverging": [
            [
             0,
             "#8e0152"
            ],
            [
             0.1,
             "#c51b7d"
            ],
            [
             0.2,
             "#de77ae"
            ],
            [
             0.3,
             "#f1b6da"
            ],
            [
             0.4,
             "#fde0ef"
            ],
            [
             0.5,
             "#f7f7f7"
            ],
            [
             0.6,
             "#e6f5d0"
            ],
            [
             0.7,
             "#b8e186"
            ],
            [
             0.8,
             "#7fbc41"
            ],
            [
             0.9,
             "#4d9221"
            ],
            [
             1,
             "#276419"
            ]
           ],
           "sequential": [
            [
             0,
             "#0d0887"
            ],
            [
             0.1111111111111111,
             "#46039f"
            ],
            [
             0.2222222222222222,
             "#7201a8"
            ],
            [
             0.3333333333333333,
             "#9c179e"
            ],
            [
             0.4444444444444444,
             "#bd3786"
            ],
            [
             0.5555555555555556,
             "#d8576b"
            ],
            [
             0.6666666666666666,
             "#ed7953"
            ],
            [
             0.7777777777777778,
             "#fb9f3a"
            ],
            [
             0.8888888888888888,
             "#fdca26"
            ],
            [
             1,
             "#f0f921"
            ]
           ],
           "sequentialminus": [
            [
             0,
             "#0d0887"
            ],
            [
             0.1111111111111111,
             "#46039f"
            ],
            [
             0.2222222222222222,
             "#7201a8"
            ],
            [
             0.3333333333333333,
             "#9c179e"
            ],
            [
             0.4444444444444444,
             "#bd3786"
            ],
            [
             0.5555555555555556,
             "#d8576b"
            ],
            [
             0.6666666666666666,
             "#ed7953"
            ],
            [
             0.7777777777777778,
             "#fb9f3a"
            ],
            [
             0.8888888888888888,
             "#fdca26"
            ],
            [
             1,
             "#f0f921"
            ]
           ]
          },
          "colorway": [
           "#636efa",
           "#EF553B",
           "#00cc96",
           "#ab63fa",
           "#FFA15A",
           "#19d3f3",
           "#FF6692",
           "#B6E880",
           "#FF97FF",
           "#FECB52"
          ],
          "font": {
           "color": "#2a3f5f"
          },
          "geo": {
           "bgcolor": "white",
           "lakecolor": "white",
           "landcolor": "#E5ECF6",
           "showlakes": true,
           "showland": true,
           "subunitcolor": "white"
          },
          "hoverlabel": {
           "align": "left"
          },
          "hovermode": "closest",
          "mapbox": {
           "style": "light"
          },
          "paper_bgcolor": "white",
          "plot_bgcolor": "#E5ECF6",
          "polar": {
           "angularaxis": {
            "gridcolor": "white",
            "linecolor": "white",
            "ticks": ""
           },
           "bgcolor": "#E5ECF6",
           "radialaxis": {
            "gridcolor": "white",
            "linecolor": "white",
            "ticks": ""
           }
          },
          "scene": {
           "xaxis": {
            "backgroundcolor": "#E5ECF6",
            "gridcolor": "white",
            "gridwidth": 2,
            "linecolor": "white",
            "showbackground": true,
            "ticks": "",
            "zerolinecolor": "white"
           },
           "yaxis": {
            "backgroundcolor": "#E5ECF6",
            "gridcolor": "white",
            "gridwidth": 2,
            "linecolor": "white",
            "showbackground": true,
            "ticks": "",
            "zerolinecolor": "white"
           },
           "zaxis": {
            "backgroundcolor": "#E5ECF6",
            "gridcolor": "white",
            "gridwidth": 2,
            "linecolor": "white",
            "showbackground": true,
            "ticks": "",
            "zerolinecolor": "white"
           }
          },
          "shapedefaults": {
           "line": {
            "color": "#2a3f5f"
           }
          },
          "ternary": {
           "aaxis": {
            "gridcolor": "white",
            "linecolor": "white",
            "ticks": ""
           },
           "baxis": {
            "gridcolor": "white",
            "linecolor": "white",
            "ticks": ""
           },
           "bgcolor": "#E5ECF6",
           "caxis": {
            "gridcolor": "white",
            "linecolor": "white",
            "ticks": ""
           }
          },
          "title": {
           "x": 0.05
          },
          "xaxis": {
           "automargin": true,
           "gridcolor": "white",
           "linecolor": "white",
           "ticks": "",
           "title": {
            "standoff": 15
           },
           "zerolinecolor": "white",
           "zerolinewidth": 2
          },
          "yaxis": {
           "automargin": true,
           "gridcolor": "white",
           "linecolor": "white",
           "ticks": "",
           "title": {
            "standoff": 15
           },
           "zerolinecolor": "white",
           "zerolinewidth": 2
          }
         }
        },
        "title": {
         "text": "3 months rolling average of comments"
        },
        "xaxis": {
         "anchor": "y",
         "domain": [
          0,
          1
         ],
         "title": {
          "text": "x"
         }
        },
        "yaxis": {
         "anchor": "x",
         "domain": [
          0,
          1
         ],
         "title": {
          "text": "CommentCount"
         }
        }
       }
      }
     },
     "metadata": {},
     "output_type": "display_data"
    }
   ],
   "source": [
    "comment = px.line(\n",
    "    rollavg,\n",
    "    x=rollavg.index.to_timestamp(),\n",
    "    y=\"CommentCount\",\n",
    "    title=\"3 months rolling average of comments\",\n",
    "    color=\"Tags\",\n",
    ")\n",
    "\n",
    "comment.add_vline(\n",
    "    x=\"2020-03-11\",\n",
    "    line_width=2,\n",
    "    line_dash=\"dash\",\n",
    "    line_color=\"gray\"\n",
    ")\n",
    "\n",
    "# add text annotation vertically\n",
    "\n",
    "comment.add_annotation(\n",
    "    x=\"2020-03-11\",\n",
    "    y=60,\n",
    "    align=\"right\",\n",
    "    text=\"COVID-19\",\n",
    "    showarrow=False,\n",
    "    font=dict(\n",
    "        family=\"Courier New, monospace\",\n",
    "        size=16,\n",
    "        color=\"black\")\n",
    ")"
   ]
  },
  {
   "cell_type": "code",
   "execution_count": 185,
   "metadata": {},
   "outputs": [],
   "source": [
    "comment.write_html('comment.html')"
   ]
  },
  {
   "cell_type": "code",
   "execution_count": 178,
   "metadata": {},
   "outputs": [
    {
     "data": {
      "application/vnd.plotly.v1+json": {
       "config": {
        "plotlyServerURL": "https://plot.ly"
       },
       "data": [
        {
         "hovertemplate": "Tags=baking<br>x=%{x}<br>PostCount=%{y}<extra></extra>",
         "legendgroup": "baking",
         "line": {
          "color": "#636efa",
          "dash": "solid"
         },
         "marker": {
          "symbol": "circle"
         },
         "mode": "lines",
         "name": "baking",
         "orientation": "v",
         "showlegend": true,
         "type": "scatter",
         "x": [
          "2018-02-01T00:00:00",
          "2018-03-01T00:00:00",
          "2018-04-01T00:00:00",
          "2018-05-01T00:00:00",
          "2018-06-01T00:00:00",
          "2018-07-01T00:00:00",
          "2018-08-01T00:00:00",
          "2018-09-01T00:00:00",
          "2018-10-01T00:00:00",
          "2018-11-01T00:00:00",
          "2018-12-01T00:00:00",
          "2019-01-01T00:00:00",
          "2019-02-01T00:00:00",
          "2019-03-01T00:00:00",
          "2019-04-01T00:00:00",
          "2019-05-01T00:00:00",
          "2019-06-01T00:00:00",
          "2019-07-01T00:00:00",
          "2019-08-01T00:00:00",
          "2019-09-01T00:00:00",
          "2019-10-01T00:00:00",
          "2019-11-01T00:00:00",
          "2019-12-01T00:00:00",
          "2020-01-01T00:00:00",
          "2020-02-01T00:00:00",
          "2020-03-01T00:00:00",
          "2020-04-01T00:00:00",
          "2020-05-01T00:00:00",
          "2020-06-01T00:00:00",
          "2020-07-01T00:00:00",
          "2020-08-01T00:00:00",
          "2020-09-01T00:00:00",
          "2020-10-01T00:00:00",
          "2020-11-01T00:00:00",
          "2020-12-01T00:00:00",
          "2021-01-01T00:00:00",
          "2021-02-01T00:00:00",
          "2021-03-01T00:00:00",
          "2021-04-01T00:00:00",
          "2021-05-01T00:00:00",
          "2021-06-01T00:00:00",
          "2021-07-01T00:00:00",
          "2021-08-01T00:00:00",
          "2021-09-01T00:00:00",
          "2021-10-01T00:00:00",
          "2021-11-01T00:00:00",
          "2021-12-01T00:00:00",
          "2022-01-01T00:00:00",
          "2022-02-01T00:00:00",
          "2022-03-01T00:00:00",
          "2022-04-01T00:00:00",
          "2022-05-01T00:00:00",
          "2022-06-01T00:00:00",
          "2022-07-01T00:00:00"
         ],
         "xaxis": "x",
         "y": [
          16,
          14.333333333333334,
          14.666666666666666,
          11,
          9.333333333333334,
          9,
          11.333333333333334,
          14.666666666666666,
          21.333333333333332,
          26.666666666666668,
          29,
          23.333333333333332,
          20,
          16.666666666666668,
          15.333333333333334,
          14,
          14.666666666666666,
          16,
          15,
          16,
          15.333333333333334,
          15.333333333333334,
          14.666666666666666,
          14.333333333333334,
          13.666666666666666,
          18,
          22.333333333333332,
          23.333333333333332,
          19,
          16.333333333333332,
          15.666666666666666,
          14.333333333333334,
          11.666666666666666,
          14.333333333333334,
          14.666666666666666,
          15.666666666666666,
          10.666666666666666,
          9,
          9.333333333333334,
          10.666666666666666,
          12,
          9.333333333333334,
          9,
          7.333333333333333,
          6,
          4.666666666666667,
          7,
          7.333333333333333,
          6.666666666666667,
          5,
          6,
          6,
          5,
          4.5
         ],
         "yaxis": "y"
        },
        {
         "hovertemplate": "Tags=bread<br>x=%{x}<br>PostCount=%{y}<extra></extra>",
         "legendgroup": "bread",
         "line": {
          "color": "#EF553B",
          "dash": "solid"
         },
         "marker": {
          "symbol": "circle"
         },
         "mode": "lines",
         "name": "bread",
         "orientation": "v",
         "showlegend": true,
         "type": "scatter",
         "x": [
          "2018-02-01T00:00:00",
          "2018-03-01T00:00:00",
          "2018-04-01T00:00:00",
          "2018-05-01T00:00:00",
          "2018-06-01T00:00:00",
          "2018-07-01T00:00:00",
          "2018-08-01T00:00:00",
          "2018-09-01T00:00:00",
          "2018-10-01T00:00:00",
          "2018-11-01T00:00:00",
          "2018-12-01T00:00:00",
          "2019-01-01T00:00:00",
          "2019-02-01T00:00:00",
          "2019-03-01T00:00:00",
          "2019-04-01T00:00:00",
          "2019-05-01T00:00:00",
          "2019-06-01T00:00:00",
          "2019-07-01T00:00:00",
          "2019-08-01T00:00:00",
          "2019-09-01T00:00:00",
          "2019-10-01T00:00:00",
          "2019-11-01T00:00:00",
          "2019-12-01T00:00:00",
          "2020-01-01T00:00:00",
          "2020-02-01T00:00:00",
          "2020-03-01T00:00:00",
          "2020-04-01T00:00:00",
          "2020-05-01T00:00:00",
          "2020-06-01T00:00:00",
          "2020-07-01T00:00:00",
          "2020-08-01T00:00:00",
          "2020-09-01T00:00:00",
          "2020-10-01T00:00:00",
          "2020-11-01T00:00:00",
          "2020-12-01T00:00:00",
          "2021-01-01T00:00:00",
          "2021-02-01T00:00:00",
          "2021-03-01T00:00:00",
          "2021-04-01T00:00:00",
          "2021-05-01T00:00:00",
          "2021-06-01T00:00:00",
          "2021-07-01T00:00:00",
          "2021-08-01T00:00:00",
          "2021-09-01T00:00:00",
          "2021-10-01T00:00:00",
          "2021-11-01T00:00:00",
          "2021-12-01T00:00:00",
          "2022-01-01T00:00:00",
          "2022-02-01T00:00:00",
          "2022-03-01T00:00:00",
          "2022-04-01T00:00:00",
          "2022-05-01T00:00:00"
         ],
         "xaxis": "x",
         "y": [
          10,
          10,
          11.333333333333334,
          8.666666666666666,
          7.333333333333333,
          7.666666666666667,
          7.333333333333333,
          8.666666666666666,
          9,
          9.666666666666666,
          12,
          11.333333333333334,
          10.333333333333334,
          7.666666666666667,
          8.666666666666666,
          10,
          11.333333333333334,
          11,
          8.666666666666666,
          8,
          8.333333333333334,
          9.333333333333334,
          8.666666666666666,
          9.333333333333334,
          10.333333333333334,
          14.666666666666666,
          20.666666666666668,
          21.666666666666668,
          17.666666666666668,
          12.333333333333334,
          9.333333333333334,
          7,
          5.666666666666667,
          6,
          9.333333333333334,
          8.333333333333334,
          7,
          4.666666666666667,
          5,
          5.666666666666667,
          5.333333333333333,
          5,
          5.333333333333333,
          5.333333333333333,
          4.333333333333333,
          3.3333333333333335,
          3.6666666666666665,
          3.3333333333333335,
          4,
          3.6666666666666665,
          4.333333333333333,
          4.5
         ],
         "yaxis": "y"
        },
        {
         "hovertemplate": "Tags=sourdough<br>x=%{x}<br>PostCount=%{y}<extra></extra>",
         "legendgroup": "sourdough",
         "line": {
          "color": "#00cc96",
          "dash": "solid"
         },
         "marker": {
          "symbol": "circle"
         },
         "mode": "lines",
         "name": "sourdough",
         "orientation": "v",
         "showlegend": true,
         "type": "scatter",
         "x": [
          "2018-03-01T00:00:00",
          "2018-04-01T00:00:00",
          "2018-05-01T00:00:00",
          "2018-06-01T00:00:00",
          "2018-07-01T00:00:00",
          "2018-08-01T00:00:00",
          "2018-09-01T00:00:00",
          "2018-10-01T00:00:00",
          "2019-01-01T00:00:00",
          "2019-02-01T00:00:00",
          "2019-03-01T00:00:00",
          "2019-05-01T00:00:00",
          "2019-06-01T00:00:00",
          "2019-07-01T00:00:00",
          "2019-08-01T00:00:00",
          "2019-09-01T00:00:00",
          "2019-10-01T00:00:00",
          "2019-11-01T00:00:00",
          "2020-01-01T00:00:00",
          "2020-02-01T00:00:00",
          "2020-03-01T00:00:00",
          "2020-04-01T00:00:00",
          "2020-05-01T00:00:00",
          "2020-06-01T00:00:00",
          "2020-07-01T00:00:00",
          "2020-08-01T00:00:00",
          "2020-09-01T00:00:00",
          "2020-10-01T00:00:00",
          "2020-11-01T00:00:00",
          "2020-12-01T00:00:00",
          "2021-01-01T00:00:00",
          "2021-02-01T00:00:00",
          "2021-04-01T00:00:00",
          "2021-05-01T00:00:00",
          "2021-06-01T00:00:00",
          "2021-07-01T00:00:00",
          "2022-01-01T00:00:00",
          "2022-03-01T00:00:00",
          "2022-04-01T00:00:00",
          "2022-05-01T00:00:00",
          "2022-06-01T00:00:00"
         ],
         "xaxis": "x",
         "y": [
          3,
          2.6666666666666665,
          1.6666666666666667,
          1.6666666666666667,
          3.3333333333333335,
          3.6666666666666665,
          4,
          3.6666666666666665,
          4.333333333333333,
          4.333333333333333,
          3.3333333333333335,
          3.6666666666666665,
          4.666666666666667,
          4,
          3,
          1.3333333333333333,
          1.3333333333333333,
          1,
          1.6666666666666667,
          1.6666666666666667,
          6.333333333333333,
          10.666666666666666,
          11.333333333333334,
          7.333333333333333,
          3.6666666666666665,
          3.6666666666666665,
          3.6666666666666665,
          3.6666666666666665,
          3.3333333333333335,
          3.6666666666666665,
          3,
          2.6666666666666665,
          1.6666666666666667,
          1,
          1.6666666666666667,
          1.6666666666666667,
          1.6666666666666667,
          1.6666666666666667,
          1.6666666666666667,
          1.6666666666666667,
          1
         ],
         "yaxis": "y"
        }
       ],
       "layout": {
        "annotations": [
         {
          "align": "right",
          "font": {
           "color": "black",
           "family": "Courier New, monospace",
           "size": 16
          },
          "showarrow": false,
          "text": "COVID-19",
          "x": "2020-03-11",
          "y": 35
         }
        ],
        "legend": {
         "title": {
          "text": "Tags"
         },
         "tracegroupgap": 0
        },
        "shapes": [
         {
          "line": {
           "color": "gray",
           "dash": "dash",
           "width": 2
          },
          "type": "line",
          "x0": "2020-03-11",
          "x1": "2020-03-11",
          "xref": "x",
          "y0": 0,
          "y1": 1,
          "yref": "y domain"
         }
        ],
        "template": {
         "data": {
          "bar": [
           {
            "error_x": {
             "color": "#2a3f5f"
            },
            "error_y": {
             "color": "#2a3f5f"
            },
            "marker": {
             "line": {
              "color": "#E5ECF6",
              "width": 0.5
             },
             "pattern": {
              "fillmode": "overlay",
              "size": 10,
              "solidity": 0.2
             }
            },
            "type": "bar"
           }
          ],
          "barpolar": [
           {
            "marker": {
             "line": {
              "color": "#E5ECF6",
              "width": 0.5
             },
             "pattern": {
              "fillmode": "overlay",
              "size": 10,
              "solidity": 0.2
             }
            },
            "type": "barpolar"
           }
          ],
          "carpet": [
           {
            "aaxis": {
             "endlinecolor": "#2a3f5f",
             "gridcolor": "white",
             "linecolor": "white",
             "minorgridcolor": "white",
             "startlinecolor": "#2a3f5f"
            },
            "baxis": {
             "endlinecolor": "#2a3f5f",
             "gridcolor": "white",
             "linecolor": "white",
             "minorgridcolor": "white",
             "startlinecolor": "#2a3f5f"
            },
            "type": "carpet"
           }
          ],
          "choropleth": [
           {
            "colorbar": {
             "outlinewidth": 0,
             "ticks": ""
            },
            "type": "choropleth"
           }
          ],
          "contour": [
           {
            "colorbar": {
             "outlinewidth": 0,
             "ticks": ""
            },
            "colorscale": [
             [
              0,
              "#0d0887"
             ],
             [
              0.1111111111111111,
              "#46039f"
             ],
             [
              0.2222222222222222,
              "#7201a8"
             ],
             [
              0.3333333333333333,
              "#9c179e"
             ],
             [
              0.4444444444444444,
              "#bd3786"
             ],
             [
              0.5555555555555556,
              "#d8576b"
             ],
             [
              0.6666666666666666,
              "#ed7953"
             ],
             [
              0.7777777777777778,
              "#fb9f3a"
             ],
             [
              0.8888888888888888,
              "#fdca26"
             ],
             [
              1,
              "#f0f921"
             ]
            ],
            "type": "contour"
           }
          ],
          "contourcarpet": [
           {
            "colorbar": {
             "outlinewidth": 0,
             "ticks": ""
            },
            "type": "contourcarpet"
           }
          ],
          "heatmap": [
           {
            "colorbar": {
             "outlinewidth": 0,
             "ticks": ""
            },
            "colorscale": [
             [
              0,
              "#0d0887"
             ],
             [
              0.1111111111111111,
              "#46039f"
             ],
             [
              0.2222222222222222,
              "#7201a8"
             ],
             [
              0.3333333333333333,
              "#9c179e"
             ],
             [
              0.4444444444444444,
              "#bd3786"
             ],
             [
              0.5555555555555556,
              "#d8576b"
             ],
             [
              0.6666666666666666,
              "#ed7953"
             ],
             [
              0.7777777777777778,
              "#fb9f3a"
             ],
             [
              0.8888888888888888,
              "#fdca26"
             ],
             [
              1,
              "#f0f921"
             ]
            ],
            "type": "heatmap"
           }
          ],
          "heatmapgl": [
           {
            "colorbar": {
             "outlinewidth": 0,
             "ticks": ""
            },
            "colorscale": [
             [
              0,
              "#0d0887"
             ],
             [
              0.1111111111111111,
              "#46039f"
             ],
             [
              0.2222222222222222,
              "#7201a8"
             ],
             [
              0.3333333333333333,
              "#9c179e"
             ],
             [
              0.4444444444444444,
              "#bd3786"
             ],
             [
              0.5555555555555556,
              "#d8576b"
             ],
             [
              0.6666666666666666,
              "#ed7953"
             ],
             [
              0.7777777777777778,
              "#fb9f3a"
             ],
             [
              0.8888888888888888,
              "#fdca26"
             ],
             [
              1,
              "#f0f921"
             ]
            ],
            "type": "heatmapgl"
           }
          ],
          "histogram": [
           {
            "marker": {
             "pattern": {
              "fillmode": "overlay",
              "size": 10,
              "solidity": 0.2
             }
            },
            "type": "histogram"
           }
          ],
          "histogram2d": [
           {
            "colorbar": {
             "outlinewidth": 0,
             "ticks": ""
            },
            "colorscale": [
             [
              0,
              "#0d0887"
             ],
             [
              0.1111111111111111,
              "#46039f"
             ],
             [
              0.2222222222222222,
              "#7201a8"
             ],
             [
              0.3333333333333333,
              "#9c179e"
             ],
             [
              0.4444444444444444,
              "#bd3786"
             ],
             [
              0.5555555555555556,
              "#d8576b"
             ],
             [
              0.6666666666666666,
              "#ed7953"
             ],
             [
              0.7777777777777778,
              "#fb9f3a"
             ],
             [
              0.8888888888888888,
              "#fdca26"
             ],
             [
              1,
              "#f0f921"
             ]
            ],
            "type": "histogram2d"
           }
          ],
          "histogram2dcontour": [
           {
            "colorbar": {
             "outlinewidth": 0,
             "ticks": ""
            },
            "colorscale": [
             [
              0,
              "#0d0887"
             ],
             [
              0.1111111111111111,
              "#46039f"
             ],
             [
              0.2222222222222222,
              "#7201a8"
             ],
             [
              0.3333333333333333,
              "#9c179e"
             ],
             [
              0.4444444444444444,
              "#bd3786"
             ],
             [
              0.5555555555555556,
              "#d8576b"
             ],
             [
              0.6666666666666666,
              "#ed7953"
             ],
             [
              0.7777777777777778,
              "#fb9f3a"
             ],
             [
              0.8888888888888888,
              "#fdca26"
             ],
             [
              1,
              "#f0f921"
             ]
            ],
            "type": "histogram2dcontour"
           }
          ],
          "mesh3d": [
           {
            "colorbar": {
             "outlinewidth": 0,
             "ticks": ""
            },
            "type": "mesh3d"
           }
          ],
          "parcoords": [
           {
            "line": {
             "colorbar": {
              "outlinewidth": 0,
              "ticks": ""
             }
            },
            "type": "parcoords"
           }
          ],
          "pie": [
           {
            "automargin": true,
            "type": "pie"
           }
          ],
          "scatter": [
           {
            "fillpattern": {
             "fillmode": "overlay",
             "size": 10,
             "solidity": 0.2
            },
            "type": "scatter"
           }
          ],
          "scatter3d": [
           {
            "line": {
             "colorbar": {
              "outlinewidth": 0,
              "ticks": ""
             }
            },
            "marker": {
             "colorbar": {
              "outlinewidth": 0,
              "ticks": ""
             }
            },
            "type": "scatter3d"
           }
          ],
          "scattercarpet": [
           {
            "marker": {
             "colorbar": {
              "outlinewidth": 0,
              "ticks": ""
             }
            },
            "type": "scattercarpet"
           }
          ],
          "scattergeo": [
           {
            "marker": {
             "colorbar": {
              "outlinewidth": 0,
              "ticks": ""
             }
            },
            "type": "scattergeo"
           }
          ],
          "scattergl": [
           {
            "marker": {
             "colorbar": {
              "outlinewidth": 0,
              "ticks": ""
             }
            },
            "type": "scattergl"
           }
          ],
          "scattermapbox": [
           {
            "marker": {
             "colorbar": {
              "outlinewidth": 0,
              "ticks": ""
             }
            },
            "type": "scattermapbox"
           }
          ],
          "scatterpolar": [
           {
            "marker": {
             "colorbar": {
              "outlinewidth": 0,
              "ticks": ""
             }
            },
            "type": "scatterpolar"
           }
          ],
          "scatterpolargl": [
           {
            "marker": {
             "colorbar": {
              "outlinewidth": 0,
              "ticks": ""
             }
            },
            "type": "scatterpolargl"
           }
          ],
          "scatterternary": [
           {
            "marker": {
             "colorbar": {
              "outlinewidth": 0,
              "ticks": ""
             }
            },
            "type": "scatterternary"
           }
          ],
          "surface": [
           {
            "colorbar": {
             "outlinewidth": 0,
             "ticks": ""
            },
            "colorscale": [
             [
              0,
              "#0d0887"
             ],
             [
              0.1111111111111111,
              "#46039f"
             ],
             [
              0.2222222222222222,
              "#7201a8"
             ],
             [
              0.3333333333333333,
              "#9c179e"
             ],
             [
              0.4444444444444444,
              "#bd3786"
             ],
             [
              0.5555555555555556,
              "#d8576b"
             ],
             [
              0.6666666666666666,
              "#ed7953"
             ],
             [
              0.7777777777777778,
              "#fb9f3a"
             ],
             [
              0.8888888888888888,
              "#fdca26"
             ],
             [
              1,
              "#f0f921"
             ]
            ],
            "type": "surface"
           }
          ],
          "table": [
           {
            "cells": {
             "fill": {
              "color": "#EBF0F8"
             },
             "line": {
              "color": "white"
             }
            },
            "header": {
             "fill": {
              "color": "#C8D4E3"
             },
             "line": {
              "color": "white"
             }
            },
            "type": "table"
           }
          ]
         },
         "layout": {
          "annotationdefaults": {
           "arrowcolor": "#2a3f5f",
           "arrowhead": 0,
           "arrowwidth": 1
          },
          "autotypenumbers": "strict",
          "coloraxis": {
           "colorbar": {
            "outlinewidth": 0,
            "ticks": ""
           }
          },
          "colorscale": {
           "diverging": [
            [
             0,
             "#8e0152"
            ],
            [
             0.1,
             "#c51b7d"
            ],
            [
             0.2,
             "#de77ae"
            ],
            [
             0.3,
             "#f1b6da"
            ],
            [
             0.4,
             "#fde0ef"
            ],
            [
             0.5,
             "#f7f7f7"
            ],
            [
             0.6,
             "#e6f5d0"
            ],
            [
             0.7,
             "#b8e186"
            ],
            [
             0.8,
             "#7fbc41"
            ],
            [
             0.9,
             "#4d9221"
            ],
            [
             1,
             "#276419"
            ]
           ],
           "sequential": [
            [
             0,
             "#0d0887"
            ],
            [
             0.1111111111111111,
             "#46039f"
            ],
            [
             0.2222222222222222,
             "#7201a8"
            ],
            [
             0.3333333333333333,
             "#9c179e"
            ],
            [
             0.4444444444444444,
             "#bd3786"
            ],
            [
             0.5555555555555556,
             "#d8576b"
            ],
            [
             0.6666666666666666,
             "#ed7953"
            ],
            [
             0.7777777777777778,
             "#fb9f3a"
            ],
            [
             0.8888888888888888,
             "#fdca26"
            ],
            [
             1,
             "#f0f921"
            ]
           ],
           "sequentialminus": [
            [
             0,
             "#0d0887"
            ],
            [
             0.1111111111111111,
             "#46039f"
            ],
            [
             0.2222222222222222,
             "#7201a8"
            ],
            [
             0.3333333333333333,
             "#9c179e"
            ],
            [
             0.4444444444444444,
             "#bd3786"
            ],
            [
             0.5555555555555556,
             "#d8576b"
            ],
            [
             0.6666666666666666,
             "#ed7953"
            ],
            [
             0.7777777777777778,
             "#fb9f3a"
            ],
            [
             0.8888888888888888,
             "#fdca26"
            ],
            [
             1,
             "#f0f921"
            ]
           ]
          },
          "colorway": [
           "#636efa",
           "#EF553B",
           "#00cc96",
           "#ab63fa",
           "#FFA15A",
           "#19d3f3",
           "#FF6692",
           "#B6E880",
           "#FF97FF",
           "#FECB52"
          ],
          "font": {
           "color": "#2a3f5f"
          },
          "geo": {
           "bgcolor": "white",
           "lakecolor": "white",
           "landcolor": "#E5ECF6",
           "showlakes": true,
           "showland": true,
           "subunitcolor": "white"
          },
          "hoverlabel": {
           "align": "left"
          },
          "hovermode": "closest",
          "mapbox": {
           "style": "light"
          },
          "paper_bgcolor": "white",
          "plot_bgcolor": "#E5ECF6",
          "polar": {
           "angularaxis": {
            "gridcolor": "white",
            "linecolor": "white",
            "ticks": ""
           },
           "bgcolor": "#E5ECF6",
           "radialaxis": {
            "gridcolor": "white",
            "linecolor": "white",
            "ticks": ""
           }
          },
          "scene": {
           "xaxis": {
            "backgroundcolor": "#E5ECF6",
            "gridcolor": "white",
            "gridwidth": 2,
            "linecolor": "white",
            "showbackground": true,
            "ticks": "",
            "zerolinecolor": "white"
           },
           "yaxis": {
            "backgroundcolor": "#E5ECF6",
            "gridcolor": "white",
            "gridwidth": 2,
            "linecolor": "white",
            "showbackground": true,
            "ticks": "",
            "zerolinecolor": "white"
           },
           "zaxis": {
            "backgroundcolor": "#E5ECF6",
            "gridcolor": "white",
            "gridwidth": 2,
            "linecolor": "white",
            "showbackground": true,
            "ticks": "",
            "zerolinecolor": "white"
           }
          },
          "shapedefaults": {
           "line": {
            "color": "#2a3f5f"
           }
          },
          "ternary": {
           "aaxis": {
            "gridcolor": "white",
            "linecolor": "white",
            "ticks": ""
           },
           "baxis": {
            "gridcolor": "white",
            "linecolor": "white",
            "ticks": ""
           },
           "bgcolor": "#E5ECF6",
           "caxis": {
            "gridcolor": "white",
            "linecolor": "white",
            "ticks": ""
           }
          },
          "title": {
           "x": 0.05
          },
          "xaxis": {
           "automargin": true,
           "gridcolor": "white",
           "linecolor": "white",
           "ticks": "",
           "title": {
            "standoff": 15
           },
           "zerolinecolor": "white",
           "zerolinewidth": 2
          },
          "yaxis": {
           "automargin": true,
           "gridcolor": "white",
           "linecolor": "white",
           "ticks": "",
           "title": {
            "standoff": 15
           },
           "zerolinecolor": "white",
           "zerolinewidth": 2
          }
         }
        },
        "title": {
         "text": "3 months rolling average of comments"
        },
        "xaxis": {
         "anchor": "y",
         "domain": [
          0,
          1
         ],
         "title": {
          "text": "x"
         }
        },
        "yaxis": {
         "anchor": "x",
         "domain": [
          0,
          1
         ],
         "title": {
          "text": "PostCount"
         }
        }
       }
      }
     },
     "metadata": {},
     "output_type": "display_data"
    }
   ],
   "source": [
    "covid = px.line(\n",
    "    rollavg,\n",
    "    x=rollavg.index.to_timestamp(),\n",
    "    y=\"PostCount\",\n",
    "    color=\"Tags\",\n",
    "    title=\"3 months rolling average of comments\",\n",
    ")\n",
    "\n",
    "covid.add_vline(\n",
    "    x=\"2020-03-11\",\n",
    "    line_width=2,\n",
    "    line_dash=\"dash\",\n",
    "    line_color=\"gray\"\n",
    ")\n",
    "\n",
    "covid.add_annotation(\n",
    "    x=\"2020-03-11\",\n",
    "    y=35,\n",
    "    align=\"right\",\n",
    "    text=\"COVID-19\",\n",
    "    showarrow=False,\n",
    "    font=dict(\n",
    "        family=\"Courier New, monospace\",\n",
    "        size=16,\n",
    "        color=\"black\")\n",
    ")"
   ]
  },
  {
   "cell_type": "code",
   "execution_count": 179,
   "metadata": {},
   "outputs": [],
   "source": [
    "covid.write_html('covid.html')"
   ]
  },
  {
   "cell_type": "markdown",
   "metadata": {},
   "source": [
    "# Post explorer"
   ]
  },
  {
   "cell_type": "code",
   "execution_count": 180,
   "metadata": {},
   "outputs": [
    {
     "name": "stderr",
     "output_type": "stream",
     "text": [
      "/tmp/ipykernel_18248/2249637510.py:3: FutureWarning:\n",
      "\n",
      "In a future version, `df.iloc[:, i] = newvals` will attempt to set the values inplace instead of always setting a new array. To retain the old behavior, use either `df[df.columns[i]] = newvals` or, if columns are non-unique, `df.isetitem(i, newvals)`\n",
      "\n"
     ]
    }
   ],
   "source": [
    "\n",
    "mydf = df[df.Tags.isin(mylist)].copy()\n",
    "\n",
    "mydf.loc[:, [\"ViewCount\", \"AnswerCount\", \"CommentCount\"]] = mydf.loc[\n",
    "    :, [\"ViewCount\", \"AnswerCount\", \"CommentCount\"]\n",
    "].astype(int)\n"
   ]
  },
  {
   "cell_type": "code",
   "execution_count": 181,
   "metadata": {},
   "outputs": [],
   "source": [
    "# create column with year\n",
    "mydf['Year'] = mydf['CreationDate'].dt.year\n",
    "mydf['Month'] = mydf['CreationDate'].dt.month"
   ]
  },
  {
   "cell_type": "code",
   "execution_count": 182,
   "metadata": {},
   "outputs": [
    {
     "data": {
      "application/vnd.plotly.v1+json": {
       "config": {
        "plotlyServerURL": "https://plot.ly"
       },
       "data": [
        {
         "hovertemplate": "<b>%{hovertext}</b><br><br>Tags=baking<br>Year=2018<br>Month=%{x}<br>CommentCount=%{y}<br>AnswerCount=%{marker.size}<extra></extra>",
         "hovertext": [
          "Baking ratio for waffles!",
          "Can cake batter sit before using?",
          "Can I par-bake French bread?",
          "Cake Cooking Time: Burning on outside - raw in the middle",
          "Sourdough recipe with vinegar",
          "Do I need baking powder/baking soda for my flourless corn bread?",
          "Can I take a glass baking dish from the fridge and put it in a hot oven?",
          "Why add baking powder when creaming sugar and butter?",
          "Can I replace baking soda with bread flour in a cake recipe that already has baking powder?",
          "After baking, bread coated with shiny residue",
          "How do I stop my flatbread from going hard like pizza crust?",
          "What to do when a recipe calls for dutch process cocoa and you only have regular cocoa?",
          "Is it okay to measure flour by weight by converting from volume?",
          "How do you bring ingredients to room temperature when its winter?",
          "Why did my devil food cake come out flavorless?",
          "Cake dry to wet cooking time ratio",
          "Creating some flakiness inside a Belgian Liege waffle",
          "How to adjust Baker's Percentage when Adding Ingredients",
          "Dry rub baby back ribs",
          "Is a chipped Bundt pan safe to use?",
          "How does a chocolate pudding cake work?",
          "Is it possible to resume baking brownies the day after?",
          "Used Metal Knife on Aluminum Cake Pan, is it Ruined?",
          "Chocolate layer cake tears easily",
          "Hamburger in the oven",
          "Injeolmi - Korean Sweet Rice Cakes",
          "Can I \"fill\" a chicken pot pie 24 hours before cooking it?",
          "How do I find / buy \"pastry bars\"?",
          "What vessel to use for baking cheesecake",
          "Help with making pavlova bases",
          "Would this recipe really work",
          "How can you safely remove 9x13 pans/dishes from a hot water bath?",
          "What causes a bread dough to become dense?",
          "Baking madeleines without burning them",
          "Macarons//egg whites with sugar are not sifting",
          "Bulk ingredient for keto/low carb flour substitute mix with gluten",
          "Why does the grated coconut \"float\" to the top of quindim while baking?",
          "Baker’s ratio for crackers",
          "Buttery Chocolate chip cookies",
          "Should I put yeast in sweet bread?",
          "Sourdough starter hydration",
          "Issue getting Atta bread right",
          "How do I add citric acid to my hard candy without it burning?",
          "Is Torta de Santiago supposed to be very moist?",
          "Am I missing out on something by not using parchment paper?",
          "Artisan sourdough bread",
          "What are some ways to make caramel thin?",
          "Sourdough starter not buoyant",
          "Does near expiration date milk continue to \"age\" in a cooked dish?",
          "What is an appropriate water to yeast ratio for hydrating yeast for bagels?",
          "Large Aluminium foil bakingpan",
          "Rigging equipment for steaming large amounts at once",
          "Bagels - Use of Barley Malt Syrup or Non-Diastatic Malt Powder",
          "What utensil (material) to use in Convection + Grill mode of Microwave Oven?",
          "Will an IPA beer work properly for beer bread?",
          "Why is it safe to bake a fish when unsaturated fats degrade in low temperatures?",
          "Are there negative effects of freezing for bread and cake?",
          "Why would I ever use my oven's 'bake' setting when it also has a 'convection bake'?",
          "Can I use low-temperature cooking for foie gras",
          "How to add richness to a vegan dough?",
          "Cheese crackers",
          "Is both creaming and chemical leavening needed?",
          "How do I make my bread heavy when baked?",
          "Baking Soft Boiled Eggs?",
          "Why cool creme brulee?",
          "Does shortbread ship well?",
          "How to make my pizza dough Soft?",
          "Greek yogurt substitute in baking?",
          "Autolyse with milk or substitute the milk?",
          "Reducing flour coating on flatbreads",
          "Amount of ingredients for 3 boxes of cake mix",
          "What is the difference between a wild yeast starter and a sourdough starter?",
          "How should I adjust the time and/or temperature when baking a pound cake in loaf pans",
          "Foamy cakey layer on top of lemon squares",
          "How to incorporate grape flavor in a chiffon cake?",
          "Angel Food Cake: crushed pineapple instead of sugar?",
          "Coconut Cookies have bitter underlying taste",
          "Characteristics of lupin and soy flours",
          "Heating part baked baguettes in lid-covered pyrex",
          "Adjusting yeast and rise times in recipes",
          "Fully baked cookies in a 90 F car",
          "What actually happens if you pour a glaze over a loaf cake before it has cooled?",
          "Ascorbic Acid, Calcium Propionate - Differences?",
          "Custard-like cake",
          "unable to bake runny batter recipes",
          "Comparing different binding agents (Konjac, Xanthan Gum, Guar Gum, Corn Flour)",
          "Multilayered brownie help",
          "In bakeries, what are the factors that make breads become hard?",
          "Pitaya Red Velvet Cake became brown",
          "Why did my cake go Offsided?",
          "How to proof croissants in the hot weather?",
          "Is cooking with an air fryer similar, nutritionally, to baking?",
          "Small black spot on sourdough starter",
          "Unpleasant crust on bread",
          "Presentation - How to make a Tiramisu to be photogenic?",
          "How do I follow a recipe if my oven doesn't go as high as the recipe states?",
          "How much lemon extract to substitute anise extract?",
          "Folding dry ingredients into the cake batter: at once or in 2/3 portions, does it make a difference?",
          "What is the benefit of a tinfoil packet?",
          "Are the terms self-rising flour and baking powder different in the US and UK?",
          "Baker's Angel Flake Coconut",
          "Lasagna won't cook properly in oven with no lower exposed element :(",
          "Do you leave the oven thermometer inside the oven while you are baking?",
          "Cooking with Hemp Protein Powder",
          "Why did my vegan croissants come out flat?",
          "How to adjust baking time and temperature for volume?",
          "Can using a poolish or biga preferment help me make a less dense wholemeal bread?",
          "Managing oven temperature",
          "About chicken and osmosis",
          "How could I split the proving and baking of bread over 8 hours plus?",
          "Replacement for Almond Milk",
          "Baking great chewy oatmeal cookies with Quaker Instant Oatmeal Fruit packs",
          "Granola from oat groats",
          "Chocolate cake recipe requires both baking powder and baking soda?",
          "When to add marzipan?",
          "How do I get my pizza dough base really crispy?",
          "Is it possible to freeze my own 'oven-fry' crumbed food items?",
          "Chiffon cake constantly has an unfilled bottom",
          "Gas oven heated from the bottom",
          "Yo-yo/custard cookies cracking",
          "Private Cooking Lessons",
          "What makes pie dough sticky?",
          "Puff Pastry vs Pie Crust",
          "Why does my cake get hard after baking?",
          "Sugar substitute for cake recipe",
          "What property does rice flour add to a shortbread recipe?",
          "Bread crust separated from interior",
          "Sour Dough Wet Dough",
          "Softened butter vs over softened butter",
          "How to convert cooking times",
          "Getting some rum into a commerical fruitcake",
          "How can I fix my grainy buttercream?",
          "Do pies baked in disposable pans turn out okay?",
          "Using whole eggs versus egg whites only",
          "How can I keep brownies from sticking to the pan?",
          "Does cooking or baking with honey make it toxic?",
          "How do I need to alter a recipe if I am using a convection oven?",
          "How do you test a cake or brownie with a toothpick?",
          "How can i convert all purpose flour to bread flour?",
          "what is a required temperature of water for foaming of yeast??",
          "How do i cook pizza dough before adding toppings?",
          "How do i make frozen pizza crispy and what temperature is required?",
          "Can we use baking powder instead of activated yeast for making pizza dough?if yes than in which proportion we can use it?",
          "How much oil do i use in place of butter in a cake?",
          "I love palm sugar, when can I bake with it",
          "Parchment vs baking paper",
          "Can I substitute...whole wheat for all-purpose flour for baked goods?",
          "Can i use vegetable oil instead of butter in cookies?",
          "Puff Pastry wet / gummy on the inside",
          "What are the basic tricks to prevent the bottom layer of cake from burn when making it without an oven?",
          "Why doesn’t my gas oven cook well?",
          "Baking more than 1 cut of meat at same time?",
          "How to bring eggs to room temperature fast while baking?",
          "Storing dry yeast in freezer?",
          "Difference between cooking apples and eating apples",
          "How far ahead can I bake puff pastry?",
          "Ideal Coffee Grind for dough-like recipes",
          "How long to bake a pre-baked ham?",
          "Potato chips lose crunch and taste within a week",
          "Using baking strips vs. submerging in a water bath",
          "How can I make cookies less dry and crumbly?",
          "How to bake cake in pressure cooker instead of microwave?",
          "Too much butter in pie crust",
          "Sweet roll dough",
          "How do I cook frozen fish in microwave?",
          "How to Avoid Soggy Chopped Nuts in Baked Goods",
          "Reference for Hydration Levels",
          "Glucose in sweet bread?",
          "How do I prevent mini cheesecakes from stick in muffin pan",
          "Can I make a sweet hot water crust pastry?",
          "Plum cake recipe",
          "How long to bake matzah, butter and sugar at a lower temperature",
          "Baguette style bread with seeds",
          "Weird-shaped jelly doughnuts",
          "How do I get something sticky like honey or Golden Syrup off measuring spoons or measuring cups? Is there a better way?",
          "Placing a cookie sheet under my pyrex baking dish in a convection oven",
          "How to get intended taste using baking powder instead of acid + baking soda?",
          "How to place nuts on top of the cake so that they stay symmetrically?",
          "Can i put yeast into cookie dough to make them thicker looking?",
          "How much gluten for soft, airy, enriched dough?",
          "Making Bacon Spirals",
          "Please suggest a substitute for espresso powder which is not made from coffee",
          "What happens to dough when sugar is added?",
          "Does it take longer to cook more pork ribs?",
          "How to make wafer paper?",
          "What happens to yeast in bread after it dies?",
          "Does Sugar Cook Eggs?",
          "Refrigerated sugar cookie dough",
          "Top of Dough \"Cracked\" During Cold Rise - is it bad?",
          "I want to make normal sandwich bread. What's the yeast called in an Italian supermarket?",
          "How to make Brie En Croute less rich/cheesy?",
          "How to make crescent rolls soft and fluffy?",
          "Quick breads in foil pans",
          "How to use a preferment / poolish? Cake vs ADY?",
          "Can fresh citrus juice be reduced to concentrate flavor?",
          "How to make rolls airier and crustier?"
         ],
         "legendgroup": "baking",
         "marker": {
          "color": "#636efa",
          "size": [
           1,
           2,
           1,
           1,
           1,
           2,
           4,
           3,
           4,
           1,
           1,
           1,
           3,
           1,
           1,
           1,
           0,
           2,
           1,
           0,
           1,
           2,
           1,
           1,
           1,
           0,
           3,
           2,
           3,
           4,
           1,
           2,
           0,
           1,
           1,
           2,
           1,
           0,
           1,
           1,
           2,
           3,
           1,
           1,
           3,
           1,
           0,
           1,
           2,
           2,
           1,
           1,
           2,
           1,
           2,
           2,
           2,
           0,
           1,
           2,
           2,
           1,
           1,
           2,
           1,
           1,
           2,
           1,
           1,
           0,
           1,
           1,
           3,
           2,
           1,
           4,
           3,
           1,
           1,
           2,
           2,
           1,
           1,
           2,
           1,
           1,
           1,
           0,
           2,
           3,
           1,
           1,
           2,
           1,
           2,
           3,
           1,
           2,
           3,
           2,
           1,
           2,
           1,
           0,
           2,
           1,
           1,
           1,
           1,
           3,
           3,
           1,
           0,
           1,
           1,
           2,
           1,
           3,
           1,
           0,
           4,
           2,
           2,
           4,
           2,
           2,
           2,
           0,
           2,
           1,
           3,
           1,
           1,
           1,
           1,
           2,
           0,
           1,
           1,
           1,
           1,
           1,
           1,
           1,
           1,
           2,
           1,
           4,
           1,
           1,
           2,
           1,
           2,
           1,
           1,
           2,
           1,
           1,
           1,
           1,
           1,
           3,
           1,
           1,
           1,
           1,
           1,
           1,
           1,
           1,
           2,
           1,
           2,
           1,
           15,
           1,
           1,
           1,
           0,
           1,
           3,
           6,
           1,
           1,
           3,
           1,
           2,
           1,
           2,
           1,
           1,
           1,
           2,
           1,
           2,
           0
          ],
          "sizemode": "area",
          "sizeref": 0.0375,
          "symbol": "circle"
         },
         "mode": "markers",
         "name": "baking",
         "orientation": "v",
         "showlegend": true,
         "type": "scatter",
         "x": [
          1,
          1,
          1,
          1,
          1,
          1,
          1,
          1,
          1,
          1,
          1,
          1,
          1,
          1,
          1,
          1,
          1,
          2,
          2,
          2,
          2,
          2,
          2,
          2,
          2,
          2,
          2,
          2,
          2,
          2,
          3,
          3,
          3,
          3,
          3,
          3,
          3,
          3,
          3,
          3,
          3,
          3,
          3,
          3,
          3,
          3,
          3,
          3,
          3,
          4,
          4,
          4,
          4,
          4,
          4,
          4,
          4,
          4,
          4,
          4,
          5,
          5,
          5,
          5,
          5,
          5,
          5,
          5,
          5,
          5,
          5,
          5,
          5,
          5,
          6,
          6,
          6,
          6,
          6,
          6,
          6,
          6,
          7,
          7,
          7,
          7,
          7,
          7,
          8,
          8,
          8,
          8,
          8,
          8,
          8,
          8,
          8,
          8,
          8,
          8,
          8,
          9,
          9,
          9,
          9,
          9,
          9,
          9,
          9,
          9,
          9,
          9,
          9,
          9,
          9,
          9,
          10,
          10,
          10,
          10,
          10,
          10,
          10,
          10,
          10,
          10,
          10,
          10,
          10,
          10,
          10,
          10,
          11,
          11,
          11,
          11,
          11,
          11,
          11,
          11,
          11,
          11,
          11,
          11,
          11,
          11,
          11,
          11,
          11,
          11,
          11,
          11,
          11,
          11,
          11,
          11,
          11,
          11,
          11,
          11,
          11,
          11,
          11,
          11,
          11,
          12,
          12,
          12,
          12,
          12,
          12,
          12,
          12,
          12,
          12,
          12,
          12,
          12,
          12,
          12,
          12,
          12,
          12,
          12,
          12,
          12,
          12,
          12,
          12,
          12,
          12,
          12,
          12,
          12,
          12,
          12
         ],
         "xaxis": "x",
         "y": [
          1,
          3,
          0,
          13,
          0,
          1,
          0,
          3,
          3,
          2,
          3,
          4,
          1,
          5,
          15,
          2,
          1,
          4,
          0,
          1,
          2,
          0,
          0,
          1,
          3,
          1,
          2,
          3,
          4,
          1,
          0,
          2,
          3,
          3,
          0,
          2,
          4,
          3,
          1,
          2,
          0,
          5,
          4,
          0,
          3,
          1,
          3,
          0,
          1,
          5,
          0,
          3,
          2,
          0,
          5,
          1,
          0,
          0,
          2,
          1,
          0,
          2,
          6,
          3,
          0,
          0,
          6,
          0,
          4,
          1,
          0,
          2,
          0,
          4,
          3,
          6,
          0,
          7,
          6,
          0,
          0,
          0,
          0,
          3,
          4,
          6,
          0,
          2,
          2,
          1,
          6,
          0,
          1,
          3,
          5,
          4,
          2,
          0,
          3,
          0,
          0,
          0,
          0,
          1,
          8,
          0,
          0,
          3,
          5,
          6,
          7,
          4,
          2,
          0,
          0,
          2,
          5,
          1,
          1,
          4,
          4,
          6,
          1,
          0,
          0,
          0,
          4,
          0,
          2,
          0,
          0,
          0,
          0,
          1,
          0,
          2,
          3,
          0,
          0,
          0,
          5,
          1,
          0,
          0,
          0,
          1,
          0,
          0,
          0,
          2,
          4,
          2,
          0,
          0,
          0,
          2,
          0,
          0,
          2,
          1,
          0,
          4,
          3,
          1,
          5,
          0,
          0,
          1,
          0,
          1,
          7,
          0,
          1,
          0,
          8,
          0,
          1,
          1,
          3,
          1,
          4,
          5,
          0,
          1,
          2,
          0,
          1,
          1,
          2,
          4,
          1,
          1,
          0,
          0,
          4,
          4
         ],
         "yaxis": "y"
        },
        {
         "hovertemplate": "<b>%{hovertext}</b><br><br>Tags=sourdough<br>Year=2018<br>Month=%{x}<br>CommentCount=%{y}<br>AnswerCount=%{marker.size}<extra></extra>",
         "hovertext": [
          "Sourdough starter and long term feeding",
          "Sourdough recipe with vinegar",
          "Working with a slack (sticky) sourdough",
          "Storing fresh sourdough",
          "Making sourdough bread with just flour and water (and no starter)",
          "Sourdough starter hydration",
          "Artisan sourdough bread",
          "Sourdough starter not buoyant",
          "What's the point of long/complex sourdough feeding techniques?",
          "My sourdough starter stopped growing after day two",
          "What went wrong with this bread?",
          "What is the difference between a wild yeast starter and a sourdough starter?",
          "Sourdough Starter Black Spots",
          "My sourdough starter split in 2 on the 3rd day. What should I do?",
          "Sourdough starter stopped growing, is it normal?",
          "Sourdough starter - Have I been doing it wrong?",
          "When to add salt in sourdough bread mix?",
          "Small black spot on sourdough starter",
          "Not feeding sourdough starter enough?",
          "How do I make my sourdough crust thinner?",
          "Wheat sourdough starter - \"swamp\" smell",
          "Pros and Cons of Sourdough",
          "Why is my gluten so weak?",
          "Over proofed dough still good?",
          "What type of flour is ideal for sourdough?",
          "What does sourdough starter REALLY need?",
          "Vinegar Smell from Sourdough Starter"
         ],
         "legendgroup": "sourdough",
         "marker": {
          "color": "#EF553B",
          "size": [
           1,
           1,
           2,
           1,
           1,
           2,
           1,
           1,
           3,
           1,
           2,
           1,
           1,
           1,
           3,
           3,
           2,
           2,
           3,
           1,
           0,
           1,
           1,
           3,
           1,
           2,
           2
          ],
          "sizemode": "area",
          "sizeref": 0.0375,
          "symbol": "circle"
         },
         "mode": "markers",
         "name": "sourdough",
         "orientation": "v",
         "showlegend": true,
         "type": "scatter",
         "x": [
          1,
          1,
          1,
          1,
          3,
          3,
          3,
          3,
          4,
          4,
          5,
          5,
          6,
          7,
          7,
          8,
          8,
          8,
          8,
          8,
          8,
          8,
          9,
          9,
          10,
          10,
          10
         ],
         "xaxis": "x",
         "y": [
          2,
          0,
          2,
          1,
          0,
          0,
          1,
          0,
          3,
          2,
          3,
          2,
          5,
          0,
          4,
          2,
          0,
          1,
          2,
          0,
          2,
          9,
          2,
          2,
          1,
          2,
          0
         ],
         "yaxis": "y"
        },
        {
         "hovertemplate": "<b>%{hovertext}</b><br><br>Tags=bread<br>Year=2018<br>Month=%{x}<br>CommentCount=%{y}<br>AnswerCount=%{marker.size}<extra></extra>",
         "hovertext": [
          "Can I par-bake French bread?",
          "how does bread fermentation change in relation to inital yeast weight, time and temperature?",
          "Sourdough recipe with vinegar",
          "Forgot the yeast in a brioche bread recipe",
          "Can I use whole milk instead of powdered milk?",
          "After baking, bread coated with shiny residue",
          "How to create Yellow Bread",
          "How do I stop my flatbread from going hard like pizza crust?",
          "How much gluten should I add to maida flour for bread, and how?",
          "Does waiting for bread to rise before baking change its nutrient composition?",
          "ziplock-type gallon bag to store my sour dough starter in the fridge.",
          "Sugar and Salt Solutions",
          "Converting sugars with yeast",
          "What causes a bread dough to become dense?",
          "If I double a bread recipe do I double the salt?",
          "What cheese might compliment New England clam chowder?",
          "How interchangeable are fats in yeast bread recipes?",
          "Can I blend pasta and add water to make bread or pizza dough?",
          "Baker’s ratio for crackers",
          "Making sourdough bread with just flour and water (and no starter)",
          "Should I put yeast in sweet bread?",
          "Sourdough starter hydration",
          "Issue getting Atta bread right",
          "Preserving bread with vinegar",
          "Artisan sourdough bread",
          "What are some ways to make caramel thin?",
          "How can I remove a stuck babka from a stoneware baking bowl?",
          "Sourdough starter not buoyant",
          "Adding Instant Yeast to dry bread mix for later use",
          "Making Easter Bread",
          "Sun light on sour dough starter",
          "What's the point of long/complex sourdough feeding techniques?",
          "No knead bread dough looking slimy after a week",
          "Working principle of a farinograph",
          "Bagels - Use of Barley Malt Syrup or Non-Diastatic Malt Powder",
          "Will an IPA beer work properly for beer bread?",
          "What is the English name for chleb bez maki?",
          "Adding malt powder to a conventional brown bread machine recipe",
          "Undercooked French Bread in Bread machine",
          "When to apply a white egg wash on white wheat bread?",
          "Is there a general algorithm for calculating the amount of yeast while making bread?",
          "How do I make my bread heavy when baked?",
          "What are some pros/cons of restarting a bread machine mid-cycle?",
          "About ripe bananas for banana bread",
          "Can I make bread/pizza dough with only cricket flour and no wheat flour",
          "What is the difference between a wild yeast starter and a sourdough starter?",
          "Was \"Pastry flour for bread\"",
          "Does room temperature affect rising time for bread dough?",
          "Bread is too moist in a humid climate",
          "Why do Injera recipes call for adding boiling water or cooking down tef with some water?",
          "Heating part baked baguettes in lid-covered pyrex",
          "Can I use cilantro instead of basil on a bruschetta?",
          "Problem with bread taste and smell",
          "Why did flatbread dominate the Middle East but Europe adopted raised breads?",
          "Why is tin loaf bread not usually scored like other forms of bread?",
          "Home-made Burger buns food safety",
          "Ascorbic Acid, Calcium Propionate - Differences?",
          "What's the function of acerola powder in bread?",
          "Why does this recipe call for so much yeast?",
          "Kneading dough by hand",
          "In bakeries, what are the factors that make breads become hard?",
          "Are there home bread machines that can make baguettes or boules?",
          "Does teff flour destroy gluten, and what do do about it?",
          "Substituting maple syrup for honey in bread",
          "Not feeding sourdough starter enough?",
          "Unpleasant crust on bread",
          "How do I follow a recipe if my oven doesn't go as high as the recipe states?",
          "Why does storing bread in a plastic (grocery) bag keep it fresh longer?",
          "The quest for the perfect croissant",
          "Must bread dough clear the side of the mixer using the hook?",
          "Why is my gluten so weak?",
          "Using Greek farina (cake flour) instead of yeast for making bread whilst combined with general puproce flour",
          "Can using a poolish or biga preferment help me make a less dense wholemeal bread?",
          "My mom says to knead bread doutgh after rising",
          "Freezing bread baked from frozen yeast bread dough",
          "How could I split the proving and baking of bread over 8 hours plus?",
          "My bread recipe book isn't linear with its ingredients?",
          "Over proofed dough still good?",
          "How to save a bread without enough water",
          "Freezing bread, sliced or whole",
          "What does sourdough starter REALLY need?",
          "Vinegar Smell from Sourdough Starter",
          "Bread crust separated from interior",
          "soft then stiff baguette dough",
          "Sour Dough Wet Dough",
          "Cast Iron Bread Tin is Leaving Black Spots on Bread?",
          "Are these tiny white dots on my bread mold?",
          "ratio of non diastatic malt powder to one pound of flour.",
          "Help with hand tossed pizza dough (like domino's)",
          "what is a required temperature of water for foaming of yeast??",
          "Can I make a gluten free sourdough bread?",
          "How do I know that the quantity of salt is enough for a given amount of flour?",
          "How can I save bread from mildew?",
          "Too much Baking Soda in Banana Bread",
          "How does the viscosity of honey affect bread machine results?",
          "Oven temperature when increase bread recipe?",
          "Glucose in sweet bread?",
          "How can we prevent the steaming of tiffin when we put chapatis in?",
          "Why slow ferment after shaping?",
          "Difficulty with frozen bread dough",
          "How much gluten for soft, airy, enriched dough?",
          "What happens to dough when sugar is added?",
          "Top of Dough \"Cracked\" During Cold Rise - is it bad?",
          "Quick breads in foil pans",
          "What to look for in a thermometer for bread making?",
          "How to use a preferment / poolish? Cake vs ADY?",
          "How to make rolls airier and crustier?"
         ],
         "legendgroup": "bread",
         "marker": {
          "color": "#00cc96",
          "size": [
           1,
           1,
           1,
           2,
           1,
           1,
           4,
           1,
           1,
           1,
           1,
           2,
           0,
           0,
           1,
           1,
           2,
           3,
           0,
           1,
           1,
           2,
           3,
           2,
           1,
           0,
           1,
           1,
           4,
           1,
           1,
           3,
           1,
           0,
           2,
           2,
           1,
           1,
           1,
           3,
           1,
           1,
           1,
           2,
           3,
           1,
           1,
           1,
           1,
           2,
           1,
           1,
           4,
           7,
           2,
           2,
           1,
           2,
           2,
           4,
           0,
           2,
           1,
           2,
           3,
           1,
           3,
           2,
           4,
           1,
           1,
           1,
           1,
           1,
           2,
           3,
           2,
           3,
           1,
           1,
           2,
           2,
           2,
           1,
           0,
           1,
           1,
           1,
           1,
           1,
           1,
           2,
           1,
           2,
           0,
           2,
           1,
           2,
           2,
           2,
           1,
           1,
           2,
           2,
           0,
           1,
           0
          ],
          "sizemode": "area",
          "sizeref": 0.0375,
          "symbol": "circle"
         },
         "mode": "markers",
         "name": "bread",
         "orientation": "v",
         "showlegend": true,
         "type": "scatter",
         "x": [
          1,
          1,
          1,
          1,
          1,
          1,
          1,
          1,
          1,
          1,
          2,
          2,
          3,
          3,
          3,
          3,
          3,
          3,
          3,
          3,
          3,
          3,
          3,
          3,
          3,
          3,
          3,
          3,
          3,
          3,
          4,
          4,
          4,
          4,
          4,
          4,
          4,
          4,
          4,
          4,
          5,
          5,
          5,
          5,
          5,
          5,
          6,
          6,
          6,
          6,
          6,
          6,
          6,
          6,
          6,
          6,
          7,
          7,
          7,
          7,
          7,
          7,
          8,
          8,
          8,
          8,
          8,
          8,
          8,
          9,
          9,
          9,
          9,
          9,
          9,
          9,
          9,
          9,
          10,
          10,
          10,
          10,
          10,
          10,
          10,
          10,
          10,
          10,
          11,
          11,
          11,
          11,
          11,
          11,
          11,
          11,
          12,
          12,
          12,
          12,
          12,
          12,
          12,
          12,
          12,
          12,
          12
         ],
         "xaxis": "x",
         "y": [
          0,
          0,
          0,
          1,
          0,
          2,
          0,
          3,
          0,
          1,
          2,
          1,
          2,
          3,
          2,
          0,
          2,
          0,
          3,
          0,
          2,
          0,
          5,
          10,
          1,
          3,
          1,
          0,
          2,
          1,
          0,
          3,
          0,
          6,
          2,
          5,
          5,
          0,
          3,
          6,
          0,
          6,
          1,
          0,
          5,
          2,
          4,
          2,
          6,
          0,
          6,
          1,
          8,
          5,
          0,
          3,
          0,
          3,
          6,
          3,
          2,
          7,
          3,
          0,
          2,
          3,
          4,
          0,
          0,
          0,
          2,
          4,
          0,
          1,
          0,
          6,
          3,
          2,
          0,
          0,
          2,
          0,
          4,
          0,
          0,
          0,
          0,
          0,
          7,
          0,
          0,
          4,
          0,
          2,
          1,
          1,
          1,
          0,
          1,
          1,
          1,
          0,
          2,
          0,
          2,
          0,
          4
         ],
         "yaxis": "y"
        }
       ],
       "frames": [
        {
         "data": [
          {
           "hovertemplate": "<b>%{hovertext}</b><br><br>Tags=baking<br>Year=2018<br>Month=%{x}<br>CommentCount=%{y}<br>AnswerCount=%{marker.size}<extra></extra>",
           "hovertext": [
            "Baking ratio for waffles!",
            "Can cake batter sit before using?",
            "Can I par-bake French bread?",
            "Cake Cooking Time: Burning on outside - raw in the middle",
            "Sourdough recipe with vinegar",
            "Do I need baking powder/baking soda for my flourless corn bread?",
            "Can I take a glass baking dish from the fridge and put it in a hot oven?",
            "Why add baking powder when creaming sugar and butter?",
            "Can I replace baking soda with bread flour in a cake recipe that already has baking powder?",
            "After baking, bread coated with shiny residue",
            "How do I stop my flatbread from going hard like pizza crust?",
            "What to do when a recipe calls for dutch process cocoa and you only have regular cocoa?",
            "Is it okay to measure flour by weight by converting from volume?",
            "How do you bring ingredients to room temperature when its winter?",
            "Why did my devil food cake come out flavorless?",
            "Cake dry to wet cooking time ratio",
            "Creating some flakiness inside a Belgian Liege waffle",
            "How to adjust Baker's Percentage when Adding Ingredients",
            "Dry rub baby back ribs",
            "Is a chipped Bundt pan safe to use?",
            "How does a chocolate pudding cake work?",
            "Is it possible to resume baking brownies the day after?",
            "Used Metal Knife on Aluminum Cake Pan, is it Ruined?",
            "Chocolate layer cake tears easily",
            "Hamburger in the oven",
            "Injeolmi - Korean Sweet Rice Cakes",
            "Can I \"fill\" a chicken pot pie 24 hours before cooking it?",
            "How do I find / buy \"pastry bars\"?",
            "What vessel to use for baking cheesecake",
            "Help with making pavlova bases",
            "Would this recipe really work",
            "How can you safely remove 9x13 pans/dishes from a hot water bath?",
            "What causes a bread dough to become dense?",
            "Baking madeleines without burning them",
            "Macarons//egg whites with sugar are not sifting",
            "Bulk ingredient for keto/low carb flour substitute mix with gluten",
            "Why does the grated coconut \"float\" to the top of quindim while baking?",
            "Baker’s ratio for crackers",
            "Buttery Chocolate chip cookies",
            "Should I put yeast in sweet bread?",
            "Sourdough starter hydration",
            "Issue getting Atta bread right",
            "How do I add citric acid to my hard candy without it burning?",
            "Is Torta de Santiago supposed to be very moist?",
            "Am I missing out on something by not using parchment paper?",
            "Artisan sourdough bread",
            "What are some ways to make caramel thin?",
            "Sourdough starter not buoyant",
            "Does near expiration date milk continue to \"age\" in a cooked dish?",
            "What is an appropriate water to yeast ratio for hydrating yeast for bagels?",
            "Large Aluminium foil bakingpan",
            "Rigging equipment for steaming large amounts at once",
            "Bagels - Use of Barley Malt Syrup or Non-Diastatic Malt Powder",
            "What utensil (material) to use in Convection + Grill mode of Microwave Oven?",
            "Will an IPA beer work properly for beer bread?",
            "Why is it safe to bake a fish when unsaturated fats degrade in low temperatures?",
            "Are there negative effects of freezing for bread and cake?",
            "Why would I ever use my oven's 'bake' setting when it also has a 'convection bake'?",
            "Can I use low-temperature cooking for foie gras",
            "How to add richness to a vegan dough?",
            "Cheese crackers",
            "Is both creaming and chemical leavening needed?",
            "How do I make my bread heavy when baked?",
            "Baking Soft Boiled Eggs?",
            "Why cool creme brulee?",
            "Does shortbread ship well?",
            "How to make my pizza dough Soft?",
            "Greek yogurt substitute in baking?",
            "Autolyse with milk or substitute the milk?",
            "Reducing flour coating on flatbreads",
            "Amount of ingredients for 3 boxes of cake mix",
            "What is the difference between a wild yeast starter and a sourdough starter?",
            "How should I adjust the time and/or temperature when baking a pound cake in loaf pans",
            "Foamy cakey layer on top of lemon squares",
            "How to incorporate grape flavor in a chiffon cake?",
            "Angel Food Cake: crushed pineapple instead of sugar?",
            "Coconut Cookies have bitter underlying taste",
            "Characteristics of lupin and soy flours",
            "Heating part baked baguettes in lid-covered pyrex",
            "Adjusting yeast and rise times in recipes",
            "Fully baked cookies in a 90 F car",
            "What actually happens if you pour a glaze over a loaf cake before it has cooled?",
            "Ascorbic Acid, Calcium Propionate - Differences?",
            "Custard-like cake",
            "unable to bake runny batter recipes",
            "Comparing different binding agents (Konjac, Xanthan Gum, Guar Gum, Corn Flour)",
            "Multilayered brownie help",
            "In bakeries, what are the factors that make breads become hard?",
            "Pitaya Red Velvet Cake became brown",
            "Why did my cake go Offsided?",
            "How to proof croissants in the hot weather?",
            "Is cooking with an air fryer similar, nutritionally, to baking?",
            "Small black spot on sourdough starter",
            "Unpleasant crust on bread",
            "Presentation - How to make a Tiramisu to be photogenic?",
            "How do I follow a recipe if my oven doesn't go as high as the recipe states?",
            "How much lemon extract to substitute anise extract?",
            "Folding dry ingredients into the cake batter: at once or in 2/3 portions, does it make a difference?",
            "What is the benefit of a tinfoil packet?",
            "Are the terms self-rising flour and baking powder different in the US and UK?",
            "Baker's Angel Flake Coconut",
            "Lasagna won't cook properly in oven with no lower exposed element :(",
            "Do you leave the oven thermometer inside the oven while you are baking?",
            "Cooking with Hemp Protein Powder",
            "Why did my vegan croissants come out flat?",
            "How to adjust baking time and temperature for volume?",
            "Can using a poolish or biga preferment help me make a less dense wholemeal bread?",
            "Managing oven temperature",
            "About chicken and osmosis",
            "How could I split the proving and baking of bread over 8 hours plus?",
            "Replacement for Almond Milk",
            "Baking great chewy oatmeal cookies with Quaker Instant Oatmeal Fruit packs",
            "Granola from oat groats",
            "Chocolate cake recipe requires both baking powder and baking soda?",
            "When to add marzipan?",
            "How do I get my pizza dough base really crispy?",
            "Is it possible to freeze my own 'oven-fry' crumbed food items?",
            "Chiffon cake constantly has an unfilled bottom",
            "Gas oven heated from the bottom",
            "Yo-yo/custard cookies cracking",
            "Private Cooking Lessons",
            "What makes pie dough sticky?",
            "Puff Pastry vs Pie Crust",
            "Why does my cake get hard after baking?",
            "Sugar substitute for cake recipe",
            "What property does rice flour add to a shortbread recipe?",
            "Bread crust separated from interior",
            "Sour Dough Wet Dough",
            "Softened butter vs over softened butter",
            "How to convert cooking times",
            "Getting some rum into a commerical fruitcake",
            "How can I fix my grainy buttercream?",
            "Do pies baked in disposable pans turn out okay?",
            "Using whole eggs versus egg whites only",
            "How can I keep brownies from sticking to the pan?",
            "Does cooking or baking with honey make it toxic?",
            "How do I need to alter a recipe if I am using a convection oven?",
            "How do you test a cake or brownie with a toothpick?",
            "How can i convert all purpose flour to bread flour?",
            "what is a required temperature of water for foaming of yeast??",
            "How do i cook pizza dough before adding toppings?",
            "How do i make frozen pizza crispy and what temperature is required?",
            "Can we use baking powder instead of activated yeast for making pizza dough?if yes than in which proportion we can use it?",
            "How much oil do i use in place of butter in a cake?",
            "I love palm sugar, when can I bake with it",
            "Parchment vs baking paper",
            "Can I substitute...whole wheat for all-purpose flour for baked goods?",
            "Can i use vegetable oil instead of butter in cookies?",
            "Puff Pastry wet / gummy on the inside",
            "What are the basic tricks to prevent the bottom layer of cake from burn when making it without an oven?",
            "Why doesn’t my gas oven cook well?",
            "Baking more than 1 cut of meat at same time?",
            "How to bring eggs to room temperature fast while baking?",
            "Storing dry yeast in freezer?",
            "Difference between cooking apples and eating apples",
            "How far ahead can I bake puff pastry?",
            "Ideal Coffee Grind for dough-like recipes",
            "How long to bake a pre-baked ham?",
            "Potato chips lose crunch and taste within a week",
            "Using baking strips vs. submerging in a water bath",
            "How can I make cookies less dry and crumbly?",
            "How to bake cake in pressure cooker instead of microwave?",
            "Too much butter in pie crust",
            "Sweet roll dough",
            "How do I cook frozen fish in microwave?",
            "How to Avoid Soggy Chopped Nuts in Baked Goods",
            "Reference for Hydration Levels",
            "Glucose in sweet bread?",
            "How do I prevent mini cheesecakes from stick in muffin pan",
            "Can I make a sweet hot water crust pastry?",
            "Plum cake recipe",
            "How long to bake matzah, butter and sugar at a lower temperature",
            "Baguette style bread with seeds",
            "Weird-shaped jelly doughnuts",
            "How do I get something sticky like honey or Golden Syrup off measuring spoons or measuring cups? Is there a better way?",
            "Placing a cookie sheet under my pyrex baking dish in a convection oven",
            "How to get intended taste using baking powder instead of acid + baking soda?",
            "How to place nuts on top of the cake so that they stay symmetrically?",
            "Can i put yeast into cookie dough to make them thicker looking?",
            "How much gluten for soft, airy, enriched dough?",
            "Making Bacon Spirals",
            "Please suggest a substitute for espresso powder which is not made from coffee",
            "What happens to dough when sugar is added?",
            "Does it take longer to cook more pork ribs?",
            "How to make wafer paper?",
            "What happens to yeast in bread after it dies?",
            "Does Sugar Cook Eggs?",
            "Refrigerated sugar cookie dough",
            "Top of Dough \"Cracked\" During Cold Rise - is it bad?",
            "I want to make normal sandwich bread. What's the yeast called in an Italian supermarket?",
            "How to make Brie En Croute less rich/cheesy?",
            "How to make crescent rolls soft and fluffy?",
            "Quick breads in foil pans",
            "How to use a preferment / poolish? Cake vs ADY?",
            "Can fresh citrus juice be reduced to concentrate flavor?",
            "How to make rolls airier and crustier?"
           ],
           "legendgroup": "baking",
           "marker": {
            "color": "#636efa",
            "size": [
             1,
             2,
             1,
             1,
             1,
             2,
             4,
             3,
             4,
             1,
             1,
             1,
             3,
             1,
             1,
             1,
             0,
             2,
             1,
             0,
             1,
             2,
             1,
             1,
             1,
             0,
             3,
             2,
             3,
             4,
             1,
             2,
             0,
             1,
             1,
             2,
             1,
             0,
             1,
             1,
             2,
             3,
             1,
             1,
             3,
             1,
             0,
             1,
             2,
             2,
             1,
             1,
             2,
             1,
             2,
             2,
             2,
             0,
             1,
             2,
             2,
             1,
             1,
             2,
             1,
             1,
             2,
             1,
             1,
             0,
             1,
             1,
             3,
             2,
             1,
             4,
             3,
             1,
             1,
             2,
             2,
             1,
             1,
             2,
             1,
             1,
             1,
             0,
             2,
             3,
             1,
             1,
             2,
             1,
             2,
             3,
             1,
             2,
             3,
             2,
             1,
             2,
             1,
             0,
             2,
             1,
             1,
             1,
             1,
             3,
             3,
             1,
             0,
             1,
             1,
             2,
             1,
             3,
             1,
             0,
             4,
             2,
             2,
             4,
             2,
             2,
             2,
             0,
             2,
             1,
             3,
             1,
             1,
             1,
             1,
             2,
             0,
             1,
             1,
             1,
             1,
             1,
             1,
             1,
             1,
             2,
             1,
             4,
             1,
             1,
             2,
             1,
             2,
             1,
             1,
             2,
             1,
             1,
             1,
             1,
             1,
             3,
             1,
             1,
             1,
             1,
             1,
             1,
             1,
             1,
             2,
             1,
             2,
             1,
             15,
             1,
             1,
             1,
             0,
             1,
             3,
             6,
             1,
             1,
             3,
             1,
             2,
             1,
             2,
             1,
             1,
             1,
             2,
             1,
             2,
             0
            ],
            "sizemode": "area",
            "sizeref": 0.0375,
            "symbol": "circle"
           },
           "mode": "markers",
           "name": "baking",
           "orientation": "v",
           "showlegend": true,
           "type": "scatter",
           "x": [
            1,
            1,
            1,
            1,
            1,
            1,
            1,
            1,
            1,
            1,
            1,
            1,
            1,
            1,
            1,
            1,
            1,
            2,
            2,
            2,
            2,
            2,
            2,
            2,
            2,
            2,
            2,
            2,
            2,
            2,
            3,
            3,
            3,
            3,
            3,
            3,
            3,
            3,
            3,
            3,
            3,
            3,
            3,
            3,
            3,
            3,
            3,
            3,
            3,
            4,
            4,
            4,
            4,
            4,
            4,
            4,
            4,
            4,
            4,
            4,
            5,
            5,
            5,
            5,
            5,
            5,
            5,
            5,
            5,
            5,
            5,
            5,
            5,
            5,
            6,
            6,
            6,
            6,
            6,
            6,
            6,
            6,
            7,
            7,
            7,
            7,
            7,
            7,
            8,
            8,
            8,
            8,
            8,
            8,
            8,
            8,
            8,
            8,
            8,
            8,
            8,
            9,
            9,
            9,
            9,
            9,
            9,
            9,
            9,
            9,
            9,
            9,
            9,
            9,
            9,
            9,
            10,
            10,
            10,
            10,
            10,
            10,
            10,
            10,
            10,
            10,
            10,
            10,
            10,
            10,
            10,
            10,
            11,
            11,
            11,
            11,
            11,
            11,
            11,
            11,
            11,
            11,
            11,
            11,
            11,
            11,
            11,
            11,
            11,
            11,
            11,
            11,
            11,
            11,
            11,
            11,
            11,
            11,
            11,
            11,
            11,
            11,
            11,
            11,
            11,
            12,
            12,
            12,
            12,
            12,
            12,
            12,
            12,
            12,
            12,
            12,
            12,
            12,
            12,
            12,
            12,
            12,
            12,
            12,
            12,
            12,
            12,
            12,
            12,
            12,
            12,
            12,
            12,
            12,
            12,
            12
           ],
           "xaxis": "x",
           "y": [
            1,
            3,
            0,
            13,
            0,
            1,
            0,
            3,
            3,
            2,
            3,
            4,
            1,
            5,
            15,
            2,
            1,
            4,
            0,
            1,
            2,
            0,
            0,
            1,
            3,
            1,
            2,
            3,
            4,
            1,
            0,
            2,
            3,
            3,
            0,
            2,
            4,
            3,
            1,
            2,
            0,
            5,
            4,
            0,
            3,
            1,
            3,
            0,
            1,
            5,
            0,
            3,
            2,
            0,
            5,
            1,
            0,
            0,
            2,
            1,
            0,
            2,
            6,
            3,
            0,
            0,
            6,
            0,
            4,
            1,
            0,
            2,
            0,
            4,
            3,
            6,
            0,
            7,
            6,
            0,
            0,
            0,
            0,
            3,
            4,
            6,
            0,
            2,
            2,
            1,
            6,
            0,
            1,
            3,
            5,
            4,
            2,
            0,
            3,
            0,
            0,
            0,
            0,
            1,
            8,
            0,
            0,
            3,
            5,
            6,
            7,
            4,
            2,
            0,
            0,
            2,
            5,
            1,
            1,
            4,
            4,
            6,
            1,
            0,
            0,
            0,
            4,
            0,
            2,
            0,
            0,
            0,
            0,
            1,
            0,
            2,
            3,
            0,
            0,
            0,
            5,
            1,
            0,
            0,
            0,
            1,
            0,
            0,
            0,
            2,
            4,
            2,
            0,
            0,
            0,
            2,
            0,
            0,
            2,
            1,
            0,
            4,
            3,
            1,
            5,
            0,
            0,
            1,
            0,
            1,
            7,
            0,
            1,
            0,
            8,
            0,
            1,
            1,
            3,
            1,
            4,
            5,
            0,
            1,
            2,
            0,
            1,
            1,
            2,
            4,
            1,
            1,
            0,
            0,
            4,
            4
           ],
           "yaxis": "y"
          },
          {
           "hovertemplate": "<b>%{hovertext}</b><br><br>Tags=sourdough<br>Year=2018<br>Month=%{x}<br>CommentCount=%{y}<br>AnswerCount=%{marker.size}<extra></extra>",
           "hovertext": [
            "Sourdough starter and long term feeding",
            "Sourdough recipe with vinegar",
            "Working with a slack (sticky) sourdough",
            "Storing fresh sourdough",
            "Making sourdough bread with just flour and water (and no starter)",
            "Sourdough starter hydration",
            "Artisan sourdough bread",
            "Sourdough starter not buoyant",
            "What's the point of long/complex sourdough feeding techniques?",
            "My sourdough starter stopped growing after day two",
            "What went wrong with this bread?",
            "What is the difference between a wild yeast starter and a sourdough starter?",
            "Sourdough Starter Black Spots",
            "My sourdough starter split in 2 on the 3rd day. What should I do?",
            "Sourdough starter stopped growing, is it normal?",
            "Sourdough starter - Have I been doing it wrong?",
            "When to add salt in sourdough bread mix?",
            "Small black spot on sourdough starter",
            "Not feeding sourdough starter enough?",
            "How do I make my sourdough crust thinner?",
            "Wheat sourdough starter - \"swamp\" smell",
            "Pros and Cons of Sourdough",
            "Why is my gluten so weak?",
            "Over proofed dough still good?",
            "What type of flour is ideal for sourdough?",
            "What does sourdough starter REALLY need?",
            "Vinegar Smell from Sourdough Starter"
           ],
           "legendgroup": "sourdough",
           "marker": {
            "color": "#EF553B",
            "size": [
             1,
             1,
             2,
             1,
             1,
             2,
             1,
             1,
             3,
             1,
             2,
             1,
             1,
             1,
             3,
             3,
             2,
             2,
             3,
             1,
             0,
             1,
             1,
             3,
             1,
             2,
             2
            ],
            "sizemode": "area",
            "sizeref": 0.0375,
            "symbol": "circle"
           },
           "mode": "markers",
           "name": "sourdough",
           "orientation": "v",
           "showlegend": true,
           "type": "scatter",
           "x": [
            1,
            1,
            1,
            1,
            3,
            3,
            3,
            3,
            4,
            4,
            5,
            5,
            6,
            7,
            7,
            8,
            8,
            8,
            8,
            8,
            8,
            8,
            9,
            9,
            10,
            10,
            10
           ],
           "xaxis": "x",
           "y": [
            2,
            0,
            2,
            1,
            0,
            0,
            1,
            0,
            3,
            2,
            3,
            2,
            5,
            0,
            4,
            2,
            0,
            1,
            2,
            0,
            2,
            9,
            2,
            2,
            1,
            2,
            0
           ],
           "yaxis": "y"
          },
          {
           "hovertemplate": "<b>%{hovertext}</b><br><br>Tags=bread<br>Year=2018<br>Month=%{x}<br>CommentCount=%{y}<br>AnswerCount=%{marker.size}<extra></extra>",
           "hovertext": [
            "Can I par-bake French bread?",
            "how does bread fermentation change in relation to inital yeast weight, time and temperature?",
            "Sourdough recipe with vinegar",
            "Forgot the yeast in a brioche bread recipe",
            "Can I use whole milk instead of powdered milk?",
            "After baking, bread coated with shiny residue",
            "How to create Yellow Bread",
            "How do I stop my flatbread from going hard like pizza crust?",
            "How much gluten should I add to maida flour for bread, and how?",
            "Does waiting for bread to rise before baking change its nutrient composition?",
            "ziplock-type gallon bag to store my sour dough starter in the fridge.",
            "Sugar and Salt Solutions",
            "Converting sugars with yeast",
            "What causes a bread dough to become dense?",
            "If I double a bread recipe do I double the salt?",
            "What cheese might compliment New England clam chowder?",
            "How interchangeable are fats in yeast bread recipes?",
            "Can I blend pasta and add water to make bread or pizza dough?",
            "Baker’s ratio for crackers",
            "Making sourdough bread with just flour and water (and no starter)",
            "Should I put yeast in sweet bread?",
            "Sourdough starter hydration",
            "Issue getting Atta bread right",
            "Preserving bread with vinegar",
            "Artisan sourdough bread",
            "What are some ways to make caramel thin?",
            "How can I remove a stuck babka from a stoneware baking bowl?",
            "Sourdough starter not buoyant",
            "Adding Instant Yeast to dry bread mix for later use",
            "Making Easter Bread",
            "Sun light on sour dough starter",
            "What's the point of long/complex sourdough feeding techniques?",
            "No knead bread dough looking slimy after a week",
            "Working principle of a farinograph",
            "Bagels - Use of Barley Malt Syrup or Non-Diastatic Malt Powder",
            "Will an IPA beer work properly for beer bread?",
            "What is the English name for chleb bez maki?",
            "Adding malt powder to a conventional brown bread machine recipe",
            "Undercooked French Bread in Bread machine",
            "When to apply a white egg wash on white wheat bread?",
            "Is there a general algorithm for calculating the amount of yeast while making bread?",
            "How do I make my bread heavy when baked?",
            "What are some pros/cons of restarting a bread machine mid-cycle?",
            "About ripe bananas for banana bread",
            "Can I make bread/pizza dough with only cricket flour and no wheat flour",
            "What is the difference between a wild yeast starter and a sourdough starter?",
            "Was \"Pastry flour for bread\"",
            "Does room temperature affect rising time for bread dough?",
            "Bread is too moist in a humid climate",
            "Why do Injera recipes call for adding boiling water or cooking down tef with some water?",
            "Heating part baked baguettes in lid-covered pyrex",
            "Can I use cilantro instead of basil on a bruschetta?",
            "Problem with bread taste and smell",
            "Why did flatbread dominate the Middle East but Europe adopted raised breads?",
            "Why is tin loaf bread not usually scored like other forms of bread?",
            "Home-made Burger buns food safety",
            "Ascorbic Acid, Calcium Propionate - Differences?",
            "What's the function of acerola powder in bread?",
            "Why does this recipe call for so much yeast?",
            "Kneading dough by hand",
            "In bakeries, what are the factors that make breads become hard?",
            "Are there home bread machines that can make baguettes or boules?",
            "Does teff flour destroy gluten, and what do do about it?",
            "Substituting maple syrup for honey in bread",
            "Not feeding sourdough starter enough?",
            "Unpleasant crust on bread",
            "How do I follow a recipe if my oven doesn't go as high as the recipe states?",
            "Why does storing bread in a plastic (grocery) bag keep it fresh longer?",
            "The quest for the perfect croissant",
            "Must bread dough clear the side of the mixer using the hook?",
            "Why is my gluten so weak?",
            "Using Greek farina (cake flour) instead of yeast for making bread whilst combined with general puproce flour",
            "Can using a poolish or biga preferment help me make a less dense wholemeal bread?",
            "My mom says to knead bread doutgh after rising",
            "Freezing bread baked from frozen yeast bread dough",
            "How could I split the proving and baking of bread over 8 hours plus?",
            "My bread recipe book isn't linear with its ingredients?",
            "Over proofed dough still good?",
            "How to save a bread without enough water",
            "Freezing bread, sliced or whole",
            "What does sourdough starter REALLY need?",
            "Vinegar Smell from Sourdough Starter",
            "Bread crust separated from interior",
            "soft then stiff baguette dough",
            "Sour Dough Wet Dough",
            "Cast Iron Bread Tin is Leaving Black Spots on Bread?",
            "Are these tiny white dots on my bread mold?",
            "ratio of non diastatic malt powder to one pound of flour.",
            "Help with hand tossed pizza dough (like domino's)",
            "what is a required temperature of water for foaming of yeast??",
            "Can I make a gluten free sourdough bread?",
            "How do I know that the quantity of salt is enough for a given amount of flour?",
            "How can I save bread from mildew?",
            "Too much Baking Soda in Banana Bread",
            "How does the viscosity of honey affect bread machine results?",
            "Oven temperature when increase bread recipe?",
            "Glucose in sweet bread?",
            "How can we prevent the steaming of tiffin when we put chapatis in?",
            "Why slow ferment after shaping?",
            "Difficulty with frozen bread dough",
            "How much gluten for soft, airy, enriched dough?",
            "What happens to dough when sugar is added?",
            "Top of Dough \"Cracked\" During Cold Rise - is it bad?",
            "Quick breads in foil pans",
            "What to look for in a thermometer for bread making?",
            "How to use a preferment / poolish? Cake vs ADY?",
            "How to make rolls airier and crustier?"
           ],
           "legendgroup": "bread",
           "marker": {
            "color": "#00cc96",
            "size": [
             1,
             1,
             1,
             2,
             1,
             1,
             4,
             1,
             1,
             1,
             1,
             2,
             0,
             0,
             1,
             1,
             2,
             3,
             0,
             1,
             1,
             2,
             3,
             2,
             1,
             0,
             1,
             1,
             4,
             1,
             1,
             3,
             1,
             0,
             2,
             2,
             1,
             1,
             1,
             3,
             1,
             1,
             1,
             2,
             3,
             1,
             1,
             1,
             1,
             2,
             1,
             1,
             4,
             7,
             2,
             2,
             1,
             2,
             2,
             4,
             0,
             2,
             1,
             2,
             3,
             1,
             3,
             2,
             4,
             1,
             1,
             1,
             1,
             1,
             2,
             3,
             2,
             3,
             1,
             1,
             2,
             2,
             2,
             1,
             0,
             1,
             1,
             1,
             1,
             1,
             1,
             2,
             1,
             2,
             0,
             2,
             1,
             2,
             2,
             2,
             1,
             1,
             2,
             2,
             0,
             1,
             0
            ],
            "sizemode": "area",
            "sizeref": 0.0375,
            "symbol": "circle"
           },
           "mode": "markers",
           "name": "bread",
           "orientation": "v",
           "showlegend": true,
           "type": "scatter",
           "x": [
            1,
            1,
            1,
            1,
            1,
            1,
            1,
            1,
            1,
            1,
            2,
            2,
            3,
            3,
            3,
            3,
            3,
            3,
            3,
            3,
            3,
            3,
            3,
            3,
            3,
            3,
            3,
            3,
            3,
            3,
            4,
            4,
            4,
            4,
            4,
            4,
            4,
            4,
            4,
            4,
            5,
            5,
            5,
            5,
            5,
            5,
            6,
            6,
            6,
            6,
            6,
            6,
            6,
            6,
            6,
            6,
            7,
            7,
            7,
            7,
            7,
            7,
            8,
            8,
            8,
            8,
            8,
            8,
            8,
            9,
            9,
            9,
            9,
            9,
            9,
            9,
            9,
            9,
            10,
            10,
            10,
            10,
            10,
            10,
            10,
            10,
            10,
            10,
            11,
            11,
            11,
            11,
            11,
            11,
            11,
            11,
            12,
            12,
            12,
            12,
            12,
            12,
            12,
            12,
            12,
            12,
            12
           ],
           "xaxis": "x",
           "y": [
            0,
            0,
            0,
            1,
            0,
            2,
            0,
            3,
            0,
            1,
            2,
            1,
            2,
            3,
            2,
            0,
            2,
            0,
            3,
            0,
            2,
            0,
            5,
            10,
            1,
            3,
            1,
            0,
            2,
            1,
            0,
            3,
            0,
            6,
            2,
            5,
            5,
            0,
            3,
            6,
            0,
            6,
            1,
            0,
            5,
            2,
            4,
            2,
            6,
            0,
            6,
            1,
            8,
            5,
            0,
            3,
            0,
            3,
            6,
            3,
            2,
            7,
            3,
            0,
            2,
            3,
            4,
            0,
            0,
            0,
            2,
            4,
            0,
            1,
            0,
            6,
            3,
            2,
            0,
            0,
            2,
            0,
            4,
            0,
            0,
            0,
            0,
            0,
            7,
            0,
            0,
            4,
            0,
            2,
            1,
            1,
            1,
            0,
            1,
            1,
            1,
            0,
            2,
            0,
            2,
            0,
            4
           ],
           "yaxis": "y"
          }
         ],
         "name": "2018"
        },
        {
         "data": [
          {
           "hovertemplate": "<b>%{hovertext}</b><br><br>Tags=baking<br>Year=2019<br>Month=%{x}<br>CommentCount=%{y}<br>AnswerCount=%{marker.size}<extra></extra>",
           "hovertext": [
            "What is this bread making technique called?",
            "Scalloped potatoes and oven fried pork copsihave scl",
            "How to make bun with my oven",
            "the oil I put in cake mix is old",
            "How to \"Sponge\" in \"Sponge and Dough\"?",
            "Schichttorte; a 20 layer German broiled cake",
            "Freeze dried blueberries vs frozen blueberries?",
            "Olive oil instead of peanut oil to air fry potato?",
            "My homemade sourdough bread tastes bitter after letting it stay for one day",
            "No Demerara sugar",
            "Underside of dough in proofing basket pulls apart",
            "Can I bake 2 cakes at a time on 2 different shelves in my oven toaster grill?",
            "When to add eggs in brioche?",
            "Banana bread edges are burnt, top and middle is underdone",
            "salamande(?): name of bread",
            "can i use candiquik in baking recipes?",
            "Fan oven temperatures",
            "Donut-style Glaze Cracking",
            "What way to incorporate sugar into dough for millefeuille is better?",
            "Temperature of Electric Fan Ovens",
            "Recipe interpretation",
            "How can I bake Cannelés more evenely with a big silicon pan?",
            "How do you know if your starter is powered mainly by yeast or bacteria?",
            "Stodgy crumpet-like crumb in overnight white",
            "Should I preheat glass and ceramic pans before baking bread?",
            "Why using ammonia bicarbonate and baking powder for deep fried bakery product?",
            "What kind of reaction when you combine sodium bicarbonate and sodium acid pyrophosphate?",
            "Why are sourdough crusts thicker?",
            "What makes cake a Sponge Cake? And what doesn't?",
            "Can acetate sheets be put in the oven?",
            "Plastic Bowl for Bread",
            "Preserving sweetness during baking without sugar",
            "Can I add cocoa butter to white chocolate chips to promote a smoother melt?",
            "Why are my cookies spreading too much? More flour?",
            "Can frozen egg whites be used in a macaron recipe?",
            "Converting yeast amounts from old recipes",
            "Alternative Binding Ingredient for Sugar in Flapjacks? (British style)",
            "Pears caused uneven bake - how to stop this?",
            "What is the difference between a lemon pound cake, a lemon loaf, and a lemon bread?",
            "Is margarine necessary for my brownies?",
            "What causes the chemical taste in commercial bakery products?",
            "1 baking pan, dough for 2 loaves. What do?",
            "How can I portion out frozen cookie dough?",
            "Good qualities of ovens/microwaves for baking cake",
            "Baking chicken while respecting maximum olive oil temperature",
            "Why is gluten-free baking possible?",
            "Shelf life of homemade self-rising flour?",
            "Substitute for vanilla caster sugar",
            "Do I need to boil flax seed egg substitute?",
            "Can I save an undercooked loaf of pumpernickel?",
            "bread dough rising without airing cupboard",
            "Are there disadvantages to storing bread in a vacuum box?",
            "Dry Cookie Dough",
            "Is boiling or pouring better for emulsifying chocolate ganache",
            "Why are amaretti mixed as they are?",
            "Why are croissants brushed twice with egg glaze?",
            "Why combine AP flour and bread flour?",
            "Why refrigerate bagels after shaping dough?",
            "Can you make croissants with compound butter?",
            "Is no-knead bread method compatible with stretch and fold during the bulk rise?",
            "Baked Apple Fritter",
            "Property of Bread Dough",
            "Can I use both racks at the same time to bake chicken wings?",
            "Baking Bread in a Dutch Oven",
            "Subsituting mango puree for bananas in banana bread",
            "Mixed-Up cake recipe instructions",
            "Why does my bread ferment in the middle?",
            "Choux pastry, general questions with gluten free flour",
            "Baking baguettes",
            "What is the upper limit of cake pan size before I definitely need a tube cake pan of angel food cake?",
            "Making brownies but don't have a hand whisk? Can i substitute with electric mixer?",
            "Can I turn a betty crocker angel cake mix into a normal sponge?",
            "How to make cookies crispy?",
            "What to use instead of cling film to wrap pastry",
            "No Knead Bread comes out a tad gummy only in the center",
            "Can I freeze rolled out pie dough",
            "What to do with wet sourdough mix which was left to proof 10h?",
            "Sponge Cake vs (UK) Angel Cake: what's the difference",
            "Biscotti with chocolate drizzle in batter",
            "Should pressure only be applied at the top of a pastry bag?",
            "How to achieve a super leavened cake as the Pierre Herme ones?",
            "The dough in my bread maker collapses just after cooking starts",
            "How to make a good looking cake with a mountain like shape?",
            "How to make firm cheescake?",
            "Is \"blooming\" cocoa necessary in baked goods?",
            "Dough/filling ratio in tart",
            "How can I tell the difference between unmarked sugar and stevia?",
            "Why is baking soda included in sourdough cracker recipe?",
            "Fast meringue technique",
            "Can you eat beans after using them as pie weights?",
            "Can I utilise a baking stone to make crepes?",
            "How can I make a soft Turkish bread?",
            "Why is my Taiyaki (Cake that looks like a fish) too hard and dry?",
            "Very very soft bread",
            "Puff pastry for cream horns",
            "Genoise vs whipped egg whites - which makes cakes fluffier?",
            "Is iodized salt unsuitable for baking bread?",
            "Sourdough starter with milk vs just using regular starter and adding milk separately?",
            "Why would the exterior of a cake cook and not the interior?",
            "Why is my boneless beef tough and unedible?",
            "Fully submerged water bath for stove top baking?",
            "What cuts of meat are preferable when you want to avoid drying out?",
            "Unscored loaf is sealing up",
            "What would be the best order for folding whipped egg whites and yolks into cookie dough?",
            "How do I salvage this bread dough?",
            "Turning focaccia upside down before topping",
            "What part of oatmeal cookies are making them soft / chewy?",
            "When to add the rye flour if it really makes a difference?",
            "How to get the effect of gluten in gluten free baking",
            "How can I soak cake in cheese?",
            "If only one choice - convection microwave, convection oven, regular micro, conventional oven?",
            "Is there a difference in the end result between using mechanical leaveners vs chemical leaveners in a cake?",
            "Cupcake Papers Peeling away",
            "How to keep the bottom of my bread from getting burned?",
            "how to get maximum amount of rise for shaped pizza",
            "mixing dry yeast, water, salt and flour",
            "Beating egg whites over a double boiler for increased leavening?",
            "I would like a vanilla powder type to substitute for cocoa powder",
            "FLOUR tortillas as a crust?",
            "Left Hot fudge on counter overnight",
            "Is it possible to cream clarified butter with sugar? Will it have the same benefits as shortening and oil?",
            "Can frozen (fresh) flower petals be used in baking the same as unfrozen fresh petals?",
            "Making clarified butter by removing water but not the milk solids?",
            "thickening cream",
            "Creaming butter seperately on its own, then adding the sugar and beating them together vs simply creaming butter and sugar together (the regular way)?",
            "How to make croutons crunchier throughout without burning?",
            "Can you inject carbon dioxide/nitrogen into a dough/batter to provide leavening? Or use dry ice/liquid nitrogen?",
            "Are there any ingredients I should not add to a no-knead dough with an extended proofing time?",
            "What ingredient should I add to my cookies to increase shelf life?",
            "Were are they? Are there even any?",
            "Cashew flour in Kaju Katli",
            "Removing sugar from baking recipes",
            "Where should heat comes from when baking brownies?",
            "What would happen if I made angel food cake with whipped cream instead of whipped egg whites?",
            "Baking with Whey Protein",
            "What is the most effective method to prevent a soggy shortcrust quiche base?",
            "What is \"White Moist Sugar\"?",
            "What is the minimum time home baked bread should be left to cool before eating?",
            "Pizza browning agent substituting proportion",
            "Swap for Cake Margarine in the U.S.?",
            "When dissolving natural organic yeast in water, is it supposed to bubble?",
            "Difference between types of yeast",
            "How can I use left over crumble topping?",
            "How to bake baking soda to produce sodium carbonate?",
            "Will adding whole wheat flour make cookies as chewy as using high gluten flour?",
            "Using beef fat for baking",
            "How long after the expiry date can I use Chipits Skor toffee bits",
            "Ways to Make Matcha Powder Less Bitter in Baking?",
            "Teaching Bread Making to a young student- need new reasources",
            "Baked Red Potatoes cooked skin up or down (crisped results wanted)",
            "Reheatable pizza dough",
            "Why is my cake rising sideways while baking?",
            "Bread machines and low altitude my bread won't rise!",
            "Baking Powder, Baking Soda, and Yeast",
            "How to check on something baking in oven",
            "Is this a Confectionery Ganache frame?",
            "Parchment paper around a cheesecake?",
            "Ascorbic Acid (Vit C powder) with Baking Soda = Single Acting Baking Powder?",
            "scaling of kneading when scaling bread recipies",
            "What gives the sponginess of a Chiffon Cake?",
            "Can you add rice flour to pastries to make them flakier?",
            "sweet stones of Perosa",
            "Oat bran flour instead of oat flour",
            "Wood versus marble rolling pin 'performance'",
            "Does shaping dough require punching/folding it?",
            "Sour cream pound cake",
            "Can a microwave oven cook chicken?",
            "What is an optimal way to make tandoori roti and naan in big green egg?",
            "Why do i get flat and crack french macaron tops",
            "8x12 vs 9x13 for casserole dish?",
            "What's the point of the first action in double-acting baking powder?",
            "What ingredients can I add to no-knead bread to extend its life?",
            "Does milk make cakes lighter or tougher?",
            "Can I double a pumpkin pie recipe for 10 x 2 inch pan?",
            "Should there be any problem cooling Mysore Pak outside a refrigerator?",
            "How do I add a strawberry swirl to my cheesecake without cracks and craters?",
            "Why are bread pans rectangular?",
            "How much can I change a NY cheesecakes recipe?",
            "How can i bake multiple kinds of cheesecake at the same time in a spring-form pan?",
            "Is it safe to bake dough in a microwave?",
            "Preventing Warping when Roasting at High Temperature",
            "How to not make my macarons rip?",
            "What is the difference between using hot water and cold water when making regular pastry?",
            "Commercial part-baked baguettes",
            "Can I substitute salted for unsalted butter in chocolate fudge?",
            "When can I use a cake recipe to make muffins?",
            "Two identical dishes - how do I adjust temp and time for two 9x13 pans instead of just one?",
            "Baking and a rotten egg was cracked into mix :(",
            "Flour/Instant Dry Yeast Ratio in Thin Pizza Dough",
            "Substitute wet milk for dry milk",
            "Why did one pecan pie end up with a dark center after baking while the other pie came out perfect, same batter same cook time?",
            "How much time and temperature do I add when making 140% of a quick bread recipe?",
            "How are powdered emulsifiers (such as monoglycerides) prepared for use in cooking and baking?"
           ],
           "legendgroup": "baking",
           "marker": {
            "color": "#636efa",
            "size": [
             2,
             1,
             2,
             1,
             3,
             1,
             3,
             1,
             0,
             0,
             1,
             1,
             1,
             2,
             1,
             1,
             1,
             1,
             1,
             3,
             3,
             1,
             1,
             1,
             1,
             2,
             1,
             1,
             4,
             1,
             2,
             1,
             2,
             2,
             2,
             2,
             1,
             1,
             2,
             2,
             1,
             3,
             7,
             2,
             1,
             1,
             1,
             1,
             1,
             1,
             1,
             2,
             1,
             2,
             1,
             1,
             2,
             1,
             1,
             1,
             1,
             1,
             2,
             1,
             2,
             1,
             2,
             2,
             1,
             1,
             2,
             1,
             1,
             7,
             0,
             1,
             1,
             2,
             1,
             2,
             3,
             7,
             0,
             1,
             1,
             0,
             7,
             3,
             1,
             1,
             3,
             1,
             3,
             1,
             1,
             1,
             1,
             1,
             2,
             2,
             3,
             2,
             1,
             2,
             1,
             1,
             2,
             1,
             1,
             1,
             1,
             1,
             0,
             0,
             2,
             2,
             2,
             0,
             2,
             1,
             1,
             1,
             3,
             1,
             0,
             3,
             1,
             2,
             2,
             1,
             1,
             3,
             1,
             1,
             3,
             2,
             1,
             2,
             1,
             2,
             2,
             2,
             1,
             3,
             0,
             1,
             2,
             2,
             2,
             1,
             1,
             3,
             0,
             2,
             1,
             1,
             2,
             1,
             2,
             1,
             0,
             2,
             1,
             4,
             4,
             1,
             5,
             1,
             0,
             3,
             2,
             2,
             3,
             2,
             3,
             2,
             2,
             2,
             1,
             1,
             2,
             1,
             1,
             1,
             2,
             1,
             1,
             1,
             2,
             0,
             1,
             2,
             1
            ],
            "sizemode": "area",
            "sizeref": 0.0375,
            "symbol": "circle"
           },
           "mode": "markers",
           "name": "baking",
           "orientation": "v",
           "showlegend": true,
           "type": "scatter",
           "x": [
            1,
            1,
            1,
            1,
            1,
            1,
            1,
            1,
            1,
            1,
            1,
            1,
            1,
            1,
            1,
            1,
            1,
            1,
            1,
            1,
            1,
            1,
            1,
            2,
            2,
            2,
            2,
            2,
            2,
            2,
            2,
            2,
            2,
            2,
            2,
            2,
            2,
            2,
            2,
            3,
            3,
            3,
            3,
            3,
            3,
            3,
            3,
            3,
            3,
            3,
            3,
            3,
            3,
            3,
            3,
            3,
            3,
            3,
            3,
            3,
            4,
            4,
            4,
            4,
            4,
            4,
            4,
            4,
            4,
            4,
            4,
            4,
            4,
            5,
            5,
            5,
            5,
            5,
            5,
            5,
            5,
            5,
            5,
            5,
            5,
            6,
            6,
            6,
            6,
            6,
            6,
            6,
            6,
            6,
            6,
            6,
            6,
            6,
            6,
            6,
            6,
            6,
            7,
            7,
            7,
            7,
            7,
            7,
            7,
            7,
            7,
            7,
            7,
            7,
            7,
            7,
            7,
            8,
            8,
            8,
            8,
            8,
            8,
            8,
            8,
            8,
            8,
            8,
            8,
            8,
            8,
            8,
            8,
            9,
            9,
            9,
            9,
            9,
            9,
            9,
            9,
            9,
            9,
            9,
            9,
            9,
            9,
            10,
            10,
            10,
            10,
            10,
            10,
            10,
            10,
            10,
            10,
            10,
            10,
            10,
            10,
            10,
            10,
            10,
            10,
            11,
            11,
            11,
            11,
            11,
            11,
            11,
            11,
            11,
            11,
            11,
            11,
            11,
            11,
            12,
            12,
            12,
            12,
            12,
            12,
            12,
            12,
            12,
            12,
            12,
            12,
            12,
            12
           ],
           "xaxis": "x",
           "y": [
            0,
            0,
            3,
            0,
            0,
            3,
            1,
            2,
            1,
            5,
            0,
            3,
            3,
            4,
            8,
            0,
            0,
            0,
            1,
            0,
            4,
            3,
            4,
            4,
            0,
            0,
            1,
            6,
            3,
            3,
            0,
            12,
            3,
            1,
            0,
            0,
            3,
            4,
            1,
            1,
            2,
            0,
            1,
            7,
            4,
            4,
            4,
            0,
            1,
            3,
            4,
            10,
            4,
            0,
            1,
            0,
            1,
            2,
            0,
            0,
            0,
            1,
            0,
            0,
            2,
            5,
            8,
            4,
            3,
            0,
            1,
            2,
            4,
            15,
            7,
            0,
            5,
            2,
            0,
            0,
            1,
            7,
            5,
            2,
            3,
            2,
            1,
            1,
            8,
            4,
            1,
            8,
            4,
            0,
            1,
            8,
            1,
            1,
            4,
            7,
            5,
            1,
            2,
            9,
            0,
            3,
            0,
            0,
            4,
            2,
            2,
            0,
            0,
            4,
            12,
            4,
            0,
            6,
            2,
            0,
            0,
            2,
            2,
            6,
            9,
            0,
            0,
            1,
            1,
            2,
            0,
            0,
            4,
            0,
            0,
            1,
            1,
            2,
            5,
            0,
            4,
            0,
            2,
            4,
            2,
            1,
            0,
            7,
            3,
            1,
            9,
            8,
            5,
            1,
            0,
            2,
            4,
            3,
            0,
            1,
            4,
            9,
            0,
            0,
            0,
            2,
            19,
            0,
            1,
            0,
            0,
            3,
            3,
            1,
            0,
            2,
            2,
            2,
            4,
            6,
            1,
            6,
            4,
            0,
            3,
            0,
            2,
            4,
            3,
            3,
            2,
            0,
            2
           ],
           "yaxis": "y"
          },
          {
           "hovertemplate": "<b>%{hovertext}</b><br><br>Tags=sourdough<br>Year=2019<br>Month=%{x}<br>CommentCount=%{y}<br>AnswerCount=%{marker.size}<extra></extra>",
           "hovertext": [
            "My homemade sourdough bread tastes bitter after letting it stay for one day",
            "Can one use a mix of white rice flour with regular white flour sourdough to make a pizza crust? If so then what ratio might be the best?",
            "Does package yeast inhibit wild fermentation?",
            "Underside of dough in proofing basket pulls apart",
            "How should I adapt recipes according to the amount of sourdough starter?",
            "How do you know if your starter is powered mainly by yeast or bacteria?",
            "how to correct a problem with my sourdough starter",
            "Why are sourdough crusts thicker?",
            "Sourdough starter gone wild",
            "How to have a weekly baking sourdough starter plan",
            "Different sourdough starter behavior based on starter composition?",
            "How to determine amount of mother starter to use to build a levain for STIFF/dry sourdough starter?",
            "Is no-knead bread method compatible with stretch and fold during the bulk rise?",
            "What to do with wet sourdough mix which was left to proof 10h?",
            "My sourdough splits at final proofing (pic included), advice?",
            "Getting sourdough to rise not spread",
            "Bubbles Are ONly on Top of My Sourdough Starter",
            "Why is baking soda included in sourdough cracker recipe?",
            "Can I give my friend the sour dough \"throw away\" as a starter to their sourdough starter?",
            "Sourdough starter with milk vs just using regular starter and adding milk separately?",
            "Make bread with flour different from the starter",
            "Unscored loaf is sealing up",
            "When to add the rye flour if it really makes a difference?",
            "How long should I let my new sourdough starter ferment until I can use it?",
            "Can't seem to get my rye sourdough starter really going",
            "Why does my sourdough starter have in the top the liquid separated from the flour?",
            "What happens if I forget to feed my sourdough starter?",
            "U.S. Equivalent of French T80 for Sourdough Pain de Campagne",
            "Why do tomatoes react with sourdough starter?",
            "Sourdough starter without whole grain flour",
            "switching yeast to sourdough",
            "Why does my sour-dough bread have a tail?"
           ],
           "legendgroup": "sourdough",
           "marker": {
            "color": "#EF553B",
            "size": [
             0,
             0,
             1,
             1,
             0,
             1,
             2,
             1,
             1,
             1,
             1,
             1,
             1,
             1,
             1,
             2,
             1,
             3,
             2,
             1,
             2,
             1,
             1,
             2,
             2,
             2,
             3,
             1,
             1,
             1,
             1,
             0
            ],
            "sizemode": "area",
            "sizeref": 0.0375,
            "symbol": "circle"
           },
           "mode": "markers",
           "name": "sourdough",
           "orientation": "v",
           "showlegend": true,
           "type": "scatter",
           "x": [
            1,
            1,
            1,
            1,
            1,
            1,
            2,
            2,
            2,
            2,
            3,
            3,
            3,
            5,
            5,
            5,
            6,
            6,
            6,
            6,
            6,
            7,
            7,
            7,
            7,
            7,
            7,
            8,
            9,
            9,
            10,
            11
           ],
           "xaxis": "x",
           "y": [
            1,
            3,
            3,
            0,
            2,
            4,
            1,
            6,
            1,
            1,
            2,
            2,
            0,
            5,
            3,
            3,
            0,
            1,
            5,
            1,
            0,
            2,
            0,
            0,
            2,
            0,
            2,
            1,
            7,
            0,
            4,
            1
           ],
           "yaxis": "y"
          },
          {
           "hovertemplate": "<b>%{hovertext}</b><br><br>Tags=bread<br>Year=2019<br>Month=%{x}<br>CommentCount=%{y}<br>AnswerCount=%{marker.size}<extra></extra>",
           "hovertext": [
            "What is this bread making technique called?",
            "How to spread dried blueberries evenly when using bread machine?",
            "How to \"Sponge\" in \"Sponge and Dough\"?",
            "Freeze dried blueberries vs frozen blueberries?",
            "What is the purpose and effect of using knuckles when kneading bread dough?",
            "My homemade sourdough bread tastes bitter after letting it stay for one day",
            "Does package yeast inhibit wild fermentation?",
            "Is there a way to make this bread recipe's crust less crunchy?",
            "Why does the water in the recipe for dough making not have a definite temperature or an advise about temperature?",
            "Underside of dough in proofing basket pulls apart",
            "handling sticky bread dough",
            "My Challah is bland",
            "When to add eggs in brioche?",
            "Banana bread edges are burnt, top and middle is underdone",
            "salamande(?): name of bread",
            "Croutons from scratch?",
            "Recreating a bread",
            "Stodgy crumpet-like crumb in overnight white",
            "Should I preheat glass and ceramic pans before baking bread?",
            "How to compensate for high altitude when baking bread in a bread machine?",
            "Why are sourdough crusts thicker?",
            "How to apply ascorbic acid ppm in bread baking?",
            "Converting yeast amounts from old recipes",
            "Different sourdough starter behavior based on starter composition?",
            "1 baking pan, dough for 2 loaves. What do?",
            "Bread proofing times fridge versus room temp",
            "Can I save an undercooked loaf of pumpernickel?",
            "Are there disadvantages to storing bread in a vacuum box?",
            "Why are croissants brushed twice with egg glaze?",
            "Why refrigerate bagels after shaping dough?",
            "Is no-knead bread method compatible with stretch and fold during the bulk rise?",
            "Property of Bread Dough",
            "Baking Bread in a Dutch Oven",
            "Subsituting mango puree for bananas in banana bread",
            "Can I find out the caloric content of bread by dehydrating it?",
            "Why does my bread ferment in the middle?",
            "What to do if bread dough became hard in the refrigerator",
            "Egg YOLK replacement?",
            "Can I substitute bread flour for bread machine flour?",
            "Gluten-free and egg-free yeast bread",
            "What to do with wet sourdough mix which was left to proof 10h?",
            "My sourdough splits at final proofing (pic included), advice?",
            "The dough in my bread maker collapses just after cooking starts",
            "What the gluten look like when kneading for long time on a texture basis",
            "How bakeries do a soft crust breads and making the same at home will result in a crisp crust?",
            "no-knead pizza. When is it supposed to raise? which flour is the best?",
            "Getting sourdough to rise not spread",
            "Is core temperature a good indicator of bread doneness",
            "Poolish deflated after refrigeration",
            "Why did my bread bake on the top like spongs and higher than the bucket in the bread maker?",
            "Can you mix white and multigrain flours?",
            "How can I make a soft Turkish bread?",
            "Is there a kind of food like bread that I can use to absorb sauce but that doesn't dry out so fast?",
            "Can I give my friend the sour dough \"throw away\" as a starter to their sourdough starter?",
            "Bread machine bread dough",
            "Very very soft bread",
            "Is iodized salt unsuitable for baking bread?",
            "Sourdough starter with milk vs just using regular starter and adding milk separately?",
            "Bread Cooktime Calculator",
            "Fully submerged water bath for stove top baking?",
            "Is whole grain rye supposed to taste so coarse?",
            "Unscored loaf is sealing up",
            "Kneading bread dough",
            "How do I salvage this bread dough?",
            "How to make homemade bread machine mixes for long-term store?",
            "Turning focaccia upside down before topping",
            "Why should i add the butter after i knead the main ingredients when making a bread?",
            "When to add the rye flour if it really makes a difference?",
            "I bought multigrain bread from the store last week (panera brand) and it has white smelly patch",
            "What kind of dough staple is easiest to make, for soaking in mussel juices? No oven, eggs, milk",
            "Dry milk powder subsitute",
            "Can't seem to get my rye sourdough starter really going",
            "How to keep the bottom of my bread from getting burned?",
            "Bread dough gluten not fully developed before hitting desired dough temperature",
            "Did I underbake my bread?",
            "Storing cooked food in ziploc",
            "Can I deep-freeze bread, rolls and other baking?",
            "Can frozen (fresh) flower petals be used in baking the same as unfrozen fresh petals?",
            "Will an airtight container negatively affect yeast growth / dough expansion?",
            "Collapsing bread",
            "How to make croutons crunchier throughout without burning?",
            "How to get a open crumb bread without a starter",
            "Why do tomatoes react with sourdough starter?",
            "What is the minimum time home baked bread should be left to cool before eating?",
            "Is it more effective to add yeast before or after kneading?",
            "How can I cover an egg-washed dough?",
            "bread maker vs conventional oven vs countertop oven vs fan force oven?",
            "Teaching Bread Making to a young student- need new reasources",
            "What is the Best wash or glaze for bread when trying to achieve a crunchy crust on Rolls",
            "Heritage Wheat flours- Hydration?",
            "Bread question regarding malt",
            "Milk instead of water in bread",
            "Sourdough calculator",
            "18 hours fermentation of Biga",
            "Making bread fast and with few ingredients",
            "Salt in dry ingredients versus salt in water?",
            "Does brown sugar draw moisture from cimmamon buns which makes them dry out fast?",
            "Does shaping dough require punching/folding it?",
            "How to have a yeast bread dough rise in a cool space",
            "Making pita more chewy/ rubbery",
            "Should I add baking soda if the yeast in bread dough is not working?",
            "What is an optimal way to make tandoori roti and naan in big green egg?",
            "What ingredients can I add to no-knead bread to extend its life?",
            "Can I substitute yeast with baking soda/powder for my bread dough?",
            "White corner in freshly baked whole wheat bread",
            "Why are bread pans rectangular?",
            "How much should a poolish increase in size?",
            "Why does my bread taste like flour?",
            "Why is my white bread with poolish dough very loose?",
            "What is the trick to kneading silk smooth bread?",
            "Can I use baking powder in place of baking soda for dipping pretzels?",
            "Commercial part-baked baguettes",
            "Help making multigrain bread for first time",
            "Why doesn't milk create gluten when combined with flour?",
            "Substitute wet milk for dry milk"
           ],
           "legendgroup": "bread",
           "marker": {
            "color": "#00cc96",
            "size": [
             2,
             2,
             3,
             3,
             5,
             0,
             1,
             4,
             1,
             1,
             1,
             1,
             1,
             2,
             1,
             2,
             2,
             1,
             1,
             2,
             1,
             4,
             2,
             1,
             3,
             2,
             1,
             2,
             1,
             1,
             1,
             1,
             1,
             2,
             4,
             2,
             1,
             1,
             1,
             1,
             1,
             1,
             7,
             1,
             2,
             1,
             2,
             1,
             1,
             1,
             1,
             1,
             3,
             2,
             1,
             1,
             1,
             1,
             0,
             3,
             0,
             1,
             2,
             1,
             1,
             1,
             2,
             1,
             1,
             4,
             3,
             2,
             0,
             0,
             1,
             1,
             0,
             1,
             2,
             1,
             3,
             5,
             1,
             2,
             4,
             1,
             3,
             2,
             1,
             0,
             1,
             1,
             1,
             2,
             3,
             1,
             0,
             4,
             0,
             1,
             1,
             1,
             2,
             1,
             1,
             2,
             1,
             2,
             1,
             1,
             1,
             1,
             2,
             2,
             0
            ],
            "sizemode": "area",
            "sizeref": 0.0375,
            "symbol": "circle"
           },
           "mode": "markers",
           "name": "bread",
           "orientation": "v",
           "showlegend": true,
           "type": "scatter",
           "x": [
            1,
            1,
            1,
            1,
            1,
            1,
            1,
            1,
            1,
            1,
            1,
            1,
            1,
            1,
            1,
            1,
            1,
            2,
            2,
            2,
            2,
            2,
            2,
            3,
            3,
            3,
            3,
            3,
            3,
            3,
            3,
            4,
            4,
            4,
            4,
            4,
            4,
            4,
            4,
            4,
            5,
            5,
            5,
            5,
            5,
            5,
            5,
            5,
            5,
            6,
            6,
            6,
            6,
            6,
            6,
            6,
            6,
            6,
            6,
            6,
            6,
            7,
            7,
            7,
            7,
            7,
            7,
            7,
            7,
            7,
            7,
            7,
            7,
            7,
            8,
            8,
            8,
            8,
            8,
            8,
            8,
            8,
            9,
            9,
            9,
            9,
            9,
            10,
            10,
            10,
            10,
            10,
            10,
            10,
            10,
            10,
            10,
            10,
            11,
            11,
            11,
            11,
            11,
            11,
            11,
            11,
            11,
            12,
            12,
            12,
            12,
            12,
            12,
            12,
            12
           ],
           "xaxis": "x",
           "y": [
            0,
            0,
            0,
            1,
            0,
            1,
            3,
            4,
            1,
            0,
            1,
            4,
            3,
            4,
            8,
            4,
            3,
            4,
            0,
            1,
            6,
            0,
            0,
            2,
            0,
            0,
            3,
            10,
            0,
            2,
            0,
            1,
            0,
            2,
            2,
            8,
            5,
            5,
            0,
            1,
            5,
            3,
            7,
            0,
            0,
            3,
            3,
            4,
            0,
            3,
            0,
            8,
            9,
            5,
            0,
            0,
            1,
            1,
            2,
            5,
            2,
            2,
            2,
            0,
            0,
            3,
            0,
            0,
            4,
            8,
            6,
            2,
            4,
            4,
            2,
            3,
            9,
            2,
            1,
            7,
            0,
            4,
            7,
            2,
            1,
            1,
            0,
            3,
            7,
            3,
            5,
            5,
            3,
            2,
            8,
            1,
            2,
            0,
            3,
            0,
            2,
            0,
            3,
            1,
            3,
            2,
            2,
            6,
            0,
            0,
            3,
            0,
            0,
            2,
            3
           ],
           "yaxis": "y"
          }
         ],
         "name": "2019"
        },
        {
         "data": [
          {
           "hovertemplate": "<b>%{hovertext}</b><br><br>Tags=baking<br>Year=2020<br>Month=%{x}<br>CommentCount=%{y}<br>AnswerCount=%{marker.size}<extra></extra>",
           "hovertext": [
            "Adjusted cooking time for an already-baked pie shell",
            "Gluten formation in cake dough",
            "The secret to crispy sourdough waffles?",
            "Should I mix vanilla sugar with wet or dry ingredients?",
            "How to cook fried potatoes in a No Fry Cooker?",
            "How to make a more apple-y apple cider yeast bread",
            "Can I bake a cheesecake using only a water bath?",
            "How much cream can whip at once?",
            "Yorkshire pudding - how do the proportions of the ingredient affect shape, texture and taste?",
            "Why does my cake lack air bubbles and looks like a molten mass?",
            "How are food dyes affected by heat and ingredients?",
            "Putting freeze dried strawberry into my soft cookies,the texture is more like cake -how to make it more chewy",
            "Can I use pearl barley instead of rice in baked rice pudding?",
            "What would \"Disintegrant\", \"Ammonium\", or the units of measure \"glass\" or \"gl\" mean in a non-American book?",
            "Croissant baking temperature",
            "How to remove husk from grain?",
            "What is the best ingredient to add to a normal French toast recipe to make it taste pumpkin flavored?",
            "Maximum oven temperature for glass cookware",
            "Baking 2 dishes needing slightly different temperatures and time",
            "Baking in oven after machine kneading",
            "Substitute Milk for Water in Bread",
            "Can I make a sourdough boule, freeze it then thaw it and bake it?",
            "The bread is brighter than usual",
            "What to use to separate layers of dough?",
            "What going to happen to Dulche De Leche during baking?",
            "Why are my cookies undercooked in commercial oven?",
            "Questions about the how and when of baking homemade sourdough bread",
            "How can I alter this high-protein brownie recipe?",
            "Is Erythritol acid or alkaline and what is it's pH compared to brown sugar?",
            "How can I use pollen?",
            "My soft chocolate cookies are soft but still too crumbly. How should I fix it?",
            "Is sugar a necessary ingredient to feed yeast?",
            "How long should I bake the pizza in a microwave oven?",
            "How does one alter a recipe that calls for one fruit with another fruit of differing water content?",
            "Bread won't rise during proof after overnight fermentation",
            "Fluffy French Toast",
            "Is it possible to make \"finely ground corn flour\"?",
            "Does liquid temperature matter when making bread in a bread maker?",
            "can you refrigerate risen bread dough",
            "Low fat muffins won't rise",
            "Does my \"bagel flour\" need malt powder added?",
            "Question about safety of eating cooked bread if it is over or under-proofed",
            "How can I best bake cookies from cold dough?",
            "Bagels: Flat, no rise, gummy inside. Over kneading?",
            "Can I substitute corn syrup for honey in bread?",
            "Is it necessary to follow the suggested order in this challah recipe?",
            "How do I adjust apple crisp cooking time for muffin-size crisps?",
            "Ciabatta with no air bubbles",
            "What's the proper way to package dough?",
            "Melted vs softened butter in cake recipes",
            "Too much water in cake mix but it’s already baking! What should I do?",
            "I am making an apple crisp and need to know how much salt I need for 4 tsps baking powder",
            "What energy efficient options are there for small baking quantities?",
            "How do I reverse my cake-like brownies to chewy?",
            "I baked breads, rolls, pizzas, marinated meats starting with a cold oven to use less energy. Is my “strategy” unpromising when baking sweet desserts?",
            "Dry milk substitutions?",
            "Why does Lasagna need to be baked?",
            "Making Dough: Preferment + Cold Rise - Necessary?",
            "How can I make cakes in 20Ltr ONIDA Black Diamond conventional microwave oven?",
            "How can I bake this \"filled pretzel\"?",
            "Substitute for demerara sugar in cookie recipe",
            "Can you sub collagen protein for whey protein isolate in baking?",
            "Help! I poured the syrup over my Baklava before I baked it. Is it ruined?",
            "Shaping baguettes using three folds vs. rolling it up?",
            "Water on top of biga",
            "How to use sourdough starter?",
            "Can I make \"starter\" with active dry yeast?",
            "Weight of a large egg",
            "Using melted butter vs rubbing it into flour?",
            "Using stainless steel utensiles on aluminum",
            "Very Sticky Dough Before Kneading",
            "Which sourdough starter should i keep?",
            "Bread Didn't Turn Brown",
            "White dots on pizza or focaccia after baking",
            "Using powdered salt vs regular",
            "Can I broil a box cake in the oven?",
            "My Italian meringue macarons won’t stop coming out hollow",
            "Will I be able to cook my mac & cheese until it's brown if my cheese sauce is thick",
            "Should we start making dough with water or with flour?",
            "Can you fold dough during autolyse?",
            "What is the optimal autolyse time for sourdough?",
            "Too much sugar - HELP",
            "Can I halve a macaron recipe and expect the same cooking temperature and time?",
            "Why are my croissants heavy?",
            "Why is my brioche dry?",
            "Would carbonated water be a good substitute for two eggs in this cherry loaf recipe?",
            "How much baking powder or soda can I add to cookies without the taste being affected?",
            "how do you thicken cheese fillings so it doesnt melt when baking",
            "Can I make up for under-proving my bread dough during the first rise by doing an extra long second rise?",
            "I added olive oil to my cake, but I haven’t baked it yet",
            "Why is ciabatta poolish usually made with instant yeast?",
            "My buns/bread don't brown from top?",
            "Can I use less sugar for making this bread?",
            "Is it ok to use milk that incubated for 12 hours but did not set for yogurt in baked goods?",
            "Can I adapt a baking recipe for a Dutch Oven to a Casserole Dish?",
            "Can i refrigerate bread doughs twice before baking?",
            "How to grow baker's yeast (Saccharomyces cerevisiae) at home without creating a sourdough starter?",
            "Solutions of making cookies less crumbly and dough not being able to be shaped into balls?",
            "Dough failed to rise",
            "How to clean up after kneading dough?",
            "How can I substitute dutch chocolate cocoa for flour and maintain proper recipe PH in this cookie recipe?",
            "What to be mindful of with cake flour",
            "Blind baking: Does the choice of weights matter?",
            "Soda Bread disaster",
            "How can I skin hazelnuts at home?",
            "Why do baking recipes often tell you to \"make a well\" in flour before adding wet ingredients?",
            "What are these white spots in my bread dough?",
            "Rule of thumb for conventional oven baking vs. grilling kebabs (ground meat &",
            "Swapping sugar for something less calorie dense but keeping the volume",
            "Do eggs have to be very fresh for baking?",
            "In what recipes can I use a thick coconut milk kefir?",
            "Why does refined coconut oil make cookies chewy?",
            "Undercooked center of a cheesecake baked at altitude",
            "When to bring eggs whites to room temperature?",
            "How Does a Hot Water Whipped Pie Crust Work?",
            "Oven semi-baked semi-fried potatoes starting from raw (for the lazy cook)",
            "Baking personal sized chiffon cake",
            "Best way to make pizza with limited options?",
            "Brand new KitchenAid Professional 6500 makes clicking/ticking noise when under load",
            "How can I bake muffins without an oven?",
            "Trouble making a crunchy dog treat",
            "How to make authentic black Russian bread?",
            "How to replace sugar with dry fruit in a cake recipe?",
            "Old bread-slicing tool",
            "Additional flour threshold: when and how to perform?",
            "Baking bread without yeast",
            "White spots on the dough while it was rising",
            "How much carrot is too much when baking carrot cake?",
            "Can I substitute vanilla powder for cocao in a quinoa cake recipe",
            "What is the best combination of gluten free flours to bake light and fluffy muffins?",
            "Why did this bread not expand properly?",
            "Baking with a drip pan",
            "Converting kneading recipe to no knead recipe",
            "Why not make sourdough bread from young starter?",
            "Can ghee replace butter in lemon curd?",
            "How to make profiteroles without a visible hole?",
            "Does bread flour (vs AP flour) make a big difference in the density of the dough?",
            "Why boiling water, then cold water for this shaobing recipe?",
            "How Much Milk Should I add if I Already Have Butter and Sugar in my Recipe?",
            "How to convert a bread recipe to Tangzhong Method?",
            "Why does my Heavy whipping cream pound cake have an aftertaste between flour and metallic?",
            "Replacing whole egg beating process by separated egg white and yolk beating in a recipe which calls for the former?",
            "Using proofed (?) yeast in a recipe (confused about amounts)",
            "What's the difference between brioche feuilletee and croissant dough?",
            "forgot the shortening (1/2 cup) in banana cake. How can this be served, or rescued?",
            "How can I tell whether my baking recipe has enough acid to activate the baking soda?",
            "How to coat gummies with beeswax/carnauba wax and coconut oil/palm oil?",
            "Converting Yeast Recipe to Natural Levain",
            "Malt barley powder: pancake killer?",
            "How does water behave in Dutch oven baking?",
            "My brownies are flat",
            "Can large pizzas be made in a convection oven?",
            "Why did this cake fail?",
            "Why are these bagels sticking?",
            "Are lebkuchenherzen made from the same mixture as Lebkuchen?",
            "Butter in baking",
            "Does the towel touching the day 1 starter and absorbing the liquid matter?",
            "Do modern ovens bake the same as the old ones? Is the new oven the reason popovers don't rise?",
            "Need chewiness and density added to blondies no carbs",
            "Figuring out gas oven temperature numbered 1 through 7",
            "Why did the apple skins turn blue/purple-ish in my apple pancakes the next day?",
            "Why do my macarons have a proper shape and feet, but are hollow inside?",
            "Sourdough bread uncooked from inside",
            "Pea protein in a yeast dough. No rise in oven?",
            "Whipped Cream Separates While Piping",
            "How do I substitute almond flour for all purpose flour?",
            "how to make \"Creme Caramel\" coffee flavored?",
            "baking a Souffle to make it as much liquidish as possible",
            "How to make a Cake Jumper?",
            "What type of cheese is used on Patsy's Old Fashioned Margherita Pizza",
            "What size were Baker's Chocolate bars when they were first introduced?",
            "What other cookies/biscuits were traditionally baked in shell shaped forms like this one?",
            "Is creamed butter stable for mid or long term storage?",
            "Baking bread with a firm texture that doesn't grow mold",
            "What dough recipes are suitable for \"shaping\" with a piping bag?",
            "Why did my oatmeal and raisin cookies end up tasting soapy?",
            "Weird air pockets/bubbles on bottom of cake",
            "How do I increase the amount of store bought peanut butter from 1/2 cup to 1 cup in a peanut butter brownie recipe?",
            "DIY Baking Steel?",
            "Why are Built-in/Wall Microwaves Above Ovens when Stacked?",
            "Which measuring scale should I buy?",
            "Can I bake cookies without baking paper?",
            "Frozen/Defrosted blueberries",
            "Does soaking candied fruit in bourbon change the taste?",
            "How do you decide when to deviate from baking ratios?",
            "Can I use tartaric acid in making Snickerdoodles?",
            "Rye bread in bread machine - crust very rough on top",
            "How can I reconstruct my Grandmother's recipe from just ingredients?",
            "How to substitute unsweetened coconut for sweetened coconut?",
            "Why is this croissant dough not behaving as expected?",
            "I want to halve a cream cheese cake recipe, how do I adjust the pan size, so I can keep the same cake height?",
            "How to bake extra turkey legs along with a whole turkey?",
            "How to make cake like almond squares into fudgy like Squares?",
            "Why is my sugar in my recipe becoming gritty and dry after baking in the oven. This is something new for me",
            "Why not use cornstarch instead of flour for pastries?",
            "Which is better to use baking soda or baking powder for making cakes?",
            "Baking in a salt crust: What type of fish?",
            "What's the kind of cake that have liquid frosting that drips when you open the package?",
            "do I need to adjust the cooking time for a pound cake baked in two separate bundt pans instead of one regular tube pan?",
            "How long to cook syrup for Baklava?",
            "Using decorative loaf pans"
           ],
           "legendgroup": "baking",
           "marker": {
            "color": "#636efa",
            "size": [
             1,
             4,
             1,
             2,
             1,
             5,
             1,
             1,
             2,
             4,
             1,
             2,
             1,
             4,
             1,
             1,
             5,
             2,
             2,
             2,
             0,
             1,
             2,
             3,
             1,
             2,
             3,
             3,
             1,
             1,
             3,
             2,
             2,
             5,
             2,
             1,
             2,
             3,
             1,
             2,
             1,
             2,
             3,
             2,
             2,
             2,
             1,
             0,
             1,
             1,
             1,
             2,
             1,
             3,
             0,
             1,
             2,
             4,
             1,
             0,
             1,
             3,
             2,
             1,
             0,
             1,
             0,
             1,
             1,
             0,
             3,
             1,
             0,
             0,
             1,
             1,
             0,
             1,
             6,
             1,
             0,
             2,
             1,
             0,
             1,
             1,
             2,
             2,
             1,
             2,
             1,
             2,
             1,
             3,
             1,
             1,
             1,
             1,
             3,
             5,
             1,
             1,
             1,
             2,
             2,
             2,
             3,
             1,
             1,
             1,
             1,
             1,
             1,
             2,
             1,
             4,
             1,
             2,
             1,
             3,
             1,
             1,
             1,
             1,
             1,
             7,
             1,
             1,
             1,
             2,
             1,
             1,
             2,
             2,
             1,
             2,
             1,
             1,
             1,
             1,
             2,
             1,
             2,
             1,
             1,
             1,
             1,
             0,
             0,
             1,
             3,
             1,
             1,
             3,
             1,
             1,
             1,
             7,
             1,
             1,
             1,
             2,
             2,
             1,
             2,
             3,
             2,
             1,
             2,
             2,
             1,
             3,
             1,
             2,
             2,
             5,
             1,
             1,
             1,
             1,
             5,
             4,
             0,
             1,
             1,
             2,
             0,
             1,
             1,
             3,
             1,
             1,
             2,
             1,
             1,
             1,
             1,
             1,
             1,
             2,
             1
            ],
            "sizemode": "area",
            "sizeref": 0.0375,
            "symbol": "circle"
           },
           "mode": "markers",
           "name": "baking",
           "orientation": "v",
           "showlegend": true,
           "type": "scatter",
           "x": [
            1,
            1,
            1,
            1,
            1,
            1,
            1,
            1,
            1,
            1,
            1,
            1,
            1,
            1,
            1,
            1,
            2,
            2,
            2,
            2,
            2,
            2,
            2,
            2,
            2,
            2,
            2,
            2,
            2,
            3,
            3,
            3,
            3,
            3,
            3,
            3,
            3,
            3,
            3,
            3,
            3,
            4,
            4,
            4,
            4,
            4,
            4,
            4,
            4,
            4,
            4,
            4,
            4,
            4,
            4,
            4,
            4,
            4,
            4,
            4,
            4,
            4,
            4,
            4,
            4,
            4,
            4,
            4,
            4,
            4,
            5,
            5,
            5,
            5,
            5,
            5,
            5,
            5,
            5,
            5,
            5,
            5,
            5,
            5,
            5,
            5,
            5,
            5,
            5,
            5,
            5,
            5,
            5,
            5,
            5,
            5,
            6,
            6,
            6,
            6,
            6,
            6,
            6,
            6,
            6,
            6,
            6,
            6,
            6,
            6,
            6,
            7,
            7,
            7,
            7,
            7,
            7,
            7,
            7,
            7,
            7,
            7,
            7,
            7,
            7,
            7,
            7,
            8,
            8,
            8,
            8,
            8,
            8,
            8,
            8,
            8,
            8,
            8,
            8,
            8,
            8,
            8,
            8,
            8,
            8,
            9,
            9,
            9,
            9,
            9,
            9,
            9,
            9,
            9,
            9,
            9,
            9,
            9,
            10,
            10,
            10,
            10,
            10,
            10,
            10,
            10,
            10,
            10,
            10,
            10,
            11,
            11,
            11,
            11,
            11,
            11,
            11,
            11,
            11,
            11,
            12,
            12,
            12,
            12,
            12,
            12,
            12,
            12,
            12,
            12,
            12,
            12,
            12,
            12,
            12,
            12,
            12,
            12,
            12,
            12,
            12
           ],
           "xaxis": "x",
           "y": [
            0,
            0,
            1,
            0,
            0,
            7,
            0,
            0,
            0,
            14,
            2,
            2,
            1,
            4,
            3,
            0,
            3,
            0,
            12,
            1,
            3,
            0,
            9,
            11,
            0,
            6,
            16,
            3,
            4,
            3,
            2,
            1,
            11,
            4,
            4,
            1,
            2,
            1,
            0,
            1,
            0,
            0,
            0,
            4,
            0,
            1,
            0,
            3,
            0,
            0,
            1,
            1,
            2,
            0,
            0,
            4,
            0,
            5,
            1,
            4,
            0,
            5,
            5,
            0,
            0,
            0,
            3,
            4,
            2,
            0,
            3,
            1,
            3,
            7,
            2,
            2,
            4,
            1,
            0,
            1,
            5,
            0,
            0,
            5,
            3,
            8,
            1,
            0,
            1,
            3,
            6,
            6,
            3,
            0,
            0,
            0,
            6,
            1,
            3,
            2,
            2,
            0,
            3,
            2,
            1,
            0,
            3,
            2,
            0,
            1,
            0,
            3,
            2,
            2,
            0,
            7,
            1,
            4,
            3,
            0,
            4,
            1,
            5,
            1,
            4,
            4,
            0,
            3,
            3,
            2,
            2,
            0,
            0,
            0,
            0,
            4,
            7,
            0,
            0,
            1,
            6,
            0,
            1,
            0,
            0,
            4,
            0,
            4,
            2,
            9,
            0,
            0,
            7,
            1,
            0,
            2,
            0,
            5,
            1,
            2,
            1,
            3,
            5,
            1,
            2,
            11,
            3,
            2,
            1,
            0,
            2,
            8,
            3,
            3,
            1,
            0,
            15,
            8,
            1,
            1,
            8,
            9,
            0,
            0,
            2,
            6,
            6,
            0,
            0,
            9,
            0,
            1,
            0,
            2,
            0,
            0,
            0,
            0,
            1,
            3,
            0
           ],
           "yaxis": "y"
          },
          {
           "hovertemplate": "<b>%{hovertext}</b><br><br>Tags=sourdough<br>Year=2020<br>Month=%{x}<br>CommentCount=%{y}<br>AnswerCount=%{marker.size}<extra></extra>",
           "hovertext": [
            "The secret to crispy sourdough waffles?",
            "85% hydration tangzhong sourdough bread - what went wrong?",
            "Can I make a sourdough boule, freeze it then thaw it and bake it?",
            "Questions about the how and when of baking homemade sourdough bread",
            "Can tested yeast be used for anything?",
            "What is the guideline sourdough to flour to water ratio for 24-hour feeding?",
            "Day 8 of Sourdough Starter, is it still alive?",
            "Forgot to feed my 6-day old sourdough starter yesterday, can I just carry on today?",
            "Attempting Tartine's basic country bread",
            "Sourdough bread crumb ripped in two",
            "Maintaining a sourdough starter",
            "Sourdough starter - when do you give up?",
            "non-grain options in sourdough starter",
            "why does my sourdough bread have lumps of flour",
            "Flour types and their effects in levain",
            "Help! Too much salt in my sourdough dough!",
            "How to use sourdough starter?",
            "Sourdough starters with different smells - is this normal?",
            "Sourdough getting too brown",
            "What exactly happens during the sourdough ripening?",
            "Which sourdough starter should i keep?",
            "How long will it take for yeast culture to adapt to new flour",
            "Using pastry flour for standard sourdough bread recipe?",
            "Do I need a specific pan for baking sourdough bread?",
            "Beer in Sourdough Starter",
            "From regular fresh yeast to sourdough",
            "Sourdough Starter isnt rising",
            "Picking up wet dough",
            "Safe uses for sourdough starter discards during building phase",
            "Can you fold dough during autolyse?",
            "What is the optimal autolyse time for sourdough?",
            "Is this okay or moldy? Sourdough starter question",
            "Sour Dough Starter - proofing in less than 24 hours?",
            "Sourdough starter in hot climate",
            "Does there exist a conversion between a sourdough and preferments recipes?",
            "Sourdough dough collapsed, not rising again... Need help!",
            "Should I stir my sourdough starter before measuring?",
            "Sticky, messy sourdough: overfermented, or ambient factors?",
            "How to avoid collapsing bread?",
            "Can I leave flour to autolyse for long period of time?",
            "Capturing wild yeast for sourdough: Is this healthy yeast or contamination?",
            "Additional flour threshold: when and how to perform?",
            "Enzymatic reactions that happen when water and wheat flour is mixed?",
            "Why stirring an over-fermented sourdough starter caused it to rise a second time to about double the original size?",
            "Why not make sourdough bread from young starter?",
            "How Much Milk Should I add if I Already Have Butter and Sugar in my Recipe?",
            "Modifications to a sourdough recipe",
            "Converting Yeast Recipe to Natural Levain",
            "How does water behave in Dutch oven baking?",
            "Does the towel touching the day 1 starter and absorbing the liquid matter?",
            "Is it safe to keep reusing a portion of old dough?",
            "Layer of yeast on top of sourdough discard?",
            "Sourdough bread uncooked from inside",
            "Why does my sourdough loaf not get an ear",
            "Where to keep sourdough starter",
            "Sourdough starter used too early",
            "Stiff vs Liquid Starter, what are the differences between hydration in a sourdough starter?",
            "I get a smaller volume loaf from mixing sourdough in mixer - what am I doing wrong?",
            "Dough loses flexibility and strength once mixed with starter and starts raising",
            "What type of salt for sourdough bread baking?"
           ],
           "legendgroup": "sourdough",
           "marker": {
            "color": "#EF553B",
            "size": [
             1,
             1,
             1,
             3,
             2,
             1,
             1,
             1,
             1,
             1,
             1,
             2,
             1,
             2,
             1,
             2,
             1,
             3,
             2,
             2,
             1,
             1,
             2,
             4,
             1,
             2,
             1,
             5,
             1,
             1,
             0,
             1,
             2,
             0,
             1,
             2,
             1,
             4,
             1,
             1,
             1,
             1,
             2,
             1,
             2,
             1,
             1,
             0,
             1,
             1,
             1,
             1,
             2,
             4,
             1,
             2,
             1,
             1,
             0,
             4
            ],
            "sizemode": "area",
            "sizeref": 0.0375,
            "symbol": "circle"
           },
           "mode": "markers",
           "name": "sourdough",
           "orientation": "v",
           "showlegend": true,
           "type": "scatter",
           "x": [
            1,
            2,
            2,
            2,
            3,
            4,
            4,
            4,
            4,
            4,
            4,
            4,
            4,
            4,
            4,
            4,
            4,
            4,
            4,
            4,
            5,
            5,
            5,
            5,
            5,
            5,
            5,
            5,
            5,
            5,
            5,
            5,
            5,
            5,
            5,
            5,
            6,
            6,
            6,
            7,
            7,
            7,
            8,
            8,
            8,
            8,
            8,
            9,
            9,
            9,
            10,
            10,
            10,
            11,
            11,
            11,
            11,
            11,
            12,
            12
           ],
           "xaxis": "x",
           "y": [
            1,
            3,
            0,
            16,
            2,
            0,
            2,
            1,
            0,
            1,
            0,
            4,
            0,
            0,
            5,
            4,
            0,
            0,
            5,
            1,
            1,
            2,
            5,
            0,
            3,
            1,
            3,
            7,
            0,
            1,
            5,
            5,
            3,
            1,
            0,
            0,
            0,
            3,
            5,
            0,
            0,
            4,
            0,
            0,
            0,
            0,
            1,
            4,
            9,
            0,
            2,
            2,
            5,
            1,
            0,
            0,
            0,
            1,
            4,
            0
           ],
           "yaxis": "y"
          },
          {
           "hovertemplate": "<b>%{hovertext}</b><br><br>Tags=bread<br>Year=2020<br>Month=%{x}<br>CommentCount=%{y}<br>AnswerCount=%{marker.size}<extra></extra>",
           "hovertext": [
            "Freeze or refrigerate bread?",
            "How can I have a dough attachment when I have a Dretec Handmixer?",
            "When is the best time to freeze bread?",
            "How to make a more apple-y apple cider yeast bread",
            "How to tell apart mold and flour on sourdough bread?",
            "How do I use beer barm to make sourdough?",
            "Does leavened bread made with yeast require gluten to rise?",
            "How to remove husk from grain?",
            "What forms the pocket in Arabic/Pita bread?",
            "What type of Bread Improver should one use for non-yeast bread?",
            "Are bread improvers really needed?",
            "Would it be a good idea to mix brown sugar with white sugar in bread?",
            "What type of baker percentage should one use for brown sugar when compared to white sugar?",
            "Freezed Expired Bread",
            "85% hydration tangzhong sourdough bread - what went wrong?",
            "What holds low temperature the best for bread baking?",
            "Can I make a sourdough boule, freeze it then thaw it and bake it?",
            "The bread is brighter than usual",
            "Kneading bread with arthritic hands-any tips?",
            "Questions about the how and when of baking homemade sourdough bread",
            "How long can a bread dough containing eggs wait before going to the oven?",
            "Is sugar a necessary ingredient to feed yeast?",
            "Should calcium propionate be disolved in a liquid when making yeast bread?",
            "What makes breads different from one another?",
            "How to make bread with plain flour?",
            "Does liquid temperature matter when making bread in a bread maker?",
            "kneading vs. stretch and fold with pizza",
            "help with consistency of dough being made in bread machine",
            "can you refrigerate risen bread dough",
            "Can tested yeast be used for anything?",
            "Why is my homemade bread molding after 2 days?",
            "Adding sugar at the end of the mixture for apple bread",
            "Question about safety of eating cooked bread if it is over or under-proofed",
            "If I shun molasses and sugar, can I still copycat Outback Steakhouse's bread?",
            "Can I add instant yeast to sourdough dough that is not very active?",
            "Attempting Tartine's basic country bread",
            "Sourdough bread crumb ripped in two",
            "Help me fix my flatbread",
            "Ciabatta with no air bubbles",
            "Why was my bread mix really dry and take ages to knead properly?",
            "Food Scientists: Please Explain the Final Dough Temperature (FDT) Formula",
            "Replicating the thin, soft crust of Portuguese Sweet Bread",
            "why does my sourdough bread have lumps of flour",
            "Flour types and their effects in levain",
            "Why does bread flour have lower protein content than all-purpose flour?",
            "While frying the cheese garlic bread on a frying pan, can a silver foil prevent the base of bread from burning?",
            "Shaping baguettes using three folds vs. rolling it up?",
            "Lack of structure in a no-knead pizza",
            "Baking lots of bread - keeping a yeast starter",
            "Water on top of biga",
            "Can I make \"starter\" with active dry yeast?",
            "Sourdough starters with different smells - is this normal?",
            "Sourdough getting too brown",
            "Very Sticky Dough Before Kneading",
            "Which sourdough starter should i keep?",
            "Bread Didn't Turn Brown",
            "Are the white dots mould or part of the bread?",
            "White dots on pizza or focaccia after baking",
            "Using pastry flour for standard sourdough bread recipe?",
            "Do I need a specific pan for baking sourdough bread?",
            "Beer in Sourdough Starter",
            "From regular fresh yeast to sourdough",
            "How can I improve my bread-scoring technique?",
            "Picking up wet dough",
            "Can you fold dough during autolyse?",
            "Baking after the first rise (without punching down) vs the regular two rise approach?",
            "Délices au Beurre (Lye Bread)",
            "Why is my dough sweaty?",
            "Why are my croissants heavy?",
            "Why is my brioche dry?",
            "Would carbonated water be a good substitute for two eggs in this cherry loaf recipe?",
            "Can I mix all-purpose flour with high-gluten flour to make bread flour?",
            "Can I make up for under-proving my bread dough during the first rise by doing an extra long second rise?",
            "Bread is not rising",
            "Sour dough using unbleached all purpose flour is very wet during the preshaping",
            "Why is ciabatta poolish usually made with instant yeast?",
            "My buns/bread don't brown from top?",
            "Can I use less sugar for making this bread?",
            "Does there exist a conversion between a sourdough and preferments recipes?",
            "Coconut bread dough is crumbly and does not come together to knead",
            "Sourdough dough collapsed, not rising again... Need help!",
            "Can i refrigerate bread doughs twice before baking?",
            "Overworking bread dough by hand",
            "Brioche bread texture",
            "How to clean up after kneading dough?",
            "How to avoid soft bottom of home-made bread?",
            "Dry crispy skin on sourdough starter: is it mold?",
            "For what culinary reason would a bread recipe choose skim milk?",
            "Substitute spelt for white flour",
            "Tortilla or flat bread breaks and ruins inflation",
            "Why do baking recipes often tell you to \"make a well\" in flour before adding wet ingredients?",
            "how to make crumpets with bigger and more holes",
            "Sticky, messy sourdough: overfermented, or ambient factors?",
            "Dough rising and oxygen. How does it work exactly?",
            "What are these white spots in my bread dough?",
            "How to avoid collapsing bread?",
            "How salty is olive brine?",
            "Bread has acidic smell and taste",
            "Capturing wild yeast for sourdough: Is this healthy yeast or contamination?",
            "Why is my baguette type bread coming out almost flat?",
            "Why my dinner rolls get dry after two days?",
            "Brand new KitchenAid Professional 6500 makes clicking/ticking noise when under load",
            "Strong Yeast Taste on Japanese Milk Bread",
            "Old bread-slicing tool",
            "What are Hull Hotcakes?",
            "Baking bread without yeast",
            "What are the different flavors of sources for homemade baker’s yeast?",
            "Why stirring an over-fermented sourdough starter caused it to rise a second time to about double the original size?",
            "How to make bread improver?",
            "My Carrot Apple Zucchini Bread is moist but it crumble when you cut it. How can I fix it?",
            "Why did this bread not expand properly?",
            "Converting kneading recipe to no knead recipe",
            "Why not make sourdough bread from young starter?",
            "Does bread flour (vs AP flour) make a big difference in the density of the dough?",
            "Is there really a tradition of some kind to eat white bread when it's hot outside and dark bread when it's cold?",
            "How Much Milk Should I add if I Already Have Butter and Sugar in my Recipe?",
            "Modifications to a sourdough recipe",
            "Keep dinner rolls brushed with olive oil overnight",
            "How can my breadmaker made wholemeal bread taste less salty?",
            "Why are my tangzhong bread doughs so wet?",
            "How does water behave in Dutch oven baking?",
            "How is mixing time influenced when using a sourdough starter?",
            "Keto King Bread Rise Problem",
            "Does the towel touching the day 1 starter and absorbing the liquid matter?",
            "container for bulk fermentation/proofing",
            "Bread and butter pudding - but with juice?",
            "Is there a difference between a lot of yeast and rising a short time vs little yeast and rising a long time?",
            "Gluten free bread initially rises but collapses into itself later",
            "Best approach to making a loaf of bread stale",
            "Is there a tool to make bread balls?",
            "Would replacing sugar with a sweetener affect bread dough fermentation?",
            "Yeast bread \"blow out\" in the oven",
            "How to (cheaply) grind wheat berries for home bread making?",
            "Baking bread with a firm texture that doesn't grow mold",
            "Is there any benefit to mixing bread dough by hand?",
            "Bread maker - is this even a collapse or did it not get started?",
            "Dough loses flexibility and strength once mixed with starter and starts raising",
            "How much does a tuppenny loaf weigh?",
            "How to make your own Granary® flour from existing ingredients?",
            "Do you fold or blend the olives in a fougasse?",
            "What type of salt for sourdough bread baking?",
            "Why does rye flour dough require more water?"
           ],
           "legendgroup": "bread",
           "marker": {
            "color": "#00cc96",
            "size": [
             1,
             1,
             3,
             5,
             1,
             2,
             1,
             1,
             1,
             0,
             1,
             1,
             1,
             0,
             1,
             0,
             1,
             2,
             8,
             3,
             3,
             2,
             1,
             1,
             6,
             3,
             1,
             1,
             1,
             2,
             5,
             2,
             2,
             2,
             3,
             1,
             1,
             2,
             0,
             2,
             1,
             2,
             2,
             1,
             2,
             1,
             1,
             2,
             2,
             0,
             0,
             3,
             2,
             3,
             1,
             0,
             1,
             0,
             2,
             4,
             1,
             2,
             1,
             5,
             1,
             3,
             0,
             1,
             0,
             1,
             1,
             1,
             1,
             3,
             2,
             1,
             2,
             1,
             1,
             2,
             2,
             1,
             1,
             1,
             5,
             1,
             1,
             1,
             2,
             2,
             2,
             0,
             4,
             0,
             3,
             1,
             2,
             1,
             1,
             4,
             0,
             1,
             1,
             1,
             1,
             7,
             1,
             1,
             1,
             0,
             1,
             2,
             2,
             1,
             1,
             1,
             1,
             1,
             1,
             1,
             1,
             0,
             1,
             1,
             2,
             2,
             2,
             0,
             2,
             1,
             1,
             0,
             1,
             2,
             1,
             1,
             0,
             2,
             1,
             2,
             4,
             1
            ],
            "sizemode": "area",
            "sizeref": 0.0375,
            "symbol": "circle"
           },
           "mode": "markers",
           "name": "bread",
           "orientation": "v",
           "showlegend": true,
           "type": "scatter",
           "x": [
            1,
            1,
            1,
            1,
            1,
            1,
            1,
            1,
            1,
            2,
            2,
            2,
            2,
            2,
            2,
            2,
            2,
            2,
            2,
            2,
            3,
            3,
            3,
            3,
            3,
            3,
            3,
            3,
            3,
            3,
            3,
            4,
            4,
            4,
            4,
            4,
            4,
            4,
            4,
            4,
            4,
            4,
            4,
            4,
            4,
            4,
            4,
            4,
            4,
            4,
            4,
            4,
            4,
            5,
            5,
            5,
            5,
            5,
            5,
            5,
            5,
            5,
            5,
            5,
            5,
            5,
            5,
            5,
            5,
            5,
            5,
            5,
            5,
            5,
            5,
            5,
            5,
            5,
            5,
            5,
            5,
            5,
            6,
            6,
            6,
            6,
            6,
            6,
            6,
            6,
            6,
            6,
            6,
            6,
            6,
            6,
            7,
            7,
            7,
            7,
            7,
            7,
            7,
            7,
            7,
            7,
            8,
            8,
            8,
            8,
            8,
            8,
            8,
            8,
            8,
            8,
            8,
            8,
            8,
            9,
            9,
            9,
            9,
            9,
            10,
            10,
            10,
            11,
            11,
            11,
            11,
            11,
            11,
            11,
            11,
            11,
            12,
            12,
            12,
            12,
            12,
            12
           ],
           "xaxis": "x",
           "y": [
            0,
            0,
            1,
            7,
            0,
            3,
            0,
            0,
            0,
            5,
            1,
            0,
            4,
            2,
            3,
            5,
            0,
            9,
            0,
            16,
            1,
            1,
            0,
            3,
            8,
            1,
            4,
            0,
            0,
            2,
            1,
            1,
            0,
            0,
            2,
            0,
            1,
            2,
            3,
            4,
            0,
            4,
            0,
            5,
            3,
            1,
            0,
            0,
            4,
            0,
            3,
            0,
            5,
            3,
            1,
            3,
            0,
            7,
            5,
            0,
            3,
            1,
            3,
            7,
            1,
            0,
            0,
            4,
            5,
            3,
            8,
            1,
            1,
            12,
            2,
            6,
            6,
            3,
            0,
            4,
            0,
            0,
            2,
            5,
            2,
            0,
            0,
            0,
            7,
            1,
            0,
            3,
            3,
            6,
            3,
            5,
            0,
            4,
            0,
            3,
            5,
            3,
            0,
            1,
            8,
            4,
            0,
            0,
            0,
            7,
            2,
            0,
            0,
            7,
            5,
            0,
            1,
            0,
            1,
            3,
            9,
            2,
            4,
            0,
            0,
            4,
            2,
            2,
            4,
            4,
            2,
            2,
            3,
            3,
            3,
            1,
            4,
            1,
            6,
            2,
            0,
            5
           ],
           "yaxis": "y"
          }
         ],
         "name": "2020"
        },
        {
         "data": [
          {
           "hovertemplate": "<b>%{hovertext}</b><br><br>Tags=baking<br>Year=2021<br>Month=%{x}<br>CommentCount=%{y}<br>AnswerCount=%{marker.size}<extra></extra>",
           "hovertext": [
            "How do you make buns hollow inside for filling?",
            "Baking German white bread rolls",
            "What causes dough made from coconut flour to not stick together?",
            "How can I make sweet potato fries soggy?",
            "How do I make a cookie with a cream filling (similar to an Oreo filling)?",
            "Cookies end up with a wavy bottom",
            "How long can flour dough sit on counter?",
            "Margarine vs vegetable oil in baking",
            "What is the purpose of adding baking powder to a recipe that contains yeast?",
            "Adding xanthin gum to regular flour containing gluten",
            "How to make a meringue cake layer that is not cracked?",
            "What is a stem pan?",
            "Letting batter with baking soda wait before adding into the oven",
            "Oven features required/desirable for baking bread at home",
            "egg-wash role in having soft bread buns",
            "Fresh ground chorizo",
            "How to convert Ring Cake to Square Cake",
            "What should I do if I forgot to dry fries before baking?",
            "How to lower the melting point of a specific chocolate?",
            "Adding fresh fruit to a non fruited banana bread",
            "help understanding this recipe gluten free and vegan",
            "How do I best cut florentines from a finished (baked) baking tray?",
            "My oven seems to cook the outside faster than the inside",
            "Why is my cupcake brownie like?",
            "Using muffin/cupcake pan for basque burnt cheesecake",
            "Cocoa butter crystals in chocolate frosting",
            "Using both whipped egg whites and egg yolks vs whipped egg whites only?",
            "safety of using chamotte stone from hardware supplies store for baking",
            "Can I use liquid-form sugar to replace powdered-form sugar in meringue or sponge cake?",
            "Substitute clarified butter with sunflower spread",
            "Pie crust too soft to put in pan",
            "Does boiling water deactivate malt enzymes?",
            "Bread: Hydration change for making Wholewheat bread with oats",
            "Can pumpkin pie be made apple pie way?",
            "What could the dough of this cookie be made of?",
            "Shortening substitute that can prevent gluten growth?",
            "How to avoid excessive steam build up in oven",
            "Emeril 360 Oven. How do i disable timer when baking?",
            "Danish rye bread (rugbrød) gone wrong?",
            "Why adding soda without vinegar to the cake batter?",
            "Why is my cake sinking after baking with a soggy-like line in the middle?",
            "Using osmotolerant yeast in regular bread",
            "Cake not rising - too many wet ingredients?",
            "Storing Self-Made Cookies/Brittles/etc longer: ingredients and techniques",
            "Sourdough Starter: Very fast rise (doubles in an hour)",
            "Bread Machine Loaf does not Dome",
            "Making how much batter will result in over-mixing?",
            "I want my potatoes to be baked within an hour, but I forgot to preheat the oven. Should I put them in while preheating or not?",
            "Why do I sometimes “cream” and “beat until smooth”, and sometimes not?",
            "Did post-war Hovis bread contain treacle or black strap molasses?",
            "What is the benefit of adding vegetable oil to cheese cake dough?",
            "How to Adjust Biscotti Recipe When Using Salted Pistachios",
            "Storing cast iron in the oven",
            "What to use on top of a baking stone: parchment paper, a silicone sheet or a thin steel tray?",
            "Oven is at the correct temperature but things are baking consistently slower than recipes suggest",
            "Can I use a rectangular ceramic pan instead of enameled cast iron to bake bread without losing the nice crust?",
            "High Altitude Rye Bread",
            "Leaving cake's dry ingredients together for later quicker preparation?",
            "How much oil can flour absorb?",
            "Can I add lentils to a baked chicken-and-vegetable stew?",
            "Left over whipped cream",
            "Can one make a pourable custard by baking in an oven?",
            "Best time to benefit from dough mixed with baking soda",
            "Is there any difference between US convection ovens to ovens used in other parts of the world",
            "Bourboning up a ganache",
            "Is it a good idea to add salt to egg whites before beating them?",
            "Is cake donut mix the same as all purpose flour?",
            "Am I calculating bread dough hydration correctly?",
            "What should be added to brownies when reducing cocoa powder and vanilla extract?",
            "When does baking soda make a dough taste bitter?",
            "When downsizing a recipe for bread, do you need to cut down every ingredient equally for it to come out well?",
            "Can I half-bake muffins now, and then complete bake them the rest of the way a couple days later when I want them \"fresh\"?",
            "Is there a way to get bacon crispy if you wrap it around potatoes and stick it in the oven?",
            "Yeast in Poolish",
            "Is there a way predict proving times of dough (without experience)?",
            "using bread machine as toaster oven",
            "Baking juicier chicken breast without brining?",
            "Is a partially translucent banana safe to cook with?",
            "When a recipe calls or 1/2 cup of raisins, should the raisins be packed or not packed?",
            "Shortbread recipe rice flour to corn starch",
            "When marbling cake, can density of chocolate cake impact the rising of the vanilla cake?",
            "What is table cream? I livd in US and have never heard term",
            "Proofing container: air tight vs simple bowl",
            "Baking Bread in Dutch Oven with Hairline Crack",
            "Beating egg white and whipping cream",
            "Ignition temperature of most foods , or maximum theoretical cooking temperature ? Read below?",
            "Regular Cake Pan to Tube Pan Cook Time Conversion?",
            "Will ultrapasterized milk curdle?",
            "Temperature of a muffin pan right under a gas oven broiler",
            "Material used for Portuguese custard tart molds",
            "Proper size of Portuguese custard tart",
            "Does the addition of acid into flour inhibit gluten formation?",
            "Managing a new, overactive sourdough starter",
            "War-zone chocolate brownies (edible decor)",
            "How to stop bagel dough deflating when it is handled between its rising place, the boiling pan, and its baking place?",
            "heat-induced leavening agent",
            "Cooking liquid in oven turns crispy skin soggy",
            "Balancing biscoff spread for stuffed brownies",
            "How to make a keto-vegan pancake or cake based on almond flour?",
            "What's a good lactose-free substitute for heavy cream when baking?",
            "Basic Muffin Formula Range/Percentage",
            "Trouble with making Vegan Pastila",
            "What will happen if I make a parisian flan with all 1% milk instead of whole milk and heavy cream?",
            "Should \"bake\" or \"roast\" be used when making cakes? Heat top or bottom?",
            "Why would using a tall baking pan cause the top of a cake to be darker?"
           ],
           "legendgroup": "baking",
           "marker": {
            "color": "#636efa",
            "size": [
             0,
             1,
             2,
             2,
             1,
             1,
             1,
             2,
             1,
             0,
             1,
             3,
             3,
             4,
             2,
             1,
             2,
             2,
             1,
             1,
             2,
             2,
             3,
             1,
             1,
             0,
             1,
             2,
             1,
             3,
             1,
             1,
             3,
             2,
             1,
             2,
             3,
             0,
             1,
             1,
             1,
             2,
             1,
             3,
             2,
             2,
             2,
             6,
             2,
             0,
             0,
             3,
             1,
             2,
             3,
             3,
             0,
             3,
             1,
             1,
             0,
             2,
             1,
             1,
             1,
             1,
             1,
             3,
             1,
             2,
             1,
             2,
             1,
             1,
             1,
             1,
             2,
             1,
             1,
             3,
             1,
             1,
             1,
             1,
             1,
             1,
             1,
             2,
             1,
             1,
             1,
             3,
             1,
             6,
             0,
             3,
             3,
             1,
             3,
             4,
             2,
             1,
             1,
             3,
             2
            ],
            "sizemode": "area",
            "sizeref": 0.0375,
            "symbol": "circle"
           },
           "mode": "markers",
           "name": "baking",
           "orientation": "v",
           "showlegend": true,
           "type": "scatter",
           "x": [
            1,
            1,
            1,
            1,
            1,
            1,
            1,
            1,
            1,
            1,
            1,
            1,
            1,
            2,
            2,
            2,
            2,
            2,
            2,
            2,
            2,
            2,
            2,
            2,
            2,
            2,
            3,
            3,
            3,
            3,
            3,
            3,
            4,
            4,
            4,
            4,
            4,
            4,
            4,
            4,
            5,
            5,
            5,
            5,
            5,
            5,
            5,
            5,
            5,
            5,
            5,
            5,
            5,
            5,
            6,
            6,
            6,
            6,
            6,
            6,
            6,
            6,
            6,
            6,
            7,
            7,
            7,
            7,
            7,
            7,
            7,
            7,
            7,
            7,
            7,
            7,
            8,
            8,
            8,
            8,
            8,
            8,
            9,
            9,
            9,
            9,
            9,
            9,
            9,
            9,
            9,
            10,
            10,
            10,
            10,
            10,
            10,
            10,
            11,
            11,
            12,
            12,
            12,
            12,
            12
           ],
           "xaxis": "x",
           "y": [
            1,
            0,
            1,
            2,
            2,
            4,
            1,
            1,
            1,
            2,
            0,
            6,
            3,
            3,
            1,
            2,
            1,
            1,
            4,
            0,
            1,
            4,
            7,
            5,
            1,
            0,
            2,
            4,
            0,
            0,
            4,
            2,
            2,
            3,
            22,
            1,
            2,
            2,
            5,
            2,
            3,
            0,
            5,
            0,
            3,
            5,
            0,
            2,
            2,
            7,
            5,
            3,
            0,
            8,
            8,
            7,
            2,
            0,
            0,
            2,
            4,
            0,
            0,
            6,
            0,
            5,
            5,
            2,
            5,
            0,
            0,
            2,
            0,
            0,
            0,
            0,
            9,
            0,
            0,
            1,
            0,
            0,
            2,
            3,
            0,
            6,
            0,
            0,
            3,
            3,
            0,
            1,
            0,
            9,
            8,
            1,
            0,
            0,
            4,
            5,
            1,
            12,
            0,
            6,
            1
           ],
           "yaxis": "y"
          },
          {
           "hovertemplate": "<b>%{hovertext}</b><br><br>Tags=sourdough<br>Year=2021<br>Month=%{x}<br>CommentCount=%{y}<br>AnswerCount=%{marker.size}<extra></extra>",
           "hovertext": [
            "Sourdough bread crust will not rip open",
            "Do I need more fermentation? Why my sourdough is flattened?",
            "What is a good feeding schedule for a \"creamy\" sourdough starter?",
            "Why do my English muffins have such a tough crust?",
            "One time sourdough starter",
            "Feeding my starter so that it will be ready when I need it",
            "When can milk substitute for buttermilk in sourdough recipes?",
            "What is this on sourdough starter?",
            "Effect of ethanol concentration on bread flavor",
            "Can I use a rectangular ceramic pan instead of enameled cast iron to bake bread without losing the nice crust?",
            "How do I modify my sourdough rising/proofing time to account for not using enough starter?",
            "Sourdough pizza crust for wood-fired oven",
            "Wild Sourdough Starter Never gets more than 1/3 bigger - Am I doing something wrong?"
           ],
           "legendgroup": "sourdough",
           "marker": {
            "color": "#EF553B",
            "size": [
             4,
             1,
             0,
             3,
             5,
             0,
             1,
             2,
             0,
             3,
             1,
             3,
             1
            ],
            "sizemode": "area",
            "sizeref": 0.0375,
            "symbol": "circle"
           },
           "mode": "markers",
           "name": "sourdough",
           "orientation": "v",
           "showlegend": true,
           "type": "scatter",
           "x": [
            1,
            1,
            1,
            1,
            2,
            2,
            2,
            4,
            5,
            6,
            7,
            7,
            7
           ],
           "xaxis": "x",
           "y": [
            2,
            1,
            0,
            5,
            0,
            1,
            1,
            3,
            7,
            7,
            0,
            12,
            3
           ],
           "yaxis": "y"
          },
          {
           "hovertemplate": "<b>%{hovertext}</b><br><br>Tags=bread<br>Year=2021<br>Month=%{x}<br>CommentCount=%{y}<br>AnswerCount=%{marker.size}<extra></extra>",
           "hovertext": [
            "How many types of Roti are there?",
            "Sourdough bread crust will not rip open",
            "How do you make buns hollow inside for filling?",
            "Baking German white bread rolls",
            "How to make my chelsea buns more doughy",
            "Can I use the stovetop while a dough is leavening in the oven?",
            "How can I get a better looking crust on my baguettes?",
            "I made challah dough and it was still sticky after 9 cups of AP flour",
            "Reason(s) for poor bread results",
            "Reasons my sourdough attempts failed?",
            "Why do my English muffins have such a tough crust?",
            "Why don't we all eat injera? Or some other form(s) of teff?",
            "How to obtain the soft and pillowy texture in bread?",
            "One time sourdough starter",
            "Oven features required/desirable for baking bread at home",
            "Small Hard White Thing In Whole Wheat Bread - Mold Or Grain?",
            "egg-wash role in having soft bread buns",
            "Do bread bins really keep homemade breads fresh?",
            "Egg bread recipe calls for 2 eggs and 2 yolks, can I use 4 whole eggs?",
            "What do you get from boiling dough",
            "Can meat spoil outside the fridge if it's baked into bread as a filling?",
            "I'm having trouble making grilled cheese, what am I doing wrong?",
            "Bread: Hydration change for making Wholewheat bread with oats",
            "What is the reason for the automatic fruit and nut dispenser on some bread makers?",
            "What kind of dish/pastry consists of white bread with ice-cream or some sort of mousse inside?",
            "bread dough always too sticky",
            "Can I refrigerate lower hydration dough for storage like I would no-knead dough?",
            "Using osmotolerant yeast in regular bread",
            "Converting bread recipes for an overnight rise?",
            "Bread Machine Loaf does not Dome",
            "Why is my bread dough rising this quickly?",
            "Effect of ethanol concentration on bread flavor",
            "Did post-war Hovis bread contain treacle or black strap molasses?",
            "Can you make vegan garlic bread? If so, how does the use of margarine effect taste and texture?",
            "Can I use a rectangular ceramic pan instead of enameled cast iron to bake bread without losing the nice crust?",
            "What are the safety and warranty implications of steaming bread in a domestic oven?",
            "High Altitude Rye Bread",
            "Bagel Sponge: Room Temp or Proofing Temp?",
            "What does yeast do to flour?",
            "Am I calculating bread dough hydration correctly?",
            "Bread maker paddle cylinder bored round; inner flat side gone",
            "When downsizing a recipe for bread, do you need to cut down every ingredient equally for it to come out well?",
            "Yeast in Poolish",
            "What is the net (absorbable) carb content of Psyllium Husk?",
            "Is there a pattern that when sliced into bread dough - causes the bread to be fairly level?",
            "Preserve crustiness/freshness of toasted bread",
            "Is a toasty preserved ok during trip if in a backpack?",
            "How to avoid shrinking bread loaf after baking?",
            "Foil wrap cooking fully assembled burger in George Foreman grill?",
            "Proofing container: air tight vs simple bowl",
            "What are the most yeasty fruits sold in supermarkets suitable for providing yeast for making bread?",
            "Baking Bread in Dutch Oven with Hairline Crack",
            "What's the deal with split-top bread?",
            "How do you significantly reduce the calories in bread like Franz Keto bread?",
            "Does Challah bread need to be braided?",
            "How can I find T150 wheat flour in the United States?",
            "Bread dough flattens during final proof & almost no oven spring",
            "Making bread using potassium bicarbonate",
            "Deterring mold on bakery bread",
            "How to make savoury brioche bread",
            "Why does mixing the salt and yeast sometimes work?",
            "What's a good lactose-free substitute for heavy cream when baking?",
            "Yoghurt making in a bread machine",
            "Adding oil/fat to bread dough"
           ],
           "legendgroup": "bread",
           "marker": {
            "color": "#00cc96",
            "size": [
             1,
             4,
             0,
             1,
             1,
             1,
             1,
             2,
             2,
             1,
             3,
             1,
             2,
             5,
             4,
             2,
             2,
             2,
             3,
             3,
             3,
             2,
             3,
             1,
             1,
             7,
             1,
             2,
             3,
             2,
             1,
             0,
             0,
             1,
             3,
             3,
             0,
             1,
             1,
             3,
             2,
             1,
             1,
             1,
             2,
             3,
             0,
             3,
             1,
             1,
             3,
             1,
             2,
             2,
             5,
             0,
             3,
             0,
             1,
             4,
             3,
             4,
             0,
             2
            ],
            "sizemode": "area",
            "sizeref": 0.0375,
            "symbol": "circle"
           },
           "mode": "markers",
           "name": "bread",
           "orientation": "v",
           "showlegend": true,
           "type": "scatter",
           "x": [
            1,
            1,
            1,
            1,
            1,
            1,
            1,
            1,
            1,
            1,
            1,
            1,
            1,
            2,
            2,
            2,
            2,
            2,
            2,
            3,
            3,
            4,
            4,
            4,
            4,
            4,
            4,
            5,
            5,
            5,
            5,
            5,
            5,
            5,
            6,
            6,
            6,
            6,
            7,
            7,
            7,
            7,
            7,
            8,
            8,
            8,
            8,
            8,
            8,
            9,
            9,
            9,
            9,
            9,
            10,
            10,
            10,
            10,
            10,
            11,
            11,
            11,
            12,
            12
           ],
           "xaxis": "x",
           "y": [
            2,
            2,
            1,
            0,
            0,
            0,
            3,
            1,
            4,
            0,
            5,
            3,
            3,
            0,
            3,
            2,
            1,
            4,
            6,
            8,
            2,
            1,
            2,
            0,
            0,
            9,
            0,
            0,
            2,
            5,
            8,
            7,
            7,
            5,
            7,
            2,
            2,
            0,
            1,
            2,
            4,
            0,
            0,
            8,
            2,
            3,
            12,
            1,
            3,
            2,
            9,
            3,
            1,
            1,
            0,
            2,
            3,
            6,
            4,
            6,
            2,
            5,
            1,
            1
           ],
           "yaxis": "y"
          }
         ],
         "name": "2021"
        },
        {
         "data": [
          {
           "hovertemplate": "<b>%{hovertext}</b><br><br>Tags=baking<br>Year=2022<br>Month=%{x}<br>CommentCount=%{y}<br>AnswerCount=%{marker.size}<extra></extra>",
           "hovertext": [
            "What can I substitute the cocoa powder with for this mille crepe recipe?",
            "Are there any ways to make rum cookies other than baking them?",
            "Deidre's bread getting HUGE in the oven",
            "Oatmeal Peanut Butter Raisin Chocolate Chip Nut Cookies",
            "Could oat flour be the cause of gritty texture in chic chip cookies?",
            "Getting well domed muffins",
            "Do these lines in ceramic pie plate mean cracks?",
            "Beating eggs for brownie",
            "Can I bake cake in an air fryer?",
            "Clear vs tinted glass bakeware",
            "Will my expired cake mix rise?",
            "Will frozen mangos work as a substitute for apples?",
            "What are possible alternatives for parchment paper when baking cream puffs?",
            "Focaccia dough perhaps not able to get at room temp before baking",
            "Why can you eat raw oat flour but not raw wheat flour?",
            "My cake falls while baking",
            "Dutch oven vs. water pan for bread baking",
            "Can Le Creuset Dutch Oven be used in the microwave in convection mode?",
            "Refrigeration of Potatoes au Gratin",
            "Russian Recipe Help Needed!",
            "Does oven spring differ between white and sourdough breads?",
            "Zabaglione for Tiramisu",
            "Muffin casing anomaly: detachment",
            "How does no-knead bread not overproof?",
            "Why would a fully-developed dough lose consistency (elasticity / extensibility)?",
            "The right custard for baking with a cake",
            "Gluten free alternatives",
            "What is the role of oil in baked cheesecake with raisins",
            "Non-nut substitute for ground hazelnuts",
            "Is there a way to second-rise a wet dough in the same container?",
            "How long does a souffle stay up?",
            "How much does a dL of flour weigh?",
            "Is my vegan icing shelf stable?",
            "Do the conventional round ovens have any advantage over an OTG?",
            "Can I save my sourdough if I accidentally overheated it during bulk fermenting?",
            "What is the distinction between baking and roasting?",
            "What is the difference between Pate Sucree and Pate Sablee?",
            "Why are my marshmallows getting crunchy after baking?",
            "Why did the base of my tart got soggy?",
            "How long will these vegan muffins last out of the fridge?",
            "Potato with core temperature of 100C but no carbonisation",
            "How did replacing flour in muffins go so wrong?",
            "What are the dips in muffin/cupcake tins called?",
            "Why did my cheesecake fall?",
            "Why does my rye bread sink in the middle like this?",
            "Why does it take longer for food to bake when the oven is full?",
            "What is the purpose of heating peanut butter and butter when making this type of peanut butter fudge?",
            "When baking bread in a multi cooker is some water required?",
            "Can biscuit dough be left out at room temperature before baking?",
            "How to adequately secure a liquid filling in a piece of pastry?",
            "Is it possible to substitute banana for the egg when making French toast?",
            "Is baking with wheat starch similar to using other gluten free starches?"
           ],
           "legendgroup": "baking",
           "marker": {
            "color": "#636efa",
            "size": [
             0,
             1,
             2,
             1,
             0,
             1,
             2,
             1,
             2,
             0,
             0,
             2,
             0,
             2,
             1,
             0,
             2,
             2,
             1,
             1,
             1,
             2,
             1,
             2,
             3,
             2,
             1,
             0,
             1,
             1,
             2,
             3,
             1,
             1,
             2,
             2,
             1,
             1,
             2,
             1,
             2,
             3,
             2,
             1,
             0,
             4,
             1,
             1,
             2,
             4,
             3,
             0
            ],
            "sizemode": "area",
            "sizeref": 0.0375,
            "symbol": "circle"
           },
           "mode": "markers",
           "name": "baking",
           "orientation": "v",
           "showlegend": true,
           "type": "scatter",
           "x": [
            1,
            1,
            1,
            1,
            1,
            1,
            1,
            1,
            1,
            1,
            1,
            1,
            1,
            1,
            2,
            2,
            2,
            3,
            3,
            3,
            4,
            4,
            4,
            4,
            4,
            4,
            4,
            4,
            4,
            5,
            5,
            5,
            5,
            5,
            5,
            6,
            6,
            6,
            7,
            7,
            7,
            7,
            7,
            7,
            8,
            8,
            8,
            8,
            8,
            8,
            8,
            8
           ],
           "xaxis": "x",
           "y": [
            3,
            1,
            15,
            0,
            3,
            0,
            0,
            3,
            0,
            2,
            2,
            5,
            0,
            5,
            2,
            9,
            1,
            7,
            6,
            2,
            0,
            1,
            0,
            5,
            5,
            0,
            7,
            3,
            2,
            11,
            1,
            2,
            2,
            1,
            1,
            0,
            1,
            1,
            1,
            2,
            1,
            6,
            8,
            1,
            2,
            3,
            1,
            0,
            0,
            3,
            5,
            2
           ],
           "yaxis": "y"
          },
          {
           "hovertemplate": "<b>%{hovertext}</b><br><br>Tags=sourdough<br>Year=2022<br>Month=%{x}<br>CommentCount=%{y}<br>AnswerCount=%{marker.size}<extra></extra>",
           "hovertext": [
            "3 day old sourdough starter splits after feeding",
            "Sourdough hasn’t risen overnight",
            "How does no-knead bread not overproof?",
            "Why would a fully-developed dough lose consistency (elasticity / extensibility)?",
            "Is it okay to feed milk powder to sourdough starter?",
            "When stretching and folding dough and it gets tight, is that time to let it rest?",
            "Some instant yeast went into my sourdough starter"
           ],
           "legendgroup": "sourdough",
           "marker": {
            "color": "#EF553B",
            "size": [
             1,
             2,
             2,
             3,
             0,
             1,
             2
            ],
            "sizemode": "area",
            "sizeref": 0.0375,
            "symbol": "circle"
           },
           "mode": "markers",
           "name": "sourdough",
           "orientation": "v",
           "showlegend": true,
           "type": "scatter",
           "x": [
            1,
            3,
            4,
            4,
            4,
            5,
            6
           ],
           "xaxis": "x",
           "y": [
            0,
            7,
            5,
            5,
            2,
            3,
            2
           ],
           "yaxis": "y"
          },
          {
           "hovertemplate": "<b>%{hovertext}</b><br><br>Tags=bread<br>Year=2022<br>Month=%{x}<br>CommentCount=%{y}<br>AnswerCount=%{marker.size}<extra></extra>",
           "hovertext": [
            "Milk bread problem",
            "Deidre's bread getting HUGE in the oven",
            "3 day old sourdough starter splits after feeding",
            "Focaccia dough perhaps not able to get at room temp before baking",
            "Biga Bread sponge",
            "Cracked oven proof dish - trying to understand the physics of what went wrong",
            "Is my sour dough starter still good if it separates?",
            "Dutch oven vs. water pan for bread baking",
            "How can I make my baguette dough softer and more elastic?",
            "Sourdough hasn’t risen overnight",
            "White bread without the \"yeasty\" or \"bready\" flavor",
            "Can I bake bread in a Bread machine with Swad gluten free flour?",
            "Does oven spring differ between white and sourdough breads?",
            "How does no-knead bread not overproof?",
            "Why would a fully-developed dough lose consistency (elasticity / extensibility)?",
            "Preparing To Teach Someone How to Bake a Whole Wheat Yeast Bread",
            "Is it okay to feed milk powder to sourdough starter?",
            "What does adding 1 extra egg to quick bread do?",
            "Is there a way to second-rise a wet dough in the same container?",
            "How does the folding make the dough stronger?",
            "Can I save my sourdough if I accidentally overheated it during bulk fermenting?",
            "Why does my rye bread sink in the middle like this?",
            "When baking bread in a multi cooker is some water required?",
            "Is it possible to substitute banana for the egg when making French toast?"
           ],
           "legendgroup": "bread",
           "marker": {
            "color": "#00cc96",
            "size": [
             0,
             2,
             1,
             2,
             1,
             2,
             1,
             2,
             2,
             2,
             2,
             1,
             1,
             2,
             3,
             1,
             0,
             1,
             1,
             4,
             2,
             0,
             1,
             3
            ],
            "sizemode": "area",
            "sizeref": 0.0375,
            "symbol": "circle"
           },
           "mode": "markers",
           "name": "bread",
           "orientation": "v",
           "showlegend": true,
           "type": "scatter",
           "x": [
            1,
            1,
            1,
            1,
            1,
            1,
            2,
            2,
            3,
            3,
            3,
            3,
            4,
            4,
            4,
            4,
            4,
            5,
            5,
            5,
            5,
            8,
            8,
            8
           ],
           "xaxis": "x",
           "y": [
            2,
            15,
            0,
            5,
            2,
            8,
            2,
            1,
            8,
            7,
            12,
            3,
            0,
            5,
            5,
            6,
            2,
            1,
            11,
            6,
            1,
            2,
            0,
            5
           ],
           "yaxis": "y"
          }
         ],
         "name": "2022"
        }
       ],
       "layout": {
        "legend": {
         "itemsizing": "constant",
         "title": {
          "text": "Tags"
         },
         "tracegroupgap": 0
        },
        "margin": {
         "t": 60
        },
        "sliders": [
         {
          "active": 0,
          "currentvalue": {
           "prefix": "Year="
          },
          "len": 0.9,
          "pad": {
           "b": 10,
           "t": 60
          },
          "steps": [
           {
            "args": [
             [
              "2018"
             ],
             {
              "frame": {
               "duration": 0,
               "redraw": false
              },
              "fromcurrent": true,
              "mode": "immediate",
              "transition": {
               "duration": 0,
               "easing": "linear"
              }
             }
            ],
            "label": "2018",
            "method": "animate"
           },
           {
            "args": [
             [
              "2019"
             ],
             {
              "frame": {
               "duration": 0,
               "redraw": false
              },
              "fromcurrent": true,
              "mode": "immediate",
              "transition": {
               "duration": 0,
               "easing": "linear"
              }
             }
            ],
            "label": "2019",
            "method": "animate"
           },
           {
            "args": [
             [
              "2020"
             ],
             {
              "frame": {
               "duration": 0,
               "redraw": false
              },
              "fromcurrent": true,
              "mode": "immediate",
              "transition": {
               "duration": 0,
               "easing": "linear"
              }
             }
            ],
            "label": "2020",
            "method": "animate"
           },
           {
            "args": [
             [
              "2021"
             ],
             {
              "frame": {
               "duration": 0,
               "redraw": false
              },
              "fromcurrent": true,
              "mode": "immediate",
              "transition": {
               "duration": 0,
               "easing": "linear"
              }
             }
            ],
            "label": "2021",
            "method": "animate"
           },
           {
            "args": [
             [
              "2022"
             ],
             {
              "frame": {
               "duration": 0,
               "redraw": false
              },
              "fromcurrent": true,
              "mode": "immediate",
              "transition": {
               "duration": 0,
               "easing": "linear"
              }
             }
            ],
            "label": "2022",
            "method": "animate"
           }
          ],
          "x": 0.1,
          "xanchor": "left",
          "y": 0,
          "yanchor": "top"
         }
        ],
        "template": {
         "data": {
          "bar": [
           {
            "error_x": {
             "color": "#2a3f5f"
            },
            "error_y": {
             "color": "#2a3f5f"
            },
            "marker": {
             "line": {
              "color": "#E5ECF6",
              "width": 0.5
             },
             "pattern": {
              "fillmode": "overlay",
              "size": 10,
              "solidity": 0.2
             }
            },
            "type": "bar"
           }
          ],
          "barpolar": [
           {
            "marker": {
             "line": {
              "color": "#E5ECF6",
              "width": 0.5
             },
             "pattern": {
              "fillmode": "overlay",
              "size": 10,
              "solidity": 0.2
             }
            },
            "type": "barpolar"
           }
          ],
          "carpet": [
           {
            "aaxis": {
             "endlinecolor": "#2a3f5f",
             "gridcolor": "white",
             "linecolor": "white",
             "minorgridcolor": "white",
             "startlinecolor": "#2a3f5f"
            },
            "baxis": {
             "endlinecolor": "#2a3f5f",
             "gridcolor": "white",
             "linecolor": "white",
             "minorgridcolor": "white",
             "startlinecolor": "#2a3f5f"
            },
            "type": "carpet"
           }
          ],
          "choropleth": [
           {
            "colorbar": {
             "outlinewidth": 0,
             "ticks": ""
            },
            "type": "choropleth"
           }
          ],
          "contour": [
           {
            "colorbar": {
             "outlinewidth": 0,
             "ticks": ""
            },
            "colorscale": [
             [
              0,
              "#0d0887"
             ],
             [
              0.1111111111111111,
              "#46039f"
             ],
             [
              0.2222222222222222,
              "#7201a8"
             ],
             [
              0.3333333333333333,
              "#9c179e"
             ],
             [
              0.4444444444444444,
              "#bd3786"
             ],
             [
              0.5555555555555556,
              "#d8576b"
             ],
             [
              0.6666666666666666,
              "#ed7953"
             ],
             [
              0.7777777777777778,
              "#fb9f3a"
             ],
             [
              0.8888888888888888,
              "#fdca26"
             ],
             [
              1,
              "#f0f921"
             ]
            ],
            "type": "contour"
           }
          ],
          "contourcarpet": [
           {
            "colorbar": {
             "outlinewidth": 0,
             "ticks": ""
            },
            "type": "contourcarpet"
           }
          ],
          "heatmap": [
           {
            "colorbar": {
             "outlinewidth": 0,
             "ticks": ""
            },
            "colorscale": [
             [
              0,
              "#0d0887"
             ],
             [
              0.1111111111111111,
              "#46039f"
             ],
             [
              0.2222222222222222,
              "#7201a8"
             ],
             [
              0.3333333333333333,
              "#9c179e"
             ],
             [
              0.4444444444444444,
              "#bd3786"
             ],
             [
              0.5555555555555556,
              "#d8576b"
             ],
             [
              0.6666666666666666,
              "#ed7953"
             ],
             [
              0.7777777777777778,
              "#fb9f3a"
             ],
             [
              0.8888888888888888,
              "#fdca26"
             ],
             [
              1,
              "#f0f921"
             ]
            ],
            "type": "heatmap"
           }
          ],
          "heatmapgl": [
           {
            "colorbar": {
             "outlinewidth": 0,
             "ticks": ""
            },
            "colorscale": [
             [
              0,
              "#0d0887"
             ],
             [
              0.1111111111111111,
              "#46039f"
             ],
             [
              0.2222222222222222,
              "#7201a8"
             ],
             [
              0.3333333333333333,
              "#9c179e"
             ],
             [
              0.4444444444444444,
              "#bd3786"
             ],
             [
              0.5555555555555556,
              "#d8576b"
             ],
             [
              0.6666666666666666,
              "#ed7953"
             ],
             [
              0.7777777777777778,
              "#fb9f3a"
             ],
             [
              0.8888888888888888,
              "#fdca26"
             ],
             [
              1,
              "#f0f921"
             ]
            ],
            "type": "heatmapgl"
           }
          ],
          "histogram": [
           {
            "marker": {
             "pattern": {
              "fillmode": "overlay",
              "size": 10,
              "solidity": 0.2
             }
            },
            "type": "histogram"
           }
          ],
          "histogram2d": [
           {
            "colorbar": {
             "outlinewidth": 0,
             "ticks": ""
            },
            "colorscale": [
             [
              0,
              "#0d0887"
             ],
             [
              0.1111111111111111,
              "#46039f"
             ],
             [
              0.2222222222222222,
              "#7201a8"
             ],
             [
              0.3333333333333333,
              "#9c179e"
             ],
             [
              0.4444444444444444,
              "#bd3786"
             ],
             [
              0.5555555555555556,
              "#d8576b"
             ],
             [
              0.6666666666666666,
              "#ed7953"
             ],
             [
              0.7777777777777778,
              "#fb9f3a"
             ],
             [
              0.8888888888888888,
              "#fdca26"
             ],
             [
              1,
              "#f0f921"
             ]
            ],
            "type": "histogram2d"
           }
          ],
          "histogram2dcontour": [
           {
            "colorbar": {
             "outlinewidth": 0,
             "ticks": ""
            },
            "colorscale": [
             [
              0,
              "#0d0887"
             ],
             [
              0.1111111111111111,
              "#46039f"
             ],
             [
              0.2222222222222222,
              "#7201a8"
             ],
             [
              0.3333333333333333,
              "#9c179e"
             ],
             [
              0.4444444444444444,
              "#bd3786"
             ],
             [
              0.5555555555555556,
              "#d8576b"
             ],
             [
              0.6666666666666666,
              "#ed7953"
             ],
             [
              0.7777777777777778,
              "#fb9f3a"
             ],
             [
              0.8888888888888888,
              "#fdca26"
             ],
             [
              1,
              "#f0f921"
             ]
            ],
            "type": "histogram2dcontour"
           }
          ],
          "mesh3d": [
           {
            "colorbar": {
             "outlinewidth": 0,
             "ticks": ""
            },
            "type": "mesh3d"
           }
          ],
          "parcoords": [
           {
            "line": {
             "colorbar": {
              "outlinewidth": 0,
              "ticks": ""
             }
            },
            "type": "parcoords"
           }
          ],
          "pie": [
           {
            "automargin": true,
            "type": "pie"
           }
          ],
          "scatter": [
           {
            "fillpattern": {
             "fillmode": "overlay",
             "size": 10,
             "solidity": 0.2
            },
            "type": "scatter"
           }
          ],
          "scatter3d": [
           {
            "line": {
             "colorbar": {
              "outlinewidth": 0,
              "ticks": ""
             }
            },
            "marker": {
             "colorbar": {
              "outlinewidth": 0,
              "ticks": ""
             }
            },
            "type": "scatter3d"
           }
          ],
          "scattercarpet": [
           {
            "marker": {
             "colorbar": {
              "outlinewidth": 0,
              "ticks": ""
             }
            },
            "type": "scattercarpet"
           }
          ],
          "scattergeo": [
           {
            "marker": {
             "colorbar": {
              "outlinewidth": 0,
              "ticks": ""
             }
            },
            "type": "scattergeo"
           }
          ],
          "scattergl": [
           {
            "marker": {
             "colorbar": {
              "outlinewidth": 0,
              "ticks": ""
             }
            },
            "type": "scattergl"
           }
          ],
          "scattermapbox": [
           {
            "marker": {
             "colorbar": {
              "outlinewidth": 0,
              "ticks": ""
             }
            },
            "type": "scattermapbox"
           }
          ],
          "scatterpolar": [
           {
            "marker": {
             "colorbar": {
              "outlinewidth": 0,
              "ticks": ""
             }
            },
            "type": "scatterpolar"
           }
          ],
          "scatterpolargl": [
           {
            "marker": {
             "colorbar": {
              "outlinewidth": 0,
              "ticks": ""
             }
            },
            "type": "scatterpolargl"
           }
          ],
          "scatterternary": [
           {
            "marker": {
             "colorbar": {
              "outlinewidth": 0,
              "ticks": ""
             }
            },
            "type": "scatterternary"
           }
          ],
          "surface": [
           {
            "colorbar": {
             "outlinewidth": 0,
             "ticks": ""
            },
            "colorscale": [
             [
              0,
              "#0d0887"
             ],
             [
              0.1111111111111111,
              "#46039f"
             ],
             [
              0.2222222222222222,
              "#7201a8"
             ],
             [
              0.3333333333333333,
              "#9c179e"
             ],
             [
              0.4444444444444444,
              "#bd3786"
             ],
             [
              0.5555555555555556,
              "#d8576b"
             ],
             [
              0.6666666666666666,
              "#ed7953"
             ],
             [
              0.7777777777777778,
              "#fb9f3a"
             ],
             [
              0.8888888888888888,
              "#fdca26"
             ],
             [
              1,
              "#f0f921"
             ]
            ],
            "type": "surface"
           }
          ],
          "table": [
           {
            "cells": {
             "fill": {
              "color": "#EBF0F8"
             },
             "line": {
              "color": "white"
             }
            },
            "header": {
             "fill": {
              "color": "#C8D4E3"
             },
             "line": {
              "color": "white"
             }
            },
            "type": "table"
           }
          ]
         },
         "layout": {
          "annotationdefaults": {
           "arrowcolor": "#2a3f5f",
           "arrowhead": 0,
           "arrowwidth": 1
          },
          "autotypenumbers": "strict",
          "coloraxis": {
           "colorbar": {
            "outlinewidth": 0,
            "ticks": ""
           }
          },
          "colorscale": {
           "diverging": [
            [
             0,
             "#8e0152"
            ],
            [
             0.1,
             "#c51b7d"
            ],
            [
             0.2,
             "#de77ae"
            ],
            [
             0.3,
             "#f1b6da"
            ],
            [
             0.4,
             "#fde0ef"
            ],
            [
             0.5,
             "#f7f7f7"
            ],
            [
             0.6,
             "#e6f5d0"
            ],
            [
             0.7,
             "#b8e186"
            ],
            [
             0.8,
             "#7fbc41"
            ],
            [
             0.9,
             "#4d9221"
            ],
            [
             1,
             "#276419"
            ]
           ],
           "sequential": [
            [
             0,
             "#0d0887"
            ],
            [
             0.1111111111111111,
             "#46039f"
            ],
            [
             0.2222222222222222,
             "#7201a8"
            ],
            [
             0.3333333333333333,
             "#9c179e"
            ],
            [
             0.4444444444444444,
             "#bd3786"
            ],
            [
             0.5555555555555556,
             "#d8576b"
            ],
            [
             0.6666666666666666,
             "#ed7953"
            ],
            [
             0.7777777777777778,
             "#fb9f3a"
            ],
            [
             0.8888888888888888,
             "#fdca26"
            ],
            [
             1,
             "#f0f921"
            ]
           ],
           "sequentialminus": [
            [
             0,
             "#0d0887"
            ],
            [
             0.1111111111111111,
             "#46039f"
            ],
            [
             0.2222222222222222,
             "#7201a8"
            ],
            [
             0.3333333333333333,
             "#9c179e"
            ],
            [
             0.4444444444444444,
             "#bd3786"
            ],
            [
             0.5555555555555556,
             "#d8576b"
            ],
            [
             0.6666666666666666,
             "#ed7953"
            ],
            [
             0.7777777777777778,
             "#fb9f3a"
            ],
            [
             0.8888888888888888,
             "#fdca26"
            ],
            [
             1,
             "#f0f921"
            ]
           ]
          },
          "colorway": [
           "#636efa",
           "#EF553B",
           "#00cc96",
           "#ab63fa",
           "#FFA15A",
           "#19d3f3",
           "#FF6692",
           "#B6E880",
           "#FF97FF",
           "#FECB52"
          ],
          "font": {
           "color": "#2a3f5f"
          },
          "geo": {
           "bgcolor": "white",
           "lakecolor": "white",
           "landcolor": "#E5ECF6",
           "showlakes": true,
           "showland": true,
           "subunitcolor": "white"
          },
          "hoverlabel": {
           "align": "left"
          },
          "hovermode": "closest",
          "mapbox": {
           "style": "light"
          },
          "paper_bgcolor": "white",
          "plot_bgcolor": "#E5ECF6",
          "polar": {
           "angularaxis": {
            "gridcolor": "white",
            "linecolor": "white",
            "ticks": ""
           },
           "bgcolor": "#E5ECF6",
           "radialaxis": {
            "gridcolor": "white",
            "linecolor": "white",
            "ticks": ""
           }
          },
          "scene": {
           "xaxis": {
            "backgroundcolor": "#E5ECF6",
            "gridcolor": "white",
            "gridwidth": 2,
            "linecolor": "white",
            "showbackground": true,
            "ticks": "",
            "zerolinecolor": "white"
           },
           "yaxis": {
            "backgroundcolor": "#E5ECF6",
            "gridcolor": "white",
            "gridwidth": 2,
            "linecolor": "white",
            "showbackground": true,
            "ticks": "",
            "zerolinecolor": "white"
           },
           "zaxis": {
            "backgroundcolor": "#E5ECF6",
            "gridcolor": "white",
            "gridwidth": 2,
            "linecolor": "white",
            "showbackground": true,
            "ticks": "",
            "zerolinecolor": "white"
           }
          },
          "shapedefaults": {
           "line": {
            "color": "#2a3f5f"
           }
          },
          "ternary": {
           "aaxis": {
            "gridcolor": "white",
            "linecolor": "white",
            "ticks": ""
           },
           "baxis": {
            "gridcolor": "white",
            "linecolor": "white",
            "ticks": ""
           },
           "bgcolor": "#E5ECF6",
           "caxis": {
            "gridcolor": "white",
            "linecolor": "white",
            "ticks": ""
           }
          },
          "title": {
           "x": 0.05
          },
          "xaxis": {
           "automargin": true,
           "gridcolor": "white",
           "linecolor": "white",
           "ticks": "",
           "title": {
            "standoff": 15
           },
           "zerolinecolor": "white",
           "zerolinewidth": 2
          },
          "yaxis": {
           "automargin": true,
           "gridcolor": "white",
           "linecolor": "white",
           "ticks": "",
           "title": {
            "standoff": 15
           },
           "zerolinecolor": "white",
           "zerolinewidth": 2
          }
         }
        },
        "updatemenus": [
         {
          "buttons": [
           {
            "args": [
             null,
             {
              "frame": {
               "duration": 500,
               "redraw": false
              },
              "fromcurrent": true,
              "mode": "immediate",
              "transition": {
               "duration": 500,
               "easing": "linear"
              }
             }
            ],
            "label": "&#9654;",
            "method": "animate"
           },
           {
            "args": [
             [
              null
             ],
             {
              "frame": {
               "duration": 0,
               "redraw": false
              },
              "fromcurrent": true,
              "mode": "immediate",
              "transition": {
               "duration": 0,
               "easing": "linear"
              }
             }
            ],
            "label": "&#9724;",
            "method": "animate"
           }
          ],
          "direction": "left",
          "pad": {
           "r": 10,
           "t": 70
          },
          "showactive": false,
          "type": "buttons",
          "x": 0.1,
          "xanchor": "right",
          "y": 0,
          "yanchor": "top"
         }
        ],
        "xaxis": {
         "anchor": "y",
         "domain": [
          0,
          1
         ],
         "title": {
          "text": "Month"
         }
        },
        "yaxis": {
         "anchor": "x",
         "domain": [
          0,
          1
         ],
         "title": {
          "text": "CommentCount"
         },
         "type": "log"
        }
       }
      }
     },
     "metadata": {},
     "output_type": "display_data"
    }
   ],
   "source": [
    "fig = px.scatter(mydf,\n",
    "              x=mydf['Month'],\n",
    "              y=\"CommentCount\",\n",
    "              color=\"Tags\",\n",
    "              size=\"AnswerCount\",\n",
    "              hover_name=\"Title\",\n",
    "              hover_data=[\"Month\"],\n",
    "              log_y=True,\n",
    "              animation_frame=mydf['Year'],\n",
    "              #animation_group=\"Tags\",\n",
    ")\n",
    "\n",
    "fig.show()"
   ]
  },
  {
   "cell_type": "code",
   "execution_count": 183,
   "metadata": {},
   "outputs": [],
   "source": [
    "fig.write_html('scatter.html')"
   ]
  }
 ],
 "metadata": {
  "kernelspec": {
   "display_name": "Python 3.10.6 ('.venv': poetry)",
   "language": "python",
   "name": "python3"
  },
  "language_info": {
   "codemirror_mode": {
    "name": "ipython",
    "version": 3
   },
   "file_extension": ".py",
   "mimetype": "text/x-python",
   "name": "python",
   "nbconvert_exporter": "python",
   "pygments_lexer": "ipython3",
   "version": "3.10.6"
  },
  "orig_nbformat": 4,
  "vscode": {
   "interpreter": {
    "hash": "eb5b28021a7ca83825e4531411d54af5e1c54edb8d829f2971db53db85b849dd"
   }
  }
 },
 "nbformat": 4,
 "nbformat_minor": 2
}
