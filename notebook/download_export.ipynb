{
 "cells": [
  {
   "cell_type": "code",
   "execution_count": 1,
   "metadata": {},
   "outputs": [],
   "source": [
    "from pathlib import Path\n",
    "import shutil\n",
    "from py7zr import unpack_7zarchive\n",
    "import plotly.express as px\n",
    "\n",
    "%run functions.py"
   ]
  },
  {
   "cell_type": "code",
   "execution_count": 2,
   "metadata": {},
   "outputs": [],
   "source": [
    "stack = 'cooking'\n",
    "url = f'https://ia800107.us.archive.org/27/items/stackexchange/{stack}.stackexchange.com.7z'\n",
    "file_name = f\"{stack}.stackexchange.com.7z\"\n",
    "data_dir = Path().cwd().parent / \"data\" \n",
    "export_path = data_dir / f\"{stack}\"\n",
    "\n",
    "if not export_path.exists(): \n",
    "    export_path.mkdir()"
   ]
  },
  {
   "cell_type": "code",
   "execution_count": 3,
   "metadata": {},
   "outputs": [
    {
     "name": "stdout",
     "output_type": "stream",
     "text": [
      "--2022-11-01 16:54:56--  https://ia800107.us.archive.org/27/items/stackexchange/cooking.stackexchange.com.7z\n",
      "Resolving ia800107.us.archive.org (ia800107.us.archive.org)... 207.241.232.17\n",
      "Connecting to ia800107.us.archive.org (ia800107.us.archive.org)|207.241.232.17|:443... connected.\n",
      "HTTP request sent, awaiting response... 200 OK\n",
      "Length: 72662908 (69M) [application/x-7z-compressed]\n",
      "Saving to: ‘/home/abitporu/Documents/formative-fdsp-apiwizards/data/cooking.stackexchange.com.7z/cooking.stackexchange.com.7z’\n",
      "\n",
      "cooking.stackexchan 100%[===================>]  69.30M  1.13MB/s    in 55s     \n",
      "\n",
      "2022-11-01 16:55:52 (1.27 MB/s) - ‘/home/abitporu/Documents/formative-fdsp-apiwizards/data/cooking.stackexchange.com.7z/cooking.stackexchange.com.7z’ saved [72662908/72662908]\n",
      "\n"
     ]
    }
   ],
   "source": [
    "if (data_dir / file_name).exists() == False:\n",
    "    !wget -P {data_dir}/{file_name} {url}\n",
    "else:\n",
    "    print(\"File already exists\")"
   ]
  },
  {
   "cell_type": "code",
   "execution_count": 4,
   "metadata": {},
   "outputs": [],
   "source": [
    "shutil.register_unpack_format('7zip', ['.7z'], unpack_7zarchive)"
   ]
  },
  {
   "cell_type": "code",
   "execution_count": 6,
   "metadata": {},
   "outputs": [],
   "source": [
    "shutil.unpack_archive(data_dir / file_name / file_name, export_path)"
   ]
  },
  {
   "cell_type": "code",
   "execution_count": 3,
   "metadata": {},
   "outputs": [
    {
     "name": "stderr",
     "output_type": "stream",
     "text": [
      "/home/abitporu/Documents/formative-fdsp-apiwizards/notebook/functions.py:34: FutureWarning: The default value of regex will change from True to False in a future version.\n",
      "  .str.replace(\"<|>\", \"\")\n",
      "/home/abitporu/Documents/formative-fdsp-apiwizards/notebook/functions.py:38: GuessedAtParserWarning: No parser was explicitly specified, so I'm using the best available HTML parser for this system (\"lxml\"). This usually isn't a problem, but if you run this code on another system, or in a different virtual environment, it may use a different parser and behave differently.\n",
      "\n",
      "The code that caused this warning is on line 38 of the file /home/abitporu/Documents/formative-fdsp-apiwizards/notebook/functions.py. To get rid of this warning, pass the additional argument 'features=\"lxml\"' to the BeautifulSoup constructor.\n",
      "\n",
      "  df[\"CleanBody\"] = df[\"Body\"].apply(lambda x: BeautifulSoup(x).get_text())\n",
      "/home/abitporu/Documents/formative-fdsp-apiwizards/.venv/lib/python3.10/site-packages/bs4/__init__.py:435: MarkupResemblesLocatorWarning: The input looks more like a filename than markup. You may want to open this file and pass the filehandle into Beautiful Soup.\n",
      "  warnings.warn(\n"
     ]
    }
   ],
   "source": [
    "xml_file = export_path / \"Posts.xml\"\n",
    "\n",
    "df = parse_stackexchange(\n",
    "    xml_file,\n",
    "    stack,\n",
    "    # explode=\"Tags\",\n",
    "    # keep_columns=[\"Tags\", \"AnswerCount\", \"CommentCount\", \"FavoriteCount\"],\n",
    ")\n"
   ]
  },
  {
   "cell_type": "code",
   "execution_count": 5,
   "metadata": {},
   "outputs": [
    {
     "data": {
      "text/plain": [
       "Index(['Id', 'PostTypeId', 'AcceptedAnswerId', 'CreationDate', 'Score',\n",
       "       'ViewCount', 'Body', 'OwnerUserId', 'LastEditorUserId', 'LastEditDate',\n",
       "       'LastActivityDate', 'Title', 'Tags', 'AnswerCount', 'CommentCount',\n",
       "       'FavoriteCount', 'ContentLicense', 'ParentId', 'ClosedDate',\n",
       "       'CommunityOwnedDate', 'OwnerDisplayName', 'LastEditorDisplayName',\n",
       "       'CleanBody', 'ListURL'],\n",
       "      dtype='object')"
      ]
     },
     "execution_count": 5,
     "metadata": {},
     "output_type": "execute_result"
    }
   ],
   "source": [
    "df.columns "
   ]
  },
  {
   "cell_type": "code",
   "execution_count": 6,
   "metadata": {},
   "outputs": [
    {
     "data": {
      "text/plain": [
       "Timestamp('2022-09-24 16:04:26.537000')"
      ]
     },
     "execution_count": 6,
     "metadata": {},
     "output_type": "execute_result"
    }
   ],
   "source": [
    "# get last creationdate\n",
    "df[\"CreationDate\"].max()"
   ]
  },
  {
   "cell_type": "code",
   "execution_count": 4,
   "metadata": {},
   "outputs": [],
   "source": [
    "cols = [\n",
    "    \"CreationDate\",\n",
    "    \"Title\",\n",
    "    \"Tags\",\n",
    "    \"ViewCount\",\n",
    "    \"AnswerCount\",\n",
    "    \"CommentCount\",\n",
    "    \"FavoriteCount\",\n",
    "]\n",
    "timeframe = df[df[\"CreationDate\"] >= \"2012-01-01\"][cols]\n"
   ]
  },
  {
   "cell_type": "code",
   "execution_count": 5,
   "metadata": {},
   "outputs": [],
   "source": [
    "timeframe.reset_index().to_feather(\"sample2012.feather\")"
   ]
  }
 ],
 "metadata": {
  "kernelspec": {
   "display_name": "Python 3.10.6 ('.venv': poetry)",
   "language": "python",
   "name": "python3"
  },
  "language_info": {
   "codemirror_mode": {
    "name": "ipython",
    "version": 3
   },
   "file_extension": ".py",
   "mimetype": "text/x-python",
   "name": "python",
   "nbconvert_exporter": "python",
   "pygments_lexer": "ipython3",
   "version": "3.10.6"
  },
  "orig_nbformat": 4,
  "vscode": {
   "interpreter": {
    "hash": "eb5b28021a7ca83825e4531411d54af5e1c54edb8d829f2971db53db85b849dd"
   }
  }
 },
 "nbformat": 4,
 "nbformat_minor": 2
}
