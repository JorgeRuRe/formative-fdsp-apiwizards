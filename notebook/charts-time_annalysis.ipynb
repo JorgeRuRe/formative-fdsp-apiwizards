{
 "cells": [
  {
   "cell_type": "code",
   "execution_count": 1,
   "metadata": {},
   "outputs": [],
   "source": [
    "import pandas as pd\n",
    "import plotly.express as px\n",
    "from raceplotly.plots import barplot"
   ]
  },
  {
   "cell_type": "code",
   "execution_count": 2,
   "metadata": {},
   "outputs": [
    {
     "data": {
      "text/plain": [
       "Index(['index', 'CreationDate', 'Title', 'Tags', 'ViewCount', 'AnswerCount',\n",
       "       'CommentCount', 'FavoriteCount'],\n",
       "      dtype='object')"
      ]
     },
     "execution_count": 2,
     "metadata": {},
     "output_type": "execute_result"
    }
   ],
   "source": [
    "df = pd.read_feather('sample2012.feather').explode('Tags')\n",
    "\n",
    "df.columns"
   ]
  },
  {
   "cell_type": "code",
   "execution_count": 3,
   "metadata": {},
   "outputs": [],
   "source": [
    "tags = (\n",
    "    df\n",
    "    .groupby([df.CreationDate.dt.to_period(\"M\"), \"Tags\"])\n",
    "    .agg({\"ViewCount\": \"mean\", \"AnswerCount\": \"mean\", \"index\": \"count\"})\n",
    "    .reset_index()\n",
    ")"
   ]
  },
  {
   "cell_type": "code",
   "execution_count": 4,
   "metadata": {},
   "outputs": [],
   "source": [
    "tags = tags.rename(columns={\"index\": \"PostCount\"})"
   ]
  },
  {
   "cell_type": "markdown",
   "metadata": {},
   "source": [
    "# Tag explorer"
   ]
  },
  {
   "cell_type": "code",
   "execution_count": 5,
   "metadata": {},
   "outputs": [],
   "source": [
    "# colors = dict(zip(tags.Tags.unique(), [\"rgb(0,0,0)\"] * len(tags.Tags.unique())))\n",
    "# tags[\"color\"] = tags.Tags.map(colors)\n"
   ]
  },
  {
   "cell_type": "code",
   "execution_count": 9,
   "metadata": {},
   "outputs": [
    {
     "data": {
      "application/vnd.plotly.v1+json": {
       "config": {
        "plotlyServerURL": "https://plot.ly"
       },
       "data": [
        {
         "cliponaxis": false,
         "hoverinfo": "all",
         "marker": {
          "color": [
           "rgb(49, 26, 220)",
           "rgb(6, 82, 236)",
           "rgb(146, 149, 97)",
           "rgb(87, 117, 230)",
           "rgb(173, 194, 37)"
          ]
         },
         "orientation": "h",
         "textangle": 0,
         "textposition": "outside",
         "texttemplate": "%{y}<br>%{x:.4s}",
         "type": "bar",
         "x": [
          12,
          19,
          20,
          21,
          25
         ],
         "y": [
          "substitutions",
          "food-safety",
          "cheese",
          "equipment",
          "baking"
         ]
        }
       ],
       "frames": [
        {
         "data": [
          {
           "cliponaxis": false,
           "hoverinfo": "all",
           "hovertemplate": "<extra></extra>",
           "marker": {
            "color": [
             "rgb(49, 26, 220)",
             "rgb(6, 82, 236)",
             "rgb(146, 149, 97)",
             "rgb(87, 117, 230)",
             "rgb(173, 194, 37)"
            ]
           },
           "orientation": "h",
           "textangle": 0,
           "textposition": "outside",
           "texttemplate": "%{y}<br>%{x:.4s}",
           "type": "bar",
           "x": [
            12,
            19,
            20,
            21,
            25
           ],
           "y": [
            "substitutions",
            "food-safety",
            "cheese",
            "equipment",
            "baking"
           ]
          }
         ],
         "layout": {
          "bargap": 0.15,
          "font": {
           "size": 14
          },
          "plot_bgcolor": "#FFFFFF",
          "title": {
           "text": "Popular tags on Cooking StackOverflow"
          },
          "xaxis": {
           "range": [
            0,
            41
           ],
           "showline": true,
           "visible": true
          },
          "yaxis": {
           "showline": false,
           "visible": true
          }
         },
         "name": "2012-01"
        },
        {
         "data": [
          {
           "cliponaxis": false,
           "hoverinfo": "all",
           "hovertemplate": "<extra></extra>",
           "marker": {
            "color": [
             "rgb(49, 26, 220)",
             "rgb(87, 117, 230)",
             "rgb(202, 45, 177)",
             "rgb(173, 194, 37)",
             "rgb(229, 157, 175)"
            ]
           },
           "orientation": "h",
           "textangle": 0,
           "textposition": "outside",
           "texttemplate": "%{y}<br>%{x:.4s}",
           "type": "bar",
           "x": [
            17,
            18,
            19,
            28,
            41
           ],
           "y": [
            "substitutions",
            "equipment",
            "chocolate",
            "baking",
            "bread"
           ]
          }
         ],
         "layout": {
          "bargap": 0.15,
          "font": {
           "size": 14
          },
          "plot_bgcolor": "#FFFFFF",
          "title": {
           "text": "Popular tags on Cooking StackOverflow"
          },
          "xaxis": {
           "range": [
            0,
            41
           ],
           "showline": true,
           "visible": true
          },
          "yaxis": {
           "showline": false,
           "visible": true
          }
         },
         "name": "2012-02"
        },
        {
         "data": [
          {
           "cliponaxis": false,
           "hoverinfo": "all",
           "hovertemplate": "<extra></extra>",
           "marker": {
            "color": [
             "rgb(12, 125, 76)",
             "rgb(200, 141, 123)",
             "rgb(87, 117, 230)",
             "rgb(49, 26, 220)",
             "rgb(173, 194, 37)"
            ]
           },
           "orientation": "h",
           "textangle": 0,
           "textposition": "outside",
           "texttemplate": "%{y}<br>%{x:.4s}",
           "type": "bar",
           "x": [
            13,
            13,
            17,
            20,
            34
           ],
           "y": [
            "sauce",
            "cake",
            "equipment",
            "substitutions",
            "baking"
           ]
          }
         ],
         "layout": {
          "bargap": 0.15,
          "font": {
           "size": 14
          },
          "plot_bgcolor": "#FFFFFF",
          "title": {
           "text": "Popular tags on Cooking StackOverflow"
          },
          "xaxis": {
           "range": [
            0,
            41
           ],
           "showline": true,
           "visible": true
          },
          "yaxis": {
           "showline": false,
           "visible": true
          }
         },
         "name": "2012-03"
        },
        {
         "data": [
          {
           "cliponaxis": false,
           "hoverinfo": "all",
           "hovertemplate": "<extra></extra>",
           "marker": {
            "color": [
             "rgb(146, 149, 97)",
             "rgb(49, 26, 220)",
             "rgb(67, 64, 237)",
             "rgb(173, 194, 37)",
             "rgb(208, 95, 18)"
            ]
           },
           "orientation": "h",
           "textangle": 0,
           "textposition": "outside",
           "texttemplate": "%{y}<br>%{x:.4s}",
           "type": "bar",
           "x": [
            8,
            9,
            11,
            17,
            18
           ],
           "y": [
            "cheese",
            "substitutions",
            "french-cuisine",
            "baking",
            "coffee"
           ]
          }
         ],
         "layout": {
          "bargap": 0.15,
          "font": {
           "size": 14
          },
          "plot_bgcolor": "#FFFFFF",
          "title": {
           "text": "Popular tags on Cooking StackOverflow"
          },
          "xaxis": {
           "range": [
            0,
            41
           ],
           "showline": true,
           "visible": true
          },
          "yaxis": {
           "showline": false,
           "visible": true
          }
         },
         "name": "2012-04"
        },
        {
         "data": [
          {
           "cliponaxis": false,
           "hoverinfo": "all",
           "hovertemplate": "<extra></extra>",
           "marker": {
            "color": [
             "rgb(87, 117, 230)",
             "rgb(185, 62, 201)",
             "rgb(173, 194, 37)",
             "rgb(45, 132, 212)",
             "rgb(6, 82, 236)"
            ]
           },
           "orientation": "h",
           "textangle": 0,
           "textposition": "outside",
           "texttemplate": "%{y}<br>%{x:.4s}",
           "type": "bar",
           "x": [
            11,
            12,
            12,
            14,
            14
           ],
           "y": [
            "equipment",
            "bacon",
            "baking",
            "mexican-cuisine",
            "food-safety"
           ]
          }
         ],
         "layout": {
          "bargap": 0.15,
          "font": {
           "size": 14
          },
          "plot_bgcolor": "#FFFFFF",
          "title": {
           "text": "Popular tags on Cooking StackOverflow"
          },
          "xaxis": {
           "range": [
            0,
            41
           ],
           "showline": true,
           "visible": true
          },
          "yaxis": {
           "showline": false,
           "visible": true
          }
         },
         "name": "2012-05"
        },
        {
         "data": [
          {
           "cliponaxis": false,
           "hoverinfo": "all",
           "hovertemplate": "<extra></extra>",
           "marker": {
            "color": [
             "rgb(36, 166, 133)",
             "rgb(32, 47, 5)",
             "rgb(248, 112, 85)",
             "rgb(49, 26, 220)",
             "rgb(173, 194, 37)"
            ]
           },
           "orientation": "h",
           "textangle": 0,
           "textposition": "outside",
           "texttemplate": "%{y}<br>%{x:.4s}",
           "type": "bar",
           "x": [
            9,
            9,
            12,
            13,
            14
           ],
           "y": [
            "vanilla",
            "salad",
            "cocktails",
            "substitutions",
            "baking"
           ]
          }
         ],
         "layout": {
          "bargap": 0.15,
          "font": {
           "size": 14
          },
          "plot_bgcolor": "#FFFFFF",
          "title": {
           "text": "Popular tags on Cooking StackOverflow"
          },
          "xaxis": {
           "range": [
            0,
            41
           ],
           "showline": true,
           "visible": true
          },
          "yaxis": {
           "showline": false,
           "visible": true
          }
         },
         "name": "2012-06"
        },
        {
         "data": [
          {
           "cliponaxis": false,
           "hoverinfo": "all",
           "hovertemplate": "<extra></extra>",
           "marker": {
            "color": [
             "rgb(200, 141, 123)",
             "rgb(87, 117, 230)",
             "rgb(6, 82, 236)",
             "rgb(242, 37, 119)",
             "rgb(173, 194, 37)"
            ]
           },
           "orientation": "h",
           "textangle": 0,
           "textposition": "outside",
           "texttemplate": "%{y}<br>%{x:.4s}",
           "type": "bar",
           "x": [
            8,
            12,
            12,
            13,
            18
           ],
           "y": [
            "cake",
            "equipment",
            "food-safety",
            "dessert",
            "baking"
           ]
          }
         ],
         "layout": {
          "bargap": 0.15,
          "font": {
           "size": 14
          },
          "plot_bgcolor": "#FFFFFF",
          "title": {
           "text": "Popular tags on Cooking StackOverflow"
          },
          "xaxis": {
           "range": [
            0,
            41
           ],
           "showline": true,
           "visible": true
          },
          "yaxis": {
           "showline": false,
           "visible": true
          }
         },
         "name": "2012-07"
        },
        {
         "data": [
          {
           "cliponaxis": false,
           "hoverinfo": "all",
           "hovertemplate": "<extra></extra>",
           "marker": {
            "color": [
             "rgb(145, 213, 126)",
             "rgb(202, 45, 177)",
             "rgb(12, 125, 76)",
             "rgb(6, 82, 236)",
             "rgb(49, 26, 220)"
            ]
           },
           "orientation": "h",
           "textangle": 0,
           "textposition": "outside",
           "texttemplate": "%{y}<br>%{x:.4s}",
           "type": "bar",
           "x": [
            6,
            8,
            8,
            9,
            9
           ],
           "y": [
            "chicken",
            "chocolate",
            "sauce",
            "food-safety",
            "substitutions"
           ]
          }
         ],
         "layout": {
          "bargap": 0.15,
          "font": {
           "size": 14
          },
          "plot_bgcolor": "#FFFFFF",
          "title": {
           "text": "Popular tags on Cooking StackOverflow"
          },
          "xaxis": {
           "range": [
            0,
            41
           ],
           "showline": true,
           "visible": true
          },
          "yaxis": {
           "showline": false,
           "visible": true
          }
         },
         "name": "2012-08"
        },
        {
         "data": [
          {
           "cliponaxis": false,
           "hoverinfo": "all",
           "hovertemplate": "<extra></extra>",
           "marker": {
            "color": [
             "rgb(6, 82, 236)",
             "rgb(229, 157, 175)",
             "rgb(87, 117, 230)",
             "rgb(97, 41, 190)",
             "rgb(173, 194, 37)"
            ]
           },
           "orientation": "h",
           "textangle": 0,
           "textposition": "outside",
           "texttemplate": "%{y}<br>%{x:.4s}",
           "type": "bar",
           "x": [
            6,
            6,
            6,
            7,
            12
           ],
           "y": [
            "food-safety",
            "bread",
            "equipment",
            "tea",
            "baking"
           ]
          }
         ],
         "layout": {
          "bargap": 0.15,
          "font": {
           "size": 14
          },
          "plot_bgcolor": "#FFFFFF",
          "title": {
           "text": "Popular tags on Cooking StackOverflow"
          },
          "xaxis": {
           "range": [
            0,
            41
           ],
           "showline": true,
           "visible": true
          },
          "yaxis": {
           "showline": false,
           "visible": true
          }
         },
         "name": "2012-09"
        },
        {
         "data": [
          {
           "cliponaxis": false,
           "hoverinfo": "all",
           "hovertemplate": "<extra></extra>",
           "marker": {
            "color": [
             "rgb(229, 157, 175)",
             "rgb(49, 26, 220)",
             "rgb(200, 141, 123)",
             "rgb(6, 82, 236)",
             "rgb(173, 194, 37)"
            ]
           },
           "orientation": "h",
           "textangle": 0,
           "textposition": "outside",
           "texttemplate": "%{y}<br>%{x:.4s}",
           "type": "bar",
           "x": [
            9,
            10,
            11,
            12,
            16
           ],
           "y": [
            "bread",
            "substitutions",
            "cake",
            "food-safety",
            "baking"
           ]
          }
         ],
         "layout": {
          "bargap": 0.15,
          "font": {
           "size": 14
          },
          "plot_bgcolor": "#FFFFFF",
          "title": {
           "text": "Popular tags on Cooking StackOverflow"
          },
          "xaxis": {
           "range": [
            0,
            41
           ],
           "showline": true,
           "visible": true
          },
          "yaxis": {
           "showline": false,
           "visible": true
          }
         },
         "name": "2012-10"
        },
        {
         "data": [
          {
           "cliponaxis": false,
           "hoverinfo": "all",
           "hovertemplate": "<extra></extra>",
           "marker": {
            "color": [
             "rgb(145, 213, 126)",
             "rgb(6, 82, 236)",
             "rgb(49, 26, 220)",
             "rgb(173, 194, 37)",
             "rgb(165, 43, 254)"
            ]
           },
           "orientation": "h",
           "textangle": 0,
           "textposition": "outside",
           "texttemplate": "%{y}<br>%{x:.4s}",
           "type": "bar",
           "x": [
            8,
            8,
            9,
            9,
            13
           ],
           "y": [
            "chicken",
            "food-safety",
            "substitutions",
            "baking",
            "freezing"
           ]
          }
         ],
         "layout": {
          "bargap": 0.15,
          "font": {
           "size": 14
          },
          "plot_bgcolor": "#FFFFFF",
          "title": {
           "text": "Popular tags on Cooking StackOverflow"
          },
          "xaxis": {
           "range": [
            0,
            41
           ],
           "showline": true,
           "visible": true
          },
          "yaxis": {
           "showline": false,
           "visible": true
          }
         },
         "name": "2012-11"
        },
        {
         "data": [
          {
           "cliponaxis": false,
           "hoverinfo": "all",
           "hovertemplate": "<extra></extra>",
           "marker": {
            "color": [
             "rgb(26, 232, 97)",
             "rgb(12, 125, 76)",
             "rgb(49, 26, 220)",
             "rgb(173, 194, 37)",
             "rgb(6, 82, 236)"
            ]
           },
           "orientation": "h",
           "textangle": 0,
           "textposition": "outside",
           "texttemplate": "%{y}<br>%{x:.4s}",
           "type": "bar",
           "x": [
            8,
            8,
            10,
            12,
            17
           ],
           "y": [
            "milk",
            "sauce",
            "substitutions",
            "baking",
            "food-safety"
           ]
          }
         ],
         "layout": {
          "bargap": 0.15,
          "font": {
           "size": 14
          },
          "plot_bgcolor": "#FFFFFF",
          "title": {
           "text": "Popular tags on Cooking StackOverflow"
          },
          "xaxis": {
           "range": [
            0,
            41
           ],
           "showline": true,
           "visible": true
          },
          "yaxis": {
           "showline": false,
           "visible": true
          }
         },
         "name": "2012-12"
        },
        {
         "data": [
          {
           "cliponaxis": false,
           "hoverinfo": "all",
           "hovertemplate": "<extra></extra>",
           "marker": {
            "color": [
             "rgb(208, 95, 18)",
             "rgb(49, 26, 220)",
             "rgb(6, 82, 236)",
             "rgb(87, 117, 230)",
             "rgb(173, 194, 37)"
            ]
           },
           "orientation": "h",
           "textangle": 0,
           "textposition": "outside",
           "texttemplate": "%{y}<br>%{x:.4s}",
           "type": "bar",
           "x": [
            10,
            12,
            14,
            19,
            21
           ],
           "y": [
            "coffee",
            "substitutions",
            "food-safety",
            "equipment",
            "baking"
           ]
          }
         ],
         "layout": {
          "bargap": 0.15,
          "font": {
           "size": 14
          },
          "plot_bgcolor": "#FFFFFF",
          "title": {
           "text": "Popular tags on Cooking StackOverflow"
          },
          "xaxis": {
           "range": [
            0,
            41
           ],
           "showline": true,
           "visible": true
          },
          "yaxis": {
           "showline": false,
           "visible": true
          }
         },
         "name": "2013-01"
        },
        {
         "data": [
          {
           "cliponaxis": false,
           "hoverinfo": "all",
           "hovertemplate": "<extra></extra>",
           "marker": {
            "color": [
             "rgb(248, 191, 35)",
             "rgb(87, 117, 230)",
             "rgb(49, 26, 220)",
             "rgb(6, 82, 236)",
             "rgb(173, 194, 37)"
            ]
           },
           "orientation": "h",
           "textangle": 0,
           "textposition": "outside",
           "texttemplate": "%{y}<br>%{x:.4s}",
           "type": "bar",
           "x": [
            6,
            11,
            13,
            15,
            18
           ],
           "y": [
            "storage-method",
            "equipment",
            "substitutions",
            "food-safety",
            "baking"
           ]
          }
         ],
         "layout": {
          "bargap": 0.15,
          "font": {
           "size": 14
          },
          "plot_bgcolor": "#FFFFFF",
          "title": {
           "text": "Popular tags on Cooking StackOverflow"
          },
          "xaxis": {
           "range": [
            0,
            41
           ],
           "showline": true,
           "visible": true
          },
          "yaxis": {
           "showline": false,
           "visible": true
          }
         },
         "name": "2013-02"
        },
        {
         "data": [
          {
           "cliponaxis": false,
           "hoverinfo": "all",
           "hovertemplate": "<extra></extra>",
           "marker": {
            "color": [
             "rgb(202, 45, 177)",
             "rgb(6, 82, 236)",
             "rgb(229, 157, 175)",
             "rgb(49, 26, 220)",
             "rgb(173, 194, 37)"
            ]
           },
           "orientation": "h",
           "textangle": 0,
           "textposition": "outside",
           "texttemplate": "%{y}<br>%{x:.4s}",
           "type": "bar",
           "x": [
            11,
            13,
            16,
            17,
            24
           ],
           "y": [
            "chocolate",
            "food-safety",
            "bread",
            "substitutions",
            "baking"
           ]
          }
         ],
         "layout": {
          "bargap": 0.15,
          "font": {
           "size": 14
          },
          "plot_bgcolor": "#FFFFFF",
          "title": {
           "text": "Popular tags on Cooking StackOverflow"
          },
          "xaxis": {
           "range": [
            0,
            41
           ],
           "showline": true,
           "visible": true
          },
          "yaxis": {
           "showline": false,
           "visible": true
          }
         },
         "name": "2013-03"
        },
        {
         "data": [
          {
           "cliponaxis": false,
           "hoverinfo": "all",
           "hovertemplate": "<extra></extra>",
           "marker": {
            "color": [
             "rgb(11, 69, 67)",
             "rgb(49, 26, 220)",
             "rgb(229, 157, 175)",
             "rgb(6, 82, 236)",
             "rgb(173, 194, 37)"
            ]
           },
           "orientation": "h",
           "textangle": 0,
           "textposition": "outside",
           "texttemplate": "%{y}<br>%{x:.4s}",
           "type": "bar",
           "x": [
            8,
            8,
            9,
            12,
            15
           ],
           "y": [
            "frying",
            "substitutions",
            "bread",
            "food-safety",
            "baking"
           ]
          }
         ],
         "layout": {
          "bargap": 0.15,
          "font": {
           "size": 14
          },
          "plot_bgcolor": "#FFFFFF",
          "title": {
           "text": "Popular tags on Cooking StackOverflow"
          },
          "xaxis": {
           "range": [
            0,
            41
           ],
           "showline": true,
           "visible": true
          },
          "yaxis": {
           "showline": false,
           "visible": true
          }
         },
         "name": "2013-04"
        },
        {
         "data": [
          {
           "cliponaxis": false,
           "hoverinfo": "all",
           "hovertemplate": "<extra></extra>",
           "marker": {
            "color": [
             "rgb(79, 172, 22)",
             "rgb(87, 117, 230)",
             "rgb(173, 194, 37)",
             "rgb(6, 82, 236)",
             "rgb(49, 26, 220)"
            ]
           },
           "orientation": "h",
           "textangle": 0,
           "textposition": "outside",
           "texttemplate": "%{y}<br>%{x:.4s}",
           "type": "bar",
           "x": [
            6,
            7,
            8,
            11,
            11
           ],
           "y": [
            "storage-lifetime",
            "equipment",
            "baking",
            "food-safety",
            "substitutions"
           ]
          }
         ],
         "layout": {
          "bargap": 0.15,
          "font": {
           "size": 14
          },
          "plot_bgcolor": "#FFFFFF",
          "title": {
           "text": "Popular tags on Cooking StackOverflow"
          },
          "xaxis": {
           "range": [
            0,
            41
           ],
           "showline": true,
           "visible": true
          },
          "yaxis": {
           "showline": false,
           "visible": true
          }
         },
         "name": "2013-05"
        },
        {
         "data": [
          {
           "cliponaxis": false,
           "hoverinfo": "all",
           "hovertemplate": "<extra></extra>",
           "marker": {
            "color": [
             "rgb(26, 232, 97)",
             "rgb(200, 141, 123)",
             "rgb(173, 194, 37)",
             "rgb(87, 117, 230)",
             "rgb(6, 82, 236)"
            ]
           },
           "orientation": "h",
           "textangle": 0,
           "textposition": "outside",
           "texttemplate": "%{y}<br>%{x:.4s}",
           "type": "bar",
           "x": [
            6,
            8,
            8,
            11,
            15
           ],
           "y": [
            "milk",
            "cake",
            "baking",
            "equipment",
            "food-safety"
           ]
          }
         ],
         "layout": {
          "bargap": 0.15,
          "font": {
           "size": 14
          },
          "plot_bgcolor": "#FFFFFF",
          "title": {
           "text": "Popular tags on Cooking StackOverflow"
          },
          "xaxis": {
           "range": [
            0,
            41
           ],
           "showline": true,
           "visible": true
          },
          "yaxis": {
           "showline": false,
           "visible": true
          }
         },
         "name": "2013-06"
        },
        {
         "data": [
          {
           "cliponaxis": false,
           "hoverinfo": "all",
           "hovertemplate": "<extra></extra>",
           "marker": {
            "color": [
             "rgb(229, 157, 175)",
             "rgb(6, 82, 236)",
             "rgb(173, 194, 37)",
             "rgb(87, 117, 230)",
             "rgb(49, 26, 220)"
            ]
           },
           "orientation": "h",
           "textangle": 0,
           "textposition": "outside",
           "texttemplate": "%{y}<br>%{x:.4s}",
           "type": "bar",
           "x": [
            10,
            13,
            15,
            15,
            17
           ],
           "y": [
            "bread",
            "food-safety",
            "baking",
            "equipment",
            "substitutions"
           ]
          }
         ],
         "layout": {
          "bargap": 0.15,
          "font": {
           "size": 14
          },
          "plot_bgcolor": "#FFFFFF",
          "title": {
           "text": "Popular tags on Cooking StackOverflow"
          },
          "xaxis": {
           "range": [
            0,
            41
           ],
           "showline": true,
           "visible": true
          },
          "yaxis": {
           "showline": false,
           "visible": true
          }
         },
         "name": "2013-07"
        },
        {
         "data": [
          {
           "cliponaxis": false,
           "hoverinfo": "all",
           "hovertemplate": "<extra></extra>",
           "marker": {
            "color": [
             "rgb(248, 191, 35)",
             "rgb(6, 82, 236)",
             "rgb(79, 172, 22)",
             "rgb(49, 26, 220)",
             "rgb(173, 194, 37)"
            ]
           },
           "orientation": "h",
           "textangle": 0,
           "textposition": "outside",
           "texttemplate": "%{y}<br>%{x:.4s}",
           "type": "bar",
           "x": [
            8,
            9,
            10,
            13,
            17
           ],
           "y": [
            "storage-method",
            "food-safety",
            "storage-lifetime",
            "substitutions",
            "baking"
           ]
          }
         ],
         "layout": {
          "bargap": 0.15,
          "font": {
           "size": 14
          },
          "plot_bgcolor": "#FFFFFF",
          "title": {
           "text": "Popular tags on Cooking StackOverflow"
          },
          "xaxis": {
           "range": [
            0,
            41
           ],
           "showline": true,
           "visible": true
          },
          "yaxis": {
           "showline": false,
           "visible": true
          }
         },
         "name": "2013-08"
        },
        {
         "data": [
          {
           "cliponaxis": false,
           "hoverinfo": "all",
           "hovertemplate": "<extra></extra>",
           "marker": {
            "color": [
             "rgb(229, 157, 175)",
             "rgb(208, 95, 18)",
             "rgb(49, 26, 220)",
             "rgb(6, 82, 236)",
             "rgb(173, 194, 37)"
            ]
           },
           "orientation": "h",
           "textangle": 0,
           "textposition": "outside",
           "texttemplate": "%{y}<br>%{x:.4s}",
           "type": "bar",
           "x": [
            6,
            8,
            8,
            13,
            17
           ],
           "y": [
            "bread",
            "coffee",
            "substitutions",
            "food-safety",
            "baking"
           ]
          }
         ],
         "layout": {
          "bargap": 0.15,
          "font": {
           "size": 14
          },
          "plot_bgcolor": "#FFFFFF",
          "title": {
           "text": "Popular tags on Cooking StackOverflow"
          },
          "xaxis": {
           "range": [
            0,
            41
           ],
           "showline": true,
           "visible": true
          },
          "yaxis": {
           "showline": false,
           "visible": true
          }
         },
         "name": "2013-09"
        },
        {
         "data": [
          {
           "cliponaxis": false,
           "hoverinfo": "all",
           "hovertemplate": "<extra></extra>",
           "marker": {
            "color": [
             "rgb(87, 117, 230)",
             "rgb(12, 125, 76)",
             "rgb(49, 26, 220)",
             "rgb(6, 82, 236)",
             "rgb(173, 194, 37)"
            ]
           },
           "orientation": "h",
           "textangle": 0,
           "textposition": "outside",
           "texttemplate": "%{y}<br>%{x:.4s}",
           "type": "bar",
           "x": [
            8,
            8,
            14,
            16,
            19
           ],
           "y": [
            "equipment",
            "sauce",
            "substitutions",
            "food-safety",
            "baking"
           ]
          }
         ],
         "layout": {
          "bargap": 0.15,
          "font": {
           "size": 14
          },
          "plot_bgcolor": "#FFFFFF",
          "title": {
           "text": "Popular tags on Cooking StackOverflow"
          },
          "xaxis": {
           "range": [
            0,
            41
           ],
           "showline": true,
           "visible": true
          },
          "yaxis": {
           "showline": false,
           "visible": true
          }
         },
         "name": "2013-10"
        },
        {
         "data": [
          {
           "cliponaxis": false,
           "hoverinfo": "all",
           "hovertemplate": "<extra></extra>",
           "marker": {
            "color": [
             "rgb(18, 224, 48)",
             "rgb(229, 157, 175)",
             "rgb(49, 26, 220)",
             "rgb(6, 82, 236)",
             "rgb(173, 194, 37)"
            ]
           },
           "orientation": "h",
           "textangle": 0,
           "textposition": "outside",
           "texttemplate": "%{y}<br>%{x:.4s}",
           "type": "bar",
           "x": [
            8,
            9,
            9,
            12,
            27
           ],
           "y": [
            "sugar",
            "bread",
            "substitutions",
            "food-safety",
            "baking"
           ]
          }
         ],
         "layout": {
          "bargap": 0.15,
          "font": {
           "size": 14
          },
          "plot_bgcolor": "#FFFFFF",
          "title": {
           "text": "Popular tags on Cooking StackOverflow"
          },
          "xaxis": {
           "range": [
            0,
            41
           ],
           "showline": true,
           "visible": true
          },
          "yaxis": {
           "showline": false,
           "visible": true
          }
         },
         "name": "2013-11"
        },
        {
         "data": [
          {
           "cliponaxis": false,
           "hoverinfo": "all",
           "hovertemplate": "<extra></extra>",
           "marker": {
            "color": [
             "rgb(6, 82, 236)",
             "rgb(49, 26, 220)",
             "rgb(87, 117, 230)",
             "rgb(229, 157, 175)",
             "rgb(173, 194, 37)"
            ]
           },
           "orientation": "h",
           "textangle": 0,
           "textposition": "outside",
           "texttemplate": "%{y}<br>%{x:.4s}",
           "type": "bar",
           "x": [
            10,
            11,
            11,
            11,
            18
           ],
           "y": [
            "food-safety",
            "substitutions",
            "equipment",
            "bread",
            "baking"
           ]
          }
         ],
         "layout": {
          "bargap": 0.15,
          "font": {
           "size": 14
          },
          "plot_bgcolor": "#FFFFFF",
          "title": {
           "text": "Popular tags on Cooking StackOverflow"
          },
          "xaxis": {
           "range": [
            0,
            41
           ],
           "showline": true,
           "visible": true
          },
          "yaxis": {
           "showline": false,
           "visible": true
          }
         },
         "name": "2013-12"
        },
        {
         "data": [
          {
           "cliponaxis": false,
           "hoverinfo": "all",
           "hovertemplate": "<extra></extra>",
           "marker": {
            "color": [
             "rgb(142, 96, 209)",
             "rgb(229, 157, 175)",
             "rgb(49, 26, 220)",
             "rgb(6, 82, 236)",
             "rgb(173, 194, 37)"
            ]
           },
           "orientation": "h",
           "textangle": 0,
           "textposition": "outside",
           "texttemplate": "%{y}<br>%{x:.4s}",
           "type": "bar",
           "x": [
            10,
            14,
            15,
            20,
            26
           ],
           "y": [
            "flavor",
            "bread",
            "substitutions",
            "food-safety",
            "baking"
           ]
          }
         ],
         "layout": {
          "bargap": 0.15,
          "font": {
           "size": 14
          },
          "plot_bgcolor": "#FFFFFF",
          "title": {
           "text": "Popular tags on Cooking StackOverflow"
          },
          "xaxis": {
           "range": [
            0,
            41
           ],
           "showline": true,
           "visible": true
          },
          "yaxis": {
           "showline": false,
           "visible": true
          }
         },
         "name": "2014-01"
        },
        {
         "data": [
          {
           "cliponaxis": false,
           "hoverinfo": "all",
           "hovertemplate": "<extra></extra>",
           "marker": {
            "color": [
             "rgb(200, 141, 123)",
             "rgb(6, 82, 236)",
             "rgb(229, 157, 175)",
             "rgb(49, 26, 220)",
             "rgb(173, 194, 37)"
            ]
           },
           "orientation": "h",
           "textangle": 0,
           "textposition": "outside",
           "texttemplate": "%{y}<br>%{x:.4s}",
           "type": "bar",
           "x": [
            10,
            12,
            12,
            18,
            25
           ],
           "y": [
            "cake",
            "food-safety",
            "bread",
            "substitutions",
            "baking"
           ]
          }
         ],
         "layout": {
          "bargap": 0.15,
          "font": {
           "size": 14
          },
          "plot_bgcolor": "#FFFFFF",
          "title": {
           "text": "Popular tags on Cooking StackOverflow"
          },
          "xaxis": {
           "range": [
            0,
            41
           ],
           "showline": true,
           "visible": true
          },
          "yaxis": {
           "showline": false,
           "visible": true
          }
         },
         "name": "2014-02"
        },
        {
         "data": [
          {
           "cliponaxis": false,
           "hoverinfo": "all",
           "hovertemplate": "<extra></extra>",
           "marker": {
            "color": [
             "rgb(49, 26, 220)",
             "rgb(229, 157, 175)",
             "rgb(208, 95, 18)",
             "rgb(173, 194, 37)",
             "rgb(6, 82, 236)"
            ]
           },
           "orientation": "h",
           "textangle": 0,
           "textposition": "outside",
           "texttemplate": "%{y}<br>%{x:.4s}",
           "type": "bar",
           "x": [
            10,
            11,
            17,
            21,
            22
           ],
           "y": [
            "substitutions",
            "bread",
            "coffee",
            "baking",
            "food-safety"
           ]
          }
         ],
         "layout": {
          "bargap": 0.15,
          "font": {
           "size": 14
          },
          "plot_bgcolor": "#FFFFFF",
          "title": {
           "text": "Popular tags on Cooking StackOverflow"
          },
          "xaxis": {
           "range": [
            0,
            41
           ],
           "showline": true,
           "visible": true
          },
          "yaxis": {
           "showline": false,
           "visible": true
          }
         },
         "name": "2014-03"
        },
        {
         "data": [
          {
           "cliponaxis": false,
           "hoverinfo": "all",
           "hovertemplate": "<extra></extra>",
           "marker": {
            "color": [
             "rgb(26, 232, 97)",
             "rgb(18, 71, 31)",
             "rgb(229, 157, 175)",
             "rgb(6, 82, 236)",
             "rgb(173, 194, 37)"
            ]
           },
           "orientation": "h",
           "textangle": 0,
           "textposition": "outside",
           "texttemplate": "%{y}<br>%{x:.4s}",
           "type": "bar",
           "x": [
            7,
            8,
            11,
            15,
            15
           ],
           "y": [
            "milk",
            "cookies",
            "bread",
            "food-safety",
            "baking"
           ]
          }
         ],
         "layout": {
          "bargap": 0.15,
          "font": {
           "size": 14
          },
          "plot_bgcolor": "#FFFFFF",
          "title": {
           "text": "Popular tags on Cooking StackOverflow"
          },
          "xaxis": {
           "range": [
            0,
            41
           ],
           "showline": true,
           "visible": true
          },
          "yaxis": {
           "showline": false,
           "visible": true
          }
         },
         "name": "2014-04"
        },
        {
         "data": [
          {
           "cliponaxis": false,
           "hoverinfo": "all",
           "hovertemplate": "<extra></extra>",
           "marker": {
            "color": [
             "rgb(145, 213, 126)",
             "rgb(49, 26, 220)",
             "rgb(173, 194, 37)",
             "rgb(229, 157, 175)",
             "rgb(6, 82, 236)"
            ]
           },
           "orientation": "h",
           "textangle": 0,
           "textposition": "outside",
           "texttemplate": "%{y}<br>%{x:.4s}",
           "type": "bar",
           "x": [
            10,
            11,
            12,
            14,
            19
           ],
           "y": [
            "chicken",
            "substitutions",
            "baking",
            "bread",
            "food-safety"
           ]
          }
         ],
         "layout": {
          "bargap": 0.15,
          "font": {
           "size": 14
          },
          "plot_bgcolor": "#FFFFFF",
          "title": {
           "text": "Popular tags on Cooking StackOverflow"
          },
          "xaxis": {
           "range": [
            0,
            41
           ],
           "showline": true,
           "visible": true
          },
          "yaxis": {
           "showline": false,
           "visible": true
          }
         },
         "name": "2014-05"
        },
        {
         "data": [
          {
           "cliponaxis": false,
           "hoverinfo": "all",
           "hovertemplate": "<extra></extra>",
           "marker": {
            "color": [
             "rgb(231, 5, 53)",
             "rgb(229, 157, 175)",
             "rgb(173, 194, 37)",
             "rgb(6, 82, 236)",
             "rgb(49, 26, 220)"
            ]
           },
           "orientation": "h",
           "textangle": 0,
           "textposition": "outside",
           "texttemplate": "%{y}<br>%{x:.4s}",
           "type": "bar",
           "x": [
            7,
            8,
            10,
            10,
            15
           ],
           "y": [
            "potatoes",
            "bread",
            "baking",
            "food-safety",
            "substitutions"
           ]
          }
         ],
         "layout": {
          "bargap": 0.15,
          "font": {
           "size": 14
          },
          "plot_bgcolor": "#FFFFFF",
          "title": {
           "text": "Popular tags on Cooking StackOverflow"
          },
          "xaxis": {
           "range": [
            0,
            41
           ],
           "showline": true,
           "visible": true
          },
          "yaxis": {
           "showline": false,
           "visible": true
          }
         },
         "name": "2014-06"
        },
        {
         "data": [
          {
           "cliponaxis": false,
           "hoverinfo": "all",
           "hovertemplate": "<extra></extra>",
           "marker": {
            "color": [
             "rgb(49, 26, 220)",
             "rgb(6, 82, 236)",
             "rgb(142, 96, 209)",
             "rgb(87, 117, 230)",
             "rgb(173, 194, 37)"
            ]
           },
           "orientation": "h",
           "textangle": 0,
           "textposition": "outside",
           "texttemplate": "%{y}<br>%{x:.4s}",
           "type": "bar",
           "x": [
            8,
            9,
            9,
            13,
            15
           ],
           "y": [
            "substitutions",
            "food-safety",
            "flavor",
            "equipment",
            "baking"
           ]
          }
         ],
         "layout": {
          "bargap": 0.15,
          "font": {
           "size": 14
          },
          "plot_bgcolor": "#FFFFFF",
          "title": {
           "text": "Popular tags on Cooking StackOverflow"
          },
          "xaxis": {
           "range": [
            0,
            41
           ],
           "showline": true,
           "visible": true
          },
          "yaxis": {
           "showline": false,
           "visible": true
          }
         },
         "name": "2014-07"
        },
        {
         "data": [
          {
           "cliponaxis": false,
           "hoverinfo": "all",
           "hovertemplate": "<extra></extra>",
           "marker": {
            "color": [
             "rgb(229, 157, 175)",
             "rgb(87, 117, 230)",
             "rgb(145, 213, 126)",
             "rgb(173, 194, 37)",
             "rgb(6, 82, 236)"
            ]
           },
           "orientation": "h",
           "textangle": 0,
           "textposition": "outside",
           "texttemplate": "%{y}<br>%{x:.4s}",
           "type": "bar",
           "x": [
            8,
            8,
            9,
            15,
            15
           ],
           "y": [
            "bread",
            "equipment",
            "chicken",
            "baking",
            "food-safety"
           ]
          }
         ],
         "layout": {
          "bargap": 0.15,
          "font": {
           "size": 14
          },
          "plot_bgcolor": "#FFFFFF",
          "title": {
           "text": "Popular tags on Cooking StackOverflow"
          },
          "xaxis": {
           "range": [
            0,
            41
           ],
           "showline": true,
           "visible": true
          },
          "yaxis": {
           "showline": false,
           "visible": true
          }
         },
         "name": "2014-08"
        },
        {
         "data": [
          {
           "cliponaxis": false,
           "hoverinfo": "all",
           "hovertemplate": "<extra></extra>",
           "marker": {
            "color": [
             "rgb(158, 189, 105)",
             "rgb(145, 213, 126)",
             "rgb(229, 157, 175)",
             "rgb(173, 194, 37)",
             "rgb(6, 82, 236)"
            ]
           },
           "orientation": "h",
           "textangle": 0,
           "textposition": "outside",
           "texttemplate": "%{y}<br>%{x:.4s}",
           "type": "bar",
           "x": [
            9,
            10,
            11,
            14,
            31
           ],
           "y": [
            "food-preservation",
            "chicken",
            "bread",
            "baking",
            "food-safety"
           ]
          }
         ],
         "layout": {
          "bargap": 0.15,
          "font": {
           "size": 14
          },
          "plot_bgcolor": "#FFFFFF",
          "title": {
           "text": "Popular tags on Cooking StackOverflow"
          },
          "xaxis": {
           "range": [
            0,
            41
           ],
           "showline": true,
           "visible": true
          },
          "yaxis": {
           "showline": false,
           "visible": true
          }
         },
         "name": "2014-09"
        },
        {
         "data": [
          {
           "cliponaxis": false,
           "hoverinfo": "all",
           "hovertemplate": "<extra></extra>",
           "marker": {
            "color": [
             "rgb(165, 43, 254)",
             "rgb(49, 26, 220)",
             "rgb(229, 157, 175)",
             "rgb(6, 82, 236)",
             "rgb(173, 194, 37)"
            ]
           },
           "orientation": "h",
           "textangle": 0,
           "textposition": "outside",
           "texttemplate": "%{y}<br>%{x:.4s}",
           "type": "bar",
           "x": [
            8,
            9,
            10,
            12,
            22
           ],
           "y": [
            "freezing",
            "substitutions",
            "bread",
            "food-safety",
            "baking"
           ]
          }
         ],
         "layout": {
          "bargap": 0.15,
          "font": {
           "size": 14
          },
          "plot_bgcolor": "#FFFFFF",
          "title": {
           "text": "Popular tags on Cooking StackOverflow"
          },
          "xaxis": {
           "range": [
            0,
            41
           ],
           "showline": true,
           "visible": true
          },
          "yaxis": {
           "showline": false,
           "visible": true
          }
         },
         "name": "2014-10"
        },
        {
         "data": [
          {
           "cliponaxis": false,
           "hoverinfo": "all",
           "hovertemplate": "<extra></extra>",
           "marker": {
            "color": [
             "rgb(114, 33, 148)",
             "rgb(122, 209, 114)",
             "rgb(87, 117, 230)",
             "rgb(173, 194, 37)",
             "rgb(6, 82, 236)"
            ]
           },
           "orientation": "h",
           "textangle": 0,
           "textposition": "outside",
           "texttemplate": "%{y}<br>%{x:.4s}",
           "type": "bar",
           "x": [
            9,
            10,
            11,
            18,
            23
           ],
           "y": [
            "turkey",
            "oven",
            "equipment",
            "baking",
            "food-safety"
           ]
          }
         ],
         "layout": {
          "bargap": 0.15,
          "font": {
           "size": 14
          },
          "plot_bgcolor": "#FFFFFF",
          "title": {
           "text": "Popular tags on Cooking StackOverflow"
          },
          "xaxis": {
           "range": [
            0,
            41
           ],
           "showline": true,
           "visible": true
          },
          "yaxis": {
           "showline": false,
           "visible": true
          }
         },
         "name": "2014-11"
        },
        {
         "data": [
          {
           "cliponaxis": false,
           "hoverinfo": "all",
           "hovertemplate": "<extra></extra>",
           "marker": {
            "color": [
             "rgb(229, 157, 175)",
             "rgb(226, 182, 125)",
             "rgb(49, 26, 220)",
             "rgb(6, 82, 236)",
             "rgb(173, 194, 37)"
            ]
           },
           "orientation": "h",
           "textangle": 0,
           "textposition": "outside",
           "texttemplate": "%{y}<br>%{x:.4s}",
           "type": "bar",
           "x": [
            9,
            13,
            13,
            21,
            25
           ],
           "y": [
            "bread",
            "meat",
            "substitutions",
            "food-safety",
            "baking"
           ]
          }
         ],
         "layout": {
          "bargap": 0.15,
          "font": {
           "size": 14
          },
          "plot_bgcolor": "#FFFFFF",
          "title": {
           "text": "Popular tags on Cooking StackOverflow"
          },
          "xaxis": {
           "range": [
            0,
            41
           ],
           "showline": true,
           "visible": true
          },
          "yaxis": {
           "showline": false,
           "visible": true
          }
         },
         "name": "2014-12"
        },
        {
         "data": [
          {
           "cliponaxis": false,
           "hoverinfo": "all",
           "hovertemplate": "<extra></extra>",
           "marker": {
            "color": [
             "rgb(87, 117, 230)",
             "rgb(6, 82, 236)",
             "rgb(229, 157, 175)",
             "rgb(49, 26, 220)",
             "rgb(173, 194, 37)"
            ]
           },
           "orientation": "h",
           "textangle": 0,
           "textposition": "outside",
           "texttemplate": "%{y}<br>%{x:.4s}",
           "type": "bar",
           "x": [
            9,
            13,
            14,
            16,
            24
           ],
           "y": [
            "equipment",
            "food-safety",
            "bread",
            "substitutions",
            "baking"
           ]
          }
         ],
         "layout": {
          "bargap": 0.15,
          "font": {
           "size": 14
          },
          "plot_bgcolor": "#FFFFFF",
          "title": {
           "text": "Popular tags on Cooking StackOverflow"
          },
          "xaxis": {
           "range": [
            0,
            41
           ],
           "showline": true,
           "visible": true
          },
          "yaxis": {
           "showline": false,
           "visible": true
          }
         },
         "name": "2015-01"
        },
        {
         "data": [
          {
           "cliponaxis": false,
           "hoverinfo": "all",
           "hovertemplate": "<extra></extra>",
           "marker": {
            "color": [
             "rgb(229, 157, 175)",
             "rgb(200, 141, 123)",
             "rgb(49, 26, 220)",
             "rgb(173, 194, 37)",
             "rgb(6, 82, 236)"
            ]
           },
           "orientation": "h",
           "textangle": 0,
           "textposition": "outside",
           "texttemplate": "%{y}<br>%{x:.4s}",
           "type": "bar",
           "x": [
            11,
            13,
            18,
            21,
            21
           ],
           "y": [
            "bread",
            "cake",
            "substitutions",
            "baking",
            "food-safety"
           ]
          }
         ],
         "layout": {
          "bargap": 0.15,
          "font": {
           "size": 14
          },
          "plot_bgcolor": "#FFFFFF",
          "title": {
           "text": "Popular tags on Cooking StackOverflow"
          },
          "xaxis": {
           "range": [
            0,
            41
           ],
           "showline": true,
           "visible": true
          },
          "yaxis": {
           "showline": false,
           "visible": true
          }
         },
         "name": "2015-02"
        },
        {
         "data": [
          {
           "cliponaxis": false,
           "hoverinfo": "all",
           "hovertemplate": "<extra></extra>",
           "marker": {
            "color": [
             "rgb(87, 117, 230)",
             "rgb(122, 209, 114)",
             "rgb(229, 157, 175)",
             "rgb(173, 194, 37)",
             "rgb(6, 82, 236)"
            ]
           },
           "orientation": "h",
           "textangle": 0,
           "textposition": "outside",
           "texttemplate": "%{y}<br>%{x:.4s}",
           "type": "bar",
           "x": [
            12,
            12,
            24,
            26,
            29
           ],
           "y": [
            "equipment",
            "oven",
            "bread",
            "baking",
            "food-safety"
           ]
          }
         ],
         "layout": {
          "bargap": 0.15,
          "font": {
           "size": 14
          },
          "plot_bgcolor": "#FFFFFF",
          "title": {
           "text": "Popular tags on Cooking StackOverflow"
          },
          "xaxis": {
           "range": [
            0,
            41
           ],
           "showline": true,
           "visible": true
          },
          "yaxis": {
           "showline": false,
           "visible": true
          }
         },
         "name": "2015-03"
        },
        {
         "data": [
          {
           "cliponaxis": false,
           "hoverinfo": "all",
           "hovertemplate": "<extra></extra>",
           "marker": {
            "color": [
             "rgb(229, 157, 175)",
             "rgb(87, 117, 230)",
             "rgb(49, 26, 220)",
             "rgb(173, 194, 37)",
             "rgb(6, 82, 236)"
            ]
           },
           "orientation": "h",
           "textangle": 0,
           "textposition": "outside",
           "texttemplate": "%{y}<br>%{x:.4s}",
           "type": "bar",
           "x": [
            10,
            13,
            18,
            19,
            24
           ],
           "y": [
            "bread",
            "equipment",
            "substitutions",
            "baking",
            "food-safety"
           ]
          }
         ],
         "layout": {
          "bargap": 0.15,
          "font": {
           "size": 14
          },
          "plot_bgcolor": "#FFFFFF",
          "title": {
           "text": "Popular tags on Cooking StackOverflow"
          },
          "xaxis": {
           "range": [
            0,
            41
           ],
           "showline": true,
           "visible": true
          },
          "yaxis": {
           "showline": false,
           "visible": true
          }
         },
         "name": "2015-04"
        },
        {
         "data": [
          {
           "cliponaxis": false,
           "hoverinfo": "all",
           "hovertemplate": "<extra></extra>",
           "marker": {
            "color": [
             "rgb(229, 157, 175)",
             "rgb(173, 194, 37)",
             "rgb(142, 96, 209)",
             "rgb(49, 26, 220)",
             "rgb(6, 82, 236)"
            ]
           },
           "orientation": "h",
           "textangle": 0,
           "textposition": "outside",
           "texttemplate": "%{y}<br>%{x:.4s}",
           "type": "bar",
           "x": [
            8,
            11,
            13,
            18,
            24
           ],
           "y": [
            "bread",
            "baking",
            "flavor",
            "substitutions",
            "food-safety"
           ]
          }
         ],
         "layout": {
          "bargap": 0.15,
          "font": {
           "size": 14
          },
          "plot_bgcolor": "#FFFFFF",
          "title": {
           "text": "Popular tags on Cooking StackOverflow"
          },
          "xaxis": {
           "range": [
            0,
            41
           ],
           "showline": true,
           "visible": true
          },
          "yaxis": {
           "showline": false,
           "visible": true
          }
         },
         "name": "2015-05"
        },
        {
         "data": [
          {
           "cliponaxis": false,
           "hoverinfo": "all",
           "hovertemplate": "<extra></extra>",
           "marker": {
            "color": [
             "rgb(43, 26, 210)",
             "rgb(42, 236, 91)",
             "rgb(87, 117, 230)",
             "rgb(173, 194, 37)",
             "rgb(6, 82, 236)"
            ]
           },
           "orientation": "h",
           "textangle": 0,
           "textposition": "outside",
           "texttemplate": "%{y}<br>%{x:.4s}",
           "type": "bar",
           "x": [
            7,
            8,
            9,
            16,
            17
           ],
           "y": [
            "indian-cuisine",
            "barbecue",
            "equipment",
            "baking",
            "food-safety"
           ]
          }
         ],
         "layout": {
          "bargap": 0.15,
          "font": {
           "size": 14
          },
          "plot_bgcolor": "#FFFFFF",
          "title": {
           "text": "Popular tags on Cooking StackOverflow"
          },
          "xaxis": {
           "range": [
            0,
            41
           ],
           "showline": true,
           "visible": true
          },
          "yaxis": {
           "showline": false,
           "visible": true
          }
         },
         "name": "2015-06"
        },
        {
         "data": [
          {
           "cliponaxis": false,
           "hoverinfo": "all",
           "hovertemplate": "<extra></extra>",
           "marker": {
            "color": [
             "rgb(142, 96, 209)",
             "rgb(49, 26, 220)",
             "rgb(226, 182, 125)",
             "rgb(173, 194, 37)",
             "rgb(6, 82, 236)"
            ]
           },
           "orientation": "h",
           "textangle": 0,
           "textposition": "outside",
           "texttemplate": "%{y}<br>%{x:.4s}",
           "type": "bar",
           "x": [
            9,
            10,
            11,
            19,
            24
           ],
           "y": [
            "flavor",
            "substitutions",
            "meat",
            "baking",
            "food-safety"
           ]
          }
         ],
         "layout": {
          "bargap": 0.15,
          "font": {
           "size": 14
          },
          "plot_bgcolor": "#FFFFFF",
          "title": {
           "text": "Popular tags on Cooking StackOverflow"
          },
          "xaxis": {
           "range": [
            0,
            41
           ],
           "showline": true,
           "visible": true
          },
          "yaxis": {
           "showline": false,
           "visible": true
          }
         },
         "name": "2015-07"
        },
        {
         "data": [
          {
           "cliponaxis": false,
           "hoverinfo": "all",
           "hovertemplate": "<extra></extra>",
           "marker": {
            "color": [
             "rgb(229, 157, 175)",
             "rgb(87, 117, 230)",
             "rgb(49, 26, 220)",
             "rgb(173, 194, 37)",
             "rgb(6, 82, 236)"
            ]
           },
           "orientation": "h",
           "textangle": 0,
           "textposition": "outside",
           "texttemplate": "%{y}<br>%{x:.4s}",
           "type": "bar",
           "x": [
            8,
            9,
            10,
            18,
            24
           ],
           "y": [
            "bread",
            "equipment",
            "substitutions",
            "baking",
            "food-safety"
           ]
          }
         ],
         "layout": {
          "bargap": 0.15,
          "font": {
           "size": 14
          },
          "plot_bgcolor": "#FFFFFF",
          "title": {
           "text": "Popular tags on Cooking StackOverflow"
          },
          "xaxis": {
           "range": [
            0,
            41
           ],
           "showline": true,
           "visible": true
          },
          "yaxis": {
           "showline": false,
           "visible": true
          }
         },
         "name": "2015-08"
        },
        {
         "data": [
          {
           "cliponaxis": false,
           "hoverinfo": "all",
           "hovertemplate": "<extra></extra>",
           "marker": {
            "color": [
             "rgb(12, 125, 76)",
             "rgb(142, 96, 209)",
             "rgb(49, 26, 220)",
             "rgb(173, 194, 37)",
             "rgb(6, 82, 236)"
            ]
           },
           "orientation": "h",
           "textangle": 0,
           "textposition": "outside",
           "texttemplate": "%{y}<br>%{x:.4s}",
           "type": "bar",
           "x": [
            8,
            11,
            13,
            20,
            23
           ],
           "y": [
            "sauce",
            "flavor",
            "substitutions",
            "baking",
            "food-safety"
           ]
          }
         ],
         "layout": {
          "bargap": 0.15,
          "font": {
           "size": 14
          },
          "plot_bgcolor": "#FFFFFF",
          "title": {
           "text": "Popular tags on Cooking StackOverflow"
          },
          "xaxis": {
           "range": [
            0,
            41
           ],
           "showline": true,
           "visible": true
          },
          "yaxis": {
           "showline": false,
           "visible": true
          }
         },
         "name": "2015-09"
        },
        {
         "data": [
          {
           "cliponaxis": false,
           "hoverinfo": "all",
           "hovertemplate": "<extra></extra>",
           "marker": {
            "color": [
             "rgb(87, 117, 230)",
             "rgb(229, 157, 175)",
             "rgb(49, 26, 220)",
             "rgb(173, 194, 37)",
             "rgb(6, 82, 236)"
            ]
           },
           "orientation": "h",
           "textangle": 0,
           "textposition": "outside",
           "texttemplate": "%{y}<br>%{x:.4s}",
           "type": "bar",
           "x": [
            8,
            10,
            13,
            16,
            18
           ],
           "y": [
            "equipment",
            "bread",
            "substitutions",
            "baking",
            "food-safety"
           ]
          }
         ],
         "layout": {
          "bargap": 0.15,
          "font": {
           "size": 14
          },
          "plot_bgcolor": "#FFFFFF",
          "title": {
           "text": "Popular tags on Cooking StackOverflow"
          },
          "xaxis": {
           "range": [
            0,
            41
           ],
           "showline": true,
           "visible": true
          },
          "yaxis": {
           "showline": false,
           "visible": true
          }
         },
         "name": "2015-10"
        },
        {
         "data": [
          {
           "cliponaxis": false,
           "hoverinfo": "all",
           "hovertemplate": "<extra></extra>",
           "marker": {
            "color": [
             "rgb(114, 33, 148)",
             "rgb(229, 157, 175)",
             "rgb(49, 26, 220)",
             "rgb(6, 82, 236)",
             "rgb(173, 194, 37)"
            ]
           },
           "orientation": "h",
           "textangle": 0,
           "textposition": "outside",
           "texttemplate": "%{y}<br>%{x:.4s}",
           "type": "bar",
           "x": [
            8,
            9,
            15,
            17,
            38
           ],
           "y": [
            "turkey",
            "bread",
            "substitutions",
            "food-safety",
            "baking"
           ]
          }
         ],
         "layout": {
          "bargap": 0.15,
          "font": {
           "size": 14
          },
          "plot_bgcolor": "#FFFFFF",
          "title": {
           "text": "Popular tags on Cooking StackOverflow"
          },
          "xaxis": {
           "range": [
            0,
            41
           ],
           "showline": true,
           "visible": true
          },
          "yaxis": {
           "showline": false,
           "visible": true
          }
         },
         "name": "2015-11"
        },
        {
         "data": [
          {
           "cliponaxis": false,
           "hoverinfo": "all",
           "hovertemplate": "<extra></extra>",
           "marker": {
            "color": [
             "rgb(248, 191, 35)",
             "rgb(49, 26, 220)",
             "rgb(229, 157, 175)",
             "rgb(6, 82, 236)",
             "rgb(173, 194, 37)"
            ]
           },
           "orientation": "h",
           "textangle": 0,
           "textposition": "outside",
           "texttemplate": "%{y}<br>%{x:.4s}",
           "type": "bar",
           "x": [
            9,
            10,
            12,
            14,
            22
           ],
           "y": [
            "storage-method",
            "substitutions",
            "bread",
            "food-safety",
            "baking"
           ]
          }
         ],
         "layout": {
          "bargap": 0.15,
          "font": {
           "size": 14
          },
          "plot_bgcolor": "#FFFFFF",
          "title": {
           "text": "Popular tags on Cooking StackOverflow"
          },
          "xaxis": {
           "range": [
            0,
            41
           ],
           "showline": true,
           "visible": true
          },
          "yaxis": {
           "showline": false,
           "visible": true
          }
         },
         "name": "2015-12"
        },
        {
         "data": [
          {
           "cliponaxis": false,
           "hoverinfo": "all",
           "hovertemplate": "<extra></extra>",
           "marker": {
            "color": [
             "rgb(142, 96, 209)",
             "rgb(158, 189, 105)",
             "rgb(229, 157, 175)",
             "rgb(173, 194, 37)",
             "rgb(6, 82, 236)"
            ]
           },
           "orientation": "h",
           "textangle": 0,
           "textposition": "outside",
           "texttemplate": "%{y}<br>%{x:.4s}",
           "type": "bar",
           "x": [
            12,
            16,
            18,
            24,
            28
           ],
           "y": [
            "flavor",
            "food-preservation",
            "bread",
            "baking",
            "food-safety"
           ]
          }
         ],
         "layout": {
          "bargap": 0.15,
          "font": {
           "size": 14
          },
          "plot_bgcolor": "#FFFFFF",
          "title": {
           "text": "Popular tags on Cooking StackOverflow"
          },
          "xaxis": {
           "range": [
            0,
            41
           ],
           "showline": true,
           "visible": true
          },
          "yaxis": {
           "showline": false,
           "visible": true
          }
         },
         "name": "2016-01"
        },
        {
         "data": [
          {
           "cliponaxis": false,
           "hoverinfo": "all",
           "hovertemplate": "<extra></extra>",
           "marker": {
            "color": [
             "rgb(12, 125, 76)",
             "rgb(226, 182, 125)",
             "rgb(49, 26, 220)",
             "rgb(6, 82, 236)",
             "rgb(173, 194, 37)"
            ]
           },
           "orientation": "h",
           "textangle": 0,
           "textposition": "outside",
           "texttemplate": "%{y}<br>%{x:.4s}",
           "type": "bar",
           "x": [
            12,
            13,
            15,
            18,
            22
           ],
           "y": [
            "sauce",
            "meat",
            "substitutions",
            "food-safety",
            "baking"
           ]
          }
         ],
         "layout": {
          "bargap": 0.15,
          "font": {
           "size": 14
          },
          "plot_bgcolor": "#FFFFFF",
          "title": {
           "text": "Popular tags on Cooking StackOverflow"
          },
          "xaxis": {
           "range": [
            0,
            41
           ],
           "showline": true,
           "visible": true
          },
          "yaxis": {
           "showline": false,
           "visible": true
          }
         },
         "name": "2016-02"
        },
        {
         "data": [
          {
           "cliponaxis": false,
           "hoverinfo": "all",
           "hovertemplate": "<extra></extra>",
           "marker": {
            "color": [
             "rgb(12, 125, 76)",
             "rgb(142, 96, 209)",
             "rgb(49, 26, 220)",
             "rgb(6, 82, 236)",
             "rgb(173, 194, 37)"
            ]
           },
           "orientation": "h",
           "textangle": 0,
           "textposition": "outside",
           "texttemplate": "%{y}<br>%{x:.4s}",
           "type": "bar",
           "x": [
            10,
            12,
            12,
            16,
            18
           ],
           "y": [
            "sauce",
            "flavor",
            "substitutions",
            "food-safety",
            "baking"
           ]
          }
         ],
         "layout": {
          "bargap": 0.15,
          "font": {
           "size": 14
          },
          "plot_bgcolor": "#FFFFFF",
          "title": {
           "text": "Popular tags on Cooking StackOverflow"
          },
          "xaxis": {
           "range": [
            0,
            41
           ],
           "showline": true,
           "visible": true
          },
          "yaxis": {
           "showline": false,
           "visible": true
          }
         },
         "name": "2016-03"
        },
        {
         "data": [
          {
           "cliponaxis": false,
           "hoverinfo": "all",
           "hovertemplate": "<extra></extra>",
           "marker": {
            "color": [
             "rgb(229, 157, 175)",
             "rgb(12, 125, 76)",
             "rgb(49, 26, 220)",
             "rgb(6, 82, 236)",
             "rgb(173, 194, 37)"
            ]
           },
           "orientation": "h",
           "textangle": 0,
           "textposition": "outside",
           "texttemplate": "%{y}<br>%{x:.4s}",
           "type": "bar",
           "x": [
            11,
            12,
            12,
            18,
            18
           ],
           "y": [
            "bread",
            "sauce",
            "substitutions",
            "food-safety",
            "baking"
           ]
          }
         ],
         "layout": {
          "bargap": 0.15,
          "font": {
           "size": 14
          },
          "plot_bgcolor": "#FFFFFF",
          "title": {
           "text": "Popular tags on Cooking StackOverflow"
          },
          "xaxis": {
           "range": [
            0,
            41
           ],
           "showline": true,
           "visible": true
          },
          "yaxis": {
           "showline": false,
           "visible": true
          }
         },
         "name": "2016-04"
        },
        {
         "data": [
          {
           "cliponaxis": false,
           "hoverinfo": "all",
           "hovertemplate": "<extra></extra>",
           "marker": {
            "color": [
             "rgb(146, 149, 97)",
             "rgb(226, 182, 125)",
             "rgb(229, 157, 175)",
             "rgb(173, 194, 37)",
             "rgb(6, 82, 236)"
            ]
           },
           "orientation": "h",
           "textangle": 0,
           "textposition": "outside",
           "texttemplate": "%{y}<br>%{x:.4s}",
           "type": "bar",
           "x": [
            6,
            8,
            9,
            15,
            15
           ],
           "y": [
            "cheese",
            "meat",
            "bread",
            "baking",
            "food-safety"
           ]
          }
         ],
         "layout": {
          "bargap": 0.15,
          "font": {
           "size": 14
          },
          "plot_bgcolor": "#FFFFFF",
          "title": {
           "text": "Popular tags on Cooking StackOverflow"
          },
          "xaxis": {
           "range": [
            0,
            41
           ],
           "showline": true,
           "visible": true
          },
          "yaxis": {
           "showline": false,
           "visible": true
          }
         },
         "name": "2016-05"
        },
        {
         "data": [
          {
           "cliponaxis": false,
           "hoverinfo": "all",
           "hovertemplate": "<extra></extra>",
           "marker": {
            "color": [
             "rgb(248, 191, 35)",
             "rgb(87, 117, 230)",
             "rgb(229, 157, 175)",
             "rgb(6, 82, 236)",
             "rgb(173, 194, 37)"
            ]
           },
           "orientation": "h",
           "textangle": 0,
           "textposition": "outside",
           "texttemplate": "%{y}<br>%{x:.4s}",
           "type": "bar",
           "x": [
            8,
            9,
            9,
            11,
            13
           ],
           "y": [
            "storage-method",
            "equipment",
            "bread",
            "food-safety",
            "baking"
           ]
          }
         ],
         "layout": {
          "bargap": 0.15,
          "font": {
           "size": 14
          },
          "plot_bgcolor": "#FFFFFF",
          "title": {
           "text": "Popular tags on Cooking StackOverflow"
          },
          "xaxis": {
           "range": [
            0,
            41
           ],
           "showline": true,
           "visible": true
          },
          "yaxis": {
           "showline": false,
           "visible": true
          }
         },
         "name": "2016-06"
        },
        {
         "data": [
          {
           "cliponaxis": false,
           "hoverinfo": "all",
           "hovertemplate": "<extra></extra>",
           "marker": {
            "color": [
             "rgb(4, 50, 196)",
             "rgb(49, 26, 220)",
             "rgb(6, 82, 236)",
             "rgb(87, 117, 230)",
             "rgb(173, 194, 37)"
            ]
           },
           "orientation": "h",
           "textangle": 0,
           "textposition": "outside",
           "texttemplate": "%{y}<br>%{x:.4s}",
           "type": "bar",
           "x": [
            7,
            8,
            10,
            11,
            18
           ],
           "y": [
            "cleaning",
            "substitutions",
            "food-safety",
            "equipment",
            "baking"
           ]
          }
         ],
         "layout": {
          "bargap": 0.15,
          "font": {
           "size": 14
          },
          "plot_bgcolor": "#FFFFFF",
          "title": {
           "text": "Popular tags on Cooking StackOverflow"
          },
          "xaxis": {
           "range": [
            0,
            41
           ],
           "showline": true,
           "visible": true
          },
          "yaxis": {
           "showline": false,
           "visible": true
          }
         },
         "name": "2016-07"
        },
        {
         "data": [
          {
           "cliponaxis": false,
           "hoverinfo": "all",
           "hovertemplate": "<extra></extra>",
           "marker": {
            "color": [
             "rgb(229, 157, 175)",
             "rgb(49, 26, 220)",
             "rgb(87, 117, 230)",
             "rgb(6, 82, 236)",
             "rgb(173, 194, 37)"
            ]
           },
           "orientation": "h",
           "textangle": 0,
           "textposition": "outside",
           "texttemplate": "%{y}<br>%{x:.4s}",
           "type": "bar",
           "x": [
            8,
            11,
            16,
            19,
            23
           ],
           "y": [
            "bread",
            "substitutions",
            "equipment",
            "food-safety",
            "baking"
           ]
          }
         ],
         "layout": {
          "bargap": 0.15,
          "font": {
           "size": 14
          },
          "plot_bgcolor": "#FFFFFF",
          "title": {
           "text": "Popular tags on Cooking StackOverflow"
          },
          "xaxis": {
           "range": [
            0,
            41
           ],
           "showline": true,
           "visible": true
          },
          "yaxis": {
           "showline": false,
           "visible": true
          }
         },
         "name": "2016-08"
        },
        {
         "data": [
          {
           "cliponaxis": false,
           "hoverinfo": "all",
           "hovertemplate": "<extra></extra>",
           "marker": {
            "color": [
             "rgb(87, 117, 230)",
             "rgb(18, 224, 48)",
             "rgb(49, 26, 220)",
             "rgb(173, 194, 37)",
             "rgb(6, 82, 236)"
            ]
           },
           "orientation": "h",
           "textangle": 0,
           "textposition": "outside",
           "texttemplate": "%{y}<br>%{x:.4s}",
           "type": "bar",
           "x": [
            6,
            6,
            8,
            12,
            18
           ],
           "y": [
            "equipment",
            "sugar",
            "substitutions",
            "baking",
            "food-safety"
           ]
          }
         ],
         "layout": {
          "bargap": 0.15,
          "font": {
           "size": 14
          },
          "plot_bgcolor": "#FFFFFF",
          "title": {
           "text": "Popular tags on Cooking StackOverflow"
          },
          "xaxis": {
           "range": [
            0,
            41
           ],
           "showline": true,
           "visible": true
          },
          "yaxis": {
           "showline": false,
           "visible": true
          }
         },
         "name": "2016-09"
        },
        {
         "data": [
          {
           "cliponaxis": false,
           "hoverinfo": "all",
           "hovertemplate": "<extra></extra>",
           "marker": {
            "color": [
             "rgb(242, 128, 181)",
             "rgb(229, 157, 175)",
             "rgb(87, 117, 230)",
             "rgb(6, 82, 236)",
             "rgb(173, 194, 37)"
            ]
           },
           "orientation": "h",
           "textangle": 0,
           "textposition": "outside",
           "texttemplate": "%{y}<br>%{x:.4s}",
           "type": "bar",
           "x": [
            9,
            9,
            10,
            11,
            18
           ],
           "y": [
            "knife-skills",
            "bread",
            "equipment",
            "food-safety",
            "baking"
           ]
          }
         ],
         "layout": {
          "bargap": 0.15,
          "font": {
           "size": 14
          },
          "plot_bgcolor": "#FFFFFF",
          "title": {
           "text": "Popular tags on Cooking StackOverflow"
          },
          "xaxis": {
           "range": [
            0,
            41
           ],
           "showline": true,
           "visible": true
          },
          "yaxis": {
           "showline": false,
           "visible": true
          }
         },
         "name": "2016-10"
        },
        {
         "data": [
          {
           "cliponaxis": false,
           "hoverinfo": "all",
           "hovertemplate": "<extra></extra>",
           "marker": {
            "color": [
             "rgb(87, 117, 230)",
             "rgb(229, 157, 175)",
             "rgb(49, 26, 220)",
             "rgb(6, 82, 236)",
             "rgb(173, 194, 37)"
            ]
           },
           "orientation": "h",
           "textangle": 0,
           "textposition": "outside",
           "texttemplate": "%{y}<br>%{x:.4s}",
           "type": "bar",
           "x": [
            11,
            11,
            12,
            14,
            27
           ],
           "y": [
            "equipment",
            "bread",
            "substitutions",
            "food-safety",
            "baking"
           ]
          }
         ],
         "layout": {
          "bargap": 0.15,
          "font": {
           "size": 14
          },
          "plot_bgcolor": "#FFFFFF",
          "title": {
           "text": "Popular tags on Cooking StackOverflow"
          },
          "xaxis": {
           "range": [
            0,
            41
           ],
           "showline": true,
           "visible": true
          },
          "yaxis": {
           "showline": false,
           "visible": true
          }
         },
         "name": "2016-11"
        },
        {
         "data": [
          {
           "cliponaxis": false,
           "hoverinfo": "all",
           "hovertemplate": "<extra></extra>",
           "marker": {
            "color": [
             "rgb(226, 182, 125)",
             "rgb(229, 157, 175)",
             "rgb(49, 26, 220)",
             "rgb(6, 82, 236)",
             "rgb(173, 194, 37)"
            ]
           },
           "orientation": "h",
           "textangle": 0,
           "textposition": "outside",
           "texttemplate": "%{y}<br>%{x:.4s}",
           "type": "bar",
           "x": [
            12,
            12,
            20,
            21,
            32
           ],
           "y": [
            "meat",
            "bread",
            "substitutions",
            "food-safety",
            "baking"
           ]
          }
         ],
         "layout": {
          "bargap": 0.15,
          "font": {
           "size": 14
          },
          "plot_bgcolor": "#FFFFFF",
          "title": {
           "text": "Popular tags on Cooking StackOverflow"
          },
          "xaxis": {
           "range": [
            0,
            41
           ],
           "showline": true,
           "visible": true
          },
          "yaxis": {
           "showline": false,
           "visible": true
          }
         },
         "name": "2016-12"
        },
        {
         "data": [
          {
           "cliponaxis": false,
           "hoverinfo": "all",
           "hovertemplate": "<extra></extra>",
           "marker": {
            "color": [
             "rgb(49, 26, 220)",
             "rgb(87, 117, 230)",
             "rgb(229, 157, 175)",
             "rgb(173, 194, 37)",
             "rgb(6, 82, 236)"
            ]
           },
           "orientation": "h",
           "textangle": 0,
           "textposition": "outside",
           "texttemplate": "%{y}<br>%{x:.4s}",
           "type": "bar",
           "x": [
            9,
            10,
            11,
            20,
            20
           ],
           "y": [
            "substitutions",
            "equipment",
            "bread",
            "baking",
            "food-safety"
           ]
          }
         ],
         "layout": {
          "bargap": 0.15,
          "font": {
           "size": 14
          },
          "plot_bgcolor": "#FFFFFF",
          "title": {
           "text": "Popular tags on Cooking StackOverflow"
          },
          "xaxis": {
           "range": [
            0,
            41
           ],
           "showline": true,
           "visible": true
          },
          "yaxis": {
           "showline": false,
           "visible": true
          }
         },
         "name": "2017-01"
        },
        {
         "data": [
          {
           "cliponaxis": false,
           "hoverinfo": "all",
           "hovertemplate": "<extra></extra>",
           "marker": {
            "color": [
             "rgb(116, 139, 89)",
             "rgb(49, 26, 220)",
             "rgb(173, 194, 37)",
             "rgb(6, 82, 236)",
             "rgb(229, 157, 175)"
            ]
           },
           "orientation": "h",
           "textangle": 0,
           "textposition": "outside",
           "texttemplate": "%{y}<br>%{x:.4s}",
           "type": "bar",
           "x": [
            9,
            13,
            14,
            15,
            15
           ],
           "y": [
            "fish",
            "substitutions",
            "baking",
            "food-safety",
            "bread"
           ]
          }
         ],
         "layout": {
          "bargap": 0.15,
          "font": {
           "size": 14
          },
          "plot_bgcolor": "#FFFFFF",
          "title": {
           "text": "Popular tags on Cooking StackOverflow"
          },
          "xaxis": {
           "range": [
            0,
            41
           ],
           "showline": true,
           "visible": true
          },
          "yaxis": {
           "showline": false,
           "visible": true
          }
         },
         "name": "2017-02"
        },
        {
         "data": [
          {
           "cliponaxis": false,
           "hoverinfo": "all",
           "hovertemplate": "<extra></extra>",
           "marker": {
            "color": [
             "rgb(116, 139, 89)",
             "rgb(226, 182, 125)",
             "rgb(6, 82, 236)",
             "rgb(229, 157, 175)",
             "rgb(173, 194, 37)"
            ]
           },
           "orientation": "h",
           "textangle": 0,
           "textposition": "outside",
           "texttemplate": "%{y}<br>%{x:.4s}",
           "type": "bar",
           "x": [
            8,
            9,
            14,
            16,
            22
           ],
           "y": [
            "fish",
            "meat",
            "food-safety",
            "bread",
            "baking"
           ]
          }
         ],
         "layout": {
          "bargap": 0.15,
          "font": {
           "size": 14
          },
          "plot_bgcolor": "#FFFFFF",
          "title": {
           "text": "Popular tags on Cooking StackOverflow"
          },
          "xaxis": {
           "range": [
            0,
            41
           ],
           "showline": true,
           "visible": true
          },
          "yaxis": {
           "showline": false,
           "visible": true
          }
         },
         "name": "2017-03"
        },
        {
         "data": [
          {
           "cliponaxis": false,
           "hoverinfo": "all",
           "hovertemplate": "<extra></extra>",
           "marker": {
            "color": [
             "rgb(200, 141, 123)",
             "rgb(49, 26, 220)",
             "rgb(229, 157, 175)",
             "rgb(6, 82, 236)",
             "rgb(173, 194, 37)"
            ]
           },
           "orientation": "h",
           "textangle": 0,
           "textposition": "outside",
           "texttemplate": "%{y}<br>%{x:.4s}",
           "type": "bar",
           "x": [
            7,
            9,
            15,
            18,
            23
           ],
           "y": [
            "cake",
            "substitutions",
            "bread",
            "food-safety",
            "baking"
           ]
          }
         ],
         "layout": {
          "bargap": 0.15,
          "font": {
           "size": 14
          },
          "plot_bgcolor": "#FFFFFF",
          "title": {
           "text": "Popular tags on Cooking StackOverflow"
          },
          "xaxis": {
           "range": [
            0,
            41
           ],
           "showline": true,
           "visible": true
          },
          "yaxis": {
           "showline": false,
           "visible": true
          }
         },
         "name": "2017-04"
        },
        {
         "data": [
          {
           "cliponaxis": false,
           "hoverinfo": "all",
           "hovertemplate": "<extra></extra>",
           "marker": {
            "color": [
             "rgb(87, 117, 230)",
             "rgb(229, 157, 175)",
             "rgb(6, 82, 236)",
             "rgb(49, 26, 220)",
             "rgb(173, 194, 37)"
            ]
           },
           "orientation": "h",
           "textangle": 0,
           "textposition": "outside",
           "texttemplate": "%{y}<br>%{x:.4s}",
           "type": "bar",
           "x": [
            9,
            10,
            12,
            13,
            17
           ],
           "y": [
            "equipment",
            "bread",
            "food-safety",
            "substitutions",
            "baking"
           ]
          }
         ],
         "layout": {
          "bargap": 0.15,
          "font": {
           "size": 14
          },
          "plot_bgcolor": "#FFFFFF",
          "title": {
           "text": "Popular tags on Cooking StackOverflow"
          },
          "xaxis": {
           "range": [
            0,
            41
           ],
           "showline": true,
           "visible": true
          },
          "yaxis": {
           "showline": false,
           "visible": true
          }
         },
         "name": "2017-05"
        },
        {
         "data": [
          {
           "cliponaxis": false,
           "hoverinfo": "all",
           "hovertemplate": "<extra></extra>",
           "marker": {
            "color": [
             "rgb(125, 23, 115)",
             "rgb(229, 157, 175)",
             "rgb(145, 213, 126)",
             "rgb(173, 194, 37)",
             "rgb(6, 82, 236)"
            ]
           },
           "orientation": "h",
           "textangle": 0,
           "textposition": "outside",
           "texttemplate": "%{y}<br>%{x:.4s}",
           "type": "bar",
           "x": [
            6,
            7,
            7,
            8,
            15
           ],
           "y": [
            "eggs",
            "bread",
            "chicken",
            "baking",
            "food-safety"
           ]
          }
         ],
         "layout": {
          "bargap": 0.15,
          "font": {
           "size": 14
          },
          "plot_bgcolor": "#FFFFFF",
          "title": {
           "text": "Popular tags on Cooking StackOverflow"
          },
          "xaxis": {
           "range": [
            0,
            41
           ],
           "showline": true,
           "visible": true
          },
          "yaxis": {
           "showline": false,
           "visible": true
          }
         },
         "name": "2017-06"
        },
        {
         "data": [
          {
           "cliponaxis": false,
           "hoverinfo": "all",
           "hovertemplate": "<extra></extra>",
           "marker": {
            "color": [
             "rgb(145, 213, 126)",
             "rgb(163, 158, 108)",
             "rgb(49, 26, 220)",
             "rgb(173, 194, 37)",
             "rgb(6, 82, 236)"
            ]
           },
           "orientation": "h",
           "textangle": 0,
           "textposition": "outside",
           "texttemplate": "%{y}<br>%{x:.4s}",
           "type": "bar",
           "x": [
            7,
            7,
            13,
            17,
            18
           ],
           "y": [
            "chicken",
            "temperature",
            "substitutions",
            "baking",
            "food-safety"
           ]
          }
         ],
         "layout": {
          "bargap": 0.15,
          "font": {
           "size": 14
          },
          "plot_bgcolor": "#FFFFFF",
          "title": {
           "text": "Popular tags on Cooking StackOverflow"
          },
          "xaxis": {
           "range": [
            0,
            41
           ],
           "showline": true,
           "visible": true
          },
          "yaxis": {
           "showline": false,
           "visible": true
          }
         },
         "name": "2017-07"
        },
        {
         "data": [
          {
           "cliponaxis": false,
           "hoverinfo": "all",
           "hovertemplate": "<extra></extra>",
           "marker": {
            "color": [
             "rgb(151, 159, 12)",
             "rgb(87, 117, 230)",
             "rgb(75, 236, 250)",
             "rgb(173, 194, 37)",
             "rgb(6, 82, 236)"
            ]
           },
           "orientation": "h",
           "textangle": 0,
           "textposition": "outside",
           "texttemplate": "%{y}<br>%{x:.4s}",
           "type": "bar",
           "x": [
            7,
            7,
            7,
            10,
            14
           ],
           "y": [
            "rice",
            "equipment",
            "food-science",
            "baking",
            "food-safety"
           ]
          }
         ],
         "layout": {
          "bargap": 0.15,
          "font": {
           "size": 14
          },
          "plot_bgcolor": "#FFFFFF",
          "title": {
           "text": "Popular tags on Cooking StackOverflow"
          },
          "xaxis": {
           "range": [
            0,
            41
           ],
           "showline": true,
           "visible": true
          },
          "yaxis": {
           "showline": false,
           "visible": true
          }
         },
         "name": "2017-08"
        },
        {
         "data": [
          {
           "cliponaxis": false,
           "hoverinfo": "all",
           "hovertemplate": "<extra></extra>",
           "marker": {
            "color": [
             "rgb(200, 141, 123)",
             "rgb(49, 26, 220)",
             "rgb(173, 194, 37)",
             "rgb(229, 157, 175)",
             "rgb(6, 82, 236)"
            ]
           },
           "orientation": "h",
           "textangle": 0,
           "textposition": "outside",
           "texttemplate": "%{y}<br>%{x:.4s}",
           "type": "bar",
           "x": [
            6,
            8,
            11,
            11,
            12
           ],
           "y": [
            "cake",
            "substitutions",
            "baking",
            "bread",
            "food-safety"
           ]
          }
         ],
         "layout": {
          "bargap": 0.15,
          "font": {
           "size": 14
          },
          "plot_bgcolor": "#FFFFFF",
          "title": {
           "text": "Popular tags on Cooking StackOverflow"
          },
          "xaxis": {
           "range": [
            0,
            41
           ],
           "showline": true,
           "visible": true
          },
          "yaxis": {
           "showline": false,
           "visible": true
          }
         },
         "name": "2017-09"
        },
        {
         "data": [
          {
           "cliponaxis": false,
           "hoverinfo": "all",
           "hovertemplate": "<extra></extra>",
           "marker": {
            "color": [
             "rgb(125, 23, 115)",
             "rgb(86, 142, 192)",
             "rgb(229, 157, 175)",
             "rgb(6, 82, 236)",
             "rgb(173, 194, 37)"
            ]
           },
           "orientation": "h",
           "textangle": 0,
           "textposition": "outside",
           "texttemplate": "%{y}<br>%{x:.4s}",
           "type": "bar",
           "x": [
            6,
            6,
            7,
            10,
            10
           ],
           "y": [
            "eggs",
            "water",
            "bread",
            "food-safety",
            "baking"
           ]
          }
         ],
         "layout": {
          "bargap": 0.15,
          "font": {
           "size": 14
          },
          "plot_bgcolor": "#FFFFFF",
          "title": {
           "text": "Popular tags on Cooking StackOverflow"
          },
          "xaxis": {
           "range": [
            0,
            41
           ],
           "showline": true,
           "visible": true
          },
          "yaxis": {
           "showline": false,
           "visible": true
          }
         },
         "name": "2017-10"
        },
        {
         "data": [
          {
           "cliponaxis": false,
           "hoverinfo": "all",
           "hovertemplate": "<extra></extra>",
           "marker": {
            "color": [
             "rgb(142, 96, 209)",
             "rgb(114, 33, 148)",
             "rgb(6, 82, 236)",
             "rgb(49, 26, 220)",
             "rgb(173, 194, 37)"
            ]
           },
           "orientation": "h",
           "textangle": 0,
           "textposition": "outside",
           "texttemplate": "%{y}<br>%{x:.4s}",
           "type": "bar",
           "x": [
            7,
            7,
            9,
            12,
            22
           ],
           "y": [
            "flavor",
            "turkey",
            "food-safety",
            "substitutions",
            "baking"
           ]
          }
         ],
         "layout": {
          "bargap": 0.15,
          "font": {
           "size": 14
          },
          "plot_bgcolor": "#FFFFFF",
          "title": {
           "text": "Popular tags on Cooking StackOverflow"
          },
          "xaxis": {
           "range": [
            0,
            41
           ],
           "showline": true,
           "visible": true
          },
          "yaxis": {
           "showline": false,
           "visible": true
          }
         },
         "name": "2017-11"
        },
        {
         "data": [
          {
           "cliponaxis": false,
           "hoverinfo": "all",
           "hovertemplate": "<extra></extra>",
           "marker": {
            "color": [
             "rgb(75, 236, 250)",
             "rgb(18, 71, 31)",
             "rgb(49, 26, 220)",
             "rgb(6, 82, 236)",
             "rgb(173, 194, 37)"
            ]
           },
           "orientation": "h",
           "textangle": 0,
           "textposition": "outside",
           "texttemplate": "%{y}<br>%{x:.4s}",
           "type": "bar",
           "x": [
            7,
            12,
            13,
            16,
            16
           ],
           "y": [
            "food-science",
            "cookies",
            "substitutions",
            "food-safety",
            "baking"
           ]
          }
         ],
         "layout": {
          "bargap": 0.15,
          "font": {
           "size": 14
          },
          "plot_bgcolor": "#FFFFFF",
          "title": {
           "text": "Popular tags on Cooking StackOverflow"
          },
          "xaxis": {
           "range": [
            0,
            41
           ],
           "showline": true,
           "visible": true
          },
          "yaxis": {
           "showline": false,
           "visible": true
          }
         },
         "name": "2017-12"
        },
        {
         "data": [
          {
           "cliponaxis": false,
           "hoverinfo": "all",
           "hovertemplate": "<extra></extra>",
           "marker": {
            "color": [
             "rgb(200, 141, 123)",
             "rgb(122, 209, 114)",
             "rgb(229, 157, 175)",
             "rgb(173, 194, 37)",
             "rgb(6, 82, 236)"
            ]
           },
           "orientation": "h",
           "textangle": 0,
           "textposition": "outside",
           "texttemplate": "%{y}<br>%{x:.4s}",
           "type": "bar",
           "x": [
            7,
            7,
            10,
            17,
            17
           ],
           "y": [
            "cake",
            "oven",
            "bread",
            "baking",
            "food-safety"
           ]
          }
         ],
         "layout": {
          "bargap": 0.15,
          "font": {
           "size": 14
          },
          "plot_bgcolor": "#FFFFFF",
          "title": {
           "text": "Popular tags on Cooking StackOverflow"
          },
          "xaxis": {
           "range": [
            0,
            41
           ],
           "showline": true,
           "visible": true
          },
          "yaxis": {
           "showline": false,
           "visible": true
          }
         },
         "name": "2018-01"
        },
        {
         "data": [
          {
           "cliponaxis": false,
           "hoverinfo": "all",
           "hovertemplate": "<extra></extra>",
           "marker": {
            "color": [
             "rgb(226, 182, 125)",
             "rgb(235, 106, 147)",
             "rgb(49, 26, 220)",
             "rgb(173, 194, 37)",
             "rgb(6, 82, 236)"
            ]
           },
           "orientation": "h",
           "textangle": 0,
           "textposition": "outside",
           "texttemplate": "%{y}<br>%{x:.4s}",
           "type": "bar",
           "x": [
            6,
            6,
            6,
            13,
            17
           ],
           "y": [
            "meat",
            "beef",
            "substitutions",
            "baking",
            "food-safety"
           ]
          }
         ],
         "layout": {
          "bargap": 0.15,
          "font": {
           "size": 14
          },
          "plot_bgcolor": "#FFFFFF",
          "title": {
           "text": "Popular tags on Cooking StackOverflow"
          },
          "xaxis": {
           "range": [
            0,
            41
           ],
           "showline": true,
           "visible": true
          },
          "yaxis": {
           "showline": false,
           "visible": true
          }
         },
         "name": "2018-02"
        },
        {
         "data": [
          {
           "cliponaxis": false,
           "hoverinfo": "all",
           "hovertemplate": "<extra></extra>",
           "marker": {
            "color": [
             "rgb(153, 128, 56)",
             "rgb(87, 117, 230)",
             "rgb(6, 82, 236)",
             "rgb(229, 157, 175)",
             "rgb(173, 194, 37)"
            ]
           },
           "orientation": "h",
           "textangle": 0,
           "textposition": "outside",
           "texttemplate": "%{y}<br>%{x:.4s}",
           "type": "bar",
           "x": [
            6,
            11,
            17,
            18,
            19
           ],
           "y": [
            "oil",
            "equipment",
            "food-safety",
            "bread",
            "baking"
           ]
          }
         ],
         "layout": {
          "bargap": 0.15,
          "font": {
           "size": 14
          },
          "plot_bgcolor": "#FFFFFF",
          "title": {
           "text": "Popular tags on Cooking StackOverflow"
          },
          "xaxis": {
           "range": [
            0,
            41
           ],
           "showline": true,
           "visible": true
          },
          "yaxis": {
           "showline": false,
           "visible": true
          }
         },
         "name": "2018-03"
        },
        {
         "data": [
          {
           "cliponaxis": false,
           "hoverinfo": "all",
           "hovertemplate": "<extra></extra>",
           "marker": {
            "color": [
             "rgb(87, 117, 230)",
             "rgb(229, 157, 175)",
             "rgb(49, 26, 220)",
             "rgb(173, 194, 37)",
             "rgb(6, 82, 236)"
            ]
           },
           "orientation": "h",
           "textangle": 0,
           "textposition": "outside",
           "texttemplate": "%{y}<br>%{x:.4s}",
           "type": "bar",
           "x": [
            10,
            10,
            10,
            11,
            14
           ],
           "y": [
            "equipment",
            "bread",
            "substitutions",
            "baking",
            "food-safety"
           ]
          }
         ],
         "layout": {
          "bargap": 0.15,
          "font": {
           "size": 14
          },
          "plot_bgcolor": "#FFFFFF",
          "title": {
           "text": "Popular tags on Cooking StackOverflow"
          },
          "xaxis": {
           "range": [
            0,
            41
           ],
           "showline": true,
           "visible": true
          },
          "yaxis": {
           "showline": false,
           "visible": true
          }
         },
         "name": "2018-04"
        },
        {
         "data": [
          {
           "cliponaxis": false,
           "hoverinfo": "all",
           "hovertemplate": "<extra></extra>",
           "marker": {
            "color": [
             "rgb(146, 149, 97)",
             "rgb(229, 157, 175)",
             "rgb(27, 107, 166)",
             "rgb(6, 82, 236)",
             "rgb(173, 194, 37)"
            ]
           },
           "orientation": "h",
           "textangle": 0,
           "textposition": "outside",
           "texttemplate": "%{y}<br>%{x:.4s}",
           "type": "bar",
           "x": [
            6,
            6,
            8,
            10,
            14
           ],
           "y": [
            "cheese",
            "bread",
            "pizza",
            "food-safety",
            "baking"
           ]
          }
         ],
         "layout": {
          "bargap": 0.15,
          "font": {
           "size": 14
          },
          "plot_bgcolor": "#FFFFFF",
          "title": {
           "text": "Popular tags on Cooking StackOverflow"
          },
          "xaxis": {
           "range": [
            0,
            41
           ],
           "showline": true,
           "visible": true
          },
          "yaxis": {
           "showline": false,
           "visible": true
          }
         },
         "name": "2018-05"
        },
        {
         "data": [
          {
           "cliponaxis": false,
           "hoverinfo": "all",
           "hovertemplate": "<extra></extra>",
           "marker": {
            "color": [
             "rgb(153, 128, 56)",
             "rgb(87, 117, 230)",
             "rgb(173, 194, 37)",
             "rgb(229, 157, 175)",
             "rgb(6, 82, 236)"
            ]
           },
           "orientation": "h",
           "textangle": 0,
           "textposition": "outside",
           "texttemplate": "%{y}<br>%{x:.4s}",
           "type": "bar",
           "x": [
            7,
            7,
            8,
            10,
            11
           ],
           "y": [
            "oil",
            "equipment",
            "baking",
            "bread",
            "food-safety"
           ]
          }
         ],
         "layout": {
          "bargap": 0.15,
          "font": {
           "size": 14
          },
          "plot_bgcolor": "#FFFFFF",
          "title": {
           "text": "Popular tags on Cooking StackOverflow"
          },
          "xaxis": {
           "range": [
            0,
            41
           ],
           "showline": true,
           "visible": true
          },
          "yaxis": {
           "showline": false,
           "visible": true
          }
         },
         "name": "2018-06"
        },
        {
         "data": [
          {
           "cliponaxis": false,
           "hoverinfo": "all",
           "hovertemplate": "<extra></extra>",
           "marker": {
            "color": [
             "rgb(202, 45, 177)",
             "rgb(204, 154, 119)",
             "rgb(78, 227, 143)",
             "rgb(87, 117, 230)",
             "rgb(6, 82, 236)"
            ]
           },
           "orientation": "h",
           "textangle": 0,
           "textposition": "outside",
           "texttemplate": "%{y}<br>%{x:.4s}",
           "type": "bar",
           "x": [
            7,
            7,
            8,
            9,
            15
           ],
           "y": [
            "chocolate",
            "food-identification",
            "fruit",
            "equipment",
            "food-safety"
           ]
          }
         ],
         "layout": {
          "bargap": 0.15,
          "font": {
           "size": 14
          },
          "plot_bgcolor": "#FFFFFF",
          "title": {
           "text": "Popular tags on Cooking StackOverflow"
          },
          "xaxis": {
           "range": [
            0,
            41
           ],
           "showline": true,
           "visible": true
          },
          "yaxis": {
           "showline": false,
           "visible": true
          }
         },
         "name": "2018-07"
        },
        {
         "data": [
          {
           "cliponaxis": false,
           "hoverinfo": "all",
           "hovertemplate": "<extra></extra>",
           "marker": {
            "color": [
             "rgb(63, 234, 36)",
             "rgb(229, 157, 175)",
             "rgb(49, 26, 220)",
             "rgb(173, 194, 37)",
             "rgb(6, 82, 236)"
            ]
           },
           "orientation": "h",
           "textangle": 0,
           "textposition": "outside",
           "texttemplate": "%{y}<br>%{x:.4s}",
           "type": "bar",
           "x": [
            7,
            7,
            8,
            13,
            17
           ],
           "y": [
            "sourdough",
            "bread",
            "substitutions",
            "baking",
            "food-safety"
           ]
          }
         ],
         "layout": {
          "bargap": 0.15,
          "font": {
           "size": 14
          },
          "plot_bgcolor": "#FFFFFF",
          "title": {
           "text": "Popular tags on Cooking StackOverflow"
          },
          "xaxis": {
           "range": [
            0,
            41
           ],
           "showline": true,
           "visible": true
          },
          "yaxis": {
           "showline": false,
           "visible": true
          }
         },
         "name": "2018-08"
        },
        {
         "data": [
          {
           "cliponaxis": false,
           "hoverinfo": "all",
           "hovertemplate": "<extra></extra>",
           "marker": {
            "color": [
             "rgb(163, 158, 108)",
             "rgb(202, 45, 177)",
             "rgb(229, 157, 175)",
             "rgb(173, 194, 37)",
             "rgb(6, 82, 236)"
            ]
           },
           "orientation": "h",
           "textangle": 0,
           "textposition": "outside",
           "texttemplate": "%{y}<br>%{x:.4s}",
           "type": "bar",
           "x": [
            6,
            6,
            9,
            15,
            17
           ],
           "y": [
            "temperature",
            "chocolate",
            "bread",
            "baking",
            "food-safety"
           ]
          }
         ],
         "layout": {
          "bargap": 0.15,
          "font": {
           "size": 14
          },
          "plot_bgcolor": "#FFFFFF",
          "title": {
           "text": "Popular tags on Cooking StackOverflow"
          },
          "xaxis": {
           "range": [
            0,
            41
           ],
           "showline": true,
           "visible": true
          },
          "yaxis": {
           "showline": false,
           "visible": true
          }
         },
         "name": "2018-09"
        },
        {
         "data": [
          {
           "cliponaxis": false,
           "hoverinfo": "all",
           "hovertemplate": "<extra></extra>",
           "marker": {
            "color": [
             "rgb(12, 125, 76)",
             "rgb(229, 157, 175)",
             "rgb(241, 91, 8)",
             "rgb(173, 194, 37)",
             "rgb(6, 82, 236)"
            ]
           },
           "orientation": "h",
           "textangle": 0,
           "textposition": "outside",
           "texttemplate": "%{y}<br>%{x:.4s}",
           "type": "bar",
           "x": [
            9,
            10,
            11,
            16,
            21
           ],
           "y": [
            "sauce",
            "bread",
            "pasta",
            "baking",
            "food-safety"
           ]
          }
         ],
         "layout": {
          "bargap": 0.15,
          "font": {
           "size": 14
          },
          "plot_bgcolor": "#FFFFFF",
          "title": {
           "text": "Popular tags on Cooking StackOverflow"
          },
          "xaxis": {
           "range": [
            0,
            41
           ],
           "showline": true,
           "visible": true
          },
          "yaxis": {
           "showline": false,
           "visible": true
          }
         },
         "name": "2018-10"
        },
        {
         "data": [
          {
           "cliponaxis": false,
           "hoverinfo": "all",
           "hovertemplate": "<extra></extra>",
           "marker": {
            "color": [
             "rgb(49, 26, 220)",
             "rgb(151, 159, 12)",
             "rgb(75, 236, 250)",
             "rgb(6, 82, 236)",
             "rgb(173, 194, 37)"
            ]
           },
           "orientation": "h",
           "textangle": 0,
           "textposition": "outside",
           "texttemplate": "%{y}<br>%{x:.4s}",
           "type": "bar",
           "x": [
            9,
            9,
            12,
            24,
            33
           ],
           "y": [
            "substitutions",
            "rice",
            "food-science",
            "food-safety",
            "baking"
           ]
          }
         ],
         "layout": {
          "bargap": 0.15,
          "font": {
           "size": 14
          },
          "plot_bgcolor": "#FFFFFF",
          "title": {
           "text": "Popular tags on Cooking StackOverflow"
          },
          "xaxis": {
           "range": [
            0,
            41
           ],
           "showline": true,
           "visible": true
          },
          "yaxis": {
           "showline": false,
           "visible": true
          }
         },
         "name": "2018-11"
        },
        {
         "data": [
          {
           "cliponaxis": false,
           "hoverinfo": "all",
           "hovertemplate": "<extra></extra>",
           "marker": {
            "color": [
             "rgb(229, 157, 175)",
             "rgb(87, 117, 230)",
             "rgb(49, 26, 220)",
             "rgb(6, 82, 236)",
             "rgb(173, 194, 37)"
            ]
           },
           "orientation": "h",
           "textangle": 0,
           "textposition": "outside",
           "texttemplate": "%{y}<br>%{x:.4s}",
           "type": "bar",
           "x": [
            11,
            11,
            14,
            17,
            31
           ],
           "y": [
            "bread",
            "equipment",
            "substitutions",
            "food-safety",
            "baking"
           ]
          }
         ],
         "layout": {
          "bargap": 0.15,
          "font": {
           "size": 14
          },
          "plot_bgcolor": "#FFFFFF",
          "title": {
           "text": "Popular tags on Cooking StackOverflow"
          },
          "xaxis": {
           "range": [
            0,
            41
           ],
           "showline": true,
           "visible": true
          },
          "yaxis": {
           "showline": false,
           "visible": true
          }
         },
         "name": "2018-12"
        },
        {
         "data": [
          {
           "cliponaxis": false,
           "hoverinfo": "all",
           "hovertemplate": "<extra></extra>",
           "marker": {
            "color": [
             "rgb(49, 26, 220)",
             "rgb(87, 117, 230)",
             "rgb(6, 82, 236)",
             "rgb(229, 157, 175)",
             "rgb(173, 194, 37)"
            ]
           },
           "orientation": "h",
           "textangle": 0,
           "textposition": "outside",
           "texttemplate": "%{y}<br>%{x:.4s}",
           "type": "bar",
           "x": [
            10,
            12,
            15,
            17,
            23
           ],
           "y": [
            "substitutions",
            "equipment",
            "food-safety",
            "bread",
            "baking"
           ]
          }
         ],
         "layout": {
          "bargap": 0.15,
          "font": {
           "size": 14
          },
          "plot_bgcolor": "#FFFFFF",
          "title": {
           "text": "Popular tags on Cooking StackOverflow"
          },
          "xaxis": {
           "range": [
            0,
            41
           ],
           "showline": true,
           "visible": true
          },
          "yaxis": {
           "showline": false,
           "visible": true
          }
         },
         "name": "2019-01"
        },
        {
         "data": [
          {
           "cliponaxis": false,
           "hoverinfo": "all",
           "hovertemplate": "<extra></extra>",
           "marker": {
            "color": [
             "rgb(229, 157, 175)",
             "rgb(145, 213, 126)",
             "rgb(49, 26, 220)",
             "rgb(6, 82, 236)",
             "rgb(173, 194, 37)"
            ]
           },
           "orientation": "h",
           "textangle": 0,
           "textposition": "outside",
           "texttemplate": "%{y}<br>%{x:.4s}",
           "type": "bar",
           "x": [
            6,
            6,
            6,
            13,
            16
           ],
           "y": [
            "bread",
            "chicken",
            "substitutions",
            "food-safety",
            "baking"
           ]
          }
         ],
         "layout": {
          "bargap": 0.15,
          "font": {
           "size": 14
          },
          "plot_bgcolor": "#FFFFFF",
          "title": {
           "text": "Popular tags on Cooking StackOverflow"
          },
          "xaxis": {
           "range": [
            0,
            41
           ],
           "showline": true,
           "visible": true
          },
          "yaxis": {
           "showline": false,
           "visible": true
          }
         },
         "name": "2019-02"
        },
        {
         "data": [
          {
           "cliponaxis": false,
           "hoverinfo": "all",
           "hovertemplate": "<extra></extra>",
           "marker": {
            "color": [
             "rgb(18, 224, 48)",
             "rgb(87, 117, 230)",
             "rgb(229, 157, 175)",
             "rgb(6, 82, 236)",
             "rgb(173, 194, 37)"
            ]
           },
           "orientation": "h",
           "textangle": 0,
           "textposition": "outside",
           "texttemplate": "%{y}<br>%{x:.4s}",
           "type": "bar",
           "x": [
            5,
            7,
            8,
            16,
            21
           ],
           "y": [
            "sugar",
            "equipment",
            "bread",
            "food-safety",
            "baking"
           ]
          }
         ],
         "layout": {
          "bargap": 0.15,
          "font": {
           "size": 14
          },
          "plot_bgcolor": "#FFFFFF",
          "title": {
           "text": "Popular tags on Cooking StackOverflow"
          },
          "xaxis": {
           "range": [
            0,
            41
           ],
           "showline": true,
           "visible": true
          },
          "yaxis": {
           "showline": false,
           "visible": true
          }
         },
         "name": "2019-03"
        },
        {
         "data": [
          {
           "cliponaxis": false,
           "hoverinfo": "all",
           "hovertemplate": "<extra></extra>",
           "marker": {
            "color": [
             "rgb(57, 123, 39)",
             "rgb(49, 26, 220)",
             "rgb(229, 157, 175)",
             "rgb(173, 194, 37)",
             "rgb(6, 82, 236)"
            ]
           },
           "orientation": "h",
           "textangle": 0,
           "textposition": "outside",
           "texttemplate": "%{y}<br>%{x:.4s}",
           "type": "bar",
           "x": [
            7,
            8,
            9,
            13,
            15
           ],
           "y": [
            "sous-vide",
            "substitutions",
            "bread",
            "baking",
            "food-safety"
           ]
          }
         ],
         "layout": {
          "bargap": 0.15,
          "font": {
           "size": 14
          },
          "plot_bgcolor": "#FFFFFF",
          "title": {
           "text": "Popular tags on Cooking StackOverflow"
          },
          "xaxis": {
           "range": [
            0,
            41
           ],
           "showline": true,
           "visible": true
          },
          "yaxis": {
           "showline": false,
           "visible": true
          }
         },
         "name": "2019-04"
        },
        {
         "data": [
          {
           "cliponaxis": false,
           "hoverinfo": "all",
           "hovertemplate": "<extra></extra>",
           "marker": {
            "color": [
             "rgb(241, 91, 8)",
             "rgb(229, 157, 175)",
             "rgb(49, 26, 220)",
             "rgb(173, 194, 37)",
             "rgb(6, 82, 236)"
            ]
           },
           "orientation": "h",
           "textangle": 0,
           "textposition": "outside",
           "texttemplate": "%{y}<br>%{x:.4s}",
           "type": "bar",
           "x": [
            6,
            9,
            10,
            12,
            15
           ],
           "y": [
            "pasta",
            "bread",
            "substitutions",
            "baking",
            "food-safety"
           ]
          }
         ],
         "layout": {
          "bargap": 0.15,
          "font": {
           "size": 14
          },
          "plot_bgcolor": "#FFFFFF",
          "title": {
           "text": "Popular tags on Cooking StackOverflow"
          },
          "xaxis": {
           "range": [
            0,
            41
           ],
           "showline": true,
           "visible": true
          },
          "yaxis": {
           "showline": false,
           "visible": true
          }
         },
         "name": "2019-05"
        },
        {
         "data": [
          {
           "cliponaxis": false,
           "hoverinfo": "all",
           "hovertemplate": "<extra></extra>",
           "marker": {
            "color": [
             "rgb(87, 117, 230)",
             "rgb(204, 154, 119)",
             "rgb(229, 157, 175)",
             "rgb(6, 82, 236)",
             "rgb(173, 194, 37)"
            ]
           },
           "orientation": "h",
           "textangle": 0,
           "textposition": "outside",
           "texttemplate": "%{y}<br>%{x:.4s}",
           "type": "bar",
           "x": [
            6,
            6,
            12,
            17,
            17
           ],
           "y": [
            "equipment",
            "food-identification",
            "bread",
            "food-safety",
            "baking"
           ]
          }
         ],
         "layout": {
          "bargap": 0.15,
          "font": {
           "size": 14
          },
          "plot_bgcolor": "#FFFFFF",
          "title": {
           "text": "Popular tags on Cooking StackOverflow"
          },
          "xaxis": {
           "range": [
            0,
            41
           ],
           "showline": true,
           "visible": true
          },
          "yaxis": {
           "showline": false,
           "visible": true
          }
         },
         "name": "2019-06"
        },
        {
         "data": [
          {
           "cliponaxis": false,
           "hoverinfo": "all",
           "hovertemplate": "<extra></extra>",
           "marker": {
            "color": [
             "rgb(49, 26, 220)",
             "rgb(200, 141, 123)",
             "rgb(229, 157, 175)",
             "rgb(173, 194, 37)",
             "rgb(6, 82, 236)"
            ]
           },
           "orientation": "h",
           "textangle": 0,
           "textposition": "outside",
           "texttemplate": "%{y}<br>%{x:.4s}",
           "type": "bar",
           "x": [
            9,
            9,
            13,
            15,
            19
           ],
           "y": [
            "substitutions",
            "cake",
            "bread",
            "baking",
            "food-safety"
           ]
          }
         ],
         "layout": {
          "bargap": 0.15,
          "font": {
           "size": 14
          },
          "plot_bgcolor": "#FFFFFF",
          "title": {
           "text": "Popular tags on Cooking StackOverflow"
          },
          "xaxis": {
           "range": [
            0,
            41
           ],
           "showline": true,
           "visible": true
          },
          "yaxis": {
           "showline": false,
           "visible": true
          }
         },
         "name": "2019-07"
        },
        {
         "data": [
          {
           "cliponaxis": false,
           "hoverinfo": "all",
           "hovertemplate": "<extra></extra>",
           "marker": {
            "color": [
             "rgb(75, 236, 250)",
             "rgb(229, 157, 175)",
             "rgb(145, 213, 126)",
             "rgb(173, 194, 37)",
             "rgb(6, 82, 236)"
            ]
           },
           "orientation": "h",
           "textangle": 0,
           "textposition": "outside",
           "texttemplate": "%{y}<br>%{x:.4s}",
           "type": "bar",
           "x": [
            7,
            8,
            9,
            16,
            24
           ],
           "y": [
            "food-science",
            "bread",
            "chicken",
            "baking",
            "food-safety"
           ]
          }
         ],
         "layout": {
          "bargap": 0.15,
          "font": {
           "size": 14
          },
          "plot_bgcolor": "#FFFFFF",
          "title": {
           "text": "Popular tags on Cooking StackOverflow"
          },
          "xaxis": {
           "range": [
            0,
            41
           ],
           "showline": true,
           "visible": true
          },
          "yaxis": {
           "showline": false,
           "visible": true
          }
         },
         "name": "2019-08"
        },
        {
         "data": [
          {
           "cliponaxis": false,
           "hoverinfo": "all",
           "hovertemplate": "<extra></extra>",
           "marker": {
            "color": [
             "rgb(229, 157, 175)",
             "rgb(49, 26, 220)",
             "rgb(125, 23, 115)",
             "rgb(173, 194, 37)",
             "rgb(6, 82, 236)"
            ]
           },
           "orientation": "h",
           "textangle": 0,
           "textposition": "outside",
           "texttemplate": "%{y}<br>%{x:.4s}",
           "type": "bar",
           "x": [
            5,
            7,
            7,
            14,
            21
           ],
           "y": [
            "bread",
            "substitutions",
            "eggs",
            "baking",
            "food-safety"
           ]
          }
         ],
         "layout": {
          "bargap": 0.15,
          "font": {
           "size": 14
          },
          "plot_bgcolor": "#FFFFFF",
          "title": {
           "text": "Popular tags on Cooking StackOverflow"
          },
          "xaxis": {
           "range": [
            0,
            41
           ],
           "showline": true,
           "visible": true
          },
          "yaxis": {
           "showline": false,
           "visible": true
          }
         },
         "name": "2019-09"
        },
        {
         "data": [
          {
           "cliponaxis": false,
           "hoverinfo": "all",
           "hovertemplate": "<extra></extra>",
           "marker": {
            "color": [
             "rgb(49, 26, 220)",
             "rgb(50, 2, 102)",
             "rgb(229, 157, 175)",
             "rgb(173, 194, 37)",
             "rgb(6, 82, 236)"
            ]
           },
           "orientation": "h",
           "textangle": 0,
           "textposition": "outside",
           "texttemplate": "%{y}<br>%{x:.4s}",
           "type": "bar",
           "x": [
            6,
            8,
            11,
            18,
            19
           ],
           "y": [
            "substitutions",
            "fermentation",
            "bread",
            "baking",
            "food-safety"
           ]
          }
         ],
         "layout": {
          "bargap": 0.15,
          "font": {
           "size": 14
          },
          "plot_bgcolor": "#FFFFFF",
          "title": {
           "text": "Popular tags on Cooking StackOverflow"
          },
          "xaxis": {
           "range": [
            0,
            41
           ],
           "showline": true,
           "visible": true
          },
          "yaxis": {
           "showline": false,
           "visible": true
          }
         },
         "name": "2019-10"
        },
        {
         "data": [
          {
           "cliponaxis": false,
           "hoverinfo": "all",
           "hovertemplate": "<extra></extra>",
           "marker": {
            "color": [
             "rgb(252, 228, 129)",
             "rgb(158, 189, 105)",
             "rgb(229, 157, 175)",
             "rgb(173, 194, 37)",
             "rgb(6, 82, 236)"
            ]
           },
           "orientation": "h",
           "textangle": 0,
           "textposition": "outside",
           "texttemplate": "%{y}<br>%{x:.4s}",
           "type": "bar",
           "x": [
            9,
            9,
            9,
            14,
            17
           ],
           "y": [
            "canning",
            "food-preservation",
            "bread",
            "baking",
            "food-safety"
           ]
          }
         ],
         "layout": {
          "bargap": 0.15,
          "font": {
           "size": 14
          },
          "plot_bgcolor": "#FFFFFF",
          "title": {
           "text": "Popular tags on Cooking StackOverflow"
          },
          "xaxis": {
           "range": [
            0,
            41
           ],
           "showline": true,
           "visible": true
          },
          "yaxis": {
           "showline": false,
           "visible": true
          }
         },
         "name": "2019-11"
        },
        {
         "data": [
          {
           "cliponaxis": false,
           "hoverinfo": "all",
           "hovertemplate": "<extra></extra>",
           "marker": {
            "color": [
             "rgb(202, 45, 177)",
             "rgb(229, 157, 175)",
             "rgb(49, 26, 220)",
             "rgb(6, 82, 236)",
             "rgb(173, 194, 37)"
            ]
           },
           "orientation": "h",
           "textangle": 0,
           "textposition": "outside",
           "texttemplate": "%{y}<br>%{x:.4s}",
           "type": "bar",
           "x": [
            6,
            8,
            11,
            13,
            14
           ],
           "y": [
            "chocolate",
            "bread",
            "substitutions",
            "food-safety",
            "baking"
           ]
          }
         ],
         "layout": {
          "bargap": 0.15,
          "font": {
           "size": 14
          },
          "plot_bgcolor": "#FFFFFF",
          "title": {
           "text": "Popular tags on Cooking StackOverflow"
          },
          "xaxis": {
           "range": [
            0,
            41
           ],
           "showline": true,
           "visible": true
          },
          "yaxis": {
           "showline": false,
           "visible": true
          }
         },
         "name": "2019-12"
        },
        {
         "data": [
          {
           "cliponaxis": false,
           "hoverinfo": "all",
           "hovertemplate": "<extra></extra>",
           "marker": {
            "color": [
             "rgb(116, 139, 89)",
             "rgb(49, 26, 220)",
             "rgb(229, 157, 175)",
             "rgb(6, 82, 236)",
             "rgb(173, 194, 37)"
            ]
           },
           "orientation": "h",
           "textangle": 0,
           "textposition": "outside",
           "texttemplate": "%{y}<br>%{x:.4s}",
           "type": "bar",
           "x": [
            7,
            7,
            9,
            9,
            16
           ],
           "y": [
            "fish",
            "substitutions",
            "bread",
            "food-safety",
            "baking"
           ]
          }
         ],
         "layout": {
          "bargap": 0.15,
          "font": {
           "size": 14
          },
          "plot_bgcolor": "#FFFFFF",
          "title": {
           "text": "Popular tags on Cooking StackOverflow"
          },
          "xaxis": {
           "range": [
            0,
            41
           ],
           "showline": true,
           "visible": true
          },
          "yaxis": {
           "showline": false,
           "visible": true
          }
         },
         "name": "2020-01"
        },
        {
         "data": [
          {
           "cliponaxis": false,
           "hoverinfo": "all",
           "hovertemplate": "<extra></extra>",
           "marker": {
            "color": [
             "rgb(75, 184, 27)",
             "rgb(49, 26, 220)",
             "rgb(229, 157, 175)",
             "rgb(173, 194, 37)",
             "rgb(6, 82, 236)"
            ]
           },
           "orientation": "h",
           "textangle": 0,
           "textposition": "outside",
           "texttemplate": "%{y}<br>%{x:.4s}",
           "type": "bar",
           "x": [
            6,
            9,
            11,
            13,
            21
           ],
           "y": [
            "yeast",
            "substitutions",
            "bread",
            "baking",
            "food-safety"
           ]
          }
         ],
         "layout": {
          "bargap": 0.15,
          "font": {
           "size": 14
          },
          "plot_bgcolor": "#FFFFFF",
          "title": {
           "text": "Popular tags on Cooking StackOverflow"
          },
          "xaxis": {
           "range": [
            0,
            41
           ],
           "showline": true,
           "visible": true
          },
          "yaxis": {
           "showline": false,
           "visible": true
          }
         },
         "name": "2020-02"
        },
        {
         "data": [
          {
           "cliponaxis": false,
           "hoverinfo": "all",
           "hovertemplate": "<extra></extra>",
           "marker": {
            "color": [
             "rgb(10, 8, 98)",
             "rgb(49, 26, 220)",
             "rgb(229, 157, 175)",
             "rgb(173, 194, 37)",
             "rgb(6, 82, 236)"
            ]
           },
           "orientation": "h",
           "textangle": 0,
           "textposition": "outside",
           "texttemplate": "%{y}<br>%{x:.4s}",
           "type": "bar",
           "x": [
            8,
            11,
            11,
            12,
            21
           ],
           "y": [
            "dough",
            "substitutions",
            "bread",
            "baking",
            "food-safety"
           ]
          }
         ],
         "layout": {
          "bargap": 0.15,
          "font": {
           "size": 14
          },
          "plot_bgcolor": "#FFFFFF",
          "title": {
           "text": "Popular tags on Cooking StackOverflow"
          },
          "xaxis": {
           "range": [
            0,
            41
           ],
           "showline": true,
           "visible": true
          },
          "yaxis": {
           "showline": false,
           "visible": true
          }
         },
         "name": "2020-03"
        },
        {
         "data": [
          {
           "cliponaxis": false,
           "hoverinfo": "all",
           "hovertemplate": "<extra></extra>",
           "marker": {
            "color": [
             "rgb(49, 26, 220)",
             "rgb(6, 82, 236)",
             "rgb(63, 234, 36)",
             "rgb(229, 157, 175)",
             "rgb(173, 194, 37)"
            ]
           },
           "orientation": "h",
           "textangle": 0,
           "textposition": "outside",
           "texttemplate": "%{y}<br>%{x:.4s}",
           "type": "bar",
           "x": [
            11,
            15,
            15,
            22,
            29
           ],
           "y": [
            "substitutions",
            "food-safety",
            "sourdough",
            "bread",
            "baking"
           ]
          }
         ],
         "layout": {
          "bargap": 0.15,
          "font": {
           "size": 14
          },
          "plot_bgcolor": "#FFFFFF",
          "title": {
           "text": "Popular tags on Cooking StackOverflow"
          },
          "xaxis": {
           "range": [
            0,
            41
           ],
           "showline": true,
           "visible": true
          },
          "yaxis": {
           "showline": false,
           "visible": true
          }
         },
         "name": "2020-04"
        },
        {
         "data": [
          {
           "cliponaxis": false,
           "hoverinfo": "all",
           "hovertemplate": "<extra></extra>",
           "marker": {
            "color": [
             "rgb(10, 8, 98)",
             "rgb(63, 234, 36)",
             "rgb(6, 82, 236)",
             "rgb(173, 194, 37)",
             "rgb(229, 157, 175)"
            ]
           },
           "orientation": "h",
           "textangle": 0,
           "textposition": "outside",
           "texttemplate": "%{y}<br>%{x:.4s}",
           "type": "bar",
           "x": [
            13,
            16,
            21,
            26,
            29
           ],
           "y": [
            "dough",
            "sourdough",
            "food-safety",
            "baking",
            "bread"
           ]
          }
         ],
         "layout": {
          "bargap": 0.15,
          "font": {
           "size": 14
          },
          "plot_bgcolor": "#FFFFFF",
          "title": {
           "text": "Popular tags on Cooking StackOverflow"
          },
          "xaxis": {
           "range": [
            0,
            41
           ],
           "showline": true,
           "visible": true
          },
          "yaxis": {
           "showline": false,
           "visible": true
          }
         },
         "name": "2020-05"
        },
        {
         "data": [
          {
           "cliponaxis": false,
           "hoverinfo": "all",
           "hovertemplate": "<extra></extra>",
           "marker": {
            "color": [
             "rgb(50, 2, 102)",
             "rgb(10, 8, 98)",
             "rgb(229, 157, 175)",
             "rgb(173, 194, 37)",
             "rgb(6, 82, 236)"
            ]
           },
           "orientation": "h",
           "textangle": 0,
           "textposition": "outside",
           "texttemplate": "%{y}<br>%{x:.4s}",
           "type": "bar",
           "x": [
            6,
            10,
            14,
            15,
            18
           ],
           "y": [
            "fermentation",
            "dough",
            "bread",
            "baking",
            "food-safety"
           ]
          }
         ],
         "layout": {
          "bargap": 0.15,
          "font": {
           "size": 14
          },
          "plot_bgcolor": "#FFFFFF",
          "title": {
           "text": "Popular tags on Cooking StackOverflow"
          },
          "xaxis": {
           "range": [
            0,
            41
           ],
           "showline": true,
           "visible": true
          },
          "yaxis": {
           "showline": false,
           "visible": true
          }
         },
         "name": "2020-06"
        },
        {
         "data": [
          {
           "cliponaxis": false,
           "hoverinfo": "all",
           "hovertemplate": "<extra></extra>",
           "marker": {
            "color": [
             "rgb(49, 26, 220)",
             "rgb(87, 117, 230)",
             "rgb(229, 157, 175)",
             "rgb(6, 82, 236)",
             "rgb(173, 194, 37)"
            ]
           },
           "orientation": "h",
           "textangle": 0,
           "textposition": "outside",
           "texttemplate": "%{y}<br>%{x:.4s}",
           "type": "bar",
           "x": [
            8,
            9,
            10,
            11,
            16
           ],
           "y": [
            "substitutions",
            "equipment",
            "bread",
            "food-safety",
            "baking"
           ]
          }
         ],
         "layout": {
          "bargap": 0.15,
          "font": {
           "size": 14
          },
          "plot_bgcolor": "#FFFFFF",
          "title": {
           "text": "Popular tags on Cooking StackOverflow"
          },
          "xaxis": {
           "range": [
            0,
            41
           ],
           "showline": true,
           "visible": true
          },
          "yaxis": {
           "showline": false,
           "visible": true
          }
         },
         "name": "2020-07"
        },
        {
         "data": [
          {
           "cliponaxis": false,
           "hoverinfo": "all",
           "hovertemplate": "<extra></extra>",
           "marker": {
            "color": [
             "rgb(252, 228, 129)",
             "rgb(158, 189, 105)",
             "rgb(229, 157, 175)",
             "rgb(6, 82, 236)",
             "rgb(173, 194, 37)"
            ]
           },
           "orientation": "h",
           "textangle": 0,
           "textposition": "outside",
           "texttemplate": "%{y}<br>%{x:.4s}",
           "type": "bar",
           "x": [
            7,
            10,
            13,
            16,
            18
           ],
           "y": [
            "canning",
            "food-preservation",
            "bread",
            "food-safety",
            "baking"
           ]
          }
         ],
         "layout": {
          "bargap": 0.15,
          "font": {
           "size": 14
          },
          "plot_bgcolor": "#FFFFFF",
          "title": {
           "text": "Popular tags on Cooking StackOverflow"
          },
          "xaxis": {
           "range": [
            0,
            41
           ],
           "showline": true,
           "visible": true
          },
          "yaxis": {
           "showline": false,
           "visible": true
          }
         },
         "name": "2020-08"
        },
        {
         "data": [
          {
           "cliponaxis": false,
           "hoverinfo": "all",
           "hovertemplate": "<extra></extra>",
           "marker": {
            "color": [
             "rgb(87, 117, 230)",
             "rgb(37, 234, 203)",
             "rgb(75, 236, 250)",
             "rgb(6, 82, 236)",
             "rgb(173, 194, 37)"
            ]
           },
           "orientation": "h",
           "textangle": 0,
           "textposition": "outside",
           "texttemplate": "%{y}<br>%{x:.4s}",
           "type": "bar",
           "x": [
            5,
            5,
            7,
            13,
            13
           ],
           "y": [
            "equipment",
            "seafood",
            "food-science",
            "food-safety",
            "baking"
           ]
          }
         ],
         "layout": {
          "bargap": 0.15,
          "font": {
           "size": 14
          },
          "plot_bgcolor": "#FFFFFF",
          "title": {
           "text": "Popular tags on Cooking StackOverflow"
          },
          "xaxis": {
           "range": [
            0,
            41
           ],
           "showline": true,
           "visible": true
          },
          "yaxis": {
           "showline": false,
           "visible": true
          }
         },
         "name": "2020-09"
        },
        {
         "data": [
          {
           "cliponaxis": false,
           "hoverinfo": "all",
           "hovertemplate": "<extra></extra>",
           "marker": {
            "color": [
             "rgb(10, 8, 98)",
             "rgb(87, 117, 230)",
             "rgb(27, 107, 166)",
             "rgb(173, 194, 37)",
             "rgb(6, 82, 236)"
            ]
           },
           "orientation": "h",
           "textangle": 0,
           "textposition": "outside",
           "texttemplate": "%{y}<br>%{x:.4s}",
           "type": "bar",
           "x": [
            6,
            6,
            7,
            12,
            12
           ],
           "y": [
            "dough",
            "equipment",
            "pizza",
            "baking",
            "food-safety"
           ]
          }
         ],
         "layout": {
          "bargap": 0.15,
          "font": {
           "size": 14
          },
          "plot_bgcolor": "#FFFFFF",
          "title": {
           "text": "Popular tags on Cooking StackOverflow"
          },
          "xaxis": {
           "range": [
            0,
            41
           ],
           "showline": true,
           "visible": true
          },
          "yaxis": {
           "showline": false,
           "visible": true
          }
         },
         "name": "2020-10"
        },
        {
         "data": [
          {
           "cliponaxis": false,
           "hoverinfo": "all",
           "hovertemplate": "<extra></extra>",
           "marker": {
            "color": [
             "rgb(49, 26, 220)",
             "rgb(87, 117, 230)",
             "rgb(6, 82, 236)",
             "rgb(229, 157, 175)",
             "rgb(173, 194, 37)"
            ]
           },
           "orientation": "h",
           "textangle": 0,
           "textposition": "outside",
           "texttemplate": "%{y}<br>%{x:.4s}",
           "type": "bar",
           "x": [
            8,
            8,
            9,
            9,
            10
           ],
           "y": [
            "substitutions",
            "equipment",
            "food-safety",
            "bread",
            "baking"
           ]
          }
         ],
         "layout": {
          "bargap": 0.15,
          "font": {
           "size": 14
          },
          "plot_bgcolor": "#FFFFFF",
          "title": {
           "text": "Popular tags on Cooking StackOverflow"
          },
          "xaxis": {
           "range": [
            0,
            41
           ],
           "showline": true,
           "visible": true
          },
          "yaxis": {
           "showline": false,
           "visible": true
          }
         },
         "name": "2020-11"
        },
        {
         "data": [
          {
           "cliponaxis": false,
           "hoverinfo": "all",
           "hovertemplate": "<extra></extra>",
           "marker": {
            "color": [
             "rgb(200, 141, 123)",
             "rgb(6, 82, 236)",
             "rgb(87, 117, 230)",
             "rgb(49, 26, 220)",
             "rgb(173, 194, 37)"
            ]
           },
           "orientation": "h",
           "textangle": 0,
           "textposition": "outside",
           "texttemplate": "%{y}<br>%{x:.4s}",
           "type": "bar",
           "x": [
            8,
            9,
            10,
            10,
            21
           ],
           "y": [
            "cake",
            "food-safety",
            "equipment",
            "substitutions",
            "baking"
           ]
          }
         ],
         "layout": {
          "bargap": 0.15,
          "font": {
           "size": 14
          },
          "plot_bgcolor": "#FFFFFF",
          "title": {
           "text": "Popular tags on Cooking StackOverflow"
          },
          "xaxis": {
           "range": [
            0,
            41
           ],
           "showline": true,
           "visible": true
          },
          "yaxis": {
           "showline": false,
           "visible": true
          }
         },
         "name": "2020-12"
        },
        {
         "data": [
          {
           "cliponaxis": false,
           "hoverinfo": "all",
           "hovertemplate": "<extra></extra>",
           "marker": {
            "color": [
             "rgb(155, 228, 67)",
             "rgb(116, 139, 89)",
             "rgb(173, 194, 37)",
             "rgb(229, 157, 175)",
             "rgb(6, 82, 236)"
            ]
           },
           "orientation": "h",
           "textangle": 0,
           "textposition": "outside",
           "texttemplate": "%{y}<br>%{x:.4s}",
           "type": "bar",
           "x": [
            10,
            11,
            13,
            13,
            16
           ],
           "y": [
            "texture",
            "fish",
            "baking",
            "bread",
            "food-safety"
           ]
          }
         ],
         "layout": {
          "bargap": 0.15,
          "font": {
           "size": 14
          },
          "plot_bgcolor": "#FFFFFF",
          "title": {
           "text": "Popular tags on Cooking StackOverflow"
          },
          "xaxis": {
           "range": [
            0,
            41
           ],
           "showline": true,
           "visible": true
          },
          "yaxis": {
           "showline": false,
           "visible": true
          }
         },
         "name": "2021-01"
        },
        {
         "data": [
          {
           "cliponaxis": false,
           "hoverinfo": "all",
           "hovertemplate": "<extra></extra>",
           "marker": {
            "color": [
             "rgb(235, 106, 147)",
             "rgb(6, 82, 236)",
             "rgb(142, 96, 209)",
             "rgb(49, 26, 220)",
             "rgb(173, 194, 37)"
            ]
           },
           "orientation": "h",
           "textangle": 0,
           "textposition": "outside",
           "texttemplate": "%{y}<br>%{x:.4s}",
           "type": "bar",
           "x": [
            7,
            7,
            8,
            11,
            13
           ],
           "y": [
            "beef",
            "food-safety",
            "flavor",
            "substitutions",
            "baking"
           ]
          }
         ],
         "layout": {
          "bargap": 0.15,
          "font": {
           "size": 14
          },
          "plot_bgcolor": "#FFFFFF",
          "title": {
           "text": "Popular tags on Cooking StackOverflow"
          },
          "xaxis": {
           "range": [
            0,
            41
           ],
           "showline": true,
           "visible": true
          },
          "yaxis": {
           "showline": false,
           "visible": true
          }
         },
         "name": "2021-02"
        },
        {
         "data": [
          {
           "cliponaxis": false,
           "hoverinfo": "all",
           "hovertemplate": "<extra></extra>",
           "marker": {
            "color": [
             "rgb(49, 26, 220)",
             "rgb(226, 182, 125)",
             "rgb(142, 96, 209)",
             "rgb(87, 117, 230)",
             "rgb(6, 82, 236)"
            ]
           },
           "orientation": "h",
           "textangle": 0,
           "textposition": "outside",
           "texttemplate": "%{y}<br>%{x:.4s}",
           "type": "bar",
           "x": [
            7,
            7,
            8,
            8,
            9
           ],
           "y": [
            "substitutions",
            "meat",
            "flavor",
            "equipment",
            "food-safety"
           ]
          }
         ],
         "layout": {
          "bargap": 0.15,
          "font": {
           "size": 14
          },
          "plot_bgcolor": "#FFFFFF",
          "title": {
           "text": "Popular tags on Cooking StackOverflow"
          },
          "xaxis": {
           "range": [
            0,
            41
           ],
           "showline": true,
           "visible": true
          },
          "yaxis": {
           "showline": false,
           "visible": true
          }
         },
         "name": "2021-03"
        },
        {
         "data": [
          {
           "cliponaxis": false,
           "hoverinfo": "all",
           "hovertemplate": "<extra></extra>",
           "marker": {
            "color": [
             "rgb(142, 96, 209)",
             "rgb(173, 194, 37)",
             "rgb(4, 50, 196)",
             "rgb(6, 82, 236)",
             "rgb(87, 117, 230)"
            ]
           },
           "orientation": "h",
           "textangle": 0,
           "textposition": "outside",
           "texttemplate": "%{y}<br>%{x:.4s}",
           "type": "bar",
           "x": [
            8,
            8,
            8,
            9,
            17
           ],
           "y": [
            "flavor",
            "baking",
            "cleaning",
            "food-safety",
            "equipment"
           ]
          }
         ],
         "layout": {
          "bargap": 0.15,
          "font": {
           "size": 14
          },
          "plot_bgcolor": "#FFFFFF",
          "title": {
           "text": "Popular tags on Cooking StackOverflow"
          },
          "xaxis": {
           "range": [
            0,
            41
           ],
           "showline": true,
           "visible": true
          },
          "yaxis": {
           "showline": false,
           "visible": true
          }
         },
         "name": "2021-04"
        },
        {
         "data": [
          {
           "cliponaxis": false,
           "hoverinfo": "all",
           "hovertemplate": "<extra></extra>",
           "marker": {
            "color": [
             "rgb(6, 82, 236)",
             "rgb(87, 117, 230)",
             "rgb(226, 182, 125)",
             "rgb(229, 157, 175)",
             "rgb(173, 194, 37)"
            ]
           },
           "orientation": "h",
           "textangle": 0,
           "textposition": "outside",
           "texttemplate": "%{y}<br>%{x:.4s}",
           "type": "bar",
           "x": [
            7,
            7,
            7,
            7,
            14
           ],
           "y": [
            "food-safety",
            "equipment",
            "meat",
            "bread",
            "baking"
           ]
          }
         ],
         "layout": {
          "bargap": 0.15,
          "font": {
           "size": 14
          },
          "plot_bgcolor": "#FFFFFF",
          "title": {
           "text": "Popular tags on Cooking StackOverflow"
          },
          "xaxis": {
           "range": [
            0,
            41
           ],
           "showline": true,
           "visible": true
          },
          "yaxis": {
           "showline": false,
           "visible": true
          }
         },
         "name": "2021-05"
        },
        {
         "data": [
          {
           "cliponaxis": false,
           "hoverinfo": "all",
           "hovertemplate": "<extra></extra>",
           "marker": {
            "color": [
             "rgb(50, 2, 102)",
             "rgb(87, 117, 230)",
             "rgb(173, 194, 37)",
             "rgb(6, 82, 236)",
             "rgb(226, 182, 125)"
            ]
           },
           "orientation": "h",
           "textangle": 0,
           "textposition": "outside",
           "texttemplate": "%{y}<br>%{x:.4s}",
           "type": "bar",
           "x": [
            4,
            10,
            10,
            11,
            11
           ],
           "y": [
            "fermentation",
            "equipment",
            "baking",
            "food-safety",
            "meat"
           ]
          }
         ],
         "layout": {
          "bargap": 0.15,
          "font": {
           "size": 14
          },
          "plot_bgcolor": "#FFFFFF",
          "title": {
           "text": "Popular tags on Cooking StackOverflow"
          },
          "xaxis": {
           "range": [
            0,
            41
           ],
           "showline": true,
           "visible": true
          },
          "yaxis": {
           "showline": false,
           "visible": true
          }
         },
         "name": "2021-06"
        },
        {
         "data": [
          {
           "cliponaxis": false,
           "hoverinfo": "all",
           "hovertemplate": "<extra></extra>",
           "marker": {
            "color": [
             "rgb(142, 96, 209)",
             "rgb(49, 26, 220)",
             "rgb(87, 117, 230)",
             "rgb(173, 194, 37)",
             "rgb(6, 82, 236)"
            ]
           },
           "orientation": "h",
           "textangle": 0,
           "textposition": "outside",
           "texttemplate": "%{y}<br>%{x:.4s}",
           "type": "bar",
           "x": [
            5,
            5,
            9,
            12,
            13
           ],
           "y": [
            "flavor",
            "substitutions",
            "equipment",
            "baking",
            "food-safety"
           ]
          }
         ],
         "layout": {
          "bargap": 0.15,
          "font": {
           "size": 14
          },
          "plot_bgcolor": "#FFFFFF",
          "title": {
           "text": "Popular tags on Cooking StackOverflow"
          },
          "xaxis": {
           "range": [
            0,
            41
           ],
           "showline": true,
           "visible": true
          },
          "yaxis": {
           "showline": false,
           "visible": true
          }
         },
         "name": "2021-07"
        },
        {
         "data": [
          {
           "cliponaxis": false,
           "hoverinfo": "all",
           "hovertemplate": "<extra></extra>",
           "marker": {
            "color": [
             "rgb(151, 159, 12)",
             "rgb(241, 91, 8)",
             "rgb(229, 157, 175)",
             "rgb(173, 194, 37)",
             "rgb(6, 82, 236)"
            ]
           },
           "orientation": "h",
           "textangle": 0,
           "textposition": "outside",
           "texttemplate": "%{y}<br>%{x:.4s}",
           "type": "bar",
           "x": [
            5,
            5,
            6,
            6,
            15
           ],
           "y": [
            "rice",
            "pasta",
            "bread",
            "baking",
            "food-safety"
           ]
          }
         ],
         "layout": {
          "bargap": 0.15,
          "font": {
           "size": 14
          },
          "plot_bgcolor": "#FFFFFF",
          "title": {
           "text": "Popular tags on Cooking StackOverflow"
          },
          "xaxis": {
           "range": [
            0,
            41
           ],
           "showline": true,
           "visible": true
          },
          "yaxis": {
           "showline": false,
           "visible": true
          }
         },
         "name": "2021-08"
        },
        {
         "data": [
          {
           "cliponaxis": false,
           "hoverinfo": "all",
           "hovertemplate": "<extra></extra>",
           "marker": {
            "color": [
             "rgb(27, 107, 166)",
             "rgb(229, 157, 175)",
             "rgb(158, 189, 105)",
             "rgb(6, 82, 236)",
             "rgb(173, 194, 37)"
            ]
           },
           "orientation": "h",
           "textangle": 0,
           "textposition": "outside",
           "texttemplate": "%{y}<br>%{x:.4s}",
           "type": "bar",
           "x": [
            4,
            5,
            6,
            7,
            9
           ],
           "y": [
            "pizza",
            "bread",
            "food-preservation",
            "food-safety",
            "baking"
           ]
          }
         ],
         "layout": {
          "bargap": 0.15,
          "font": {
           "size": 14
          },
          "plot_bgcolor": "#FFFFFF",
          "title": {
           "text": "Popular tags on Cooking StackOverflow"
          },
          "xaxis": {
           "range": [
            0,
            41
           ],
           "showline": true,
           "visible": true
          },
          "yaxis": {
           "showline": false,
           "visible": true
          }
         },
         "name": "2021-09"
        },
        {
         "data": [
          {
           "cliponaxis": false,
           "hoverinfo": "all",
           "hovertemplate": "<extra></extra>",
           "marker": {
            "color": [
             "rgb(125, 23, 115)",
             "rgb(49, 26, 220)",
             "rgb(173, 194, 37)",
             "rgb(145, 213, 126)",
             "rgb(6, 82, 236)"
            ]
           },
           "orientation": "h",
           "textangle": 0,
           "textposition": "outside",
           "texttemplate": "%{y}<br>%{x:.4s}",
           "type": "bar",
           "x": [
            6,
            7,
            7,
            8,
            14
           ],
           "y": [
            "eggs",
            "substitutions",
            "baking",
            "chicken",
            "food-safety"
           ]
          }
         ],
         "layout": {
          "bargap": 0.15,
          "font": {
           "size": 14
          },
          "plot_bgcolor": "#FFFFFF",
          "title": {
           "text": "Popular tags on Cooking StackOverflow"
          },
          "xaxis": {
           "range": [
            0,
            41
           ],
           "showline": true,
           "visible": true
          },
          "yaxis": {
           "showline": false,
           "visible": true
          }
         },
         "name": "2021-10"
        },
        {
         "data": [
          {
           "cliponaxis": false,
           "hoverinfo": "all",
           "hovertemplate": "<extra></extra>",
           "marker": {
            "color": [
             "rgb(208, 95, 18)",
             "rgb(138, 126, 169)",
             "rgb(75, 236, 250)",
             "rgb(87, 117, 230)",
             "rgb(6, 82, 236)"
            ]
           },
           "orientation": "h",
           "textangle": 0,
           "textposition": "outside",
           "texttemplate": "%{y}<br>%{x:.4s}",
           "type": "bar",
           "x": [
            4,
            4,
            4,
            5,
            12
           ],
           "y": [
            "coffee",
            "soup",
            "food-science",
            "equipment",
            "food-safety"
           ]
          }
         ],
         "layout": {
          "bargap": 0.15,
          "font": {
           "size": 14
          },
          "plot_bgcolor": "#FFFFFF",
          "title": {
           "text": "Popular tags on Cooking StackOverflow"
          },
          "xaxis": {
           "range": [
            0,
            41
           ],
           "showline": true,
           "visible": true
          },
          "yaxis": {
           "showline": false,
           "visible": true
          }
         },
         "name": "2021-11"
        },
        {
         "data": [
          {
           "cliponaxis": false,
           "hoverinfo": "all",
           "hovertemplate": "<extra></extra>",
           "marker": {
            "color": [
             "rgb(125, 23, 115)",
             "rgb(10, 8, 98)",
             "rgb(173, 194, 37)",
             "rgb(87, 117, 230)",
             "rgb(6, 82, 236)"
            ]
           },
           "orientation": "h",
           "textangle": 0,
           "textposition": "outside",
           "texttemplate": "%{y}<br>%{x:.4s}",
           "type": "bar",
           "x": [
            4,
            4,
            5,
            6,
            7
           ],
           "y": [
            "eggs",
            "dough",
            "baking",
            "equipment",
            "food-safety"
           ]
          }
         ],
         "layout": {
          "bargap": 0.15,
          "font": {
           "size": 14
          },
          "plot_bgcolor": "#FFFFFF",
          "title": {
           "text": "Popular tags on Cooking StackOverflow"
          },
          "xaxis": {
           "range": [
            0,
            41
           ],
           "showline": true,
           "visible": true
          },
          "yaxis": {
           "showline": false,
           "visible": true
          }
         },
         "name": "2021-12"
        },
        {
         "data": [
          {
           "cliponaxis": false,
           "hoverinfo": "all",
           "hovertemplate": "<extra></extra>",
           "marker": {
            "color": [
             "rgb(123, 74, 140)",
             "rgb(49, 26, 220)",
             "rgb(229, 157, 175)",
             "rgb(6, 82, 236)",
             "rgb(173, 194, 37)"
            ]
           },
           "orientation": "h",
           "textangle": 0,
           "textposition": "outside",
           "texttemplate": "%{y}<br>%{x:.4s}",
           "type": "bar",
           "x": [
            4,
            6,
            6,
            8,
            14
           ],
           "y": [
            "butter",
            "substitutions",
            "bread",
            "food-safety",
            "baking"
           ]
          }
         ],
         "layout": {
          "bargap": 0.15,
          "font": {
           "size": 14
          },
          "plot_bgcolor": "#FFFFFF",
          "title": {
           "text": "Popular tags on Cooking StackOverflow"
          },
          "xaxis": {
           "range": [
            0,
            41
           ],
           "showline": true,
           "visible": true
          },
          "yaxis": {
           "showline": false,
           "visible": true
          }
         },
         "name": "2022-01"
        },
        {
         "data": [
          {
           "cliponaxis": false,
           "hoverinfo": "all",
           "hovertemplate": "<extra></extra>",
           "marker": {
            "color": [
             "rgb(145, 213, 126)",
             "rgb(122, 209, 114)",
             "rgb(75, 236, 250)",
             "rgb(241, 91, 8)",
             "rgb(6, 82, 236)"
            ]
           },
           "orientation": "h",
           "textangle": 0,
           "textposition": "outside",
           "texttemplate": "%{y}<br>%{x:.4s}",
           "type": "bar",
           "x": [
            3,
            4,
            4,
            6,
            7
           ],
           "y": [
            "chicken",
            "oven",
            "food-science",
            "pasta",
            "food-safety"
           ]
          }
         ],
         "layout": {
          "bargap": 0.15,
          "font": {
           "size": 14
          },
          "plot_bgcolor": "#FFFFFF",
          "title": {
           "text": "Popular tags on Cooking StackOverflow"
          },
          "xaxis": {
           "range": [
            0,
            41
           ],
           "showline": true,
           "visible": true
          },
          "yaxis": {
           "showline": false,
           "visible": true
          }
         },
         "name": "2022-02"
        },
        {
         "data": [
          {
           "cliponaxis": false,
           "hoverinfo": "all",
           "hovertemplate": "<extra></extra>",
           "marker": {
            "color": [
             "rgb(75, 184, 27)",
             "rgb(173, 194, 37)",
             "rgb(200, 141, 123)",
             "rgb(229, 157, 175)",
             "rgb(87, 117, 230)"
            ]
           },
           "orientation": "h",
           "textangle": 0,
           "textposition": "outside",
           "texttemplate": "%{y}<br>%{x:.4s}",
           "type": "bar",
           "x": [
            3,
            3,
            3,
            4,
            5
           ],
           "y": [
            "yeast",
            "baking",
            "cake",
            "bread",
            "equipment"
           ]
          }
         ],
         "layout": {
          "bargap": 0.15,
          "font": {
           "size": 14
          },
          "plot_bgcolor": "#FFFFFF",
          "title": {
           "text": "Popular tags on Cooking StackOverflow"
          },
          "xaxis": {
           "range": [
            0,
            41
           ],
           "showline": true,
           "visible": true
          },
          "yaxis": {
           "showline": false,
           "visible": true
          }
         },
         "name": "2022-03"
        },
        {
         "data": [
          {
           "cliponaxis": false,
           "hoverinfo": "all",
           "hovertemplate": "<extra></extra>",
           "marker": {
            "color": [
             "rgb(145, 213, 126)",
             "rgb(49, 26, 220)",
             "rgb(229, 157, 175)",
             "rgb(6, 82, 236)",
             "rgb(173, 194, 37)"
            ]
           },
           "orientation": "h",
           "textangle": 0,
           "textposition": "outside",
           "texttemplate": "%{y}<br>%{x:.4s}",
           "type": "bar",
           "x": [
            4,
            4,
            5,
            7,
            9
           ],
           "y": [
            "chicken",
            "substitutions",
            "bread",
            "food-safety",
            "baking"
           ]
          }
         ],
         "layout": {
          "bargap": 0.15,
          "font": {
           "size": 14
          },
          "plot_bgcolor": "#FFFFFF",
          "title": {
           "text": "Popular tags on Cooking StackOverflow"
          },
          "xaxis": {
           "range": [
            0,
            41
           ],
           "showline": true,
           "visible": true
          },
          "yaxis": {
           "showline": false,
           "visible": true
          }
         },
         "name": "2022-04"
        },
        {
         "data": [
          {
           "cliponaxis": false,
           "hoverinfo": "all",
           "hovertemplate": "<extra></extra>",
           "marker": {
            "color": [
             "rgb(6, 82, 236)",
             "rgb(229, 157, 175)",
             "rgb(200, 141, 123)",
             "rgb(87, 117, 230)",
             "rgb(173, 194, 37)"
            ]
           },
           "orientation": "h",
           "textangle": 0,
           "textposition": "outside",
           "texttemplate": "%{y}<br>%{x:.4s}",
           "type": "bar",
           "x": [
            4,
            4,
            4,
            6,
            6
           ],
           "y": [
            "food-safety",
            "bread",
            "cake",
            "equipment",
            "baking"
           ]
          }
         ],
         "layout": {
          "bargap": 0.15,
          "font": {
           "size": 14
          },
          "plot_bgcolor": "#FFFFFF",
          "title": {
           "text": "Popular tags on Cooking StackOverflow"
          },
          "xaxis": {
           "range": [
            0,
            41
           ],
           "showline": true,
           "visible": true
          },
          "yaxis": {
           "showline": false,
           "visible": true
          }
         },
         "name": "2022-05"
        },
        {
         "data": [
          {
           "cliponaxis": false,
           "hoverinfo": "all",
           "hovertemplate": "<extra></extra>",
           "marker": {
            "color": [
             "rgb(44, 168, 183)",
             "rgb(173, 194, 37)",
             "rgb(145, 213, 126)",
             "rgb(165, 43, 254)",
             "rgb(6, 82, 236)"
            ]
           },
           "orientation": "h",
           "textangle": 0,
           "textposition": "outside",
           "texttemplate": "%{y}<br>%{x:.4s}",
           "type": "bar",
           "x": [
            3,
            3,
            3,
            5,
            9
           ],
           "y": [
            "tofu",
            "baking",
            "chicken",
            "freezing",
            "food-safety"
           ]
          }
         ],
         "layout": {
          "bargap": 0.15,
          "font": {
           "size": 14
          },
          "plot_bgcolor": "#FFFFFF",
          "title": {
           "text": "Popular tags on Cooking StackOverflow"
          },
          "xaxis": {
           "range": [
            0,
            41
           ],
           "showline": true,
           "visible": true
          },
          "yaxis": {
           "showline": false,
           "visible": true
          }
         },
         "name": "2022-06"
        },
        {
         "data": [
          {
           "cliponaxis": false,
           "hoverinfo": "all",
           "hovertemplate": "<extra></extra>",
           "marker": {
            "color": [
             "rgb(75, 236, 250)",
             "rgb(116, 139, 89)",
             "rgb(163, 158, 108)",
             "rgb(173, 194, 37)",
             "rgb(6, 82, 236)"
            ]
           },
           "orientation": "h",
           "textangle": 0,
           "textposition": "outside",
           "texttemplate": "%{y}<br>%{x:.4s}",
           "type": "bar",
           "x": [
            3,
            4,
            5,
            6,
            9
           ],
           "y": [
            "food-science",
            "fish",
            "temperature",
            "baking",
            "food-safety"
           ]
          }
         ],
         "layout": {
          "bargap": 0.15,
          "font": {
           "size": 14
          },
          "plot_bgcolor": "#FFFFFF",
          "title": {
           "text": "Popular tags on Cooking StackOverflow"
          },
          "xaxis": {
           "range": [
            0,
            41
           ],
           "showline": true,
           "visible": true
          },
          "yaxis": {
           "showline": false,
           "visible": true
          }
         },
         "name": "2022-07"
        },
        {
         "data": [
          {
           "cliponaxis": false,
           "hoverinfo": "all",
           "hovertemplate": "<extra></extra>",
           "marker": {
            "color": [
             "rgb(190, 230, 242)",
             "rgb(8, 64, 100)",
             "rgb(43, 26, 210)",
             "rgb(173, 194, 37)",
             "rgb(6, 82, 236)"
            ]
           },
           "orientation": "h",
           "textangle": 0,
           "textposition": "outside",
           "texttemplate": "%{y}<br>%{x:.4s}",
           "type": "bar",
           "x": [
            4,
            4,
            4,
            9,
            14
           ],
           "y": [
            "garlic",
            "boiling",
            "indian-cuisine",
            "baking",
            "food-safety"
           ]
          }
         ],
         "layout": {
          "bargap": 0.15,
          "font": {
           "size": 14
          },
          "plot_bgcolor": "#FFFFFF",
          "title": {
           "text": "Popular tags on Cooking StackOverflow"
          },
          "xaxis": {
           "range": [
            0,
            41
           ],
           "showline": true,
           "visible": true
          },
          "yaxis": {
           "showline": false,
           "visible": true
          }
         },
         "name": "2022-08"
        },
        {
         "data": [
          {
           "cliponaxis": false,
           "hoverinfo": "all",
           "hovertemplate": "<extra></extra>",
           "marker": {
            "color": [
             "rgb(230, 175, 85)",
             "rgb(229, 157, 175)",
             "rgb(173, 194, 37)",
             "rgb(252, 228, 129)",
             "rgb(6, 82, 236)"
            ]
           },
           "orientation": "h",
           "textangle": 0,
           "textposition": "outside",
           "texttemplate": "%{y}<br>%{x:.4s}",
           "type": "bar",
           "x": [
            3,
            3,
            4,
            5,
            11
           ],
           "y": [
            "safety",
            "bread",
            "baking",
            "canning",
            "food-safety"
           ]
          }
         ],
         "layout": {
          "bargap": 0.15,
          "font": {
           "size": 14
          },
          "plot_bgcolor": "#FFFFFF",
          "title": {
           "text": "Popular tags on Cooking StackOverflow"
          },
          "xaxis": {
           "range": [
            0,
            41
           ],
           "showline": true,
           "visible": true
          },
          "yaxis": {
           "showline": false,
           "visible": true
          }
         },
         "name": "2022-09"
        }
       ],
       "layout": {
        "bargap": 0.15,
        "font": {
         "size": 14
        },
        "plot_bgcolor": "#FFFFFF",
        "sliders": [
         {
          "active": 0,
          "currentvalue": {
           "font": {
            "size": 20
           },
           "prefix": "Date: ",
           "visible": true,
           "xanchor": "right"
          },
          "len": 0.9,
          "pad": {
           "b": 10,
           "t": 50
          },
          "steps": [
           {
            "args": [
             [
              "2012-01"
             ],
             {
              "frame": {
               "duration": 800,
               "redraw": false
              },
              "mode": "immediate",
              "transition": {
               "duration": 800
              }
             }
            ],
            "label": "2012-01",
            "method": "animate"
           },
           {
            "args": [
             [
              "2012-02"
             ],
             {
              "frame": {
               "duration": 800,
               "redraw": false
              },
              "mode": "immediate",
              "transition": {
               "duration": 800
              }
             }
            ],
            "label": "2012-02",
            "method": "animate"
           },
           {
            "args": [
             [
              "2012-03"
             ],
             {
              "frame": {
               "duration": 800,
               "redraw": false
              },
              "mode": "immediate",
              "transition": {
               "duration": 800
              }
             }
            ],
            "label": "2012-03",
            "method": "animate"
           },
           {
            "args": [
             [
              "2012-04"
             ],
             {
              "frame": {
               "duration": 800,
               "redraw": false
              },
              "mode": "immediate",
              "transition": {
               "duration": 800
              }
             }
            ],
            "label": "2012-04",
            "method": "animate"
           },
           {
            "args": [
             [
              "2012-05"
             ],
             {
              "frame": {
               "duration": 800,
               "redraw": false
              },
              "mode": "immediate",
              "transition": {
               "duration": 800
              }
             }
            ],
            "label": "2012-05",
            "method": "animate"
           },
           {
            "args": [
             [
              "2012-06"
             ],
             {
              "frame": {
               "duration": 800,
               "redraw": false
              },
              "mode": "immediate",
              "transition": {
               "duration": 800
              }
             }
            ],
            "label": "2012-06",
            "method": "animate"
           },
           {
            "args": [
             [
              "2012-07"
             ],
             {
              "frame": {
               "duration": 800,
               "redraw": false
              },
              "mode": "immediate",
              "transition": {
               "duration": 800
              }
             }
            ],
            "label": "2012-07",
            "method": "animate"
           },
           {
            "args": [
             [
              "2012-08"
             ],
             {
              "frame": {
               "duration": 800,
               "redraw": false
              },
              "mode": "immediate",
              "transition": {
               "duration": 800
              }
             }
            ],
            "label": "2012-08",
            "method": "animate"
           },
           {
            "args": [
             [
              "2012-09"
             ],
             {
              "frame": {
               "duration": 800,
               "redraw": false
              },
              "mode": "immediate",
              "transition": {
               "duration": 800
              }
             }
            ],
            "label": "2012-09",
            "method": "animate"
           },
           {
            "args": [
             [
              "2012-10"
             ],
             {
              "frame": {
               "duration": 800,
               "redraw": false
              },
              "mode": "immediate",
              "transition": {
               "duration": 800
              }
             }
            ],
            "label": "2012-10",
            "method": "animate"
           },
           {
            "args": [
             [
              "2012-11"
             ],
             {
              "frame": {
               "duration": 800,
               "redraw": false
              },
              "mode": "immediate",
              "transition": {
               "duration": 800
              }
             }
            ],
            "label": "2012-11",
            "method": "animate"
           },
           {
            "args": [
             [
              "2012-12"
             ],
             {
              "frame": {
               "duration": 800,
               "redraw": false
              },
              "mode": "immediate",
              "transition": {
               "duration": 800
              }
             }
            ],
            "label": "2012-12",
            "method": "animate"
           },
           {
            "args": [
             [
              "2013-01"
             ],
             {
              "frame": {
               "duration": 800,
               "redraw": false
              },
              "mode": "immediate",
              "transition": {
               "duration": 800
              }
             }
            ],
            "label": "2013-01",
            "method": "animate"
           },
           {
            "args": [
             [
              "2013-02"
             ],
             {
              "frame": {
               "duration": 800,
               "redraw": false
              },
              "mode": "immediate",
              "transition": {
               "duration": 800
              }
             }
            ],
            "label": "2013-02",
            "method": "animate"
           },
           {
            "args": [
             [
              "2013-03"
             ],
             {
              "frame": {
               "duration": 800,
               "redraw": false
              },
              "mode": "immediate",
              "transition": {
               "duration": 800
              }
             }
            ],
            "label": "2013-03",
            "method": "animate"
           },
           {
            "args": [
             [
              "2013-04"
             ],
             {
              "frame": {
               "duration": 800,
               "redraw": false
              },
              "mode": "immediate",
              "transition": {
               "duration": 800
              }
             }
            ],
            "label": "2013-04",
            "method": "animate"
           },
           {
            "args": [
             [
              "2013-05"
             ],
             {
              "frame": {
               "duration": 800,
               "redraw": false
              },
              "mode": "immediate",
              "transition": {
               "duration": 800
              }
             }
            ],
            "label": "2013-05",
            "method": "animate"
           },
           {
            "args": [
             [
              "2013-06"
             ],
             {
              "frame": {
               "duration": 800,
               "redraw": false
              },
              "mode": "immediate",
              "transition": {
               "duration": 800
              }
             }
            ],
            "label": "2013-06",
            "method": "animate"
           },
           {
            "args": [
             [
              "2013-07"
             ],
             {
              "frame": {
               "duration": 800,
               "redraw": false
              },
              "mode": "immediate",
              "transition": {
               "duration": 800
              }
             }
            ],
            "label": "2013-07",
            "method": "animate"
           },
           {
            "args": [
             [
              "2013-08"
             ],
             {
              "frame": {
               "duration": 800,
               "redraw": false
              },
              "mode": "immediate",
              "transition": {
               "duration": 800
              }
             }
            ],
            "label": "2013-08",
            "method": "animate"
           },
           {
            "args": [
             [
              "2013-09"
             ],
             {
              "frame": {
               "duration": 800,
               "redraw": false
              },
              "mode": "immediate",
              "transition": {
               "duration": 800
              }
             }
            ],
            "label": "2013-09",
            "method": "animate"
           },
           {
            "args": [
             [
              "2013-10"
             ],
             {
              "frame": {
               "duration": 800,
               "redraw": false
              },
              "mode": "immediate",
              "transition": {
               "duration": 800
              }
             }
            ],
            "label": "2013-10",
            "method": "animate"
           },
           {
            "args": [
             [
              "2013-11"
             ],
             {
              "frame": {
               "duration": 800,
               "redraw": false
              },
              "mode": "immediate",
              "transition": {
               "duration": 800
              }
             }
            ],
            "label": "2013-11",
            "method": "animate"
           },
           {
            "args": [
             [
              "2013-12"
             ],
             {
              "frame": {
               "duration": 800,
               "redraw": false
              },
              "mode": "immediate",
              "transition": {
               "duration": 800
              }
             }
            ],
            "label": "2013-12",
            "method": "animate"
           },
           {
            "args": [
             [
              "2014-01"
             ],
             {
              "frame": {
               "duration": 800,
               "redraw": false
              },
              "mode": "immediate",
              "transition": {
               "duration": 800
              }
             }
            ],
            "label": "2014-01",
            "method": "animate"
           },
           {
            "args": [
             [
              "2014-02"
             ],
             {
              "frame": {
               "duration": 800,
               "redraw": false
              },
              "mode": "immediate",
              "transition": {
               "duration": 800
              }
             }
            ],
            "label": "2014-02",
            "method": "animate"
           },
           {
            "args": [
             [
              "2014-03"
             ],
             {
              "frame": {
               "duration": 800,
               "redraw": false
              },
              "mode": "immediate",
              "transition": {
               "duration": 800
              }
             }
            ],
            "label": "2014-03",
            "method": "animate"
           },
           {
            "args": [
             [
              "2014-04"
             ],
             {
              "frame": {
               "duration": 800,
               "redraw": false
              },
              "mode": "immediate",
              "transition": {
               "duration": 800
              }
             }
            ],
            "label": "2014-04",
            "method": "animate"
           },
           {
            "args": [
             [
              "2014-05"
             ],
             {
              "frame": {
               "duration": 800,
               "redraw": false
              },
              "mode": "immediate",
              "transition": {
               "duration": 800
              }
             }
            ],
            "label": "2014-05",
            "method": "animate"
           },
           {
            "args": [
             [
              "2014-06"
             ],
             {
              "frame": {
               "duration": 800,
               "redraw": false
              },
              "mode": "immediate",
              "transition": {
               "duration": 800
              }
             }
            ],
            "label": "2014-06",
            "method": "animate"
           },
           {
            "args": [
             [
              "2014-07"
             ],
             {
              "frame": {
               "duration": 800,
               "redraw": false
              },
              "mode": "immediate",
              "transition": {
               "duration": 800
              }
             }
            ],
            "label": "2014-07",
            "method": "animate"
           },
           {
            "args": [
             [
              "2014-08"
             ],
             {
              "frame": {
               "duration": 800,
               "redraw": false
              },
              "mode": "immediate",
              "transition": {
               "duration": 800
              }
             }
            ],
            "label": "2014-08",
            "method": "animate"
           },
           {
            "args": [
             [
              "2014-09"
             ],
             {
              "frame": {
               "duration": 800,
               "redraw": false
              },
              "mode": "immediate",
              "transition": {
               "duration": 800
              }
             }
            ],
            "label": "2014-09",
            "method": "animate"
           },
           {
            "args": [
             [
              "2014-10"
             ],
             {
              "frame": {
               "duration": 800,
               "redraw": false
              },
              "mode": "immediate",
              "transition": {
               "duration": 800
              }
             }
            ],
            "label": "2014-10",
            "method": "animate"
           },
           {
            "args": [
             [
              "2014-11"
             ],
             {
              "frame": {
               "duration": 800,
               "redraw": false
              },
              "mode": "immediate",
              "transition": {
               "duration": 800
              }
             }
            ],
            "label": "2014-11",
            "method": "animate"
           },
           {
            "args": [
             [
              "2014-12"
             ],
             {
              "frame": {
               "duration": 800,
               "redraw": false
              },
              "mode": "immediate",
              "transition": {
               "duration": 800
              }
             }
            ],
            "label": "2014-12",
            "method": "animate"
           },
           {
            "args": [
             [
              "2015-01"
             ],
             {
              "frame": {
               "duration": 800,
               "redraw": false
              },
              "mode": "immediate",
              "transition": {
               "duration": 800
              }
             }
            ],
            "label": "2015-01",
            "method": "animate"
           },
           {
            "args": [
             [
              "2015-02"
             ],
             {
              "frame": {
               "duration": 800,
               "redraw": false
              },
              "mode": "immediate",
              "transition": {
               "duration": 800
              }
             }
            ],
            "label": "2015-02",
            "method": "animate"
           },
           {
            "args": [
             [
              "2015-03"
             ],
             {
              "frame": {
               "duration": 800,
               "redraw": false
              },
              "mode": "immediate",
              "transition": {
               "duration": 800
              }
             }
            ],
            "label": "2015-03",
            "method": "animate"
           },
           {
            "args": [
             [
              "2015-04"
             ],
             {
              "frame": {
               "duration": 800,
               "redraw": false
              },
              "mode": "immediate",
              "transition": {
               "duration": 800
              }
             }
            ],
            "label": "2015-04",
            "method": "animate"
           },
           {
            "args": [
             [
              "2015-05"
             ],
             {
              "frame": {
               "duration": 800,
               "redraw": false
              },
              "mode": "immediate",
              "transition": {
               "duration": 800
              }
             }
            ],
            "label": "2015-05",
            "method": "animate"
           },
           {
            "args": [
             [
              "2015-06"
             ],
             {
              "frame": {
               "duration": 800,
               "redraw": false
              },
              "mode": "immediate",
              "transition": {
               "duration": 800
              }
             }
            ],
            "label": "2015-06",
            "method": "animate"
           },
           {
            "args": [
             [
              "2015-07"
             ],
             {
              "frame": {
               "duration": 800,
               "redraw": false
              },
              "mode": "immediate",
              "transition": {
               "duration": 800
              }
             }
            ],
            "label": "2015-07",
            "method": "animate"
           },
           {
            "args": [
             [
              "2015-08"
             ],
             {
              "frame": {
               "duration": 800,
               "redraw": false
              },
              "mode": "immediate",
              "transition": {
               "duration": 800
              }
             }
            ],
            "label": "2015-08",
            "method": "animate"
           },
           {
            "args": [
             [
              "2015-09"
             ],
             {
              "frame": {
               "duration": 800,
               "redraw": false
              },
              "mode": "immediate",
              "transition": {
               "duration": 800
              }
             }
            ],
            "label": "2015-09",
            "method": "animate"
           },
           {
            "args": [
             [
              "2015-10"
             ],
             {
              "frame": {
               "duration": 800,
               "redraw": false
              },
              "mode": "immediate",
              "transition": {
               "duration": 800
              }
             }
            ],
            "label": "2015-10",
            "method": "animate"
           },
           {
            "args": [
             [
              "2015-11"
             ],
             {
              "frame": {
               "duration": 800,
               "redraw": false
              },
              "mode": "immediate",
              "transition": {
               "duration": 800
              }
             }
            ],
            "label": "2015-11",
            "method": "animate"
           },
           {
            "args": [
             [
              "2015-12"
             ],
             {
              "frame": {
               "duration": 800,
               "redraw": false
              },
              "mode": "immediate",
              "transition": {
               "duration": 800
              }
             }
            ],
            "label": "2015-12",
            "method": "animate"
           },
           {
            "args": [
             [
              "2016-01"
             ],
             {
              "frame": {
               "duration": 800,
               "redraw": false
              },
              "mode": "immediate",
              "transition": {
               "duration": 800
              }
             }
            ],
            "label": "2016-01",
            "method": "animate"
           },
           {
            "args": [
             [
              "2016-02"
             ],
             {
              "frame": {
               "duration": 800,
               "redraw": false
              },
              "mode": "immediate",
              "transition": {
               "duration": 800
              }
             }
            ],
            "label": "2016-02",
            "method": "animate"
           },
           {
            "args": [
             [
              "2016-03"
             ],
             {
              "frame": {
               "duration": 800,
               "redraw": false
              },
              "mode": "immediate",
              "transition": {
               "duration": 800
              }
             }
            ],
            "label": "2016-03",
            "method": "animate"
           },
           {
            "args": [
             [
              "2016-04"
             ],
             {
              "frame": {
               "duration": 800,
               "redraw": false
              },
              "mode": "immediate",
              "transition": {
               "duration": 800
              }
             }
            ],
            "label": "2016-04",
            "method": "animate"
           },
           {
            "args": [
             [
              "2016-05"
             ],
             {
              "frame": {
               "duration": 800,
               "redraw": false
              },
              "mode": "immediate",
              "transition": {
               "duration": 800
              }
             }
            ],
            "label": "2016-05",
            "method": "animate"
           },
           {
            "args": [
             [
              "2016-06"
             ],
             {
              "frame": {
               "duration": 800,
               "redraw": false
              },
              "mode": "immediate",
              "transition": {
               "duration": 800
              }
             }
            ],
            "label": "2016-06",
            "method": "animate"
           },
           {
            "args": [
             [
              "2016-07"
             ],
             {
              "frame": {
               "duration": 800,
               "redraw": false
              },
              "mode": "immediate",
              "transition": {
               "duration": 800
              }
             }
            ],
            "label": "2016-07",
            "method": "animate"
           },
           {
            "args": [
             [
              "2016-08"
             ],
             {
              "frame": {
               "duration": 800,
               "redraw": false
              },
              "mode": "immediate",
              "transition": {
               "duration": 800
              }
             }
            ],
            "label": "2016-08",
            "method": "animate"
           },
           {
            "args": [
             [
              "2016-09"
             ],
             {
              "frame": {
               "duration": 800,
               "redraw": false
              },
              "mode": "immediate",
              "transition": {
               "duration": 800
              }
             }
            ],
            "label": "2016-09",
            "method": "animate"
           },
           {
            "args": [
             [
              "2016-10"
             ],
             {
              "frame": {
               "duration": 800,
               "redraw": false
              },
              "mode": "immediate",
              "transition": {
               "duration": 800
              }
             }
            ],
            "label": "2016-10",
            "method": "animate"
           },
           {
            "args": [
             [
              "2016-11"
             ],
             {
              "frame": {
               "duration": 800,
               "redraw": false
              },
              "mode": "immediate",
              "transition": {
               "duration": 800
              }
             }
            ],
            "label": "2016-11",
            "method": "animate"
           },
           {
            "args": [
             [
              "2016-12"
             ],
             {
              "frame": {
               "duration": 800,
               "redraw": false
              },
              "mode": "immediate",
              "transition": {
               "duration": 800
              }
             }
            ],
            "label": "2016-12",
            "method": "animate"
           },
           {
            "args": [
             [
              "2017-01"
             ],
             {
              "frame": {
               "duration": 800,
               "redraw": false
              },
              "mode": "immediate",
              "transition": {
               "duration": 800
              }
             }
            ],
            "label": "2017-01",
            "method": "animate"
           },
           {
            "args": [
             [
              "2017-02"
             ],
             {
              "frame": {
               "duration": 800,
               "redraw": false
              },
              "mode": "immediate",
              "transition": {
               "duration": 800
              }
             }
            ],
            "label": "2017-02",
            "method": "animate"
           },
           {
            "args": [
             [
              "2017-03"
             ],
             {
              "frame": {
               "duration": 800,
               "redraw": false
              },
              "mode": "immediate",
              "transition": {
               "duration": 800
              }
             }
            ],
            "label": "2017-03",
            "method": "animate"
           },
           {
            "args": [
             [
              "2017-04"
             ],
             {
              "frame": {
               "duration": 800,
               "redraw": false
              },
              "mode": "immediate",
              "transition": {
               "duration": 800
              }
             }
            ],
            "label": "2017-04",
            "method": "animate"
           },
           {
            "args": [
             [
              "2017-05"
             ],
             {
              "frame": {
               "duration": 800,
               "redraw": false
              },
              "mode": "immediate",
              "transition": {
               "duration": 800
              }
             }
            ],
            "label": "2017-05",
            "method": "animate"
           },
           {
            "args": [
             [
              "2017-06"
             ],
             {
              "frame": {
               "duration": 800,
               "redraw": false
              },
              "mode": "immediate",
              "transition": {
               "duration": 800
              }
             }
            ],
            "label": "2017-06",
            "method": "animate"
           },
           {
            "args": [
             [
              "2017-07"
             ],
             {
              "frame": {
               "duration": 800,
               "redraw": false
              },
              "mode": "immediate",
              "transition": {
               "duration": 800
              }
             }
            ],
            "label": "2017-07",
            "method": "animate"
           },
           {
            "args": [
             [
              "2017-08"
             ],
             {
              "frame": {
               "duration": 800,
               "redraw": false
              },
              "mode": "immediate",
              "transition": {
               "duration": 800
              }
             }
            ],
            "label": "2017-08",
            "method": "animate"
           },
           {
            "args": [
             [
              "2017-09"
             ],
             {
              "frame": {
               "duration": 800,
               "redraw": false
              },
              "mode": "immediate",
              "transition": {
               "duration": 800
              }
             }
            ],
            "label": "2017-09",
            "method": "animate"
           },
           {
            "args": [
             [
              "2017-10"
             ],
             {
              "frame": {
               "duration": 800,
               "redraw": false
              },
              "mode": "immediate",
              "transition": {
               "duration": 800
              }
             }
            ],
            "label": "2017-10",
            "method": "animate"
           },
           {
            "args": [
             [
              "2017-11"
             ],
             {
              "frame": {
               "duration": 800,
               "redraw": false
              },
              "mode": "immediate",
              "transition": {
               "duration": 800
              }
             }
            ],
            "label": "2017-11",
            "method": "animate"
           },
           {
            "args": [
             [
              "2017-12"
             ],
             {
              "frame": {
               "duration": 800,
               "redraw": false
              },
              "mode": "immediate",
              "transition": {
               "duration": 800
              }
             }
            ],
            "label": "2017-12",
            "method": "animate"
           },
           {
            "args": [
             [
              "2018-01"
             ],
             {
              "frame": {
               "duration": 800,
               "redraw": false
              },
              "mode": "immediate",
              "transition": {
               "duration": 800
              }
             }
            ],
            "label": "2018-01",
            "method": "animate"
           },
           {
            "args": [
             [
              "2018-02"
             ],
             {
              "frame": {
               "duration": 800,
               "redraw": false
              },
              "mode": "immediate",
              "transition": {
               "duration": 800
              }
             }
            ],
            "label": "2018-02",
            "method": "animate"
           },
           {
            "args": [
             [
              "2018-03"
             ],
             {
              "frame": {
               "duration": 800,
               "redraw": false
              },
              "mode": "immediate",
              "transition": {
               "duration": 800
              }
             }
            ],
            "label": "2018-03",
            "method": "animate"
           },
           {
            "args": [
             [
              "2018-04"
             ],
             {
              "frame": {
               "duration": 800,
               "redraw": false
              },
              "mode": "immediate",
              "transition": {
               "duration": 800
              }
             }
            ],
            "label": "2018-04",
            "method": "animate"
           },
           {
            "args": [
             [
              "2018-05"
             ],
             {
              "frame": {
               "duration": 800,
               "redraw": false
              },
              "mode": "immediate",
              "transition": {
               "duration": 800
              }
             }
            ],
            "label": "2018-05",
            "method": "animate"
           },
           {
            "args": [
             [
              "2018-06"
             ],
             {
              "frame": {
               "duration": 800,
               "redraw": false
              },
              "mode": "immediate",
              "transition": {
               "duration": 800
              }
             }
            ],
            "label": "2018-06",
            "method": "animate"
           },
           {
            "args": [
             [
              "2018-07"
             ],
             {
              "frame": {
               "duration": 800,
               "redraw": false
              },
              "mode": "immediate",
              "transition": {
               "duration": 800
              }
             }
            ],
            "label": "2018-07",
            "method": "animate"
           },
           {
            "args": [
             [
              "2018-08"
             ],
             {
              "frame": {
               "duration": 800,
               "redraw": false
              },
              "mode": "immediate",
              "transition": {
               "duration": 800
              }
             }
            ],
            "label": "2018-08",
            "method": "animate"
           },
           {
            "args": [
             [
              "2018-09"
             ],
             {
              "frame": {
               "duration": 800,
               "redraw": false
              },
              "mode": "immediate",
              "transition": {
               "duration": 800
              }
             }
            ],
            "label": "2018-09",
            "method": "animate"
           },
           {
            "args": [
             [
              "2018-10"
             ],
             {
              "frame": {
               "duration": 800,
               "redraw": false
              },
              "mode": "immediate",
              "transition": {
               "duration": 800
              }
             }
            ],
            "label": "2018-10",
            "method": "animate"
           },
           {
            "args": [
             [
              "2018-11"
             ],
             {
              "frame": {
               "duration": 800,
               "redraw": false
              },
              "mode": "immediate",
              "transition": {
               "duration": 800
              }
             }
            ],
            "label": "2018-11",
            "method": "animate"
           },
           {
            "args": [
             [
              "2018-12"
             ],
             {
              "frame": {
               "duration": 800,
               "redraw": false
              },
              "mode": "immediate",
              "transition": {
               "duration": 800
              }
             }
            ],
            "label": "2018-12",
            "method": "animate"
           },
           {
            "args": [
             [
              "2019-01"
             ],
             {
              "frame": {
               "duration": 800,
               "redraw": false
              },
              "mode": "immediate",
              "transition": {
               "duration": 800
              }
             }
            ],
            "label": "2019-01",
            "method": "animate"
           },
           {
            "args": [
             [
              "2019-02"
             ],
             {
              "frame": {
               "duration": 800,
               "redraw": false
              },
              "mode": "immediate",
              "transition": {
               "duration": 800
              }
             }
            ],
            "label": "2019-02",
            "method": "animate"
           },
           {
            "args": [
             [
              "2019-03"
             ],
             {
              "frame": {
               "duration": 800,
               "redraw": false
              },
              "mode": "immediate",
              "transition": {
               "duration": 800
              }
             }
            ],
            "label": "2019-03",
            "method": "animate"
           },
           {
            "args": [
             [
              "2019-04"
             ],
             {
              "frame": {
               "duration": 800,
               "redraw": false
              },
              "mode": "immediate",
              "transition": {
               "duration": 800
              }
             }
            ],
            "label": "2019-04",
            "method": "animate"
           },
           {
            "args": [
             [
              "2019-05"
             ],
             {
              "frame": {
               "duration": 800,
               "redraw": false
              },
              "mode": "immediate",
              "transition": {
               "duration": 800
              }
             }
            ],
            "label": "2019-05",
            "method": "animate"
           },
           {
            "args": [
             [
              "2019-06"
             ],
             {
              "frame": {
               "duration": 800,
               "redraw": false
              },
              "mode": "immediate",
              "transition": {
               "duration": 800
              }
             }
            ],
            "label": "2019-06",
            "method": "animate"
           },
           {
            "args": [
             [
              "2019-07"
             ],
             {
              "frame": {
               "duration": 800,
               "redraw": false
              },
              "mode": "immediate",
              "transition": {
               "duration": 800
              }
             }
            ],
            "label": "2019-07",
            "method": "animate"
           },
           {
            "args": [
             [
              "2019-08"
             ],
             {
              "frame": {
               "duration": 800,
               "redraw": false
              },
              "mode": "immediate",
              "transition": {
               "duration": 800
              }
             }
            ],
            "label": "2019-08",
            "method": "animate"
           },
           {
            "args": [
             [
              "2019-09"
             ],
             {
              "frame": {
               "duration": 800,
               "redraw": false
              },
              "mode": "immediate",
              "transition": {
               "duration": 800
              }
             }
            ],
            "label": "2019-09",
            "method": "animate"
           },
           {
            "args": [
             [
              "2019-10"
             ],
             {
              "frame": {
               "duration": 800,
               "redraw": false
              },
              "mode": "immediate",
              "transition": {
               "duration": 800
              }
             }
            ],
            "label": "2019-10",
            "method": "animate"
           },
           {
            "args": [
             [
              "2019-11"
             ],
             {
              "frame": {
               "duration": 800,
               "redraw": false
              },
              "mode": "immediate",
              "transition": {
               "duration": 800
              }
             }
            ],
            "label": "2019-11",
            "method": "animate"
           },
           {
            "args": [
             [
              "2019-12"
             ],
             {
              "frame": {
               "duration": 800,
               "redraw": false
              },
              "mode": "immediate",
              "transition": {
               "duration": 800
              }
             }
            ],
            "label": "2019-12",
            "method": "animate"
           },
           {
            "args": [
             [
              "2020-01"
             ],
             {
              "frame": {
               "duration": 800,
               "redraw": false
              },
              "mode": "immediate",
              "transition": {
               "duration": 800
              }
             }
            ],
            "label": "2020-01",
            "method": "animate"
           },
           {
            "args": [
             [
              "2020-02"
             ],
             {
              "frame": {
               "duration": 800,
               "redraw": false
              },
              "mode": "immediate",
              "transition": {
               "duration": 800
              }
             }
            ],
            "label": "2020-02",
            "method": "animate"
           },
           {
            "args": [
             [
              "2020-03"
             ],
             {
              "frame": {
               "duration": 800,
               "redraw": false
              },
              "mode": "immediate",
              "transition": {
               "duration": 800
              }
             }
            ],
            "label": "2020-03",
            "method": "animate"
           },
           {
            "args": [
             [
              "2020-04"
             ],
             {
              "frame": {
               "duration": 800,
               "redraw": false
              },
              "mode": "immediate",
              "transition": {
               "duration": 800
              }
             }
            ],
            "label": "2020-04",
            "method": "animate"
           },
           {
            "args": [
             [
              "2020-05"
             ],
             {
              "frame": {
               "duration": 800,
               "redraw": false
              },
              "mode": "immediate",
              "transition": {
               "duration": 800
              }
             }
            ],
            "label": "2020-05",
            "method": "animate"
           },
           {
            "args": [
             [
              "2020-06"
             ],
             {
              "frame": {
               "duration": 800,
               "redraw": false
              },
              "mode": "immediate",
              "transition": {
               "duration": 800
              }
             }
            ],
            "label": "2020-06",
            "method": "animate"
           },
           {
            "args": [
             [
              "2020-07"
             ],
             {
              "frame": {
               "duration": 800,
               "redraw": false
              },
              "mode": "immediate",
              "transition": {
               "duration": 800
              }
             }
            ],
            "label": "2020-07",
            "method": "animate"
           },
           {
            "args": [
             [
              "2020-08"
             ],
             {
              "frame": {
               "duration": 800,
               "redraw": false
              },
              "mode": "immediate",
              "transition": {
               "duration": 800
              }
             }
            ],
            "label": "2020-08",
            "method": "animate"
           },
           {
            "args": [
             [
              "2020-09"
             ],
             {
              "frame": {
               "duration": 800,
               "redraw": false
              },
              "mode": "immediate",
              "transition": {
               "duration": 800
              }
             }
            ],
            "label": "2020-09",
            "method": "animate"
           },
           {
            "args": [
             [
              "2020-10"
             ],
             {
              "frame": {
               "duration": 800,
               "redraw": false
              },
              "mode": "immediate",
              "transition": {
               "duration": 800
              }
             }
            ],
            "label": "2020-10",
            "method": "animate"
           },
           {
            "args": [
             [
              "2020-11"
             ],
             {
              "frame": {
               "duration": 800,
               "redraw": false
              },
              "mode": "immediate",
              "transition": {
               "duration": 800
              }
             }
            ],
            "label": "2020-11",
            "method": "animate"
           },
           {
            "args": [
             [
              "2020-12"
             ],
             {
              "frame": {
               "duration": 800,
               "redraw": false
              },
              "mode": "immediate",
              "transition": {
               "duration": 800
              }
             }
            ],
            "label": "2020-12",
            "method": "animate"
           },
           {
            "args": [
             [
              "2021-01"
             ],
             {
              "frame": {
               "duration": 800,
               "redraw": false
              },
              "mode": "immediate",
              "transition": {
               "duration": 800
              }
             }
            ],
            "label": "2021-01",
            "method": "animate"
           },
           {
            "args": [
             [
              "2021-02"
             ],
             {
              "frame": {
               "duration": 800,
               "redraw": false
              },
              "mode": "immediate",
              "transition": {
               "duration": 800
              }
             }
            ],
            "label": "2021-02",
            "method": "animate"
           },
           {
            "args": [
             [
              "2021-03"
             ],
             {
              "frame": {
               "duration": 800,
               "redraw": false
              },
              "mode": "immediate",
              "transition": {
               "duration": 800
              }
             }
            ],
            "label": "2021-03",
            "method": "animate"
           },
           {
            "args": [
             [
              "2021-04"
             ],
             {
              "frame": {
               "duration": 800,
               "redraw": false
              },
              "mode": "immediate",
              "transition": {
               "duration": 800
              }
             }
            ],
            "label": "2021-04",
            "method": "animate"
           },
           {
            "args": [
             [
              "2021-05"
             ],
             {
              "frame": {
               "duration": 800,
               "redraw": false
              },
              "mode": "immediate",
              "transition": {
               "duration": 800
              }
             }
            ],
            "label": "2021-05",
            "method": "animate"
           },
           {
            "args": [
             [
              "2021-06"
             ],
             {
              "frame": {
               "duration": 800,
               "redraw": false
              },
              "mode": "immediate",
              "transition": {
               "duration": 800
              }
             }
            ],
            "label": "2021-06",
            "method": "animate"
           },
           {
            "args": [
             [
              "2021-07"
             ],
             {
              "frame": {
               "duration": 800,
               "redraw": false
              },
              "mode": "immediate",
              "transition": {
               "duration": 800
              }
             }
            ],
            "label": "2021-07",
            "method": "animate"
           },
           {
            "args": [
             [
              "2021-08"
             ],
             {
              "frame": {
               "duration": 800,
               "redraw": false
              },
              "mode": "immediate",
              "transition": {
               "duration": 800
              }
             }
            ],
            "label": "2021-08",
            "method": "animate"
           },
           {
            "args": [
             [
              "2021-09"
             ],
             {
              "frame": {
               "duration": 800,
               "redraw": false
              },
              "mode": "immediate",
              "transition": {
               "duration": 800
              }
             }
            ],
            "label": "2021-09",
            "method": "animate"
           },
           {
            "args": [
             [
              "2021-10"
             ],
             {
              "frame": {
               "duration": 800,
               "redraw": false
              },
              "mode": "immediate",
              "transition": {
               "duration": 800
              }
             }
            ],
            "label": "2021-10",
            "method": "animate"
           },
           {
            "args": [
             [
              "2021-11"
             ],
             {
              "frame": {
               "duration": 800,
               "redraw": false
              },
              "mode": "immediate",
              "transition": {
               "duration": 800
              }
             }
            ],
            "label": "2021-11",
            "method": "animate"
           },
           {
            "args": [
             [
              "2021-12"
             ],
             {
              "frame": {
               "duration": 800,
               "redraw": false
              },
              "mode": "immediate",
              "transition": {
               "duration": 800
              }
             }
            ],
            "label": "2021-12",
            "method": "animate"
           },
           {
            "args": [
             [
              "2022-01"
             ],
             {
              "frame": {
               "duration": 800,
               "redraw": false
              },
              "mode": "immediate",
              "transition": {
               "duration": 800
              }
             }
            ],
            "label": "2022-01",
            "method": "animate"
           },
           {
            "args": [
             [
              "2022-02"
             ],
             {
              "frame": {
               "duration": 800,
               "redraw": false
              },
              "mode": "immediate",
              "transition": {
               "duration": 800
              }
             }
            ],
            "label": "2022-02",
            "method": "animate"
           },
           {
            "args": [
             [
              "2022-03"
             ],
             {
              "frame": {
               "duration": 800,
               "redraw": false
              },
              "mode": "immediate",
              "transition": {
               "duration": 800
              }
             }
            ],
            "label": "2022-03",
            "method": "animate"
           },
           {
            "args": [
             [
              "2022-04"
             ],
             {
              "frame": {
               "duration": 800,
               "redraw": false
              },
              "mode": "immediate",
              "transition": {
               "duration": 800
              }
             }
            ],
            "label": "2022-04",
            "method": "animate"
           },
           {
            "args": [
             [
              "2022-05"
             ],
             {
              "frame": {
               "duration": 800,
               "redraw": false
              },
              "mode": "immediate",
              "transition": {
               "duration": 800
              }
             }
            ],
            "label": "2022-05",
            "method": "animate"
           },
           {
            "args": [
             [
              "2022-06"
             ],
             {
              "frame": {
               "duration": 800,
               "redraw": false
              },
              "mode": "immediate",
              "transition": {
               "duration": 800
              }
             }
            ],
            "label": "2022-06",
            "method": "animate"
           },
           {
            "args": [
             [
              "2022-07"
             ],
             {
              "frame": {
               "duration": 800,
               "redraw": false
              },
              "mode": "immediate",
              "transition": {
               "duration": 800
              }
             }
            ],
            "label": "2022-07",
            "method": "animate"
           },
           {
            "args": [
             [
              "2022-08"
             ],
             {
              "frame": {
               "duration": 800,
               "redraw": false
              },
              "mode": "immediate",
              "transition": {
               "duration": 800
              }
             }
            ],
            "label": "2022-08",
            "method": "animate"
           },
           {
            "args": [
             [
              "2022-09"
             ],
             {
              "frame": {
               "duration": 800,
               "redraw": false
              },
              "mode": "immediate",
              "transition": {
               "duration": 800
              }
             }
            ],
            "label": "2022-09",
            "method": "animate"
           }
          ],
          "transition": {
           "duration": 300,
           "easing": "cubic-in-out"
          },
          "x": 0.1,
          "xanchor": "left",
          "y": 0,
          "yanchor": "top"
         }
        ],
        "template": {
         "data": {
          "bar": [
           {
            "error_x": {
             "color": "#2a3f5f"
            },
            "error_y": {
             "color": "#2a3f5f"
            },
            "marker": {
             "line": {
              "color": "#E5ECF6",
              "width": 0.5
             },
             "pattern": {
              "fillmode": "overlay",
              "size": 10,
              "solidity": 0.2
             }
            },
            "type": "bar"
           }
          ],
          "barpolar": [
           {
            "marker": {
             "line": {
              "color": "#E5ECF6",
              "width": 0.5
             },
             "pattern": {
              "fillmode": "overlay",
              "size": 10,
              "solidity": 0.2
             }
            },
            "type": "barpolar"
           }
          ],
          "carpet": [
           {
            "aaxis": {
             "endlinecolor": "#2a3f5f",
             "gridcolor": "white",
             "linecolor": "white",
             "minorgridcolor": "white",
             "startlinecolor": "#2a3f5f"
            },
            "baxis": {
             "endlinecolor": "#2a3f5f",
             "gridcolor": "white",
             "linecolor": "white",
             "minorgridcolor": "white",
             "startlinecolor": "#2a3f5f"
            },
            "type": "carpet"
           }
          ],
          "choropleth": [
           {
            "colorbar": {
             "outlinewidth": 0,
             "ticks": ""
            },
            "type": "choropleth"
           }
          ],
          "contour": [
           {
            "colorbar": {
             "outlinewidth": 0,
             "ticks": ""
            },
            "colorscale": [
             [
              0,
              "#0d0887"
             ],
             [
              0.1111111111111111,
              "#46039f"
             ],
             [
              0.2222222222222222,
              "#7201a8"
             ],
             [
              0.3333333333333333,
              "#9c179e"
             ],
             [
              0.4444444444444444,
              "#bd3786"
             ],
             [
              0.5555555555555556,
              "#d8576b"
             ],
             [
              0.6666666666666666,
              "#ed7953"
             ],
             [
              0.7777777777777778,
              "#fb9f3a"
             ],
             [
              0.8888888888888888,
              "#fdca26"
             ],
             [
              1,
              "#f0f921"
             ]
            ],
            "type": "contour"
           }
          ],
          "contourcarpet": [
           {
            "colorbar": {
             "outlinewidth": 0,
             "ticks": ""
            },
            "type": "contourcarpet"
           }
          ],
          "heatmap": [
           {
            "colorbar": {
             "outlinewidth": 0,
             "ticks": ""
            },
            "colorscale": [
             [
              0,
              "#0d0887"
             ],
             [
              0.1111111111111111,
              "#46039f"
             ],
             [
              0.2222222222222222,
              "#7201a8"
             ],
             [
              0.3333333333333333,
              "#9c179e"
             ],
             [
              0.4444444444444444,
              "#bd3786"
             ],
             [
              0.5555555555555556,
              "#d8576b"
             ],
             [
              0.6666666666666666,
              "#ed7953"
             ],
             [
              0.7777777777777778,
              "#fb9f3a"
             ],
             [
              0.8888888888888888,
              "#fdca26"
             ],
             [
              1,
              "#f0f921"
             ]
            ],
            "type": "heatmap"
           }
          ],
          "heatmapgl": [
           {
            "colorbar": {
             "outlinewidth": 0,
             "ticks": ""
            },
            "colorscale": [
             [
              0,
              "#0d0887"
             ],
             [
              0.1111111111111111,
              "#46039f"
             ],
             [
              0.2222222222222222,
              "#7201a8"
             ],
             [
              0.3333333333333333,
              "#9c179e"
             ],
             [
              0.4444444444444444,
              "#bd3786"
             ],
             [
              0.5555555555555556,
              "#d8576b"
             ],
             [
              0.6666666666666666,
              "#ed7953"
             ],
             [
              0.7777777777777778,
              "#fb9f3a"
             ],
             [
              0.8888888888888888,
              "#fdca26"
             ],
             [
              1,
              "#f0f921"
             ]
            ],
            "type": "heatmapgl"
           }
          ],
          "histogram": [
           {
            "marker": {
             "pattern": {
              "fillmode": "overlay",
              "size": 10,
              "solidity": 0.2
             }
            },
            "type": "histogram"
           }
          ],
          "histogram2d": [
           {
            "colorbar": {
             "outlinewidth": 0,
             "ticks": ""
            },
            "colorscale": [
             [
              0,
              "#0d0887"
             ],
             [
              0.1111111111111111,
              "#46039f"
             ],
             [
              0.2222222222222222,
              "#7201a8"
             ],
             [
              0.3333333333333333,
              "#9c179e"
             ],
             [
              0.4444444444444444,
              "#bd3786"
             ],
             [
              0.5555555555555556,
              "#d8576b"
             ],
             [
              0.6666666666666666,
              "#ed7953"
             ],
             [
              0.7777777777777778,
              "#fb9f3a"
             ],
             [
              0.8888888888888888,
              "#fdca26"
             ],
             [
              1,
              "#f0f921"
             ]
            ],
            "type": "histogram2d"
           }
          ],
          "histogram2dcontour": [
           {
            "colorbar": {
             "outlinewidth": 0,
             "ticks": ""
            },
            "colorscale": [
             [
              0,
              "#0d0887"
             ],
             [
              0.1111111111111111,
              "#46039f"
             ],
             [
              0.2222222222222222,
              "#7201a8"
             ],
             [
              0.3333333333333333,
              "#9c179e"
             ],
             [
              0.4444444444444444,
              "#bd3786"
             ],
             [
              0.5555555555555556,
              "#d8576b"
             ],
             [
              0.6666666666666666,
              "#ed7953"
             ],
             [
              0.7777777777777778,
              "#fb9f3a"
             ],
             [
              0.8888888888888888,
              "#fdca26"
             ],
             [
              1,
              "#f0f921"
             ]
            ],
            "type": "histogram2dcontour"
           }
          ],
          "mesh3d": [
           {
            "colorbar": {
             "outlinewidth": 0,
             "ticks": ""
            },
            "type": "mesh3d"
           }
          ],
          "parcoords": [
           {
            "line": {
             "colorbar": {
              "outlinewidth": 0,
              "ticks": ""
             }
            },
            "type": "parcoords"
           }
          ],
          "pie": [
           {
            "automargin": true,
            "type": "pie"
           }
          ],
          "scatter": [
           {
            "fillpattern": {
             "fillmode": "overlay",
             "size": 10,
             "solidity": 0.2
            },
            "type": "scatter"
           }
          ],
          "scatter3d": [
           {
            "line": {
             "colorbar": {
              "outlinewidth": 0,
              "ticks": ""
             }
            },
            "marker": {
             "colorbar": {
              "outlinewidth": 0,
              "ticks": ""
             }
            },
            "type": "scatter3d"
           }
          ],
          "scattercarpet": [
           {
            "marker": {
             "colorbar": {
              "outlinewidth": 0,
              "ticks": ""
             }
            },
            "type": "scattercarpet"
           }
          ],
          "scattergeo": [
           {
            "marker": {
             "colorbar": {
              "outlinewidth": 0,
              "ticks": ""
             }
            },
            "type": "scattergeo"
           }
          ],
          "scattergl": [
           {
            "marker": {
             "colorbar": {
              "outlinewidth": 0,
              "ticks": ""
             }
            },
            "type": "scattergl"
           }
          ],
          "scattermapbox": [
           {
            "marker": {
             "colorbar": {
              "outlinewidth": 0,
              "ticks": ""
             }
            },
            "type": "scattermapbox"
           }
          ],
          "scatterpolar": [
           {
            "marker": {
             "colorbar": {
              "outlinewidth": 0,
              "ticks": ""
             }
            },
            "type": "scatterpolar"
           }
          ],
          "scatterpolargl": [
           {
            "marker": {
             "colorbar": {
              "outlinewidth": 0,
              "ticks": ""
             }
            },
            "type": "scatterpolargl"
           }
          ],
          "scatterternary": [
           {
            "marker": {
             "colorbar": {
              "outlinewidth": 0,
              "ticks": ""
             }
            },
            "type": "scatterternary"
           }
          ],
          "surface": [
           {
            "colorbar": {
             "outlinewidth": 0,
             "ticks": ""
            },
            "colorscale": [
             [
              0,
              "#0d0887"
             ],
             [
              0.1111111111111111,
              "#46039f"
             ],
             [
              0.2222222222222222,
              "#7201a8"
             ],
             [
              0.3333333333333333,
              "#9c179e"
             ],
             [
              0.4444444444444444,
              "#bd3786"
             ],
             [
              0.5555555555555556,
              "#d8576b"
             ],
             [
              0.6666666666666666,
              "#ed7953"
             ],
             [
              0.7777777777777778,
              "#fb9f3a"
             ],
             [
              0.8888888888888888,
              "#fdca26"
             ],
             [
              1,
              "#f0f921"
             ]
            ],
            "type": "surface"
           }
          ],
          "table": [
           {
            "cells": {
             "fill": {
              "color": "#EBF0F8"
             },
             "line": {
              "color": "white"
             }
            },
            "header": {
             "fill": {
              "color": "#C8D4E3"
             },
             "line": {
              "color": "white"
             }
            },
            "type": "table"
           }
          ]
         },
         "layout": {
          "annotationdefaults": {
           "arrowcolor": "#2a3f5f",
           "arrowhead": 0,
           "arrowwidth": 1
          },
          "autotypenumbers": "strict",
          "coloraxis": {
           "colorbar": {
            "outlinewidth": 0,
            "ticks": ""
           }
          },
          "colorscale": {
           "diverging": [
            [
             0,
             "#8e0152"
            ],
            [
             0.1,
             "#c51b7d"
            ],
            [
             0.2,
             "#de77ae"
            ],
            [
             0.3,
             "#f1b6da"
            ],
            [
             0.4,
             "#fde0ef"
            ],
            [
             0.5,
             "#f7f7f7"
            ],
            [
             0.6,
             "#e6f5d0"
            ],
            [
             0.7,
             "#b8e186"
            ],
            [
             0.8,
             "#7fbc41"
            ],
            [
             0.9,
             "#4d9221"
            ],
            [
             1,
             "#276419"
            ]
           ],
           "sequential": [
            [
             0,
             "#0d0887"
            ],
            [
             0.1111111111111111,
             "#46039f"
            ],
            [
             0.2222222222222222,
             "#7201a8"
            ],
            [
             0.3333333333333333,
             "#9c179e"
            ],
            [
             0.4444444444444444,
             "#bd3786"
            ],
            [
             0.5555555555555556,
             "#d8576b"
            ],
            [
             0.6666666666666666,
             "#ed7953"
            ],
            [
             0.7777777777777778,
             "#fb9f3a"
            ],
            [
             0.8888888888888888,
             "#fdca26"
            ],
            [
             1,
             "#f0f921"
            ]
           ],
           "sequentialminus": [
            [
             0,
             "#0d0887"
            ],
            [
             0.1111111111111111,
             "#46039f"
            ],
            [
             0.2222222222222222,
             "#7201a8"
            ],
            [
             0.3333333333333333,
             "#9c179e"
            ],
            [
             0.4444444444444444,
             "#bd3786"
            ],
            [
             0.5555555555555556,
             "#d8576b"
            ],
            [
             0.6666666666666666,
             "#ed7953"
            ],
            [
             0.7777777777777778,
             "#fb9f3a"
            ],
            [
             0.8888888888888888,
             "#fdca26"
            ],
            [
             1,
             "#f0f921"
            ]
           ]
          },
          "colorway": [
           "#636efa",
           "#EF553B",
           "#00cc96",
           "#ab63fa",
           "#FFA15A",
           "#19d3f3",
           "#FF6692",
           "#B6E880",
           "#FF97FF",
           "#FECB52"
          ],
          "font": {
           "color": "#2a3f5f"
          },
          "geo": {
           "bgcolor": "white",
           "lakecolor": "white",
           "landcolor": "#E5ECF6",
           "showlakes": true,
           "showland": true,
           "subunitcolor": "white"
          },
          "hoverlabel": {
           "align": "left"
          },
          "hovermode": "closest",
          "mapbox": {
           "style": "light"
          },
          "paper_bgcolor": "white",
          "plot_bgcolor": "#E5ECF6",
          "polar": {
           "angularaxis": {
            "gridcolor": "white",
            "linecolor": "white",
            "ticks": ""
           },
           "bgcolor": "#E5ECF6",
           "radialaxis": {
            "gridcolor": "white",
            "linecolor": "white",
            "ticks": ""
           }
          },
          "scene": {
           "xaxis": {
            "backgroundcolor": "#E5ECF6",
            "gridcolor": "white",
            "gridwidth": 2,
            "linecolor": "white",
            "showbackground": true,
            "ticks": "",
            "zerolinecolor": "white"
           },
           "yaxis": {
            "backgroundcolor": "#E5ECF6",
            "gridcolor": "white",
            "gridwidth": 2,
            "linecolor": "white",
            "showbackground": true,
            "ticks": "",
            "zerolinecolor": "white"
           },
           "zaxis": {
            "backgroundcolor": "#E5ECF6",
            "gridcolor": "white",
            "gridwidth": 2,
            "linecolor": "white",
            "showbackground": true,
            "ticks": "",
            "zerolinecolor": "white"
           }
          },
          "shapedefaults": {
           "line": {
            "color": "#2a3f5f"
           }
          },
          "ternary": {
           "aaxis": {
            "gridcolor": "white",
            "linecolor": "white",
            "ticks": ""
           },
           "baxis": {
            "gridcolor": "white",
            "linecolor": "white",
            "ticks": ""
           },
           "bgcolor": "#E5ECF6",
           "caxis": {
            "gridcolor": "white",
            "linecolor": "white",
            "ticks": ""
           }
          },
          "title": {
           "x": 0.05
          },
          "xaxis": {
           "automargin": true,
           "gridcolor": "white",
           "linecolor": "white",
           "ticks": "",
           "title": {
            "standoff": 15
           },
           "zerolinecolor": "white",
           "zerolinewidth": 2
          },
          "yaxis": {
           "automargin": true,
           "gridcolor": "white",
           "linecolor": "white",
           "ticks": "",
           "title": {
            "standoff": 15
           },
           "zerolinecolor": "white",
           "zerolinewidth": 2
          }
         }
        },
        "title": {
         "text": "Popular tags on Cooking StackOverflow"
        },
        "updatemenus": [
         {
          "buttons": [
           {
            "args": [
             null,
             {
              "frame": {
               "duration": 800,
               "redraw": false
              },
              "fromcurrent": true,
              "transition": {
               "duration": 800,
               "easing": "quadratic-in-out"
              }
             }
            ],
            "label": "Play",
            "method": "animate"
           },
           {
            "args": [
             [
              null
             ],
             {
              "frame": {
               "duration": 0,
               "redraw": false
              },
              "mode": "immediate",
              "transition": {
               "duration": 0
              }
             }
            ],
            "label": "Pause",
            "method": "animate"
           }
          ],
          "direction": "left",
          "pad": {
           "r": 10,
           "t": 87
          },
          "showactive": true,
          "type": "buttons",
          "x": 0.1,
          "xanchor": "right",
          "y": 0,
          "yanchor": "top"
         }
        ],
        "xaxis": {
         "range": [
          0,
          41
         ],
         "showline": true,
         "showticklabels": true,
         "title": {
          "text": "Post count (total)"
         },
         "visible": true
        },
        "yaxis": {
         "showline": false,
         "showticklabels": false,
         "title": {
          "text": "Tags"
         },
         "visible": true
        }
       }
      }
     },
     "metadata": {},
     "output_type": "display_data"
    }
   ],
   "source": [
    "race = barplot(\n",
    "    tags,\n",
    "    item_column=\"Tags\",\n",
    "    value_column=\"PostCount\",\n",
    "    time_column=\"CreationDate\",\n",
    "    top_entries=5,\n",
    "    #item_color=\"color\",\n",
    ")\n",
    "\n",
    "bar_race = race.plot(title = 'Popular tags on Cooking StackOverflow',\n",
    "                 item_label = 'Tags',\n",
    "                 value_label = 'Post count (total)',\n",
    "                 frame_duration = 800\n",
    "                 )\n",
    "bar_race.show()"
   ]
  },
  {
   "cell_type": "code",
   "execution_count": 10,
   "metadata": {},
   "outputs": [],
   "source": [
    "bar_race.write_html('bar.html')"
   ]
  },
  {
   "cell_type": "markdown",
   "metadata": {},
   "source": [
    "# Only baking and bread"
   ]
  },
  {
   "cell_type": "code",
   "execution_count": 32,
   "metadata": {},
   "outputs": [],
   "source": [
    "mylist = ['baking','bread']\n",
    "\n",
    "mytags = tags[tags.Tags.isin(mylist)].copy()\n",
    "\n",
    "mytags.ViewCount = mytags.ViewCount.astype(int)"
   ]
  },
  {
   "cell_type": "code",
   "execution_count": 16,
   "metadata": {},
   "outputs": [
    {
     "data": {
      "application/vnd.plotly.v1+json": {
       "config": {
        "plotlyServerURL": "https://plot.ly"
       },
       "data": [
        {
         "hovertemplate": "Tags=baking<br>x=%{x}<br>PostCount=%{y}<br>ViewCount=%{marker.size}<extra></extra>",
         "legendgroup": "baking",
         "marker": {
          "color": "#636efa",
          "size": [
           22218,
           15525,
           22456,
           25321,
           23148,
           40713,
           49595,
           64296,
           29913,
           25555,
           13303,
           12518,
           16195,
           34056,
           14381,
           9454,
           23249,
           51783,
           23612,
           2914,
           26570,
           8283,
           13881,
           7552,
           14379,
           13450,
           19957,
           11661,
           5972,
           10276,
           4853,
           6538,
           20745,
           10973,
           12011,
           7830,
           11066,
           6697,
           14869,
           22969,
           10901,
           4079,
           9824,
           8215,
           10974,
           6898,
           18780,
           6621,
           9893,
           4652,
           26589,
           2300,
           1339,
           10548,
           4348,
           3094,
           3587,
           3348,
           5996,
           6540,
           8478,
           4515,
           3960,
           3677,
           5057,
           2293,
           4157,
           2262,
           2703,
           2266,
           2910,
           5792,
           8804,
           6920,
           1348,
           5568,
           2347,
           1865,
           630,
           2191,
           2758,
           3123,
           3309,
           1616,
           1582,
           2464,
           1368,
           1104,
           3239,
           2518,
           681,
           1103,
           2444,
           1401,
           2588,
           1306,
           520,
           1879,
           2396,
           1124,
           699,
           1190,
           653,
           720,
           1251,
           767,
           997,
           550,
           510,
           307,
           535,
           812,
           1086,
           583,
           1023,
           1119,
           456,
           874,
           278,
           289,
           526,
           264,
           160,
           194,
           699,
           154,
           1415,
           984,
           72
          ],
          "sizemode": "area",
          "sizeref": 162.1,
          "symbol": "circle"
         },
         "mode": "markers",
         "name": "baking",
         "orientation": "v",
         "showlegend": true,
         "type": "scatter",
         "x": [
          "2012-01-01T00:00:00",
          "2012-02-01T00:00:00",
          "2012-03-01T00:00:00",
          "2012-04-01T00:00:00",
          "2012-05-01T00:00:00",
          "2012-06-01T00:00:00",
          "2012-07-01T00:00:00",
          "2012-08-01T00:00:00",
          "2012-09-01T00:00:00",
          "2012-10-01T00:00:00",
          "2012-11-01T00:00:00",
          "2012-12-01T00:00:00",
          "2013-01-01T00:00:00",
          "2013-02-01T00:00:00",
          "2013-03-01T00:00:00",
          "2013-04-01T00:00:00",
          "2013-05-01T00:00:00",
          "2013-06-01T00:00:00",
          "2013-07-01T00:00:00",
          "2013-08-01T00:00:00",
          "2013-09-01T00:00:00",
          "2013-10-01T00:00:00",
          "2013-11-01T00:00:00",
          "2013-12-01T00:00:00",
          "2014-01-01T00:00:00",
          "2014-02-01T00:00:00",
          "2014-03-01T00:00:00",
          "2014-04-01T00:00:00",
          "2014-05-01T00:00:00",
          "2014-06-01T00:00:00",
          "2014-07-01T00:00:00",
          "2014-08-01T00:00:00",
          "2014-09-01T00:00:00",
          "2014-10-01T00:00:00",
          "2014-11-01T00:00:00",
          "2014-12-01T00:00:00",
          "2015-01-01T00:00:00",
          "2015-02-01T00:00:00",
          "2015-03-01T00:00:00",
          "2015-04-01T00:00:00",
          "2015-05-01T00:00:00",
          "2015-06-01T00:00:00",
          "2015-07-01T00:00:00",
          "2015-08-01T00:00:00",
          "2015-09-01T00:00:00",
          "2015-10-01T00:00:00",
          "2015-11-01T00:00:00",
          "2015-12-01T00:00:00",
          "2016-01-01T00:00:00",
          "2016-02-01T00:00:00",
          "2016-03-01T00:00:00",
          "2016-04-01T00:00:00",
          "2016-05-01T00:00:00",
          "2016-06-01T00:00:00",
          "2016-07-01T00:00:00",
          "2016-08-01T00:00:00",
          "2016-09-01T00:00:00",
          "2016-10-01T00:00:00",
          "2016-11-01T00:00:00",
          "2016-12-01T00:00:00",
          "2017-01-01T00:00:00",
          "2017-02-01T00:00:00",
          "2017-03-01T00:00:00",
          "2017-04-01T00:00:00",
          "2017-05-01T00:00:00",
          "2017-06-01T00:00:00",
          "2017-07-01T00:00:00",
          "2017-08-01T00:00:00",
          "2017-09-01T00:00:00",
          "2017-10-01T00:00:00",
          "2017-11-01T00:00:00",
          "2017-12-01T00:00:00",
          "2018-01-01T00:00:00",
          "2018-02-01T00:00:00",
          "2018-03-01T00:00:00",
          "2018-04-01T00:00:00",
          "2018-05-01T00:00:00",
          "2018-06-01T00:00:00",
          "2018-07-01T00:00:00",
          "2018-08-01T00:00:00",
          "2018-09-01T00:00:00",
          "2018-10-01T00:00:00",
          "2018-11-01T00:00:00",
          "2018-12-01T00:00:00",
          "2019-01-01T00:00:00",
          "2019-02-01T00:00:00",
          "2019-03-01T00:00:00",
          "2019-04-01T00:00:00",
          "2019-05-01T00:00:00",
          "2019-06-01T00:00:00",
          "2019-07-01T00:00:00",
          "2019-08-01T00:00:00",
          "2019-09-01T00:00:00",
          "2019-10-01T00:00:00",
          "2019-11-01T00:00:00",
          "2019-12-01T00:00:00",
          "2020-01-01T00:00:00",
          "2020-02-01T00:00:00",
          "2020-03-01T00:00:00",
          "2020-04-01T00:00:00",
          "2020-05-01T00:00:00",
          "2020-06-01T00:00:00",
          "2020-07-01T00:00:00",
          "2020-08-01T00:00:00",
          "2020-09-01T00:00:00",
          "2020-10-01T00:00:00",
          "2020-11-01T00:00:00",
          "2020-12-01T00:00:00",
          "2021-01-01T00:00:00",
          "2021-02-01T00:00:00",
          "2021-03-01T00:00:00",
          "2021-04-01T00:00:00",
          "2021-05-01T00:00:00",
          "2021-06-01T00:00:00",
          "2021-07-01T00:00:00",
          "2021-08-01T00:00:00",
          "2021-09-01T00:00:00",
          "2021-10-01T00:00:00",
          "2021-11-01T00:00:00",
          "2021-12-01T00:00:00",
          "2022-01-01T00:00:00",
          "2022-02-01T00:00:00",
          "2022-03-01T00:00:00",
          "2022-04-01T00:00:00",
          "2022-05-01T00:00:00",
          "2022-06-01T00:00:00",
          "2022-07-01T00:00:00",
          "2022-08-01T00:00:00",
          "2022-09-01T00:00:00"
         ],
         "xaxis": "x",
         "y": [
          25,
          28,
          34,
          17,
          12,
          14,
          18,
          4,
          12,
          16,
          9,
          12,
          21,
          18,
          24,
          15,
          8,
          8,
          15,
          17,
          17,
          19,
          27,
          18,
          26,
          25,
          21,
          15,
          12,
          10,
          15,
          15,
          14,
          22,
          18,
          25,
          24,
          21,
          26,
          19,
          11,
          16,
          19,
          18,
          20,
          16,
          38,
          22,
          24,
          22,
          18,
          18,
          15,
          13,
          18,
          23,
          12,
          18,
          27,
          32,
          20,
          14,
          22,
          23,
          17,
          8,
          17,
          10,
          11,
          10,
          22,
          16,
          17,
          13,
          19,
          11,
          14,
          8,
          6,
          13,
          15,
          16,
          33,
          31,
          23,
          16,
          21,
          13,
          12,
          17,
          15,
          16,
          14,
          18,
          14,
          14,
          16,
          13,
          12,
          29,
          26,
          15,
          16,
          18,
          13,
          12,
          10,
          21,
          13,
          13,
          6,
          8,
          14,
          10,
          12,
          6,
          9,
          7,
          2,
          5,
          14,
          3,
          3,
          9,
          6,
          3,
          6,
          9,
          4
         ],
         "yaxis": "y"
        },
        {
         "hovertemplate": "<b>OLS trendline</b><br>PostCount = -2.82571e-08 * x + 58.1599<br>R<sup>2</sup>=0.160248<br><br>Tags=baking<br>x=%{x}<br>PostCount=%{y} <b>(trend)</b><extra></extra>",
         "legendgroup": "baking",
         "marker": {
          "color": "#636efa",
          "symbol": "circle"
         },
         "mode": "lines",
         "name": "baking",
         "showlegend": false,
         "type": "scatter",
         "x": [
          "2012-01-01T00:00:00",
          "2012-02-01T00:00:00",
          "2012-03-01T00:00:00",
          "2012-04-01T00:00:00",
          "2012-05-01T00:00:00",
          "2012-06-01T00:00:00",
          "2012-07-01T00:00:00",
          "2012-08-01T00:00:00",
          "2012-09-01T00:00:00",
          "2012-10-01T00:00:00",
          "2012-11-01T00:00:00",
          "2012-12-01T00:00:00",
          "2013-01-01T00:00:00",
          "2013-02-01T00:00:00",
          "2013-03-01T00:00:00",
          "2013-04-01T00:00:00",
          "2013-05-01T00:00:00",
          "2013-06-01T00:00:00",
          "2013-07-01T00:00:00",
          "2013-08-01T00:00:00",
          "2013-09-01T00:00:00",
          "2013-10-01T00:00:00",
          "2013-11-01T00:00:00",
          "2013-12-01T00:00:00",
          "2014-01-01T00:00:00",
          "2014-02-01T00:00:00",
          "2014-03-01T00:00:00",
          "2014-04-01T00:00:00",
          "2014-05-01T00:00:00",
          "2014-06-01T00:00:00",
          "2014-07-01T00:00:00",
          "2014-08-01T00:00:00",
          "2014-09-01T00:00:00",
          "2014-10-01T00:00:00",
          "2014-11-01T00:00:00",
          "2014-12-01T00:00:00",
          "2015-01-01T00:00:00",
          "2015-02-01T00:00:00",
          "2015-03-01T00:00:00",
          "2015-04-01T00:00:00",
          "2015-05-01T00:00:00",
          "2015-06-01T00:00:00",
          "2015-07-01T00:00:00",
          "2015-08-01T00:00:00",
          "2015-09-01T00:00:00",
          "2015-10-01T00:00:00",
          "2015-11-01T00:00:00",
          "2015-12-01T00:00:00",
          "2016-01-01T00:00:00",
          "2016-02-01T00:00:00",
          "2016-03-01T00:00:00",
          "2016-04-01T00:00:00",
          "2016-05-01T00:00:00",
          "2016-06-01T00:00:00",
          "2016-07-01T00:00:00",
          "2016-08-01T00:00:00",
          "2016-09-01T00:00:00",
          "2016-10-01T00:00:00",
          "2016-11-01T00:00:00",
          "2016-12-01T00:00:00",
          "2017-01-01T00:00:00",
          "2017-02-01T00:00:00",
          "2017-03-01T00:00:00",
          "2017-04-01T00:00:00",
          "2017-05-01T00:00:00",
          "2017-06-01T00:00:00",
          "2017-07-01T00:00:00",
          "2017-08-01T00:00:00",
          "2017-09-01T00:00:00",
          "2017-10-01T00:00:00",
          "2017-11-01T00:00:00",
          "2017-12-01T00:00:00",
          "2018-01-01T00:00:00",
          "2018-02-01T00:00:00",
          "2018-03-01T00:00:00",
          "2018-04-01T00:00:00",
          "2018-05-01T00:00:00",
          "2018-06-01T00:00:00",
          "2018-07-01T00:00:00",
          "2018-08-01T00:00:00",
          "2018-09-01T00:00:00",
          "2018-10-01T00:00:00",
          "2018-11-01T00:00:00",
          "2018-12-01T00:00:00",
          "2019-01-01T00:00:00",
          "2019-02-01T00:00:00",
          "2019-03-01T00:00:00",
          "2019-04-01T00:00:00",
          "2019-05-01T00:00:00",
          "2019-06-01T00:00:00",
          "2019-07-01T00:00:00",
          "2019-08-01T00:00:00",
          "2019-09-01T00:00:00",
          "2019-10-01T00:00:00",
          "2019-11-01T00:00:00",
          "2019-12-01T00:00:00",
          "2020-01-01T00:00:00",
          "2020-02-01T00:00:00",
          "2020-03-01T00:00:00",
          "2020-04-01T00:00:00",
          "2020-05-01T00:00:00",
          "2020-06-01T00:00:00",
          "2020-07-01T00:00:00",
          "2020-08-01T00:00:00",
          "2020-09-01T00:00:00",
          "2020-10-01T00:00:00",
          "2020-11-01T00:00:00",
          "2020-12-01T00:00:00",
          "2021-01-01T00:00:00",
          "2021-02-01T00:00:00",
          "2021-03-01T00:00:00",
          "2021-04-01T00:00:00",
          "2021-05-01T00:00:00",
          "2021-06-01T00:00:00",
          "2021-07-01T00:00:00",
          "2021-08-01T00:00:00",
          "2021-09-01T00:00:00",
          "2021-10-01T00:00:00",
          "2021-11-01T00:00:00",
          "2021-12-01T00:00:00",
          "2022-01-01T00:00:00",
          "2022-02-01T00:00:00",
          "2022-03-01T00:00:00",
          "2022-04-01T00:00:00",
          "2022-05-01T00:00:00",
          "2022-06-01T00:00:00",
          "2022-07-01T00:00:00",
          "2022-08-01T00:00:00",
          "2022-09-01T00:00:00"
         ],
         "xaxis": "x",
         "y": [
          20.708639337806787,
          20.63295557272488,
          20.56215463119664,
          20.486470866114736,
          20.413228512809667,
          20.337544747727755,
          20.264302394422685,
          20.18861862934078,
          20.112934864258868,
          20.0396925109538,
          19.964008745871894,
          19.890766392566825,
          19.815082627484912,
          19.739398862403007,
          19.67103933265161,
          19.595355567569698,
          19.52211321426463,
          19.446429449182723,
          19.373187095877647,
          19.29750333079574,
          19.221819565713837,
          19.14857721240876,
          19.072893447326855,
          18.999651094021786,
          18.92396732893988,
          18.84828356385797,
          18.77992403410657,
          18.704240269024666,
          18.63099791571959,
          18.555314150637685,
          18.482071797332615,
          18.406388032250703,
          18.330704267168798,
          18.25746191386373,
          18.181778148781824,
          18.108535795476747,
          18.032852030394842,
          17.957168265312937,
          17.888808735561533,
          17.813124970479628,
          17.73988261717456,
          17.664198852092646,
          17.590956498787577,
          17.51527273370567,
          17.439588968623767,
          17.36634661531869,
          17.290662850236785,
          17.217420496931716,
          17.141736731849804,
          17.0660529667679,
          16.995252025239665,
          16.919568260157753,
          16.846325906852684,
          16.77064214177078,
          16.69739978846571,
          16.621716023383797,
          16.546032258301892,
          16.472789904996823,
          16.39710613991491,
          16.32386378660984,
          16.248180021527936,
          16.172496256446024,
          16.104136726694627,
          16.02845296161272,
          15.955210608307652,
          15.87952684322574,
          15.806284489920671,
          15.730600724838766,
          15.654916959756854,
          15.581674606451784,
          15.50599084136988,
          15.432748488064803,
          15.357064722982898,
          15.281380957900993,
          15.213021428149588,
          15.137337663067683,
          15.064095309762614,
          14.988411544680709,
          14.915169191375632,
          14.839485426293727,
          14.763801661211822,
          14.690559307906746,
          14.61487554282484,
          14.541633189519771,
          14.46594942443786,
          14.390265659355954,
          14.321906129604557,
          14.246222364522652,
          14.172980011217575,
          14.09729624613567,
          14.0240538928306,
          13.948370127748689,
          13.872686362666784,
          13.799444009361714,
          13.723760244279802,
          13.650517890974733,
          13.574834125892828,
          13.499150360810923,
          13.428349419282682,
          13.352665654200777,
          13.279423300895708,
          13.203739535813796,
          13.130497182508726,
          13.054813417426821,
          12.97912965234491,
          12.90588729903984,
          12.830203533957935,
          12.756961180652866,
          12.681277415570953,
          12.605593650489048,
          12.53723412073765,
          12.461550355655739,
          12.38830800235067,
          12.312624237268764,
          12.239381883963688,
          12.163698118881783,
          12.088014353799878,
          12.014772000494808,
          11.939088235412896,
          11.865845882107827,
          11.790162117025922,
          11.71447835194401,
          11.646118822192612,
          11.570435057110707,
          11.49719270380563,
          11.421508938723726,
          11.348266585418656,
          11.272582820336744,
          11.196899055254839
         ],
         "yaxis": "y"
        },
        {
         "hovertemplate": "Tags=bread<br>x=%{x}<br>PostCount=%{y}<br>ViewCount=%{marker.size}<extra></extra>",
         "legendgroup": "bread",
         "marker": {
          "color": "#EF553B",
          "size": [
           19781,
           23860,
           23190,
           20283,
           7558,
           27545,
           64840,
           11509,
           9625,
           25370,
           18987,
           3271,
           21098,
           1814,
           44619,
           8815,
           13645,
           2113,
           15796,
           4654,
           45588,
           18277,
           9191,
           39091,
           16172,
           9595,
           11103,
           10100,
           13342,
           4631,
           12541,
           22896,
           6799,
           14020,
           2795,
           3584,
           13793,
           6941,
           7438,
           26031,
           8797,
           29156,
           5912,
           2502,
           11801,
           3084,
           55102,
           9976,
           12496,
           3723,
           9913,
           11316,
           2941,
           4892,
           4621,
           6202,
           881,
           2427,
           6581,
           2628,
           4431,
           3594,
           4091,
           4486,
           4966,
           15096,
           11295,
           2195,
           2253,
           3169,
           820,
           957,
           5590,
           295,
           1032,
           4118,
           1862,
           5573,
           861,
           5974,
           1270,
           4774,
           812,
           499,
           1824,
           2477,
           3048,
           980,
           3119,
           1959,
           1138,
           1866,
           5139,
           4200,
           1369,
           3697,
           1413,
           2001,
           3618,
           1363,
           924,
           1388,
           1077,
           563,
           1098,
           343,
           542,
           1194,
           184,
           1022,
           5167,
           684,
           538,
           1406,
           519,
           281,
           675,
           887,
           870,
           498,
           1306,
           141,
           184,
           228,
           1019,
           126,
           85
          ],
          "sizemode": "area",
          "sizeref": 162.1,
          "symbol": "circle"
         },
         "mode": "markers",
         "name": "bread",
         "orientation": "v",
         "showlegend": true,
         "type": "scatter",
         "x": [
          "2012-01-01T00:00:00",
          "2012-02-01T00:00:00",
          "2012-03-01T00:00:00",
          "2012-04-01T00:00:00",
          "2012-05-01T00:00:00",
          "2012-06-01T00:00:00",
          "2012-07-01T00:00:00",
          "2012-08-01T00:00:00",
          "2012-09-01T00:00:00",
          "2012-10-01T00:00:00",
          "2012-11-01T00:00:00",
          "2012-12-01T00:00:00",
          "2013-01-01T00:00:00",
          "2013-02-01T00:00:00",
          "2013-03-01T00:00:00",
          "2013-04-01T00:00:00",
          "2013-05-01T00:00:00",
          "2013-06-01T00:00:00",
          "2013-07-01T00:00:00",
          "2013-08-01T00:00:00",
          "2013-09-01T00:00:00",
          "2013-10-01T00:00:00",
          "2013-11-01T00:00:00",
          "2013-12-01T00:00:00",
          "2014-01-01T00:00:00",
          "2014-02-01T00:00:00",
          "2014-03-01T00:00:00",
          "2014-04-01T00:00:00",
          "2014-05-01T00:00:00",
          "2014-06-01T00:00:00",
          "2014-07-01T00:00:00",
          "2014-08-01T00:00:00",
          "2014-09-01T00:00:00",
          "2014-10-01T00:00:00",
          "2014-11-01T00:00:00",
          "2014-12-01T00:00:00",
          "2015-01-01T00:00:00",
          "2015-02-01T00:00:00",
          "2015-03-01T00:00:00",
          "2015-04-01T00:00:00",
          "2015-05-01T00:00:00",
          "2015-06-01T00:00:00",
          "2015-07-01T00:00:00",
          "2015-08-01T00:00:00",
          "2015-09-01T00:00:00",
          "2015-10-01T00:00:00",
          "2015-11-01T00:00:00",
          "2015-12-01T00:00:00",
          "2016-01-01T00:00:00",
          "2016-02-01T00:00:00",
          "2016-03-01T00:00:00",
          "2016-04-01T00:00:00",
          "2016-05-01T00:00:00",
          "2016-06-01T00:00:00",
          "2016-07-01T00:00:00",
          "2016-08-01T00:00:00",
          "2016-09-01T00:00:00",
          "2016-10-01T00:00:00",
          "2016-11-01T00:00:00",
          "2016-12-01T00:00:00",
          "2017-01-01T00:00:00",
          "2017-02-01T00:00:00",
          "2017-03-01T00:00:00",
          "2017-04-01T00:00:00",
          "2017-05-01T00:00:00",
          "2017-06-01T00:00:00",
          "2017-07-01T00:00:00",
          "2017-08-01T00:00:00",
          "2017-09-01T00:00:00",
          "2017-10-01T00:00:00",
          "2017-11-01T00:00:00",
          "2017-12-01T00:00:00",
          "2018-01-01T00:00:00",
          "2018-02-01T00:00:00",
          "2018-03-01T00:00:00",
          "2018-04-01T00:00:00",
          "2018-05-01T00:00:00",
          "2018-06-01T00:00:00",
          "2018-07-01T00:00:00",
          "2018-08-01T00:00:00",
          "2018-09-01T00:00:00",
          "2018-10-01T00:00:00",
          "2018-11-01T00:00:00",
          "2018-12-01T00:00:00",
          "2019-01-01T00:00:00",
          "2019-02-01T00:00:00",
          "2019-03-01T00:00:00",
          "2019-04-01T00:00:00",
          "2019-05-01T00:00:00",
          "2019-06-01T00:00:00",
          "2019-07-01T00:00:00",
          "2019-08-01T00:00:00",
          "2019-09-01T00:00:00",
          "2019-10-01T00:00:00",
          "2019-11-01T00:00:00",
          "2019-12-01T00:00:00",
          "2020-01-01T00:00:00",
          "2020-02-01T00:00:00",
          "2020-03-01T00:00:00",
          "2020-04-01T00:00:00",
          "2020-05-01T00:00:00",
          "2020-06-01T00:00:00",
          "2020-07-01T00:00:00",
          "2020-08-01T00:00:00",
          "2020-09-01T00:00:00",
          "2020-10-01T00:00:00",
          "2020-11-01T00:00:00",
          "2020-12-01T00:00:00",
          "2021-01-01T00:00:00",
          "2021-02-01T00:00:00",
          "2021-03-01T00:00:00",
          "2021-04-01T00:00:00",
          "2021-05-01T00:00:00",
          "2021-06-01T00:00:00",
          "2021-07-01T00:00:00",
          "2021-08-01T00:00:00",
          "2021-09-01T00:00:00",
          "2021-10-01T00:00:00",
          "2021-11-01T00:00:00",
          "2021-12-01T00:00:00",
          "2022-01-01T00:00:00",
          "2022-02-01T00:00:00",
          "2022-03-01T00:00:00",
          "2022-04-01T00:00:00",
          "2022-05-01T00:00:00",
          "2022-08-01T00:00:00",
          "2022-09-01T00:00:00"
         ],
         "xaxis": "x",
         "y": [
          9,
          41,
          10,
          8,
          7,
          5,
          2,
          3,
          6,
          9,
          3,
          6,
          9,
          6,
          16,
          9,
          5,
          2,
          10,
          5,
          6,
          7,
          9,
          11,
          14,
          12,
          11,
          11,
          14,
          8,
          7,
          8,
          11,
          10,
          5,
          9,
          14,
          11,
          24,
          10,
          8,
          4,
          7,
          8,
          6,
          10,
          9,
          12,
          18,
          9,
          6,
          11,
          9,
          9,
          6,
          8,
          5,
          9,
          11,
          12,
          11,
          15,
          16,
          15,
          10,
          7,
          6,
          2,
          11,
          7,
          2,
          6,
          10,
          2,
          18,
          10,
          6,
          10,
          6,
          7,
          9,
          10,
          8,
          11,
          17,
          6,
          8,
          9,
          9,
          12,
          13,
          8,
          5,
          11,
          9,
          8,
          9,
          11,
          11,
          22,
          29,
          14,
          10,
          13,
          5,
          3,
          9,
          6,
          13,
          6,
          2,
          6,
          7,
          4,
          5,
          6,
          5,
          5,
          3,
          2,
          6,
          2,
          4,
          5,
          4,
          3,
          3
         ],
         "yaxis": "y"
        },
        {
         "hovertemplate": "<b>OLS trendline</b><br>PostCount = -8.72973e-09 * x + 21.8595<br>R<sup>2</sup>=0.025510<br><br>Tags=bread<br>x=%{x}<br>PostCount=%{y} <b>(trend)</b><extra></extra>",
         "legendgroup": "bread",
         "marker": {
          "color": "#EF553B",
          "symbol": "circle"
         },
         "mode": "lines",
         "name": "bread",
         "showlegend": false,
         "type": "scatter",
         "x": [
          "2012-01-01T00:00:00",
          "2012-02-01T00:00:00",
          "2012-03-01T00:00:00",
          "2012-04-01T00:00:00",
          "2012-05-01T00:00:00",
          "2012-06-01T00:00:00",
          "2012-07-01T00:00:00",
          "2012-08-01T00:00:00",
          "2012-09-01T00:00:00",
          "2012-10-01T00:00:00",
          "2012-11-01T00:00:00",
          "2012-12-01T00:00:00",
          "2013-01-01T00:00:00",
          "2013-02-01T00:00:00",
          "2013-03-01T00:00:00",
          "2013-04-01T00:00:00",
          "2013-05-01T00:00:00",
          "2013-06-01T00:00:00",
          "2013-07-01T00:00:00",
          "2013-08-01T00:00:00",
          "2013-09-01T00:00:00",
          "2013-10-01T00:00:00",
          "2013-11-01T00:00:00",
          "2013-12-01T00:00:00",
          "2014-01-01T00:00:00",
          "2014-02-01T00:00:00",
          "2014-03-01T00:00:00",
          "2014-04-01T00:00:00",
          "2014-05-01T00:00:00",
          "2014-06-01T00:00:00",
          "2014-07-01T00:00:00",
          "2014-08-01T00:00:00",
          "2014-09-01T00:00:00",
          "2014-10-01T00:00:00",
          "2014-11-01T00:00:00",
          "2014-12-01T00:00:00",
          "2015-01-01T00:00:00",
          "2015-02-01T00:00:00",
          "2015-03-01T00:00:00",
          "2015-04-01T00:00:00",
          "2015-05-01T00:00:00",
          "2015-06-01T00:00:00",
          "2015-07-01T00:00:00",
          "2015-08-01T00:00:00",
          "2015-09-01T00:00:00",
          "2015-10-01T00:00:00",
          "2015-11-01T00:00:00",
          "2015-12-01T00:00:00",
          "2016-01-01T00:00:00",
          "2016-02-01T00:00:00",
          "2016-03-01T00:00:00",
          "2016-04-01T00:00:00",
          "2016-05-01T00:00:00",
          "2016-06-01T00:00:00",
          "2016-07-01T00:00:00",
          "2016-08-01T00:00:00",
          "2016-09-01T00:00:00",
          "2016-10-01T00:00:00",
          "2016-11-01T00:00:00",
          "2016-12-01T00:00:00",
          "2017-01-01T00:00:00",
          "2017-02-01T00:00:00",
          "2017-03-01T00:00:00",
          "2017-04-01T00:00:00",
          "2017-05-01T00:00:00",
          "2017-06-01T00:00:00",
          "2017-07-01T00:00:00",
          "2017-08-01T00:00:00",
          "2017-09-01T00:00:00",
          "2017-10-01T00:00:00",
          "2017-11-01T00:00:00",
          "2017-12-01T00:00:00",
          "2018-01-01T00:00:00",
          "2018-02-01T00:00:00",
          "2018-03-01T00:00:00",
          "2018-04-01T00:00:00",
          "2018-05-01T00:00:00",
          "2018-06-01T00:00:00",
          "2018-07-01T00:00:00",
          "2018-08-01T00:00:00",
          "2018-09-01T00:00:00",
          "2018-10-01T00:00:00",
          "2018-11-01T00:00:00",
          "2018-12-01T00:00:00",
          "2019-01-01T00:00:00",
          "2019-02-01T00:00:00",
          "2019-03-01T00:00:00",
          "2019-04-01T00:00:00",
          "2019-05-01T00:00:00",
          "2019-06-01T00:00:00",
          "2019-07-01T00:00:00",
          "2019-08-01T00:00:00",
          "2019-09-01T00:00:00",
          "2019-10-01T00:00:00",
          "2019-11-01T00:00:00",
          "2019-12-01T00:00:00",
          "2020-01-01T00:00:00",
          "2020-02-01T00:00:00",
          "2020-03-01T00:00:00",
          "2020-04-01T00:00:00",
          "2020-05-01T00:00:00",
          "2020-06-01T00:00:00",
          "2020-07-01T00:00:00",
          "2020-08-01T00:00:00",
          "2020-09-01T00:00:00",
          "2020-10-01T00:00:00",
          "2020-11-01T00:00:00",
          "2020-12-01T00:00:00",
          "2021-01-01T00:00:00",
          "2021-02-01T00:00:00",
          "2021-03-01T00:00:00",
          "2021-04-01T00:00:00",
          "2021-05-01T00:00:00",
          "2021-06-01T00:00:00",
          "2021-07-01T00:00:00",
          "2021-08-01T00:00:00",
          "2021-09-01T00:00:00",
          "2021-10-01T00:00:00",
          "2021-11-01T00:00:00",
          "2021-12-01T00:00:00",
          "2022-01-01T00:00:00",
          "2022-02-01T00:00:00",
          "2022-03-01T00:00:00",
          "2022-04-01T00:00:00",
          "2022-05-01T00:00:00",
          "2022-08-01T00:00:00",
          "2022-09-01T00:00:00"
         ],
         "xaxis": "x",
         "y": [
          10.289346202815366,
          10.265964503745995,
          10.244091301390776,
          10.220709602321405,
          10.19808215160911,
          10.174700452539739,
          10.152073001827445,
          10.128691302758073,
          10.105309603688701,
          10.082682152976407,
          10.059300453907035,
          10.036673003194739,
          10.013291304125369,
          9.989909605055997,
          9.968790651057855,
          9.945408951988483,
          9.922781501276189,
          9.899399802206817,
          9.876772351494521,
          9.853390652425151,
          9.83000895335578,
          9.807381502643484,
          9.783999803574114,
          9.761372352861818,
          9.737990653792446,
          9.714608954723076,
          9.693490000724934,
          9.670108301655562,
          9.647480850943266,
          9.624099151873896,
          9.6014717011616,
          9.578090002092228,
          9.554708303022858,
          9.532080852310562,
          9.50869915324119,
          9.486071702528896,
          9.462690003459524,
          9.439308304390153,
          9.41818935039201,
          9.39480765132264,
          9.372180200610345,
          9.348798501540973,
          9.326171050828679,
          9.302789351759307,
          9.279407652689935,
          9.25678020197764,
          9.233398502908269,
          9.210771052195975,
          9.187389353126603,
          9.164007654057231,
          9.142134451702013,
          9.118752752632641,
          9.096125301920347,
          9.072743602850975,
          9.05011615213868,
          9.02673445306931,
          9.003352753999938,
          8.980725303287642,
          8.957343604218272,
          8.934716153505976,
          8.911334454436604,
          8.887952755367232,
          8.866833801369092,
          8.84345210229972,
          8.820824651587424,
          8.797442952518054,
          8.774815501805758,
          8.751433802736386,
          8.728052103667016,
          8.70542465295472,
          8.682042953885349,
          8.659415503173054,
          8.636033804103683,
          8.61265210503431,
          8.591533151036169,
          8.568151451966799,
          8.545524001254503,
          8.52214230218513,
          8.499514851472837,
          8.476133152403465,
          8.452751453334093,
          8.430124002621799,
          8.406742303552427,
          8.384114852840133,
          8.360733153770761,
          8.33735145470139,
          8.316232500703247,
          8.292850801633875,
          8.270223350921581,
          8.24684165185221,
          8.224214201139915,
          8.200832502070543,
          8.177450803001172,
          8.154823352288878,
          8.131441653219506,
          8.10881420250721,
          8.08543250343784,
          8.062050804368468,
          8.04017760201325,
          8.016795902943878,
          7.994168452231582,
          7.970786753162212,
          7.948159302449916,
          7.924777603380544,
          7.901395904311173,
          7.8787684535988785,
          7.855386754529507,
          7.8327593038172125,
          7.809377604747841,
          7.785995905678469,
          7.764876951680327,
          7.741495252610957,
          7.718867801898661,
          7.695486102829289,
          7.672858652116995,
          7.649476953047623,
          7.626095253978251,
          7.603467803265957,
          7.580086104196585,
          7.557458653484289,
          7.534076954414919,
          7.5106952553455475,
          7.489576301347405,
          7.466194602278033,
          7.443567151565739,
          7.374176302714702,
          7.35079460364533
         ],
         "yaxis": "y"
        }
       ],
       "layout": {
        "legend": {
         "itemsizing": "constant",
         "title": {
          "text": "Tags"
         },
         "tracegroupgap": 0
        },
        "template": {
         "data": {
          "bar": [
           {
            "error_x": {
             "color": "#2a3f5f"
            },
            "error_y": {
             "color": "#2a3f5f"
            },
            "marker": {
             "line": {
              "color": "#E5ECF6",
              "width": 0.5
             },
             "pattern": {
              "fillmode": "overlay",
              "size": 10,
              "solidity": 0.2
             }
            },
            "type": "bar"
           }
          ],
          "barpolar": [
           {
            "marker": {
             "line": {
              "color": "#E5ECF6",
              "width": 0.5
             },
             "pattern": {
              "fillmode": "overlay",
              "size": 10,
              "solidity": 0.2
             }
            },
            "type": "barpolar"
           }
          ],
          "carpet": [
           {
            "aaxis": {
             "endlinecolor": "#2a3f5f",
             "gridcolor": "white",
             "linecolor": "white",
             "minorgridcolor": "white",
             "startlinecolor": "#2a3f5f"
            },
            "baxis": {
             "endlinecolor": "#2a3f5f",
             "gridcolor": "white",
             "linecolor": "white",
             "minorgridcolor": "white",
             "startlinecolor": "#2a3f5f"
            },
            "type": "carpet"
           }
          ],
          "choropleth": [
           {
            "colorbar": {
             "outlinewidth": 0,
             "ticks": ""
            },
            "type": "choropleth"
           }
          ],
          "contour": [
           {
            "colorbar": {
             "outlinewidth": 0,
             "ticks": ""
            },
            "colorscale": [
             [
              0,
              "#0d0887"
             ],
             [
              0.1111111111111111,
              "#46039f"
             ],
             [
              0.2222222222222222,
              "#7201a8"
             ],
             [
              0.3333333333333333,
              "#9c179e"
             ],
             [
              0.4444444444444444,
              "#bd3786"
             ],
             [
              0.5555555555555556,
              "#d8576b"
             ],
             [
              0.6666666666666666,
              "#ed7953"
             ],
             [
              0.7777777777777778,
              "#fb9f3a"
             ],
             [
              0.8888888888888888,
              "#fdca26"
             ],
             [
              1,
              "#f0f921"
             ]
            ],
            "type": "contour"
           }
          ],
          "contourcarpet": [
           {
            "colorbar": {
             "outlinewidth": 0,
             "ticks": ""
            },
            "type": "contourcarpet"
           }
          ],
          "heatmap": [
           {
            "colorbar": {
             "outlinewidth": 0,
             "ticks": ""
            },
            "colorscale": [
             [
              0,
              "#0d0887"
             ],
             [
              0.1111111111111111,
              "#46039f"
             ],
             [
              0.2222222222222222,
              "#7201a8"
             ],
             [
              0.3333333333333333,
              "#9c179e"
             ],
             [
              0.4444444444444444,
              "#bd3786"
             ],
             [
              0.5555555555555556,
              "#d8576b"
             ],
             [
              0.6666666666666666,
              "#ed7953"
             ],
             [
              0.7777777777777778,
              "#fb9f3a"
             ],
             [
              0.8888888888888888,
              "#fdca26"
             ],
             [
              1,
              "#f0f921"
             ]
            ],
            "type": "heatmap"
           }
          ],
          "heatmapgl": [
           {
            "colorbar": {
             "outlinewidth": 0,
             "ticks": ""
            },
            "colorscale": [
             [
              0,
              "#0d0887"
             ],
             [
              0.1111111111111111,
              "#46039f"
             ],
             [
              0.2222222222222222,
              "#7201a8"
             ],
             [
              0.3333333333333333,
              "#9c179e"
             ],
             [
              0.4444444444444444,
              "#bd3786"
             ],
             [
              0.5555555555555556,
              "#d8576b"
             ],
             [
              0.6666666666666666,
              "#ed7953"
             ],
             [
              0.7777777777777778,
              "#fb9f3a"
             ],
             [
              0.8888888888888888,
              "#fdca26"
             ],
             [
              1,
              "#f0f921"
             ]
            ],
            "type": "heatmapgl"
           }
          ],
          "histogram": [
           {
            "marker": {
             "pattern": {
              "fillmode": "overlay",
              "size": 10,
              "solidity": 0.2
             }
            },
            "type": "histogram"
           }
          ],
          "histogram2d": [
           {
            "colorbar": {
             "outlinewidth": 0,
             "ticks": ""
            },
            "colorscale": [
             [
              0,
              "#0d0887"
             ],
             [
              0.1111111111111111,
              "#46039f"
             ],
             [
              0.2222222222222222,
              "#7201a8"
             ],
             [
              0.3333333333333333,
              "#9c179e"
             ],
             [
              0.4444444444444444,
              "#bd3786"
             ],
             [
              0.5555555555555556,
              "#d8576b"
             ],
             [
              0.6666666666666666,
              "#ed7953"
             ],
             [
              0.7777777777777778,
              "#fb9f3a"
             ],
             [
              0.8888888888888888,
              "#fdca26"
             ],
             [
              1,
              "#f0f921"
             ]
            ],
            "type": "histogram2d"
           }
          ],
          "histogram2dcontour": [
           {
            "colorbar": {
             "outlinewidth": 0,
             "ticks": ""
            },
            "colorscale": [
             [
              0,
              "#0d0887"
             ],
             [
              0.1111111111111111,
              "#46039f"
             ],
             [
              0.2222222222222222,
              "#7201a8"
             ],
             [
              0.3333333333333333,
              "#9c179e"
             ],
             [
              0.4444444444444444,
              "#bd3786"
             ],
             [
              0.5555555555555556,
              "#d8576b"
             ],
             [
              0.6666666666666666,
              "#ed7953"
             ],
             [
              0.7777777777777778,
              "#fb9f3a"
             ],
             [
              0.8888888888888888,
              "#fdca26"
             ],
             [
              1,
              "#f0f921"
             ]
            ],
            "type": "histogram2dcontour"
           }
          ],
          "mesh3d": [
           {
            "colorbar": {
             "outlinewidth": 0,
             "ticks": ""
            },
            "type": "mesh3d"
           }
          ],
          "parcoords": [
           {
            "line": {
             "colorbar": {
              "outlinewidth": 0,
              "ticks": ""
             }
            },
            "type": "parcoords"
           }
          ],
          "pie": [
           {
            "automargin": true,
            "type": "pie"
           }
          ],
          "scatter": [
           {
            "fillpattern": {
             "fillmode": "overlay",
             "size": 10,
             "solidity": 0.2
            },
            "type": "scatter"
           }
          ],
          "scatter3d": [
           {
            "line": {
             "colorbar": {
              "outlinewidth": 0,
              "ticks": ""
             }
            },
            "marker": {
             "colorbar": {
              "outlinewidth": 0,
              "ticks": ""
             }
            },
            "type": "scatter3d"
           }
          ],
          "scattercarpet": [
           {
            "marker": {
             "colorbar": {
              "outlinewidth": 0,
              "ticks": ""
             }
            },
            "type": "scattercarpet"
           }
          ],
          "scattergeo": [
           {
            "marker": {
             "colorbar": {
              "outlinewidth": 0,
              "ticks": ""
             }
            },
            "type": "scattergeo"
           }
          ],
          "scattergl": [
           {
            "marker": {
             "colorbar": {
              "outlinewidth": 0,
              "ticks": ""
             }
            },
            "type": "scattergl"
           }
          ],
          "scattermapbox": [
           {
            "marker": {
             "colorbar": {
              "outlinewidth": 0,
              "ticks": ""
             }
            },
            "type": "scattermapbox"
           }
          ],
          "scatterpolar": [
           {
            "marker": {
             "colorbar": {
              "outlinewidth": 0,
              "ticks": ""
             }
            },
            "type": "scatterpolar"
           }
          ],
          "scatterpolargl": [
           {
            "marker": {
             "colorbar": {
              "outlinewidth": 0,
              "ticks": ""
             }
            },
            "type": "scatterpolargl"
           }
          ],
          "scatterternary": [
           {
            "marker": {
             "colorbar": {
              "outlinewidth": 0,
              "ticks": ""
             }
            },
            "type": "scatterternary"
           }
          ],
          "surface": [
           {
            "colorbar": {
             "outlinewidth": 0,
             "ticks": ""
            },
            "colorscale": [
             [
              0,
              "#0d0887"
             ],
             [
              0.1111111111111111,
              "#46039f"
             ],
             [
              0.2222222222222222,
              "#7201a8"
             ],
             [
              0.3333333333333333,
              "#9c179e"
             ],
             [
              0.4444444444444444,
              "#bd3786"
             ],
             [
              0.5555555555555556,
              "#d8576b"
             ],
             [
              0.6666666666666666,
              "#ed7953"
             ],
             [
              0.7777777777777778,
              "#fb9f3a"
             ],
             [
              0.8888888888888888,
              "#fdca26"
             ],
             [
              1,
              "#f0f921"
             ]
            ],
            "type": "surface"
           }
          ],
          "table": [
           {
            "cells": {
             "fill": {
              "color": "#EBF0F8"
             },
             "line": {
              "color": "white"
             }
            },
            "header": {
             "fill": {
              "color": "#C8D4E3"
             },
             "line": {
              "color": "white"
             }
            },
            "type": "table"
           }
          ]
         },
         "layout": {
          "annotationdefaults": {
           "arrowcolor": "#2a3f5f",
           "arrowhead": 0,
           "arrowwidth": 1
          },
          "autotypenumbers": "strict",
          "coloraxis": {
           "colorbar": {
            "outlinewidth": 0,
            "ticks": ""
           }
          },
          "colorscale": {
           "diverging": [
            [
             0,
             "#8e0152"
            ],
            [
             0.1,
             "#c51b7d"
            ],
            [
             0.2,
             "#de77ae"
            ],
            [
             0.3,
             "#f1b6da"
            ],
            [
             0.4,
             "#fde0ef"
            ],
            [
             0.5,
             "#f7f7f7"
            ],
            [
             0.6,
             "#e6f5d0"
            ],
            [
             0.7,
             "#b8e186"
            ],
            [
             0.8,
             "#7fbc41"
            ],
            [
             0.9,
             "#4d9221"
            ],
            [
             1,
             "#276419"
            ]
           ],
           "sequential": [
            [
             0,
             "#0d0887"
            ],
            [
             0.1111111111111111,
             "#46039f"
            ],
            [
             0.2222222222222222,
             "#7201a8"
            ],
            [
             0.3333333333333333,
             "#9c179e"
            ],
            [
             0.4444444444444444,
             "#bd3786"
            ],
            [
             0.5555555555555556,
             "#d8576b"
            ],
            [
             0.6666666666666666,
             "#ed7953"
            ],
            [
             0.7777777777777778,
             "#fb9f3a"
            ],
            [
             0.8888888888888888,
             "#fdca26"
            ],
            [
             1,
             "#f0f921"
            ]
           ],
           "sequentialminus": [
            [
             0,
             "#0d0887"
            ],
            [
             0.1111111111111111,
             "#46039f"
            ],
            [
             0.2222222222222222,
             "#7201a8"
            ],
            [
             0.3333333333333333,
             "#9c179e"
            ],
            [
             0.4444444444444444,
             "#bd3786"
            ],
            [
             0.5555555555555556,
             "#d8576b"
            ],
            [
             0.6666666666666666,
             "#ed7953"
            ],
            [
             0.7777777777777778,
             "#fb9f3a"
            ],
            [
             0.8888888888888888,
             "#fdca26"
            ],
            [
             1,
             "#f0f921"
            ]
           ]
          },
          "colorway": [
           "#636efa",
           "#EF553B",
           "#00cc96",
           "#ab63fa",
           "#FFA15A",
           "#19d3f3",
           "#FF6692",
           "#B6E880",
           "#FF97FF",
           "#FECB52"
          ],
          "font": {
           "color": "#2a3f5f"
          },
          "geo": {
           "bgcolor": "white",
           "lakecolor": "white",
           "landcolor": "#E5ECF6",
           "showlakes": true,
           "showland": true,
           "subunitcolor": "white"
          },
          "hoverlabel": {
           "align": "left"
          },
          "hovermode": "closest",
          "mapbox": {
           "style": "light"
          },
          "paper_bgcolor": "white",
          "plot_bgcolor": "#E5ECF6",
          "polar": {
           "angularaxis": {
            "gridcolor": "white",
            "linecolor": "white",
            "ticks": ""
           },
           "bgcolor": "#E5ECF6",
           "radialaxis": {
            "gridcolor": "white",
            "linecolor": "white",
            "ticks": ""
           }
          },
          "scene": {
           "xaxis": {
            "backgroundcolor": "#E5ECF6",
            "gridcolor": "white",
            "gridwidth": 2,
            "linecolor": "white",
            "showbackground": true,
            "ticks": "",
            "zerolinecolor": "white"
           },
           "yaxis": {
            "backgroundcolor": "#E5ECF6",
            "gridcolor": "white",
            "gridwidth": 2,
            "linecolor": "white",
            "showbackground": true,
            "ticks": "",
            "zerolinecolor": "white"
           },
           "zaxis": {
            "backgroundcolor": "#E5ECF6",
            "gridcolor": "white",
            "gridwidth": 2,
            "linecolor": "white",
            "showbackground": true,
            "ticks": "",
            "zerolinecolor": "white"
           }
          },
          "shapedefaults": {
           "line": {
            "color": "#2a3f5f"
           }
          },
          "ternary": {
           "aaxis": {
            "gridcolor": "white",
            "linecolor": "white",
            "ticks": ""
           },
           "baxis": {
            "gridcolor": "white",
            "linecolor": "white",
            "ticks": ""
           },
           "bgcolor": "#E5ECF6",
           "caxis": {
            "gridcolor": "white",
            "linecolor": "white",
            "ticks": ""
           }
          },
          "title": {
           "x": 0.05
          },
          "xaxis": {
           "automargin": true,
           "gridcolor": "white",
           "linecolor": "white",
           "ticks": "",
           "title": {
            "standoff": 15
           },
           "zerolinecolor": "white",
           "zerolinewidth": 2
          },
          "yaxis": {
           "automargin": true,
           "gridcolor": "white",
           "linecolor": "white",
           "ticks": "",
           "title": {
            "standoff": 15
           },
           "zerolinecolor": "white",
           "zerolinewidth": 2
          }
         }
        },
        "title": {
         "text": "Post count of Baking and Bread tags on StackOverflow (size = number of views)"
        },
        "xaxis": {
         "anchor": "y",
         "domain": [
          0,
          1
         ],
         "title": {
          "text": "x"
         }
        },
        "yaxis": {
         "anchor": "x",
         "domain": [
          0,
          1
         ],
         "title": {
          "text": "PostCount"
         }
        }
       }
      }
     },
     "metadata": {},
     "output_type": "display_data"
    }
   ],
   "source": [
    "\n",
    "fig = px.scatter(mytags,\n",
    "           x=mytags.CreationDate.dt.to_timestamp(),\n",
    "           y=\"PostCount\",\n",
    "           color=\"Tags\",\n",
    "           title=\"Post count of Baking and Bread tags on StackOverflow (size = number of views)\",\n",
    "           trendline=\"ols\",\n",
    "           size=\"ViewCount\",\n",
    "           )\n",
    "           #hover_name=\"Title\")\n",
    "\n",
    "fig.show()"
   ]
  },
  {
   "cell_type": "code",
   "execution_count": 17,
   "metadata": {},
   "outputs": [],
   "source": [
    "fig.write_html('tags.html')"
   ]
  },
  {
   "cell_type": "markdown",
   "metadata": {},
   "source": [
    "# Pandemic"
   ]
  },
  {
   "cell_type": "code",
   "execution_count": 31,
   "metadata": {},
   "outputs": [],
   "source": [
    "pandemic = mytags[\n",
    "    (mytags.CreationDate > \"2018-01-01\") & (mytags.CreationDate < \"2022-07-30\")\n",
    "].copy()\n"
   ]
  },
  {
   "cell_type": "code",
   "execution_count": 24,
   "metadata": {},
   "outputs": [
    {
     "data": {
      "application/vnd.plotly.v1+json": {
       "config": {
        "plotlyServerURL": "https://plot.ly"
       },
       "data": [
        {
         "hovertemplate": "Tags=baking<br>x=%{x}<br>PostCount=%{y}<extra></extra>",
         "legendgroup": "baking",
         "line": {
          "color": "#636efa",
          "dash": "solid"
         },
         "marker": {
          "symbol": "circle"
         },
         "mode": "lines",
         "name": "baking",
         "orientation": "v",
         "showlegend": true,
         "type": "scatter",
         "x": [
          "2018-02-01T00:00:00",
          "2018-03-01T00:00:00",
          "2018-04-01T00:00:00",
          "2018-05-01T00:00:00",
          "2018-06-01T00:00:00",
          "2018-07-01T00:00:00",
          "2018-08-01T00:00:00",
          "2018-09-01T00:00:00",
          "2018-10-01T00:00:00",
          "2018-11-01T00:00:00",
          "2018-12-01T00:00:00",
          "2019-01-01T00:00:00",
          "2019-02-01T00:00:00",
          "2019-03-01T00:00:00",
          "2019-04-01T00:00:00",
          "2019-05-01T00:00:00",
          "2019-06-01T00:00:00",
          "2019-07-01T00:00:00",
          "2019-08-01T00:00:00",
          "2019-09-01T00:00:00",
          "2019-10-01T00:00:00",
          "2019-11-01T00:00:00",
          "2019-12-01T00:00:00",
          "2020-01-01T00:00:00",
          "2020-02-01T00:00:00",
          "2020-03-01T00:00:00",
          "2020-04-01T00:00:00",
          "2020-05-01T00:00:00",
          "2020-06-01T00:00:00",
          "2020-07-01T00:00:00",
          "2020-08-01T00:00:00",
          "2020-09-01T00:00:00",
          "2020-10-01T00:00:00",
          "2020-11-01T00:00:00",
          "2020-12-01T00:00:00",
          "2021-01-01T00:00:00",
          "2021-02-01T00:00:00",
          "2021-03-01T00:00:00",
          "2021-04-01T00:00:00",
          "2021-05-01T00:00:00",
          "2021-06-01T00:00:00",
          "2021-07-01T00:00:00",
          "2021-08-01T00:00:00",
          "2021-09-01T00:00:00",
          "2021-10-01T00:00:00",
          "2021-11-01T00:00:00",
          "2021-12-01T00:00:00",
          "2022-01-01T00:00:00",
          "2022-02-01T00:00:00",
          "2022-03-01T00:00:00",
          "2022-04-01T00:00:00",
          "2022-05-01T00:00:00",
          "2022-06-01T00:00:00"
         ],
         "xaxis": "x",
         "y": [
          13,
          19,
          11,
          14,
          8,
          6,
          13,
          15,
          16,
          33,
          31,
          23,
          16,
          21,
          13,
          12,
          17,
          15,
          16,
          14,
          18,
          14,
          14,
          16,
          13,
          12,
          29,
          26,
          15,
          16,
          18,
          13,
          12,
          10,
          21,
          13,
          13,
          6,
          8,
          14,
          10,
          12,
          6,
          9,
          7,
          2,
          5,
          14,
          3,
          3,
          9,
          6,
          3
         ],
         "yaxis": "y"
        },
        {
         "hovertemplate": "Tags=bread<br>x=%{x}<br>PostCount=%{y}<extra></extra>",
         "legendgroup": "bread",
         "line": {
          "color": "#EF553B",
          "dash": "solid"
         },
         "marker": {
          "symbol": "circle"
         },
         "mode": "lines",
         "name": "bread",
         "orientation": "v",
         "showlegend": true,
         "type": "scatter",
         "x": [
          "2018-02-01T00:00:00",
          "2018-03-01T00:00:00",
          "2018-04-01T00:00:00",
          "2018-05-01T00:00:00",
          "2018-06-01T00:00:00",
          "2018-07-01T00:00:00",
          "2018-08-01T00:00:00",
          "2018-09-01T00:00:00",
          "2018-10-01T00:00:00",
          "2018-11-01T00:00:00",
          "2018-12-01T00:00:00",
          "2019-01-01T00:00:00",
          "2019-02-01T00:00:00",
          "2019-03-01T00:00:00",
          "2019-04-01T00:00:00",
          "2019-05-01T00:00:00",
          "2019-06-01T00:00:00",
          "2019-07-01T00:00:00",
          "2019-08-01T00:00:00",
          "2019-09-01T00:00:00",
          "2019-10-01T00:00:00",
          "2019-11-01T00:00:00",
          "2019-12-01T00:00:00",
          "2020-01-01T00:00:00",
          "2020-02-01T00:00:00",
          "2020-03-01T00:00:00",
          "2020-04-01T00:00:00",
          "2020-05-01T00:00:00",
          "2020-06-01T00:00:00",
          "2020-07-01T00:00:00",
          "2020-08-01T00:00:00",
          "2020-09-01T00:00:00",
          "2020-10-01T00:00:00",
          "2020-11-01T00:00:00",
          "2020-12-01T00:00:00",
          "2021-01-01T00:00:00",
          "2021-02-01T00:00:00",
          "2021-03-01T00:00:00",
          "2021-04-01T00:00:00",
          "2021-05-01T00:00:00",
          "2021-06-01T00:00:00",
          "2021-07-01T00:00:00",
          "2021-08-01T00:00:00",
          "2021-09-01T00:00:00",
          "2021-10-01T00:00:00",
          "2021-11-01T00:00:00",
          "2021-12-01T00:00:00",
          "2022-01-01T00:00:00",
          "2022-02-01T00:00:00",
          "2022-03-01T00:00:00",
          "2022-04-01T00:00:00",
          "2022-05-01T00:00:00"
         ],
         "xaxis": "x",
         "y": [
          2,
          18,
          10,
          6,
          10,
          6,
          7,
          9,
          10,
          8,
          11,
          17,
          6,
          8,
          9,
          9,
          12,
          13,
          8,
          5,
          11,
          9,
          8,
          9,
          11,
          11,
          22,
          29,
          14,
          10,
          13,
          5,
          3,
          9,
          6,
          13,
          6,
          2,
          6,
          7,
          4,
          5,
          6,
          5,
          5,
          3,
          2,
          6,
          2,
          4,
          5,
          4
         ],
         "yaxis": "y"
        }
       ],
       "layout": {
        "annotations": [
         {
          "align": "right",
          "font": {
           "color": "black",
           "family": "Courier New, monospace",
           "size": 16
          },
          "showarrow": false,
          "text": "COVID-19",
          "x": "2020-03-11",
          "y": 35
         }
        ],
        "legend": {
         "title": {
          "text": "Tags"
         },
         "tracegroupgap": 0
        },
        "shapes": [
         {
          "line": {
           "color": "gray",
           "dash": "dash",
           "width": 2
          },
          "type": "line",
          "x0": "2020-03-11",
          "x1": "2020-03-11",
          "xref": "x",
          "y0": 0,
          "y1": 1,
          "yref": "y domain"
         }
        ],
        "template": {
         "data": {
          "bar": [
           {
            "error_x": {
             "color": "#2a3f5f"
            },
            "error_y": {
             "color": "#2a3f5f"
            },
            "marker": {
             "line": {
              "color": "#E5ECF6",
              "width": 0.5
             },
             "pattern": {
              "fillmode": "overlay",
              "size": 10,
              "solidity": 0.2
             }
            },
            "type": "bar"
           }
          ],
          "barpolar": [
           {
            "marker": {
             "line": {
              "color": "#E5ECF6",
              "width": 0.5
             },
             "pattern": {
              "fillmode": "overlay",
              "size": 10,
              "solidity": 0.2
             }
            },
            "type": "barpolar"
           }
          ],
          "carpet": [
           {
            "aaxis": {
             "endlinecolor": "#2a3f5f",
             "gridcolor": "white",
             "linecolor": "white",
             "minorgridcolor": "white",
             "startlinecolor": "#2a3f5f"
            },
            "baxis": {
             "endlinecolor": "#2a3f5f",
             "gridcolor": "white",
             "linecolor": "white",
             "minorgridcolor": "white",
             "startlinecolor": "#2a3f5f"
            },
            "type": "carpet"
           }
          ],
          "choropleth": [
           {
            "colorbar": {
             "outlinewidth": 0,
             "ticks": ""
            },
            "type": "choropleth"
           }
          ],
          "contour": [
           {
            "colorbar": {
             "outlinewidth": 0,
             "ticks": ""
            },
            "colorscale": [
             [
              0,
              "#0d0887"
             ],
             [
              0.1111111111111111,
              "#46039f"
             ],
             [
              0.2222222222222222,
              "#7201a8"
             ],
             [
              0.3333333333333333,
              "#9c179e"
             ],
             [
              0.4444444444444444,
              "#bd3786"
             ],
             [
              0.5555555555555556,
              "#d8576b"
             ],
             [
              0.6666666666666666,
              "#ed7953"
             ],
             [
              0.7777777777777778,
              "#fb9f3a"
             ],
             [
              0.8888888888888888,
              "#fdca26"
             ],
             [
              1,
              "#f0f921"
             ]
            ],
            "type": "contour"
           }
          ],
          "contourcarpet": [
           {
            "colorbar": {
             "outlinewidth": 0,
             "ticks": ""
            },
            "type": "contourcarpet"
           }
          ],
          "heatmap": [
           {
            "colorbar": {
             "outlinewidth": 0,
             "ticks": ""
            },
            "colorscale": [
             [
              0,
              "#0d0887"
             ],
             [
              0.1111111111111111,
              "#46039f"
             ],
             [
              0.2222222222222222,
              "#7201a8"
             ],
             [
              0.3333333333333333,
              "#9c179e"
             ],
             [
              0.4444444444444444,
              "#bd3786"
             ],
             [
              0.5555555555555556,
              "#d8576b"
             ],
             [
              0.6666666666666666,
              "#ed7953"
             ],
             [
              0.7777777777777778,
              "#fb9f3a"
             ],
             [
              0.8888888888888888,
              "#fdca26"
             ],
             [
              1,
              "#f0f921"
             ]
            ],
            "type": "heatmap"
           }
          ],
          "heatmapgl": [
           {
            "colorbar": {
             "outlinewidth": 0,
             "ticks": ""
            },
            "colorscale": [
             [
              0,
              "#0d0887"
             ],
             [
              0.1111111111111111,
              "#46039f"
             ],
             [
              0.2222222222222222,
              "#7201a8"
             ],
             [
              0.3333333333333333,
              "#9c179e"
             ],
             [
              0.4444444444444444,
              "#bd3786"
             ],
             [
              0.5555555555555556,
              "#d8576b"
             ],
             [
              0.6666666666666666,
              "#ed7953"
             ],
             [
              0.7777777777777778,
              "#fb9f3a"
             ],
             [
              0.8888888888888888,
              "#fdca26"
             ],
             [
              1,
              "#f0f921"
             ]
            ],
            "type": "heatmapgl"
           }
          ],
          "histogram": [
           {
            "marker": {
             "pattern": {
              "fillmode": "overlay",
              "size": 10,
              "solidity": 0.2
             }
            },
            "type": "histogram"
           }
          ],
          "histogram2d": [
           {
            "colorbar": {
             "outlinewidth": 0,
             "ticks": ""
            },
            "colorscale": [
             [
              0,
              "#0d0887"
             ],
             [
              0.1111111111111111,
              "#46039f"
             ],
             [
              0.2222222222222222,
              "#7201a8"
             ],
             [
              0.3333333333333333,
              "#9c179e"
             ],
             [
              0.4444444444444444,
              "#bd3786"
             ],
             [
              0.5555555555555556,
              "#d8576b"
             ],
             [
              0.6666666666666666,
              "#ed7953"
             ],
             [
              0.7777777777777778,
              "#fb9f3a"
             ],
             [
              0.8888888888888888,
              "#fdca26"
             ],
             [
              1,
              "#f0f921"
             ]
            ],
            "type": "histogram2d"
           }
          ],
          "histogram2dcontour": [
           {
            "colorbar": {
             "outlinewidth": 0,
             "ticks": ""
            },
            "colorscale": [
             [
              0,
              "#0d0887"
             ],
             [
              0.1111111111111111,
              "#46039f"
             ],
             [
              0.2222222222222222,
              "#7201a8"
             ],
             [
              0.3333333333333333,
              "#9c179e"
             ],
             [
              0.4444444444444444,
              "#bd3786"
             ],
             [
              0.5555555555555556,
              "#d8576b"
             ],
             [
              0.6666666666666666,
              "#ed7953"
             ],
             [
              0.7777777777777778,
              "#fb9f3a"
             ],
             [
              0.8888888888888888,
              "#fdca26"
             ],
             [
              1,
              "#f0f921"
             ]
            ],
            "type": "histogram2dcontour"
           }
          ],
          "mesh3d": [
           {
            "colorbar": {
             "outlinewidth": 0,
             "ticks": ""
            },
            "type": "mesh3d"
           }
          ],
          "parcoords": [
           {
            "line": {
             "colorbar": {
              "outlinewidth": 0,
              "ticks": ""
             }
            },
            "type": "parcoords"
           }
          ],
          "pie": [
           {
            "automargin": true,
            "type": "pie"
           }
          ],
          "scatter": [
           {
            "fillpattern": {
             "fillmode": "overlay",
             "size": 10,
             "solidity": 0.2
            },
            "type": "scatter"
           }
          ],
          "scatter3d": [
           {
            "line": {
             "colorbar": {
              "outlinewidth": 0,
              "ticks": ""
             }
            },
            "marker": {
             "colorbar": {
              "outlinewidth": 0,
              "ticks": ""
             }
            },
            "type": "scatter3d"
           }
          ],
          "scattercarpet": [
           {
            "marker": {
             "colorbar": {
              "outlinewidth": 0,
              "ticks": ""
             }
            },
            "type": "scattercarpet"
           }
          ],
          "scattergeo": [
           {
            "marker": {
             "colorbar": {
              "outlinewidth": 0,
              "ticks": ""
             }
            },
            "type": "scattergeo"
           }
          ],
          "scattergl": [
           {
            "marker": {
             "colorbar": {
              "outlinewidth": 0,
              "ticks": ""
             }
            },
            "type": "scattergl"
           }
          ],
          "scattermapbox": [
           {
            "marker": {
             "colorbar": {
              "outlinewidth": 0,
              "ticks": ""
             }
            },
            "type": "scattermapbox"
           }
          ],
          "scatterpolar": [
           {
            "marker": {
             "colorbar": {
              "outlinewidth": 0,
              "ticks": ""
             }
            },
            "type": "scatterpolar"
           }
          ],
          "scatterpolargl": [
           {
            "marker": {
             "colorbar": {
              "outlinewidth": 0,
              "ticks": ""
             }
            },
            "type": "scatterpolargl"
           }
          ],
          "scatterternary": [
           {
            "marker": {
             "colorbar": {
              "outlinewidth": 0,
              "ticks": ""
             }
            },
            "type": "scatterternary"
           }
          ],
          "surface": [
           {
            "colorbar": {
             "outlinewidth": 0,
             "ticks": ""
            },
            "colorscale": [
             [
              0,
              "#0d0887"
             ],
             [
              0.1111111111111111,
              "#46039f"
             ],
             [
              0.2222222222222222,
              "#7201a8"
             ],
             [
              0.3333333333333333,
              "#9c179e"
             ],
             [
              0.4444444444444444,
              "#bd3786"
             ],
             [
              0.5555555555555556,
              "#d8576b"
             ],
             [
              0.6666666666666666,
              "#ed7953"
             ],
             [
              0.7777777777777778,
              "#fb9f3a"
             ],
             [
              0.8888888888888888,
              "#fdca26"
             ],
             [
              1,
              "#f0f921"
             ]
            ],
            "type": "surface"
           }
          ],
          "table": [
           {
            "cells": {
             "fill": {
              "color": "#EBF0F8"
             },
             "line": {
              "color": "white"
             }
            },
            "header": {
             "fill": {
              "color": "#C8D4E3"
             },
             "line": {
              "color": "white"
             }
            },
            "type": "table"
           }
          ]
         },
         "layout": {
          "annotationdefaults": {
           "arrowcolor": "#2a3f5f",
           "arrowhead": 0,
           "arrowwidth": 1
          },
          "autotypenumbers": "strict",
          "coloraxis": {
           "colorbar": {
            "outlinewidth": 0,
            "ticks": ""
           }
          },
          "colorscale": {
           "diverging": [
            [
             0,
             "#8e0152"
            ],
            [
             0.1,
             "#c51b7d"
            ],
            [
             0.2,
             "#de77ae"
            ],
            [
             0.3,
             "#f1b6da"
            ],
            [
             0.4,
             "#fde0ef"
            ],
            [
             0.5,
             "#f7f7f7"
            ],
            [
             0.6,
             "#e6f5d0"
            ],
            [
             0.7,
             "#b8e186"
            ],
            [
             0.8,
             "#7fbc41"
            ],
            [
             0.9,
             "#4d9221"
            ],
            [
             1,
             "#276419"
            ]
           ],
           "sequential": [
            [
             0,
             "#0d0887"
            ],
            [
             0.1111111111111111,
             "#46039f"
            ],
            [
             0.2222222222222222,
             "#7201a8"
            ],
            [
             0.3333333333333333,
             "#9c179e"
            ],
            [
             0.4444444444444444,
             "#bd3786"
            ],
            [
             0.5555555555555556,
             "#d8576b"
            ],
            [
             0.6666666666666666,
             "#ed7953"
            ],
            [
             0.7777777777777778,
             "#fb9f3a"
            ],
            [
             0.8888888888888888,
             "#fdca26"
            ],
            [
             1,
             "#f0f921"
            ]
           ],
           "sequentialminus": [
            [
             0,
             "#0d0887"
            ],
            [
             0.1111111111111111,
             "#46039f"
            ],
            [
             0.2222222222222222,
             "#7201a8"
            ],
            [
             0.3333333333333333,
             "#9c179e"
            ],
            [
             0.4444444444444444,
             "#bd3786"
            ],
            [
             0.5555555555555556,
             "#d8576b"
            ],
            [
             0.6666666666666666,
             "#ed7953"
            ],
            [
             0.7777777777777778,
             "#fb9f3a"
            ],
            [
             0.8888888888888888,
             "#fdca26"
            ],
            [
             1,
             "#f0f921"
            ]
           ]
          },
          "colorway": [
           "#636efa",
           "#EF553B",
           "#00cc96",
           "#ab63fa",
           "#FFA15A",
           "#19d3f3",
           "#FF6692",
           "#B6E880",
           "#FF97FF",
           "#FECB52"
          ],
          "font": {
           "color": "#2a3f5f"
          },
          "geo": {
           "bgcolor": "white",
           "lakecolor": "white",
           "landcolor": "#E5ECF6",
           "showlakes": true,
           "showland": true,
           "subunitcolor": "white"
          },
          "hoverlabel": {
           "align": "left"
          },
          "hovermode": "closest",
          "mapbox": {
           "style": "light"
          },
          "paper_bgcolor": "white",
          "plot_bgcolor": "#E5ECF6",
          "polar": {
           "angularaxis": {
            "gridcolor": "white",
            "linecolor": "white",
            "ticks": ""
           },
           "bgcolor": "#E5ECF6",
           "radialaxis": {
            "gridcolor": "white",
            "linecolor": "white",
            "ticks": ""
           }
          },
          "scene": {
           "xaxis": {
            "backgroundcolor": "#E5ECF6",
            "gridcolor": "white",
            "gridwidth": 2,
            "linecolor": "white",
            "showbackground": true,
            "ticks": "",
            "zerolinecolor": "white"
           },
           "yaxis": {
            "backgroundcolor": "#E5ECF6",
            "gridcolor": "white",
            "gridwidth": 2,
            "linecolor": "white",
            "showbackground": true,
            "ticks": "",
            "zerolinecolor": "white"
           },
           "zaxis": {
            "backgroundcolor": "#E5ECF6",
            "gridcolor": "white",
            "gridwidth": 2,
            "linecolor": "white",
            "showbackground": true,
            "ticks": "",
            "zerolinecolor": "white"
           }
          },
          "shapedefaults": {
           "line": {
            "color": "#2a3f5f"
           }
          },
          "ternary": {
           "aaxis": {
            "gridcolor": "white",
            "linecolor": "white",
            "ticks": ""
           },
           "baxis": {
            "gridcolor": "white",
            "linecolor": "white",
            "ticks": ""
           },
           "bgcolor": "#E5ECF6",
           "caxis": {
            "gridcolor": "white",
            "linecolor": "white",
            "ticks": ""
           }
          },
          "title": {
           "x": 0.05
          },
          "xaxis": {
           "automargin": true,
           "gridcolor": "white",
           "linecolor": "white",
           "ticks": "",
           "title": {
            "standoff": 15
           },
           "zerolinecolor": "white",
           "zerolinewidth": 2
          },
          "yaxis": {
           "automargin": true,
           "gridcolor": "white",
           "linecolor": "white",
           "ticks": "",
           "title": {
            "standoff": 15
           },
           "zerolinecolor": "white",
           "zerolinewidth": 2
          }
         }
        },
        "title": {
         "text": "Baking and Bread"
        },
        "xaxis": {
         "anchor": "y",
         "domain": [
          0,
          1
         ],
         "title": {
          "text": "x"
         }
        },
        "yaxis": {
         "anchor": "x",
         "domain": [
          0,
          1
         ],
         "title": {
          "text": "PostCount"
         }
        }
       }
      }
     },
     "metadata": {},
     "output_type": "display_data"
    }
   ],
   "source": [
    "covid = px.line(\n",
    "    pandemic,\n",
    "    x=pandemic.CreationDate.dt.to_timestamp(),\n",
    "    y=\"PostCount\",\n",
    "    color=\"Tags\",\n",
    "    title=\"Baking and Bread\",\n",
    ")\n",
    "\n",
    "\n",
    "covid.add_vline(\n",
    "    x=\"2020-03-11\",\n",
    "    line_width=2,\n",
    "    line_dash=\"dash\",\n",
    "    line_color=\"gray\"\n",
    ")\n",
    "\n",
    "# add text annotation vertically\n",
    "\n",
    "covid.add_annotation(\n",
    "    x=\"2020-03-11\",\n",
    "    y=35,\n",
    "    align=\"right\",\n",
    "    text=\"COVID-19\",\n",
    "    showarrow=False,\n",
    "    font=dict(\n",
    "        family=\"Courier New, monospace\",\n",
    "        size=16,\n",
    "        color=\"black\")\n",
    ")\n"
   ]
  },
  {
   "cell_type": "code",
   "execution_count": null,
   "metadata": {},
   "outputs": [],
   "source": [
    "covid.write_html('covid.html')"
   ]
  },
  {
   "cell_type": "markdown",
   "metadata": {},
   "source": [
    "# Post explorer"
   ]
  },
  {
   "cell_type": "code",
   "execution_count": 27,
   "metadata": {},
   "outputs": [
    {
     "name": "stderr",
     "output_type": "stream",
     "text": [
      "/tmp/ipykernel_26172/604256583.py:6: FutureWarning:\n",
      "\n",
      "In a future version, `df.iloc[:, i] = newvals` will attempt to set the values inplace instead of always setting a new array. To retain the old behavior, use either `df[df.columns[i]] = newvals` or, if columns are non-unique, `df.isetitem(i, newvals)`\n",
      "\n"
     ]
    }
   ],
   "source": [
    "mylist = [\"baking\", \"bread\"]\n",
    "\n",
    "mydf = df[df.Tags.isin(mylist)].copy()\n",
    "\n",
    "mydf.loc[:, [\"ViewCount\", \"AnswerCount\", \"CommentCount\"]] = mydf.loc[\n",
    "    :, [\"ViewCount\", \"AnswerCount\", \"CommentCount\"]\n",
    "].astype(int)\n"
   ]
  },
  {
   "cell_type": "code",
   "execution_count": 28,
   "metadata": {},
   "outputs": [],
   "source": [
    "# create column with year\n",
    "mydf['Year'] = mydf['CreationDate'].dt.year"
   ]
  },
  {
   "cell_type": "code",
   "execution_count": 29,
   "metadata": {},
   "outputs": [
    {
     "data": {
      "application/vnd.plotly.v1+json": {
       "config": {
        "plotlyServerURL": "https://plot.ly"
       },
       "data": [
        {
         "hovertemplate": "<b>%{hovertext}</b><br><br>Tags=baking<br>Year=2012<br>CommentCount=%{x}<br>ViewCount=%{y}<br>AnswerCount=%{marker.size}<extra></extra>",
         "hovertext": [
          "How can I reliably bake pizza with no temperature control or pizza stone?",
          "Can I use my dehydrator to raise bread?",
          "What are the ways of classifying bread?",
          "Are ladyfingers and Genoise made the same way?",
          "Why does my bread still smell like yeast?",
          "Baking Dark Chocolate in Cookies Without Burning Them",
          "How can I get my layer cake to cook more evenly/not burned?",
          "Why can't these fish sticks be made in a toaster oven instead of real oven?",
          "Substituting almond milk for evaporated",
          "How Do I Fix Curdled Mascarpone Cheese?",
          "What does \"combine dry ingredients through cloves\" mean?",
          "Sausage roll pastry - how do I achieve a smooth shiny effect?",
          "Gas or electric for rack oven in a bakery?",
          "What is the maximal thickness for choux pastry?",
          "Troubleshooting a soufflé that collapses during baking",
          "What causes popovers to rise so much?",
          "Do I need hard or soft brown sugar for brownies?",
          "How to bake lokum rolls well?",
          "Adding lemon to cookie recipe",
          "What are macaron \"feet\"?",
          "How long does eggwash keep?",
          "Egg replacer for bread dough?",
          "What are the impacts of common pizza dough errors?",
          "How important is the creaming process while making a cake?",
          "Can I par-bake this pot pie recipe?",
          "How do I ensure my deep dish crust gets cooked",
          "How can I make my baked tortilla chips crispier?",
          "Sourdough teacakes/hot cross buns?",
          "How do I make my chocolate brownies 'fudgy'?",
          "Why Did This Cheesecake Catch on Fire?",
          "Achieve the crispiness of fried potatoes using baking",
          "Cocoa nibs used for cooking or baking?",
          "Do I need to adjust recipes when using hard water",
          "Does it make sense to take out the cake from the oven few times just to check whether it is done or not?",
          "Why doesn't my conventional-oven Naan bread taste authentic?",
          "What should be the material of the vessels to be used in an electric oven?",
          "Callebaut callets vs. block?",
          "What qualifies to be an \"all purpose flour\"?",
          "What does baking time in oven depend on?",
          "What role does a stoneware bowl play in the baking of Artisan bread?",
          "How to decide the baking temperature when recipe doesn't mention it?",
          "Are American food colourings weaker than in other countries?",
          "How much salt can I safely add to bread dough?",
          "How do you get 'ears' when baking bread?",
          "Does tiramisu firm up in the fridge?",
          "Is it a myth or a fact that mixing cake/muffin batter too finely can lead to a hard finally baked cake/muffin?",
          "What to add to the batter of the cake to avoid hardening when the gluten formation can't be avoided?",
          "Can oil be replaced with yoghurt in a cake recipe?",
          "Baking course online",
          "Why is the texture of my chocolate chip cookies foamy?",
          "Can these settings bake a cake?",
          "What reading materials give in-depth coverage of baking with gluten-free ingredients and techniques?",
          "Why can soda be used as a substitute for eggs when using a boxed cake mix?",
          "How should I wash the potatoes before baking them?",
          "Cooking cakes on asbestos mats",
          "Why didn't my lemon tart set?",
          "Can I use “All-Purpose flour” instead of “cake flour”?",
          "My cake crumbled on the top and took very long time to cook",
          "How do I ensure that pita forms a nice big, even pocket when baking?",
          "Hamantaschen just wouldn't pinch and hold tight",
          "Why is salt sprinkled on top of soft pretzels?",
          "How much difference does the placement of the shelf in the oven make to the final outcome of a cake?",
          "How can I intensify the orange flavour in orange cake?",
          "Which kinds of vessels insulate well?",
          "How should I clean, or care for, a banneton (brotform, proofing basket)?",
          "How do I speed up the preparation time for chocolate chip cookies?",
          "How does the baking time change if I scale up a cake recipe?",
          "Can I use the juice from pickles to make bread?",
          "What will happen to my cake if I don't cream the butter enough?",
          "Do the cup cakes bake faster in a 24 hole cup cake tray rather than a 12 hole cup cake tray?",
          "Adapting graham cracker crust to all-natural graham crackers",
          "How to recognize when American style chewy cookies are done?",
          "How should I organize making a cake days ahead?",
          "Why do my cookies deflate when coming out of the oven?",
          "What can I substitute for vegetable oil in a recipe?",
          "How should I alter a chocolate cake recipe to make plain/flavoured cake?",
          "Best way to cleanly cut brownies?",
          "Can you re-use parchment paper when baking batches of cookies?",
          "Why and when do you need to dock dough?",
          "What adjustments are needed to change a pie recipe to a turnover recipe?",
          "How to convert a muffin/cupcake recipe to a large muffin recipe",
          "How to create fruity or grassy shortbread cookies?",
          "What is an easy way to turn a heavy-ish cake?",
          "How to keep the fruit on an upside-down cake?",
          "Can I make buckwheat flour starting from toasted buckwheat?",
          "What to place beneath the vegetables before placing them on the baking tray?",
          "What is meant by \"place 4 inches apart on cookie tray\"?",
          "How to make a lattice pie crust?",
          "Can I make a latticed cream pie (no-bake filling)?",
          "Uneven brownie baking?",
          "Is it true that natural peanut butter splits in cookies?",
          "Is it possible to bake a cake without an oven?",
          "Is there a plastic bowl/dish that can withstand high temperature in the oven?",
          "What should I do if power goes out while I am baking cake/cookies?",
          "Why do brownies made from commercial mixes form a flaky top?",
          "How to make crumbly cookies?",
          "Is it possible to have a good crust without prebaking a quiche?",
          "Why does flatbread have to be microwaved / cooked / toasted?",
          "How do I make a flaky croissant?",
          "What purpose does coffee serve in a chocolate cake recipe?",
          "What flavor (besides chocolate) goes well with hazelnut?",
          "Instant espresso powder substitutions?",
          "Why does my oil cake drop in the centre",
          "Baking batter-covered chicken instead of frying?",
          "Can you substitute butter in a box cake recipe that calls for oil?",
          "What does cream of tartar do in baking recipes?",
          "\"Banging\" cookies half way through baking",
          "What does it mean in a Recipe to \"steep the gelatin\"?",
          "Is it okay to put baking powder in Yorkshire Pudding batter?",
          "How can I stop my pie from burning?",
          "How do big companies make sure their product always looks and tastes the same?",
          "chestnut puree quantity",
          "Why does my cake rise more in the center?",
          "How do I clean this silicone tray?",
          "When to add seasoning to oven-baked french fries?",
          "Can you use just egg yolks when recipe asks for eggs?",
          "Can vegetables be roasted at lower temperatures?",
          "What can be used as an alternative for Applesauce?",
          "How can I make the tops of my macarons smooth?",
          "Is it possible to create this low calorie high fiber brownies?",
          "How to avoid herbs getting burnt in the oven",
          "Lemon vs lime in choc chip cookie recipe",
          "What happens if I wash my baker's couche?",
          "Why do some recipes claim to \"never fail\"?",
          "Does using a sponge in a brioche make a difference?",
          "Cooking Chemistry: lemon juice/soymilk buttermilk substitute turning bitter and 'rising'",
          "What is the 'best' flour to use for brownies?",
          "What is the best technique to put icing on plastic?",
          "What is the difference between a gugelhupf pan, a bund(t) pan and a rodon pan?",
          "Baking time difference in pyrex versus metal",
          "When and why would one infuse flavor into sugar for baking?",
          "How do beets bake up in flour?",
          "How much oats to put in crumble topping?",
          "How prepared should a baked dessert be before a long transport?",
          "Is it okay to use aluminium foil instead of parchment paper while baking cookies?",
          "Can I substitute Ener-G Egg Replacer with Orgran No Egg?",
          "Sponge cake: excessive cooking time",
          "How to make softer scones?",
          "baking cupcakes in a commercial sized pan?",
          "Can I leave a cake / cupcakes frosted with cream cheese frosting out on the counter?",
          "How do I prevent filled pretzels from blowing out?",
          "How to prevent a cookie from becoming spongy like a cake?",
          "Preventing chocolate from burning, when its used as the crust of a New York style cheesecake",
          "Effects of reducing sugar in cookies",
          "What's the best material for a durable muffin pan",
          "How accurate is the window pane test? (breadmaking)",
          "How do I substitute skim milk for dry milk in a muffin recipe?",
          "Do I need to grease, grease-proof paper?",
          "What is the lowest and slowest way I can bake pork ribs?",
          "How to get cracks in my ginger molasses cookies",
          "Why punch down knead free bread?",
          "How to unbake a cake?",
          "Why did my Tiramisu Cake become dry?",
          "Can I whisk macaron batter like meringue?",
          "How can I make my crinkles less dry?",
          "How can I avoid cakes to turn into jelly?",
          "What is the name of this dish involving fruit & sugar - blended and baked thin and flat?",
          "Dough Too Wet - what to do?",
          "Why does my walnut cake fall?",
          "Potato parts in the oven",
          "What is the right use of bake and broil?",
          "What's the purpose of adding water to an egg wash?",
          "What is the difference between baking bread in a loaf pan made of stoneware vs metal vs iron cast?",
          "Use water or milk in a tart crust?",
          "Azuki Bean Substitute for Anpan",
          "How to prevent food colouring changing the taste of food?",
          "Why do my cookies fall flat and not cook on the bottom?",
          "How long can frosting with butter, powdered sugar, salt, vanilla, and milk, that is covered with fondant be left out of the refrigerator?",
          "How to bake without an oven?",
          "What is the best way to chip your butter when making biscuits?",
          "I have leftover baked chicken - can I reheat it on the grill?",
          "What is the correct ratio to make self-rising flour?",
          "What is a substitute for half-and-half cream?",
          "Why might a cake collapse after cooking",
          "Why would a recipe call for pouring boiling butter into egg-whites?",
          "Baking with regular skillet vs. cast iron for apple pie",
          "How do I eliminate Corn Meal \"grittiness\"?",
          "Substituting oil in baking?",
          "Having trouble getting gluten free bread to rise",
          "Converting stand mixing time to hand mixing",
          "Egg yolks vs Whole eggs",
          "Sunken Moon Cakes",
          "Which is better, baking in glass or metal?",
          "Cinnamon Roll Filling",
          "In what ways does the size of the baking pan matter while baking cakes?",
          "How to get my croissant flakier and bigger? Is it possible to get a hollow inside?",
          "When macerating apples to use in a pie, what should you do with the liquid?",
          "Double key lime pie filling and increase from 9\" to 10\" shell, new baking time?",
          "How can two pies made and baked identically have differing flavor qualities?",
          "Why is my first batch of cookies out of the oven too flat?",
          "How to make my meringues less sticky?",
          "How to prepare french fries?",
          "how many kWs does it take to bake a cake?",
          "can this spritz cookie dough be saved",
          "Traditional panettone size & volume?",
          "Suggestions for a substitute for almond paste in a cookie recipe?",
          "What does an overnight chill do to cookie dough, that a 4 hour chill doesn't?",
          "How to reduce the moisture when making tarte tatin",
          "Substitute for Pastry Flour from Limited Traditional and Alternative Flours",
          "Why mix dry and fresh yeast?",
          "What is a 'dough spatula'?"
         ],
         "legendgroup": "baking",
         "marker": {
          "color": "#636efa",
          "size": [
           4,
           3,
           3,
           1,
           2,
           1,
           2,
           14,
           4,
           5,
           1,
           1,
           2,
           2,
           1,
           1,
           3,
           2,
           4,
           2,
           1,
           8,
           2,
           1,
           1,
           7,
           1,
           1,
           3,
           1,
           0,
           3,
           2,
           1,
           3,
           1,
           5,
           2,
           3,
           3,
           4,
           1,
           1,
           2,
           4,
           0,
           4,
           4,
           2,
           1,
           2,
           2,
           4,
           2,
           4,
           1,
           1,
           2,
           4,
           1,
           3,
           1,
           2,
           1,
           2,
           4,
           4,
           3,
           2,
           3,
           1,
           1,
           1,
           1,
           2,
           4,
           11,
           2,
           3,
           2,
           5,
           5,
           3,
           4,
           1,
           3,
           1,
           2,
           2,
           1,
           2,
           17,
           6,
           4,
           2,
           1,
           4,
           6,
           2,
           4,
           1,
           1,
           3,
           2,
           1,
           5,
           1,
           2,
           4,
           3,
           3,
           1,
           0,
           2,
           1,
           2,
           2,
           6,
           4,
           2,
           2,
           1,
           4,
           3,
           1,
           1,
           3,
           1,
           3,
           2,
           3,
           2,
           2,
           1,
           2,
           1,
           5,
           5,
           1,
           1,
           1,
           5,
           1,
           4,
           1,
           2,
           2,
           2,
           6,
           7,
           1,
           1,
           2,
           1,
           2,
           2,
           2,
           3,
           1,
           2,
           2,
           1,
           4,
           1,
           1,
           1,
           5,
           2,
           1,
           4,
           2,
           3,
           3,
           3,
           2,
           2,
           8,
           3,
           5,
           2,
           1,
           1,
           1,
           2,
           2,
           5,
           3,
           4,
           3,
           1,
           2,
           2,
           1,
           1,
           1,
           4,
           3,
           4,
           2,
           1,
           4
          ],
          "sizemode": "area",
          "sizeref": 0.0525,
          "symbol": "circle"
         },
         "mode": "markers",
         "name": "baking",
         "orientation": "v",
         "showlegend": true,
         "type": "scatter",
         "x": [
          3,
          2,
          5,
          2,
          1,
          2,
          0,
          2,
          0,
          1,
          3,
          2,
          0,
          1,
          3,
          0,
          4,
          0,
          3,
          1,
          7,
          0,
          2,
          3,
          0,
          9,
          0,
          1,
          3,
          11,
          1,
          0,
          3,
          0,
          1,
          4,
          0,
          0,
          0,
          0,
          5,
          0,
          3,
          2,
          0,
          3,
          11,
          11,
          4,
          2,
          3,
          7,
          5,
          2,
          2,
          3,
          1,
          0,
          0,
          0,
          5,
          1,
          0,
          1,
          0,
          4,
          4,
          1,
          0,
          3,
          4,
          0,
          2,
          3,
          0,
          0,
          3,
          2,
          2,
          4,
          2,
          6,
          1,
          1,
          1,
          0,
          2,
          0,
          0,
          0,
          0,
          10,
          5,
          4,
          3,
          4,
          1,
          1,
          0,
          3,
          0,
          0,
          3,
          3,
          1,
          1,
          5,
          4,
          1,
          2,
          2,
          0,
          1,
          0,
          1,
          0,
          5,
          1,
          4,
          6,
          5,
          1,
          0,
          0,
          0,
          6,
          0,
          8,
          1,
          1,
          0,
          0,
          3,
          0,
          1,
          0,
          4,
          4,
          0,
          0,
          10,
          5,
          0,
          3,
          2,
          5,
          0,
          0,
          1,
          0,
          0,
          1,
          1,
          0,
          1,
          1,
          0,
          0,
          1,
          3,
          0,
          0,
          2,
          0,
          0,
          1,
          3,
          1,
          4,
          1,
          0,
          0,
          2,
          5,
          0,
          1,
          5,
          1,
          3,
          3,
          0,
          3,
          4,
          0,
          3,
          6,
          2,
          0,
          0,
          4,
          10,
          1,
          5,
          3,
          0,
          5,
          4,
          5,
          0,
          0,
          2
         ],
         "xaxis": "x",
         "y": [
          4617,
          11183,
          2541,
          1676,
          8936,
          5995,
          4231,
          132264,
          23702,
          56956,
          2505,
          2817,
          2439,
          1244,
          3720,
          2555,
          7784,
          530,
          10865,
          26405,
          20004,
          73477,
          130432,
          17548,
          1046,
          29281,
          778,
          1141,
          10470,
          1728,
          105,
          12369,
          2941,
          3746,
          6354,
          159745,
          11098,
          28378,
          3006,
          2347,
          16015,
          215,
          10132,
          3809,
          36868,
          163,
          4771,
          5392,
          479,
          1939,
          17444,
          521,
          63474,
          42866,
          6065,
          19058,
          13946,
          356,
          12978,
          3898,
          4314,
          27975,
          10107,
          332,
          17025,
          1152,
          29469,
          1380,
          10199,
          6553,
          1753,
          9648,
          1124,
          18083,
          117047,
          64671,
          152674,
          53504,
          18390,
          1328,
          104745,
          1009,
          245,
          5603,
          3194,
          2110,
          733,
          1071,
          278,
          1254,
          2467,
          32835,
          11025,
          126816,
          3692,
          1137,
          79079,
          35415,
          6923,
          44262,
          9988,
          41653,
          3807,
          28763,
          16264,
          84082,
          1222,
          593,
          36186,
          37666,
          911,
          338,
          142,
          5676,
          25761,
          68941,
          23429,
          385091,
          46908,
          1772,
          10114,
          1308,
          4182,
          529,
          1053,
          4700,
          22514,
          1496,
          7266,
          59628,
          574,
          308,
          2377,
          226,
          699609,
          1281,
          31250,
          26386,
          439,
          2620,
          1096,
          85966,
          405,
          8084,
          681,
          9014,
          4874,
          17527,
          227272,
          27989,
          588,
          1336,
          3186,
          1396,
          3829,
          9804,
          556,
          179466,
          544,
          3441,
          114410,
          2327,
          37934,
          2074,
          4663,
          17285,
          15914,
          5692,
          1097,
          613,
          8832,
          174953,
          9456,
          21122,
          1977,
          1654,
          35116,
          51524,
          36623,
          22364,
          30253,
          1492,
          5086,
          30022,
          4250,
          35942,
          3200,
          4893,
          4594,
          1568,
          46525,
          310,
          7623,
          948,
          8609,
          27697,
          37700,
          7891,
          1698,
          1203,
          8444
         ],
         "yaxis": "y"
        },
        {
         "hovertemplate": "<b>%{hovertext}</b><br><br>Tags=bread<br>Year=2012<br>CommentCount=%{x}<br>ViewCount=%{y}<br>AnswerCount=%{marker.size}<extra></extra>",
         "hovertext": [
          "Can I use my dehydrator to raise bread?",
          "What are the ways of classifying bread?",
          "How can I modify corn bread recipes to accomodate a wet filling?",
          "Why does my bread still smell like yeast?",
          "What can I bake with only flour, water and sugar?",
          "Baker's Math Formula System - Why Isn't the Flour Mass in Corn Bread Formula 100%?",
          "Should you freeze pastry lukewarm? If so, why?",
          "Egg replacer for bread dough?",
          "Can I bake bread with long-life milk?",
          "Sourdough teacakes/hot cross buns?",
          "Why do you need to refrigerate bread dough overnight?",
          "Does resting kneaded dough for few hours change the taste/texture/softness of parathas?",
          "How much salt can I safely add to bread dough?",
          "What effect do different slash patterns have on bread oven spring?",
          "What happens during a cold fermentation that makes bread taste so good?",
          "What kind of flour keeps bread dough from sticking in a proofing basket?",
          "What the advantage of a 'bakers couche' for proofing bread and is it safe?",
          "How do I fix my flat sourdough loaf?",
          "How careful do you have to be with adding flour for kneading?",
          "How to get uniform slices from bread?",
          "What defines a bread as 'artisan'?",
          "Why should I let bread cool before slicing and eating?",
          "How can I reduce the amount of hooch my sourdough starter is making?",
          "What should I cover bread dough with while it's rising?",
          "How do I make authentic Russian black bread?",
          "How to convert between flours?",
          "What type of flour should I feed my starter with?",
          "Why didn't my 100% whole wheat bread proof?",
          "How should I incorporate oil into focaccia?",
          "How do you get 'ears' when baking bread?",
          "How can I create steam in a normal oven to promote bread oven spring?",
          "What can I do to keep high hydration dough from sticking to my hands?",
          "How can I warm bread making ingredients to room temperature? ",
          "How can I prevent dough from wrapping around a dough hook?",
          "Why baste bread with cornstarch?",
          "Why does my bread keep 'blowing out'?",
          "Why do some recipes recommend a short rest after mixing but before kneading the bread?",
          "Why stretch and fold vs traditional kneading of bread dough?",
          "How can I make whole grains stick to the top of bread?",
          "Why add malt to bread?",
          "Can I make my own malt?",
          "Should I preheat my bread baking containers?",
          "What is the difference between quick bread and cake?",
          "How do I get Nooks and Crannies in my English muffins?",
          "Why does bread with filling separate and how do I prevent it?",
          "How do I keep the paddle of a bread machine from damaging the bread upon removal?",
          "What's the difference in baking bread in a loaf pan vs. in a Dutch oven?",
          "How much \"alternative\" flour can I substitute for white wheat flour?",
          "Does the direction matter in the Stretch and Fold method?",
          "Are Non-Stick Bread Pans Destined to Fail?",
          "How can you know that your bread is done?",
          "What is the best way to catch wild yeast for sourdough?",
          "Maximum time for rising in a breadmaker",
          "How should I clean, or care for, a banneton (brotform, proofing basket)?",
          "does bread have alcohol in it?",
          "Dry milk in bread: purpose, and substitutions",
          "Can I use the juice from pickles to make bread?",
          "What is the difference between a poolish and a biga?",
          "Bread - Liquid proportion in french toast",
          "What's the secret to making good turkish bread? (pide)",
          "Safety of room-temperature soaker from Reinhart's *Whole Grain Breads*",
          "How can you tell whether bread dough is ready for baking?",
          "Are there any negative effects to kneading bread dough longer?",
          "What takes over the functions of gluten in gluten-free bread mixes?",
          "Does adding oil and fats affect bread crust development?",
          "What are some alternative uses for bread heels?",
          "Can I let my bread dough rise in the mixer bowl?",
          "What makes bread mold grow; light, air or both?",
          "Why didn't my brioche rise?",
          "Why is butter incorporated into the dough last when making Brioche?",
          "Why is yeast used in bread making?",
          "Why proof a baguette seam side up",
          "What is the secret to baking bread with a very fine crumb?",
          "What is the lesser evil, degassing too early or too late?",
          "How do I keep dough moist while rising?",
          "Are there any yeast-less breads that can be used as sandwich bread?",
          "Making Malt-Free Bread",
          "Do breadcrumbs really act as a binder in meat preparations?",
          "Is there such a thing as pumpernickel flour?",
          "Does using a sponge in a brioche make a difference?",
          "Sticky and unmanagable sourdough",
          "How accurate is the window pane test? (breadmaking)",
          "Does it make sense to refrigerate the dough made for Parathas to be used after 8 hours?",
          "What is the difference between a biscuit and a roll?",
          "Why punch down knead free bread?",
          "What makes a torpedo roll unique",
          "How do I prevent burning the bottom of the bread when cooking over a campfire?",
          "What would you use to wash pretzel hot dog buns?",
          "Can I follow recipes for bread-machine breads without bread machine?",
          "Why does my dough never \"fall\" after its first rise?",
          "What is the difference between baking bread in a loaf pan made of stoneware vs metal vs iron cast?",
          "Azuki Bean Substitute for Anpan",
          "When is the best time to use my sourdough starter?",
          "What is the purpose of sugar in baking plain bread?",
          "What is sourdough bread?",
          "Can avocado act as an egg replacement for vegan bread",
          "What makes a bread either close or open crumbed/textured?",
          "What is the minimum ingredient to bake a bread?",
          "How do I eliminate Corn Meal \"grittiness\"?",
          "Having trouble getting gluten free bread to rise",
          "Cinnamon Roll Filling",
          "Can I freeze my selfmade focaccia?",
          "Where can I find a recipe for less-dense coconut bread?",
          "What characteristics should a bread peel have?",
          "How to store homemade bread?",
          "sourdough bread making-without bakers yeast",
          "How to prevent burning when frying bread?",
          "What Garlic to use for Garlic Bagels",
          "How to shape dough"
         ],
         "legendgroup": "bread",
         "marker": {
          "color": "#EF553B",
          "size": [
           3,
           3,
           1,
           2,
           2,
           2,
           2,
           8,
           2,
           1,
           3,
           2,
           1,
           2,
           1,
           3,
           1,
           1,
           2,
           5,
           3,
           2,
           2,
           9,
           3,
           3,
           3,
           3,
           4,
           2,
           9,
           6,
           2,
           4,
           4,
           4,
           2,
           6,
           2,
           2,
           1,
           1,
           4,
           1,
           3,
           7,
           3,
           3,
           1,
           2,
           2,
           4,
           2,
           2,
           6,
           3,
           3,
           1,
           1,
           6,
           1,
           1,
           3,
           1,
           1,
           5,
           5,
           1,
           2,
           2,
           2,
           1,
           3,
           2,
           2,
           5,
           2,
           2,
           3,
           1,
           5,
           2,
           2,
           3,
           1,
           1,
           6,
           2,
           3,
           3,
           4,
           1,
           2,
           3,
           2,
           3,
           5,
           5,
           8,
           5,
           2,
           3,
           2,
           3,
           2,
           2,
           2,
           5,
           4
          ],
          "sizemode": "area",
          "sizeref": 0.0525,
          "symbol": "circle"
         },
         "mode": "markers",
         "name": "bread",
         "orientation": "v",
         "showlegend": true,
         "type": "scatter",
         "x": [
          2,
          5,
          6,
          1,
          4,
          1,
          0,
          0,
          0,
          1,
          2,
          2,
          3,
          0,
          1,
          4,
          2,
          0,
          0,
          2,
          3,
          1,
          0,
          0,
          10,
          2,
          6,
          4,
          2,
          2,
          3,
          5,
          1,
          0,
          4,
          0,
          0,
          0,
          1,
          0,
          2,
          1,
          2,
          1,
          0,
          1,
          0,
          3,
          0,
          0,
          0,
          6,
          2,
          0,
          3,
          0,
          1,
          0,
          1,
          3,
          1,
          1,
          0,
          1,
          0,
          2,
          2,
          2,
          2,
          0,
          2,
          1,
          2,
          0,
          1,
          5,
          4,
          0,
          0,
          0,
          4,
          5,
          0,
          7,
          0,
          5,
          3,
          4,
          3,
          4,
          2,
          0,
          0,
          7,
          0,
          5,
          0,
          2,
          5,
          3,
          0,
          1,
          0,
          0,
          4,
          5,
          1,
          4,
          1
         ],
         "xaxis": "x",
         "y": [
          11183,
          2541,
          1742,
          8936,
          73549,
          1222,
          273,
          73477,
          5113,
          1141,
          46612,
          7419,
          10132,
          3603,
          18736,
          6506,
          2955,
          1850,
          2621,
          2102,
          6164,
          70143,
          9975,
          361212,
          11406,
          552,
          7215,
          4085,
          3922,
          3809,
          67443,
          19309,
          1231,
          11226,
          12433,
          50611,
          2895,
          62506,
          2446,
          35386,
          824,
          2603,
          34316,
          2807,
          19529,
          37944,
          4224,
          25108,
          482,
          2817,
          13676,
          12439,
          394,
          17025,
          70009,
          75330,
          1380,
          7578,
          376,
          33694,
          1119,
          14629,
          44260,
          2533,
          3534,
          955,
          82731,
          12506,
          12837,
          13978,
          1841,
          2300,
          12112,
          1450,
          8390,
          104567,
          1004,
          18125,
          12976,
          1053,
          120666,
          9014,
          9134,
          24805,
          588,
          4174,
          8970,
          831,
          3218,
          2623,
          37934,
          4663,
          998,
          63964,
          1764,
          2081,
          80387,
          2741,
          35116,
          36623,
          30022,
          17243,
          9696,
          1517,
          5433,
          1124,
          974,
          9725,
          853
         ],
         "yaxis": "y"
        }
       ],
       "frames": [
        {
         "data": [
          {
           "hovertemplate": "<b>%{hovertext}</b><br><br>Tags=baking<br>Year=2012<br>CommentCount=%{x}<br>ViewCount=%{y}<br>AnswerCount=%{marker.size}<extra></extra>",
           "hovertext": [
            "How can I reliably bake pizza with no temperature control or pizza stone?",
            "Can I use my dehydrator to raise bread?",
            "What are the ways of classifying bread?",
            "Are ladyfingers and Genoise made the same way?",
            "Why does my bread still smell like yeast?",
            "Baking Dark Chocolate in Cookies Without Burning Them",
            "How can I get my layer cake to cook more evenly/not burned?",
            "Why can't these fish sticks be made in a toaster oven instead of real oven?",
            "Substituting almond milk for evaporated",
            "How Do I Fix Curdled Mascarpone Cheese?",
            "What does \"combine dry ingredients through cloves\" mean?",
            "Sausage roll pastry - how do I achieve a smooth shiny effect?",
            "Gas or electric for rack oven in a bakery?",
            "What is the maximal thickness for choux pastry?",
            "Troubleshooting a soufflé that collapses during baking",
            "What causes popovers to rise so much?",
            "Do I need hard or soft brown sugar for brownies?",
            "How to bake lokum rolls well?",
            "Adding lemon to cookie recipe",
            "What are macaron \"feet\"?",
            "How long does eggwash keep?",
            "Egg replacer for bread dough?",
            "What are the impacts of common pizza dough errors?",
            "How important is the creaming process while making a cake?",
            "Can I par-bake this pot pie recipe?",
            "How do I ensure my deep dish crust gets cooked",
            "How can I make my baked tortilla chips crispier?",
            "Sourdough teacakes/hot cross buns?",
            "How do I make my chocolate brownies 'fudgy'?",
            "Why Did This Cheesecake Catch on Fire?",
            "Achieve the crispiness of fried potatoes using baking",
            "Cocoa nibs used for cooking or baking?",
            "Do I need to adjust recipes when using hard water",
            "Does it make sense to take out the cake from the oven few times just to check whether it is done or not?",
            "Why doesn't my conventional-oven Naan bread taste authentic?",
            "What should be the material of the vessels to be used in an electric oven?",
            "Callebaut callets vs. block?",
            "What qualifies to be an \"all purpose flour\"?",
            "What does baking time in oven depend on?",
            "What role does a stoneware bowl play in the baking of Artisan bread?",
            "How to decide the baking temperature when recipe doesn't mention it?",
            "Are American food colourings weaker than in other countries?",
            "How much salt can I safely add to bread dough?",
            "How do you get 'ears' when baking bread?",
            "Does tiramisu firm up in the fridge?",
            "Is it a myth or a fact that mixing cake/muffin batter too finely can lead to a hard finally baked cake/muffin?",
            "What to add to the batter of the cake to avoid hardening when the gluten formation can't be avoided?",
            "Can oil be replaced with yoghurt in a cake recipe?",
            "Baking course online",
            "Why is the texture of my chocolate chip cookies foamy?",
            "Can these settings bake a cake?",
            "What reading materials give in-depth coverage of baking with gluten-free ingredients and techniques?",
            "Why can soda be used as a substitute for eggs when using a boxed cake mix?",
            "How should I wash the potatoes before baking them?",
            "Cooking cakes on asbestos mats",
            "Why didn't my lemon tart set?",
            "Can I use “All-Purpose flour” instead of “cake flour”?",
            "My cake crumbled on the top and took very long time to cook",
            "How do I ensure that pita forms a nice big, even pocket when baking?",
            "Hamantaschen just wouldn't pinch and hold tight",
            "Why is salt sprinkled on top of soft pretzels?",
            "How much difference does the placement of the shelf in the oven make to the final outcome of a cake?",
            "How can I intensify the orange flavour in orange cake?",
            "Which kinds of vessels insulate well?",
            "How should I clean, or care for, a banneton (brotform, proofing basket)?",
            "How do I speed up the preparation time for chocolate chip cookies?",
            "How does the baking time change if I scale up a cake recipe?",
            "Can I use the juice from pickles to make bread?",
            "What will happen to my cake if I don't cream the butter enough?",
            "Do the cup cakes bake faster in a 24 hole cup cake tray rather than a 12 hole cup cake tray?",
            "Adapting graham cracker crust to all-natural graham crackers",
            "How to recognize when American style chewy cookies are done?",
            "How should I organize making a cake days ahead?",
            "Why do my cookies deflate when coming out of the oven?",
            "What can I substitute for vegetable oil in a recipe?",
            "How should I alter a chocolate cake recipe to make plain/flavoured cake?",
            "Best way to cleanly cut brownies?",
            "Can you re-use parchment paper when baking batches of cookies?",
            "Why and when do you need to dock dough?",
            "What adjustments are needed to change a pie recipe to a turnover recipe?",
            "How to convert a muffin/cupcake recipe to a large muffin recipe",
            "How to create fruity or grassy shortbread cookies?",
            "What is an easy way to turn a heavy-ish cake?",
            "How to keep the fruit on an upside-down cake?",
            "Can I make buckwheat flour starting from toasted buckwheat?",
            "What to place beneath the vegetables before placing them on the baking tray?",
            "What is meant by \"place 4 inches apart on cookie tray\"?",
            "How to make a lattice pie crust?",
            "Can I make a latticed cream pie (no-bake filling)?",
            "Uneven brownie baking?",
            "Is it true that natural peanut butter splits in cookies?",
            "Is it possible to bake a cake without an oven?",
            "Is there a plastic bowl/dish that can withstand high temperature in the oven?",
            "What should I do if power goes out while I am baking cake/cookies?",
            "Why do brownies made from commercial mixes form a flaky top?",
            "How to make crumbly cookies?",
            "Is it possible to have a good crust without prebaking a quiche?",
            "Why does flatbread have to be microwaved / cooked / toasted?",
            "How do I make a flaky croissant?",
            "What purpose does coffee serve in a chocolate cake recipe?",
            "What flavor (besides chocolate) goes well with hazelnut?",
            "Instant espresso powder substitutions?",
            "Why does my oil cake drop in the centre",
            "Baking batter-covered chicken instead of frying?",
            "Can you substitute butter in a box cake recipe that calls for oil?",
            "What does cream of tartar do in baking recipes?",
            "\"Banging\" cookies half way through baking",
            "What does it mean in a Recipe to \"steep the gelatin\"?",
            "Is it okay to put baking powder in Yorkshire Pudding batter?",
            "How can I stop my pie from burning?",
            "How do big companies make sure their product always looks and tastes the same?",
            "chestnut puree quantity",
            "Why does my cake rise more in the center?",
            "How do I clean this silicone tray?",
            "When to add seasoning to oven-baked french fries?",
            "Can you use just egg yolks when recipe asks for eggs?",
            "Can vegetables be roasted at lower temperatures?",
            "What can be used as an alternative for Applesauce?",
            "How can I make the tops of my macarons smooth?",
            "Is it possible to create this low calorie high fiber brownies?",
            "How to avoid herbs getting burnt in the oven",
            "Lemon vs lime in choc chip cookie recipe",
            "What happens if I wash my baker's couche?",
            "Why do some recipes claim to \"never fail\"?",
            "Does using a sponge in a brioche make a difference?",
            "Cooking Chemistry: lemon juice/soymilk buttermilk substitute turning bitter and 'rising'",
            "What is the 'best' flour to use for brownies?",
            "What is the best technique to put icing on plastic?",
            "What is the difference between a gugelhupf pan, a bund(t) pan and a rodon pan?",
            "Baking time difference in pyrex versus metal",
            "When and why would one infuse flavor into sugar for baking?",
            "How do beets bake up in flour?",
            "How much oats to put in crumble topping?",
            "How prepared should a baked dessert be before a long transport?",
            "Is it okay to use aluminium foil instead of parchment paper while baking cookies?",
            "Can I substitute Ener-G Egg Replacer with Orgran No Egg?",
            "Sponge cake: excessive cooking time",
            "How to make softer scones?",
            "baking cupcakes in a commercial sized pan?",
            "Can I leave a cake / cupcakes frosted with cream cheese frosting out on the counter?",
            "How do I prevent filled pretzels from blowing out?",
            "How to prevent a cookie from becoming spongy like a cake?",
            "Preventing chocolate from burning, when its used as the crust of a New York style cheesecake",
            "Effects of reducing sugar in cookies",
            "What's the best material for a durable muffin pan",
            "How accurate is the window pane test? (breadmaking)",
            "How do I substitute skim milk for dry milk in a muffin recipe?",
            "Do I need to grease, grease-proof paper?",
            "What is the lowest and slowest way I can bake pork ribs?",
            "How to get cracks in my ginger molasses cookies",
            "Why punch down knead free bread?",
            "How to unbake a cake?",
            "Why did my Tiramisu Cake become dry?",
            "Can I whisk macaron batter like meringue?",
            "How can I make my crinkles less dry?",
            "How can I avoid cakes to turn into jelly?",
            "What is the name of this dish involving fruit & sugar - blended and baked thin and flat?",
            "Dough Too Wet - what to do?",
            "Why does my walnut cake fall?",
            "Potato parts in the oven",
            "What is the right use of bake and broil?",
            "What's the purpose of adding water to an egg wash?",
            "What is the difference between baking bread in a loaf pan made of stoneware vs metal vs iron cast?",
            "Use water or milk in a tart crust?",
            "Azuki Bean Substitute for Anpan",
            "How to prevent food colouring changing the taste of food?",
            "Why do my cookies fall flat and not cook on the bottom?",
            "How long can frosting with butter, powdered sugar, salt, vanilla, and milk, that is covered with fondant be left out of the refrigerator?",
            "How to bake without an oven?",
            "What is the best way to chip your butter when making biscuits?",
            "I have leftover baked chicken - can I reheat it on the grill?",
            "What is the correct ratio to make self-rising flour?",
            "What is a substitute for half-and-half cream?",
            "Why might a cake collapse after cooking",
            "Why would a recipe call for pouring boiling butter into egg-whites?",
            "Baking with regular skillet vs. cast iron for apple pie",
            "How do I eliminate Corn Meal \"grittiness\"?",
            "Substituting oil in baking?",
            "Having trouble getting gluten free bread to rise",
            "Converting stand mixing time to hand mixing",
            "Egg yolks vs Whole eggs",
            "Sunken Moon Cakes",
            "Which is better, baking in glass or metal?",
            "Cinnamon Roll Filling",
            "In what ways does the size of the baking pan matter while baking cakes?",
            "How to get my croissant flakier and bigger? Is it possible to get a hollow inside?",
            "When macerating apples to use in a pie, what should you do with the liquid?",
            "Double key lime pie filling and increase from 9\" to 10\" shell, new baking time?",
            "How can two pies made and baked identically have differing flavor qualities?",
            "Why is my first batch of cookies out of the oven too flat?",
            "How to make my meringues less sticky?",
            "How to prepare french fries?",
            "how many kWs does it take to bake a cake?",
            "can this spritz cookie dough be saved",
            "Traditional panettone size & volume?",
            "Suggestions for a substitute for almond paste in a cookie recipe?",
            "What does an overnight chill do to cookie dough, that a 4 hour chill doesn't?",
            "How to reduce the moisture when making tarte tatin",
            "Substitute for Pastry Flour from Limited Traditional and Alternative Flours",
            "Why mix dry and fresh yeast?",
            "What is a 'dough spatula'?"
           ],
           "legendgroup": "baking",
           "marker": {
            "color": "#636efa",
            "size": [
             4,
             3,
             3,
             1,
             2,
             1,
             2,
             14,
             4,
             5,
             1,
             1,
             2,
             2,
             1,
             1,
             3,
             2,
             4,
             2,
             1,
             8,
             2,
             1,
             1,
             7,
             1,
             1,
             3,
             1,
             0,
             3,
             2,
             1,
             3,
             1,
             5,
             2,
             3,
             3,
             4,
             1,
             1,
             2,
             4,
             0,
             4,
             4,
             2,
             1,
             2,
             2,
             4,
             2,
             4,
             1,
             1,
             2,
             4,
             1,
             3,
             1,
             2,
             1,
             2,
             4,
             4,
             3,
             2,
             3,
             1,
             1,
             1,
             1,
             2,
             4,
             11,
             2,
             3,
             2,
             5,
             5,
             3,
             4,
             1,
             3,
             1,
             2,
             2,
             1,
             2,
             17,
             6,
             4,
             2,
             1,
             4,
             6,
             2,
             4,
             1,
             1,
             3,
             2,
             1,
             5,
             1,
             2,
             4,
             3,
             3,
             1,
             0,
             2,
             1,
             2,
             2,
             6,
             4,
             2,
             2,
             1,
             4,
             3,
             1,
             1,
             3,
             1,
             3,
             2,
             3,
             2,
             2,
             1,
             2,
             1,
             5,
             5,
             1,
             1,
             1,
             5,
             1,
             4,
             1,
             2,
             2,
             2,
             6,
             7,
             1,
             1,
             2,
             1,
             2,
             2,
             2,
             3,
             1,
             2,
             2,
             1,
             4,
             1,
             1,
             1,
             5,
             2,
             1,
             4,
             2,
             3,
             3,
             3,
             2,
             2,
             8,
             3,
             5,
             2,
             1,
             1,
             1,
             2,
             2,
             5,
             3,
             4,
             3,
             1,
             2,
             2,
             1,
             1,
             1,
             4,
             3,
             4,
             2,
             1,
             4
            ],
            "sizemode": "area",
            "sizeref": 0.0525,
            "symbol": "circle"
           },
           "mode": "markers",
           "name": "baking",
           "orientation": "v",
           "showlegend": true,
           "type": "scatter",
           "x": [
            3,
            2,
            5,
            2,
            1,
            2,
            0,
            2,
            0,
            1,
            3,
            2,
            0,
            1,
            3,
            0,
            4,
            0,
            3,
            1,
            7,
            0,
            2,
            3,
            0,
            9,
            0,
            1,
            3,
            11,
            1,
            0,
            3,
            0,
            1,
            4,
            0,
            0,
            0,
            0,
            5,
            0,
            3,
            2,
            0,
            3,
            11,
            11,
            4,
            2,
            3,
            7,
            5,
            2,
            2,
            3,
            1,
            0,
            0,
            0,
            5,
            1,
            0,
            1,
            0,
            4,
            4,
            1,
            0,
            3,
            4,
            0,
            2,
            3,
            0,
            0,
            3,
            2,
            2,
            4,
            2,
            6,
            1,
            1,
            1,
            0,
            2,
            0,
            0,
            0,
            0,
            10,
            5,
            4,
            3,
            4,
            1,
            1,
            0,
            3,
            0,
            0,
            3,
            3,
            1,
            1,
            5,
            4,
            1,
            2,
            2,
            0,
            1,
            0,
            1,
            0,
            5,
            1,
            4,
            6,
            5,
            1,
            0,
            0,
            0,
            6,
            0,
            8,
            1,
            1,
            0,
            0,
            3,
            0,
            1,
            0,
            4,
            4,
            0,
            0,
            10,
            5,
            0,
            3,
            2,
            5,
            0,
            0,
            1,
            0,
            0,
            1,
            1,
            0,
            1,
            1,
            0,
            0,
            1,
            3,
            0,
            0,
            2,
            0,
            0,
            1,
            3,
            1,
            4,
            1,
            0,
            0,
            2,
            5,
            0,
            1,
            5,
            1,
            3,
            3,
            0,
            3,
            4,
            0,
            3,
            6,
            2,
            0,
            0,
            4,
            10,
            1,
            5,
            3,
            0,
            5,
            4,
            5,
            0,
            0,
            2
           ],
           "xaxis": "x",
           "y": [
            4617,
            11183,
            2541,
            1676,
            8936,
            5995,
            4231,
            132264,
            23702,
            56956,
            2505,
            2817,
            2439,
            1244,
            3720,
            2555,
            7784,
            530,
            10865,
            26405,
            20004,
            73477,
            130432,
            17548,
            1046,
            29281,
            778,
            1141,
            10470,
            1728,
            105,
            12369,
            2941,
            3746,
            6354,
            159745,
            11098,
            28378,
            3006,
            2347,
            16015,
            215,
            10132,
            3809,
            36868,
            163,
            4771,
            5392,
            479,
            1939,
            17444,
            521,
            63474,
            42866,
            6065,
            19058,
            13946,
            356,
            12978,
            3898,
            4314,
            27975,
            10107,
            332,
            17025,
            1152,
            29469,
            1380,
            10199,
            6553,
            1753,
            9648,
            1124,
            18083,
            117047,
            64671,
            152674,
            53504,
            18390,
            1328,
            104745,
            1009,
            245,
            5603,
            3194,
            2110,
            733,
            1071,
            278,
            1254,
            2467,
            32835,
            11025,
            126816,
            3692,
            1137,
            79079,
            35415,
            6923,
            44262,
            9988,
            41653,
            3807,
            28763,
            16264,
            84082,
            1222,
            593,
            36186,
            37666,
            911,
            338,
            142,
            5676,
            25761,
            68941,
            23429,
            385091,
            46908,
            1772,
            10114,
            1308,
            4182,
            529,
            1053,
            4700,
            22514,
            1496,
            7266,
            59628,
            574,
            308,
            2377,
            226,
            699609,
            1281,
            31250,
            26386,
            439,
            2620,
            1096,
            85966,
            405,
            8084,
            681,
            9014,
            4874,
            17527,
            227272,
            27989,
            588,
            1336,
            3186,
            1396,
            3829,
            9804,
            556,
            179466,
            544,
            3441,
            114410,
            2327,
            37934,
            2074,
            4663,
            17285,
            15914,
            5692,
            1097,
            613,
            8832,
            174953,
            9456,
            21122,
            1977,
            1654,
            35116,
            51524,
            36623,
            22364,
            30253,
            1492,
            5086,
            30022,
            4250,
            35942,
            3200,
            4893,
            4594,
            1568,
            46525,
            310,
            7623,
            948,
            8609,
            27697,
            37700,
            7891,
            1698,
            1203,
            8444
           ],
           "yaxis": "y"
          },
          {
           "hovertemplate": "<b>%{hovertext}</b><br><br>Tags=bread<br>Year=2012<br>CommentCount=%{x}<br>ViewCount=%{y}<br>AnswerCount=%{marker.size}<extra></extra>",
           "hovertext": [
            "Can I use my dehydrator to raise bread?",
            "What are the ways of classifying bread?",
            "How can I modify corn bread recipes to accomodate a wet filling?",
            "Why does my bread still smell like yeast?",
            "What can I bake with only flour, water and sugar?",
            "Baker's Math Formula System - Why Isn't the Flour Mass in Corn Bread Formula 100%?",
            "Should you freeze pastry lukewarm? If so, why?",
            "Egg replacer for bread dough?",
            "Can I bake bread with long-life milk?",
            "Sourdough teacakes/hot cross buns?",
            "Why do you need to refrigerate bread dough overnight?",
            "Does resting kneaded dough for few hours change the taste/texture/softness of parathas?",
            "How much salt can I safely add to bread dough?",
            "What effect do different slash patterns have on bread oven spring?",
            "What happens during a cold fermentation that makes bread taste so good?",
            "What kind of flour keeps bread dough from sticking in a proofing basket?",
            "What the advantage of a 'bakers couche' for proofing bread and is it safe?",
            "How do I fix my flat sourdough loaf?",
            "How careful do you have to be with adding flour for kneading?",
            "How to get uniform slices from bread?",
            "What defines a bread as 'artisan'?",
            "Why should I let bread cool before slicing and eating?",
            "How can I reduce the amount of hooch my sourdough starter is making?",
            "What should I cover bread dough with while it's rising?",
            "How do I make authentic Russian black bread?",
            "How to convert between flours?",
            "What type of flour should I feed my starter with?",
            "Why didn't my 100% whole wheat bread proof?",
            "How should I incorporate oil into focaccia?",
            "How do you get 'ears' when baking bread?",
            "How can I create steam in a normal oven to promote bread oven spring?",
            "What can I do to keep high hydration dough from sticking to my hands?",
            "How can I warm bread making ingredients to room temperature? ",
            "How can I prevent dough from wrapping around a dough hook?",
            "Why baste bread with cornstarch?",
            "Why does my bread keep 'blowing out'?",
            "Why do some recipes recommend a short rest after mixing but before kneading the bread?",
            "Why stretch and fold vs traditional kneading of bread dough?",
            "How can I make whole grains stick to the top of bread?",
            "Why add malt to bread?",
            "Can I make my own malt?",
            "Should I preheat my bread baking containers?",
            "What is the difference between quick bread and cake?",
            "How do I get Nooks and Crannies in my English muffins?",
            "Why does bread with filling separate and how do I prevent it?",
            "How do I keep the paddle of a bread machine from damaging the bread upon removal?",
            "What's the difference in baking bread in a loaf pan vs. in a Dutch oven?",
            "How much \"alternative\" flour can I substitute for white wheat flour?",
            "Does the direction matter in the Stretch and Fold method?",
            "Are Non-Stick Bread Pans Destined to Fail?",
            "How can you know that your bread is done?",
            "What is the best way to catch wild yeast for sourdough?",
            "Maximum time for rising in a breadmaker",
            "How should I clean, or care for, a banneton (brotform, proofing basket)?",
            "does bread have alcohol in it?",
            "Dry milk in bread: purpose, and substitutions",
            "Can I use the juice from pickles to make bread?",
            "What is the difference between a poolish and a biga?",
            "Bread - Liquid proportion in french toast",
            "What's the secret to making good turkish bread? (pide)",
            "Safety of room-temperature soaker from Reinhart's *Whole Grain Breads*",
            "How can you tell whether bread dough is ready for baking?",
            "Are there any negative effects to kneading bread dough longer?",
            "What takes over the functions of gluten in gluten-free bread mixes?",
            "Does adding oil and fats affect bread crust development?",
            "What are some alternative uses for bread heels?",
            "Can I let my bread dough rise in the mixer bowl?",
            "What makes bread mold grow; light, air or both?",
            "Why didn't my brioche rise?",
            "Why is butter incorporated into the dough last when making Brioche?",
            "Why is yeast used in bread making?",
            "Why proof a baguette seam side up",
            "What is the secret to baking bread with a very fine crumb?",
            "What is the lesser evil, degassing too early or too late?",
            "How do I keep dough moist while rising?",
            "Are there any yeast-less breads that can be used as sandwich bread?",
            "Making Malt-Free Bread",
            "Do breadcrumbs really act as a binder in meat preparations?",
            "Is there such a thing as pumpernickel flour?",
            "Does using a sponge in a brioche make a difference?",
            "Sticky and unmanagable sourdough",
            "How accurate is the window pane test? (breadmaking)",
            "Does it make sense to refrigerate the dough made for Parathas to be used after 8 hours?",
            "What is the difference between a biscuit and a roll?",
            "Why punch down knead free bread?",
            "What makes a torpedo roll unique",
            "How do I prevent burning the bottom of the bread when cooking over a campfire?",
            "What would you use to wash pretzel hot dog buns?",
            "Can I follow recipes for bread-machine breads without bread machine?",
            "Why does my dough never \"fall\" after its first rise?",
            "What is the difference between baking bread in a loaf pan made of stoneware vs metal vs iron cast?",
            "Azuki Bean Substitute for Anpan",
            "When is the best time to use my sourdough starter?",
            "What is the purpose of sugar in baking plain bread?",
            "What is sourdough bread?",
            "Can avocado act as an egg replacement for vegan bread",
            "What makes a bread either close or open crumbed/textured?",
            "What is the minimum ingredient to bake a bread?",
            "How do I eliminate Corn Meal \"grittiness\"?",
            "Having trouble getting gluten free bread to rise",
            "Cinnamon Roll Filling",
            "Can I freeze my selfmade focaccia?",
            "Where can I find a recipe for less-dense coconut bread?",
            "What characteristics should a bread peel have?",
            "How to store homemade bread?",
            "sourdough bread making-without bakers yeast",
            "How to prevent burning when frying bread?",
            "What Garlic to use for Garlic Bagels",
            "How to shape dough"
           ],
           "legendgroup": "bread",
           "marker": {
            "color": "#EF553B",
            "size": [
             3,
             3,
             1,
             2,
             2,
             2,
             2,
             8,
             2,
             1,
             3,
             2,
             1,
             2,
             1,
             3,
             1,
             1,
             2,
             5,
             3,
             2,
             2,
             9,
             3,
             3,
             3,
             3,
             4,
             2,
             9,
             6,
             2,
             4,
             4,
             4,
             2,
             6,
             2,
             2,
             1,
             1,
             4,
             1,
             3,
             7,
             3,
             3,
             1,
             2,
             2,
             4,
             2,
             2,
             6,
             3,
             3,
             1,
             1,
             6,
             1,
             1,
             3,
             1,
             1,
             5,
             5,
             1,
             2,
             2,
             2,
             1,
             3,
             2,
             2,
             5,
             2,
             2,
             3,
             1,
             5,
             2,
             2,
             3,
             1,
             1,
             6,
             2,
             3,
             3,
             4,
             1,
             2,
             3,
             2,
             3,
             5,
             5,
             8,
             5,
             2,
             3,
             2,
             3,
             2,
             2,
             2,
             5,
             4
            ],
            "sizemode": "area",
            "sizeref": 0.0525,
            "symbol": "circle"
           },
           "mode": "markers",
           "name": "bread",
           "orientation": "v",
           "showlegend": true,
           "type": "scatter",
           "x": [
            2,
            5,
            6,
            1,
            4,
            1,
            0,
            0,
            0,
            1,
            2,
            2,
            3,
            0,
            1,
            4,
            2,
            0,
            0,
            2,
            3,
            1,
            0,
            0,
            10,
            2,
            6,
            4,
            2,
            2,
            3,
            5,
            1,
            0,
            4,
            0,
            0,
            0,
            1,
            0,
            2,
            1,
            2,
            1,
            0,
            1,
            0,
            3,
            0,
            0,
            0,
            6,
            2,
            0,
            3,
            0,
            1,
            0,
            1,
            3,
            1,
            1,
            0,
            1,
            0,
            2,
            2,
            2,
            2,
            0,
            2,
            1,
            2,
            0,
            1,
            5,
            4,
            0,
            0,
            0,
            4,
            5,
            0,
            7,
            0,
            5,
            3,
            4,
            3,
            4,
            2,
            0,
            0,
            7,
            0,
            5,
            0,
            2,
            5,
            3,
            0,
            1,
            0,
            0,
            4,
            5,
            1,
            4,
            1
           ],
           "xaxis": "x",
           "y": [
            11183,
            2541,
            1742,
            8936,
            73549,
            1222,
            273,
            73477,
            5113,
            1141,
            46612,
            7419,
            10132,
            3603,
            18736,
            6506,
            2955,
            1850,
            2621,
            2102,
            6164,
            70143,
            9975,
            361212,
            11406,
            552,
            7215,
            4085,
            3922,
            3809,
            67443,
            19309,
            1231,
            11226,
            12433,
            50611,
            2895,
            62506,
            2446,
            35386,
            824,
            2603,
            34316,
            2807,
            19529,
            37944,
            4224,
            25108,
            482,
            2817,
            13676,
            12439,
            394,
            17025,
            70009,
            75330,
            1380,
            7578,
            376,
            33694,
            1119,
            14629,
            44260,
            2533,
            3534,
            955,
            82731,
            12506,
            12837,
            13978,
            1841,
            2300,
            12112,
            1450,
            8390,
            104567,
            1004,
            18125,
            12976,
            1053,
            120666,
            9014,
            9134,
            24805,
            588,
            4174,
            8970,
            831,
            3218,
            2623,
            37934,
            4663,
            998,
            63964,
            1764,
            2081,
            80387,
            2741,
            35116,
            36623,
            30022,
            17243,
            9696,
            1517,
            5433,
            1124,
            974,
            9725,
            853
           ],
           "yaxis": "y"
          }
         ],
         "name": "2012"
        },
        {
         "data": [
          {
           "hovertemplate": "<b>%{hovertext}</b><br><br>Tags=baking<br>Year=2013<br>CommentCount=%{x}<br>ViewCount=%{y}<br>AnswerCount=%{marker.size}<extra></extra>",
           "hovertext": [
            "How to keep a high hydration bread loaf from becoming flat",
            "Cooking with Plastic",
            "How dangerous is it to bake food with plastic?",
            "Is it okay to bake caramel pudding rather than steaming it?",
            "Prebaking bread, which internal temperature would you go for?",
            "Will double-action baking powder lose potency if not baked immediately?",
            "How to bake burger buns so that they expand horizontally instead of expanding vertically?",
            "What ensures big holes in my bread?",
            "What hole size to prefer in the bread for what reasons?",
            "Techniques for making sourdough starter in cold/altitude",
            "Woodfire oven how to get crust soft and tasty",
            "What kind of bakery items do not get horribly affected by electricity going off when the item is still in oven?",
            "Do breads always have to be baked in some vessels in an oven? If yes, then what shaped vessels would those be?",
            "Why must I return the chilled chocolate cookie dough to room temperature before baking?",
            "How to keep baked seitan from being too tough?",
            "What are the benefits, if any, of using a pizza stone in a toaster oven?",
            "Can I cook Meringue on tin foil rather than Baking paper?",
            "Bake brownies by 2 different ways, what changes?",
            "Cake without baking soda",
            "How can I make my bread pudding firmer?",
            "at what temperature should apple-choco pie be prepared?",
            "How can I stabilize a souffle?",
            "Temps rising above set temps",
            "Baking naan without an oven?",
            "Can't get my Puff Pastry shells to rise",
            "Ice pop recipe using egg yolks by two different ways",
            "Can quinoa be used instead of flour for cookies?",
            "what to do to make oilless, butterless, eggless cookies?",
            "Baking 'Master' Recipes",
            "What kind of cookies can be shaped?",
            "What is the difference between corn flour and corn meal?",
            "how can i make 1 1/2 cup of all purpose flour to 1 1/2 cup of self'rising flour?",
            "Is it safe to \"salt bake\" using ice cream rock salt?",
            "Is there a releaseable mold/pan for bread?",
            "Amount of Brioche dough in a Brioche mould?",
            "Why won't my cream biscuits rise?",
            "Can I bake bread in pieces?",
            "Why are there no recipes combining both yeast and baking powder?",
            "How can I make zucchini bread less moist?",
            "Pie VS Tart VS Quiche",
            "problems with buttermilk biscuits",
            "Why does commercial brown (whole wheat) bread taste bitter?",
            "How can I fix my tasteless baked flounder?",
            "Why is salt sometimes ingredient of otherwise sweet cookies?",
            "Where can I buy borosilicate (Pyrex) bakeware in the U.S.?",
            "Baking Turkey Meatloaf with/out glass cover",
            "How do I know when quiche is finished cooking?",
            "How do Crispbread manufacturers use so few ingredients?",
            "How can I save crumbly cookie dough?",
            "How do you make Paillets Feuilletine?",
            "When is is necessary to par bake a pie crust?",
            "How to make a proper scone?",
            "Nutrient loss when baking in roasting pan",
            "Getting the bowl out of the mold",
            "How can I make the exterior of my croissants less hard and more flaky?",
            "Quiche filling sets like an Aero bar?",
            "\"Cream Biscuit\" a little raw in the middle",
            "What side effects should I expect by replacing cake flour with chickpea flour in all cookie recipes?",
            "How to adjust the ingredients when recipe asks for salted peanuts and unsalted butter while I have the opposite?",
            "Why and what kind of breads should be scored?",
            "What kind of vegetable oil should I use for baking?",
            "How should I deal with \"thawed frozen puff pastry\"?",
            "What should be understood by \"refrigerate until firm, 2 hours or overnight\"?",
            "How to build steam in the oven for getting an oven spring?",
            "Saving sanding sugar",
            "Chia seeds as replacement of oil in bakery",
            "Why does my bread burn at the bottom before it is done?",
            "What does karate chop in a french bread dough mean?",
            "Do I need to bake my pre-made pie crust?",
            "Why did my French bread neither rise nor bake properly?",
            "What combination of flours can be used as a substitution to a bread flour?",
            "What quantity and resting time should be preferred for active dry yeast when it is supposed to be used in place of quick yeast?",
            "Does acidity negate double-acting baking powder?",
            "Stronger bread, how could I achieve that?",
            "In what proportion should the given ingredients be combined to form a cookie?",
            "can I make a dry ingredient waffle mix with dry egg powder & powdered milk?",
            "Right baking temperature",
            "Why didn't my beer cake cook properly?",
            "How can I attach printed rice paper decorations to cakes / cookies?",
            "How do you make whole-wheat bread less crumbly? -- (Without adding gluten)",
            "Shirred eggs elements",
            "Effect of adding wet ingredients to dry when making bread?",
            "Adding baking powder as a final step",
            "bread flour strength?",
            "Stop rhubarb compote juice from leaking",
            "How do I prevent tomato making quiche soggy",
            "How to adapt brownie recipe to cook well in a mini-muffin tin?",
            "How can I make my carrot cake taste more carroty",
            "Can I substitute whole eggs for egg whites in cake mix?",
            "What temperature and time do I need to bake a 35cm Madeira cake?",
            "Can I leave my cinnamon bars unbaked in the fridge for a few hours?",
            "Extreme Speed Baking",
            "Difference between scones and biscuit?",
            "How to season / care for a Bundt pan?",
            "Why does the custard in my lemon/lime bars always come out looking terrible and with bad texture?",
            "Why didn't my puff pastry \"puff\"?",
            "Lighter texture for chocolate pie",
            "Salt stick dough and shaping",
            "Why is there liquid at the bottom of my lemon meringue pie?",
            "Oil in steamed cake",
            "Can I make pasta with atta flour?",
            "How to avoid collapse of yeast-raised dough?",
            "How to evenly bake a daquoise disk?",
            "Substitues for Vegetable Oil -Spread-",
            "How to grease a pan without shortening or butter",
            "Why let your pie cool instead of eating it hot?",
            "Is it true that putting spices in something then baking it destroys the spices?",
            "Substitute for flaked coconut",
            "How do you emphasize the yeast flavor in bread?",
            "Why were my banana muffins hard?",
            "Why does batter often taste sweeter than the baked product?",
            "timing on baking a birthday cake",
            "Steaks taste horrid in the center?",
            "Can pressed cookies be made without creaming butter and sugar?",
            "How are macaron feet formed?",
            "Sponge cake with only three ingredients - will this work at all?",
            "Butter separation in english toffee candy",
            "Crème brûlée without torch",
            "choux pastry, keep mixing while waiting for the roux to cool?",
            "Adding raw chia seeds to baked goods?",
            "Lowering oven temps",
            "Is there a food that is halfway between a cheesecake and regular cake?",
            "How does fat affect gluten development in strudel/phyllo dough?",
            "Homemade pop tarts coming out too dry / crumbly",
            "How far ahead of time can I make or bake a bread with fruit and honey in it?",
            "How to get a sourdough like effect without the hassle of a real sourdough starter?",
            "How does one use cocoa butter in cooking?",
            "Pineapple upside down cake alteration",
            "Why do baking recipes call for instant coffee instead of fresh ground coffee?",
            "Is baking powder the same thing as baking flour?",
            "Can I use expired cream cheese spread?",
            "Why is milk powder used in bread machine recipes?",
            "Do silicone baking mats come in 14x16\" sizes?",
            "Looking to bake side dishes, having problems with dryness",
            "Substituting hazelnuts for almonds, baking",
            "Holes in baked cake",
            "How to substitute butter with combination of butter and shortening in cookie/biscuit making?",
            "How to make biscuits having flaky texture even after using water in the dough?",
            "How to make a sandwich bread with a very soft crust? And what is the ideal temperature to bake sandwich bread?",
            "Can you use brandy instead of rum in cake recipe",
            "Can I use yogurt cheese in cheesecake by substituting the cream cheese?",
            "Baking flour and sour cream -US /UK terms",
            "Smallest muffin size without losing the muffin top?",
            "How does baking temperature affect kale chips?",
            "How to make my croissants to grow?",
            "How to turn over large number of items halfway through baking oven",
            "cake undercooked or too wet?",
            "My meringue forms syrup beads on top",
            "What substitution can I make for blonde cane sugar in macaroons?",
            "Bread Book Suggestions",
            "Yeast 101: Active Dry Yeast, Instant Yeast, Baking Soda, Baking Powder. Differences and Info",
            "What can I use, beside applesauce, to replace fat in baking?",
            "Why does my Wonder Pot now bake unevenly?",
            "When can I use coconut oil as a substitution for other fats?",
            "What to do with leftover crumb topping?",
            "Baking Souffles",
            "What makes the Pillsbury canned biscuits puff up?",
            "How is baking bread in a ceramic pan different from using a metal one?",
            "Why would a baking recipe call for both cake and bread flour?",
            "Can I bake 1 round of puff pastry on top of another",
            "How to bake chips in microwave using grill?",
            "Bread Making - Ideal times",
            "Smoke detector goes off when baking chicken breast",
            "Bread too dense",
            "Why did my chicken fingers not brown?",
            "Problems with my technique in making a Belgian Liege Waffle",
            "Cause for Popovers not Rising in Oven?",
            "Flan recipe calls for a blender; how can I make it in a mixer instead?",
            "What are the differences between baking in bulk and baking in smaller amounts?",
            "Dry edges on sponge cake, nest 2 sheet pans for insulation?",
            "Utilizing both oven racks when baking",
            "What happens with bread at >= 94˚C/201˚F? Or: Is temperature a reliable indicator of doneness?",
            "How does sourdough (wild yeast) starter differ from location to location?",
            "Is sourdough actually sour?",
            "Using a bundt pan in place of loaf pans",
            "French bread falls after scoring, how can I achieve a tall loaf",
            "Best apples for apple pie",
            "How can I achieve even browning on the bottom of baked buns?",
            "How to reheat a baked potato?",
            "What's the Procedure for This Pie?",
            "When making filled cupcakes, is it possible to bake a custard filling in it?",
            "Can I turn coarse coarnmeal into fine with a blender?",
            "How can I turn my muffin batter into the natural blue color from blueberries?",
            "Cheesecake Reincarnation",
            "Does oil/butter help rise the dough?",
            "Why is bacon commonly baked in a cold oven?",
            "Freeze friendly baked side dishes",
            "How does hydration of a sourdough affect baking features?",
            "How close to the top should I fill a pie to avoid overflow?",
            "Bundt Pan for a Citris Olive Oil Cake?",
            "Does spoiled milk make any ingredient?",
            "When cooking or baking is it better to steam peppers or add them raw?",
            "Forgot sugar in sugar cookies",
            "Using dark rum instead of white rum",
            "How can I convert a muffin recipe to make crumpets?",
            "Baking a Brie with the outer rind broken",
            "What kinds of apples are suited to be filled with cranberries and baked?",
            "My bread cuts doesn't expand the way I like",
            "Additional Cooking Time When baking more than one loaf of quick bread",
            "Adding too much flour to bread dough in Kitchenaid Stand Mixer?",
            "Can polenta be baked?",
            "How long can I store homemade caramel or butterscotch sauce?",
            "Should I use olive oil in in baking?",
            "What can I use hard, crunchy, leftover cookie-mistakes for?",
            "How to set cookie crumbs",
            "What consistency should flan have when it is removed from the oven?",
            "Can I bake 2 small cakes at the same time?"
           ],
           "legendgroup": "baking",
           "marker": {
            "color": "#636efa",
            "size": [
             3,
             1,
             1,
             1,
             1,
             2,
             2,
             3,
             2,
             7,
             4,
             4,
             4,
             1,
             5,
             1,
             1,
             1,
             3,
             2,
             2,
             3,
             1,
             6,
             3,
             1,
             3,
             3,
             2,
             3,
             5,
             1,
             3,
             2,
             1,
             2,
             3,
             8,
             2,
             2,
             1,
             2,
             3,
             2,
             2,
             1,
             2,
             2,
             1,
             1,
             1,
             2,
             1,
             3,
             2,
             2,
             1,
             5,
             2,
             4,
             2,
             1,
             3,
             3,
             1,
             1,
             4,
             1,
             1,
             3,
             3,
             1,
             3,
             2,
             2,
             1,
             1,
             1,
             7,
             2,
             1,
             1,
             4,
             3,
             2,
             4,
             10,
             3,
             4,
             3,
             2,
             2,
             2,
             3,
             3,
             3,
             3,
             1,
             3,
             1,
             2,
             2,
             1,
             2,
             3,
             1,
             4,
             1,
             5,
             1,
             3,
             1,
             2,
             2,
             1,
             3,
             2,
             5,
             2,
             1,
             1,
             4,
             1,
             1,
             1,
             4,
             2,
             2,
             4,
             4,
             1,
             3,
             3,
             4,
             2,
             2,
             3,
             2,
             5,
             2,
             2,
             1,
             1,
             1,
             1,
             2,
             2,
             3,
             1,
             1,
             1,
             2,
             2,
             1,
             2,
             0,
             5,
             3,
             2,
             2,
             2,
             3,
             3,
             2,
             1,
             2,
             5,
             2,
             1,
             1,
             1,
             1,
             2,
             2,
             1,
             2,
             4,
             2,
             3,
             1,
             2,
             1,
             4,
             2,
             3,
             2,
             1,
             3,
             1,
             1,
             5,
             1,
             1,
             3,
             1,
             2,
             3,
             4,
             1,
             3,
             1,
             2,
             1,
             2,
             1,
             2,
             1
            ],
            "sizemode": "area",
            "sizeref": 0.0525,
            "symbol": "circle"
           },
           "mode": "markers",
           "name": "baking",
           "orientation": "v",
           "showlegend": true,
           "type": "scatter",
           "x": [
            0,
            1,
            0,
            3,
            0,
            0,
            1,
            2,
            2,
            2,
            7,
            0,
            4,
            1,
            3,
            9,
            0,
            1,
            1,
            2,
            7,
            3,
            3,
            8,
            1,
            0,
            2,
            6,
            1,
            1,
            1,
            0,
            0,
            9,
            0,
            0,
            0,
            2,
            8,
            4,
            0,
            9,
            1,
            3,
            14,
            0,
            4,
            2,
            4,
            1,
            0,
            7,
            0,
            11,
            0,
            3,
            0,
            1,
            0,
            1,
            1,
            0,
            3,
            2,
            0,
            0,
            2,
            0,
            0,
            2,
            2,
            0,
            0,
            2,
            0,
            0,
            3,
            1,
            13,
            3,
            0,
            0,
            0,
            0,
            0,
            0,
            2,
            3,
            1,
            1,
            0,
            3,
            3,
            0,
            2,
            1,
            0,
            1,
            3,
            3,
            0,
            1,
            1,
            1,
            0,
            0,
            4,
            1,
            1,
            2,
            0,
            0,
            6,
            2,
            4,
            7,
            3,
            1,
            0,
            0,
            0,
            0,
            1,
            0,
            0,
            0,
            0,
            1,
            1,
            2,
            1,
            3,
            0,
            0,
            1,
            0,
            0,
            4,
            1,
            2,
            1,
            1,
            6,
            0,
            1,
            0,
            0,
            0,
            0,
            3,
            3,
            0,
            3,
            0,
            1,
            2,
            2,
            3,
            0,
            0,
            3,
            5,
            2,
            7,
            0,
            2,
            4,
            0,
            0,
            7,
            3,
            1,
            0,
            1,
            1,
            3,
            1,
            2,
            0,
            0,
            0,
            1,
            0,
            3,
            3,
            0,
            2,
            0,
            0,
            1,
            0,
            0,
            1,
            0,
            4,
            0,
            0,
            2,
            2,
            2,
            1,
            2,
            1,
            3,
            0,
            2,
            2
           ],
           "xaxis": "x",
           "y": [
            41353,
            212,
            31448,
            5808,
            1487,
            1370,
            4339,
            88904,
            2365,
            46072,
            2530,
            2320,
            4085,
            7379,
            34158,
            4799,
            52447,
            2826,
            4041,
            1473,
            696,
            14532,
            243,
            4114,
            7131,
            378,
            2284,
            2810,
            3075,
            2125,
            395424,
            9204,
            4697,
            996,
            1377,
            1039,
            613,
            145718,
            17259,
            25247,
            467,
            16688,
            1551,
            3347,
            52340,
            3193,
            32602,
            3182,
            20990,
            20545,
            4356,
            16568,
            264,
            1021,
            7103,
            4896,
            4055,
            57334,
            2402,
            29956,
            20005,
            1613,
            15422,
            2688,
            103,
            5617,
            32798,
            341,
            59288,
            5498,
            20265,
            1175,
            3012,
            2866,
            1317,
            1557,
            4742,
            547,
            111999,
            8309,
            175,
            1541,
            50838,
            3724,
            251,
            9156,
            142483,
            2404,
            238216,
            5497,
            198,
            400,
            19017,
            6055,
            16598,
            43835,
            720,
            514,
            36604,
            636,
            5625,
            63944,
            319,
            18555,
            100855,
            31422,
            3096,
            1888,
            29583,
            1403,
            5839,
            796,
            242,
            546,
            3139,
            3276,
            2726,
            2721,
            2762,
            2759,
            9658,
            1102,
            3941,
            320,
            188,
            8132,
            27641,
            973,
            79755,
            45657,
            3398,
            178361,
            2001,
            240,
            6181,
            2135,
            23017,
            923,
            60555,
            16328,
            1915,
            2170,
            440,
            602,
            11599,
            12102,
            9440,
            9146,
            1741,
            123,
            3401,
            3821,
            511,
            15542,
            19802,
            43,
            10553,
            47230,
            3886,
            4427,
            3183,
            241,
            9381,
            8857,
            4831,
            865,
            39063,
            3677,
            924,
            367,
            43447,
            4778,
            4081,
            4169,
            52424,
            3276,
            1097,
            7562,
            116024,
            101,
            2742,
            3597,
            5794,
            1047,
            29639,
            5351,
            130,
            18919,
            2650,
            216,
            8866,
            893,
            1668,
            8975,
            258,
            2270,
            152,
            3042,
            15893,
            24121,
            143,
            47128,
            2717,
            10064,
            311,
            4325,
            4903
           ],
           "yaxis": "y"
          },
          {
           "hovertemplate": "<b>%{hovertext}</b><br><br>Tags=bread<br>Year=2013<br>CommentCount=%{x}<br>ViewCount=%{y}<br>AnswerCount=%{marker.size}<extra></extra>",
           "hovertext": [
            "How to keep a high hydration bread loaf from becoming flat",
            "Prebaking bread, which internal temperature would you go for?",
            "What ensures big holes in my bread?",
            "What hole size to prefer in the bread for what reasons?",
            "Techniques for making sourdough starter in cold/altitude",
            "What is the purpose of making a preferment for yeast doughs?",
            "What kind of bakery items do not get horribly affected by electricity going off when the item is still in oven?",
            "Do breads always have to be baked in some vessels in an oven? If yes, then what shaped vessels would those be?",
            "must I toast bread over a flame or are HOT toasters still made somewhere?",
            "Baking naan without an oven?",
            "Is there a releaseable mold/pan for bread?",
            "Amount of Brioche dough in a Brioche mould?",
            "When I bake a 2lb loaf, the very Centre of it lacks structure",
            "How do I substitute proofed dried active yeast for fresh yeast?",
            "Can I bake bread in pieces?",
            "Why is commercial sandwich bread so popular in the US and UK?",
            "Why does commercial brown (whole wheat) bread taste bitter?",
            "How can I rescue overproofed bread?",
            "What changes can I make to a bread recipe to prevent it collapsing when rising overnight in fridge?",
            "How to ship bread or bread dough?",
            "Which ingredient in Italian bread gives it that great taste?",
            "How do Crispbread manufacturers use so few ingredients?",
            "What is a good bread recipe for light bread, but able to be shaped?",
            "What is \"pizza crust yeast\"?",
            "How can I make the exterior of my croissants less hard and more flaky?",
            "Does beer in bread retard the yeast?",
            "How do I make my bread/buns super soft?",
            "How to prevent bread sticking to cast iron pan?",
            "Should any liquid, or liquid-like ingredient, be included in the water proportion calculations for bread?",
            "How can I score wet bread dough more easily?",
            "Why and what kind of breads should be scored?",
            "What are the breads with big holes and small holes called?",
            "How to build steam in the oven for getting an oven spring?",
            "Why does my bread burn at the bottom before it is done?",
            "What does karate chop in a french bread dough mean?",
            "Why did my French bread neither rise nor bake properly?",
            "What combination of flours can be used as a substitution to a bread flour?",
            "Stronger bread, how could I achieve that?",
            "Is it possible to make breads using cake techniques?",
            "Why does soda bread preserve less well than sourdough or yeast based bread?",
            "How do you make whole-wheat bread less crumbly? -- (Without adding gluten)",
            "Effect of adding wet ingredients to dry when making bread?",
            "Is bread that can go mouldy better than that which does not?",
            "What are the authentic traditional ingredients for Naan bread?",
            "bread flour strength?",
            "Uses for dry bread",
            "What went wrong with my sourdough?",
            "Bread/Pizza Dough Techniques",
            "Can soda bread be successfully frozen, either baked or in dough form?",
            "Is sterilized milk safe to use with a breadmaker's timer function?",
            "What kind of homemade sandwich bread or wrap lasts longest?",
            "Salt stick dough and shaping",
            "How to avoid collapse of yeast-raised dough?",
            "Could I use beer instead of/as well as water in my sourdough?",
            "When making bread, should I add salt early or late? Pros and cons",
            "Bacon Buns: How to make them softer",
            "How do you emphasize the yeast flavor in bread?",
            "How to mix ingredients in bread machine?",
            "Baking wheat and dairy-free bread with only dry yeast",
            "How far ahead of time can I make or bake a bread with fruit and honey in it?",
            "How to get a sourdough like effect without the hassle of a real sourdough starter?",
            "Is there a term for the differentiating effects on loaves of bread?",
            "Milk instead of water for sourdough?",
            "Help with sourdough bread",
            "How does a sourdough sponge work?",
            "What is the white swirl in my bread and is it safe?",
            "Why is milk powder used in bread machine recipes?",
            "How to make a sandwich bread with a very soft crust? And what is the ideal temperature to bake sandwich bread?",
            "Why isn't a Sourdough starter unsanitary?",
            "Rehydrating Dried Rosemary for Bread?",
            "Should a sourdough starter be left open/ajar after feeding?",
            "Bread Book Suggestions",
            "How is baking bread in a ceramic pan different from using a metal one?",
            "How do I get crispy but thin bread crust?",
            "Bread Making - Ideal times",
            "Can I use flavored beers in beer bread?",
            "Cause for Popovers not Rising in Oven?",
            "What happens with bread at >= 94˚C/201˚F? Or: Is temperature a reliable indicator of doneness?",
            "How does sourdough (wild yeast) starter differ from location to location?",
            "Is sourdough actually sour?",
            "French bread falls after scoring, how can I achieve a tall loaf",
            "How can I achieve even browning on the bottom of baked buns?",
            "Baking after rising",
            "How does hydration of a sourdough affect baking features?",
            "What edible solution can I cover bread in to make it waterproof?",
            "How long can I keep bread dough in the refrigerator?",
            "How can I convert a muffin recipe to make crumpets?",
            "How can I make whole wheat bread and biscuits with out the bitter taste?",
            "Additional Cooking Time When baking more than one loaf of quick bread",
            "Adding too much flour to bread dough in Kitchenaid Stand Mixer?",
            "Stuffing bread for the next day",
            "Should I use olive oil in in baking?",
            "Pizza Dough Seasoning",
            "Baking yeast breads in gas oven?",
            "How does tangzhong (water roux) make bread softer?"
           ],
           "legendgroup": "bread",
           "marker": {
            "color": "#EF553B",
            "size": [
             3,
             1,
             3,
             2,
             7,
             2,
             4,
             4,
             2,
             6,
             2,
             1,
             2,
             3,
             3,
             3,
             2,
             8,
             3,
             1,
             10,
             2,
             1,
             9,
             2,
             6,
             7,
             4,
             1,
             4,
             4,
             2,
             3,
             4,
             1,
             3,
             3,
             2,
             2,
             2,
             2,
             1,
             3,
             6,
             3,
             1,
             1,
             1,
             1,
             1,
             2,
             1,
             2,
             3,
             3,
             2,
             5,
             3,
             1,
             1,
             4,
             2,
             4,
             3,
             1,
             1,
             3,
             5,
             2,
             3,
             1,
             1,
             3,
             5,
             3,
             3,
             5,
             1,
             2,
             2,
             2,
             2,
             1,
             3,
             4,
             6,
             1,
             4,
             1,
             3,
             2,
             1,
             5,
             2,
             1
            ],
            "sizemode": "area",
            "sizeref": 0.0525,
            "symbol": "circle"
           },
           "mode": "markers",
           "name": "bread",
           "orientation": "v",
           "showlegend": true,
           "type": "scatter",
           "x": [
            0,
            0,
            2,
            2,
            2,
            4,
            0,
            4,
            9,
            8,
            9,
            0,
            6,
            2,
            0,
            4,
            9,
            3,
            4,
            7,
            9,
            2,
            0,
            0,
            0,
            7,
            3,
            7,
            2,
            6,
            1,
            2,
            2,
            2,
            0,
            2,
            2,
            2,
            0,
            0,
            3,
            0,
            3,
            0,
            0,
            4,
            5,
            4,
            0,
            3,
            6,
            1,
            1,
            1,
            0,
            7,
            1,
            8,
            0,
            0,
            0,
            1,
            0,
            1,
            0,
            3,
            3,
            1,
            2,
            0,
            0,
            3,
            3,
            2,
            5,
            0,
            4,
            1,
            0,
            1,
            3,
            2,
            2,
            0,
            2,
            1,
            4,
            1,
            2,
            2,
            2,
            1,
            0,
            1,
            0
           ],
           "xaxis": "x",
           "y": [
            41353,
            1487,
            88904,
            2365,
            46072,
            2534,
            2320,
            4085,
            770,
            4114,
            996,
            1377,
            715,
            3071,
            613,
            845,
            16688,
            86597,
            1842,
            3988,
            13680,
            3182,
            131,
            77529,
            7103,
            8947,
            443096,
            10653,
            3180,
            6500,
            29956,
            5875,
            2688,
            32798,
            341,
            5498,
            20265,
            2866,
            264,
            8740,
            8309,
            1541,
            6571,
            48081,
            3724,
            145,
            4081,
            1907,
            7427,
            2079,
            1526,
            514,
            63944,
            17751,
            32243,
            995,
            29583,
            14556,
            194,
            188,
            8132,
            203,
            23727,
            1338,
            1911,
            7640,
            178361,
            60555,
            13979,
            2990,
            2162,
            123,
            47230,
            61219,
            241,
            736,
            39063,
            4778,
            4081,
            4169,
            3276,
            7562,
            141,
            18919,
            5638,
            319275,
            258,
            9537,
            15893,
            24121,
            1259,
            2717,
            18649,
            4908,
            27750
           ],
           "yaxis": "y"
          }
         ],
         "name": "2013"
        },
        {
         "data": [
          {
           "hovertemplate": "<b>%{hovertext}</b><br><br>Tags=baking<br>Year=2014<br>CommentCount=%{x}<br>ViewCount=%{y}<br>AnswerCount=%{marker.size}<extra></extra>",
           "hovertext": [
            "Cookie dough between batches - Refrigerate? Or no?",
            "Can I really put frozen ramekins in a preheated oven?",
            "How does halving a bread recipe impact rising time?",
            "Why shouldn't I bake on scratched silicone mats?",
            "Can you prepare eggplant by salting, then baking, then finally rinsing?",
            "How can I make bread within one and a half hour?",
            "Removing that eggy smell from cakes",
            "Help with what to bake leftover cake batter in",
            "How to remove pizza pan from oven without a peel?",
            "Can a \"kitchen machine\" appliance and a food processor fully replace each other in baking applications? If not, what are the limitations?",
            "How does your hand/stand mixer's speed effect the texture of your cookies?",
            "Properly melting butter and sugar together for butterscotch bar recipe",
            "Squashing cookie balls vs slicing them",
            "Using Sourdough Breads to reduce Fructans",
            "Are there any tricks to making a light-textured \"whipped cream cake\"?",
            "yeastless bread help!",
            "What water should be used in baking bread?",
            "How long should I knead bread dough by hand?",
            "Buying European flours in the United States?",
            "Crispy Lembas Bread Recipe",
            "Is there any loss of nutrition when toasted?",
            "What causes a cake to sink in the center?",
            "What is a non-alcoholic substitute for rum in a glaze?",
            "Is there a general rule as if should bake something at 375 or 350 degrees, or does it really matter?",
            "How long can cream cheese frosting be safely stored in the fridge?",
            "Can I substitute grapeseed oil with peanut oil?",
            "How to bake a sponge cake in a grill microwave oven",
            "Failed chocolate sponge",
            "Best vegan substitute for egg wash",
            "Is 440° F too hot for an oven temperature?",
            "How should I adjust the baking temperature?",
            "How do I separate crackers stuck to parchment paper?",
            "Baking camembert with crust in a larger pan?",
            "changing single loaf bread into two smaller",
            "Cookies sticking to plate",
            "Can a semisweet chocolate be substituted with a belgian chocolate?",
            "Storing cake batter",
            "How to keep blintzes closed",
            "Delaying Fermentation in Refrigerator",
            "The Warm Oven Temp. for Cakes",
            "How to tell when cheesecake is done?",
            "Create my own high-gluten flour by mixing vital wheat gluten and bread/AP flour?",
            "My soufflé turned grey",
            "Ideal temperature and method to bake a deep dish pizza",
            "Baking a cake in a larger/smaller pan",
            "Chiffon gets stiff overnight",
            "Fresh cranberries OR frozen cranberries",
            "Oven Spring when first stage of recipe includes a ten hour first rise",
            "Impastata Ricotta for Cannoli",
            "What is the science behind Magic Cake?",
            "Why fold in ingredients, why not just whisk?",
            "Edible Non Toxic Pencil Alternative for Baking Stencils?",
            "Can I use granulated sugar instead of demerara sugar",
            "Slow-fermented bread doesn't rise",
            "Substitute for margarine in graham cracker crust",
            "Safe to buy food baked in plastic containers:",
            "Making a carvable cake",
            "Will lowfat cream cheese keep filling from setting?",
            "Why use boiling water in a shoofly pie?",
            "What makes cooked chicken chewy?",
            "Mix a cake in a bag",
            "Could I substitute peanut butter in place of butter or crisco for cookies?",
            "Prevent brioche buns from spreading during rise",
            "Do I have to use oil when making pie crust?",
            "Watery Russet Baked Potato",
            "Please help me to fix my bread to be more soft and smaller hole",
            "Coating fruit before adding to a cake",
            "Adding melted butter to cold milk in baking",
            "What should a good cookie dough look like?",
            "Why don't the Rhodes cinnamon rolls from a bag turn out as good as the ones in the foil pan?",
            "What happened to my macarons?",
            "Can I cook 2 very different things at same time in the oven?",
            "What fruits keep their sweetness when baking?",
            "Can I substitute vanilla extract for cocoa powder in a cupcake recipe?",
            "Undercooked cookies",
            "Is our oven at work powerful enough to bake pizza?",
            "Why does the \"almost no knead bread\" recipe use beer? Can it be replaced?",
            "Can I add butter to yeast dough which has already risen?",
            "How to keep graham cracker crust from falling apart",
            "Which rack level of oven is suitable for baking choco lava cakes?",
            "Baking time for paper vs metal",
            "What is instant pudding mix used for in baking cookies?",
            "Why do some ingredients in baking recipes need to be at room temperature?",
            "My dough is too brown",
            "Baking Electric Fan Oven",
            "My parchment paper soaked in oil after finish baking cookies",
            "Why are my cookies falling apart?",
            "Cooking safety and cricket flour",
            "Search terms for potatoes inside of a bun",
            "Will newspaper covering a cake pan catch fire in the oven?",
            "What is on top of this and how do you make it?",
            "Tall cupcakes that have height to them",
            "Waay too much baking soda, can I salvage these tea buscuits somehow?",
            "Why are my cinnamon rolls turning into toffee?",
            "Can I make my crumble topping in a mixer?",
            "Same recipe but sometimes white chocolate cookies come out strange",
            "How to bake a cake in a microwave oven",
            "What happens when you add warm water to yeast?",
            "Why do my macarons come out looking weird?",
            "Why add in the eggs last when making chocolate chip cookies?",
            "Using melted butter when making shortbread",
            "How to know when to remove lemon squares from oven?",
            "Can sunflower or coconut oil be substituted for vegetable shortening in cake icing?",
            "What is the proper technique for making an angel food cake?",
            "Melted biscuits",
            "Dishwasher safe bakeware?",
            "Making batter one day, baking the next",
            "Triple batch multipliers",
            "Alton Brown's Buffalo Wings",
            "How to stop icing from running off iced buns?",
            "How can I modify my banana bread recipe to make cookies from it?",
            "How to make canollis without a deep frier?",
            "Baking or Cooking - why orange and not other sweet citrus fruit?",
            "Can vegetable juices stop bread from rising?",
            "How do I fix and prevent a baked custard from weeping?",
            "How to make home made corn flakes?",
            "Stirring with knives?",
            "Baking bread - stainless steel or potless?",
            "Effect of undutched cocoa on baking",
            "Can vegetable enzymes kill yeast?",
            "Pork chops: low and slow or high and fast?",
            "why should the madeleine tins start off cold?",
            "Potatoes in bread? How to estimate potatoes needed?",
            "Additives to make bread soft and moist?",
            "Why are Cinnabons so soft and moist?",
            "Where to find a large individual brownie pan?",
            "Margarine vs Butter in cinnamon roll schmear",
            "What are the coloured pieces inside cupcakes called?",
            "Why is supermarket bread soft?",
            "Tetrasodium pyrophosphate",
            "Can I substitute unsweetened cocoa powder for unsweetened baker's chocolate?",
            "How much can I change the height of a cake?",
            "Chocolate chip cookies with whole wheat flour",
            "choosing a red food color for red velvet cake",
            "Avocado substitute in blueberry muffin recipe",
            "What happens when you knead bread dough?",
            "Measurement for 3 sheets of crushed graham cracker",
            "Edible lollipop sticks for a complicated birthday cake",
            "making scalloped potatoes, need to be in oven for 3 hours,what temperature should I have them on",
            "Why does my glaze soak into my doughnuts?",
            "How can I prevent my honey cake from splitting open?",
            "How to add more toppings to frozen pizza?",
            "Baking bread for fishing bait",
            "Why don't other grain proteins behave like gluten?",
            "Runny Cookie Dough",
            "Is there any advantage to resting (banana) bread batter?",
            "cake baking problem (white lumps of flour)",
            "Burned Cookies - Now what?",
            "Do I have to peel red potatoes before baking them?",
            "Bread breaks in the middle while in the oven",
            "Making Herman the German starter using brown sugar",
            "Amish Friendship Bread starter with buttermilk",
            "baking time versus number of items in oven",
            "Why won't my crueler rise",
            "What can I subsitute for Aluminum foil in the oven? I am allergic to Aluminum",
            "What size cake pan could be substitued in place of muffins?",
            "Wouldn't this cake batter be too runny? Would the coffee affect the texture?",
            "What kind of tray or tray coating to use for pretzels?",
            "How can I make fresh burger buns like Hardees?",
            "Not getting the creamy result beating butter and sugar",
            "How to stop oil separating from cheese",
            "How to make part bake baguettes and rolls?",
            "Substitutes for wheat flour and their challenges in baking",
            "What's is the internal temperature of pancakes?",
            "substituting black treacle/molasses for brown sugar",
            "Compensating for extra moisture from cold flour",
            "Can I substitute a stainless steel pot for the traditional iron dutch oven?",
            "Mixed bread dough shelf life?",
            "yeast substitutes and proper measurements",
            "missing ingredients in banana bread",
            "why do some pavlova recipes have cream of tarter to be added",
            "Baked item that would catch on fire/smoke?",
            "Does vinegar have the same function as tartaric acid in a pavlova?",
            "How to make my graham cracker bites crispy/crunchy?",
            "What are these called in english?",
            "Baking Double Pans of Muffins",
            "Is oven an important factor in getting great baking results?",
            "Can/should I use baking soda when cooking beans?",
            "Bake and then Broil instead of flipping?",
            "Rescuing peanut butter frosting",
            "Time and Temperature to bake small fruit cakes",
            "Help first time making cookies",
            "Cookies are too sweet",
            "ready made sugar syrup",
            "Can I substitute parchment paper for foil?",
            "How do I bake chocolate chip cookies like Subway?",
            "tartine bread without dutch oven (inverted mixing bowl on top of heavy skillet)?",
            "Why pre-mix baking soda into 2 tsp of milk?",
            "How to make gingerbread more moist and fluffy?",
            "Water bath issue when doubling a cheesecake recipe to make bars",
            "Why put Sprite in a baking recipe?",
            "Why is my pecan pie always runny?",
            "Baking a pie in air grill / electrical convection oven?",
            "Using gas cooker now having problem cooking food",
            "Does using egg+yolk in a chocolate chip cookie recipe make a big difference?",
            "Which cooking method gives the leanest bacon?",
            "Why would you place potatoes on salt when baking in the oven?",
            "Baking granbarksost (spruce bark cheese) (Brie) with little mould",
            "Baking a cheesecake at 325 instead of 350",
            "Preheating Onida convection microwave oven",
            "Whole eggs versus folding in egg whites",
            "Can I substitute powdered walnuts for all-purpose flour in a cake?",
            "How to bake crushed peppermint into cake?",
            "Baking below sea level",
            "Challah rolls open up when baking in the oven",
            "I used evaporated milk instead of sweetened condensed milk in a fudge recipe. How do I fix this?",
            "Why does my pavlova always look like this?",
            "How-to Cut Baking Chocolate bar clean for perfect squares",
            "Can't I just grease the Baking Sheet instead of using Parchment Paper",
            "I am using agave instead of sugar, do I add more flour to keep things right in cookie dough?",
            "How can I extend shelf life of my cakes?",
            "How long to bake lasagne at lower temperature?",
            "How can I replace apples with peaches?",
            "My french bread dough did not rise on the second rise after forming the loaves",
            "Are there any situations where untempered chocolate is better than tempered?",
            "Calculate baking time for bread",
            "Frosting kept melting when trying to frost cake",
            "Can I make any modern improvements to this Russian cake recipe from 1971?"
           ],
           "legendgroup": "baking",
           "marker": {
            "color": "#636efa",
            "size": [
             2,
             2,
             1,
             1,
             1,
             1,
             21,
             4,
             2,
             1,
             2,
             5,
             3,
             3,
             2,
             1,
             2,
             3,
             4,
             3,
             1,
             3,
             3,
             1,
             0,
             2,
             2,
             3,
             8,
             4,
             2,
             2,
             1,
             2,
             2,
             2,
             3,
             1,
             2,
             2,
             1,
             13,
             1,
             5,
             2,
             1,
             2,
             2,
             6,
             3,
             1,
             1,
             1,
             1,
             3,
             2,
             4,
             1,
             1,
             2,
             1,
             4,
             3,
             2,
             1,
             1,
             1,
             6,
             3,
             1,
             1,
             1,
             3,
             3,
             1,
             3,
             2,
             2,
             4,
             1,
             1,
             1,
             1,
             1,
             3,
             2,
             2,
             1,
             2,
             2,
             2,
             1,
             1,
             1,
             3,
             1,
             1,
             1,
             1,
             2,
             1,
             4,
             1,
             1,
             1,
             1,
             1,
             0,
             1,
             1,
             2,
             2,
             1,
             1,
             3,
             2,
             3,
             3,
             1,
             1,
             2,
             1,
             5,
             1,
             3,
             2,
             2,
             1,
             6,
             2,
             1,
             2,
             3,
             1,
             2,
             1,
             1,
             1,
             3,
             1,
             1,
             7,
             1,
             1,
             2,
             3,
             2,
             8,
             8,
             3,
             1,
             1,
             4,
             0,
             3,
             2,
             2,
             4,
             1,
             3,
             2,
             1,
             1,
             2,
             2,
             1,
             4,
             1,
             3,
             2,
             1,
             9,
             1,
             4,
             3,
             2,
             4,
             4,
             1,
             1,
             2,
             1,
             4,
             1,
             1,
             2,
             1,
             2,
             2,
             1,
             1,
             3,
             1,
             3,
             1,
             1,
             5,
             2,
             2,
             1,
             2,
             2,
             2,
             2,
             2,
             2,
             1,
             2,
             3,
             1,
             1,
             3,
             2,
             1,
             7,
             2,
             2,
             1
            ],
            "sizemode": "area",
            "sizeref": 0.0525,
            "symbol": "circle"
           },
           "mode": "markers",
           "name": "baking",
           "orientation": "v",
           "showlegend": true,
           "type": "scatter",
           "x": [
            2,
            0,
            0,
            0,
            6,
            7,
            3,
            0,
            1,
            7,
            0,
            3,
            1,
            0,
            2,
            1,
            4,
            0,
            0,
            3,
            0,
            8,
            2,
            1,
            3,
            0,
            0,
            8,
            3,
            0,
            1,
            1,
            0,
            0,
            0,
            0,
            0,
            1,
            3,
            1,
            0,
            1,
            1,
            5,
            0,
            0,
            0,
            0,
            3,
            5,
            0,
            2,
            0,
            9,
            0,
            1,
            3,
            0,
            0,
            3,
            0,
            0,
            0,
            3,
            9,
            6,
            1,
            1,
            7,
            0,
            0,
            0,
            1,
            3,
            3,
            4,
            0,
            0,
            3,
            0,
            3,
            0,
            0,
            3,
            1,
            0,
            1,
            0,
            0,
            7,
            5,
            0,
            0,
            2,
            0,
            10,
            5,
            2,
            2,
            5,
            0,
            11,
            1,
            1,
            4,
            2,
            5,
            7,
            16,
            2,
            3,
            0,
            2,
            9,
            5,
            4,
            1,
            5,
            6,
            2,
            2,
            0,
            1,
            4,
            0,
            4,
            1,
            12,
            1,
            2,
            0,
            0,
            2,
            3,
            5,
            1,
            0,
            13,
            2,
            0,
            7,
            0,
            3,
            0,
            0,
            7,
            0,
            4,
            6,
            6,
            1,
            1,
            0,
            0,
            6,
            4,
            0,
            0,
            2,
            6,
            5,
            1,
            1,
            0,
            0,
            0,
            2,
            1,
            0,
            1,
            0,
            2,
            1,
            0,
            0,
            0,
            2,
            1,
            1,
            0,
            0,
            2,
            1,
            1,
            2,
            7,
            1,
            3,
            6,
            1,
            7,
            1,
            2,
            0,
            3,
            0,
            0,
            0,
            1,
            1,
            4,
            4,
            0,
            5,
            4,
            7,
            3,
            6,
            1,
            2,
            0,
            2,
            0,
            3,
            2,
            2,
            3,
            6
           ],
           "xaxis": "x",
           "y": [
            2488,
            8386,
            9990,
            1241,
            734,
            136,
            147109,
            1809,
            7221,
            1907,
            1849,
            95039,
            965,
            2685,
            515,
            387,
            415,
            11386,
            35446,
            2121,
            125,
            4356,
            31211,
            5264,
            16,
            1058,
            58413,
            687,
            65384,
            1117,
            1105,
            9617,
            633,
            2441,
            235,
            1521,
            43508,
            205,
            2262,
            1102,
            18482,
            72521,
            880,
            3259,
            5173,
            70,
            3030,
            817,
            23939,
            9733,
            10131,
            7126,
            6094,
            1149,
            7380,
            1742,
            11032,
            114,
            245,
            176768,
            598,
            28005,
            2657,
            503,
            905,
            266,
            715,
            77036,
            45058,
            4171,
            5715,
            41828,
            1446,
            9543,
            78298,
            5831,
            1782,
            11870,
            35595,
            876,
            201,
            12091,
            432,
            2438,
            4341,
            602,
            9583,
            913,
            154,
            13427,
            292,
            862,
            5653,
            192,
            20388,
            553,
            5190,
            21866,
            2180,
            3681,
            5459,
            77991,
            3252,
            335,
            135,
            3428,
            7752,
            106,
            621,
            1430,
            6007,
            156,
            5299,
            593,
            13801,
            7758,
            1730,
            10251,
            1309,
            154,
            8918,
            222,
            8706,
            6468,
            1283,
            393,
            5491,
            176,
            37072,
            922,
            6823,
            6978,
            4234,
            7298,
            1739,
            8098,
            8856,
            4839,
            3872,
            6738,
            698,
            52685,
            871,
            938,
            65150,
            6459,
            49048,
            12219,
            53718,
            2419,
            987,
            1662,
            36840,
            43,
            15171,
            6843,
            1326,
            5594,
            3556,
            56879,
            4795,
            14664,
            5139,
            5605,
            11090,
            647,
            40950,
            1595,
            41305,
            1089,
            1456,
            19827,
            2641,
            903,
            309,
            3378,
            1444,
            69773,
            1334,
            125,
            6271,
            124,
            3767,
            397,
            13057,
            2093,
            1645,
            10659,
            2265,
            2327,
            5930,
            89632,
            1993,
            596,
            9192,
            177,
            26910,
            396,
            12212,
            19789,
            19235,
            5809,
            2247,
            8953,
            3414,
            6932,
            29259,
            10466,
            4938,
            862,
            1730,
            13762,
            1514,
            1121,
            3690,
            3933,
            7814,
            823
           ],
           "yaxis": "y"
          },
          {
           "hovertemplate": "<b>%{hovertext}</b><br><br>Tags=bread<br>Year=2014<br>CommentCount=%{x}<br>ViewCount=%{y}<br>AnswerCount=%{marker.size}<extra></extra>",
           "hovertext": [
            "How does halving a bread recipe impact rising time?",
            "When should food colouring be added to part of a batch of bread dough?",
            "How to rise and bake a sourdough loaf in the least amount of time?",
            "What temperature of water will kill yeast?",
            "yeastless bread help!",
            "What water should be used in baking bread?",
            "How long should I knead bread dough by hand?",
            "Buying European flours in the United States?",
            "Crispy Lembas Bread Recipe",
            "Challah bread -- too crusty?",
            "Bread with no salt",
            "airy bread rolls done in bread machine",
            "What would happen if I add wine to yeast bread?",
            "Searching for a \"Dry Goods Starter Mix\"",
            "Leftover Dough Made to Bread",
            "changing single loaf bread into two smaller",
            "My yeast recipies seem to harden somewhat after baking",
            "What is the puffy bread shown in Chitty Chitty Bang Bang?",
            "How long to bake bread?",
            "Delaying Fermentation in Refrigerator",
            "Create my own high-gluten flour by mixing vital wheat gluten and bread/AP flour?",
            "Old bread becomes sticky",
            "Heating bread in the microwave oven and wetting",
            "Oven Spring when first stage of recipe includes a ten hour first rise",
            "Making sourdough bread in a warm and humid climate",
            "Meaning of the term 'tack' in bread making?",
            "How can I translate my bread machine recipe to using a stand mixer instead?",
            "Difference between Organic Bread and Fresh Bread",
            "How to keep fresh-made soft pretzels from getting soggy or stale?",
            "Slow-fermented bread doesn't rise",
            "how to make dense texture bread?",
            "Make pate easier to spread",
            "Prevent brioche buns from spreading during rise",
            "Please help me to fix my bread to be more soft and smaller hole",
            "How to slash bread to let steam out",
            "Is there a trick to turn old bread into almost-new bread?",
            "Why don't the Rhodes cinnamon rolls from a bag turn out as good as the ones in the foil pan?",
            "Bread Proving Time in Warm Climates",
            "Why does the \"almost no knead bread\" recipe use beer? Can it be replaced?",
            "Can I add butter to yeast dough which has already risen?",
            "Preheat the Dutch oven (and the oven itself) for No-Knead Bread?",
            "How do I clean off bread stuck to a non-flat / patterened cast iron pan?",
            "When should I knead with oil and when with flour?",
            "How do I deal with a really wet, messy dough?",
            "How is it that brioche rises so high?",
            "Bread-machine recipes: are liquid ingredients fungible?",
            "How can I make proper sandwich slices of home-made bread?",
            "Can I rest my Ciabatta dough overnight?",
            "Search terms for potatoes inside of a bun",
            "The role of the gluten in an acid environment",
            "Why does my bread have a dip in the center?",
            "Is there a reason to NOT use no-stick spray (Pam) for handling dough?",
            "Long chilling of brioche dough?",
            "Rolling out after or before the leavening process?",
            "Mixing both gluten production and milk",
            "Why do bread companies add sugar to bread?",
            "Powdered Goat Milk in Bread?",
            "Can I store bread dough overnight?",
            "Is it okay to add extra sugar to a specific brioche recipe?",
            "How to make the bottom of breads bake a little slower so that the whole bread could stay longer in the oven?",
            "Substituting honey for sugar in bread",
            "What herbs to use when baking bread, rusks and scones?",
            "How do you prolong buns/rolls/scone/crumpet softness?",
            "Kneading dough - significance of warm hands",
            "Slow-Carb or low-carb alternative to pita and similiar neutral tasting breads",
            "Adding/substituting non-flour ingredients in bread",
            "How to make bread mould resistant?",
            "Leaving buttermilk out overnight, recipe for food poisoning?",
            "I want to duplicate my bread mistake!",
            "What difference does it make if I substitute low-fat milk for water in bread recipes?",
            "How can I modify my banana bread recipe to make cookies from it?",
            "Baking bread - stainless steel or potless?",
            "Thinned yogurt instead of milk",
            "How did people make bread before sugar was 'discovered'",
            "Should I use a base to offset the sour in overripe sourdough starter?",
            "Making whole wheat bread in a bread machine? What kind of flour?",
            "Effect of potato water on bread (early experiment results)",
            "active dry yeast vs instant yeast",
            "What method yields best result for washing breads?",
            "Why isn't my bread machine making any bread?",
            "Why is supermarket bread soft?",
            "Recipe calls for shortening, I want to substitute butter. Do I need to melt the butter?",
            "What happens when you knead bread dough?",
            "What Makes Bread Gray?",
            "Why does my bread smell like vinegar?",
            "Short-term bread storage",
            "can shortening be used to replace lard in baking bread?",
            "Is sourdough more resistant to mold than other breads?",
            "Hard dry crusts on frozen bread",
            "Which type of flour would be better to use in this case?",
            "Bread breaks in the middle while in the oven",
            "Making Herman the German starter using brown sugar",
            "Amish Friendship Bread starter with buttermilk",
            "My ciabatta dough hasn't risen after 2 hours!",
            "What is the minimum temperature yeast will be active?",
            "What would be the effect of doubling the egg in this bread?",
            "Can you warm biga in a microwave?",
            "Should ciabatta sandwich rolls be dry and dense?",
            "Worm in dry bread, what is it?",
            "How can I make fresh burger buns like Hardees?",
            "How to make part bake baguettes and rolls?",
            "Can I substitute a stainless steel pot for the traditional iron dutch oven?",
            "Sourdough starter developing alcohol",
            "Mixed bread dough shelf life?",
            "Rule of the thumb for judging the leavening?",
            "yeast substitutes and proper measurements",
            "Can I salvage an uncooked bread?",
            "Bread going stale in enamel breadbasket",
            "Half and half bread, too salty and no salt?",
            "Pitas are paper thin on one side",
            "tartine bread without dutch oven (inverted mixing bowl on top of heavy skillet)?",
            "Why don't oyster crackers contain oysters?",
            "Low Hassle, Knead-Free Doughs",
            "Can I make ciabatta with corn flour?",
            "How do I make bread with LOTS of seeds?",
            "What are \"rye sours\"?",
            "Challah rolls open up when baking in the oven",
            "How do I make my sourdough bread dough stretchy and not have it tear?",
            "My french bread dough did not rise on the second rise after forming the loaves",
            "What are the advantages of \"bathed\" bread?"
           ],
           "legendgroup": "bread",
           "marker": {
            "color": "#EF553B",
            "size": [
             1,
             3,
             7,
             4,
             1,
             2,
             3,
             4,
             3,
             2,
             6,
             3,
             2,
             1,
             2,
             2,
             1,
             2,
             2,
             2,
             13,
             2,
             2,
             2,
             2,
             1,
             1,
             3,
             4,
             1,
             3,
             1,
             3,
             1,
             1,
             3,
             1,
             3,
             2,
             2,
             4,
             3,
             2,
             6,
             1,
             1,
             5,
             2,
             2,
             2,
             1,
             2,
             3,
             1,
             1,
             1,
             5,
             3,
             1,
             1,
             3,
             2,
             1,
             2,
             2,
             3,
             4,
             2,
             4,
             1,
             2,
             3,
             3,
             8,
             3,
             2,
             3,
             1,
             2,
             1,
             6,
             1,
             1,
             2,
             3,
             3,
             1,
             3,
             8,
             2,
             3,
             1,
             1,
             2,
             1,
             3,
             4,
             1,
             2,
             1,
             1,
             4,
             7,
             1,
             1,
             3,
             2,
             1,
             1,
             2,
             1,
             1,
             4,
             1,
             2,
             1,
             2,
             3,
             1,
             1
            ],
            "sizemode": "area",
            "sizeref": 0.0525,
            "symbol": "circle"
           },
           "mode": "markers",
           "name": "bread",
           "orientation": "v",
           "showlegend": true,
           "type": "scatter",
           "x": [
            0,
            1,
            4,
            0,
            1,
            4,
            0,
            0,
            3,
            0,
            6,
            4,
            2,
            4,
            0,
            0,
            1,
            0,
            5,
            3,
            1,
            4,
            0,
            0,
            1,
            0,
            0,
            3,
            5,
            9,
            6,
            3,
            0,
            6,
            5,
            1,
            0,
            1,
            0,
            0,
            0,
            5,
            4,
            8,
            2,
            0,
            2,
            1,
            0,
            0,
            0,
            7,
            0,
            1,
            0,
            0,
            2,
            2,
            0,
            1,
            0,
            2,
            4,
            9,
            0,
            0,
            4,
            0,
            14,
            2,
            3,
            5,
            2,
            10,
            1,
            2,
            4,
            4,
            2,
            10,
            1,
            0,
            1,
            3,
            2,
            3,
            0,
            1,
            3,
            2,
            6,
            1,
            1,
            3,
            1,
            2,
            0,
            0,
            8,
            2,
            1,
            2,
            3,
            1,
            1,
            0,
            1,
            3,
            2,
            4,
            1,
            2,
            2,
            6,
            8,
            0,
            4,
            4,
            3,
            2
           ],
           "xaxis": "x",
           "y": [
            9990,
            13299,
            11763,
            69432,
            387,
            415,
            11386,
            35446,
            2121,
            2759,
            62638,
            1620,
            5064,
            100,
            632,
            2441,
            1673,
            662,
            3595,
            2262,
            72521,
            15085,
            2784,
            817,
            12221,
            450,
            2113,
            4084,
            83373,
            1149,
            22183,
            1111,
            2657,
            266,
            560,
            471,
            4171,
            6963,
            1782,
            11870,
            8107,
            1223,
            11099,
            55117,
            1851,
            1618,
            4636,
            6843,
            154,
            2639,
            5811,
            1701,
            16572,
            118,
            132,
            983,
            2591,
            147556,
            885,
            495,
            5773,
            1378,
            203,
            4969,
            1531,
            2317,
            10156,
            12213,
            1633,
            4033,
            6007,
            10251,
            18150,
            41335,
            679,
            625,
            10741,
            32035,
            153,
            3214,
            37072,
            15541,
            8098,
            12439,
            74620,
            6446,
            1294,
            17854,
            11220,
            79,
            2419,
            987,
            1662,
            3423,
            8738,
            20672,
            858,
            1907,
            7192,
            3556,
            14664,
            40950,
            27515,
            1595,
            663,
            41305,
            10331,
            203,
            151,
            1646,
            1645,
            245,
            364,
            1833,
            6747,
            887,
            3414,
            15107,
            1121,
            2546
           ],
           "yaxis": "y"
          }
         ],
         "name": "2014"
        },
        {
         "data": [
          {
           "hovertemplate": "<b>%{hovertext}</b><br><br>Tags=baking<br>Year=2015<br>CommentCount=%{x}<br>ViewCount=%{y}<br>AnswerCount=%{marker.size}<extra></extra>",
           "hovertext": [
            "Baking bread during the day",
            "How do get the \"caramelized juices\" from yams",
            "Why do my pastries come out flat when I use butter instead of margarine?",
            "Will my baked potatoes be ok cooked longer at a low temp?",
            "Using Glucose instead of Fructose",
            "How do I adjust cooking time when temperature may be off by 5-10C?",
            "Getting correct baking consistency when using stevia as sugar substitute",
            "Making cake balls with a not-so-sweet frosting",
            "What is the difference between genoise sponge and victoria sponge?",
            "Yeast and Flour for Panasonic Bread Maker",
            "How can I scale down a high-yield recipe that calls for a single egg?",
            "What can I make a baking form from?",
            "What's the point of roasting a whole chicken?",
            "How to make cheesecake less tangy",
            "Why does some cookie recipes both put sugar and brown sugar? Also can we use sweetener like stevia instead of sugar in recipes?",
            "How to bake 3 large pans of lasagna in a regular size oven",
            "Cooking peanut butter cookies, is there any adjustment using crunchy vs. creamy?",
            "Baking in gas oven does not brown the top",
            "Is this yeast classed as instant yeast?",
            "Baking Turnips But are coming out burnt or soggy",
            "Using homemade pasta instead of dried in a bake",
            "What is the maximum internal temperature of baked goods?",
            "Where to place the oven thermometer in an oven?",
            "Spices and Baking",
            "How can I get my chocolate cake to taste less like a brownie?",
            "Using parchment paper to bake whoopie pies",
            "Why is my quiche weeping?",
            "Distribution of heat using a silicone oven tray",
            "Substituting Lard for Soy Shortening",
            "How to store a double iced cake",
            "Why is glucose not used in many cake recipes?",
            "How do you make Hull Hotcakes?",
            "Substitute for baking parchment",
            "Can I substitute almond milk for heavy cream in chocolate glaze?",
            "Is apple to be grated a wet or dry ingredient?",
            "Bread dough doesn't keep its shape",
            "Chalky smell in bread dough?",
            "What went wrong with my cookie dough?",
            "Breadcrumbs or flour when greasing and dusting a cake form?",
            "home made cough sweets didn't set properly",
            "Tartine + Sourdough Taste",
            "Cinnamon Rolls for a dessert crust",
            "Peanut Butter substitute in baking",
            "How long does yeast live after baking?",
            "Can you cook a 25 lb turkey in an oven that is 9 inches from the bottom rack to the heating elements?",
            "How to bake large batches of bread",
            "How do you quickly prepare tomatoes for pizza?",
            "How can i optimize the use of my convection oven?",
            "Cheesecake in or next to waterbath",
            "Adjusting cooking time and temperature when making smaller portions",
            "What causes the crown of the bread to crack during baking?",
            "How do I fix my dough after I did not activate the yeast properly?",
            "How to make Barley bread?",
            "Do extracts add sweetness or just the flavor?",
            "What does \"until fork tender and the juices run clear\" mean and how do I tell?",
            "How does the order of mixing ingredients affect the resulting cake?",
            "Forgot to put brown and white sugar in cookie dough",
            "Non-glass baking containers for both microwave and oven use",
            "When is it best to do stretch and fold versus mechanical kneading?",
            "Can you make bread with the yeast in beer?",
            "Making a 2 ramekin recipe into an 8 ramekin recipe: Do I change the cooking time?",
            "active dry yeast and rapid rise yeast",
            "Does one really need to add sodium bicarbonate if one already uses baking powder?",
            "cake burns on bottom",
            "Inside of the cookies turn up soft, almost uncooked?",
            "Can you separate out the Gliadin from Gluten?",
            "How can I tell the difference between instant yeast and active dry yeast?",
            "Cake help urgent!",
            "How to avoid elephant skin on no-knead bread?",
            "Is there any way to make whey powder at home?",
            "Bread doesn't split at the score",
            "How to convert cook time and temp from 9\" round cake pans to standard cupcakes?",
            "Filling tart with beans/rice for baking",
            "One base cake mix and then make several flavors",
            "Does salt do anything more for baked products than just add flavor?",
            "Mysterious bitter taste from tropical fruits and coconut",
            "Replicating commercial gluten-free/non-gebrokts matzo -- where to start?",
            "How to heat up already baked french bread in oven to get a crispy crust",
            "chocolate substitutions in baking brownies from scratch",
            "After refrigerating cookie dough overnight, should i leave my dough at room temperature or go straight to the oven?",
            "Is it okay to use stainless steel in oven?",
            "How can I estimate the time required to bring a piece of meat to a certain temperature?",
            "Substitute peanut butter for cookie butter?",
            "Baked tortilla chips: how to make them quicker and more consistent?",
            "Can barley flour be used as a substitute for barley malt extract?",
            "Countering the oven spring, on purpose",
            "Chocolate and oil how to store this",
            "Butter vs oil in Banana bread and Zucchini bread",
            "Cakes cooked in same tin but come out different sizes",
            "Where can I buy a larger than usual 13x4x4 pull man pan?",
            "Can I freeze unbaked scones?",
            "Giant Cream Puff shells",
            "Glass Dish Baking Temparature",
            "Would baking chocolate with baileys/kalhua cook out the alcohol?",
            "How much longer do I cook the roast?",
            "Whisk eggs without an electric whisker",
            "How much time is required to bake?",
            "Baking powder substitutes",
            "Unrefrigerated Mashed Bananas: Are they safe to bake with?",
            "Baking Adjustments When Using a Countertop Oven",
            "How to bake with self raising flour?",
            "want to know baking time for creme brulee at 225 degrees in the oven",
            "How to keep my oven evenly heated",
            "Can I put a layer of almond paste in my tart that will not be baked?",
            "How do I make my baking powder biscuit dough stick together?",
            "Substitute ratio when using butter instead of shortening",
            "My cocoa powder won't mix with melted butter",
            "How to get a brown/burned texture on cornbread?",
            "How can I make sugarless chocolate brownies more moist",
            "Using baking powder versus self rising flours and corn meal",
            "Is it safe to eat a cake with semi spoiled lemon rind?",
            "Is lemon rind supposed to feel sticky when being grated?",
            "Can a water bath be used to bake brownies?",
            "how to make shiny figures for cake decoration?",
            "Cooking qualities between Glass and metal pans",
            "How to replicate this bakery's bread",
            "roasting vs microwave+roasting beets",
            "Baking with unhulled sesame seeds versus hulled",
            "How soon after baking can you refrigerate freshly made fruit pies?",
            "What baked good involves crushed digestives, peanut butter, and marbled chocolate?",
            "A general rule which applies to different types of bread",
            "What is the best way to go about developing and formulating a product?",
            "converting a muffin recipe to a cake recipe",
            "Problem in cake baking tray",
            "Why did my chocolate eclairs fail?",
            "Can I use a china oven dish to make a sponge cake?",
            "Omiting salt in baking recipes that use chemical leaveners?",
            "What is the function of oil in baking/roasting?",
            "Can over whipped egg whites be used in other ways?",
            "Is a (British) wedding cake just a tiered fruit cake",
            "Three ingredient peanut butter cookies - how to improve texture",
            "Wedding Cake Questions for Hot Weather",
            "Can zucchini be increased in zucchini bread recipes?",
            "How do I bake cakes in a gas oven without a temperature knob?",
            "Gluten free baked good coming out bitter",
            "Turn leftover icing into buttercream icing?",
            "Cooking more than one dish that require different temperatures",
            "Anyone know of any completely flavorless syrups?",
            "How to prevent fresh peaches from sinking to the bottom of a buttermilk pound cak?",
            "Other things made from Banana nut bread",
            "Why did my Chiffon Cake collapse?",
            "Sticking cake in prepared pans",
            "New bread maker asks: how to make a bread loaf stay 'firm and solid' without a loaf pan?",
            "How to avoid stiffness and crispness of toasted/oven baked bread sandwiches",
            "How do you get a smooth surface on cakes?",
            "How to bake salmon",
            "is it okay to use shredded zucchini that smells a little sour for baking",
            "Why are store bought paninis only par baked?",
            "How to bake bread and desserts without an oven?",
            "'home mixed' wholewheat flour",
            "Putting a solid chocolate bar inside cake dough: what's the outcome?",
            "Can I use whole eggs instead of egg yolks in a lemon bundt cake?",
            "Oven temperature vs time adjustments",
            "How to convert grilled Beer Can Burger recipe to oven baked",
            "Why would the first few pancakes come out perfect, but only get worse from there?",
            "Why boil and cool jam before using it in a cake?",
            "\"Place pan in a large pan; add 1 inch of hot water to larger pan.\" -- Why?",
            "Does using powdered sugar instead of granulated sugar make cookie dough drier?",
            "What does tin foil do when baking a pot pie?",
            "How can I make and store multiple pizzas before a potluck?",
            "Will chocolate cake be edible if I added one cup of water instead of two?",
            "Why are wire beaters becoming more common in hand mixers?",
            "Substitute double cream for butter?",
            "baking time adjustment when baking large quantity of fish",
            "How long can batter sit before chemical leaveners lose their power?",
            "Can you freeze a tomato pie?",
            "Can I use Bisquick instead of All Purpose Flour?",
            "What gives a good bagel its crust?",
            "What is the purpose of baking a cooked pot pie filling?",
            "Measurement of ingredients for baking 400g of brown bread",
            "What happens to pound cakes if I forget the flour and then add it after baking a little?",
            "Why did my brownie batter separate?",
            "Sugar alternative when beating eggs and sugar together",
            "How to bake ground beef",
            "Should the oven temperature be the same for smaller batch?",
            "Cooking baked potatoes",
            "How do packaged cookies stay good for so long?",
            "How do you make pie with Citron watermelon (not just the rind)?",
            "Xanthan Gum for Cinnamon Rolls",
            "Shelf Life of Homemade Panettone",
            "Commercial Bakery to Provide Dough",
            "Where can I buy a pipe for a Weckmann in the US?",
            "Bread: Higher rise/coarser crumb",
            "What does it mean for a flour to be \"strong\" or \"reinforced\"?",
            "What are good tips for an oven that is too hot at the bottom?",
            "Making crumpets in advance?",
            "Combining melted chocolate with eggs",
            "What can I do if I forgot to cream the butter and sugar in my cookie recipe?",
            "How can I adjust oven temperature correctly",
            "Baking with oven without bottom heating element",
            "Can I refrigerate bread dough after the first rise and bake it later?",
            "Biscuits (cookies) turning out more cake-like than biscuity",
            "what does \"draft-free\" mean?",
            "Should I bake cookies with the oven heated from the top or the bottom?",
            "How do I prevent dougnuts deflating when moving them into the pan?",
            "Can Parkay Spray be used in place of melted butter for baking muffins?",
            "What happens if bread is made with sparkling water?",
            "Why should I bake baking soda for making ramen noodles?",
            "What is the difference between sour cream & butter in baked goods?",
            "To bake a chicken in the oven",
            "Difference between baking a cake in cooking range and microwave oven",
            "Best way to preserve choco-chip cookies: food saver?",
            "How to make perfect crispy bacon strips?",
            "What is the difference between crème anglaise and crème pâtissière?",
            "Why did the crust get too hard on my Blueberry Cheesecake?",
            "How to make hazelnut oil",
            "Very Bitter Cocoa Powder Measurement",
            "Glazing bread pre-baking",
            "How can I keep the shape of my free-form bread dough when it is rising?",
            "What is the shelf life of cookies made with Greek Yogurt?",
            "How can I use these peaches in a box cake mix?",
            "Why does my Victoria sandwich have a hole in the base?",
            "Any reason I can't use popover batter to make one huge popover without separating into little cups?",
            "Does sprinkling salt on top of brownies give the same result as putting it in the batter?",
            "Home made yeast cinnamon rolls deflating?",
            "Incorporate oreo bits in cookie recipe",
            "Can silicone moulds be used for making cupcakes in electric tandoor",
            "Pâte Brisée, Sucrée and Sablée",
            "Can you use bread flour that is 2 months past the best use by date?",
            "Can I bake bread in a cast iron Dutch oven with the lid on, or should I use tin foil instead?",
            "Oven temperature for multiple ducks?",
            "Halving Cake Recipe- Baking Time",
            "Shortening instead of butter",
            "Baking time and temperature difference",
            "Can I toast pecans the night before?",
            "Cookies rise nicely in the oven, but then collapse",
            "Is the oily liquid from roasting a turkey worth keeping?",
            "How to make butter and sugar mixture into a breadcrumb consistency?",
            "Is there a bread you can mix in the evening, leave overnight, and bake in morning?",
            "How was the usage of yeast for bread discovered?",
            "Cheesecakes Baked in a Waterbath",
            "what is an alternative for baking powder?",
            "Why did my ceramic coated loaf pan turn brown?",
            "What will happen to my Pecan tassies if I use too much butter?",
            "Is aluminum foil porous?",
            "Could plastic or metal cans damage my oven?",
            "Kneading Bread After Rising",
            "Baking maple syrup on cold smoked almonds",
            "How do I thicken my dessert?",
            "What does flour do to cheesecake?",
            "How should I incorporate separated eggs in a cookie recipe without instructions?",
            "Using the same baking paper as always, suddenly my bread sticks, what's happening?",
            "Durable loaf pans for quick breads?",
            "How to change a vanilla cake recipe to make a chocolate cake?",
            "Can you use sweet potatoes in a no-bake pie?",
            "Non-melting fruity filling for cookies",
            "Dividing Pizza dough to balls before baking",
            "What do the base ingredients in pancakes do?",
            "What is the white powder on sourdough bread?",
            "Difference between vegetable shortening and vegetable ghee?"
           ],
           "legendgroup": "baking",
           "marker": {
            "color": "#636efa",
            "size": [
             1,
             2,
             1,
             1,
             1,
             2,
             2,
             2,
             4,
             2,
             1,
             2,
             5,
             4,
             1,
             1,
             2,
             5,
             2,
             1,
             3,
             2,
             2,
             1,
             5,
             1,
             1,
             1,
             0,
             1,
             1,
             0,
             3,
             2,
             3,
             2,
             1,
             2,
             2,
             2,
             1,
             2,
             2,
             4,
             1,
             2,
             3,
             4,
             7,
             1,
             4,
             1,
             1,
             3,
             2,
             5,
             2,
             2,
             2,
             5,
             1,
             1,
             2,
             3,
             1,
             2,
             2,
             2,
             2,
             1,
             3,
             1,
             1,
             3,
             0,
             2,
             1,
             3,
             1,
             1,
             2,
             1,
             1,
             2,
             1,
             2,
             0,
             0,
             1,
             2,
             2,
             3,
             3,
             2,
             1,
             2,
             2,
             1,
             1,
             2,
             1,
             0,
             1,
             1,
             2,
             2,
             1,
             1,
             4,
             1,
             2,
             1,
             1,
             2,
             1,
             3,
             1,
             1,
             2,
             1,
             1,
             1,
             3,
             2,
             1,
             1,
             7,
             1,
             2,
             3,
             1,
             2,
             1,
             2,
             2,
             1,
             2,
             5,
             1,
             2,
             2,
             1,
             1,
             3,
             2,
             2,
             2,
             1,
             3,
             1,
             6,
             2,
             2,
             2,
             3,
             1,
             2,
             1,
             3,
             2,
             1,
             4,
             3,
             1,
             1,
             1,
             3,
             1,
             1,
             2,
             1,
             3,
             2,
             3,
             1,
             2,
             2,
             1,
             2,
             1,
             1,
             1,
             2,
             1,
             2,
             1,
             5,
             2,
             2,
             4,
             4,
             2,
             1,
             2,
             1,
             1,
             3,
             2,
             1,
             0,
             1,
             2,
             1,
             2,
             2,
             2,
             1,
             2,
             2,
             1,
             3,
             1,
             2,
             2,
             2,
             1,
             1,
             0,
             1,
             1,
             2,
             1,
             1,
             1,
             2,
             1,
             4,
             3,
             7,
             2,
             0,
             4,
             0,
             1,
             4,
             2,
             1,
             2,
             1,
             1,
             2,
             0,
             3,
             2,
             1,
             1,
             1,
             2,
             1,
             1
            ],
            "sizemode": "area",
            "sizeref": 0.0525,
            "symbol": "circle"
           },
           "mode": "markers",
           "name": "baking",
           "orientation": "v",
           "showlegend": true,
           "type": "scatter",
           "x": [
            3,
            1,
            8,
            0,
            1,
            4,
            0,
            0,
            3,
            0,
            5,
            3,
            3,
            3,
            0,
            2,
            0,
            5,
            1,
            9,
            1,
            2,
            0,
            7,
            6,
            1,
            5,
            2,
            5,
            0,
            4,
            8,
            4,
            1,
            1,
            9,
            3,
            10,
            8,
            4,
            5,
            2,
            7,
            1,
            3,
            3,
            3,
            2,
            0,
            3,
            0,
            1,
            4,
            0,
            3,
            0,
            4,
            1,
            2,
            5,
            2,
            0,
            1,
            4,
            3,
            3,
            2,
            6,
            4,
            4,
            2,
            0,
            2,
            4,
            4,
            1,
            5,
            2,
            1,
            4,
            1,
            9,
            2,
            4,
            1,
            2,
            2,
            2,
            3,
            1,
            0,
            2,
            0,
            0,
            1,
            6,
            5,
            3,
            4,
            0,
            0,
            2,
            1,
            2,
            1,
            0,
            2,
            0,
            1,
            0,
            10,
            0,
            6,
            0,
            3,
            5,
            1,
            0,
            0,
            4,
            3,
            2,
            0,
            0,
            5,
            2,
            1,
            0,
            1,
            8,
            1,
            2,
            4,
            3,
            1,
            0,
            0,
            7,
            0,
            1,
            4,
            1,
            0,
            2,
            1,
            0,
            0,
            1,
            4,
            0,
            5,
            2,
            3,
            0,
            7,
            0,
            1,
            7,
            3,
            3,
            4,
            0,
            0,
            0,
            0,
            1,
            3,
            9,
            0,
            7,
            5,
            1,
            5,
            1,
            0,
            2,
            1,
            1,
            10,
            0,
            7,
            2,
            5,
            4,
            3,
            0,
            0,
            1,
            2,
            2,
            2,
            5,
            2,
            1,
            1,
            3,
            3,
            2,
            0,
            3,
            1,
            0,
            1,
            0,
            7,
            1,
            10,
            0,
            0,
            2,
            4,
            4,
            0,
            11,
            5,
            2,
            4,
            2,
            2,
            6,
            2,
            3,
            3,
            0,
            1,
            0,
            0,
            1,
            6,
            3,
            1,
            4,
            2,
            0,
            3,
            5,
            3,
            7,
            1,
            0,
            0,
            2,
            1,
            7,
            0,
            4,
            0,
            5,
            0,
            0
           ],
           "xaxis": "x",
           "y": [
            496,
            498,
            5434,
            9042,
            1075,
            29271,
            1642,
            1907,
            48016,
            2483,
            606,
            116,
            6948,
            19184,
            4317,
            4932,
            4745,
            81332,
            7094,
            516,
            8951,
            14514,
            12387,
            95,
            4842,
            613,
            3761,
            331,
            248,
            743,
            2555,
            870,
            8906,
            16744,
            682,
            6382,
            570,
            11231,
            3577,
            959,
            1198,
            142,
            36728,
            36985,
            2572,
            3475,
            6385,
            1256,
            43371,
            1233,
            53789,
            43824,
            730,
            8106,
            6589,
            117512,
            6417,
            314,
            4015,
            19506,
            431,
            10792,
            2716,
            24077,
            1307,
            985,
            8832,
            318,
            2414,
            230,
            17994,
            1077,
            2676,
            10842,
            66,
            31444,
            125,
            200787,
            1914,
            45096,
            121558,
            3263,
            7866,
            336,
            1712,
            830,
            37,
            3295,
            3251,
            245,
            2998,
            1862,
            83859,
            4240,
            90,
            12167,
            3028,
            1459,
            6775,
            3155,
            281,
            154,
            75,
            964,
            5998,
            39134,
            2098,
            2655,
            903,
            1291,
            1235,
            1478,
            6356,
            563,
            661,
            778,
            935,
            1684,
            58920,
            291,
            108,
            96,
            31364,
            190,
            1506,
            827,
            36234,
            382,
            1028,
            4666,
            327,
            2556,
            1657,
            41150,
            2463,
            1219,
            793,
            5342,
            176,
            94,
            12463,
            124,
            812,
            9817,
            1345,
            1136,
            55156,
            144,
            1690,
            2447,
            20024,
            28348,
            2390,
            5576,
            3724,
            7756,
            3460,
            24705,
            19559,
            7211,
            156,
            5748,
            13166,
            163,
            10670,
            5092,
            28649,
            1326,
            129,
            13994,
            4645,
            8487,
            4645,
            56198,
            144,
            1698,
            2405,
            703,
            2349,
            9249,
            177,
            221,
            1256,
            714,
            8164,
            1300,
            17360,
            20979,
            213,
            43451,
            434525,
            2000,
            16108,
            73958,
            2247,
            2470,
            25742,
            22124,
            5313,
            11,
            13226,
            4124,
            6907,
            15568,
            19167,
            1897,
            1001,
            484,
            9465,
            3837,
            3377,
            498,
            455,
            6157,
            980,
            183,
            940,
            34,
            5815,
            11754,
            7686,
            3263,
            616,
            135,
            340,
            1395,
            8117,
            1741,
            10878,
            8860,
            133,
            2851,
            409,
            1319,
            10887,
            1339,
            33129,
            389,
            134,
            9173,
            255,
            1348,
            1095,
            38854,
            71,
            222,
            1255,
            9975,
            7212,
            5879
           ],
           "yaxis": "y"
          },
          {
           "hovertemplate": "<b>%{hovertext}</b><br><br>Tags=bread<br>Year=2015<br>CommentCount=%{x}<br>ViewCount=%{y}<br>AnswerCount=%{marker.size}<extra></extra>",
           "hovertext": [
            "Baking bread during the day",
            "Is my biga supposed to be liquid?",
            "Will my results differ when using a sourdough starter vs poolish for pizza dough?",
            "How can I make a super-thin, yet strong, calzone crust?",
            "Yeast and Flour for Panasonic Bread Maker",
            "Culturing Yeast in Dough",
            "My flatbreads are still doughy inside after cooking?",
            "Using Jaggery as Substitute for Sugar",
            "Adding Pulses (Legumes) in Powder Form to Bread",
            "Using low oven temperature to accelerate proofing",
            "Why is my bread dough sticky?",
            "What can I make a baking form from?",
            "Adding sugar and honey to sourdough culture",
            "Is this yeast classed as instant yeast?",
            "When you try to \"catch\" yeast from the air: is it normal for the flour and water to split",
            "What can I do to prevent big holes in the bottom of bread loaves?",
            "Does injera require a starter?",
            "Does preferment add sourness to taste of bread?",
            "How to get uniform bubbles in simple dutch oven bread?",
            "Do I cover a fermenting a bread starter",
            "Bread dough doesn't keep its shape",
            "Chalky smell in bread dough?",
            "Tartine + Sourdough Taste",
            "Can you make sourdough starter without throwing any away?",
            "How can I achieve large bubbles in my bread?",
            "How to bake large batches of bread",
            "*Cannot* get that \"Oven Spring\"",
            "What causes the crown of the bread to crack during baking?",
            "How do I fix my dough after I did not activate the yeast properly?",
            "Does 100% rye sourdough bread always have a sticky crumb? How do I make it stick to the knife less?",
            "How to make Barley bread?",
            "What is crusty loaf bread?",
            "How do I make dosas smooth and shiny?",
            "Can I make Irish Brown Bread using a covered loaf pan?",
            "When is it best to do stretch and fold versus mechanical kneading?",
            "Maintaining Sourdough Starter - Are potato flakes/water necessary?",
            "Can you make bread with the yeast in beer?",
            "Baking bread in smaller pans bake time question",
            "Maintaining Sourdough Starter",
            "Excess flour in banneton after proofing",
            "How is King Arthur bread flour made?",
            "Using fresh compressed cake yeast in bread machine",
            "Bread and using a proofer",
            "Can you separate out the Gliadin from Gluten?",
            "How can I tell the difference between instant yeast and active dry yeast?",
            "Idiomatic combinations of peanut butter, jelly, and bread",
            "How to avoid elephant skin on no-knead bread?",
            "Is there any way to make whey powder at home?",
            "Bread doesn't split at the score",
            "Baking focaccia",
            "When should I add proofed yeast to a bread machine?",
            "Is it important to knead biga/poolish?",
            "Bread has tough, crunchy crust but is underbaked in the middle - how to fix?",
            "Could malt used in bread show up as dark brown \"grains\" in the finished loaf?",
            "How to heat up already baked french bread in oven to get a crispy crust",
            "Can barley flour be used as a substitute for barley malt extract?",
            "What is Balkan bread?",
            "Countering the oven spring, on purpose",
            "How to fry tortillas for poori?",
            "why does toast smell and taste different than bread?",
            "Are the rolls at 'Ryans' or 'Golden Corral' a style of bread?",
            "Effects of elevated storage temperature on bread quality",
            "Using Italian Bread for French Toast?",
            "Whole Wheat Breads Dough Conditioner",
            "Difference between fermentation and leavening?",
            "Quick-cooking vs. regular oats for bread",
            "Can I use amaranth flour or another grain flour as a substitute for white flour in tortillas?",
            "Can you mix Red Onion chutney into bread?",
            "How long can rye bread last?",
            "How to replicate this bakery's bread",
            "\"Acetone\" smell on bread",
            "how to remove cover on risen bread dough?",
            "Baking with unhulled sesame seeds versus hulled",
            "Can I substitute almond meal for breadcrumbs in meatballs?",
            "A general rule which applies to different types of bread",
            "Difference between French bread and Japanese bread",
            "How does the Croatian system of flour categorization correspond to the systems of Western Europe and USA?",
            "Can zucchini be increased in zucchini bread recipes?",
            "Why did my chocolate chip banana bread split?",
            "Could B.Subtilis ssp. mesentericus develop in proofing stage?",
            "How to bake low carb bread in a Zojirushi bread machine model #BBCC-x20",
            "New bread maker asks: how to make a bread loaf stay 'firm and solid' without a loaf pan?",
            "How to avoid stiffness and crispness of toasted/oven baked bread sandwiches",
            "I added more water to my ciabatta dough by accident",
            "Why are store bought paninis only par baked?",
            "How to bake bread and desserts without an oven?",
            "Why is my bread not mixing and cooking properly",
            "Moldy bread smell but no mold?",
            "What ingredient or method causes a mixture to be a bread versus cake?",
            "What gives a good bagel its crust?",
            "Measurement of ingredients for baking 400g of brown bread",
            "I made white bread yesterday, and it smelled similar to sourdough...why would this happen?",
            "Gluten-free alternative to commercial yeast when making gluten-free bread?",
            "Should the oven temperature be the same for smaller batch?",
            "the yeast wont rise in my bread machine",
            "Bread preservation",
            "Sugar and yeast proportion while making sweet bread",
            "How to make my sourdough sweet?",
            "Shelf Life of Homemade Panettone",
            "Can over proofed dough be harmful to breathe in?",
            "Bread: Higher rise/coarser crumb",
            "What does it mean for a flour to be \"strong\" or \"reinforced\"?",
            "Can I refrigerate bread dough after the first rise and bake it later?",
            "Why do we dimple a focaccia?",
            "Can you make french toast without eggs and gluten?",
            "What happens if bread is made with sparkling water?",
            "Bread bowls verus loaf of bread",
            "Glazing bread pre-baking",
            "How can I keep the shape of my free-form bread dough when it is rising?",
            "Can I bake bread in a cast iron Dutch oven with the lid on, or should I use tin foil instead?",
            "Refreezing thawed out bread dough",
            "Is there a bread you can mix in the evening, leave overnight, and bake in morning?",
            "How was the usage of yeast for bread discovered?",
            "Preventing my toast from becoming wet when I put it on the plate",
            "Kneading Bread After Rising",
            "What is an 8.5 x 4.5in bread pan in UK lb based pan sizes?",
            "What is the name of this Ukrainian bread?",
            "What is the difference between making French baguettes and US style baguettes?",
            "Using the same baking paper as always, suddenly my bread sticks, what's happening?",
            "How to store bread dough in the fridge for proofing?",
            "Bread substitute for wheat allergic",
            "How much calcium propionate should I use as a bread preservative?",
            "Is there REALLY a difference in powdered milk brands for baking bread"
           ],
           "legendgroup": "bread",
           "marker": {
            "color": "#EF553B",
            "size": [
             1,
             1,
             3,
             2,
             2,
             1,
             2,
             2,
             1,
             7,
             3,
             2,
             3,
             2,
             1,
             1,
             3,
             2,
             2,
             1,
             2,
             1,
             1,
             4,
             2,
             2,
             5,
             4,
             1,
             5,
             1,
             1,
             2,
             1,
             2,
             3,
             5,
             1,
             2,
             3,
             1,
             1,
             3,
             2,
             2,
             2,
             2,
             1,
             3,
             2,
             3,
             1,
             6,
             2,
             3,
             1,
             1,
             2,
             3,
             1,
             2,
             2,
             2,
             2,
             1,
             1,
             3,
             1,
             3,
             3,
             2,
             1,
             1,
             4,
             1,
             4,
             2,
             1,
             1,
             1,
             2,
             1,
             3,
             2,
             1,
             3,
             0,
             1,
             2,
             1,
             2,
             2,
             2,
             1,
             2,
             5,
             2,
             1,
             1,
             1,
             2,
             1,
             4,
             3,
             2,
             3,
             1,
             2,
             2,
             1,
             1,
             7,
             2,
             5,
             1,
             2,
             1,
             4,
             0,
             2,
             3,
             2,
             2
            ],
            "sizemode": "area",
            "sizeref": 0.0525,
            "symbol": "circle"
           },
           "mode": "markers",
           "name": "bread",
           "orientation": "v",
           "showlegend": true,
           "type": "scatter",
           "x": [
            3,
            0,
            2,
            1,
            0,
            0,
            5,
            1,
            3,
            3,
            7,
            3,
            4,
            1,
            1,
            5,
            4,
            4,
            7,
            0,
            9,
            3,
            5,
            2,
            5,
            3,
            11,
            0,
            1,
            4,
            4,
            1,
            3,
            3,
            2,
            4,
            5,
            0,
            2,
            0,
            0,
            0,
            0,
            3,
            2,
            6,
            4,
            4,
            2,
            2,
            2,
            1,
            13,
            6,
            2,
            1,
            4,
            2,
            4,
            1,
            0,
            2,
            1,
            0,
            3,
            2,
            2,
            5,
            5,
            5,
            6,
            2,
            0,
            0,
            3,
            4,
            4,
            4,
            1,
            3,
            0,
            0,
            2,
            3,
            1,
            4,
            4,
            0,
            0,
            9,
            7,
            1,
            3,
            0,
            0,
            3,
            0,
            11,
            0,
            2,
            5,
            4,
            2,
            1,
            0,
            3,
            0,
            0,
            0,
            6,
            0,
            6,
            3,
            3,
            3,
            0,
            0,
            6,
            2,
            4,
            6,
            0,
            1
           ],
           "xaxis": "x",
           "y": [
            496,
            2042,
            9763,
            1871,
            2483,
            548,
            10159,
            10126,
            566,
            91681,
            5824,
            116,
            50339,
            7094,
            425,
            1409,
            2654,
            1701,
            2937,
            80,
            6382,
            570,
            1198,
            3963,
            55032,
            3475,
            1992,
            53789,
            43824,
            5230,
            730,
            1539,
            1286,
            421,
            4015,
            803,
            19506,
            2147,
            400,
            898,
            3046,
            2282,
            1779,
            985,
            8832,
            903,
            2414,
            230,
            17994,
            728,
            8106,
            889,
            38390,
            414,
            200787,
            1712,
            867,
            830,
            7588,
            1258,
            9680,
            41280,
            2860,
            340,
            10541,
            3291,
            1132,
            417,
            28125,
            778,
            87305,
            120,
            1684,
            33796,
            108,
            2254,
            1768,
            1657,
            2356,
            100,
            2105,
            812,
            9817,
            2999,
            144,
            1690,
            956,
            43944,
            8763,
            1326,
            13994,
            1823,
            755,
            144,
            806,
            4914,
            3499,
            3046,
            9249,
            6464,
            1256,
            714,
            434525,
            3358,
            260,
            25742,
            98,
            484,
            9465,
            11754,
            10236,
            10878,
            8860,
            17853,
            33129,
            2574,
            578,
            10197,
            1348,
            10094,
            1103,
            20208,
            2894
           ],
           "yaxis": "y"
          }
         ],
         "name": "2015"
        },
        {
         "data": [
          {
           "hovertemplate": "<b>%{hovertext}</b><br><br>Tags=baking<br>Year=2016<br>CommentCount=%{x}<br>ViewCount=%{y}<br>AnswerCount=%{marker.size}<extra></extra>",
           "hovertext": [
            "Why is my bread falling flat?",
            "Can I fix my Quick bread?",
            "Baking concentrate using Hard Alcohol ex Jack Daniels",
            "Will any sugar substitutes brown in a crumble topping?",
            "Avoiding over-mixing when using a stand mixer",
            "Oven problems in VA",
            "How can I bake crunchy chocolate chip cookies?",
            "Is it safe to eat the skin of a potato?",
            "Why would a recipe be sensitive to the brand of cream cheese I bought?",
            "How long should I bake a hamburger meatloaf, and at what oven temperature?",
            "Dough whisk as a substitute to a mixer or wooden spoon",
            "Egg In My Bread",
            "Minimum preparation for baking a whole fish",
            "Butter Alternatives for Baking Pastry",
            "How many kilos of bread can I produce with one kilo of flour?",
            "Breadmaker bread not remaining fresh long enough",
            "Can old eggs affect my Creme Brulee?",
            "Reducing sweetness of packaged cookie mix",
            "UK scones versus US scones",
            "Glass baking lid broke - what to substitute?",
            "Coins in bread?",
            "How to avoid using artificial food coloring in cookie and cake decorating",
            "Why does my calzone crust lose its crunchiness within minutes of being removed from the oven?",
            "How to replace marshmallows in rice krispies cakes?",
            "Devil's food cake turned out dry and dense",
            "How can I prevent the cheese on my homemade pizza from hardening too soon?",
            "Why won't my bread rise much during baking?",
            "Can I double the pizza dough recipe for my bread machine",
            "Mixing ingredients ahead of time",
            "How to stop burning raisins in my fruit scones",
            "Is the second rise step neccesary for no-knead bread?",
            "Is the mixing order important when substituting white sugar + molasses for brown sugar?",
            "How much thermostat \"range\" in oven temperature is too much?",
            "What went wrong with this bundt cake?",
            "Pizza dough is too soft to stretch well",
            "Adding 'swirls' to savoury bread dough",
            "Latest temperature sensing tech?",
            "When baking quick breads and cakes, can I premix wet ingredients the night before?",
            "Spreader cookies",
            "Soft dinner rolls always taste bland or flat",
            "Why is the butter gradually melting and only the top of my butter cake done?",
            "is it ok to use parchment paper when baking cream puffs",
            "Bake meat then veg dish back to back?",
            "How to make cornbread less crumbly?",
            "Can you bake cornbread in enameled cast iron?",
            "Can baked savory pastries with ham or bacon be left at room temperature?",
            "Can I use dried dates instead of fresh ones for baking a cake? The dates should build the base of the cake",
            "Why are my macarons cracking on top?",
            "Substitution of root beer concentrate for extract",
            "Bread recipe calls for dry milk powder. Can I use dry buttermilk powder?",
            "Why did my Sourdough starter stopped rising?",
            "How do different techniques impact sourdough bread?",
            "Baking a rib eye in the oven",
            "Can I freeze baked puff pastry?",
            "Which plastic wrap is okay for oven use?",
            "Will chocolate eggs inside a cupcake melt when baked in the oven?",
            "Multi-step Programmable Comercial Convection Oven",
            "Why do my snickerdoodles always come out flat?",
            "Adding flavorings & fillings to bread dough",
            "Combining dishes that need oven temps of 450, 425, 400, and 350",
            "Which side of the baking paper should face up?",
            "Why is a glaze applied to the top of a hot cross bun?",
            "Pyrex pie plate on hearthstone",
            "should I let my sourdough loaf proof in the fridge or on the counter?",
            "Can a clear glaze be made without gelatin or starch?",
            "How do I make this quick-bread recipe less moist?",
            "How to make my cinnamon rolls less bready?",
            "Is Bisquick used as a standard in recipes for shop-bound products?",
            "Flourless cookies form \"skin\" that seals in moisture",
            "Breakfast burritos from 16 egg casserole, how to cook everything uniformly?",
            "Criteria for silicone utensils",
            "How would you restore sweetness and moisture in this bundt cake?",
            "How do I make a mold from a plastic container?",
            "2000g sourdough boule in medium sized dutch oven",
            "How to separate peanut oil from roasted peanuts at home?",
            "When making soda bread, 45 min on baking sheet or 15 min on cast iron skillet?",
            "Which factors determine the absorption levels of foods?",
            "Chiffon cake deflating",
            "Substitutions for \"European style\" butter in croissants",
            "Tricks for knowing when a cheesecake is correctly done",
            "Replacements for baking soda in a cake",
            "Flavored caramelization",
            "Heart shaped fruit cake: how to prevent uneven baking",
            "Use of sour milk for bread making - how long after the expiration date is it safe?",
            "Bakers percentage for cookies",
            "Yogurt-based sourdough smells like alcohol",
            "How to form cookie dough into rolls?",
            "Butter melted then soften",
            "Bread crusty outside and super soft inside",
            "Why are eggs not stored in the fridge better in baking?",
            "How can I make delicious pastries in advance of serving day",
            "What can I change about this bread recipe to lower its glycemic index?",
            "How to keep savory biscotti crunchy?",
            "Should shortbread cookies be lightly browned?",
            "How can I bake these cheese and pimento rolls so they're not gummy inside?",
            "Tasty's Cookie Cream Puffs",
            "What's are the benefits of different sourdough starter consistencies?",
            "Baking on a rocket stove",
            "How do I remove a sheet cake from a pan?",
            "Bake frozen pizza without a tray - will it melt and drip?",
            "Chemistry of different brands of baking powder",
            "Foil Wrapping BBQ Ribs in Convection?",
            "Lemon bread issue",
            "Under-watered bread dough: specific effect?",
            "Is it possible to bake bread or the like using a stovetop tagine?",
            "What happened to my cornbread? Please help",
            "Best practices for baking experiment 'design'?",
            "What kind of nonstick coating is this?",
            "Is it OK to freeze chocolate?",
            "Prefermenting the whole sourdough rye bread",
            "Will blending corn meal make baking corn dog batter more user friendly?",
            "Question about chiffon cake",
            "How do I cook a cottage pie from chilled?",
            "Troubleshooting Oven BBQ Cooking Times",
            "My oven cooks unevenly",
            "Potato starch as a pie thickener?",
            "Baking (pizza) stone and effects on puff pastry",
            "Can I replace eggs, oil and water with apple sauce or just eggs?",
            "Can panettone paper molds be used for other things?",
            "Can I substitute buttermilk by curdling coconut milk with acid?",
            "Impossible to manage sticky dough",
            "Low sodium French Bread or Baguette",
            "How to butter and flour the chimney of a bundt form",
            "How much gluten flour do I need to add?",
            "Enlarging from a home bakery to a commercial bakery",
            "can one use a toaster oven to bake cakes and cupcakes?",
            "Challah braids melding together",
            "When to use glass vs. metal vs. stoneware baking dish?",
            "How do you make a cake with soft fillings baked inside?",
            "Graham Cracker Sheets",
            "up scaling cake recipe and increasing pan size",
            "Sponge cake batter too runny",
            "Protein networks in vegan cakes",
            "Is it difficult to make a béchamel sauce for 15 persons?",
            "Does it make sense for a cake icing recipe to call for vinegar but not baking soda?",
            "What can I substitute for butter in a custard-based pie?",
            "What will happen if you bake seized chocolate into a batter?",
            "Ideas to cook dry beans fast in halogen oven",
            "Vintage Pyrex Measuring Cup Borosilicate Vs. Soda Lime Color Difference?",
            "How to make cake like cookies crispy",
            "How do I get my cheesecake bottom not to crumble?",
            "Why are jelly donuts usually raspberry flavored",
            "Trusted Custom mold manufacturers for confections",
            "What would the best Cornflour substitute be for a Pavlova?",
            "What is the delicious brown layer that appears when you fry or bake apples, plums, apricots, etc.?",
            "inside dimension for homemade digestive cookie mold",
            "How to cut a cake that was baked in a pie pan?",
            "Is there anything special to know before using powdered vanilla?",
            "Crust separating from crumb in white bread. What gives?",
            "Mold or dry sourdough starter? (pic included)",
            "How to remove brownies cleanly from silicone molds?",
            "Can a pan \"cook too fast\"?",
            "Butter crunch French bread topping",
            "How to prevent food absorbing smells from other food?",
            "Choux pastry recipe spreading and deflating",
            "Why aren't my vanilla beans imparting vanilla flavor?",
            "Possible to make sourdough starter quickly?",
            "Frozen turkey breast worry",
            "Can I make a pecan pie with corn syrup only?",
            "Recipe says to bake chicken at 250 degrees for 5 hrs. how long does it need to be baked at 350 degrees?",
            "Will pizza dough stick on steel platform in conventional oven?",
            "Baking bread/cake yields different results than expected",
            "Brown rice syrup availability in India",
            "How to I prevent shortcrust cracking while using a tartet machine?",
            "How to store batter (contains raw eggs) under 41 degrees F?",
            "The chocolate chips in my chocolate chip cookies dont rise to the top",
            "More dense cookie",
            "cake shrinks when it cools, becomes smaller than cake board",
            "Unstretchable Dough problem",
            "Fluids in a turkey",
            "Flour shortage in baking",
            "Effects of correcting partially mixed/kneaded dough with flour or liquid",
            "How to Bake Banana into Banoffee Pie",
            "Why aren't my macarons as soft as professional ones?",
            "Baking at a lower temperature than the recipe calls for",
            "Baking in electric oven with only top heating element and no fan",
            "Could Agave syrup be used as a substitute for Golden Syrup?",
            "Pre-making pretzel buns.",
            "Can I bake pita bread on a pan?",
            "Does baking time increase when making multiple Pumpkin Bread Puddings?",
            "Is there any way to bring an egg to its natural state (not boiled) after you cook it?",
            "Can we use white sugar, instead of brown sugar?",
            "Can one bake a cake with a cooked egg instead of a raw one?",
            "Can one use cooked egg to make fried eggs (sunny side up)?",
            "When should one ice christmas fruit cakes",
            "Why aren't my chocolate chip cookies coming out the way I'd like them?",
            "Is there another way to prove dough?",
            "Baking in drinking glasses -- heat vs. logo paint, other issues",
            "To Preheat Or Not",
            "My German Apple Cake sank in the middle and I don't know how to fix it",
            "Xanthan gum in bread baking",
            "How can I incorporate powdered peanut butter into a boxed banana bread?",
            "Cheaper Gruyere Substitute for baking Cheese Puffs in Australia",
            "Can I substitute decaf coffee for espresso",
            "Putting raisins (etc) in bread, but avoiding the outside?",
            "cake smells bad of egg, is dense and rubbery",
            "Do I need a special recipe for mini cheesecakes?",
            "Is it ok to pre-mix dry ingredients a few days before baking?",
            "If cookies are made with enough sugar, will they just be chewy caramel?",
            "Why does dough and its ingredients need to be cold?",
            "My dough is cracking (not crumbling) and more water does not help",
            "Can I bake a cake in a toaster oven without temperature control?",
            "Substitute baking containers",
            "How to make hamburger buns as fluffy as in McDonald's?",
            "Dutch oven bread - bottom always burns",
            "How can I fix brownies that I accidentally added ketchup and pepper to?",
            "Chiffon Cake Problem",
            "Does baking bread longer dry it out?",
            "How to bake the Betty Crocker Super Moist White Cake",
            "Why do you bake Crème Brûlée?",
            "High hydration breads end up with gummy/undercooked interior",
            "What is this Tibetan dessert?",
            "Why are my cookies crumbling after I bake them?",
            "Oven racks and heating element",
            "How long should I let my bread dough rise the second time?",
            "Is it safe to eat food cooked on a dish on which breaded chicken has been cooked and which wasn't washed?",
            "Shaved chocolate in cake batter?",
            "Almond essence substitute",
            "How do I keep cake from collapsing when adding lemon juice?",
            "Resting Lebkuchen dough overnight - OK? Fridge or room temp?",
            "Should I take the cake out of oven immediately after it is baked or leave it in oven for some time",
            "Convection microwave oven capable of only 200C",
            "How do professional bakers handle rotating trays while mass producing cookies/muffins/cakes/etc.?",
            "Substitute maple syrup with regular syrup for baking?",
            "How do I get the right amount of heat from Carolina Reapers in cookies/brownies?",
            "I forgot to add butter to my cupcakes but they were ok - why?",
            "why didn't the brownie bake when cheesecake was put on top?",
            "In making a cookie dough I forgot to add the salt. Is there a way to still add the salt?",
            "Cookie dough is too dry to shape, can I salvage the existing batch?",
            "What is ideal temperature for baking cupcakes?",
            "I accidentally added butter into flour/cocoa powder/baking soda without beating first",
            "Can I refrigerate the stuff left over on the baking sheet?",
            "Tips on cooking Christmas dinner for large group",
            "Can you cover an angel food cake with fondant?",
            "Baking - Substitutions for a gingersnap crust",
            "Egg substitue in enriched breads",
            "cheese cake cooking times",
            "Lace cookies TOO thin?",
            "How to substitute peanut butter for peanut butter chips",
            "Good ideas for Tonka Beans"
           ],
           "legendgroup": "baking",
           "marker": {
            "color": "#636efa",
            "size": [
             3,
             1,
             3,
             1,
             4,
             2,
             4,
             1,
             2,
             3,
             2,
             1,
             1,
             3,
             6,
             5,
             1,
             4,
             2,
             3,
             3,
             2,
             1,
             5,
             1,
             2,
             1,
             1,
             2,
             1,
             2,
             2,
             3,
             2,
             1,
             1,
             1,
             2,
             1,
             3,
             1,
             2,
             2,
             1,
             1,
             1,
             2,
             3,
             1,
             2,
             1,
             1,
             3,
             2,
             2,
             1,
             0,
             8,
             2,
             1,
             1,
             2,
             1,
             2,
             1,
             1,
             1,
             1,
             2,
             1,
             1,
             2,
             1,
             2,
             2,
             1,
             1,
             0,
             3,
             1,
             2,
             1,
             2,
             2,
             1,
             1,
             3,
             1,
             5,
             1,
             1,
             3,
             1,
             1,
             1,
             0,
             1,
             0,
             2,
             3,
             1,
             1,
             1,
             1,
             2,
             1,
             2,
             2,
             2,
             3,
             3,
             1,
             1,
             2,
             4,
             0,
             1,
             1,
             1,
             1,
             1,
             3,
             2,
             1,
             1,
             2,
             1,
             2,
             1,
             2,
             1,
             1,
             3,
             2,
             2,
             2,
             1,
             2,
             3,
             2,
             2,
             2,
             1,
             3,
             2,
             1,
             2,
             0,
             1,
             1,
             3,
             4,
             1,
             1,
             1,
             3,
             2,
             2,
             1,
             4,
             4,
             3,
             1,
             1,
             1,
             1,
             1,
             1,
             2,
             2,
             1,
             1,
             3,
             2,
             1,
             1,
             1,
             2,
             2,
             2,
             3,
             4,
             7,
             1,
             1,
             4,
             2,
             5,
             3,
             1,
             1,
             2,
             1,
             1,
             2,
             1,
             1,
             2,
             3,
             2,
             3,
             2,
             2,
             5,
             3,
             3,
             1,
             1,
             3,
             1,
             1,
             1,
             2,
             2,
             1,
             1,
             2,
             1,
             4,
             3,
             4,
             2,
             5,
             1,
             1,
             1,
             2,
             2,
             1,
             3,
             2,
             2,
             1,
             1,
             2,
             2,
             2,
             1,
             4,
             1
            ],
            "sizemode": "area",
            "sizeref": 0.0525,
            "symbol": "circle"
           },
           "mode": "markers",
           "name": "baking",
           "orientation": "v",
           "showlegend": true,
           "type": "scatter",
           "x": [
            6,
            1,
            1,
            1,
            4,
            5,
            4,
            1,
            3,
            0,
            1,
            0,
            0,
            2,
            10,
            3,
            3,
            3,
            1,
            4,
            0,
            4,
            6,
            0,
            5,
            5,
            1,
            2,
            4,
            0,
            0,
            2,
            6,
            7,
            4,
            1,
            2,
            0,
            6,
            1,
            0,
            0,
            1,
            3,
            0,
            0,
            8,
            1,
            0,
            0,
            2,
            0,
            1,
            0,
            0,
            4,
            0,
            13,
            0,
            0,
            2,
            6,
            0,
            0,
            8,
            0,
            5,
            1,
            1,
            4,
            2,
            0,
            1,
            1,
            3,
            0,
            2,
            0,
            3,
            1,
            8,
            0,
            1,
            3,
            2,
            3,
            3,
            2,
            7,
            1,
            2,
            2,
            2,
            0,
            0,
            1,
            1,
            2,
            2,
            1,
            2,
            0,
            3,
            0,
            3,
            1,
            0,
            0,
            2,
            1,
            9,
            3,
            0,
            0,
            5,
            0,
            2,
            3,
            0,
            2,
            3,
            4,
            0,
            4,
            2,
            0,
            3,
            2,
            9,
            2,
            1,
            7,
            5,
            6,
            4,
            0,
            0,
            2,
            1,
            2,
            7,
            3,
            5,
            7,
            7,
            1,
            1,
            0,
            0,
            0,
            0,
            7,
            4,
            4,
            1,
            2,
            1,
            2,
            0,
            2,
            1,
            8,
            0,
            1,
            2,
            0,
            0,
            1,
            3,
            6,
            2,
            7,
            3,
            7,
            6,
            0,
            1,
            4,
            5,
            3,
            1,
            0,
            7,
            3,
            0,
            9,
            4,
            8,
            1,
            5,
            0,
            0,
            1,
            4,
            0,
            3,
            1,
            3,
            7,
            1,
            5,
            5,
            1,
            1,
            4,
            6,
            1,
            2,
            1,
            0,
            0,
            6,
            5,
            0,
            4,
            0,
            3,
            0,
            8,
            3,
            1,
            0,
            0,
            3,
            2,
            3,
            1,
            0,
            2,
            3,
            3,
            2,
            8,
            4,
            0,
            1,
            1,
            3,
            0,
            3
           ],
           "xaxis": "x",
           "y": [
            45502,
            92,
            287,
            910,
            9192,
            192,
            1841,
            7366,
            2373,
            45507,
            2194,
            126,
            128,
            6120,
            49886,
            10341,
            466,
            7008,
            567,
            2742,
            4294,
            871,
            1401,
            38042,
            1372,
            14669,
            19016,
            6033,
            3485,
            4407,
            2678,
            1002,
            13122,
            5443,
            3651,
            172,
            130,
            4282,
            112,
            6236,
            888,
            3330,
            92,
            8080,
            3849,
            302,
            13058,
            150564,
            10541,
            12132,
            4583,
            4624,
            3927,
            5270,
            47855,
            709,
            170,
            21296,
            29383,
            119841,
            50541,
            1361,
            1029,
            1734,
            901,
            196,
            1828,
            164,
            192,
            159,
            96,
            779,
            746,
            1219,
            7181,
            133,
            88,
            11433,
            6930,
            982,
            8299,
            84,
            435,
            4801,
            2870,
            796,
            2559,
            694,
            4810,
            582,
            117,
            1608,
            183,
            156,
            69,
            195,
            212,
            180,
            4453,
            108924,
            3225,
            731,
            104,
            10389,
            3174,
            1101,
            1041,
            395,
            3052,
            366,
            745,
            693,
            3146,
            181,
            2283,
            283,
            1098,
            29270,
            310,
            1043,
            4435,
            2805,
            320,
            1623,
            588,
            3997,
            2024,
            23432,
            2574,
            2732,
            432,
            3559,
            374,
            562,
            3922,
            2508,
            1288,
            554,
            3722,
            1223,
            3067,
            1797,
            76,
            25308,
            301,
            188,
            1278,
            41,
            4302,
            2889,
            8487,
            4725,
            207,
            5238,
            2845,
            400,
            172,
            1020,
            142,
            24069,
            2608,
            1502,
            123,
            52,
            885,
            169,
            869,
            2335,
            115,
            719,
            1329,
            11684,
            558,
            3141,
            6121,
            12702,
            7560,
            194,
            1639,
            2703,
            7496,
            13480,
            14747,
            309,
            763,
            4910,
            1050,
            3026,
            2644,
            1310,
            7088,
            685,
            8893,
            4021,
            2267,
            9785,
            146,
            20511,
            4580,
            7160,
            5010,
            8009,
            187,
            27119,
            8164,
            2079,
            2546,
            1425,
            4370,
            231,
            648,
            1044,
            242,
            5883,
            8018,
            83,
            1283,
            2848,
            7325,
            1044,
            44753,
            6586,
            6460,
            4872,
            584,
            31409,
            1450,
            22201,
            14902,
            7503,
            3134,
            2341,
            272,
            868,
            2828,
            3387,
            122,
            969,
            21526,
            112
           ],
           "yaxis": "y"
          },
          {
           "hovertemplate": "<b>%{hovertext}</b><br><br>Tags=bread<br>Year=2016<br>CommentCount=%{x}<br>ViewCount=%{y}<br>AnswerCount=%{marker.size}<extra></extra>",
           "hovertext": [
            "Why is my bread falling flat?",
            "Water + Sugar Solution Preserves Bread?",
            "What type of sugar can preserve bread the longest?",
            "Making Bread From Pizza Dough",
            "Dough whisk as a substitute to a mixer or wooden spoon",
            "Egg In My Bread",
            "Preserving cheese sandwich",
            "Making bread on Stand Mixer",
            "How many kilos of bread can I produce with one kilo of flour?",
            "Breadmaker bread not remaining fresh long enough",
            "Creating ideal temperature for dough to rise",
            "Why add lupin flour to white bread?",
            "How can I improve the shape/appearance of this bread?",
            "Coins in bread?",
            "Stretchy Lebanese flatbread?",
            "What are the best burger buns available in the UK?",
            "Where can I buy fresh, live yeast for making bread? (NOT active dry yeast)",
            "Why does my calzone crust lose its crunchiness within minutes of being removed from the oven?",
            "Pumpkin Bread that is similar to Banana Bread",
            "Why won't my bread rise much during baking?",
            "Is the second rise step neccesary for no-knead bread?",
            "How can I make my almond buns rise evenly?",
            "Adding 'swirls' to savoury bread dough",
            "Soft dinner rolls always taste bland or flat",
            "Do I have to adjust anything to add seeds to bread?",
            "How to make store bought whole multi grain bread softer?",
            "Gluten free bread in breadmaker looks weird and doesn't rise",
            "Bread recipe calls for dry milk powder. Can I use dry buttermilk powder?",
            "How do different techniques impact sourdough bread?",
            "Adding flavorings & fillings to bread dough",
            "Why is a glaze applied to the top of a hot cross bun?",
            "How many risings for bread?",
            "should I let my sourdough loaf proof in the fridge or on the counter?",
            "What type of bread buns do premium burger restaurants use?",
            "Can I replace sugar with cane syrup in sourdough recipe",
            "Why are there caraway seeds in rye bread?",
            "Is Bisquick used as a standard in recipes for shop-bound products?",
            "What can I substitute for rye flour?",
            "Why is bread dough recovery important?",
            "Can I halve the Amish Friendship Bread recipe?",
            "Does handling a lot of flour cause fingernails to break?",
            "Are the white things on a bread normal?",
            "When making soda bread, 45 min on baking sheet or 15 min on cast iron skillet?",
            "Looking For A Soy Flour Substitution",
            "Use of sour milk for bread making - how long after the expiration date is it safe?",
            "Bread from the machine always too soft, can't be buttered",
            "Why does ice form mostly on one side of frozen sliced bread?",
            "What's the difference between tangzhong and levain?",
            "Bread crusty outside and super soft inside",
            "What can I change about this bread recipe to lower its glycemic index?",
            "Does dried milk powder retard yeast growth in bread making",
            "What should I do with my leftover bench flour?",
            "What's are the benefits of different sourdough starter consistencies?",
            "Are the NAAN flatbread {from simply chef} ok to eat without warmed up in the microwave or oven?",
            "I don't have a large cutting board, but I do have a large table with a wood top",
            "Surfaces for bread making",
            "Use foil as dutch oven lid for loaf pan",
            "Under-watered bread dough: specific effect?",
            "Milk in fermented bread dough",
            "Is it possible to bake bread or the like using a stovetop tagine?",
            "Which bread keeps the longest?",
            "Prefermenting the whole sourdough rye bread",
            "12-hour fermentation makes dough wetter",
            "Flies in my bag of bread - bad bread?",
            "Impossible to manage sticky dough",
            "Low sodium French Bread or Baguette",
            "Question on yeast quality?",
            "What salt should I use in a bread machine recipe?",
            "Why won't my sourdough form a shapeable dough that doesn't stick?",
            "What causes gaps/holes in homemade bread?",
            "How to increase batch size of dough starter bread?",
            "100% Whole wheat sourdough bread method",
            "Can I selectively breed my sourdough starter?",
            "Can you freeze bread dough when it's done proofing to bake later?",
            "How can I make my Garlic Bread less soggy?",
            "Lemon sweet yeast bread",
            "Can chicken stock be used as the basis of a savoury loaf?",
            "What are the names of these food dishes?",
            "Butter crunch French bread topping",
            "Why are my Baguettes so flat?",
            "Is there anything but yeast in a packet of baker's yeast?",
            "bread machine loaf size buttons",
            "How to sweeten bread without sugar",
            "Baked Raisin Cinnamon Bread and shipping",
            "Chewy, Moist & Bit Uncooked Bread",
            "Effects of correcting partially mixed/kneaded dough with flour or liquid",
            "bread making remove butter",
            "How do I adjust a bread recipe for long, cool proofing?",
            "Can I bake pita bread on a pan?",
            "How to make pre-baked pita bread",
            "Help with rubbery roti/chapatti",
            "Is there another way to prove dough?",
            "Xanthan gum in bread baking",
            "How can I incorporate powdered peanut butter into a boxed banana bread?",
            "Putting raisins (etc) in bread, but avoiding the outside?",
            "How can I put grains in my bread?",
            "I need a substitution for Parmesan cheese",
            "How to make hamburger buns as fluffy as in McDonald's?",
            "Dutch oven bread - bottom always burns",
            "Does baking bread longer dry it out?",
            "ratio of flour to liquid in bread",
            "Undercooked bread - does temperature over 165 mean it's food safe?",
            "High hydration breads end up with gummy/undercooked interior",
            "What is the key to a shiny crumb in bread?",
            "bread that does not get moldy",
            "does steam elongate bread cook time?",
            "What is the driest, brownest bread that I can make for a stuffing?",
            "Half butter half shortening in overnight potato rolls?",
            "What would cause dough not to rise while making no-knead bread?",
            "Sourdough bread keeps cracking underneath. What could be the reason?",
            "Egg substitue in enriched breads",
            "How to evenly portion chapati dough?",
            "Why isn't my dough doubling?"
           ],
           "legendgroup": "bread",
           "marker": {
            "color": "#EF553B",
            "size": [
             3,
             1,
             2,
             1,
             2,
             1,
             3,
             2,
             6,
             5,
             1,
             1,
             2,
             3,
             3,
             1,
             4,
             1,
             2,
             1,
             2,
             1,
             1,
             3,
             1,
             2,
             2,
             2,
             1,
             2,
             2,
             2,
             2,
             3,
             1,
             2,
             1,
             2,
             1,
             1,
             3,
             1,
             1,
             1,
             2,
             2,
             1,
             1,
             5,
             3,
             2,
             2,
             1,
             1,
             1,
             3,
             1,
             1,
             1,
             2,
             1,
             3,
             2,
             1,
             1,
             3,
             1,
             1,
             4,
             1,
             2,
             1,
             3,
             2,
             3,
             0,
             0,
             2,
             1,
             2,
             1,
             1,
             2,
             1,
             1,
             1,
             1,
             2,
             2,
             3,
             6,
             2,
             1,
             2,
             2,
             0,
             1,
             5,
             3,
             1,
             2,
             1,
             1,
             2,
             1,
             1,
             1,
             1,
             3,
             1,
             2,
             2,
             1
            ],
            "sizemode": "area",
            "sizeref": 0.0525,
            "symbol": "circle"
           },
           "mode": "markers",
           "name": "bread",
           "orientation": "v",
           "showlegend": true,
           "type": "scatter",
           "x": [
            6,
            6,
            1,
            4,
            1,
            0,
            1,
            0,
            10,
            3,
            6,
            0,
            4,
            0,
            5,
            3,
            12,
            6,
            6,
            1,
            0,
            8,
            1,
            1,
            0,
            1,
            14,
            0,
            0,
            0,
            6,
            4,
            0,
            4,
            4,
            7,
            1,
            5,
            2,
            0,
            3,
            3,
            0,
            0,
            3,
            0,
            0,
            0,
            7,
            2,
            3,
            2,
            1,
            0,
            6,
            3,
            1,
            0,
            2,
            3,
            7,
            1,
            0,
            6,
            3,
            4,
            2,
            3,
            1,
            3,
            0,
            1,
            2,
            5,
            0,
            1,
            4,
            6,
            4,
            0,
            0,
            0,
            1,
            1,
            0,
            7,
            1,
            0,
            5,
            0,
            5,
            4,
            0,
            0,
            0,
            1,
            4,
            1,
            4,
            2,
            3,
            2,
            0,
            3,
            1,
            4,
            9,
            1,
            5,
            3,
            1,
            1,
            3
           ],
           "xaxis": "x",
           "y": [
            45502,
            201,
            359,
            1294,
            2194,
            126,
            623,
            597,
            49886,
            10341,
            1834,
            1271,
            546,
            4294,
            1261,
            8940,
            94274,
            1401,
            119,
            19016,
            2678,
            103,
            172,
            6236,
            2424,
            254,
            2510,
            12132,
            4624,
            29383,
            1361,
            10245,
            1734,
            10654,
            328,
            11945,
            164,
            17621,
            975,
            1464,
            1866,
            77863,
            133,
            1466,
            4801,
            9739,
            1615,
            712,
            4810,
            1608,
            1822,
            1156,
            212,
            6282,
            1650,
            15242,
            2957,
            10389,
            540,
            3174,
            3430,
            366,
            2680,
            13193,
            4435,
            2805,
            149,
            4466,
            32393,
            1648,
            1084,
            1456,
            943,
            7199,
            4758,
            135,
            505,
            134,
            207,
            3010,
            551,
            132,
            4484,
            90,
            2894,
            11684,
            272,
            262,
            1639,
            392,
            17978,
            1050,
            7088,
            685,
            2267,
            59,
            3338,
            27119,
            8164,
            1425,
            3225,
            9550,
            648,
            1831,
            3280,
            216,
            359,
            75,
            7679,
            1834,
            3387,
            2165,
            520
           ],
           "yaxis": "y"
          }
         ],
         "name": "2016"
        },
        {
         "data": [
          {
           "hovertemplate": "<b>%{hovertext}</b><br><br>Tags=baking<br>Year=2017<br>CommentCount=%{x}<br>ViewCount=%{y}<br>AnswerCount=%{marker.size}<extra></extra>",
           "hovertext": [
            "Recreating Tonka Bean Gu Cake",
            "Does multi-cooker actually bake?",
            "Why mix wet and dry ingredients separately?",
            "Why didn't my cheesecake bites come out right?",
            "How to translate a baking recipe for box mixes for cast iron skillets?",
            "Is a boxed-mix cake sturdy enough to construct a sphere?",
            "Accidentally used salted butter",
            "Can I reheat roast potatoes?",
            "Meaning of 'sift together'",
            "How to grease a parchment paper for SugarVeil?",
            "Can bananas really be ripened through oven baking?",
            "Should I thaw cherries for a sour cream cherry pie?",
            "Which cherries do I use for cherry pie",
            "What differences will happen if you use a rectangular baker to bake cookies instead of a tray?",
            "How do I stop my Crispie/Crispy cake from going stale?",
            "Removing macaron paper template under silicone mat",
            "Size of pieces of fish for baking",
            "How much do egg yolks and whites weigh, in grams?",
            "Sourdough starter issues",
            "How frequently should I feed my sourdough starter?",
            "I am having an issue with leaving macarons to form a skin",
            "Problem Rolling Out Rough Puff Pastry",
            "What type of baking tray is WINGY?",
            "What is the difference between making a cheesecake with confectioner's sugar vs. normal sugar?",
            "What caused the crust on on the top of my bread to separate from the rest of the loaf?",
            "White chocolate baking in cake batter",
            "My overnight sour dough went slack, could my 'starter' have eaten too much gluten?",
            "Can I use amaretti cookies in a cheesecake crust?",
            "Does the weather outside make a diference in oven temp. for baking",
            "Would it really be possible to cook a fish in clay?",
            "Overmixed pate sucree",
            "Dry baked goods",
            "Having trouble with the sweet & sour sauce recipe",
            "Dividing dough into rolls",
            "How long will a bread ferment last before it is no good?",
            "How to \"toss to coat\" ingredients in a sheet pan?",
            "How to modify a bread recipe to accomodate longer proofing times?",
            "Why add Wheat Germ to Bread?",
            "How to improve the flavor of gluten free challah bread?",
            "How to prevent light-colored macarons from browning?",
            "Why did my green tea muffins turn black?",
            "Alcohol evaporation of beer in a cake",
            "Non-sweet sugar replacement for French macaron",
            "How much should I beat choux pastry for optimal rising?",
            "Altering cake batter amount- how to adjust oven temp/baking time?",
            "Oven temps for cooking in enameled dutch oven",
            "Fresh Lemon zest",
            "How does one cook Banh Su Xue?",
            "My éclair (pâte à choux) was doughy",
            "How many carbs I will lose by cold fermenting my bread dough?",
            "Is/are there any difference(s) in batter from French and Italian macaron methods?",
            "How to bake croissant?",
            "How long to preheat an OTG?",
            "Tiny beads/flecks of uncooked dough all through my bread",
            "Cake burnt on top using both elements on top and bottom.",
            "Flourless cake didn't set",
            "Include salt in dry premix?",
            "Dutch Baby Disaster!",
            "Crowding loaves in deck oven",
            "How can I improve the baking of frozen cod and rice with carrots,?",
            "What is the impact of opening the oven door?",
            "Making molasses cookies less soft",
            "How dangerous is rye?",
            "Cooking ham and scalloped potatoes",
            "Can I increase cooking time of bread to make it less gooey?",
            "Problems with rising sponge in larger tin",
            "Chocolate graham crust",
            "Bread cracks in the oven",
            "Why do you warm a Dutch oven up before baking bread?",
            "How could I use liquid flavorings to make a version of a jelly-topped cookie?",
            "Baking Italian love cake",
            "Simple stone ground flour bread",
            "Baked food and Bacilus Cereus",
            "Can I subsitute grapefruit for either lemon or orange in baking",
            "How to calculate the pH of a lye solution?",
            "If your bread doesn't sound hollow can it still be done?",
            "How can I keep the crust of my breads from getting too dark?",
            "Temperature and Duration for Baking Sweet Potatoes",
            "Can multiple slabs of ribs be baked at once?",
            "Yeast Nutritional Values",
            "Do I have to change the baking time when I convert fahrenheit to Celsius?",
            "Oven baked cod fillets get soaked in their own liquid",
            "How to bake frozen breaded cod without breading sticking to alumnium foil?",
            "How to store crumble cake",
            "Forgot to add sugar to the dough how can we fix it?",
            "Can you grind Cheerios and use it as flour?",
            "Why does canelé batter have to be made 24 hours in advance?",
            "Why flour on bread?",
            "Differences between cloth, fiberglass and silicone baking mats?",
            "What are these pans used for?",
            "How to get moist goo in layers of chelsea buns",
            "Substituting maseca (corn flour) for ap flour in waffle cones",
            "Ears of corn in grams",
            "Using hardware store dowel as rolling pin?",
            "making a sourdough starter in desert like conditions",
            "Pound cake sticks to pan - need alternate solution",
            "Scoring medium hydration dough after it's been in the oven",
            "Can I use Granulated sugar instead of White sugar?",
            "Why do catered baked deserts have a yucky aftertaste?",
            "Baking cauliflower with potatoes",
            "Safety of producing home malted flour",
            "How do I prevent my bread crust from drying out?",
            "Dough for edible bowls, plates",
            "Pretzel burger buns: how to make soft crust?",
            "Can the Black and Decker toaster oven, model TRO55, be used for baking?",
            "My dough won't rise the second time",
            "How to avoid flour lumps in the sponge cake?",
            "Baked 2 cakes simultaneously. One sank in the middle on cooling",
            "How much vinegar can I safely add to bread dough?",
            "Can I rescue a bread preferment with unmixed flour lumps?",
            "What size of jar, proportionally, should I keep my poolish in to prevent overflow?",
            "Will a metal dough scraper damage a granite countertop?",
            "Is it possible to season chicken breast with BBQ sauce before baking it in the oven?",
            "What temperature should eggs be when I beat them?",
            "How do I ensure my puff pastry top stays puffed and crisp on my chicken mushroom pie?",
            "Rye bread: proof until soft",
            "How can I approximate a deli kaiser roll?",
            "Tapioca pizza crust is undercooked?",
            "How can I reduce the sugar in this oatmeal bar recipe?",
            "Can you use both melted and creamed butter for cookies?",
            "Making Sour Dough from Starter",
            "How to line a tart ring for a perfect tart crust",
            "What should I substitute for shortening: lard or butter?",
            "Would it be in any way possible to bake cookies using a blowtorch?",
            "looking for a substitute for liquor in a cake recipe",
            "Getting veggies to go soft in the oven",
            "Unused baked potatoes",
            "When making a sponge cake how does the method of combining ingredients effect the final product?",
            "Can expired orange juice be used in baking",
            "Upside-Down Lemon Squares?",
            "How to get Taiyaki crispy? Are they even supposed to be crispy?",
            "What makes food dyes heat-safe?",
            "Rubbery Naan bread",
            "Advice on getting my arepas to \"puff\"?",
            "Making Banana bread but short on flour: can I use pancake mix?",
            "Active dry yeast vs. instant yeast",
            "Can selfriseing flour be used in placeof bisquet mix?",
            "Freezing French baguette dough",
            "How can I move from subscription boxes to recipes successfully?",
            "What went wrong with my bread?",
            "Baking Sirloin in Oven on Pizza?",
            "Substitute of eggs",
            "Is there a difference in gnocchi between baking, steaming, or boiling potatoes?",
            "Baking a tall cake in a regular pan",
            "How to raise the cake high for pound cakes",
            "Can I bake Nutella?",
            "How do I adjust cooking time for smaller batch of bread?",
            "Halloween Special: Glow in the dark food",
            "Does dead yeast result in a stickier dough?",
            "How do I knead this dough by hand?",
            "How do I tell if a metal can is safe to bake in?",
            "What are potential causes of splitting in baked pie dough?",
            "Pane Buccellato de Lucca",
            "Mystery ingredient in cookies with cream tartar",
            "Is it possible to make sugar cookies without butter?",
            "Interpreting a recipe from Mrs Beeton: \"carbonate of soda\"",
            "Interpreting a recipe from Mrs Beeton: \"rather a brisk oven\"",
            "One side of the cake rises higher than another",
            "Question regarding percent hydration for 100% whole wheat bread dough",
            "Salted baked potatos",
            "How to serve fresh bao buns",
            "Convert cooking Shrimp and Vegetables in a foil-packet on a 400 degree grill for 25 - 30 minutes to an oven",
            "Baking beetroot in coffee crust",
            "Baked sweet potato skin hard as a rock",
            "Baking pretzels in a muffin tin?",
            "Cheesecake- adding cream",
            "Can I use sugar as a pie weight when blind baking at 425F?",
            "What happens if I added double the pumpkin puree in my pumpkin pie filling?",
            "Unwanted rise in Japanese Cheesecake",
            "Is there ever a reason not to use baking beads when blind baking?",
            "Why not blind bake with two pie plates?",
            "Temperature of Heavy whipping cream in NY cheesecake?",
            "Baking temperature",
            "What needs to be added to quinoa flour make it \"behave\" like all-purpose flour?",
            "How do I substitute a recipe that calls for yellow cornmeal for self rising corn meal mix",
            "When changing recipe size, do I proportionally change bake time?",
            "How to cook better cookies despite a terrible oven?",
            "what is the purpose of lemon/acid in fruit maceration for pie baking?",
            "How can I make curved gingerbread sheets for a gingerbread house?",
            "Can I cream butter, sugar and eggs ahead of time",
            "How can I make a bar cookie more dense?",
            "What is a substitute for spry?",
            "How to adjust baking time if I adjust the quantities in the recipe?",
            "What size pan should I use if I want to split a recipe in half that calls for a 13x9 inch pan?",
            "Enriched dough help please!",
            "Anybody know where I can get some Stanley spatulas?",
            "Can I avoid overcooking my candied lemon decorations?",
            "Cooking 4 lasagnas at same time",
            "Is it safe to wrap food in aluminum foil before baking it?",
            "Baking scalloped potatoes at 275 °F instead of at 400 °F"
           ],
           "legendgroup": "baking",
           "marker": {
            "color": "#636efa",
            "size": [
             1,
             2,
             2,
             1,
             3,
             1,
             1,
             1,
             2,
             1,
             1,
             1,
             2,
             2,
             1,
             4,
             1,
             3,
             2,
             5,
             1,
             3,
             1,
             4,
             2,
             1,
             1,
             2,
             1,
             2,
             1,
             2,
             3,
             4,
             2,
             3,
             3,
             2,
             1,
             3,
             4,
             1,
             3,
             1,
             2,
             1,
             0,
             1,
             1,
             1,
             1,
             1,
             2,
             2,
             2,
             1,
             1,
             1,
             1,
             1,
             1,
             1,
             1,
             1,
             2,
             1,
             1,
             3,
             1,
             1,
             1,
             2,
             2,
             2,
             1,
             1,
             1,
             1,
             2,
             1,
             2,
             1,
             5,
             2,
             2,
             2,
             1,
             4,
             1,
             2,
             3,
             0,
             1,
             2,
             3,
             1,
             1,
             1,
             2,
             2,
             1,
             2,
             2,
             2,
             1,
             2,
             1,
             1,
             1,
             2,
             1,
             2,
             4,
             2,
             2,
             1,
             1,
             1,
             5,
             1,
             1,
             3,
             1,
             2,
             1,
             2,
             1,
             1,
             1,
             1,
             1,
             1,
             1,
             2,
             2,
             1,
             0,
             0,
             3,
             1,
             1,
             2,
             1,
             1,
             1,
             1,
             1,
             1,
             4,
             1,
             1,
             1,
             1,
             3,
             3,
             2,
             3,
             1,
             1,
             1,
             1,
             1,
             0,
             2,
             0,
             2,
             1,
             0,
             1,
             1,
             2,
             2,
             2,
             1,
             1,
             1,
             6,
             4,
             4,
             1,
             1,
             2,
             1,
             2,
             1,
             1,
             1,
             2,
             4,
             3
            ],
            "sizemode": "area",
            "sizeref": 0.0525,
            "symbol": "circle"
           },
           "mode": "markers",
           "name": "baking",
           "orientation": "v",
           "showlegend": true,
           "type": "scatter",
           "x": [
            0,
            4,
            0,
            5,
            0,
            6,
            4,
            2,
            1,
            1,
            2,
            0,
            1,
            1,
            8,
            4,
            0,
            0,
            1,
            1,
            0,
            7,
            2,
            0,
            0,
            0,
            2,
            6,
            7,
            1,
            2,
            0,
            0,
            2,
            2,
            4,
            1,
            0,
            2,
            2,
            6,
            3,
            4,
            1,
            0,
            0,
            3,
            6,
            13,
            0,
            0,
            1,
            1,
            6,
            5,
            4,
            0,
            2,
            0,
            0,
            1,
            1,
            1,
            0,
            3,
            0,
            2,
            5,
            2,
            6,
            1,
            1,
            0,
            1,
            0,
            4,
            1,
            2,
            0,
            2,
            3,
            5,
            1,
            2,
            4,
            9,
            4,
            2,
            9,
            4,
            2,
            4,
            1,
            0,
            1,
            7,
            10,
            5,
            8,
            2,
            6,
            1,
            9,
            2,
            3,
            1,
            0,
            8,
            3,
            0,
            0,
            0,
            0,
            3,
            3,
            3,
            3,
            2,
            8,
            0,
            2,
            0,
            1,
            1,
            3,
            9,
            3,
            2,
            2,
            4,
            4,
            0,
            2,
            3,
            1,
            0,
            4,
            3,
            7,
            4,
            0,
            1,
            3,
            0,
            3,
            0,
            0,
            9,
            3,
            1,
            3,
            2,
            0,
            9,
            0,
            8,
            0,
            5,
            0,
            1,
            1,
            0,
            5,
            1,
            4,
            0,
            6,
            3,
            2,
            1,
            5,
            1,
            2,
            1,
            1,
            1,
            8,
            3,
            4,
            2,
            0,
            0,
            1,
            0,
            0,
            1,
            1,
            4,
            7,
            1
           ],
           "xaxis": "x",
           "y": [
            114,
            7226,
            2194,
            209,
            12172,
            3065,
            8042,
            1325,
            8013,
            122,
            366,
            806,
            1578,
            1127,
            586,
            3027,
            126,
            85078,
            952,
            33447,
            5026,
            1755,
            260,
            32747,
            3831,
            1886,
            6345,
            834,
            568,
            1390,
            340,
            127,
            3768,
            4335,
            1669,
            4619,
            951,
            11104,
            171,
            5325,
            1440,
            2160,
            3878,
            3036,
            3661,
            988,
            76,
            648,
            5357,
            771,
            260,
            2957,
            6048,
            8314,
            22800,
            907,
            462,
            369,
            492,
            333,
            29171,
            128,
            1421,
            1861,
            403,
            224,
            256,
            6645,
            894,
            321,
            113,
            3704,
            534,
            7106,
            2933,
            2900,
            1757,
            2102,
            20456,
            825,
            2254,
            1314,
            3604,
            3157,
            29725,
            5391,
            2359,
            14476,
            5715,
            305,
            2528,
            632,
            7910,
            3290,
            1064,
            1425,
            1062,
            12634,
            1433,
            221,
            97,
            1549,
            187,
            1168,
            1619,
            4860,
            10450,
            2132,
            7052,
            4094,
            1018,
            2630,
            1382,
            1038,
            30352,
            634,
            229,
            794,
            238,
            1898,
            257,
            2798,
            6087,
            456,
            1615,
            5836,
            153,
            898,
            1059,
            1890,
            1837,
            1740,
            1702,
            2509,
            5202,
            12774,
            85,
            1282,
            1944,
            2134,
            244,
            125,
            3464,
            226,
            188,
            8152,
            1111,
            1845,
            2791,
            513,
            3355,
            1024,
            75,
            3902,
            201,
            378,
            1402,
            12250,
            7265,
            127,
            2171,
            74,
            791,
            6667,
            113,
            12455,
            1028,
            3837,
            2440,
            1579,
            4415,
            625,
            233,
            1993,
            8277,
            1279,
            2464,
            9201,
            8143,
            4017,
            236,
            4509,
            2377,
            2508,
            283,
            876,
            219,
            7694,
            21563,
            19032
           ],
           "yaxis": "y"
          },
          {
           "hovertemplate": "<b>%{hovertext}</b><br><br>Tags=bread<br>Year=2017<br>CommentCount=%{x}<br>ViewCount=%{y}<br>AnswerCount=%{marker.size}<extra></extra>",
           "hovertext": [
            "I'm pretty sure these aren't scones, but what are they?",
            "Bread with strong vinegar smell",
            "Do Parathas, Naan, and Roti have to be burnt a little?",
            "defrosting homemade frozen bread",
            "Should enriched doughs pass the windowpane test?",
            "Pastry flour for bread",
            "My bread always burns",
            "My oat bread is drier than the Sahara",
            "Is there any potential harm to using warm water in my sourdough starter?",
            "Sourdough starter issues",
            "Can I freeze bread dough after the first rising?",
            "Does breadmaker bread need to include milk powder?",
            "What size bowl for bread",
            "Can I use unbleached flour in quickbread?",
            "My sourdough starter has turned yellow is it still good?",
            "What is the best water to use for yeast being used in bread making?",
            "What caused the crust on on the top of my bread to separate from the rest of the loaf?",
            "What is the name of this Czech bread?",
            "My overnight sour dough went slack, could my 'starter' have eaten too much gluten?",
            "Does the weather outside make a diference in oven temp. for baking",
            "Dry baked goods",
            "Can I substitute bread flour for AP flour in banana bread recipe?",
            "How to mix large amounts of sponge for bread?",
            "Brown sugar + Bread =?",
            "How to slice bread thinly so it won't crumble?",
            "Why is water added to the egg wash of challah bread?",
            "How long will a bread ferment last before it is no good?",
            "How to modify a bread recipe to accomodate longer proofing times?",
            "Bread dough. Rookie questions",
            "Why add Wheat Germ to Bread?",
            "How to improve the flavor of gluten free challah bread?",
            "Why does my home-made bread go mouldy?",
            "Why would you flour your bread loaf pans?",
            "Old family recipe has cryptic measurement for flour",
            "When and how much flour do I add when mixing dough?",
            "Sourdough Breadmaking: Adding Water to Dutch Oven to create more steam?",
            "Can I bake my bread in a loaf pan instead of baking sheet?",
            "Does a bread box requires holes for ventilation?",
            "Can you develop a gluten structure by kneading matzoh meal dough?",
            "How many carbs I will lose by cold fermenting my bread dough?",
            "What kind of bread lasts long?",
            "Tiny beads/flecks of uncooked dough all through my bread",
            "What's the best way to warm a baguette?",
            "Does commercial bread use baking powder?",
            "Can I compensate for non-working yeast with baking powder in bread?",
            "Crowding loaves in deck oven",
            "Can sufficiently finely-ground matzo meal substitute for flour in leavened bread?",
            "Can you slow down the time it takes for dough to rise?",
            "How dangerous is rye?",
            "Can I increase cooking time of bread to make it less gooey?",
            "Bread cracks in the oven",
            "Why do you warm a Dutch oven up before baking bread?",
            "Simple stone ground flour bread",
            "Baked food and Bacilus Cereus",
            "Are you supposed to get most of the air bubbles out of dough before the second rise?",
            "If your bread doesn't sound hollow can it still be done?",
            "How can I keep the crust of my breads from getting too dark?",
            "Yeast Nutritional Values",
            "Is it safe to warm bread in the oven with plastic wrap?",
            "Can you grind Cheerios and use it as flour?",
            "To knead or not to knead, that is the question",
            "Why flour on bread?",
            "Is there a special way to dry bread out to make breadcrumbs?",
            "How crucial is cornmeal?",
            "Adjusting Bread flavor",
            "How do I maintain the crunchy crust of home baked bread?",
            "Replacement for Calcium Propionate for bread",
            "Scoring medium hydration dough after it's been in the oven",
            "Amounts of Potassium Sorbate, Calcium Propinate or Ascorbic Acid as preservative in dough",
            "Does proofing time affect the density of bread?",
            "I want to add milk powder in my bread recipe - what ingredients below do I reduce and by how much?",
            "Can I first rise my bread dough in the fridge?",
            "How do I prevent my bread crust from drying out?",
            "When kneading bread dough, how sticky is 'too sticky'?",
            "My dough won't rise the second time",
            "How much vinegar can I safely add to bread dough?",
            "Can I rescue a bread preferment with unmixed flour lumps?",
            "Can you use yeast that is 2 years old if it has never been opened and has been in the freezer",
            "I need help with a bread recipe",
            "Making Sour Dough from Starter",
            "What is the purpose of nutmeg in apple zucchini bread?",
            "Bread baking: dough has little holes after first rise",
            "Looking for a Finnish bread name and recipe",
            "Rubbery Naan bread",
            "Active dry yeast vs. instant yeast",
            "What does it mean when you feel bubbles pop when kneading bread dough?",
            "Is it possible to make burger buns pans made with paper tape?",
            "Kneading difficulties with rye flour",
            "Freezing French baguette dough",
            "What went wrong with my bread?",
            "What are the qualities of a good French Bread?",
            "Turning toasted, non-crumbly whole wheat bread into breadcrumbs",
            "Braided bread: how to prevent ropes from springing back",
            "Which types of bread are well suited for overnight proofing and what adjustments are needed?",
            "water temperature affecting bread rolls texture!",
            "yeast-less pita bread sometimes inflates",
            "Can you mix oat and wheat flakes into bread mix?",
            "How do I adjust cooking time for smaller batch of bread?",
            "How do I knead this dough by hand?",
            "How do I tell if a metal can is safe to bake in?",
            "English muffin collapsing",
            "Will my bread dough that has already gone through first rise be okay to bake after three days of refrigeration?",
            "Long-rising/no-knead enriched breads?",
            "Why does the crust of a freshly baked loaf of bread become less crunchy/hard over time?",
            "Which Whole Wheat Breads can be crisped on the stove?",
            "How to adjust baking time if I adjust the quantities in the recipe?",
            "Reasonable to store loaves and pound cake in garage during winter? (25-35 F max?)",
            "Baker's Ammonia with yeast—good idea?"
           ],
           "legendgroup": "bread",
           "marker": {
            "color": "#EF553B",
            "size": [
             5,
             2,
             2,
             2,
             1,
             2,
             2,
             2,
             2,
             2,
             2,
             1,
             3,
             2,
             2,
             4,
             2,
             1,
             1,
             1,
             2,
             1,
             2,
             1,
             4,
             2,
             2,
             3,
             4,
             2,
             1,
             10,
             1,
             2,
             1,
             2,
             2,
             1,
             2,
             1,
             5,
             2,
             4,
             2,
             1,
             1,
             2,
             4,
             1,
             2,
             3,
             1,
             2,
             2,
             1,
             1,
             1,
             1,
             4,
             2,
             4,
             4,
             4,
             1,
             2,
             3,
             1,
             1,
             1,
             1,
             1,
             0,
             2,
             1,
             2,
             1,
             2,
             3,
             2,
             1,
             1,
             4,
             1,
             1,
             1,
             1,
             2,
             2,
             0,
             1,
             1,
             1,
             2,
             1,
             2,
             2,
             1,
             1,
             1,
             1,
             1,
             2,
             1,
             2,
             1,
             1,
             2,
             1
            ],
            "sizemode": "area",
            "sizeref": 0.0525,
            "symbol": "circle"
           },
           "mode": "markers",
           "name": "bread",
           "orientation": "v",
           "showlegend": true,
           "type": "scatter",
           "x": [
            5,
            5,
            8,
            3,
            2,
            4,
            4,
            1,
            1,
            1,
            3,
            6,
            0,
            1,
            6,
            2,
            0,
            4,
            2,
            7,
            0,
            4,
            0,
            1,
            3,
            0,
            2,
            1,
            10,
            0,
            2,
            11,
            0,
            4,
            5,
            6,
            2,
            0,
            0,
            0,
            3,
            6,
            1,
            1,
            7,
            0,
            6,
            5,
            1,
            3,
            5,
            2,
            1,
            0,
            0,
            4,
            1,
            2,
            2,
            9,
            4,
            2,
            0,
            0,
            5,
            3,
            1,
            10,
            2,
            0,
            1,
            3,
            1,
            0,
            1,
            3,
            0,
            1,
            0,
            2,
            1,
            5,
            1,
            2,
            0,
            0,
            0,
            0,
            3,
            4,
            0,
            0,
            1,
            2,
            6,
            1,
            2,
            0,
            1,
            3,
            3,
            2,
            0,
            0,
            3,
            1,
            0,
            10
           ],
           "xaxis": "x",
           "y": [
            3075,
            7087,
            4616,
            199,
            4236,
            12594,
            256,
            316,
            9346,
            952,
            6064,
            5819,
            5289,
            595,
            4885,
            7871,
            3831,
            183,
            6345,
            568,
            127,
            11933,
            236,
            491,
            3695,
            2047,
            1669,
            951,
            1419,
            11104,
            171,
            12399,
            128,
            532,
            3419,
            5650,
            2998,
            1893,
            268,
            771,
            13780,
            8314,
            30649,
            3053,
            3760,
            492,
            1682,
            7413,
            1421,
            403,
            6645,
            894,
            3704,
            534,
            1991,
            2900,
            1757,
            825,
            4437,
            5391,
            1375,
            14476,
            4136,
            5102,
            240,
            12244,
            1443,
            1062,
            2897,
            426,
            1523,
            180,
            1549,
            98035,
            4860,
            7052,
            4094,
            51264,
            248,
            257,
            536,
            3855,
            181,
            1702,
            12774,
            2816,
            401,
            739,
            1282,
            2134,
            981,
            78,
            1696,
            16018,
            699,
            306,
            185,
            1111,
            513,
            3355,
            688,
            953,
            1085,
            310,
            80,
            2377,
            227,
            1664
           ],
           "yaxis": "y"
          }
         ],
         "name": "2017"
        },
        {
         "data": [
          {
           "hovertemplate": "<b>%{hovertext}</b><br><br>Tags=baking<br>Year=2018<br>CommentCount=%{x}<br>ViewCount=%{y}<br>AnswerCount=%{marker.size}<extra></extra>",
           "hovertext": [
            "Baking ratio for waffles!",
            "Can cake batter sit before using?",
            "Can I par-bake French bread?",
            "Cake Cooking Time: Burning on outside - raw in the middle",
            "Sourdough recipe with vinegar",
            "Do I need baking powder/baking soda for my flourless corn bread?",
            "Can I take a glass baking dish from the fridge and put it in a hot oven?",
            "Why add baking powder when creaming sugar and butter?",
            "Can I replace baking soda with bread flour in a cake recipe that already has baking powder?",
            "After baking, bread coated with shiny residue",
            "How do I stop my flatbread from going hard like pizza crust?",
            "What to do when a recipe calls for dutch process cocoa and you only have regular cocoa?",
            "Is it okay to measure flour by weight by converting from volume?",
            "How do you bring ingredients to room temperature when its winter?",
            "Why did my devil food cake come out flavorless?",
            "Cake dry to wet cooking time ratio",
            "Creating some flakiness inside a Belgian Liege waffle",
            "How to adjust Baker's Percentage when Adding Ingredients",
            "Dry rub baby back ribs",
            "Is a chipped Bundt pan safe to use?",
            "How does a chocolate pudding cake work?",
            "Is it possible to resume baking brownies the day after?",
            "Used Metal Knife on Aluminum Cake Pan, is it Ruined?",
            "Chocolate layer cake tears easily",
            "Hamburger in the oven",
            "Injeolmi - Korean Sweet Rice Cakes",
            "Can I \"fill\" a chicken pot pie 24 hours before cooking it?",
            "How do I find / buy \"pastry bars\"?",
            "What vessel to use for baking cheesecake",
            "Help with making pavlova bases",
            "Would this recipe really work",
            "How can you safely remove 9x13 pans/dishes from a hot water bath?",
            "What causes a bread dough to become dense?",
            "Baking madeleines without burning them",
            "Macarons//egg whites with sugar are not sifting",
            "Bulk ingredient for keto/low carb flour substitute mix with gluten",
            "Why does the grated coconut \"float\" to the top of quindim while baking?",
            "Baker’s ratio for crackers",
            "Buttery Chocolate chip cookies",
            "Should I put yeast in sweet bread?",
            "Sourdough starter hydration",
            "Issue getting Atta bread right",
            "How do I add citric acid to my hard candy without it burning?",
            "Is Torta de Santiago supposed to be very moist?",
            "Am I missing out on something by not using parchment paper?",
            "Artisan sourdough bread",
            "What are some ways to make caramel thin?",
            "Sourdough starter not buoyant",
            "Does near expiration date milk continue to \"age\" in a cooked dish?",
            "What is an appropriate water to yeast ratio for hydrating yeast for bagels?",
            "Large Aluminium foil bakingpan",
            "Rigging equipment for steaming large amounts at once",
            "Bagels - Use of Barley Malt Syrup or Non-Diastatic Malt Powder",
            "What utensil (material) to use in Convection + Grill mode of Microwave Oven?",
            "Will an IPA beer work properly for beer bread?",
            "Why is it safe to bake a fish when unsaturated fats degrade in low temperatures?",
            "Are there negative effects of freezing for bread and cake?",
            "Why would I ever use my oven's 'bake' setting when it also has a 'convection bake'?",
            "Can I use low-temperature cooking for foie gras",
            "How to add richness to a vegan dough?",
            "Cheese crackers",
            "Is both creaming and chemical leavening needed?",
            "How do I make my bread heavy when baked?",
            "Baking Soft Boiled Eggs?",
            "Why cool creme brulee?",
            "Does shortbread ship well?",
            "How to make my pizza dough Soft?",
            "Greek yogurt substitute in baking?",
            "Autolyse with milk or substitute the milk?",
            "Reducing flour coating on flatbreads",
            "Amount of ingredients for 3 boxes of cake mix",
            "What is the difference between a wild yeast starter and a sourdough starter?",
            "How should I adjust the time and/or temperature when baking a pound cake in loaf pans",
            "Foamy cakey layer on top of lemon squares",
            "How to incorporate grape flavor in a chiffon cake?",
            "Angel Food Cake: crushed pineapple instead of sugar?",
            "Coconut Cookies have bitter underlying taste",
            "Characteristics of lupin and soy flours",
            "Heating part baked baguettes in lid-covered pyrex",
            "Adjusting yeast and rise times in recipes",
            "Fully baked cookies in a 90 F car",
            "What actually happens if you pour a glaze over a loaf cake before it has cooled?",
            "Ascorbic Acid, Calcium Propionate - Differences?",
            "Custard-like cake",
            "unable to bake runny batter recipes",
            "Comparing different binding agents (Konjac, Xanthan Gum, Guar Gum, Corn Flour)",
            "Multilayered brownie help",
            "In bakeries, what are the factors that make breads become hard?",
            "Pitaya Red Velvet Cake became brown",
            "Why did my cake go Offsided?",
            "How to proof croissants in the hot weather?",
            "Is cooking with an air fryer similar, nutritionally, to baking?",
            "Small black spot on sourdough starter",
            "Unpleasant crust on bread",
            "Presentation - How to make a Tiramisu to be photogenic?",
            "How do I follow a recipe if my oven doesn't go as high as the recipe states?",
            "How much lemon extract to substitute anise extract?",
            "Folding dry ingredients into the cake batter: at once or in 2/3 portions, does it make a difference?",
            "What is the benefit of a tinfoil packet?",
            "Are the terms self-rising flour and baking powder different in the US and UK?",
            "Baker's Angel Flake Coconut",
            "Lasagna won't cook properly in oven with no lower exposed element :(",
            "Do you leave the oven thermometer inside the oven while you are baking?",
            "Cooking with Hemp Protein Powder",
            "Why did my vegan croissants come out flat?",
            "How to adjust baking time and temperature for volume?",
            "Can using a poolish or biga preferment help me make a less dense wholemeal bread?",
            "Managing oven temperature",
            "About chicken and osmosis",
            "How could I split the proving and baking of bread over 8 hours plus?",
            "Replacement for Almond Milk",
            "Baking great chewy oatmeal cookies with Quaker Instant Oatmeal Fruit packs",
            "Granola from oat groats",
            "Chocolate cake recipe requires both baking powder and baking soda?",
            "When to add marzipan?",
            "How do I get my pizza dough base really crispy?",
            "Is it possible to freeze my own 'oven-fry' crumbed food items?",
            "Chiffon cake constantly has an unfilled bottom",
            "Gas oven heated from the bottom",
            "Yo-yo/custard cookies cracking",
            "Private Cooking Lessons",
            "What makes pie dough sticky?",
            "Puff Pastry vs Pie Crust",
            "Why does my cake get hard after baking?",
            "Sugar substitute for cake recipe",
            "What property does rice flour add to a shortbread recipe?",
            "Bread crust separated from interior",
            "Sour Dough Wet Dough",
            "Softened butter vs over softened butter",
            "How to convert cooking times",
            "Getting some rum into a commerical fruitcake",
            "How can I fix my grainy buttercream?",
            "Do pies baked in disposable pans turn out okay?",
            "Using whole eggs versus egg whites only",
            "How can I keep brownies from sticking to the pan?",
            "Does cooking or baking with honey make it toxic?",
            "How do I need to alter a recipe if I am using a convection oven?",
            "How do you test a cake or brownie with a toothpick?",
            "How can i convert all purpose flour to bread flour?",
            "what is a required temperature of water for foaming of yeast??",
            "How do i cook pizza dough before adding toppings?",
            "How do i make frozen pizza crispy and what temperature is required?",
            "Can we use baking powder instead of activated yeast for making pizza dough?if yes than in which proportion we can use it?",
            "How much oil do i use in place of butter in a cake?",
            "I love palm sugar, when can I bake with it",
            "Parchment vs baking paper",
            "Can I substitute...whole wheat for all-purpose flour for baked goods?",
            "Can i use vegetable oil instead of butter in cookies?",
            "Puff Pastry wet / gummy on the inside",
            "What are the basic tricks to prevent the bottom layer of cake from burn when making it without an oven?",
            "Why doesn’t my gas oven cook well?",
            "Baking more than 1 cut of meat at same time?",
            "How to bring eggs to room temperature fast while baking?",
            "Storing dry yeast in freezer?",
            "Difference between cooking apples and eating apples",
            "How far ahead can I bake puff pastry?",
            "Ideal Coffee Grind for dough-like recipes",
            "How long to bake a pre-baked ham?",
            "Potato chips lose crunch and taste within a week",
            "Using baking strips vs. submerging in a water bath",
            "How can I make cookies less dry and crumbly?",
            "How to bake cake in pressure cooker instead of microwave?",
            "Too much butter in pie crust",
            "Sweet roll dough",
            "How do I cook frozen fish in microwave?",
            "How to Avoid Soggy Chopped Nuts in Baked Goods",
            "Reference for Hydration Levels",
            "Glucose in sweet bread?",
            "How do I prevent mini cheesecakes from stick in muffin pan",
            "Can I make a sweet hot water crust pastry?",
            "Plum cake recipe",
            "How long to bake matzah, butter and sugar at a lower temperature",
            "Baguette style bread with seeds",
            "Weird-shaped jelly doughnuts",
            "How do I get something sticky like honey or Golden Syrup off measuring spoons or measuring cups? Is there a better way?",
            "Placing a cookie sheet under my pyrex baking dish in a convection oven",
            "How to get intended taste using baking powder instead of acid + baking soda?",
            "How to place nuts on top of the cake so that they stay symmetrically?",
            "Can i put yeast into cookie dough to make them thicker looking?",
            "How much gluten for soft, airy, enriched dough?",
            "Making Bacon Spirals",
            "Please suggest a substitute for espresso powder which is not made from coffee",
            "What happens to dough when sugar is added?",
            "Does it take longer to cook more pork ribs?",
            "How to make wafer paper?",
            "What happens to yeast in bread after it dies?",
            "Does Sugar Cook Eggs?",
            "Refrigerated sugar cookie dough",
            "Top of Dough \"Cracked\" During Cold Rise - is it bad?",
            "I want to make normal sandwich bread. What's the yeast called in an Italian supermarket?",
            "How to make Brie En Croute less rich/cheesy?",
            "How to make crescent rolls soft and fluffy?",
            "Quick breads in foil pans",
            "How to use a preferment / poolish? Cake vs ADY?",
            "Can fresh citrus juice be reduced to concentrate flavor?",
            "How to make rolls airier and crustier?"
           ],
           "legendgroup": "baking",
           "marker": {
            "color": "#636efa",
            "size": [
             1,
             2,
             1,
             1,
             1,
             2,
             4,
             3,
             4,
             1,
             1,
             1,
             3,
             1,
             1,
             1,
             0,
             2,
             1,
             0,
             1,
             2,
             1,
             1,
             1,
             0,
             3,
             2,
             3,
             4,
             1,
             2,
             0,
             1,
             1,
             2,
             1,
             0,
             1,
             1,
             2,
             3,
             1,
             1,
             3,
             1,
             0,
             1,
             2,
             2,
             1,
             1,
             2,
             1,
             2,
             2,
             2,
             0,
             1,
             2,
             2,
             1,
             1,
             2,
             1,
             1,
             2,
             1,
             1,
             0,
             1,
             1,
             3,
             2,
             1,
             4,
             3,
             1,
             1,
             2,
             2,
             1,
             1,
             2,
             1,
             1,
             1,
             0,
             2,
             3,
             1,
             1,
             2,
             1,
             2,
             3,
             1,
             2,
             3,
             2,
             1,
             2,
             1,
             0,
             2,
             1,
             1,
             1,
             1,
             3,
             3,
             1,
             0,
             1,
             1,
             2,
             1,
             3,
             1,
             0,
             4,
             2,
             2,
             4,
             2,
             2,
             2,
             0,
             2,
             1,
             3,
             1,
             1,
             1,
             1,
             2,
             0,
             1,
             1,
             1,
             1,
             1,
             1,
             1,
             1,
             2,
             1,
             4,
             1,
             1,
             2,
             1,
             2,
             1,
             1,
             2,
             1,
             1,
             1,
             1,
             1,
             3,
             1,
             1,
             1,
             1,
             1,
             1,
             1,
             1,
             2,
             1,
             2,
             1,
             15,
             1,
             1,
             1,
             0,
             1,
             3,
             6,
             1,
             1,
             3,
             1,
             2,
             1,
             2,
             1,
             1,
             1,
             2,
             1,
             2,
             0
            ],
            "sizemode": "area",
            "sizeref": 0.0525,
            "symbol": "circle"
           },
           "mode": "markers",
           "name": "baking",
           "orientation": "v",
           "showlegend": true,
           "type": "scatter",
           "x": [
            1,
            3,
            0,
            13,
            0,
            1,
            0,
            3,
            3,
            2,
            3,
            4,
            1,
            5,
            15,
            2,
            1,
            4,
            0,
            1,
            2,
            0,
            0,
            1,
            3,
            1,
            2,
            3,
            4,
            1,
            0,
            2,
            3,
            3,
            0,
            2,
            4,
            3,
            1,
            2,
            0,
            5,
            4,
            0,
            3,
            1,
            3,
            0,
            1,
            5,
            0,
            3,
            2,
            0,
            5,
            1,
            0,
            0,
            2,
            1,
            0,
            2,
            6,
            3,
            0,
            0,
            6,
            0,
            4,
            1,
            0,
            2,
            0,
            4,
            3,
            6,
            0,
            7,
            6,
            0,
            0,
            0,
            0,
            3,
            4,
            6,
            0,
            2,
            2,
            1,
            6,
            0,
            1,
            3,
            5,
            4,
            2,
            0,
            3,
            0,
            0,
            0,
            0,
            1,
            8,
            0,
            0,
            3,
            5,
            6,
            7,
            4,
            2,
            0,
            0,
            2,
            5,
            1,
            1,
            4,
            4,
            6,
            1,
            0,
            0,
            0,
            4,
            0,
            2,
            0,
            0,
            0,
            0,
            1,
            0,
            2,
            3,
            0,
            0,
            0,
            5,
            1,
            0,
            0,
            0,
            1,
            0,
            0,
            0,
            2,
            4,
            2,
            0,
            0,
            0,
            2,
            0,
            0,
            2,
            1,
            0,
            4,
            3,
            1,
            5,
            0,
            0,
            1,
            0,
            1,
            7,
            0,
            1,
            0,
            8,
            0,
            1,
            1,
            3,
            1,
            4,
            5,
            0,
            1,
            2,
            0,
            1,
            1,
            2,
            4,
            1,
            1,
            0,
            0,
            4,
            4
           ],
           "xaxis": "x",
           "y": [
            989,
            12076,
            4441,
            6948,
            4308,
            691,
            105047,
            2233,
            2838,
            688,
            2361,
            511,
            4262,
            620,
            616,
            915,
            133,
            475,
            135,
            586,
            822,
            60529,
            2892,
            144,
            155,
            141,
            19532,
            2902,
            645,
            1007,
            103,
            308,
            597,
            121,
            122,
            854,
            207,
            285,
            147,
            114,
            326,
            2588,
            2776,
            133,
            4366,
            207,
            56,
            1939,
            10374,
            5986,
            47,
            148,
            26119,
            23732,
            4201,
            141,
            303,
            176,
            127,
            278,
            69,
            65,
            1826,
            221,
            1808,
            132,
            9943,
            3525,
            1346,
            51,
            426,
            936,
            5505,
            7005,
            196,
            2354,
            3182,
            409,
            503,
            364,
            7593,
            325,
            791,
            104,
            1506,
            1070,
            224,
            90,
            1244,
            106,
            2640,
            525,
            2287,
            256,
            158,
            18247,
            205,
            1380,
            135,
            828,
            480,
            3751,
            3637,
            163,
            707,
            11354,
            558,
            163,
            704,
            371,
            13763,
            381,
            511,
            2352,
            174,
            2795,
            168,
            3635,
            1785,
            527,
            243,
            4290,
            6626,
            8729,
            141,
            6980,
            4542,
            68,
            2065,
            227,
            1266,
            8690,
            2399,
            10984,
            549,
            524,
            29,
            406,
            8172,
            70,
            12342,
            932,
            307,
            1174,
            1146,
            15182,
            581,
            11225,
            12431,
            3208,
            3788,
            54,
            213,
            164,
            446,
            6171,
            409,
            110,
            126,
            4687,
            1760,
            1405,
            4461,
            43,
            3723,
            81,
            307,
            403,
            570,
            1170,
            270,
            38,
            66,
            73,
            16837,
            3894,
            141,
            1825,
            54,
            847,
            271,
            13060,
            331,
            465,
            2977,
            582,
            1373,
            515,
            859,
            273,
            164,
            117,
            833,
            112,
            1377,
            224
           ],
           "yaxis": "y"
          },
          {
           "hovertemplate": "<b>%{hovertext}</b><br><br>Tags=bread<br>Year=2018<br>CommentCount=%{x}<br>ViewCount=%{y}<br>AnswerCount=%{marker.size}<extra></extra>",
           "hovertext": [
            "Can I par-bake French bread?",
            "how does bread fermentation change in relation to inital yeast weight, time and temperature?",
            "Sourdough recipe with vinegar",
            "Forgot the yeast in a brioche bread recipe",
            "Can I use whole milk instead of powdered milk?",
            "After baking, bread coated with shiny residue",
            "How to create Yellow Bread",
            "How do I stop my flatbread from going hard like pizza crust?",
            "How much gluten should I add to maida flour for bread, and how?",
            "Does waiting for bread to rise before baking change its nutrient composition?",
            "ziplock-type gallon bag to store my sour dough starter in the fridge.",
            "Sugar and Salt Solutions",
            "Converting sugars with yeast",
            "What causes a bread dough to become dense?",
            "If I double a bread recipe do I double the salt?",
            "What cheese might compliment New England clam chowder?",
            "How interchangeable are fats in yeast bread recipes?",
            "Can I blend pasta and add water to make bread or pizza dough?",
            "Baker’s ratio for crackers",
            "Making sourdough bread with just flour and water (and no starter)",
            "Should I put yeast in sweet bread?",
            "Sourdough starter hydration",
            "Issue getting Atta bread right",
            "Preserving bread with vinegar",
            "Artisan sourdough bread",
            "What are some ways to make caramel thin?",
            "How can I remove a stuck babka from a stoneware baking bowl?",
            "Sourdough starter not buoyant",
            "Adding Instant Yeast to dry bread mix for later use",
            "Making Easter Bread",
            "Sun light on sour dough starter",
            "What's the point of long/complex sourdough feeding techniques?",
            "No knead bread dough looking slimy after a week",
            "Working principle of a farinograph",
            "Bagels - Use of Barley Malt Syrup or Non-Diastatic Malt Powder",
            "Will an IPA beer work properly for beer bread?",
            "What is the English name for chleb bez maki?",
            "Adding malt powder to a conventional brown bread machine recipe",
            "Undercooked French Bread in Bread machine",
            "When to apply a white egg wash on white wheat bread?",
            "Is there a general algorithm for calculating the amount of yeast while making bread?",
            "How do I make my bread heavy when baked?",
            "What are some pros/cons of restarting a bread machine mid-cycle?",
            "About ripe bananas for banana bread",
            "Can I make bread/pizza dough with only cricket flour and no wheat flour",
            "What is the difference between a wild yeast starter and a sourdough starter?",
            "Was \"Pastry flour for bread\"",
            "Does room temperature affect rising time for bread dough?",
            "Bread is too moist in a humid climate",
            "Why do Injera recipes call for adding boiling water or cooking down tef with some water?",
            "Heating part baked baguettes in lid-covered pyrex",
            "Can I use cilantro instead of basil on a bruschetta?",
            "Problem with bread taste and smell",
            "Why did flatbread dominate the Middle East but Europe adopted raised breads?",
            "Why is tin loaf bread not usually scored like other forms of bread?",
            "Home-made Burger buns food safety",
            "Ascorbic Acid, Calcium Propionate - Differences?",
            "What's the function of acerola powder in bread?",
            "Why does this recipe call for so much yeast?",
            "Kneading dough by hand",
            "In bakeries, what are the factors that make breads become hard?",
            "Are there home bread machines that can make baguettes or boules?",
            "Does teff flour destroy gluten, and what do do about it?",
            "Substituting maple syrup for honey in bread",
            "Not feeding sourdough starter enough?",
            "Unpleasant crust on bread",
            "How do I follow a recipe if my oven doesn't go as high as the recipe states?",
            "Why does storing bread in a plastic (grocery) bag keep it fresh longer?",
            "The quest for the perfect croissant",
            "Must bread dough clear the side of the mixer using the hook?",
            "Why is my gluten so weak?",
            "Using Greek farina (cake flour) instead of yeast for making bread whilst combined with general puproce flour",
            "Can using a poolish or biga preferment help me make a less dense wholemeal bread?",
            "My mom says to knead bread doutgh after rising",
            "Freezing bread baked from frozen yeast bread dough",
            "How could I split the proving and baking of bread over 8 hours plus?",
            "My bread recipe book isn't linear with its ingredients?",
            "Over proofed dough still good?",
            "How to save a bread without enough water",
            "Freezing bread, sliced or whole",
            "What does sourdough starter REALLY need?",
            "Vinegar Smell from Sourdough Starter",
            "Bread crust separated from interior",
            "soft then stiff baguette dough",
            "Sour Dough Wet Dough",
            "Cast Iron Bread Tin is Leaving Black Spots on Bread?",
            "Are these tiny white dots on my bread mold?",
            "ratio of non diastatic malt powder to one pound of flour.",
            "Help with hand tossed pizza dough (like domino's)",
            "what is a required temperature of water for foaming of yeast??",
            "Can I make a gluten free sourdough bread?",
            "How do I know that the quantity of salt is enough for a given amount of flour?",
            "How can I save bread from mildew?",
            "Too much Baking Soda in Banana Bread",
            "How does the viscosity of honey affect bread machine results?",
            "Oven temperature when increase bread recipe?",
            "Glucose in sweet bread?",
            "How can we prevent the steaming of tiffin when we put chapatis in?",
            "Why slow ferment after shaping?",
            "Difficulty with frozen bread dough",
            "How much gluten for soft, airy, enriched dough?",
            "What happens to dough when sugar is added?",
            "Top of Dough \"Cracked\" During Cold Rise - is it bad?",
            "Quick breads in foil pans",
            "What to look for in a thermometer for bread making?",
            "How to use a preferment / poolish? Cake vs ADY?",
            "How to make rolls airier and crustier?"
           ],
           "legendgroup": "bread",
           "marker": {
            "color": "#EF553B",
            "size": [
             1,
             1,
             1,
             2,
             1,
             1,
             4,
             1,
             1,
             1,
             1,
             2,
             0,
             0,
             1,
             1,
             2,
             3,
             0,
             1,
             1,
             2,
             3,
             2,
             1,
             0,
             1,
             1,
             4,
             1,
             1,
             3,
             1,
             0,
             2,
             2,
             1,
             1,
             1,
             3,
             1,
             1,
             1,
             2,
             3,
             1,
             1,
             1,
             1,
             2,
             1,
             1,
             4,
             7,
             2,
             2,
             1,
             2,
             2,
             4,
             0,
             2,
             1,
             2,
             3,
             1,
             3,
             2,
             4,
             1,
             1,
             1,
             1,
             1,
             2,
             3,
             2,
             3,
             1,
             1,
             2,
             2,
             2,
             1,
             0,
             1,
             1,
             1,
             1,
             1,
             1,
             2,
             1,
             2,
             0,
             2,
             1,
             2,
             2,
             2,
             1,
             1,
             2,
             2,
             0,
             1,
             0
            ],
            "sizemode": "area",
            "sizeref": 0.0525,
            "symbol": "circle"
           },
           "mode": "markers",
           "name": "bread",
           "orientation": "v",
           "showlegend": true,
           "type": "scatter",
           "x": [
            0,
            0,
            0,
            1,
            0,
            2,
            0,
            3,
            0,
            1,
            2,
            1,
            2,
            3,
            2,
            0,
            2,
            0,
            3,
            0,
            2,
            0,
            5,
            10,
            1,
            3,
            1,
            0,
            2,
            1,
            0,
            3,
            0,
            6,
            2,
            5,
            5,
            0,
            3,
            6,
            0,
            6,
            1,
            0,
            5,
            2,
            4,
            2,
            6,
            0,
            6,
            1,
            8,
            5,
            0,
            3,
            0,
            3,
            6,
            3,
            2,
            7,
            3,
            0,
            2,
            3,
            4,
            0,
            0,
            0,
            2,
            4,
            0,
            1,
            0,
            6,
            3,
            2,
            0,
            0,
            2,
            0,
            4,
            0,
            0,
            0,
            0,
            0,
            7,
            0,
            0,
            4,
            0,
            2,
            1,
            1,
            1,
            0,
            1,
            1,
            1,
            0,
            2,
            0,
            2,
            0,
            4
           ],
           "xaxis": "x",
           "y": [
            4441,
            204,
            4308,
            668,
            39739,
            688,
            2611,
            2361,
            761,
            123,
            447,
            144,
            44,
            597,
            808,
            2406,
            611,
            1273,
            285,
            1071,
            114,
            326,
            2588,
            3502,
            207,
            56,
            85,
            1939,
            2566,
            98,
            3130,
            2368,
            286,
            301,
            26119,
            4201,
            171,
            391,
            1414,
            2802,
            195,
            1826,
            2134,
            2041,
            4042,
            936,
            410,
            12286,
            985,
            692,
            503,
            568,
            13935,
            18821,
            7376,
            161,
            791,
            1418,
            712,
            1587,
            90,
            569,
            510,
            7754,
            8131,
            256,
            18247,
            5953,
            971,
            212,
            3516,
            836,
            558,
            1435,
            532,
            371,
            259,
            3715,
            113,
            153,
            289,
            28014,
            4542,
            86,
            68,
            817,
            12384,
            1279,
            179,
            70,
            83,
            361,
            87,
            5503,
            56,
            160,
            403,
            570,
            912,
            354,
            847,
            331,
            859,
            833,
            51,
            112,
            224
           ],
           "yaxis": "y"
          }
         ],
         "name": "2018"
        },
        {
         "data": [
          {
           "hovertemplate": "<b>%{hovertext}</b><br><br>Tags=baking<br>Year=2019<br>CommentCount=%{x}<br>ViewCount=%{y}<br>AnswerCount=%{marker.size}<extra></extra>",
           "hovertext": [
            "What is this bread making technique called?",
            "Scalloped potatoes and oven fried pork copsihave scl",
            "How to make bun with my oven",
            "the oil I put in cake mix is old",
            "How to \"Sponge\" in \"Sponge and Dough\"?",
            "Schichttorte; a 20 layer German broiled cake",
            "Freeze dried blueberries vs frozen blueberries?",
            "Olive oil instead of peanut oil to air fry potato?",
            "My homemade sourdough bread tastes bitter after letting it stay for one day",
            "No Demerara sugar",
            "Underside of dough in proofing basket pulls apart",
            "Can I bake 2 cakes at a time on 2 different shelves in my oven toaster grill?",
            "When to add eggs in brioche?",
            "Banana bread edges are burnt, top and middle is underdone",
            "salamande(?): name of bread",
            "can i use candiquik in baking recipes?",
            "Fan oven temperatures",
            "Donut-style Glaze Cracking",
            "What way to incorporate sugar into dough for millefeuille is better?",
            "Temperature of Electric Fan Ovens",
            "Recipe interpretation",
            "How can I bake Cannelés more evenely with a big silicon pan?",
            "How do you know if your starter is powered mainly by yeast or bacteria?",
            "Stodgy crumpet-like crumb in overnight white",
            "Should I preheat glass and ceramic pans before baking bread?",
            "Why using ammonia bicarbonate and baking powder for deep fried bakery product?",
            "What kind of reaction when you combine sodium bicarbonate and sodium acid pyrophosphate?",
            "Why are sourdough crusts thicker?",
            "What makes cake a Sponge Cake? And what doesn't?",
            "Can acetate sheets be put in the oven?",
            "Plastic Bowl for Bread",
            "Preserving sweetness during baking without sugar",
            "Can I add cocoa butter to white chocolate chips to promote a smoother melt?",
            "Why are my cookies spreading too much? More flour?",
            "Can frozen egg whites be used in a macaron recipe?",
            "Converting yeast amounts from old recipes",
            "Alternative Binding Ingredient for Sugar in Flapjacks? (British style)",
            "Pears caused uneven bake - how to stop this?",
            "What is the difference between a lemon pound cake, a lemon loaf, and a lemon bread?",
            "Is margarine necessary for my brownies?",
            "What causes the chemical taste in commercial bakery products?",
            "1 baking pan, dough for 2 loaves. What do?",
            "How can I portion out frozen cookie dough?",
            "Good qualities of ovens/microwaves for baking cake",
            "Baking chicken while respecting maximum olive oil temperature",
            "Why is gluten-free baking possible?",
            "Shelf life of homemade self-rising flour?",
            "Substitute for vanilla caster sugar",
            "Do I need to boil flax seed egg substitute?",
            "Can I save an undercooked loaf of pumpernickel?",
            "bread dough rising without airing cupboard",
            "Are there disadvantages to storing bread in a vacuum box?",
            "Dry Cookie Dough",
            "Is boiling or pouring better for emulsifying chocolate ganache",
            "Why are amaretti mixed as they are?",
            "Why are croissants brushed twice with egg glaze?",
            "Why combine AP flour and bread flour?",
            "Why refrigerate bagels after shaping dough?",
            "Can you make croissants with compound butter?",
            "Is no-knead bread method compatible with stretch and fold during the bulk rise?",
            "Baked Apple Fritter",
            "Property of Bread Dough",
            "Can I use both racks at the same time to bake chicken wings?",
            "Baking Bread in a Dutch Oven",
            "Subsituting mango puree for bananas in banana bread",
            "Mixed-Up cake recipe instructions",
            "Why does my bread ferment in the middle?",
            "Choux pastry, general questions with gluten free flour",
            "Baking baguettes",
            "What is the upper limit of cake pan size before I definitely need a tube cake pan of angel food cake?",
            "Making brownies but don't have a hand whisk? Can i substitute with electric mixer?",
            "Can I turn a betty crocker angel cake mix into a normal sponge?",
            "How to make cookies crispy?",
            "What to use instead of cling film to wrap pastry",
            "No Knead Bread comes out a tad gummy only in the center",
            "Can I freeze rolled out pie dough",
            "What to do with wet sourdough mix which was left to proof 10h?",
            "Sponge Cake vs (UK) Angel Cake: what's the difference",
            "Biscotti with chocolate drizzle in batter",
            "Should pressure only be applied at the top of a pastry bag?",
            "How to achieve a super leavened cake as the Pierre Herme ones?",
            "The dough in my bread maker collapses just after cooking starts",
            "How to make a good looking cake with a mountain like shape?",
            "How to make firm cheescake?",
            "Is \"blooming\" cocoa necessary in baked goods?",
            "Dough/filling ratio in tart",
            "How can I tell the difference between unmarked sugar and stevia?",
            "Why is baking soda included in sourdough cracker recipe?",
            "Fast meringue technique",
            "Can you eat beans after using them as pie weights?",
            "Can I utilise a baking stone to make crepes?",
            "How can I make a soft Turkish bread?",
            "Why is my Taiyaki (Cake that looks like a fish) too hard and dry?",
            "Very very soft bread",
            "Puff pastry for cream horns",
            "Genoise vs whipped egg whites - which makes cakes fluffier?",
            "Is iodized salt unsuitable for baking bread?",
            "Sourdough starter with milk vs just using regular starter and adding milk separately?",
            "Why would the exterior of a cake cook and not the interior?",
            "Why is my boneless beef tough and unedible?",
            "Fully submerged water bath for stove top baking?",
            "What cuts of meat are preferable when you want to avoid drying out?",
            "Unscored loaf is sealing up",
            "What would be the best order for folding whipped egg whites and yolks into cookie dough?",
            "How do I salvage this bread dough?",
            "Turning focaccia upside down before topping",
            "What part of oatmeal cookies are making them soft / chewy?",
            "When to add the rye flour if it really makes a difference?",
            "How to get the effect of gluten in gluten free baking",
            "How can I soak cake in cheese?",
            "If only one choice - convection microwave, convection oven, regular micro, conventional oven?",
            "Is there a difference in the end result between using mechanical leaveners vs chemical leaveners in a cake?",
            "Cupcake Papers Peeling away",
            "How to keep the bottom of my bread from getting burned?",
            "how to get maximum amount of rise for shaped pizza",
            "mixing dry yeast, water, salt and flour",
            "Beating egg whites over a double boiler for increased leavening?",
            "I would like a vanilla powder type to substitute for cocoa powder",
            "FLOUR tortillas as a crust?",
            "Left Hot fudge on counter overnight",
            "Is it possible to cream clarified butter with sugar? Will it have the same benefits as shortening and oil?",
            "Can frozen (fresh) flower petals be used in baking the same as unfrozen fresh petals?",
            "Making clarified butter by removing water but not the milk solids?",
            "thickening cream",
            "Creaming butter seperately on its own, then adding the sugar and beating them together vs simply creaming butter and sugar together (the regular way)?",
            "How to make croutons crunchier throughout without burning?",
            "Can you inject carbon dioxide/nitrogen into a dough/batter to provide leavening? Or use dry ice/liquid nitrogen?",
            "Are there any ingredients I should not add to a no-knead dough with an extended proofing time?",
            "What ingredient should I add to my cookies to increase shelf life?",
            "Were are they? Are there even any?",
            "Cashew flour in Kaju Katli",
            "Removing sugar from baking recipes",
            "Where should heat comes from when baking brownies?",
            "What would happen if I made angel food cake with whipped cream instead of whipped egg whites?",
            "Baking with Whey Protein",
            "What is the most effective method to prevent a soggy shortcrust quiche base?",
            "What is \"White Moist Sugar\"?",
            "What is the minimum time home baked bread should be left to cool before eating?",
            "Pizza browning agent substituting proportion",
            "Swap for Cake Margarine in the U.S.?",
            "When dissolving natural organic yeast in water, is it supposed to bubble?",
            "Difference between types of yeast",
            "How can I use left over crumble topping?",
            "How to bake baking soda to produce sodium carbonate?",
            "Will adding whole wheat flour make cookies as chewy as using high gluten flour?",
            "Using beef fat for baking",
            "How long after the expiry date can I use Chipits Skor toffee bits",
            "Ways to Make Matcha Powder Less Bitter in Baking?",
            "Teaching Bread Making to a young student- need new reasources",
            "Baked Red Potatoes cooked skin up or down (crisped results wanted)",
            "Reheatable pizza dough",
            "Why is my cake rising sideways while baking?",
            "Bread machines and low altitude my bread won't rise!",
            "Baking Powder, Baking Soda, and Yeast",
            "How to check on something baking in oven",
            "Is this a Confectionery Ganache frame?",
            "Parchment paper around a cheesecake?",
            "Ascorbic Acid (Vit C powder) with Baking Soda = Single Acting Baking Powder?",
            "scaling of kneading when scaling bread recipies",
            "What gives the sponginess of a Chiffon Cake?",
            "Can you add rice flour to pastries to make them flakier?",
            "sweet stones of Perosa",
            "Oat bran flour instead of oat flour",
            "Wood versus marble rolling pin 'performance'",
            "Does shaping dough require punching/folding it?",
            "Sour cream pound cake",
            "Can a microwave oven cook chicken?",
            "What is an optimal way to make tandoori roti and naan in big green egg?",
            "Why do i get flat and crack french macaron tops",
            "8x12 vs 9x13 for casserole dish?",
            "What's the point of the first action in double-acting baking powder?",
            "What ingredients can I add to no-knead bread to extend its life?",
            "Does milk make cakes lighter or tougher?",
            "Can I double a pumpkin pie recipe for 10 x 2 inch pan?",
            "Should there be any problem cooling Mysore Pak outside a refrigerator?",
            "How do I add a strawberry swirl to my cheesecake without cracks and craters?",
            "Why are bread pans rectangular?",
            "How much can I change a NY cheesecakes recipe?",
            "How can i bake multiple kinds of cheesecake at the same time in a spring-form pan?",
            "Is it safe to bake dough in a microwave?",
            "Preventing Warping when Roasting at High Temperature",
            "How to not make my macarons rip?",
            "What is the difference between using hot water and cold water when making regular pastry?",
            "Commercial part-baked baguettes",
            "Can I substitute salted for unsalted butter in chocolate fudge?",
            "When can I use a cake recipe to make muffins?",
            "Two identical dishes - how do I adjust temp and time for two 9x13 pans instead of just one?",
            "Baking and a rotten egg was cracked into mix :(",
            "Flour/Instant Dry Yeast Ratio in Thin Pizza Dough",
            "Substitute wet milk for dry milk",
            "Why did one pecan pie end up with a dark center after baking while the other pie came out perfect, same batter same cook time?",
            "How much time and temperature do I add when making 140% of a quick bread recipe?",
            "How are powdered emulsifiers (such as monoglycerides) prepared for use in cooking and baking?"
           ],
           "legendgroup": "baking",
           "marker": {
            "color": "#636efa",
            "size": [
             2,
             1,
             2,
             1,
             3,
             1,
             3,
             1,
             0,
             0,
             1,
             1,
             1,
             2,
             1,
             1,
             1,
             1,
             1,
             3,
             3,
             1,
             1,
             1,
             1,
             2,
             1,
             1,
             4,
             1,
             2,
             1,
             2,
             2,
             2,
             2,
             1,
             1,
             2,
             2,
             1,
             3,
             7,
             2,
             1,
             1,
             1,
             1,
             1,
             1,
             1,
             2,
             1,
             2,
             1,
             1,
             2,
             1,
             1,
             1,
             1,
             1,
             2,
             1,
             2,
             1,
             2,
             2,
             1,
             1,
             2,
             1,
             1,
             7,
             0,
             1,
             1,
             2,
             1,
             2,
             3,
             7,
             0,
             1,
             1,
             0,
             7,
             3,
             1,
             1,
             3,
             1,
             3,
             1,
             1,
             1,
             1,
             1,
             2,
             2,
             3,
             2,
             1,
             2,
             1,
             1,
             2,
             1,
             1,
             1,
             1,
             1,
             0,
             0,
             2,
             2,
             2,
             0,
             2,
             1,
             1,
             1,
             3,
             1,
             0,
             3,
             1,
             2,
             2,
             1,
             1,
             3,
             1,
             1,
             3,
             2,
             1,
             2,
             1,
             2,
             2,
             2,
             1,
             3,
             0,
             1,
             2,
             2,
             2,
             1,
             1,
             3,
             0,
             2,
             1,
             1,
             2,
             1,
             2,
             1,
             0,
             2,
             1,
             4,
             4,
             1,
             5,
             1,
             0,
             3,
             2,
             2,
             3,
             2,
             3,
             2,
             2,
             2,
             1,
             1,
             2,
             1,
             1,
             1,
             2,
             1,
             1,
             1,
             2,
             0,
             1,
             2,
             1
            ],
            "sizemode": "area",
            "sizeref": 0.0525,
            "symbol": "circle"
           },
           "mode": "markers",
           "name": "baking",
           "orientation": "v",
           "showlegend": true,
           "type": "scatter",
           "x": [
            0,
            0,
            3,
            0,
            0,
            3,
            1,
            2,
            1,
            5,
            0,
            3,
            3,
            4,
            8,
            0,
            0,
            0,
            1,
            0,
            4,
            3,
            4,
            4,
            0,
            0,
            1,
            6,
            3,
            3,
            0,
            12,
            3,
            1,
            0,
            0,
            3,
            4,
            1,
            1,
            2,
            0,
            1,
            7,
            4,
            4,
            4,
            0,
            1,
            3,
            4,
            10,
            4,
            0,
            1,
            0,
            1,
            2,
            0,
            0,
            0,
            1,
            0,
            0,
            2,
            5,
            8,
            4,
            3,
            0,
            1,
            2,
            4,
            15,
            7,
            0,
            5,
            2,
            0,
            0,
            1,
            7,
            5,
            2,
            3,
            2,
            1,
            1,
            8,
            4,
            1,
            8,
            4,
            0,
            1,
            8,
            1,
            1,
            4,
            7,
            5,
            1,
            2,
            9,
            0,
            3,
            0,
            0,
            4,
            2,
            2,
            0,
            0,
            4,
            12,
            4,
            0,
            6,
            2,
            0,
            0,
            2,
            2,
            6,
            9,
            0,
            0,
            1,
            1,
            2,
            0,
            0,
            4,
            0,
            0,
            1,
            1,
            2,
            5,
            0,
            4,
            0,
            2,
            4,
            2,
            1,
            0,
            7,
            3,
            1,
            9,
            8,
            5,
            1,
            0,
            2,
            4,
            3,
            0,
            1,
            4,
            9,
            0,
            0,
            0,
            2,
            19,
            0,
            1,
            0,
            0,
            3,
            3,
            1,
            0,
            2,
            2,
            2,
            4,
            6,
            1,
            6,
            4,
            0,
            3,
            0,
            2,
            4,
            3,
            3,
            2,
            0,
            2
           ],
           "xaxis": "x",
           "y": [
            178,
            52,
            2688,
            190,
            849,
            118,
            5732,
            209,
            603,
            1097,
            172,
            2520,
            533,
            17986,
            400,
            262,
            191,
            443,
            74,
            473,
            221,
            123,
            1286,
            825,
            5186,
            1023,
            166,
            711,
            12601,
            753,
            5473,
            385,
            1716,
            964,
            1136,
            3719,
            728,
            116,
            3923,
            5779,
            1326,
            5070,
            3637,
            198,
            297,
            515,
            571,
            623,
            117,
            175,
            476,
            3990,
            509,
            115,
            241,
            1241,
            2315,
            546,
            685,
            314,
            71,
            81,
            4919,
            262,
            492,
            146,
            304,
            241,
            215,
            105,
            6206,
            1155,
            160,
            22907,
            201,
            140,
            426,
            838,
            52,
            208,
            738,
            11483,
            102,
            111,
            1664,
            174,
            25308,
            752,
            251,
            1484,
            3225,
            577,
            3751,
            249,
            345,
            318,
            1500,
            1261,
            155,
            462,
            2764,
            238,
            172,
            1268,
            205,
            219,
            258,
            79,
            139,
            191,
            1012,
            206,
            62,
            43,
            826,
            4318,
            1225,
            777,
            90,
            2993,
            494,
            107,
            465,
            168,
            128,
            1035,
            411,
            117,
            1198,
            111,
            116,
            526,
            8926,
            88,
            3124,
            128,
            681,
            20178,
            720,
            141,
            3891,
            1032,
            282,
            1158,
            159,
            555,
            2090,
            1051,
            117,
            74,
            152,
            3025,
            273,
            1161,
            148,
            743,
            5361,
            889,
            630,
            85,
            123,
            150,
            1611,
            8721,
            919,
            72,
            10257,
            559,
            59,
            339,
            782,
            207,
            17049,
            669,
            965,
            352,
            348,
            2720,
            1865,
            3215,
            215,
            1083,
            2487,
            1049,
            3339,
            393,
            293,
            1348,
            1408,
            359,
            78,
            2910,
            116
           ],
           "yaxis": "y"
          },
          {
           "hovertemplate": "<b>%{hovertext}</b><br><br>Tags=bread<br>Year=2019<br>CommentCount=%{x}<br>ViewCount=%{y}<br>AnswerCount=%{marker.size}<extra></extra>",
           "hovertext": [
            "What is this bread making technique called?",
            "How to spread dried blueberries evenly when using bread machine?",
            "How to \"Sponge\" in \"Sponge and Dough\"?",
            "Freeze dried blueberries vs frozen blueberries?",
            "What is the purpose and effect of using knuckles when kneading bread dough?",
            "My homemade sourdough bread tastes bitter after letting it stay for one day",
            "Does package yeast inhibit wild fermentation?",
            "Is there a way to make this bread recipe's crust less crunchy?",
            "Why does the water in the recipe for dough making not have a definite temperature or an advise about temperature?",
            "Underside of dough in proofing basket pulls apart",
            "handling sticky bread dough",
            "My Challah is bland",
            "When to add eggs in brioche?",
            "Banana bread edges are burnt, top and middle is underdone",
            "salamande(?): name of bread",
            "Croutons from scratch?",
            "Recreating a bread",
            "Stodgy crumpet-like crumb in overnight white",
            "Should I preheat glass and ceramic pans before baking bread?",
            "How to compensate for high altitude when baking bread in a bread machine?",
            "Why are sourdough crusts thicker?",
            "How to apply ascorbic acid ppm in bread baking?",
            "Converting yeast amounts from old recipes",
            "Different sourdough starter behavior based on starter composition?",
            "1 baking pan, dough for 2 loaves. What do?",
            "Bread proofing times fridge versus room temp",
            "Can I save an undercooked loaf of pumpernickel?",
            "Are there disadvantages to storing bread in a vacuum box?",
            "Why are croissants brushed twice with egg glaze?",
            "Why refrigerate bagels after shaping dough?",
            "Is no-knead bread method compatible with stretch and fold during the bulk rise?",
            "Property of Bread Dough",
            "Baking Bread in a Dutch Oven",
            "Subsituting mango puree for bananas in banana bread",
            "Can I find out the caloric content of bread by dehydrating it?",
            "Why does my bread ferment in the middle?",
            "What to do if bread dough became hard in the refrigerator",
            "Egg YOLK replacement?",
            "Can I substitute bread flour for bread machine flour?",
            "Gluten-free and egg-free yeast bread",
            "What to do with wet sourdough mix which was left to proof 10h?",
            "My sourdough splits at final proofing (pic included), advice?",
            "The dough in my bread maker collapses just after cooking starts",
            "What the gluten look like when kneading for long time on a texture basis",
            "How bakeries do a soft crust breads and making the same at home will result in a crisp crust?",
            "no-knead pizza. When is it supposed to raise? which flour is the best?",
            "Getting sourdough to rise not spread",
            "Is core temperature a good indicator of bread doneness",
            "Poolish deflated after refrigeration",
            "Why did my bread bake on the top like spongs and higher than the bucket in the bread maker?",
            "Can you mix white and multigrain flours?",
            "How can I make a soft Turkish bread?",
            "Is there a kind of food like bread that I can use to absorb sauce but that doesn't dry out so fast?",
            "Can I give my friend the sour dough \"throw away\" as a starter to their sourdough starter?",
            "Bread machine bread dough",
            "Very very soft bread",
            "Is iodized salt unsuitable for baking bread?",
            "Sourdough starter with milk vs just using regular starter and adding milk separately?",
            "Bread Cooktime Calculator",
            "Fully submerged water bath for stove top baking?",
            "Is whole grain rye supposed to taste so coarse?",
            "Unscored loaf is sealing up",
            "Kneading bread dough",
            "How do I salvage this bread dough?",
            "How to make homemade bread machine mixes for long-term store?",
            "Turning focaccia upside down before topping",
            "Why should i add the butter after i knead the main ingredients when making a bread?",
            "When to add the rye flour if it really makes a difference?",
            "I bought multigrain bread from the store last week (panera brand) and it has white smelly patch",
            "What kind of dough staple is easiest to make, for soaking in mussel juices? No oven, eggs, milk",
            "Dry milk powder subsitute",
            "Can't seem to get my rye sourdough starter really going",
            "How to keep the bottom of my bread from getting burned?",
            "Bread dough gluten not fully developed before hitting desired dough temperature",
            "Did I underbake my bread?",
            "Storing cooked food in ziploc",
            "Can I deep-freeze bread, rolls and other baking?",
            "Can frozen (fresh) flower petals be used in baking the same as unfrozen fresh petals?",
            "Will an airtight container negatively affect yeast growth / dough expansion?",
            "Collapsing bread",
            "How to make croutons crunchier throughout without burning?",
            "How to get a open crumb bread without a starter",
            "Why do tomatoes react with sourdough starter?",
            "What is the minimum time home baked bread should be left to cool before eating?",
            "Is it more effective to add yeast before or after kneading?",
            "How can I cover an egg-washed dough?",
            "bread maker vs conventional oven vs countertop oven vs fan force oven?",
            "Teaching Bread Making to a young student- need new reasources",
            "What is the Best wash or glaze for bread when trying to achieve a crunchy crust on Rolls",
            "Heritage Wheat flours- Hydration?",
            "Bread question regarding malt",
            "Milk instead of water in bread",
            "Sourdough calculator",
            "18 hours fermentation of Biga",
            "Making bread fast and with few ingredients",
            "Salt in dry ingredients versus salt in water?",
            "Does brown sugar draw moisture from cimmamon buns which makes them dry out fast?",
            "Does shaping dough require punching/folding it?",
            "How to have a yeast bread dough rise in a cool space",
            "Making pita more chewy/ rubbery",
            "Should I add baking soda if the yeast in bread dough is not working?",
            "What is an optimal way to make tandoori roti and naan in big green egg?",
            "What ingredients can I add to no-knead bread to extend its life?",
            "Can I substitute yeast with baking soda/powder for my bread dough?",
            "White corner in freshly baked whole wheat bread",
            "Why are bread pans rectangular?",
            "How much should a poolish increase in size?",
            "Why does my bread taste like flour?",
            "Why is my white bread with poolish dough very loose?",
            "What is the trick to kneading silk smooth bread?",
            "Can I use baking powder in place of baking soda for dipping pretzels?",
            "Commercial part-baked baguettes",
            "Help making multigrain bread for first time",
            "Why doesn't milk create gluten when combined with flour?",
            "Substitute wet milk for dry milk"
           ],
           "legendgroup": "bread",
           "marker": {
            "color": "#EF553B",
            "size": [
             2,
             2,
             3,
             3,
             5,
             0,
             1,
             4,
             1,
             1,
             1,
             1,
             1,
             2,
             1,
             2,
             2,
             1,
             1,
             2,
             1,
             4,
             2,
             1,
             3,
             2,
             1,
             2,
             1,
             1,
             1,
             1,
             1,
             2,
             4,
             2,
             1,
             1,
             1,
             1,
             1,
             1,
             7,
             1,
             2,
             1,
             2,
             1,
             1,
             1,
             1,
             1,
             3,
             2,
             1,
             1,
             1,
             1,
             0,
             3,
             0,
             1,
             2,
             1,
             1,
             1,
             2,
             1,
             1,
             4,
             3,
             2,
             0,
             0,
             1,
             1,
             0,
             1,
             2,
             1,
             3,
             5,
             1,
             2,
             4,
             1,
             3,
             2,
             1,
             0,
             1,
             1,
             1,
             2,
             3,
             1,
             0,
             4,
             0,
             1,
             1,
             1,
             2,
             1,
             1,
             2,
             1,
             2,
             1,
             1,
             1,
             1,
             2,
             2,
             0
            ],
            "sizemode": "area",
            "sizeref": 0.0525,
            "symbol": "circle"
           },
           "mode": "markers",
           "name": "bread",
           "orientation": "v",
           "showlegend": true,
           "type": "scatter",
           "x": [
            0,
            0,
            0,
            1,
            0,
            1,
            3,
            4,
            1,
            0,
            1,
            4,
            3,
            4,
            8,
            4,
            3,
            4,
            0,
            1,
            6,
            0,
            0,
            2,
            0,
            0,
            3,
            10,
            0,
            2,
            0,
            1,
            0,
            2,
            2,
            8,
            5,
            5,
            0,
            1,
            5,
            3,
            7,
            0,
            0,
            3,
            3,
            4,
            0,
            3,
            0,
            8,
            9,
            5,
            0,
            0,
            1,
            1,
            2,
            5,
            2,
            2,
            2,
            0,
            0,
            3,
            0,
            0,
            4,
            8,
            6,
            2,
            4,
            4,
            2,
            3,
            9,
            2,
            1,
            7,
            0,
            4,
            7,
            2,
            1,
            1,
            0,
            3,
            7,
            3,
            5,
            5,
            3,
            2,
            8,
            1,
            2,
            0,
            3,
            0,
            2,
            0,
            3,
            1,
            3,
            2,
            2,
            6,
            0,
            0,
            3,
            0,
            0,
            2,
            3
           ],
           "xaxis": "x",
           "y": [
            178,
            131,
            849,
            5732,
            2649,
            603,
            175,
            284,
            153,
            172,
            114,
            555,
            533,
            17986,
            400,
            135,
            371,
            825,
            5186,
            204,
            711,
            4219,
            3719,
            130,
            5070,
            12923,
            175,
            3990,
            1241,
            546,
            314,
            81,
            262,
            492,
            1837,
            304,
            3210,
            2138,
            387,
            113,
            426,
            2185,
            11483,
            109,
            3844,
            174,
            6606,
            702,
            2546,
            104,
            76,
            577,
            549,
            16107,
            124,
            249,
            1500,
            1261,
            98,
            2764,
            107,
            172,
            268,
            205,
            561,
            219,
            1364,
            79,
            7814,
            192,
            1429,
            2411,
            43,
            48,
            1555,
            98,
            89,
            107,
            8237,
            239,
            1035,
            3568,
            255,
            20178,
            3791,
            719,
            755,
            117,
            203,
            41,
            809,
            38105,
            288,
            2809,
            2561,
            307,
            49,
            919,
            41,
            1040,
            3341,
            559,
            207,
            2367,
            248,
            348,
            4170,
            8054,
            792,
            449,
            14038,
            1049,
            105,
            4736,
            359
           ],
           "yaxis": "y"
          }
         ],
         "name": "2019"
        },
        {
         "data": [
          {
           "hovertemplate": "<b>%{hovertext}</b><br><br>Tags=baking<br>Year=2020<br>CommentCount=%{x}<br>ViewCount=%{y}<br>AnswerCount=%{marker.size}<extra></extra>",
           "hovertext": [
            "Adjusted cooking time for an already-baked pie shell",
            "Gluten formation in cake dough",
            "The secret to crispy sourdough waffles?",
            "Should I mix vanilla sugar with wet or dry ingredients?",
            "How to cook fried potatoes in a No Fry Cooker?",
            "How to make a more apple-y apple cider yeast bread",
            "Can I bake a cheesecake using only a water bath?",
            "How much cream can whip at once?",
            "Yorkshire pudding - how do the proportions of the ingredient affect shape, texture and taste?",
            "Why does my cake lack air bubbles and looks like a molten mass?",
            "How are food dyes affected by heat and ingredients?",
            "Putting freeze dried strawberry into my soft cookies,the texture is more like cake -how to make it more chewy",
            "Can I use pearl barley instead of rice in baked rice pudding?",
            "What would \"Disintegrant\", \"Ammonium\", or the units of measure \"glass\" or \"gl\" mean in a non-American book?",
            "Croissant baking temperature",
            "How to remove husk from grain?",
            "What is the best ingredient to add to a normal French toast recipe to make it taste pumpkin flavored?",
            "Maximum oven temperature for glass cookware",
            "Baking 2 dishes needing slightly different temperatures and time",
            "Baking in oven after machine kneading",
            "Substitute Milk for Water in Bread",
            "Can I make a sourdough boule, freeze it then thaw it and bake it?",
            "The bread is brighter than usual",
            "What to use to separate layers of dough?",
            "What going to happen to Dulche De Leche during baking?",
            "Why are my cookies undercooked in commercial oven?",
            "Questions about the how and when of baking homemade sourdough bread",
            "How can I alter this high-protein brownie recipe?",
            "Is Erythritol acid or alkaline and what is it's pH compared to brown sugar?",
            "How can I use pollen?",
            "My soft chocolate cookies are soft but still too crumbly. How should I fix it?",
            "Is sugar a necessary ingredient to feed yeast?",
            "How long should I bake the pizza in a microwave oven?",
            "How does one alter a recipe that calls for one fruit with another fruit of differing water content?",
            "Bread won't rise during proof after overnight fermentation",
            "Fluffy French Toast",
            "Is it possible to make \"finely ground corn flour\"?",
            "Does liquid temperature matter when making bread in a bread maker?",
            "can you refrigerate risen bread dough",
            "Low fat muffins won't rise",
            "Does my \"bagel flour\" need malt powder added?",
            "Question about safety of eating cooked bread if it is over or under-proofed",
            "How can I best bake cookies from cold dough?",
            "Bagels: Flat, no rise, gummy inside. Over kneading?",
            "Can I substitute corn syrup for honey in bread?",
            "Is it necessary to follow the suggested order in this challah recipe?",
            "How do I adjust apple crisp cooking time for muffin-size crisps?",
            "Ciabatta with no air bubbles",
            "What's the proper way to package dough?",
            "Melted vs softened butter in cake recipes",
            "Too much water in cake mix but it’s already baking! What should I do?",
            "I am making an apple crisp and need to know how much salt I need for 4 tsps baking powder",
            "What energy efficient options are there for small baking quantities?",
            "How do I reverse my cake-like brownies to chewy?",
            "I baked breads, rolls, pizzas, marinated meats starting with a cold oven to use less energy. Is my “strategy” unpromising when baking sweet desserts?",
            "Dry milk substitutions?",
            "Why does Lasagna need to be baked?",
            "Making Dough: Preferment + Cold Rise - Necessary?",
            "How can I make cakes in 20Ltr ONIDA Black Diamond conventional microwave oven?",
            "How can I bake this \"filled pretzel\"?",
            "Substitute for demerara sugar in cookie recipe",
            "Can you sub collagen protein for whey protein isolate in baking?",
            "Help! I poured the syrup over my Baklava before I baked it. Is it ruined?",
            "Shaping baguettes using three folds vs. rolling it up?",
            "Water on top of biga",
            "How to use sourdough starter?",
            "Can I make \"starter\" with active dry yeast?",
            "Weight of a large egg",
            "Using melted butter vs rubbing it into flour?",
            "Using stainless steel utensiles on aluminum",
            "Very Sticky Dough Before Kneading",
            "Which sourdough starter should i keep?",
            "Bread Didn't Turn Brown",
            "White dots on pizza or focaccia after baking",
            "Using powdered salt vs regular",
            "Can I broil a box cake in the oven?",
            "My Italian meringue macarons won’t stop coming out hollow",
            "Will I be able to cook my mac & cheese until it's brown if my cheese sauce is thick",
            "Should we start making dough with water or with flour?",
            "Can you fold dough during autolyse?",
            "What is the optimal autolyse time for sourdough?",
            "Too much sugar - HELP",
            "Can I halve a macaron recipe and expect the same cooking temperature and time?",
            "Why are my croissants heavy?",
            "Why is my brioche dry?",
            "Would carbonated water be a good substitute for two eggs in this cherry loaf recipe?",
            "How much baking powder or soda can I add to cookies without the taste being affected?",
            "how do you thicken cheese fillings so it doesnt melt when baking",
            "Can I make up for under-proving my bread dough during the first rise by doing an extra long second rise?",
            "I added olive oil to my cake, but I haven’t baked it yet",
            "Why is ciabatta poolish usually made with instant yeast?",
            "My buns/bread don't brown from top?",
            "Can I use less sugar for making this bread?",
            "Is it ok to use milk that incubated for 12 hours but did not set for yogurt in baked goods?",
            "Can I adapt a baking recipe for a Dutch Oven to a Casserole Dish?",
            "Can i refrigerate bread doughs twice before baking?",
            "How to grow baker's yeast (Saccharomyces cerevisiae) at home without creating a sourdough starter?",
            "Solutions of making cookies less crumbly and dough not being able to be shaped into balls?",
            "Dough failed to rise",
            "How to clean up after kneading dough?",
            "How can I substitute dutch chocolate cocoa for flour and maintain proper recipe PH in this cookie recipe?",
            "What to be mindful of with cake flour",
            "Blind baking: Does the choice of weights matter?",
            "Soda Bread disaster",
            "How can I skin hazelnuts at home?",
            "Why do baking recipes often tell you to \"make a well\" in flour before adding wet ingredients?",
            "What are these white spots in my bread dough?",
            "Rule of thumb for conventional oven baking vs. grilling kebabs (ground meat &",
            "Swapping sugar for something less calorie dense but keeping the volume",
            "Do eggs have to be very fresh for baking?",
            "In what recipes can I use a thick coconut milk kefir?",
            "Why does refined coconut oil make cookies chewy?",
            "Undercooked center of a cheesecake baked at altitude",
            "When to bring eggs whites to room temperature?",
            "How Does a Hot Water Whipped Pie Crust Work?",
            "Oven semi-baked semi-fried potatoes starting from raw (for the lazy cook)",
            "Baking personal sized chiffon cake",
            "Best way to make pizza with limited options?",
            "Brand new KitchenAid Professional 6500 makes clicking/ticking noise when under load",
            "How can I bake muffins without an oven?",
            "Trouble making a crunchy dog treat",
            "How to make authentic black Russian bread?",
            "How to replace sugar with dry fruit in a cake recipe?",
            "Old bread-slicing tool",
            "Additional flour threshold: when and how to perform?",
            "Baking bread without yeast",
            "White spots on the dough while it was rising",
            "How much carrot is too much when baking carrot cake?",
            "Can I substitute vanilla powder for cocao in a quinoa cake recipe",
            "What is the best combination of gluten free flours to bake light and fluffy muffins?",
            "Why did this bread not expand properly?",
            "Baking with a drip pan",
            "Converting kneading recipe to no knead recipe",
            "Why not make sourdough bread from young starter?",
            "Can ghee replace butter in lemon curd?",
            "How to make profiteroles without a visible hole?",
            "Does bread flour (vs AP flour) make a big difference in the density of the dough?",
            "Why boiling water, then cold water for this shaobing recipe?",
            "How Much Milk Should I add if I Already Have Butter and Sugar in my Recipe?",
            "How to convert a bread recipe to Tangzhong Method?",
            "Why does my Heavy whipping cream pound cake have an aftertaste between flour and metallic?",
            "Replacing whole egg beating process by separated egg white and yolk beating in a recipe which calls for the former?",
            "Using proofed (?) yeast in a recipe (confused about amounts)",
            "What's the difference between brioche feuilletee and croissant dough?",
            "forgot the shortening (1/2 cup) in banana cake. How can this be served, or rescued?",
            "How can I tell whether my baking recipe has enough acid to activate the baking soda?",
            "How to coat gummies with beeswax/carnauba wax and coconut oil/palm oil?",
            "Converting Yeast Recipe to Natural Levain",
            "Malt barley powder: pancake killer?",
            "How does water behave in Dutch oven baking?",
            "My brownies are flat",
            "Can large pizzas be made in a convection oven?",
            "Why did this cake fail?",
            "Why are these bagels sticking?",
            "Are lebkuchenherzen made from the same mixture as Lebkuchen?",
            "Butter in baking",
            "Does the towel touching the day 1 starter and absorbing the liquid matter?",
            "Do modern ovens bake the same as the old ones? Is the new oven the reason popovers don't rise?",
            "Need chewiness and density added to blondies no carbs",
            "Figuring out gas oven temperature numbered 1 through 7",
            "Why did the apple skins turn blue/purple-ish in my apple pancakes the next day?",
            "Why do my macarons have a proper shape and feet, but are hollow inside?",
            "Sourdough bread uncooked from inside",
            "Pea protein in a yeast dough. No rise in oven?",
            "Whipped Cream Separates While Piping",
            "How do I substitute almond flour for all purpose flour?",
            "how to make \"Creme Caramel\" coffee flavored?",
            "baking a Souffle to make it as much liquidish as possible",
            "How to make a Cake Jumper?",
            "What type of cheese is used on Patsy's Old Fashioned Margherita Pizza",
            "What size were Baker's Chocolate bars when they were first introduced?",
            "What other cookies/biscuits were traditionally baked in shell shaped forms like this one?",
            "Is creamed butter stable for mid or long term storage?",
            "Baking bread with a firm texture that doesn't grow mold",
            "What dough recipes are suitable for \"shaping\" with a piping bag?",
            "Why did my oatmeal and raisin cookies end up tasting soapy?",
            "Weird air pockets/bubbles on bottom of cake",
            "How do I increase the amount of store bought peanut butter from 1/2 cup to 1 cup in a peanut butter brownie recipe?",
            "DIY Baking Steel?",
            "Why are Built-in/Wall Microwaves Above Ovens when Stacked?",
            "Which measuring scale should I buy?",
            "Can I bake cookies without baking paper?",
            "Frozen/Defrosted blueberries",
            "Does soaking candied fruit in bourbon change the taste?",
            "How do you decide when to deviate from baking ratios?",
            "Can I use tartaric acid in making Snickerdoodles?",
            "Rye bread in bread machine - crust very rough on top",
            "How can I reconstruct my Grandmother's recipe from just ingredients?",
            "How to substitute unsweetened coconut for sweetened coconut?",
            "Why is this croissant dough not behaving as expected?",
            "I want to halve a cream cheese cake recipe, how do I adjust the pan size, so I can keep the same cake height?",
            "How to bake extra turkey legs along with a whole turkey?",
            "How to make cake like almond squares into fudgy like Squares?",
            "Why is my sugar in my recipe becoming gritty and dry after baking in the oven. This is something new for me",
            "Why not use cornstarch instead of flour for pastries?",
            "Which is better to use baking soda or baking powder for making cakes?",
            "Baking in a salt crust: What type of fish?",
            "What's the kind of cake that have liquid frosting that drips when you open the package?",
            "do I need to adjust the cooking time for a pound cake baked in two separate bundt pans instead of one regular tube pan?",
            "How long to cook syrup for Baklava?",
            "Using decorative loaf pans"
           ],
           "legendgroup": "baking",
           "marker": {
            "color": "#636efa",
            "size": [
             1,
             4,
             1,
             2,
             1,
             5,
             1,
             1,
             2,
             4,
             1,
             2,
             1,
             4,
             1,
             1,
             5,
             2,
             2,
             2,
             0,
             1,
             2,
             3,
             1,
             2,
             3,
             3,
             1,
             1,
             3,
             2,
             2,
             5,
             2,
             1,
             2,
             3,
             1,
             2,
             1,
             2,
             3,
             2,
             2,
             2,
             1,
             0,
             1,
             1,
             1,
             2,
             1,
             3,
             0,
             1,
             2,
             4,
             1,
             0,
             1,
             3,
             2,
             1,
             0,
             1,
             0,
             1,
             1,
             0,
             3,
             1,
             0,
             0,
             1,
             1,
             0,
             1,
             6,
             1,
             0,
             2,
             1,
             0,
             1,
             1,
             2,
             2,
             1,
             2,
             1,
             2,
             1,
             3,
             1,
             1,
             1,
             1,
             3,
             5,
             1,
             1,
             1,
             2,
             2,
             2,
             3,
             1,
             1,
             1,
             1,
             1,
             1,
             2,
             1,
             4,
             1,
             2,
             1,
             3,
             1,
             1,
             1,
             1,
             1,
             7,
             1,
             1,
             1,
             2,
             1,
             1,
             2,
             2,
             1,
             2,
             1,
             1,
             1,
             1,
             2,
             1,
             2,
             1,
             1,
             1,
             1,
             0,
             0,
             1,
             3,
             1,
             1,
             3,
             1,
             1,
             1,
             7,
             1,
             1,
             1,
             2,
             2,
             1,
             2,
             3,
             2,
             1,
             2,
             2,
             1,
             3,
             1,
             2,
             2,
             5,
             1,
             1,
             1,
             1,
             5,
             4,
             0,
             1,
             1,
             2,
             0,
             1,
             1,
             3,
             1,
             1,
             2,
             1,
             1,
             1,
             1,
             1,
             1,
             2,
             1
            ],
            "sizemode": "area",
            "sizeref": 0.0525,
            "symbol": "circle"
           },
           "mode": "markers",
           "name": "baking",
           "orientation": "v",
           "showlegend": true,
           "type": "scatter",
           "x": [
            0,
            0,
            1,
            0,
            0,
            7,
            0,
            0,
            0,
            14,
            2,
            2,
            1,
            4,
            3,
            0,
            3,
            0,
            12,
            1,
            3,
            0,
            9,
            11,
            0,
            6,
            16,
            3,
            4,
            3,
            2,
            1,
            11,
            4,
            4,
            1,
            2,
            1,
            0,
            1,
            0,
            0,
            0,
            4,
            0,
            1,
            0,
            3,
            0,
            0,
            1,
            1,
            2,
            0,
            0,
            4,
            0,
            5,
            1,
            4,
            0,
            5,
            5,
            0,
            0,
            0,
            3,
            4,
            2,
            0,
            3,
            1,
            3,
            7,
            2,
            2,
            4,
            1,
            0,
            1,
            5,
            0,
            0,
            5,
            3,
            8,
            1,
            0,
            1,
            3,
            6,
            6,
            3,
            0,
            0,
            0,
            6,
            1,
            3,
            2,
            2,
            0,
            3,
            2,
            1,
            0,
            3,
            2,
            0,
            1,
            0,
            3,
            2,
            2,
            0,
            7,
            1,
            4,
            3,
            0,
            4,
            1,
            5,
            1,
            4,
            4,
            0,
            3,
            3,
            2,
            2,
            0,
            0,
            0,
            0,
            4,
            7,
            0,
            0,
            1,
            6,
            0,
            1,
            0,
            0,
            4,
            0,
            4,
            2,
            9,
            0,
            0,
            7,
            1,
            0,
            2,
            0,
            5,
            1,
            2,
            1,
            3,
            5,
            1,
            2,
            11,
            3,
            2,
            1,
            0,
            2,
            8,
            3,
            3,
            1,
            0,
            15,
            8,
            1,
            1,
            8,
            9,
            0,
            0,
            2,
            6,
            6,
            0,
            0,
            9,
            0,
            1,
            0,
            2,
            0,
            0,
            0,
            0,
            1,
            3,
            0
           ],
           "xaxis": "x",
           "y": [
            234,
            1711,
            217,
            407,
            67,
            470,
            299,
            172,
            687,
            694,
            78,
            642,
            154,
            1405,
            848,
            237,
            2746,
            13251,
            2244,
            88,
            1902,
            511,
            130,
            243,
            134,
            597,
            271,
            581,
            1733,
            136,
            585,
            3691,
            4828,
            7696,
            455,
            74,
            304,
            8959,
            1251,
            135,
            641,
            1390,
            827,
            1395,
            834,
            83,
            62,
            39,
            111,
            7392,
            3652,
            58,
            81,
            580,
            84,
            276,
            1509,
            167,
            217,
            52,
            789,
            5457,
            3507,
            107,
            61,
            212,
            53,
            205,
            3379,
            28,
            2461,
            99,
            174,
            768,
            109,
            1468,
            174,
            107,
            3639,
            146,
            141,
            397,
            137,
            760,
            665,
            459,
            557,
            517,
            225,
            145,
            1508,
            2640,
            204,
            166,
            404,
            126,
            396,
            86,
            1531,
            3525,
            1329,
            94,
            227,
            2225,
            141,
            1545,
            5291,
            532,
            95,
            749,
            89,
            197,
            1004,
            417,
            206,
            342,
            234,
            336,
            584,
            896,
            395,
            109,
            290,
            2145,
            154,
            1469,
            1680,
            919,
            104,
            100,
            148,
            709,
            504,
            3694,
            726,
            906,
            272,
            1328,
            86,
            208,
            426,
            68,
            125,
            2479,
            159,
            625,
            3515,
            37,
            165,
            345,
            1672,
            102,
            180,
            1135,
            82,
            660,
            85,
            7661,
            100,
            500,
            1890,
            322,
            941,
            165,
            428,
            3683,
            314,
            138,
            560,
            169,
            1529,
            1600,
            169,
            232,
            147,
            3038,
            753,
            206,
            1971,
            325,
            3277,
            4150,
            49,
            187,
            99,
            153,
            61,
            205,
            961,
            326,
            91,
            145,
            42,
            156,
            230,
            184,
            84,
            112,
            706,
            173,
            174
           ],
           "yaxis": "y"
          },
          {
           "hovertemplate": "<b>%{hovertext}</b><br><br>Tags=bread<br>Year=2020<br>CommentCount=%{x}<br>ViewCount=%{y}<br>AnswerCount=%{marker.size}<extra></extra>",
           "hovertext": [
            "Freeze or refrigerate bread?",
            "How can I have a dough attachment when I have a Dretec Handmixer?",
            "When is the best time to freeze bread?",
            "How to make a more apple-y apple cider yeast bread",
            "How to tell apart mold and flour on sourdough bread?",
            "How do I use beer barm to make sourdough?",
            "Does leavened bread made with yeast require gluten to rise?",
            "How to remove husk from grain?",
            "What forms the pocket in Arabic/Pita bread?",
            "What type of Bread Improver should one use for non-yeast bread?",
            "Are bread improvers really needed?",
            "Would it be a good idea to mix brown sugar with white sugar in bread?",
            "What type of baker percentage should one use for brown sugar when compared to white sugar?",
            "Freezed Expired Bread",
            "85% hydration tangzhong sourdough bread - what went wrong?",
            "What holds low temperature the best for bread baking?",
            "Can I make a sourdough boule, freeze it then thaw it and bake it?",
            "The bread is brighter than usual",
            "Kneading bread with arthritic hands-any tips?",
            "Questions about the how and when of baking homemade sourdough bread",
            "How long can a bread dough containing eggs wait before going to the oven?",
            "Is sugar a necessary ingredient to feed yeast?",
            "Should calcium propionate be disolved in a liquid when making yeast bread?",
            "What makes breads different from one another?",
            "How to make bread with plain flour?",
            "Does liquid temperature matter when making bread in a bread maker?",
            "kneading vs. stretch and fold with pizza",
            "help with consistency of dough being made in bread machine",
            "can you refrigerate risen bread dough",
            "Can tested yeast be used for anything?",
            "Why is my homemade bread molding after 2 days?",
            "Adding sugar at the end of the mixture for apple bread",
            "Question about safety of eating cooked bread if it is over or under-proofed",
            "If I shun molasses and sugar, can I still copycat Outback Steakhouse's bread?",
            "Can I add instant yeast to sourdough dough that is not very active?",
            "Attempting Tartine's basic country bread",
            "Sourdough bread crumb ripped in two",
            "Help me fix my flatbread",
            "Ciabatta with no air bubbles",
            "Why was my bread mix really dry and take ages to knead properly?",
            "Food Scientists: Please Explain the Final Dough Temperature (FDT) Formula",
            "Replicating the thin, soft crust of Portuguese Sweet Bread",
            "why does my sourdough bread have lumps of flour",
            "Flour types and their effects in levain",
            "Why does bread flour have lower protein content than all-purpose flour?",
            "While frying the cheese garlic bread on a frying pan, can a silver foil prevent the base of bread from burning?",
            "Shaping baguettes using three folds vs. rolling it up?",
            "Lack of structure in a no-knead pizza",
            "Baking lots of bread - keeping a yeast starter",
            "Water on top of biga",
            "Can I make \"starter\" with active dry yeast?",
            "Sourdough starters with different smells - is this normal?",
            "Sourdough getting too brown",
            "Very Sticky Dough Before Kneading",
            "Which sourdough starter should i keep?",
            "Bread Didn't Turn Brown",
            "Are the white dots mould or part of the bread?",
            "White dots on pizza or focaccia after baking",
            "Using pastry flour for standard sourdough bread recipe?",
            "Do I need a specific pan for baking sourdough bread?",
            "Beer in Sourdough Starter",
            "From regular fresh yeast to sourdough",
            "How can I improve my bread-scoring technique?",
            "Picking up wet dough",
            "Can you fold dough during autolyse?",
            "Baking after the first rise (without punching down) vs the regular two rise approach?",
            "Délices au Beurre (Lye Bread)",
            "Why is my dough sweaty?",
            "Why are my croissants heavy?",
            "Why is my brioche dry?",
            "Would carbonated water be a good substitute for two eggs in this cherry loaf recipe?",
            "Can I mix all-purpose flour with high-gluten flour to make bread flour?",
            "Can I make up for under-proving my bread dough during the first rise by doing an extra long second rise?",
            "Bread is not rising",
            "Sour dough using unbleached all purpose flour is very wet during the preshaping",
            "Why is ciabatta poolish usually made with instant yeast?",
            "My buns/bread don't brown from top?",
            "Can I use less sugar for making this bread?",
            "Does there exist a conversion between a sourdough and preferments recipes?",
            "Coconut bread dough is crumbly and does not come together to knead",
            "Sourdough dough collapsed, not rising again... Need help!",
            "Can i refrigerate bread doughs twice before baking?",
            "Overworking bread dough by hand",
            "Brioche bread texture",
            "How to clean up after kneading dough?",
            "How to avoid soft bottom of home-made bread?",
            "Dry crispy skin on sourdough starter: is it mold?",
            "For what culinary reason would a bread recipe choose skim milk?",
            "Substitute spelt for white flour",
            "Tortilla or flat bread breaks and ruins inflation",
            "Why do baking recipes often tell you to \"make a well\" in flour before adding wet ingredients?",
            "how to make crumpets with bigger and more holes",
            "Sticky, messy sourdough: overfermented, or ambient factors?",
            "Dough rising and oxygen. How does it work exactly?",
            "What are these white spots in my bread dough?",
            "How to avoid collapsing bread?",
            "How salty is olive brine?",
            "Bread has acidic smell and taste",
            "Capturing wild yeast for sourdough: Is this healthy yeast or contamination?",
            "Why is my baguette type bread coming out almost flat?",
            "Why my dinner rolls get dry after two days?",
            "Brand new KitchenAid Professional 6500 makes clicking/ticking noise when under load",
            "Strong Yeast Taste on Japanese Milk Bread",
            "Old bread-slicing tool",
            "What are Hull Hotcakes?",
            "Baking bread without yeast",
            "What are the different flavors of sources for homemade baker’s yeast?",
            "Why stirring an over-fermented sourdough starter caused it to rise a second time to about double the original size?",
            "How to make bread improver?",
            "My Carrot Apple Zucchini Bread is moist but it crumble when you cut it. How can I fix it?",
            "Why did this bread not expand properly?",
            "Converting kneading recipe to no knead recipe",
            "Why not make sourdough bread from young starter?",
            "Does bread flour (vs AP flour) make a big difference in the density of the dough?",
            "Is there really a tradition of some kind to eat white bread when it's hot outside and dark bread when it's cold?",
            "How Much Milk Should I add if I Already Have Butter and Sugar in my Recipe?",
            "Modifications to a sourdough recipe",
            "Keep dinner rolls brushed with olive oil overnight",
            "How can my breadmaker made wholemeal bread taste less salty?",
            "Why are my tangzhong bread doughs so wet?",
            "How does water behave in Dutch oven baking?",
            "How is mixing time influenced when using a sourdough starter?",
            "Keto King Bread Rise Problem",
            "Does the towel touching the day 1 starter and absorbing the liquid matter?",
            "container for bulk fermentation/proofing",
            "Bread and butter pudding - but with juice?",
            "Is there a difference between a lot of yeast and rising a short time vs little yeast and rising a long time?",
            "Gluten free bread initially rises but collapses into itself later",
            "Best approach to making a loaf of bread stale",
            "Is there a tool to make bread balls?",
            "Would replacing sugar with a sweetener affect bread dough fermentation?",
            "Yeast bread \"blow out\" in the oven",
            "How to (cheaply) grind wheat berries for home bread making?",
            "Baking bread with a firm texture that doesn't grow mold",
            "Is there any benefit to mixing bread dough by hand?",
            "Bread maker - is this even a collapse or did it not get started?",
            "Dough loses flexibility and strength once mixed with starter and starts raising",
            "How much does a tuppenny loaf weigh?",
            "How to make your own Granary® flour from existing ingredients?",
            "Do you fold or blend the olives in a fougasse?",
            "What type of salt for sourdough bread baking?",
            "Why does rye flour dough require more water?"
           ],
           "legendgroup": "bread",
           "marker": {
            "color": "#EF553B",
            "size": [
             1,
             1,
             3,
             5,
             1,
             2,
             1,
             1,
             1,
             0,
             1,
             1,
             1,
             0,
             1,
             0,
             1,
             2,
             8,
             3,
             3,
             2,
             1,
             1,
             6,
             3,
             1,
             1,
             1,
             2,
             5,
             2,
             2,
             2,
             3,
             1,
             1,
             2,
             0,
             2,
             1,
             2,
             2,
             1,
             2,
             1,
             1,
             2,
             2,
             0,
             0,
             3,
             2,
             3,
             1,
             0,
             1,
             0,
             2,
             4,
             1,
             2,
             1,
             5,
             1,
             3,
             0,
             1,
             0,
             1,
             1,
             1,
             1,
             3,
             2,
             1,
             2,
             1,
             1,
             2,
             2,
             1,
             1,
             1,
             5,
             1,
             1,
             1,
             2,
             2,
             2,
             0,
             4,
             0,
             3,
             1,
             2,
             1,
             1,
             4,
             0,
             1,
             1,
             1,
             1,
             7,
             1,
             1,
             1,
             0,
             1,
             2,
             2,
             1,
             1,
             1,
             1,
             1,
             1,
             1,
             1,
             0,
             1,
             1,
             2,
             2,
             2,
             0,
             2,
             1,
             1,
             0,
             1,
             2,
             1,
             1,
             0,
             2,
             1,
             2,
             4,
             1
            ],
            "sizemode": "area",
            "sizeref": 0.0525,
            "symbol": "circle"
           },
           "mode": "markers",
           "name": "bread",
           "orientation": "v",
           "showlegend": true,
           "type": "scatter",
           "x": [
            0,
            0,
            1,
            7,
            0,
            3,
            0,
            0,
            0,
            5,
            1,
            0,
            4,
            2,
            3,
            5,
            0,
            9,
            0,
            16,
            1,
            1,
            0,
            3,
            8,
            1,
            4,
            0,
            0,
            2,
            1,
            1,
            0,
            0,
            2,
            0,
            1,
            2,
            3,
            4,
            0,
            4,
            0,
            5,
            3,
            1,
            0,
            0,
            4,
            0,
            3,
            0,
            5,
            3,
            1,
            3,
            0,
            7,
            5,
            0,
            3,
            1,
            3,
            7,
            1,
            0,
            0,
            4,
            5,
            3,
            8,
            1,
            1,
            12,
            2,
            6,
            6,
            3,
            0,
            4,
            0,
            0,
            2,
            5,
            2,
            0,
            0,
            0,
            7,
            1,
            0,
            3,
            3,
            6,
            3,
            5,
            0,
            4,
            0,
            3,
            5,
            3,
            0,
            1,
            8,
            4,
            0,
            0,
            0,
            7,
            2,
            0,
            0,
            7,
            5,
            0,
            1,
            0,
            1,
            3,
            9,
            2,
            4,
            0,
            0,
            4,
            2,
            2,
            4,
            4,
            2,
            2,
            3,
            3,
            3,
            1,
            4,
            1,
            6,
            2,
            0,
            5
           ],
           "xaxis": "x",
           "y": [
            1631,
            79,
            281,
            470,
            7481,
            375,
            550,
            237,
            1616,
            1003,
            13279,
            1238,
            276,
            50,
            935,
            86,
            511,
            130,
            4238,
            271,
            10097,
            3691,
            533,
            303,
            10035,
            8959,
            658,
            56,
            1251,
            108,
            4116,
            41,
            1390,
            175,
            18344,
            89,
            360,
            700,
            39,
            172,
            205,
            421,
            3750,
            561,
            902,
            68,
            107,
            227,
            546,
            61,
            53,
            764,
            1017,
            2461,
            99,
            174,
            1059,
            768,
            1790,
            2821,
            316,
            302,
            274,
            3856,
            146,
            1159,
            24,
            529,
            760,
            665,
            459,
            1417,
            225,
            479,
            535,
            1508,
            2640,
            204,
            113,
            699,
            1191,
            126,
            244,
            792,
            3525,
            3064,
            519,
            534,
            249,
            247,
            1545,
            117,
            1567,
            1421,
            5291,
            321,
            170,
            411,
            211,
            5033,
            151,
            584,
            261,
            2145,
            338,
            1469,
            97,
            296,
            1400,
            112,
            148,
            504,
            3694,
            272,
            149,
            86,
            75,
            111,
            382,
            3065,
            345,
            80,
            1918,
            85,
            419,
            271,
            339,
            180,
            1950,
            109,
            1985,
            62,
            109,
            232,
            174,
            82,
            105,
            932,
            1774,
            111,
            3875,
            369
           ],
           "yaxis": "y"
          }
         ],
         "name": "2020"
        },
        {
         "data": [
          {
           "hovertemplate": "<b>%{hovertext}</b><br><br>Tags=baking<br>Year=2021<br>CommentCount=%{x}<br>ViewCount=%{y}<br>AnswerCount=%{marker.size}<extra></extra>",
           "hovertext": [
            "How do you make buns hollow inside for filling?",
            "Baking German white bread rolls",
            "What causes dough made from coconut flour to not stick together?",
            "How can I make sweet potato fries soggy?",
            "How do I make a cookie with a cream filling (similar to an Oreo filling)?",
            "Cookies end up with a wavy bottom",
            "How long can flour dough sit on counter?",
            "Margarine vs vegetable oil in baking",
            "What is the purpose of adding baking powder to a recipe that contains yeast?",
            "Adding xanthin gum to regular flour containing gluten",
            "How to make a meringue cake layer that is not cracked?",
            "What is a stem pan?",
            "Letting batter with baking soda wait before adding into the oven",
            "Oven features required/desirable for baking bread at home",
            "egg-wash role in having soft bread buns",
            "Fresh ground chorizo",
            "How to convert Ring Cake to Square Cake",
            "What should I do if I forgot to dry fries before baking?",
            "How to lower the melting point of a specific chocolate?",
            "Adding fresh fruit to a non fruited banana bread",
            "help understanding this recipe gluten free and vegan",
            "How do I best cut florentines from a finished (baked) baking tray?",
            "My oven seems to cook the outside faster than the inside",
            "Why is my cupcake brownie like?",
            "Using muffin/cupcake pan for basque burnt cheesecake",
            "Cocoa butter crystals in chocolate frosting",
            "Using both whipped egg whites and egg yolks vs whipped egg whites only?",
            "safety of using chamotte stone from hardware supplies store for baking",
            "Can I use liquid-form sugar to replace powdered-form sugar in meringue or sponge cake?",
            "Substitute clarified butter with sunflower spread",
            "Pie crust too soft to put in pan",
            "Does boiling water deactivate malt enzymes?",
            "Bread: Hydration change for making Wholewheat bread with oats",
            "Can pumpkin pie be made apple pie way?",
            "What could the dough of this cookie be made of?",
            "Shortening substitute that can prevent gluten growth?",
            "How to avoid excessive steam build up in oven",
            "Emeril 360 Oven. How do i disable timer when baking?",
            "Danish rye bread (rugbrød) gone wrong?",
            "Why adding soda without vinegar to the cake batter?",
            "Why is my cake sinking after baking with a soggy-like line in the middle?",
            "Using osmotolerant yeast in regular bread",
            "Cake not rising - too many wet ingredients?",
            "Storing Self-Made Cookies/Brittles/etc longer: ingredients and techniques",
            "Sourdough Starter: Very fast rise (doubles in an hour)",
            "Bread Machine Loaf does not Dome",
            "Making how much batter will result in over-mixing?",
            "I want my potatoes to be baked within an hour, but I forgot to preheat the oven. Should I put them in while preheating or not?",
            "Why do I sometimes “cream” and “beat until smooth”, and sometimes not?",
            "Did post-war Hovis bread contain treacle or black strap molasses?",
            "What is the benefit of adding vegetable oil to cheese cake dough?",
            "How to Adjust Biscotti Recipe When Using Salted Pistachios",
            "Storing cast iron in the oven",
            "What to use on top of a baking stone: parchment paper, a silicone sheet or a thin steel tray?",
            "Oven is at the correct temperature but things are baking consistently slower than recipes suggest",
            "Can I use a rectangular ceramic pan instead of enameled cast iron to bake bread without losing the nice crust?",
            "High Altitude Rye Bread",
            "Leaving cake's dry ingredients together for later quicker preparation?",
            "How much oil can flour absorb?",
            "Can I add lentils to a baked chicken-and-vegetable stew?",
            "Left over whipped cream",
            "Can one make a pourable custard by baking in an oven?",
            "Best time to benefit from dough mixed with baking soda",
            "Is there any difference between US convection ovens to ovens used in other parts of the world",
            "Bourboning up a ganache",
            "Is it a good idea to add salt to egg whites before beating them?",
            "Is cake donut mix the same as all purpose flour?",
            "Am I calculating bread dough hydration correctly?",
            "What should be added to brownies when reducing cocoa powder and vanilla extract?",
            "When does baking soda make a dough taste bitter?",
            "When downsizing a recipe for bread, do you need to cut down every ingredient equally for it to come out well?",
            "Can I half-bake muffins now, and then complete bake them the rest of the way a couple days later when I want them \"fresh\"?",
            "Is there a way to get bacon crispy if you wrap it around potatoes and stick it in the oven?",
            "Yeast in Poolish",
            "Is there a way predict proving times of dough (without experience)?",
            "using bread machine as toaster oven",
            "Baking juicier chicken breast without brining?",
            "Is a partially translucent banana safe to cook with?",
            "When a recipe calls or 1/2 cup of raisins, should the raisins be packed or not packed?",
            "Shortbread recipe rice flour to corn starch",
            "When marbling cake, can density of chocolate cake impact the rising of the vanilla cake?",
            "What is table cream? I livd in US and have never heard term",
            "Proofing container: air tight vs simple bowl",
            "Baking Bread in Dutch Oven with Hairline Crack",
            "Beating egg white and whipping cream",
            "Ignition temperature of most foods , or maximum theoretical cooking temperature ? Read below?",
            "Regular Cake Pan to Tube Pan Cook Time Conversion?",
            "Will ultrapasterized milk curdle?",
            "Temperature of a muffin pan right under a gas oven broiler",
            "Material used for Portuguese custard tart molds",
            "Proper size of Portuguese custard tart",
            "Does the addition of acid into flour inhibit gluten formation?",
            "Managing a new, overactive sourdough starter",
            "War-zone chocolate brownies (edible decor)",
            "How to stop bagel dough deflating when it is handled between its rising place, the boiling pan, and its baking place?",
            "heat-induced leavening agent",
            "Cooking liquid in oven turns crispy skin soggy",
            "Balancing biscoff spread for stuffed brownies",
            "How to make a keto-vegan pancake or cake based on almond flour?",
            "What's a good lactose-free substitute for heavy cream when baking?",
            "Basic Muffin Formula Range/Percentage",
            "Trouble with making Vegan Pastila",
            "What will happen if I make a parisian flan with all 1% milk instead of whole milk and heavy cream?",
            "Should \"bake\" or \"roast\" be used when making cakes? Heat top or bottom?",
            "Why would using a tall baking pan cause the top of a cake to be darker?"
           ],
           "legendgroup": "baking",
           "marker": {
            "color": "#636efa",
            "size": [
             0,
             1,
             2,
             2,
             1,
             1,
             1,
             2,
             1,
             0,
             1,
             3,
             3,
             4,
             2,
             1,
             2,
             2,
             1,
             1,
             2,
             2,
             3,
             1,
             1,
             0,
             1,
             2,
             1,
             3,
             1,
             1,
             3,
             2,
             1,
             2,
             3,
             0,
             1,
             1,
             1,
             2,
             1,
             3,
             2,
             2,
             2,
             6,
             2,
             0,
             0,
             3,
             1,
             2,
             3,
             3,
             0,
             3,
             1,
             1,
             0,
             2,
             1,
             1,
             1,
             1,
             1,
             3,
             1,
             2,
             1,
             2,
             1,
             1,
             1,
             1,
             2,
             1,
             1,
             3,
             1,
             1,
             1,
             1,
             1,
             1,
             1,
             2,
             1,
             1,
             1,
             3,
             1,
             6,
             0,
             3,
             3,
             1,
             3,
             4,
             2,
             1,
             1,
             3,
             2
            ],
            "sizemode": "area",
            "sizeref": 0.0525,
            "symbol": "circle"
           },
           "mode": "markers",
           "name": "baking",
           "orientation": "v",
           "showlegend": true,
           "type": "scatter",
           "x": [
            1,
            0,
            1,
            2,
            2,
            4,
            1,
            1,
            1,
            2,
            0,
            6,
            3,
            3,
            1,
            2,
            1,
            1,
            4,
            0,
            1,
            4,
            7,
            5,
            1,
            0,
            2,
            4,
            0,
            0,
            4,
            2,
            2,
            3,
            22,
            1,
            2,
            2,
            5,
            2,
            3,
            0,
            5,
            0,
            3,
            5,
            0,
            2,
            2,
            7,
            5,
            3,
            0,
            8,
            8,
            7,
            2,
            0,
            0,
            2,
            4,
            0,
            0,
            6,
            0,
            5,
            5,
            2,
            5,
            0,
            0,
            2,
            0,
            0,
            0,
            0,
            9,
            0,
            0,
            1,
            0,
            0,
            2,
            3,
            0,
            6,
            0,
            0,
            3,
            3,
            0,
            1,
            0,
            9,
            8,
            1,
            0,
            0,
            4,
            5,
            1,
            12,
            0,
            6,
            1
           ],
           "xaxis": "x",
           "y": [
            74,
            104,
            2289,
            142,
            163,
            90,
            114,
            126,
            158,
            58,
            165,
            740,
            2409,
            310,
            228,
            141,
            148,
            1157,
            452,
            278,
            103,
            209,
            640,
            149,
            96,
            82,
            600,
            1504,
            85,
            146,
            601,
            275,
            311,
            1323,
            337,
            74,
            4130,
            72,
            165,
            88,
            373,
            226,
            622,
            75,
            1034,
            890,
            87,
            9369,
            133,
            101,
            166,
            1016,
            889,
            229,
            487,
            2985,
            244,
            1102,
            238,
            134,
            102,
            157,
            70,
            315,
            716,
            2256,
            228,
            1904,
            317,
            228,
            170,
            5928,
            197,
            111,
            94,
            127,
            239,
            230,
            193,
            207,
            187,
            5661,
            257,
            242,
            2362,
            185,
            107,
            548,
            85,
            113,
            211,
            289,
            180,
            5030,
            148,
            167,
            208,
            100,
            184,
            372,
            268,
            128,
            103,
            203,
            747
           ],
           "yaxis": "y"
          },
          {
           "hovertemplate": "<b>%{hovertext}</b><br><br>Tags=bread<br>Year=2021<br>CommentCount=%{x}<br>ViewCount=%{y}<br>AnswerCount=%{marker.size}<extra></extra>",
           "hovertext": [
            "How many types of Roti are there?",
            "Sourdough bread crust will not rip open",
            "How do you make buns hollow inside for filling?",
            "Baking German white bread rolls",
            "How to make my chelsea buns more doughy",
            "Can I use the stovetop while a dough is leavening in the oven?",
            "How can I get a better looking crust on my baguettes?",
            "I made challah dough and it was still sticky after 9 cups of AP flour",
            "Reason(s) for poor bread results",
            "Reasons my sourdough attempts failed?",
            "Why do my English muffins have such a tough crust?",
            "Why don't we all eat injera? Or some other form(s) of teff?",
            "How to obtain the soft and pillowy texture in bread?",
            "One time sourdough starter",
            "Oven features required/desirable for baking bread at home",
            "Small Hard White Thing In Whole Wheat Bread - Mold Or Grain?",
            "egg-wash role in having soft bread buns",
            "Do bread bins really keep homemade breads fresh?",
            "Egg bread recipe calls for 2 eggs and 2 yolks, can I use 4 whole eggs?",
            "What do you get from boiling dough",
            "Can meat spoil outside the fridge if it's baked into bread as a filling?",
            "I'm having trouble making grilled cheese, what am I doing wrong?",
            "Bread: Hydration change for making Wholewheat bread with oats",
            "What is the reason for the automatic fruit and nut dispenser on some bread makers?",
            "What kind of dish/pastry consists of white bread with ice-cream or some sort of mousse inside?",
            "bread dough always too sticky",
            "Can I refrigerate lower hydration dough for storage like I would no-knead dough?",
            "Using osmotolerant yeast in regular bread",
            "Converting bread recipes for an overnight rise?",
            "Bread Machine Loaf does not Dome",
            "Why is my bread dough rising this quickly?",
            "Effect of ethanol concentration on bread flavor",
            "Did post-war Hovis bread contain treacle or black strap molasses?",
            "Can you make vegan garlic bread? If so, how does the use of margarine effect taste and texture?",
            "Can I use a rectangular ceramic pan instead of enameled cast iron to bake bread without losing the nice crust?",
            "What are the safety and warranty implications of steaming bread in a domestic oven?",
            "High Altitude Rye Bread",
            "Bagel Sponge: Room Temp or Proofing Temp?",
            "What does yeast do to flour?",
            "Am I calculating bread dough hydration correctly?",
            "Bread maker paddle cylinder bored round; inner flat side gone",
            "When downsizing a recipe for bread, do you need to cut down every ingredient equally for it to come out well?",
            "Yeast in Poolish",
            "What is the net (absorbable) carb content of Psyllium Husk?",
            "Is there a pattern that when sliced into bread dough - causes the bread to be fairly level?",
            "Preserve crustiness/freshness of toasted bread",
            "Is a toasty preserved ok during trip if in a backpack?",
            "How to avoid shrinking bread loaf after baking?",
            "Foil wrap cooking fully assembled burger in George Foreman grill?",
            "Proofing container: air tight vs simple bowl",
            "What are the most yeasty fruits sold in supermarkets suitable for providing yeast for making bread?",
            "Baking Bread in Dutch Oven with Hairline Crack",
            "What's the deal with split-top bread?",
            "How do you significantly reduce the calories in bread like Franz Keto bread?",
            "Does Challah bread need to be braided?",
            "How can I find T150 wheat flour in the United States?",
            "Bread dough flattens during final proof & almost no oven spring",
            "Making bread using potassium bicarbonate",
            "Deterring mold on bakery bread",
            "How to make savoury brioche bread",
            "Why does mixing the salt and yeast sometimes work?",
            "What's a good lactose-free substitute for heavy cream when baking?",
            "Yoghurt making in a bread machine",
            "Adding oil/fat to bread dough"
           ],
           "legendgroup": "bread",
           "marker": {
            "color": "#EF553B",
            "size": [
             1,
             4,
             0,
             1,
             1,
             1,
             1,
             2,
             2,
             1,
             3,
             1,
             2,
             5,
             4,
             2,
             2,
             2,
             3,
             3,
             3,
             2,
             3,
             1,
             1,
             7,
             1,
             2,
             3,
             2,
             1,
             0,
             0,
             1,
             3,
             3,
             0,
             1,
             1,
             3,
             2,
             1,
             1,
             1,
             2,
             3,
             0,
             3,
             1,
             1,
             3,
             1,
             2,
             2,
             5,
             0,
             3,
             0,
             1,
             4,
             3,
             4,
             0,
             2
            ],
            "sizemode": "area",
            "sizeref": 0.0525,
            "symbol": "circle"
           },
           "mode": "markers",
           "name": "bread",
           "orientation": "v",
           "showlegend": true,
           "type": "scatter",
           "x": [
            2,
            2,
            1,
            0,
            0,
            0,
            3,
            1,
            4,
            0,
            5,
            3,
            3,
            0,
            3,
            2,
            1,
            4,
            6,
            8,
            2,
            1,
            2,
            0,
            0,
            9,
            0,
            0,
            2,
            5,
            8,
            7,
            7,
            5,
            7,
            2,
            2,
            0,
            1,
            2,
            4,
            0,
            0,
            8,
            2,
            3,
            12,
            1,
            3,
            2,
            9,
            3,
            1,
            1,
            0,
            2,
            3,
            6,
            4,
            6,
            2,
            5,
            1,
            1
           ],
           "xaxis": "x",
           "y": [
            74,
            540,
            74,
            104,
            70,
            78,
            131,
            188,
            161,
            102,
            401,
            122,
            358,
            1566,
            310,
            2966,
            228,
            337,
            726,
            465,
            9869,
            212,
            311,
            321,
            155,
            2983,
            124,
            226,
            1967,
            890,
            198,
            207,
            101,
            180,
            2985,
            2156,
            244,
            239,
            267,
            1904,
            147,
            170,
            111,
            160,
            173,
            546,
            56,
            599,
            153,
            257,
            317,
            242,
            1302,
            1258,
            3540,
            128,
            551,
            126,
            90,
            1137,
            1101,
            372,
            32,
            965
           ],
           "yaxis": "y"
          }
         ],
         "name": "2021"
        },
        {
         "data": [
          {
           "hovertemplate": "<b>%{hovertext}</b><br><br>Tags=baking<br>Year=2022<br>CommentCount=%{x}<br>ViewCount=%{y}<br>AnswerCount=%{marker.size}<extra></extra>",
           "hovertext": [
            "What can I substitute the cocoa powder with for this mille crepe recipe?",
            "Are there any ways to make rum cookies other than baking them?",
            "Deidre's bread getting HUGE in the oven",
            "Oatmeal Peanut Butter Raisin Chocolate Chip Nut Cookies",
            "Could oat flour be the cause of gritty texture in chic chip cookies?",
            "Getting well domed muffins",
            "Do these lines in ceramic pie plate mean cracks?",
            "Beating eggs for brownie",
            "Can I bake cake in an air fryer?",
            "Clear vs tinted glass bakeware",
            "Will my expired cake mix rise?",
            "Will frozen mangos work as a substitute for apples?",
            "What are possible alternatives for parchment paper when baking cream puffs?",
            "Focaccia dough perhaps not able to get at room temp before baking",
            "Why can you eat raw oat flour but not raw wheat flour?",
            "My cake falls while baking",
            "Dutch oven vs. water pan for bread baking",
            "Can Le Creuset Dutch Oven be used in the microwave in convection mode?",
            "Refrigeration of Potatoes au Gratin",
            "Russian Recipe Help Needed!",
            "Does oven spring differ between white and sourdough breads?",
            "Zabaglione for Tiramisu",
            "Muffin casing anomaly: detachment",
            "How does no-knead bread not overproof?",
            "Why would a fully-developed dough lose consistency (elasticity / extensibility)?",
            "The right custard for baking with a cake",
            "Gluten free alternatives",
            "What is the role of oil in baked cheesecake with raisins",
            "Non-nut substitute for ground hazelnuts",
            "Is there a way to second-rise a wet dough in the same container?",
            "How long does a souffle stay up?",
            "How much does a dL of flour weigh?",
            "Is my vegan icing shelf stable?",
            "Do the conventional round ovens have any advantage over an OTG?",
            "Can I save my sourdough if I accidentally overheated it during bulk fermenting?",
            "What is the distinction between baking and roasting?",
            "What is the difference between Pate Sucree and Pate Sablee?",
            "Why are my marshmallows getting crunchy after baking?",
            "Why did the base of my tart got soggy?",
            "How long will these vegan muffins last out of the fridge?",
            "Potato with core temperature of 100C but no carbonisation",
            "How did replacing flour in muffins go so wrong?",
            "What are the dips in muffin/cupcake tins called?",
            "Why did my cheesecake fall?",
            "Why does my rye bread sink in the middle like this?",
            "Why does it take longer for food to bake when the oven is full?",
            "What is the purpose of heating peanut butter and butter when making this type of peanut butter fudge?",
            "When baking bread in a multi cooker is some water required?",
            "Can biscuit dough be left out at room temperature before baking?",
            "How to adequately secure a liquid filling in a piece of pastry?",
            "Is it possible to substitute banana for the egg when making French toast?",
            "Is baking with wheat starch similar to using other gluten free starches?",
            "Baking muffins filled with cream cheese frosting instead of cream cheese filling",
            "How do you prevent your spongecake from shrinking radially?",
            "How to make a gratin dauphinois stay together?",
            "Can you successfully use a wet filling with hot water pastry?",
            "Sifted rye flour bread why is syrup needed"
           ],
           "legendgroup": "baking",
           "marker": {
            "color": "#636efa",
            "size": [
             0,
             1,
             2,
             1,
             0,
             1,
             2,
             1,
             2,
             0,
             0,
             2,
             0,
             2,
             1,
             0,
             2,
             2,
             1,
             1,
             1,
             2,
             1,
             2,
             3,
             2,
             1,
             0,
             1,
             1,
             2,
             3,
             1,
             1,
             2,
             2,
             1,
             1,
             2,
             1,
             2,
             3,
             2,
             1,
             0,
             4,
             1,
             1,
             2,
             4,
             3,
             0,
             3,
             2,
             2,
             2,
             1
            ],
            "sizemode": "area",
            "sizeref": 0.0525,
            "symbol": "circle"
           },
           "mode": "markers",
           "name": "baking",
           "orientation": "v",
           "showlegend": true,
           "type": "scatter",
           "x": [
            3,
            1,
            15,
            0,
            3,
            0,
            0,
            3,
            0,
            2,
            2,
            5,
            0,
            5,
            2,
            9,
            1,
            7,
            6,
            2,
            0,
            1,
            0,
            5,
            5,
            0,
            7,
            3,
            2,
            11,
            1,
            2,
            2,
            1,
            1,
            0,
            1,
            1,
            1,
            2,
            1,
            6,
            8,
            1,
            2,
            3,
            1,
            0,
            0,
            3,
            5,
            2,
            3,
            0,
            4,
            1,
            2
           ],
           "xaxis": "x",
           "y": [
            74,
            136,
            570,
            50,
            93,
            181,
            3738,
            652,
            239,
            102,
            31,
            1256,
            101,
            142,
            486,
            123,
            184,
            237,
            129,
            116,
            84,
            143,
            106,
            294,
            502,
            314,
            70,
            113,
            128,
            138,
            3291,
            456,
            65,
            101,
            144,
            183,
            177,
            104,
            162,
            99,
            204,
            7536,
            294,
            196,
            76,
            3273,
            169,
            66,
            1436,
            3406,
            236,
            80,
            122,
            73,
            107,
            76,
            34
           ],
           "yaxis": "y"
          },
          {
           "hovertemplate": "<b>%{hovertext}</b><br><br>Tags=bread<br>Year=2022<br>CommentCount=%{x}<br>ViewCount=%{y}<br>AnswerCount=%{marker.size}<extra></extra>",
           "hovertext": [
            "Milk bread problem",
            "Deidre's bread getting HUGE in the oven",
            "3 day old sourdough starter splits after feeding",
            "Focaccia dough perhaps not able to get at room temp before baking",
            "Biga Bread sponge",
            "Cracked oven proof dish - trying to understand the physics of what went wrong",
            "Is my sour dough starter still good if it separates?",
            "Dutch oven vs. water pan for bread baking",
            "How can I make my baguette dough softer and more elastic?",
            "Sourdough hasn’t risen overnight",
            "White bread without the \"yeasty\" or \"bready\" flavor",
            "Can I bake bread in a Bread machine with Swad gluten free flour?",
            "Does oven spring differ between white and sourdough breads?",
            "How does no-knead bread not overproof?",
            "Why would a fully-developed dough lose consistency (elasticity / extensibility)?",
            "Preparing To Teach Someone How to Bake a Whole Wheat Yeast Bread",
            "Is it okay to feed milk powder to sourdough starter?",
            "What does adding 1 extra egg to quick bread do?",
            "Is there a way to second-rise a wet dough in the same container?",
            "How does the folding make the dough stronger?",
            "Can I save my sourdough if I accidentally overheated it during bulk fermenting?",
            "Why does my rye bread sink in the middle like this?",
            "When baking bread in a multi cooker is some water required?",
            "Is it possible to substitute banana for the egg when making French toast?",
            "Crack at the bottom of bread",
            "Levain Ratio x Sour",
            "Sifted rye flour bread why is syrup needed"
           ],
           "legendgroup": "bread",
           "marker": {
            "color": "#EF553B",
            "size": [
             0,
             2,
             1,
             2,
             1,
             2,
             1,
             2,
             2,
             2,
             2,
             1,
             1,
             2,
             3,
             1,
             0,
             1,
             1,
             4,
             2,
             0,
             1,
             3,
             2,
             0,
             1
            ],
            "sizemode": "area",
            "sizeref": 0.0525,
            "symbol": "circle"
           },
           "mode": "markers",
           "name": "bread",
           "orientation": "v",
           "showlegend": true,
           "type": "scatter",
           "x": [
            2,
            15,
            0,
            5,
            2,
            8,
            2,
            1,
            8,
            7,
            12,
            3,
            0,
            5,
            5,
            6,
            2,
            1,
            11,
            6,
            1,
            2,
            0,
            5,
            9,
            2,
            2
           ],
           "xaxis": "x",
           "y": [
            92,
            570,
            129,
            142,
            79,
            6828,
            98,
            184,
            152,
            150,
            314,
            122,
            84,
            294,
            502,
            148,
            114,
            248,
            138,
            3549,
            144,
            76,
            66,
            236,
            188,
            34,
            34
           ],
           "yaxis": "y"
          }
         ],
         "name": "2022"
        }
       ],
       "layout": {
        "legend": {
         "itemsizing": "constant",
         "title": {
          "text": "Tags"
         },
         "tracegroupgap": 0
        },
        "margin": {
         "t": 60
        },
        "sliders": [
         {
          "active": 0,
          "currentvalue": {
           "prefix": "Year="
          },
          "len": 0.9,
          "pad": {
           "b": 10,
           "t": 60
          },
          "steps": [
           {
            "args": [
             [
              "2012"
             ],
             {
              "frame": {
               "duration": 0,
               "redraw": false
              },
              "fromcurrent": true,
              "mode": "immediate",
              "transition": {
               "duration": 0,
               "easing": "linear"
              }
             }
            ],
            "label": "2012",
            "method": "animate"
           },
           {
            "args": [
             [
              "2013"
             ],
             {
              "frame": {
               "duration": 0,
               "redraw": false
              },
              "fromcurrent": true,
              "mode": "immediate",
              "transition": {
               "duration": 0,
               "easing": "linear"
              }
             }
            ],
            "label": "2013",
            "method": "animate"
           },
           {
            "args": [
             [
              "2014"
             ],
             {
              "frame": {
               "duration": 0,
               "redraw": false
              },
              "fromcurrent": true,
              "mode": "immediate",
              "transition": {
               "duration": 0,
               "easing": "linear"
              }
             }
            ],
            "label": "2014",
            "method": "animate"
           },
           {
            "args": [
             [
              "2015"
             ],
             {
              "frame": {
               "duration": 0,
               "redraw": false
              },
              "fromcurrent": true,
              "mode": "immediate",
              "transition": {
               "duration": 0,
               "easing": "linear"
              }
             }
            ],
            "label": "2015",
            "method": "animate"
           },
           {
            "args": [
             [
              "2016"
             ],
             {
              "frame": {
               "duration": 0,
               "redraw": false
              },
              "fromcurrent": true,
              "mode": "immediate",
              "transition": {
               "duration": 0,
               "easing": "linear"
              }
             }
            ],
            "label": "2016",
            "method": "animate"
           },
           {
            "args": [
             [
              "2017"
             ],
             {
              "frame": {
               "duration": 0,
               "redraw": false
              },
              "fromcurrent": true,
              "mode": "immediate",
              "transition": {
               "duration": 0,
               "easing": "linear"
              }
             }
            ],
            "label": "2017",
            "method": "animate"
           },
           {
            "args": [
             [
              "2018"
             ],
             {
              "frame": {
               "duration": 0,
               "redraw": false
              },
              "fromcurrent": true,
              "mode": "immediate",
              "transition": {
               "duration": 0,
               "easing": "linear"
              }
             }
            ],
            "label": "2018",
            "method": "animate"
           },
           {
            "args": [
             [
              "2019"
             ],
             {
              "frame": {
               "duration": 0,
               "redraw": false
              },
              "fromcurrent": true,
              "mode": "immediate",
              "transition": {
               "duration": 0,
               "easing": "linear"
              }
             }
            ],
            "label": "2019",
            "method": "animate"
           },
           {
            "args": [
             [
              "2020"
             ],
             {
              "frame": {
               "duration": 0,
               "redraw": false
              },
              "fromcurrent": true,
              "mode": "immediate",
              "transition": {
               "duration": 0,
               "easing": "linear"
              }
             }
            ],
            "label": "2020",
            "method": "animate"
           },
           {
            "args": [
             [
              "2021"
             ],
             {
              "frame": {
               "duration": 0,
               "redraw": false
              },
              "fromcurrent": true,
              "mode": "immediate",
              "transition": {
               "duration": 0,
               "easing": "linear"
              }
             }
            ],
            "label": "2021",
            "method": "animate"
           },
           {
            "args": [
             [
              "2022"
             ],
             {
              "frame": {
               "duration": 0,
               "redraw": false
              },
              "fromcurrent": true,
              "mode": "immediate",
              "transition": {
               "duration": 0,
               "easing": "linear"
              }
             }
            ],
            "label": "2022",
            "method": "animate"
           }
          ],
          "x": 0.1,
          "xanchor": "left",
          "y": 0,
          "yanchor": "top"
         }
        ],
        "template": {
         "data": {
          "bar": [
           {
            "error_x": {
             "color": "#2a3f5f"
            },
            "error_y": {
             "color": "#2a3f5f"
            },
            "marker": {
             "line": {
              "color": "#E5ECF6",
              "width": 0.5
             },
             "pattern": {
              "fillmode": "overlay",
              "size": 10,
              "solidity": 0.2
             }
            },
            "type": "bar"
           }
          ],
          "barpolar": [
           {
            "marker": {
             "line": {
              "color": "#E5ECF6",
              "width": 0.5
             },
             "pattern": {
              "fillmode": "overlay",
              "size": 10,
              "solidity": 0.2
             }
            },
            "type": "barpolar"
           }
          ],
          "carpet": [
           {
            "aaxis": {
             "endlinecolor": "#2a3f5f",
             "gridcolor": "white",
             "linecolor": "white",
             "minorgridcolor": "white",
             "startlinecolor": "#2a3f5f"
            },
            "baxis": {
             "endlinecolor": "#2a3f5f",
             "gridcolor": "white",
             "linecolor": "white",
             "minorgridcolor": "white",
             "startlinecolor": "#2a3f5f"
            },
            "type": "carpet"
           }
          ],
          "choropleth": [
           {
            "colorbar": {
             "outlinewidth": 0,
             "ticks": ""
            },
            "type": "choropleth"
           }
          ],
          "contour": [
           {
            "colorbar": {
             "outlinewidth": 0,
             "ticks": ""
            },
            "colorscale": [
             [
              0,
              "#0d0887"
             ],
             [
              0.1111111111111111,
              "#46039f"
             ],
             [
              0.2222222222222222,
              "#7201a8"
             ],
             [
              0.3333333333333333,
              "#9c179e"
             ],
             [
              0.4444444444444444,
              "#bd3786"
             ],
             [
              0.5555555555555556,
              "#d8576b"
             ],
             [
              0.6666666666666666,
              "#ed7953"
             ],
             [
              0.7777777777777778,
              "#fb9f3a"
             ],
             [
              0.8888888888888888,
              "#fdca26"
             ],
             [
              1,
              "#f0f921"
             ]
            ],
            "type": "contour"
           }
          ],
          "contourcarpet": [
           {
            "colorbar": {
             "outlinewidth": 0,
             "ticks": ""
            },
            "type": "contourcarpet"
           }
          ],
          "heatmap": [
           {
            "colorbar": {
             "outlinewidth": 0,
             "ticks": ""
            },
            "colorscale": [
             [
              0,
              "#0d0887"
             ],
             [
              0.1111111111111111,
              "#46039f"
             ],
             [
              0.2222222222222222,
              "#7201a8"
             ],
             [
              0.3333333333333333,
              "#9c179e"
             ],
             [
              0.4444444444444444,
              "#bd3786"
             ],
             [
              0.5555555555555556,
              "#d8576b"
             ],
             [
              0.6666666666666666,
              "#ed7953"
             ],
             [
              0.7777777777777778,
              "#fb9f3a"
             ],
             [
              0.8888888888888888,
              "#fdca26"
             ],
             [
              1,
              "#f0f921"
             ]
            ],
            "type": "heatmap"
           }
          ],
          "heatmapgl": [
           {
            "colorbar": {
             "outlinewidth": 0,
             "ticks": ""
            },
            "colorscale": [
             [
              0,
              "#0d0887"
             ],
             [
              0.1111111111111111,
              "#46039f"
             ],
             [
              0.2222222222222222,
              "#7201a8"
             ],
             [
              0.3333333333333333,
              "#9c179e"
             ],
             [
              0.4444444444444444,
              "#bd3786"
             ],
             [
              0.5555555555555556,
              "#d8576b"
             ],
             [
              0.6666666666666666,
              "#ed7953"
             ],
             [
              0.7777777777777778,
              "#fb9f3a"
             ],
             [
              0.8888888888888888,
              "#fdca26"
             ],
             [
              1,
              "#f0f921"
             ]
            ],
            "type": "heatmapgl"
           }
          ],
          "histogram": [
           {
            "marker": {
             "pattern": {
              "fillmode": "overlay",
              "size": 10,
              "solidity": 0.2
             }
            },
            "type": "histogram"
           }
          ],
          "histogram2d": [
           {
            "colorbar": {
             "outlinewidth": 0,
             "ticks": ""
            },
            "colorscale": [
             [
              0,
              "#0d0887"
             ],
             [
              0.1111111111111111,
              "#46039f"
             ],
             [
              0.2222222222222222,
              "#7201a8"
             ],
             [
              0.3333333333333333,
              "#9c179e"
             ],
             [
              0.4444444444444444,
              "#bd3786"
             ],
             [
              0.5555555555555556,
              "#d8576b"
             ],
             [
              0.6666666666666666,
              "#ed7953"
             ],
             [
              0.7777777777777778,
              "#fb9f3a"
             ],
             [
              0.8888888888888888,
              "#fdca26"
             ],
             [
              1,
              "#f0f921"
             ]
            ],
            "type": "histogram2d"
           }
          ],
          "histogram2dcontour": [
           {
            "colorbar": {
             "outlinewidth": 0,
             "ticks": ""
            },
            "colorscale": [
             [
              0,
              "#0d0887"
             ],
             [
              0.1111111111111111,
              "#46039f"
             ],
             [
              0.2222222222222222,
              "#7201a8"
             ],
             [
              0.3333333333333333,
              "#9c179e"
             ],
             [
              0.4444444444444444,
              "#bd3786"
             ],
             [
              0.5555555555555556,
              "#d8576b"
             ],
             [
              0.6666666666666666,
              "#ed7953"
             ],
             [
              0.7777777777777778,
              "#fb9f3a"
             ],
             [
              0.8888888888888888,
              "#fdca26"
             ],
             [
              1,
              "#f0f921"
             ]
            ],
            "type": "histogram2dcontour"
           }
          ],
          "mesh3d": [
           {
            "colorbar": {
             "outlinewidth": 0,
             "ticks": ""
            },
            "type": "mesh3d"
           }
          ],
          "parcoords": [
           {
            "line": {
             "colorbar": {
              "outlinewidth": 0,
              "ticks": ""
             }
            },
            "type": "parcoords"
           }
          ],
          "pie": [
           {
            "automargin": true,
            "type": "pie"
           }
          ],
          "scatter": [
           {
            "fillpattern": {
             "fillmode": "overlay",
             "size": 10,
             "solidity": 0.2
            },
            "type": "scatter"
           }
          ],
          "scatter3d": [
           {
            "line": {
             "colorbar": {
              "outlinewidth": 0,
              "ticks": ""
             }
            },
            "marker": {
             "colorbar": {
              "outlinewidth": 0,
              "ticks": ""
             }
            },
            "type": "scatter3d"
           }
          ],
          "scattercarpet": [
           {
            "marker": {
             "colorbar": {
              "outlinewidth": 0,
              "ticks": ""
             }
            },
            "type": "scattercarpet"
           }
          ],
          "scattergeo": [
           {
            "marker": {
             "colorbar": {
              "outlinewidth": 0,
              "ticks": ""
             }
            },
            "type": "scattergeo"
           }
          ],
          "scattergl": [
           {
            "marker": {
             "colorbar": {
              "outlinewidth": 0,
              "ticks": ""
             }
            },
            "type": "scattergl"
           }
          ],
          "scattermapbox": [
           {
            "marker": {
             "colorbar": {
              "outlinewidth": 0,
              "ticks": ""
             }
            },
            "type": "scattermapbox"
           }
          ],
          "scatterpolar": [
           {
            "marker": {
             "colorbar": {
              "outlinewidth": 0,
              "ticks": ""
             }
            },
            "type": "scatterpolar"
           }
          ],
          "scatterpolargl": [
           {
            "marker": {
             "colorbar": {
              "outlinewidth": 0,
              "ticks": ""
             }
            },
            "type": "scatterpolargl"
           }
          ],
          "scatterternary": [
           {
            "marker": {
             "colorbar": {
              "outlinewidth": 0,
              "ticks": ""
             }
            },
            "type": "scatterternary"
           }
          ],
          "surface": [
           {
            "colorbar": {
             "outlinewidth": 0,
             "ticks": ""
            },
            "colorscale": [
             [
              0,
              "#0d0887"
             ],
             [
              0.1111111111111111,
              "#46039f"
             ],
             [
              0.2222222222222222,
              "#7201a8"
             ],
             [
              0.3333333333333333,
              "#9c179e"
             ],
             [
              0.4444444444444444,
              "#bd3786"
             ],
             [
              0.5555555555555556,
              "#d8576b"
             ],
             [
              0.6666666666666666,
              "#ed7953"
             ],
             [
              0.7777777777777778,
              "#fb9f3a"
             ],
             [
              0.8888888888888888,
              "#fdca26"
             ],
             [
              1,
              "#f0f921"
             ]
            ],
            "type": "surface"
           }
          ],
          "table": [
           {
            "cells": {
             "fill": {
              "color": "#EBF0F8"
             },
             "line": {
              "color": "white"
             }
            },
            "header": {
             "fill": {
              "color": "#C8D4E3"
             },
             "line": {
              "color": "white"
             }
            },
            "type": "table"
           }
          ]
         },
         "layout": {
          "annotationdefaults": {
           "arrowcolor": "#2a3f5f",
           "arrowhead": 0,
           "arrowwidth": 1
          },
          "autotypenumbers": "strict",
          "coloraxis": {
           "colorbar": {
            "outlinewidth": 0,
            "ticks": ""
           }
          },
          "colorscale": {
           "diverging": [
            [
             0,
             "#8e0152"
            ],
            [
             0.1,
             "#c51b7d"
            ],
            [
             0.2,
             "#de77ae"
            ],
            [
             0.3,
             "#f1b6da"
            ],
            [
             0.4,
             "#fde0ef"
            ],
            [
             0.5,
             "#f7f7f7"
            ],
            [
             0.6,
             "#e6f5d0"
            ],
            [
             0.7,
             "#b8e186"
            ],
            [
             0.8,
             "#7fbc41"
            ],
            [
             0.9,
             "#4d9221"
            ],
            [
             1,
             "#276419"
            ]
           ],
           "sequential": [
            [
             0,
             "#0d0887"
            ],
            [
             0.1111111111111111,
             "#46039f"
            ],
            [
             0.2222222222222222,
             "#7201a8"
            ],
            [
             0.3333333333333333,
             "#9c179e"
            ],
            [
             0.4444444444444444,
             "#bd3786"
            ],
            [
             0.5555555555555556,
             "#d8576b"
            ],
            [
             0.6666666666666666,
             "#ed7953"
            ],
            [
             0.7777777777777778,
             "#fb9f3a"
            ],
            [
             0.8888888888888888,
             "#fdca26"
            ],
            [
             1,
             "#f0f921"
            ]
           ],
           "sequentialminus": [
            [
             0,
             "#0d0887"
            ],
            [
             0.1111111111111111,
             "#46039f"
            ],
            [
             0.2222222222222222,
             "#7201a8"
            ],
            [
             0.3333333333333333,
             "#9c179e"
            ],
            [
             0.4444444444444444,
             "#bd3786"
            ],
            [
             0.5555555555555556,
             "#d8576b"
            ],
            [
             0.6666666666666666,
             "#ed7953"
            ],
            [
             0.7777777777777778,
             "#fb9f3a"
            ],
            [
             0.8888888888888888,
             "#fdca26"
            ],
            [
             1,
             "#f0f921"
            ]
           ]
          },
          "colorway": [
           "#636efa",
           "#EF553B",
           "#00cc96",
           "#ab63fa",
           "#FFA15A",
           "#19d3f3",
           "#FF6692",
           "#B6E880",
           "#FF97FF",
           "#FECB52"
          ],
          "font": {
           "color": "#2a3f5f"
          },
          "geo": {
           "bgcolor": "white",
           "lakecolor": "white",
           "landcolor": "#E5ECF6",
           "showlakes": true,
           "showland": true,
           "subunitcolor": "white"
          },
          "hoverlabel": {
           "align": "left"
          },
          "hovermode": "closest",
          "mapbox": {
           "style": "light"
          },
          "paper_bgcolor": "white",
          "plot_bgcolor": "#E5ECF6",
          "polar": {
           "angularaxis": {
            "gridcolor": "white",
            "linecolor": "white",
            "ticks": ""
           },
           "bgcolor": "#E5ECF6",
           "radialaxis": {
            "gridcolor": "white",
            "linecolor": "white",
            "ticks": ""
           }
          },
          "scene": {
           "xaxis": {
            "backgroundcolor": "#E5ECF6",
            "gridcolor": "white",
            "gridwidth": 2,
            "linecolor": "white",
            "showbackground": true,
            "ticks": "",
            "zerolinecolor": "white"
           },
           "yaxis": {
            "backgroundcolor": "#E5ECF6",
            "gridcolor": "white",
            "gridwidth": 2,
            "linecolor": "white",
            "showbackground": true,
            "ticks": "",
            "zerolinecolor": "white"
           },
           "zaxis": {
            "backgroundcolor": "#E5ECF6",
            "gridcolor": "white",
            "gridwidth": 2,
            "linecolor": "white",
            "showbackground": true,
            "ticks": "",
            "zerolinecolor": "white"
           }
          },
          "shapedefaults": {
           "line": {
            "color": "#2a3f5f"
           }
          },
          "ternary": {
           "aaxis": {
            "gridcolor": "white",
            "linecolor": "white",
            "ticks": ""
           },
           "baxis": {
            "gridcolor": "white",
            "linecolor": "white",
            "ticks": ""
           },
           "bgcolor": "#E5ECF6",
           "caxis": {
            "gridcolor": "white",
            "linecolor": "white",
            "ticks": ""
           }
          },
          "title": {
           "x": 0.05
          },
          "xaxis": {
           "automargin": true,
           "gridcolor": "white",
           "linecolor": "white",
           "ticks": "",
           "title": {
            "standoff": 15
           },
           "zerolinecolor": "white",
           "zerolinewidth": 2
          },
          "yaxis": {
           "automargin": true,
           "gridcolor": "white",
           "linecolor": "white",
           "ticks": "",
           "title": {
            "standoff": 15
           },
           "zerolinecolor": "white",
           "zerolinewidth": 2
          }
         }
        },
        "updatemenus": [
         {
          "buttons": [
           {
            "args": [
             null,
             {
              "frame": {
               "duration": 500,
               "redraw": false
              },
              "fromcurrent": true,
              "mode": "immediate",
              "transition": {
               "duration": 500,
               "easing": "linear"
              }
             }
            ],
            "label": "&#9654;",
            "method": "animate"
           },
           {
            "args": [
             [
              null
             ],
             {
              "frame": {
               "duration": 0,
               "redraw": false
              },
              "fromcurrent": true,
              "mode": "immediate",
              "transition": {
               "duration": 0,
               "easing": "linear"
              }
             }
            ],
            "label": "&#9724;",
            "method": "animate"
           }
          ],
          "direction": "left",
          "pad": {
           "r": 10,
           "t": 70
          },
          "showactive": false,
          "type": "buttons",
          "x": 0.1,
          "xanchor": "right",
          "y": 0,
          "yanchor": "top"
         }
        ],
        "xaxis": {
         "anchor": "y",
         "domain": [
          0,
          1
         ],
         "title": {
          "text": "CommentCount"
         }
        },
        "yaxis": {
         "anchor": "x",
         "domain": [
          0,
          1
         ],
         "title": {
          "text": "ViewCount"
         },
         "type": "log"
        }
       }
      }
     },
     "metadata": {},
     "output_type": "display_data"
    }
   ],
   "source": [
    "fig = px.scatter(mydf,\n",
    "              x=\"CommentCount\",\n",
    "              y=\"ViewCount\",\n",
    "              color=\"Tags\",\n",
    "              size=\"AnswerCount\",\n",
    "              hover_name=\"Title\",\n",
    "              log_y=True,\n",
    "              animation_frame=mydf.Year,\n",
    "              #animation_group=\"Tags\",\n",
    ")\n",
    "\n",
    "fig.show()"
   ]
  },
  {
   "cell_type": "code",
   "execution_count": 30,
   "metadata": {},
   "outputs": [],
   "source": [
    "fig.write_html('scatter.html')"
   ]
  }
 ],
 "metadata": {
  "kernelspec": {
   "display_name": "Python 3.10.6 ('.venv': poetry)",
   "language": "python",
   "name": "python3"
  },
  "language_info": {
   "codemirror_mode": {
    "name": "ipython",
    "version": 3
   },
   "file_extension": ".py",
   "mimetype": "text/x-python",
   "name": "python",
   "nbconvert_exporter": "python",
   "pygments_lexer": "ipython3",
   "version": "3.10.6"
  },
  "orig_nbformat": 4,
  "vscode": {
   "interpreter": {
    "hash": "eb5b28021a7ca83825e4531411d54af5e1c54edb8d829f2971db53db85b849dd"
   }
  }
 },
 "nbformat": 4,
 "nbformat_minor": 2
}
